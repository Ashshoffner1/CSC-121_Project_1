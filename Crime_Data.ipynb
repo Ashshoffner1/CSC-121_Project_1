{
 "cells": [
  {
   "cell_type": "code",
   "execution_count": 25,
   "id": "1677a564-37b3-4605-8e94-277ec3c2757e",
   "metadata": {},
   "outputs": [],
   "source": [
    "import pandas as pd\n",
    "import numpy as np\n",
    "import os\n",
    "import seaborn as sns\n",
    "import matplotlib as mpl\n",
    "import matplotlib.pyplot as plt\n",
    "import plotly.express as px"
   ]
  },
  {
   "cell_type": "code",
   "execution_count": 159,
   "id": "24111d5b-b492-458a-9444-2f85306c9538",
   "metadata": {},
   "outputs": [
    {
     "name": "stdout",
     "output_type": "stream",
     "text": [
      "Index(['INCIDENT_NUMBER', 'OFFENSE_CODE', 'OFFENSE_CODE_GROUP',\n",
      "       'OFFENSE_DESCRIPTION', 'DISTRICT', 'REPORTING_AREA', 'SHOOTING',\n",
      "       'OCCURRED_ON_DATE', 'YEAR', 'MONTH', 'DAY_OF_WEEK', 'HOUR', 'UCR_PART',\n",
      "       'STREET', 'Lat', 'Long', 'Location'],\n",
      "      dtype='object')\n",
      "(319073, 17)\n"
     ]
    }
   ],
   "source": [
    "df = pd.read_csv('crime.csv',encoding='latin-1')\n",
    "print(df.columns)\n",
    "print(df.shape)"
   ]
  },
  {
   "cell_type": "code",
   "execution_count": 161,
   "id": "bcdbf29c-f926-409d-8676-cab6a3b81b5b",
   "metadata": {},
   "outputs": [
    {
     "name": "stdout",
     "output_type": "stream",
     "text": [
      "(319073, 6)\n"
     ]
    }
   ],
   "source": [
    "columns_keep = [\n",
    "    'OFFENSE_CODE',\n",
    "    'OFFENSE_DESCRIPTION',\n",
    "    'OCCURRED_ON_DATE',\n",
    "    'YEAR',\n",
    "    'MONTH',\n",
    "    'DAY_OF_WEEK',\n",
    "]\n",
    "df = df[columns_keep]\n",
    "print(df.shape)"
   ]
  },
  {
   "cell_type": "code",
   "execution_count": 163,
   "id": "dedc7375-10f2-48f1-b3f2-9393351e2a84",
   "metadata": {},
   "outputs": [],
   "source": [
    "col_mapping = {\n",
    "    'OFFENSE_CODE': 'offense_code',\n",
    "    'OFFENSE_DESCRIPTION': 'description',\n",
    "    'OCCURRED_ON_DATE': 'date',\n",
    "    'YEAR': 'year',\n",
    "    'MONTH' : 'month',\n",
    "    'DAY_OF_WEEK': 'day_of_week',\n",
    "}\n",
    "df.rename(columns=col_mapping, inplace=True)"
   ]
  },
  {
   "cell_type": "code",
   "execution_count": 165,
   "id": "52d8ef48-130a-4bfe-9a49-7f90477712f6",
   "metadata": {},
   "outputs": [
    {
     "data": {
      "text/html": [
       "<div>\n",
       "<style scoped>\n",
       "    .dataframe tbody tr th:only-of-type {\n",
       "        vertical-align: middle;\n",
       "    }\n",
       "\n",
       "    .dataframe tbody tr th {\n",
       "        vertical-align: top;\n",
       "    }\n",
       "\n",
       "    .dataframe thead th {\n",
       "        text-align: right;\n",
       "    }\n",
       "</style>\n",
       "<table border=\"1\" class=\"dataframe\">\n",
       "  <thead>\n",
       "    <tr style=\"text-align: right;\">\n",
       "      <th></th>\n",
       "      <th>offense_code</th>\n",
       "      <th>description</th>\n",
       "      <th>date</th>\n",
       "      <th>year</th>\n",
       "      <th>month</th>\n",
       "      <th>day_of_week</th>\n",
       "    </tr>\n",
       "  </thead>\n",
       "  <tbody>\n",
       "    <tr>\n",
       "      <th>0</th>\n",
       "      <td>619</td>\n",
       "      <td>LARCENY ALL OTHERS</td>\n",
       "      <td>2018-09-02 13:00:00</td>\n",
       "      <td>2018</td>\n",
       "      <td>9</td>\n",
       "      <td>Sunday</td>\n",
       "    </tr>\n",
       "    <tr>\n",
       "      <th>1</th>\n",
       "      <td>1402</td>\n",
       "      <td>VANDALISM</td>\n",
       "      <td>2018-08-21 00:00:00</td>\n",
       "      <td>2018</td>\n",
       "      <td>8</td>\n",
       "      <td>Tuesday</td>\n",
       "    </tr>\n",
       "    <tr>\n",
       "      <th>2</th>\n",
       "      <td>3410</td>\n",
       "      <td>TOWED MOTOR VEHICLE</td>\n",
       "      <td>2018-09-03 19:27:00</td>\n",
       "      <td>2018</td>\n",
       "      <td>9</td>\n",
       "      <td>Monday</td>\n",
       "    </tr>\n",
       "    <tr>\n",
       "      <th>3</th>\n",
       "      <td>3114</td>\n",
       "      <td>INVESTIGATE PROPERTY</td>\n",
       "      <td>2018-09-03 21:16:00</td>\n",
       "      <td>2018</td>\n",
       "      <td>9</td>\n",
       "      <td>Monday</td>\n",
       "    </tr>\n",
       "    <tr>\n",
       "      <th>4</th>\n",
       "      <td>3114</td>\n",
       "      <td>INVESTIGATE PROPERTY</td>\n",
       "      <td>2018-09-03 21:05:00</td>\n",
       "      <td>2018</td>\n",
       "      <td>9</td>\n",
       "      <td>Monday</td>\n",
       "    </tr>\n",
       "    <tr>\n",
       "      <th>...</th>\n",
       "      <td>...</td>\n",
       "      <td>...</td>\n",
       "      <td>...</td>\n",
       "      <td>...</td>\n",
       "      <td>...</td>\n",
       "      <td>...</td>\n",
       "    </tr>\n",
       "    <tr>\n",
       "      <th>319068</th>\n",
       "      <td>3125</td>\n",
       "      <td>WARRANT ARREST</td>\n",
       "      <td>2016-06-05 17:25:00</td>\n",
       "      <td>2016</td>\n",
       "      <td>6</td>\n",
       "      <td>Sunday</td>\n",
       "    </tr>\n",
       "    <tr>\n",
       "      <th>319069</th>\n",
       "      <td>111</td>\n",
       "      <td>MURDER, NON-NEGLIGIENT MANSLAUGHTER</td>\n",
       "      <td>2015-07-09 13:38:00</td>\n",
       "      <td>2015</td>\n",
       "      <td>7</td>\n",
       "      <td>Thursday</td>\n",
       "    </tr>\n",
       "    <tr>\n",
       "      <th>319070</th>\n",
       "      <td>3125</td>\n",
       "      <td>WARRANT ARREST</td>\n",
       "      <td>2015-07-09 13:38:00</td>\n",
       "      <td>2015</td>\n",
       "      <td>7</td>\n",
       "      <td>Thursday</td>\n",
       "    </tr>\n",
       "    <tr>\n",
       "      <th>319071</th>\n",
       "      <td>3125</td>\n",
       "      <td>WARRANT ARREST</td>\n",
       "      <td>2016-05-31 19:35:00</td>\n",
       "      <td>2016</td>\n",
       "      <td>5</td>\n",
       "      <td>Tuesday</td>\n",
       "    </tr>\n",
       "    <tr>\n",
       "      <th>319072</th>\n",
       "      <td>3125</td>\n",
       "      <td>WARRANT ARREST</td>\n",
       "      <td>2015-06-22 00:12:00</td>\n",
       "      <td>2015</td>\n",
       "      <td>6</td>\n",
       "      <td>Monday</td>\n",
       "    </tr>\n",
       "  </tbody>\n",
       "</table>\n",
       "<p>319073 rows × 6 columns</p>\n",
       "</div>"
      ],
      "text/plain": [
       "        offense_code                          description  \\\n",
       "0                619                   LARCENY ALL OTHERS   \n",
       "1               1402                            VANDALISM   \n",
       "2               3410                  TOWED MOTOR VEHICLE   \n",
       "3               3114                 INVESTIGATE PROPERTY   \n",
       "4               3114                 INVESTIGATE PROPERTY   \n",
       "...              ...                                  ...   \n",
       "319068          3125                       WARRANT ARREST   \n",
       "319069           111  MURDER, NON-NEGLIGIENT MANSLAUGHTER   \n",
       "319070          3125                       WARRANT ARREST   \n",
       "319071          3125                       WARRANT ARREST   \n",
       "319072          3125                       WARRANT ARREST   \n",
       "\n",
       "                       date  year  month day_of_week  \n",
       "0       2018-09-02 13:00:00  2018      9      Sunday  \n",
       "1       2018-08-21 00:00:00  2018      8     Tuesday  \n",
       "2       2018-09-03 19:27:00  2018      9      Monday  \n",
       "3       2018-09-03 21:16:00  2018      9      Monday  \n",
       "4       2018-09-03 21:05:00  2018      9      Monday  \n",
       "...                     ...   ...    ...         ...  \n",
       "319068  2016-06-05 17:25:00  2016      6      Sunday  \n",
       "319069  2015-07-09 13:38:00  2015      7    Thursday  \n",
       "319070  2015-07-09 13:38:00  2015      7    Thursday  \n",
       "319071  2016-05-31 19:35:00  2016      5     Tuesday  \n",
       "319072  2015-06-22 00:12:00  2015      6      Monday  \n",
       "\n",
       "[319073 rows x 6 columns]"
      ]
     },
     "execution_count": 165,
     "metadata": {},
     "output_type": "execute_result"
    }
   ],
   "source": [
    "df"
   ]
  },
  {
   "cell_type": "code",
   "execution_count": 167,
   "id": "402b0449-593d-49d7-99e5-6d7d4c2eaa1e",
   "metadata": {},
   "outputs": [
    {
     "data": {
      "text/plain": [
       "0         False\n",
       "1         False\n",
       "2         False\n",
       "3         False\n",
       "4         False\n",
       "          ...  \n",
       "319068    False\n",
       "319069    False\n",
       "319070    False\n",
       "319071    False\n",
       "319072    False\n",
       "Length: 319073, dtype: bool"
      ]
     },
     "execution_count": 167,
     "metadata": {},
     "output_type": "execute_result"
    }
   ],
   "source": [
    "unique_list = df.duplicated(keep=False)\n",
    "unique_list"
   ]
  },
  {
   "cell_type": "code",
   "execution_count": 169,
   "id": "8aec405a-9fea-4a6a-9de4-d62374adca75",
   "metadata": {},
   "outputs": [
    {
     "data": {
      "text/html": [
       "<div>\n",
       "<style scoped>\n",
       "    .dataframe tbody tr th:only-of-type {\n",
       "        vertical-align: middle;\n",
       "    }\n",
       "\n",
       "    .dataframe tbody tr th {\n",
       "        vertical-align: top;\n",
       "    }\n",
       "\n",
       "    .dataframe thead th {\n",
       "        text-align: right;\n",
       "    }\n",
       "</style>\n",
       "<table border=\"1\" class=\"dataframe\">\n",
       "  <thead>\n",
       "    <tr style=\"text-align: right;\">\n",
       "      <th></th>\n",
       "      <th>offense_code</th>\n",
       "      <th>description</th>\n",
       "      <th>date</th>\n",
       "      <th>year</th>\n",
       "      <th>month</th>\n",
       "      <th>day_of_week</th>\n",
       "    </tr>\n",
       "  </thead>\n",
       "  <tbody>\n",
       "    <tr>\n",
       "      <th>0</th>\n",
       "      <td>619</td>\n",
       "      <td>LARCENY ALL OTHERS</td>\n",
       "      <td>2018-09-02 13:00:00</td>\n",
       "      <td>2018</td>\n",
       "      <td>9</td>\n",
       "      <td>Sunday</td>\n",
       "    </tr>\n",
       "    <tr>\n",
       "      <th>1</th>\n",
       "      <td>1402</td>\n",
       "      <td>VANDALISM</td>\n",
       "      <td>2018-08-21 00:00:00</td>\n",
       "      <td>2018</td>\n",
       "      <td>8</td>\n",
       "      <td>Tuesday</td>\n",
       "    </tr>\n",
       "    <tr>\n",
       "      <th>2</th>\n",
       "      <td>3410</td>\n",
       "      <td>TOWED MOTOR VEHICLE</td>\n",
       "      <td>2018-09-03 19:27:00</td>\n",
       "      <td>2018</td>\n",
       "      <td>9</td>\n",
       "      <td>Monday</td>\n",
       "    </tr>\n",
       "    <tr>\n",
       "      <th>3</th>\n",
       "      <td>3114</td>\n",
       "      <td>INVESTIGATE PROPERTY</td>\n",
       "      <td>2018-09-03 21:16:00</td>\n",
       "      <td>2018</td>\n",
       "      <td>9</td>\n",
       "      <td>Monday</td>\n",
       "    </tr>\n",
       "    <tr>\n",
       "      <th>4</th>\n",
       "      <td>3114</td>\n",
       "      <td>INVESTIGATE PROPERTY</td>\n",
       "      <td>2018-09-03 21:05:00</td>\n",
       "      <td>2018</td>\n",
       "      <td>9</td>\n",
       "      <td>Monday</td>\n",
       "    </tr>\n",
       "    <tr>\n",
       "      <th>...</th>\n",
       "      <td>...</td>\n",
       "      <td>...</td>\n",
       "      <td>...</td>\n",
       "      <td>...</td>\n",
       "      <td>...</td>\n",
       "      <td>...</td>\n",
       "    </tr>\n",
       "    <tr>\n",
       "      <th>319068</th>\n",
       "      <td>3125</td>\n",
       "      <td>WARRANT ARREST</td>\n",
       "      <td>2016-06-05 17:25:00</td>\n",
       "      <td>2016</td>\n",
       "      <td>6</td>\n",
       "      <td>Sunday</td>\n",
       "    </tr>\n",
       "    <tr>\n",
       "      <th>319069</th>\n",
       "      <td>111</td>\n",
       "      <td>MURDER, NON-NEGLIGIENT MANSLAUGHTER</td>\n",
       "      <td>2015-07-09 13:38:00</td>\n",
       "      <td>2015</td>\n",
       "      <td>7</td>\n",
       "      <td>Thursday</td>\n",
       "    </tr>\n",
       "    <tr>\n",
       "      <th>319070</th>\n",
       "      <td>3125</td>\n",
       "      <td>WARRANT ARREST</td>\n",
       "      <td>2015-07-09 13:38:00</td>\n",
       "      <td>2015</td>\n",
       "      <td>7</td>\n",
       "      <td>Thursday</td>\n",
       "    </tr>\n",
       "    <tr>\n",
       "      <th>319071</th>\n",
       "      <td>3125</td>\n",
       "      <td>WARRANT ARREST</td>\n",
       "      <td>2016-05-31 19:35:00</td>\n",
       "      <td>2016</td>\n",
       "      <td>5</td>\n",
       "      <td>Tuesday</td>\n",
       "    </tr>\n",
       "    <tr>\n",
       "      <th>319072</th>\n",
       "      <td>3125</td>\n",
       "      <td>WARRANT ARREST</td>\n",
       "      <td>2015-06-22 00:12:00</td>\n",
       "      <td>2015</td>\n",
       "      <td>6</td>\n",
       "      <td>Monday</td>\n",
       "    </tr>\n",
       "  </tbody>\n",
       "</table>\n",
       "<p>319073 rows × 6 columns</p>\n",
       "</div>"
      ],
      "text/plain": [
       "        offense_code                          description  \\\n",
       "0                619                   LARCENY ALL OTHERS   \n",
       "1               1402                            VANDALISM   \n",
       "2               3410                  TOWED MOTOR VEHICLE   \n",
       "3               3114                 INVESTIGATE PROPERTY   \n",
       "4               3114                 INVESTIGATE PROPERTY   \n",
       "...              ...                                  ...   \n",
       "319068          3125                       WARRANT ARREST   \n",
       "319069           111  MURDER, NON-NEGLIGIENT MANSLAUGHTER   \n",
       "319070          3125                       WARRANT ARREST   \n",
       "319071          3125                       WARRANT ARREST   \n",
       "319072          3125                       WARRANT ARREST   \n",
       "\n",
       "                       date  year  month day_of_week  \n",
       "0       2018-09-02 13:00:00  2018      9      Sunday  \n",
       "1       2018-08-21 00:00:00  2018      8     Tuesday  \n",
       "2       2018-09-03 19:27:00  2018      9      Monday  \n",
       "3       2018-09-03 21:16:00  2018      9      Monday  \n",
       "4       2018-09-03 21:05:00  2018      9      Monday  \n",
       "...                     ...   ...    ...         ...  \n",
       "319068  2016-06-05 17:25:00  2016      6      Sunday  \n",
       "319069  2015-07-09 13:38:00  2015      7    Thursday  \n",
       "319070  2015-07-09 13:38:00  2015      7    Thursday  \n",
       "319071  2016-05-31 19:35:00  2016      5     Tuesday  \n",
       "319072  2015-06-22 00:12:00  2015      6      Monday  \n",
       "\n",
       "[319073 rows x 6 columns]"
      ]
     },
     "execution_count": 169,
     "metadata": {},
     "output_type": "execute_result"
    }
   ],
   "source": [
    "df[df.duplicated(keep=False)]\n",
    "df"
   ]
  },
  {
   "cell_type": "code",
   "execution_count": 179,
   "id": "5cc7b88a-e871-4e51-b735-b12701431947",
   "metadata": {},
   "outputs": [
    {
     "data": {
      "text/plain": [
       "offense_code    0\n",
       "description     0\n",
       "date            0\n",
       "year            0\n",
       "month           0\n",
       "day_of_week     0\n",
       "dtype: int64"
      ]
     },
     "execution_count": 179,
     "metadata": {},
     "output_type": "execute_result"
    }
   ],
   "source": [
    "df.isnull().sum()#Removed 3 rows. District, Street , and Shootings"
   ]
  },
  {
   "cell_type": "code",
   "execution_count": 177,
   "id": "8e9e2d1f-350c-4d1a-9918-916b8bf34e09",
   "metadata": {},
   "outputs": [
    {
     "data": {
      "text/html": [
       "<div>\n",
       "<style scoped>\n",
       "    .dataframe tbody tr th:only-of-type {\n",
       "        vertical-align: middle;\n",
       "    }\n",
       "\n",
       "    .dataframe tbody tr th {\n",
       "        vertical-align: top;\n",
       "    }\n",
       "\n",
       "    .dataframe thead th {\n",
       "        text-align: right;\n",
       "    }\n",
       "</style>\n",
       "<table border=\"1\" class=\"dataframe\">\n",
       "  <thead>\n",
       "    <tr style=\"text-align: right;\">\n",
       "      <th></th>\n",
       "      <th>offense_code</th>\n",
       "      <th>year</th>\n",
       "      <th>month</th>\n",
       "    </tr>\n",
       "  </thead>\n",
       "  <tbody>\n",
       "    <tr>\n",
       "      <th>count</th>\n",
       "      <td>319073.000000</td>\n",
       "      <td>319073.000000</td>\n",
       "      <td>319073.000000</td>\n",
       "    </tr>\n",
       "    <tr>\n",
       "      <th>mean</th>\n",
       "      <td>2317.546956</td>\n",
       "      <td>2016.560586</td>\n",
       "      <td>6.609719</td>\n",
       "    </tr>\n",
       "    <tr>\n",
       "      <th>std</th>\n",
       "      <td>1185.285543</td>\n",
       "      <td>0.996344</td>\n",
       "      <td>3.273691</td>\n",
       "    </tr>\n",
       "    <tr>\n",
       "      <th>min</th>\n",
       "      <td>111.000000</td>\n",
       "      <td>2015.000000</td>\n",
       "      <td>1.000000</td>\n",
       "    </tr>\n",
       "    <tr>\n",
       "      <th>25%</th>\n",
       "      <td>1001.000000</td>\n",
       "      <td>2016.000000</td>\n",
       "      <td>4.000000</td>\n",
       "    </tr>\n",
       "    <tr>\n",
       "      <th>50%</th>\n",
       "      <td>2907.000000</td>\n",
       "      <td>2017.000000</td>\n",
       "      <td>7.000000</td>\n",
       "    </tr>\n",
       "    <tr>\n",
       "      <th>75%</th>\n",
       "      <td>3201.000000</td>\n",
       "      <td>2017.000000</td>\n",
       "      <td>9.000000</td>\n",
       "    </tr>\n",
       "    <tr>\n",
       "      <th>max</th>\n",
       "      <td>3831.000000</td>\n",
       "      <td>2018.000000</td>\n",
       "      <td>12.000000</td>\n",
       "    </tr>\n",
       "  </tbody>\n",
       "</table>\n",
       "</div>"
      ],
      "text/plain": [
       "        offense_code           year          month\n",
       "count  319073.000000  319073.000000  319073.000000\n",
       "mean     2317.546956    2016.560586       6.609719\n",
       "std      1185.285543       0.996344       3.273691\n",
       "min       111.000000    2015.000000       1.000000\n",
       "25%      1001.000000    2016.000000       4.000000\n",
       "50%      2907.000000    2017.000000       7.000000\n",
       "75%      3201.000000    2017.000000       9.000000\n",
       "max      3831.000000    2018.000000      12.000000"
      ]
     },
     "execution_count": 177,
     "metadata": {},
     "output_type": "execute_result"
    }
   ],
   "source": [
    "df.describe()"
   ]
  },
  {
   "cell_type": "code",
   "execution_count": 181,
   "id": "af9db6e3-d42a-4f8c-867b-bbae419f1501",
   "metadata": {},
   "outputs": [
    {
     "name": "stdout",
     "output_type": "stream",
     "text": [
      "<class 'pandas.core.frame.DataFrame'>\n",
      "this is our series      offense_code                          year\n",
      "0             111 1970-01-01 00:00:00.000002018\n",
      "1             112 1970-01-01 00:00:00.000002016\n",
      "2             121 1970-01-01 00:00:00.000002017\n",
      "3             123 1970-01-01 00:00:00.000002017\n",
      "4             301 1970-01-01 00:00:00.000002018\n",
      "..            ...                           ...\n",
      "217          3811 1970-01-01 00:00:00.000002018\n",
      "218          3820 1970-01-01 00:00:00.000002018\n",
      "219          3821 1970-01-01 00:00:00.000002018\n",
      "220          3830 1970-01-01 00:00:00.000002018\n",
      "221          3831 1970-01-01 00:00:00.000002018\n",
      "\n",
      "[222 rows x 2 columns]\n"
     ]
    }
   ],
   "source": [
    "df['year'] = pd.to_datetime(df['year'])\n",
    "max_dates = df.groupby('offense_code')['year'].max().reset_index()\n",
    "print(type(max_dates))\n",
    "print('this is our series', max_dates)\n",
    "max_dates\n",
    "\n",
    "df['max_date'] = df.apply(lambda row: row['year'] == max_dates[max_dates['offense_code'] == row['offense_code']]['year'].values[0], axis=1)\n"
   ]
  },
  {
   "cell_type": "code",
   "execution_count": 184,
   "id": "394894cb-b0d1-4dc8-8867-f694ec13c35b",
   "metadata": {},
   "outputs": [
    {
     "data": {
      "text/html": [
       "<div>\n",
       "<style scoped>\n",
       "    .dataframe tbody tr th:only-of-type {\n",
       "        vertical-align: middle;\n",
       "    }\n",
       "\n",
       "    .dataframe tbody tr th {\n",
       "        vertical-align: top;\n",
       "    }\n",
       "\n",
       "    .dataframe thead th {\n",
       "        text-align: right;\n",
       "    }\n",
       "</style>\n",
       "<table border=\"1\" class=\"dataframe\">\n",
       "  <thead>\n",
       "    <tr style=\"text-align: right;\">\n",
       "      <th></th>\n",
       "      <th>offense_code</th>\n",
       "      <th>description</th>\n",
       "      <th>date</th>\n",
       "      <th>year</th>\n",
       "      <th>month</th>\n",
       "      <th>day_of_week</th>\n",
       "      <th>max_date</th>\n",
       "    </tr>\n",
       "  </thead>\n",
       "  <tbody>\n",
       "    <tr>\n",
       "      <th>0</th>\n",
       "      <td>619</td>\n",
       "      <td>LARCENY ALL OTHERS</td>\n",
       "      <td>2018-09-02 13:00:00</td>\n",
       "      <td>1970-01-01 00:00:00.000002018</td>\n",
       "      <td>9</td>\n",
       "      <td>Sunday</td>\n",
       "      <td>True</td>\n",
       "    </tr>\n",
       "    <tr>\n",
       "      <th>1</th>\n",
       "      <td>1402</td>\n",
       "      <td>VANDALISM</td>\n",
       "      <td>2018-08-21 00:00:00</td>\n",
       "      <td>1970-01-01 00:00:00.000002018</td>\n",
       "      <td>8</td>\n",
       "      <td>Tuesday</td>\n",
       "      <td>True</td>\n",
       "    </tr>\n",
       "    <tr>\n",
       "      <th>2</th>\n",
       "      <td>3410</td>\n",
       "      <td>TOWED MOTOR VEHICLE</td>\n",
       "      <td>2018-09-03 19:27:00</td>\n",
       "      <td>1970-01-01 00:00:00.000002018</td>\n",
       "      <td>9</td>\n",
       "      <td>Monday</td>\n",
       "      <td>True</td>\n",
       "    </tr>\n",
       "    <tr>\n",
       "      <th>3</th>\n",
       "      <td>3114</td>\n",
       "      <td>INVESTIGATE PROPERTY</td>\n",
       "      <td>2018-09-03 21:16:00</td>\n",
       "      <td>1970-01-01 00:00:00.000002018</td>\n",
       "      <td>9</td>\n",
       "      <td>Monday</td>\n",
       "      <td>True</td>\n",
       "    </tr>\n",
       "    <tr>\n",
       "      <th>4</th>\n",
       "      <td>3114</td>\n",
       "      <td>INVESTIGATE PROPERTY</td>\n",
       "      <td>2018-09-03 21:05:00</td>\n",
       "      <td>1970-01-01 00:00:00.000002018</td>\n",
       "      <td>9</td>\n",
       "      <td>Monday</td>\n",
       "      <td>True</td>\n",
       "    </tr>\n",
       "    <tr>\n",
       "      <th>...</th>\n",
       "      <td>...</td>\n",
       "      <td>...</td>\n",
       "      <td>...</td>\n",
       "      <td>...</td>\n",
       "      <td>...</td>\n",
       "      <td>...</td>\n",
       "      <td>...</td>\n",
       "    </tr>\n",
       "    <tr>\n",
       "      <th>319068</th>\n",
       "      <td>3125</td>\n",
       "      <td>WARRANT ARREST</td>\n",
       "      <td>2016-06-05 17:25:00</td>\n",
       "      <td>1970-01-01 00:00:00.000002016</td>\n",
       "      <td>6</td>\n",
       "      <td>Sunday</td>\n",
       "      <td>False</td>\n",
       "    </tr>\n",
       "    <tr>\n",
       "      <th>319069</th>\n",
       "      <td>111</td>\n",
       "      <td>MURDER, NON-NEGLIGIENT MANSLAUGHTER</td>\n",
       "      <td>2015-07-09 13:38:00</td>\n",
       "      <td>1970-01-01 00:00:00.000002015</td>\n",
       "      <td>7</td>\n",
       "      <td>Thursday</td>\n",
       "      <td>False</td>\n",
       "    </tr>\n",
       "    <tr>\n",
       "      <th>319070</th>\n",
       "      <td>3125</td>\n",
       "      <td>WARRANT ARREST</td>\n",
       "      <td>2015-07-09 13:38:00</td>\n",
       "      <td>1970-01-01 00:00:00.000002015</td>\n",
       "      <td>7</td>\n",
       "      <td>Thursday</td>\n",
       "      <td>False</td>\n",
       "    </tr>\n",
       "    <tr>\n",
       "      <th>319071</th>\n",
       "      <td>3125</td>\n",
       "      <td>WARRANT ARREST</td>\n",
       "      <td>2016-05-31 19:35:00</td>\n",
       "      <td>1970-01-01 00:00:00.000002016</td>\n",
       "      <td>5</td>\n",
       "      <td>Tuesday</td>\n",
       "      <td>False</td>\n",
       "    </tr>\n",
       "    <tr>\n",
       "      <th>319072</th>\n",
       "      <td>3125</td>\n",
       "      <td>WARRANT ARREST</td>\n",
       "      <td>2015-06-22 00:12:00</td>\n",
       "      <td>1970-01-01 00:00:00.000002015</td>\n",
       "      <td>6</td>\n",
       "      <td>Monday</td>\n",
       "      <td>False</td>\n",
       "    </tr>\n",
       "  </tbody>\n",
       "</table>\n",
       "<p>319073 rows × 7 columns</p>\n",
       "</div>"
      ],
      "text/plain": [
       "        offense_code                          description  \\\n",
       "0                619                   LARCENY ALL OTHERS   \n",
       "1               1402                            VANDALISM   \n",
       "2               3410                  TOWED MOTOR VEHICLE   \n",
       "3               3114                 INVESTIGATE PROPERTY   \n",
       "4               3114                 INVESTIGATE PROPERTY   \n",
       "...              ...                                  ...   \n",
       "319068          3125                       WARRANT ARREST   \n",
       "319069           111  MURDER, NON-NEGLIGIENT MANSLAUGHTER   \n",
       "319070          3125                       WARRANT ARREST   \n",
       "319071          3125                       WARRANT ARREST   \n",
       "319072          3125                       WARRANT ARREST   \n",
       "\n",
       "                       date                          year  month day_of_week  \\\n",
       "0       2018-09-02 13:00:00 1970-01-01 00:00:00.000002018      9      Sunday   \n",
       "1       2018-08-21 00:00:00 1970-01-01 00:00:00.000002018      8     Tuesday   \n",
       "2       2018-09-03 19:27:00 1970-01-01 00:00:00.000002018      9      Monday   \n",
       "3       2018-09-03 21:16:00 1970-01-01 00:00:00.000002018      9      Monday   \n",
       "4       2018-09-03 21:05:00 1970-01-01 00:00:00.000002018      9      Monday   \n",
       "...                     ...                           ...    ...         ...   \n",
       "319068  2016-06-05 17:25:00 1970-01-01 00:00:00.000002016      6      Sunday   \n",
       "319069  2015-07-09 13:38:00 1970-01-01 00:00:00.000002015      7    Thursday   \n",
       "319070  2015-07-09 13:38:00 1970-01-01 00:00:00.000002015      7    Thursday   \n",
       "319071  2016-05-31 19:35:00 1970-01-01 00:00:00.000002016      5     Tuesday   \n",
       "319072  2015-06-22 00:12:00 1970-01-01 00:00:00.000002015      6      Monday   \n",
       "\n",
       "        max_date  \n",
       "0           True  \n",
       "1           True  \n",
       "2           True  \n",
       "3           True  \n",
       "4           True  \n",
       "...          ...  \n",
       "319068     False  \n",
       "319069     False  \n",
       "319070     False  \n",
       "319071     False  \n",
       "319072     False  \n",
       "\n",
       "[319073 rows x 7 columns]"
      ]
     },
     "execution_count": 184,
     "metadata": {},
     "output_type": "execute_result"
    }
   ],
   "source": [
    "df"
   ]
  },
  {
   "cell_type": "code",
   "execution_count": 187,
   "id": "7f91b10d-2bfc-4708-a0b2-79fbdc455458",
   "metadata": {},
   "outputs": [
    {
     "data": {
      "text/html": [
       "<div>\n",
       "<style scoped>\n",
       "    .dataframe tbody tr th:only-of-type {\n",
       "        vertical-align: middle;\n",
       "    }\n",
       "\n",
       "    .dataframe tbody tr th {\n",
       "        vertical-align: top;\n",
       "    }\n",
       "\n",
       "    .dataframe thead th {\n",
       "        text-align: right;\n",
       "    }\n",
       "</style>\n",
       "<table border=\"1\" class=\"dataframe\">\n",
       "  <thead>\n",
       "    <tr style=\"text-align: right;\">\n",
       "      <th></th>\n",
       "      <th>offense_code</th>\n",
       "      <th>description</th>\n",
       "      <th>date</th>\n",
       "      <th>year</th>\n",
       "      <th>month</th>\n",
       "      <th>day_of_week</th>\n",
       "      <th>max_date</th>\n",
       "    </tr>\n",
       "  </thead>\n",
       "  <tbody>\n",
       "    <tr>\n",
       "      <th>0</th>\n",
       "      <td>619</td>\n",
       "      <td>LARCENY ALL OTHERS</td>\n",
       "      <td>2018-09-02 13:00:00</td>\n",
       "      <td>1970-01-01 00:00:00.000002018</td>\n",
       "      <td>9</td>\n",
       "      <td>Sunday</td>\n",
       "      <td>True</td>\n",
       "    </tr>\n",
       "    <tr>\n",
       "      <th>1</th>\n",
       "      <td>1402</td>\n",
       "      <td>VANDALISM</td>\n",
       "      <td>2018-08-21 00:00:00</td>\n",
       "      <td>1970-01-01 00:00:00.000002018</td>\n",
       "      <td>8</td>\n",
       "      <td>Tuesday</td>\n",
       "      <td>True</td>\n",
       "    </tr>\n",
       "    <tr>\n",
       "      <th>2</th>\n",
       "      <td>3410</td>\n",
       "      <td>TOWED MOTOR VEHICLE</td>\n",
       "      <td>2018-09-03 19:27:00</td>\n",
       "      <td>1970-01-01 00:00:00.000002018</td>\n",
       "      <td>9</td>\n",
       "      <td>Monday</td>\n",
       "      <td>True</td>\n",
       "    </tr>\n",
       "    <tr>\n",
       "      <th>3</th>\n",
       "      <td>3114</td>\n",
       "      <td>INVESTIGATE PROPERTY</td>\n",
       "      <td>2018-09-03 21:16:00</td>\n",
       "      <td>1970-01-01 00:00:00.000002018</td>\n",
       "      <td>9</td>\n",
       "      <td>Monday</td>\n",
       "      <td>True</td>\n",
       "    </tr>\n",
       "    <tr>\n",
       "      <th>4</th>\n",
       "      <td>3114</td>\n",
       "      <td>INVESTIGATE PROPERTY</td>\n",
       "      <td>2018-09-03 21:05:00</td>\n",
       "      <td>1970-01-01 00:00:00.000002018</td>\n",
       "      <td>9</td>\n",
       "      <td>Monday</td>\n",
       "      <td>True</td>\n",
       "    </tr>\n",
       "    <tr>\n",
       "      <th>...</th>\n",
       "      <td>...</td>\n",
       "      <td>...</td>\n",
       "      <td>...</td>\n",
       "      <td>...</td>\n",
       "      <td>...</td>\n",
       "      <td>...</td>\n",
       "      <td>...</td>\n",
       "    </tr>\n",
       "    <tr>\n",
       "      <th>319045</th>\n",
       "      <td>403</td>\n",
       "      <td>ASSAULT &amp; BATTERY D/W - OTHER</td>\n",
       "      <td>2016-06-14 09:40:00</td>\n",
       "      <td>1970-01-01 00:00:00.000002016</td>\n",
       "      <td>6</td>\n",
       "      <td>Tuesday</td>\n",
       "      <td>True</td>\n",
       "    </tr>\n",
       "    <tr>\n",
       "      <th>319052</th>\n",
       "      <td>629</td>\n",
       "      <td>LARCENY OTHER $50 TO $199</td>\n",
       "      <td>2016-06-05 17:23:00</td>\n",
       "      <td>1970-01-01 00:00:00.000002016</td>\n",
       "      <td>6</td>\n",
       "      <td>Sunday</td>\n",
       "      <td>True</td>\n",
       "    </tr>\n",
       "    <tr>\n",
       "      <th>319058</th>\n",
       "      <td>2910</td>\n",
       "      <td>VAL - OPERATING AFTER REV/SUSP.</td>\n",
       "      <td>2016-07-29 18:20:00</td>\n",
       "      <td>1970-01-01 00:00:00.000002016</td>\n",
       "      <td>7</td>\n",
       "      <td>Friday</td>\n",
       "      <td>True</td>\n",
       "    </tr>\n",
       "    <tr>\n",
       "      <th>319066</th>\n",
       "      <td>1864</td>\n",
       "      <td>DRUGS - POSS CLASS D - INTENT MFR DIST DISP</td>\n",
       "      <td>2018-01-27 14:01:00</td>\n",
       "      <td>1970-01-01 00:00:00.000002018</td>\n",
       "      <td>1</td>\n",
       "      <td>Saturday</td>\n",
       "      <td>True</td>\n",
       "    </tr>\n",
       "    <tr>\n",
       "      <th>319067</th>\n",
       "      <td>3125</td>\n",
       "      <td>WARRANT ARREST</td>\n",
       "      <td>2018-01-27 14:01:00</td>\n",
       "      <td>1970-01-01 00:00:00.000002018</td>\n",
       "      <td>1</td>\n",
       "      <td>Saturday</td>\n",
       "      <td>True</td>\n",
       "    </tr>\n",
       "  </tbody>\n",
       "</table>\n",
       "<p>65759 rows × 7 columns</p>\n",
       "</div>"
      ],
      "text/plain": [
       "        offense_code                                  description  \\\n",
       "0                619                           LARCENY ALL OTHERS   \n",
       "1               1402                                    VANDALISM   \n",
       "2               3410                          TOWED MOTOR VEHICLE   \n",
       "3               3114                         INVESTIGATE PROPERTY   \n",
       "4               3114                         INVESTIGATE PROPERTY   \n",
       "...              ...                                          ...   \n",
       "319045           403                ASSAULT & BATTERY D/W - OTHER   \n",
       "319052           629                    LARCENY OTHER $50 TO $199   \n",
       "319058          2910              VAL - OPERATING AFTER REV/SUSP.   \n",
       "319066          1864  DRUGS - POSS CLASS D - INTENT MFR DIST DISP   \n",
       "319067          3125                               WARRANT ARREST   \n",
       "\n",
       "                       date                          year  month day_of_week  \\\n",
       "0       2018-09-02 13:00:00 1970-01-01 00:00:00.000002018      9      Sunday   \n",
       "1       2018-08-21 00:00:00 1970-01-01 00:00:00.000002018      8     Tuesday   \n",
       "2       2018-09-03 19:27:00 1970-01-01 00:00:00.000002018      9      Monday   \n",
       "3       2018-09-03 21:16:00 1970-01-01 00:00:00.000002018      9      Monday   \n",
       "4       2018-09-03 21:05:00 1970-01-01 00:00:00.000002018      9      Monday   \n",
       "...                     ...                           ...    ...         ...   \n",
       "319045  2016-06-14 09:40:00 1970-01-01 00:00:00.000002016      6     Tuesday   \n",
       "319052  2016-06-05 17:23:00 1970-01-01 00:00:00.000002016      6      Sunday   \n",
       "319058  2016-07-29 18:20:00 1970-01-01 00:00:00.000002016      7      Friday   \n",
       "319066  2018-01-27 14:01:00 1970-01-01 00:00:00.000002018      1    Saturday   \n",
       "319067  2018-01-27 14:01:00 1970-01-01 00:00:00.000002018      1    Saturday   \n",
       "\n",
       "        max_date  \n",
       "0           True  \n",
       "1           True  \n",
       "2           True  \n",
       "3           True  \n",
       "4           True  \n",
       "...          ...  \n",
       "319045      True  \n",
       "319052      True  \n",
       "319058      True  \n",
       "319066      True  \n",
       "319067      True  \n",
       "\n",
       "[65759 rows x 7 columns]"
      ]
     },
     "execution_count": 187,
     "metadata": {},
     "output_type": "execute_result"
    }
   ],
   "source": [
    "df = df[df['max_date'] == True]#.copy()\n",
    "df"
   ]
  },
  {
   "cell_type": "code",
   "execution_count": 189,
   "id": "bc296796-91a4-40f9-9e20-bf4f302032cc",
   "metadata": {},
   "outputs": [
    {
     "data": {
      "text/html": [
       "<div>\n",
       "<style scoped>\n",
       "    .dataframe tbody tr th:only-of-type {\n",
       "        vertical-align: middle;\n",
       "    }\n",
       "\n",
       "    .dataframe tbody tr th {\n",
       "        vertical-align: top;\n",
       "    }\n",
       "\n",
       "    .dataframe thead th {\n",
       "        text-align: right;\n",
       "    }\n",
       "</style>\n",
       "<table border=\"1\" class=\"dataframe\">\n",
       "  <thead>\n",
       "    <tr style=\"text-align: right;\">\n",
       "      <th></th>\n",
       "      <th>offense_code</th>\n",
       "      <th>description</th>\n",
       "      <th>date</th>\n",
       "      <th>year</th>\n",
       "      <th>month</th>\n",
       "      <th>day_of_week</th>\n",
       "      <th>max_date</th>\n",
       "    </tr>\n",
       "  </thead>\n",
       "  <tbody>\n",
       "    <tr>\n",
       "      <th>0</th>\n",
       "      <td>619</td>\n",
       "      <td>LARCENY ALL OTHERS</td>\n",
       "      <td>2018-09-02 13:00:00</td>\n",
       "      <td>1970-01-01 00:00:00.000002018</td>\n",
       "      <td>9</td>\n",
       "      <td>Sunday</td>\n",
       "      <td>True</td>\n",
       "    </tr>\n",
       "    <tr>\n",
       "      <th>1</th>\n",
       "      <td>1402</td>\n",
       "      <td>VANDALISM</td>\n",
       "      <td>2018-08-21 00:00:00</td>\n",
       "      <td>1970-01-01 00:00:00.000002018</td>\n",
       "      <td>8</td>\n",
       "      <td>Tuesday</td>\n",
       "      <td>True</td>\n",
       "    </tr>\n",
       "    <tr>\n",
       "      <th>2</th>\n",
       "      <td>3410</td>\n",
       "      <td>TOWED MOTOR VEHICLE</td>\n",
       "      <td>2018-09-03 19:27:00</td>\n",
       "      <td>1970-01-01 00:00:00.000002018</td>\n",
       "      <td>9</td>\n",
       "      <td>Monday</td>\n",
       "      <td>True</td>\n",
       "    </tr>\n",
       "    <tr>\n",
       "      <th>3</th>\n",
       "      <td>3114</td>\n",
       "      <td>INVESTIGATE PROPERTY</td>\n",
       "      <td>2018-09-03 21:16:00</td>\n",
       "      <td>1970-01-01 00:00:00.000002018</td>\n",
       "      <td>9</td>\n",
       "      <td>Monday</td>\n",
       "      <td>True</td>\n",
       "    </tr>\n",
       "    <tr>\n",
       "      <th>4</th>\n",
       "      <td>3114</td>\n",
       "      <td>INVESTIGATE PROPERTY</td>\n",
       "      <td>2018-09-03 21:05:00</td>\n",
       "      <td>1970-01-01 00:00:00.000002018</td>\n",
       "      <td>9</td>\n",
       "      <td>Monday</td>\n",
       "      <td>True</td>\n",
       "    </tr>\n",
       "    <tr>\n",
       "      <th>...</th>\n",
       "      <td>...</td>\n",
       "      <td>...</td>\n",
       "      <td>...</td>\n",
       "      <td>...</td>\n",
       "      <td>...</td>\n",
       "      <td>...</td>\n",
       "      <td>...</td>\n",
       "    </tr>\n",
       "    <tr>\n",
       "      <th>65754</th>\n",
       "      <td>403</td>\n",
       "      <td>ASSAULT &amp; BATTERY D/W - OTHER</td>\n",
       "      <td>2016-06-14 09:40:00</td>\n",
       "      <td>1970-01-01 00:00:00.000002016</td>\n",
       "      <td>6</td>\n",
       "      <td>Tuesday</td>\n",
       "      <td>True</td>\n",
       "    </tr>\n",
       "    <tr>\n",
       "      <th>65755</th>\n",
       "      <td>629</td>\n",
       "      <td>LARCENY OTHER $50 TO $199</td>\n",
       "      <td>2016-06-05 17:23:00</td>\n",
       "      <td>1970-01-01 00:00:00.000002016</td>\n",
       "      <td>6</td>\n",
       "      <td>Sunday</td>\n",
       "      <td>True</td>\n",
       "    </tr>\n",
       "    <tr>\n",
       "      <th>65756</th>\n",
       "      <td>2910</td>\n",
       "      <td>VAL - OPERATING AFTER REV/SUSP.</td>\n",
       "      <td>2016-07-29 18:20:00</td>\n",
       "      <td>1970-01-01 00:00:00.000002016</td>\n",
       "      <td>7</td>\n",
       "      <td>Friday</td>\n",
       "      <td>True</td>\n",
       "    </tr>\n",
       "    <tr>\n",
       "      <th>65757</th>\n",
       "      <td>1864</td>\n",
       "      <td>DRUGS - POSS CLASS D - INTENT MFR DIST DISP</td>\n",
       "      <td>2018-01-27 14:01:00</td>\n",
       "      <td>1970-01-01 00:00:00.000002018</td>\n",
       "      <td>1</td>\n",
       "      <td>Saturday</td>\n",
       "      <td>True</td>\n",
       "    </tr>\n",
       "    <tr>\n",
       "      <th>65758</th>\n",
       "      <td>3125</td>\n",
       "      <td>WARRANT ARREST</td>\n",
       "      <td>2018-01-27 14:01:00</td>\n",
       "      <td>1970-01-01 00:00:00.000002018</td>\n",
       "      <td>1</td>\n",
       "      <td>Saturday</td>\n",
       "      <td>True</td>\n",
       "    </tr>\n",
       "  </tbody>\n",
       "</table>\n",
       "<p>65759 rows × 7 columns</p>\n",
       "</div>"
      ],
      "text/plain": [
       "       offense_code                                  description  \\\n",
       "0               619                           LARCENY ALL OTHERS   \n",
       "1              1402                                    VANDALISM   \n",
       "2              3410                          TOWED MOTOR VEHICLE   \n",
       "3              3114                         INVESTIGATE PROPERTY   \n",
       "4              3114                         INVESTIGATE PROPERTY   \n",
       "...             ...                                          ...   \n",
       "65754           403                ASSAULT & BATTERY D/W - OTHER   \n",
       "65755           629                    LARCENY OTHER $50 TO $199   \n",
       "65756          2910              VAL - OPERATING AFTER REV/SUSP.   \n",
       "65757          1864  DRUGS - POSS CLASS D - INTENT MFR DIST DISP   \n",
       "65758          3125                               WARRANT ARREST   \n",
       "\n",
       "                      date                          year  month day_of_week  \\\n",
       "0      2018-09-02 13:00:00 1970-01-01 00:00:00.000002018      9      Sunday   \n",
       "1      2018-08-21 00:00:00 1970-01-01 00:00:00.000002018      8     Tuesday   \n",
       "2      2018-09-03 19:27:00 1970-01-01 00:00:00.000002018      9      Monday   \n",
       "3      2018-09-03 21:16:00 1970-01-01 00:00:00.000002018      9      Monday   \n",
       "4      2018-09-03 21:05:00 1970-01-01 00:00:00.000002018      9      Monday   \n",
       "...                    ...                           ...    ...         ...   \n",
       "65754  2016-06-14 09:40:00 1970-01-01 00:00:00.000002016      6     Tuesday   \n",
       "65755  2016-06-05 17:23:00 1970-01-01 00:00:00.000002016      6      Sunday   \n",
       "65756  2016-07-29 18:20:00 1970-01-01 00:00:00.000002016      7      Friday   \n",
       "65757  2018-01-27 14:01:00 1970-01-01 00:00:00.000002018      1    Saturday   \n",
       "65758  2018-01-27 14:01:00 1970-01-01 00:00:00.000002018      1    Saturday   \n",
       "\n",
       "       max_date  \n",
       "0          True  \n",
       "1          True  \n",
       "2          True  \n",
       "3          True  \n",
       "4          True  \n",
       "...         ...  \n",
       "65754      True  \n",
       "65755      True  \n",
       "65756      True  \n",
       "65757      True  \n",
       "65758      True  \n",
       "\n",
       "[65759 rows x 7 columns]"
      ]
     },
     "execution_count": 189,
     "metadata": {},
     "output_type": "execute_result"
    }
   ],
   "source": [
    "df.reset_index(drop=True, inplace=True)\n",
    "df"
   ]
  },
  {
   "cell_type": "code",
   "execution_count": 193,
   "id": "5198cf38-3a73-4403-8375-f8704365ee39",
   "metadata": {},
   "outputs": [
    {
     "data": {
      "text/html": [
       "<div>\n",
       "<style scoped>\n",
       "    .dataframe tbody tr th:only-of-type {\n",
       "        vertical-align: middle;\n",
       "    }\n",
       "\n",
       "    .dataframe tbody tr th {\n",
       "        vertical-align: top;\n",
       "    }\n",
       "\n",
       "    .dataframe thead th {\n",
       "        text-align: right;\n",
       "    }\n",
       "</style>\n",
       "<table border=\"1\" class=\"dataframe\">\n",
       "  <thead>\n",
       "    <tr style=\"text-align: right;\">\n",
       "      <th></th>\n",
       "      <th>offense_code</th>\n",
       "      <th>description</th>\n",
       "      <th>date</th>\n",
       "      <th>year</th>\n",
       "      <th>month</th>\n",
       "      <th>day_of_week</th>\n",
       "    </tr>\n",
       "  </thead>\n",
       "  <tbody>\n",
       "    <tr>\n",
       "      <th>0</th>\n",
       "      <td>619</td>\n",
       "      <td>LARCENY ALL OTHERS</td>\n",
       "      <td>2018-09-02 13:00:00</td>\n",
       "      <td>1970-01-01 00:00:00.000002018</td>\n",
       "      <td>9</td>\n",
       "      <td>Sunday</td>\n",
       "    </tr>\n",
       "    <tr>\n",
       "      <th>1</th>\n",
       "      <td>1402</td>\n",
       "      <td>VANDALISM</td>\n",
       "      <td>2018-08-21 00:00:00</td>\n",
       "      <td>1970-01-01 00:00:00.000002018</td>\n",
       "      <td>8</td>\n",
       "      <td>Tuesday</td>\n",
       "    </tr>\n",
       "    <tr>\n",
       "      <th>2</th>\n",
       "      <td>3410</td>\n",
       "      <td>TOWED MOTOR VEHICLE</td>\n",
       "      <td>2018-09-03 19:27:00</td>\n",
       "      <td>1970-01-01 00:00:00.000002018</td>\n",
       "      <td>9</td>\n",
       "      <td>Monday</td>\n",
       "    </tr>\n",
       "    <tr>\n",
       "      <th>3</th>\n",
       "      <td>3114</td>\n",
       "      <td>INVESTIGATE PROPERTY</td>\n",
       "      <td>2018-09-03 21:16:00</td>\n",
       "      <td>1970-01-01 00:00:00.000002018</td>\n",
       "      <td>9</td>\n",
       "      <td>Monday</td>\n",
       "    </tr>\n",
       "    <tr>\n",
       "      <th>4</th>\n",
       "      <td>3114</td>\n",
       "      <td>INVESTIGATE PROPERTY</td>\n",
       "      <td>2018-09-03 21:05:00</td>\n",
       "      <td>1970-01-01 00:00:00.000002018</td>\n",
       "      <td>9</td>\n",
       "      <td>Monday</td>\n",
       "    </tr>\n",
       "    <tr>\n",
       "      <th>...</th>\n",
       "      <td>...</td>\n",
       "      <td>...</td>\n",
       "      <td>...</td>\n",
       "      <td>...</td>\n",
       "      <td>...</td>\n",
       "      <td>...</td>\n",
       "    </tr>\n",
       "    <tr>\n",
       "      <th>65754</th>\n",
       "      <td>403</td>\n",
       "      <td>ASSAULT &amp; BATTERY D/W - OTHER</td>\n",
       "      <td>2016-06-14 09:40:00</td>\n",
       "      <td>1970-01-01 00:00:00.000002016</td>\n",
       "      <td>6</td>\n",
       "      <td>Tuesday</td>\n",
       "    </tr>\n",
       "    <tr>\n",
       "      <th>65755</th>\n",
       "      <td>629</td>\n",
       "      <td>LARCENY OTHER $50 TO $199</td>\n",
       "      <td>2016-06-05 17:23:00</td>\n",
       "      <td>1970-01-01 00:00:00.000002016</td>\n",
       "      <td>6</td>\n",
       "      <td>Sunday</td>\n",
       "    </tr>\n",
       "    <tr>\n",
       "      <th>65756</th>\n",
       "      <td>2910</td>\n",
       "      <td>VAL - OPERATING AFTER REV/SUSP.</td>\n",
       "      <td>2016-07-29 18:20:00</td>\n",
       "      <td>1970-01-01 00:00:00.000002016</td>\n",
       "      <td>7</td>\n",
       "      <td>Friday</td>\n",
       "    </tr>\n",
       "    <tr>\n",
       "      <th>65757</th>\n",
       "      <td>1864</td>\n",
       "      <td>DRUGS - POSS CLASS D - INTENT MFR DIST DISP</td>\n",
       "      <td>2018-01-27 14:01:00</td>\n",
       "      <td>1970-01-01 00:00:00.000002018</td>\n",
       "      <td>1</td>\n",
       "      <td>Saturday</td>\n",
       "    </tr>\n",
       "    <tr>\n",
       "      <th>65758</th>\n",
       "      <td>3125</td>\n",
       "      <td>WARRANT ARREST</td>\n",
       "      <td>2018-01-27 14:01:00</td>\n",
       "      <td>1970-01-01 00:00:00.000002018</td>\n",
       "      <td>1</td>\n",
       "      <td>Saturday</td>\n",
       "    </tr>\n",
       "  </tbody>\n",
       "</table>\n",
       "<p>65759 rows × 6 columns</p>\n",
       "</div>"
      ],
      "text/plain": [
       "       offense_code                                  description  \\\n",
       "0               619                           LARCENY ALL OTHERS   \n",
       "1              1402                                    VANDALISM   \n",
       "2              3410                          TOWED MOTOR VEHICLE   \n",
       "3              3114                         INVESTIGATE PROPERTY   \n",
       "4              3114                         INVESTIGATE PROPERTY   \n",
       "...             ...                                          ...   \n",
       "65754           403                ASSAULT & BATTERY D/W - OTHER   \n",
       "65755           629                    LARCENY OTHER $50 TO $199   \n",
       "65756          2910              VAL - OPERATING AFTER REV/SUSP.   \n",
       "65757          1864  DRUGS - POSS CLASS D - INTENT MFR DIST DISP   \n",
       "65758          3125                               WARRANT ARREST   \n",
       "\n",
       "                      date                          year  month day_of_week  \n",
       "0      2018-09-02 13:00:00 1970-01-01 00:00:00.000002018      9      Sunday  \n",
       "1      2018-08-21 00:00:00 1970-01-01 00:00:00.000002018      8     Tuesday  \n",
       "2      2018-09-03 19:27:00 1970-01-01 00:00:00.000002018      9      Monday  \n",
       "3      2018-09-03 21:16:00 1970-01-01 00:00:00.000002018      9      Monday  \n",
       "4      2018-09-03 21:05:00 1970-01-01 00:00:00.000002018      9      Monday  \n",
       "...                    ...                           ...    ...         ...  \n",
       "65754  2016-06-14 09:40:00 1970-01-01 00:00:00.000002016      6     Tuesday  \n",
       "65755  2016-06-05 17:23:00 1970-01-01 00:00:00.000002016      6      Sunday  \n",
       "65756  2016-07-29 18:20:00 1970-01-01 00:00:00.000002016      7      Friday  \n",
       "65757  2018-01-27 14:01:00 1970-01-01 00:00:00.000002018      1    Saturday  \n",
       "65758  2018-01-27 14:01:00 1970-01-01 00:00:00.000002018      1    Saturday  \n",
       "\n",
       "[65759 rows x 6 columns]"
      ]
     },
     "execution_count": 193,
     "metadata": {},
     "output_type": "execute_result"
    }
   ],
   "source": [
    "df = df.drop(['max_date'], axis=1)\n",
    "df"
   ]
  },
  {
   "cell_type": "code",
   "execution_count": 213,
   "id": "34e27a5d-8b79-4a54-926b-5140cbc28af7",
   "metadata": {},
   "outputs": [
    {
     "name": "stdout",
     "output_type": "stream",
     "text": [
      "    offense_code                                 description  \\\n",
      "0            619                          LARCENY ALL OTHERS   \n",
      "1           1402                                   VANDALISM   \n",
      "2           3410                         TOWED MOTOR VEHICLE   \n",
      "3           3114                        INVESTIGATE PROPERTY   \n",
      "4           3114                        INVESTIGATE PROPERTY   \n",
      "5           3820  M/V ACCIDENT INVOLVING PEDESTRIAN - INJURY   \n",
      "6            724                                  AUTO THEFT   \n",
      "7           3301                              VERBAL DISPUTE   \n",
      "8            301                            ROBBERY - STREET   \n",
      "9           3301                              VERBAL DISPUTE   \n",
      "10          3301                              VERBAL DISPUTE   \n",
      "11          3114                        INVESTIGATE PROPERTY   \n",
      "12          3108         FIRE REPORT - HOUSE, BUILDING, ETC.   \n",
      "13          2647                   THREATS TO DO BODILY HARM   \n",
      "14          3201                             PROPERTY - LOST   \n",
      "15          3006               SICK/INJURED/MEDICAL - PERSON   \n",
      "16          3301                              VERBAL DISPUTE   \n",
      "17          3305                         DEMONSTRATIONS/RIOT   \n",
      "18          2647                   THREATS TO DO BODILY HARM   \n",
      "19           614       LARCENY THEFT FROM MV - NON-ACCESSORY   \n",
      "20          3006               SICK/INJURED/MEDICAL - PERSON   \n",
      "21          3801                        M/V ACCIDENT - OTHER   \n",
      "22          3006               SICK/INJURED/MEDICAL - PERSON   \n",
      "23          3803              M/V ACCIDENT - PERSONAL INJURY   \n",
      "24           522           BURGLARY - RESIDENTIAL - NO FORCE   \n",
      "\n",
      "                  date  year  month day_of_week  \\\n",
      "0  2018-09-02 13:00:00  2018      9      Sunday   \n",
      "1  2018-08-21 00:00:00  2018      8     Tuesday   \n",
      "2  2018-09-03 19:27:00  2018      9      Monday   \n",
      "3  2018-09-03 21:16:00  2018      9      Monday   \n",
      "4  2018-09-03 21:05:00  2018      9      Monday   \n",
      "5  2018-09-03 21:09:00  2018      9      Monday   \n",
      "6  2018-09-03 21:25:00  2018      9      Monday   \n",
      "7  2018-09-03 20:39:37  2018      9      Monday   \n",
      "8  2018-09-03 20:48:00  2018      9      Monday   \n",
      "9  2018-09-03 20:38:00  2018      9      Monday   \n",
      "10 2018-09-03 19:55:00  2018      9      Monday   \n",
      "11 2018-09-03 20:19:00  2018      9      Monday   \n",
      "12 2018-09-03 19:58:00  2018      9      Monday   \n",
      "13 2018-09-03 20:39:00  2018      9      Monday   \n",
      "14 2018-09-02 14:00:00  2018      9      Sunday   \n",
      "15 2018-09-03 19:43:00  2018      9      Monday   \n",
      "16 2018-09-03 18:52:00  2018      9      Monday   \n",
      "17 2018-09-03 17:00:00  2018      9      Monday   \n",
      "18 2018-09-03 19:52:00  2018      9      Monday   \n",
      "19 2018-09-02 18:00:00  2018      9      Sunday   \n",
      "20 2018-09-03 18:46:00  2018      9      Monday   \n",
      "21 2018-09-03 18:30:00  2018      9      Monday   \n",
      "22 2018-09-03 18:42:00  2018      9      Monday   \n",
      "23 2018-09-03 18:33:00  2018      9      Monday   \n",
      "24 2018-09-03 18:38:00  2018      9      Monday   \n",
      "\n",
      "                                          time_period  day  is_weekend  \\\n",
      "0   <bound method Series.apply of 0        2018-09...    2        True   \n",
      "1   <bound method Series.apply of 0        2018-09...   21       False   \n",
      "2   <bound method Series.apply of 0        2018-09...    3       False   \n",
      "3   <bound method Series.apply of 0        2018-09...    3       False   \n",
      "4   <bound method Series.apply of 0        2018-09...    3       False   \n",
      "5   <bound method Series.apply of 0        2018-09...    3       False   \n",
      "6   <bound method Series.apply of 0        2018-09...    3       False   \n",
      "7   <bound method Series.apply of 0        2018-09...    3       False   \n",
      "8   <bound method Series.apply of 0        2018-09...    3       False   \n",
      "9   <bound method Series.apply of 0        2018-09...    3       False   \n",
      "10  <bound method Series.apply of 0        2018-09...    3       False   \n",
      "11  <bound method Series.apply of 0        2018-09...    3       False   \n",
      "12  <bound method Series.apply of 0        2018-09...    3       False   \n",
      "13  <bound method Series.apply of 0        2018-09...    3       False   \n",
      "14  <bound method Series.apply of 0        2018-09...    2        True   \n",
      "15  <bound method Series.apply of 0        2018-09...    3       False   \n",
      "16  <bound method Series.apply of 0        2018-09...    3       False   \n",
      "17  <bound method Series.apply of 0        2018-09...    3       False   \n",
      "18  <bound method Series.apply of 0        2018-09...    3       False   \n",
      "19  <bound method Series.apply of 0        2018-09...    2        True   \n",
      "20  <bound method Series.apply of 0        2018-09...    3       False   \n",
      "21  <bound method Series.apply of 0        2018-09...    3       False   \n",
      "22  <bound method Series.apply of 0        2018-09...    3       False   \n",
      "23  <bound method Series.apply of 0        2018-09...    3       False   \n",
      "24  <bound method Series.apply of 0        2018-09...    3       False   \n",
      "\n",
      "    description_length                                   offense_category  \\\n",
      "0                   18  <bound method Series.apply of 0         619\\n1...   \n",
      "1                    9  <bound method Series.apply of 0         619\\n1...   \n",
      "2                   19  <bound method Series.apply of 0         619\\n1...   \n",
      "3                   20  <bound method Series.apply of 0         619\\n1...   \n",
      "4                   20  <bound method Series.apply of 0         619\\n1...   \n",
      "5                   42  <bound method Series.apply of 0         619\\n1...   \n",
      "6                   10  <bound method Series.apply of 0         619\\n1...   \n",
      "7                   14  <bound method Series.apply of 0         619\\n1...   \n",
      "8                   16  <bound method Series.apply of 0         619\\n1...   \n",
      "9                   14  <bound method Series.apply of 0         619\\n1...   \n",
      "10                  14  <bound method Series.apply of 0         619\\n1...   \n",
      "11                  20  <bound method Series.apply of 0         619\\n1...   \n",
      "12                  35  <bound method Series.apply of 0         619\\n1...   \n",
      "13                  25  <bound method Series.apply of 0         619\\n1...   \n",
      "14                  15  <bound method Series.apply of 0         619\\n1...   \n",
      "15                  29  <bound method Series.apply of 0         619\\n1...   \n",
      "16                  14  <bound method Series.apply of 0         619\\n1...   \n",
      "17                  19  <bound method Series.apply of 0         619\\n1...   \n",
      "18                  25  <bound method Series.apply of 0         619\\n1...   \n",
      "19                  37  <bound method Series.apply of 0         619\\n1...   \n",
      "20                  29  <bound method Series.apply of 0         619\\n1...   \n",
      "21                  20  <bound method Series.apply of 0         619\\n1...   \n",
      "22                  29  <bound method Series.apply of 0         619\\n1...   \n",
      "23                  30  <bound method Series.apply of 0         619\\n1...   \n",
      "24                  33  <bound method Series.apply of 0         619\\n1...   \n",
      "\n",
      "    hour  monthly_crime_ratio  day_crime_ratio  offense_code_ratio  \\\n",
      "0     13             0.010219         0.123816            0.017579   \n",
      "1      0             0.126918         0.145379            0.042093   \n",
      "2     19             0.010219         0.145151            0.038839   \n",
      "3     21             0.010219         0.145151            0.038459   \n",
      "4     21             0.010219         0.145151            0.038459   \n",
      "5     21             0.010219         0.145151            0.004745   \n",
      "6     21             0.010219         0.145151            0.010554   \n",
      "7     20             0.010219         0.145151            0.046458   \n",
      "8     20             0.010219         0.145151            0.007208   \n",
      "9     20             0.010219         0.145151            0.046458   \n",
      "10    19             0.010219         0.145151            0.046458   \n",
      "11    20             0.010219         0.145151            0.038459   \n",
      "12    19             0.010219         0.145151            0.003847   \n",
      "13    20             0.010219         0.145151            0.030308   \n",
      "14    14             0.010219         0.123816            0.030490   \n",
      "15    19             0.010219         0.145151            0.070363   \n",
      "16    18             0.010219         0.145151            0.046458   \n",
      "17    17             0.010219         0.145151            0.000836   \n",
      "18    19             0.010219         0.145151            0.030308   \n",
      "19    18             0.010219         0.123816            0.025000   \n",
      "20    18             0.010219         0.145151            0.070363   \n",
      "21    18             0.010219         0.145151            0.010447   \n",
      "22    18             0.010219         0.145151            0.070363   \n",
      "23    18             0.010219         0.145151            0.015678   \n",
      "24    18             0.010219         0.145151            0.005809   \n",
      "\n",
      "    hourly_crime_ratio  cumulative_monthly_crime  \n",
      "0             0.054700                         1  \n",
      "1             0.046792                         1  \n",
      "2             0.053498                         2  \n",
      "3             0.044648                         3  \n",
      "4             0.044648                         4  \n",
      "5             0.044648                         5  \n",
      "6             0.044648                         6  \n",
      "7             0.050518                         7  \n",
      "8             0.050518                         8  \n",
      "9             0.050518                         9  \n",
      "10            0.053498                        10  \n",
      "11            0.050518                        11  \n",
      "12            0.053498                        12  \n",
      "13            0.050518                        13  \n",
      "14            0.055567                        14  \n",
      "15            0.053498                        15  \n",
      "16            0.063368                        16  \n",
      "17            0.062242                        17  \n",
      "18            0.053498                        18  \n",
      "19            0.063368                        19  \n",
      "20            0.063368                        20  \n",
      "21            0.063368                        21  \n",
      "22            0.063368                        22  \n",
      "23            0.063368                        23  \n",
      "24            0.063368                        24  \n"
     ]
    }
   ],
   "source": [
    "df['date'] = pd.to_datetime(df['date'])\n",
    "\n",
    "# Extract additional time-based features\n",
    "df['hour'] = df['date'].dt.hour\n",
    "df['day'] = df['date'].dt.day\n",
    "df['month'] = df['date'].dt.month\n",
    "\n",
    "# Monthly crime ratio\n",
    "df['monthly_crime_ratio'] = df.groupby('month')['month'].transform('count') / len(df)\n",
    "\n",
    "# Day of the week crime ratio\n",
    "df['day_crime_ratio'] = df.groupby('day_of_week')['day_of_week'].transform('count') / len(df)\n",
    "\n",
    "# Offense code frequency ratio\n",
    "df['offense_code_ratio'] = df.groupby('offense_code')['offense_code'].transform('count') / len(df)\n",
    "\n",
    "# Hourly crime ratio\n",
    "df['hourly_crime_ratio'] = df.groupby('hour')['hour'].transform('count') / len(df)\n",
    "\n",
    "# Cumulative monthly crime count\n",
    "df['cumulative_monthly_crime'] = df.groupby('month').cumcount() + 1\n",
    "\n",
    "print(df.head(25))"
   ]
  },
  {
   "cell_type": "code",
   "execution_count": 222,
   "id": "127fae23-a3d8-4c23-95a0-403d9804d8e8",
   "metadata": {},
   "outputs": [
    {
     "data": {
      "text/plain": [
       "array([], dtype=int64)"
      ]
     },
     "execution_count": 222,
     "metadata": {},
     "output_type": "execute_result"
    }
   ],
   "source": [
    "from scipy import stats\n",
    "z = np.abs(stats.zscore(df['offense_code_ratio']))\n",
    "threshold = 3\n",
    "outlier_indices = np.where(z > threshold)[0] \n",
    "outlier_indices"
   ]
  },
  {
   "cell_type": "code",
   "execution_count": 224,
   "id": "52df819b-44d9-4998-a182-c8146f91d306",
   "metadata": {},
   "outputs": [
    {
     "data": {
      "text/html": [
       "<div>\n",
       "<style scoped>\n",
       "    .dataframe tbody tr th:only-of-type {\n",
       "        vertical-align: middle;\n",
       "    }\n",
       "\n",
       "    .dataframe tbody tr th {\n",
       "        vertical-align: top;\n",
       "    }\n",
       "\n",
       "    .dataframe thead th {\n",
       "        text-align: right;\n",
       "    }\n",
       "</style>\n",
       "<table border=\"1\" class=\"dataframe\">\n",
       "  <thead>\n",
       "    <tr style=\"text-align: right;\">\n",
       "      <th></th>\n",
       "      <th>offense_code</th>\n",
       "      <th>description</th>\n",
       "      <th>date</th>\n",
       "      <th>year</th>\n",
       "      <th>month</th>\n",
       "      <th>day_of_week</th>\n",
       "      <th>time_period</th>\n",
       "      <th>day</th>\n",
       "      <th>is_weekend</th>\n",
       "      <th>description_length</th>\n",
       "      <th>offense_category</th>\n",
       "      <th>hour</th>\n",
       "      <th>monthly_crime_ratio</th>\n",
       "      <th>day_crime_ratio</th>\n",
       "      <th>offense_code_ratio</th>\n",
       "      <th>hourly_crime_ratio</th>\n",
       "      <th>cumulative_monthly_crime</th>\n",
       "    </tr>\n",
       "  </thead>\n",
       "  <tbody>\n",
       "    <tr>\n",
       "      <th>0</th>\n",
       "      <td>619</td>\n",
       "      <td>LARCENY ALL OTHERS</td>\n",
       "      <td>2018-09-02 13:00:00</td>\n",
       "      <td>2018</td>\n",
       "      <td>9</td>\n",
       "      <td>Sunday</td>\n",
       "      <td>&lt;bound method Series.apply of 0        2018-09...</td>\n",
       "      <td>2</td>\n",
       "      <td>True</td>\n",
       "      <td>18</td>\n",
       "      <td>&lt;bound method Series.apply of 0         619\\n1...</td>\n",
       "      <td>13</td>\n",
       "      <td>0.010219</td>\n",
       "      <td>0.123816</td>\n",
       "      <td>0.017579</td>\n",
       "      <td>0.054700</td>\n",
       "      <td>1</td>\n",
       "    </tr>\n",
       "    <tr>\n",
       "      <th>1</th>\n",
       "      <td>1402</td>\n",
       "      <td>VANDALISM</td>\n",
       "      <td>2018-08-21 00:00:00</td>\n",
       "      <td>2018</td>\n",
       "      <td>8</td>\n",
       "      <td>Tuesday</td>\n",
       "      <td>&lt;bound method Series.apply of 0        2018-09...</td>\n",
       "      <td>21</td>\n",
       "      <td>False</td>\n",
       "      <td>9</td>\n",
       "      <td>&lt;bound method Series.apply of 0         619\\n1...</td>\n",
       "      <td>0</td>\n",
       "      <td>0.126918</td>\n",
       "      <td>0.145379</td>\n",
       "      <td>0.042093</td>\n",
       "      <td>0.046792</td>\n",
       "      <td>1</td>\n",
       "    </tr>\n",
       "    <tr>\n",
       "      <th>2</th>\n",
       "      <td>3410</td>\n",
       "      <td>TOWED MOTOR VEHICLE</td>\n",
       "      <td>2018-09-03 19:27:00</td>\n",
       "      <td>2018</td>\n",
       "      <td>9</td>\n",
       "      <td>Monday</td>\n",
       "      <td>&lt;bound method Series.apply of 0        2018-09...</td>\n",
       "      <td>3</td>\n",
       "      <td>False</td>\n",
       "      <td>19</td>\n",
       "      <td>&lt;bound method Series.apply of 0         619\\n1...</td>\n",
       "      <td>19</td>\n",
       "      <td>0.010219</td>\n",
       "      <td>0.145151</td>\n",
       "      <td>0.038839</td>\n",
       "      <td>0.053498</td>\n",
       "      <td>2</td>\n",
       "    </tr>\n",
       "    <tr>\n",
       "      <th>3</th>\n",
       "      <td>3114</td>\n",
       "      <td>INVESTIGATE PROPERTY</td>\n",
       "      <td>2018-09-03 21:16:00</td>\n",
       "      <td>2018</td>\n",
       "      <td>9</td>\n",
       "      <td>Monday</td>\n",
       "      <td>&lt;bound method Series.apply of 0        2018-09...</td>\n",
       "      <td>3</td>\n",
       "      <td>False</td>\n",
       "      <td>20</td>\n",
       "      <td>&lt;bound method Series.apply of 0         619\\n1...</td>\n",
       "      <td>21</td>\n",
       "      <td>0.010219</td>\n",
       "      <td>0.145151</td>\n",
       "      <td>0.038459</td>\n",
       "      <td>0.044648</td>\n",
       "      <td>3</td>\n",
       "    </tr>\n",
       "    <tr>\n",
       "      <th>4</th>\n",
       "      <td>3114</td>\n",
       "      <td>INVESTIGATE PROPERTY</td>\n",
       "      <td>2018-09-03 21:05:00</td>\n",
       "      <td>2018</td>\n",
       "      <td>9</td>\n",
       "      <td>Monday</td>\n",
       "      <td>&lt;bound method Series.apply of 0        2018-09...</td>\n",
       "      <td>3</td>\n",
       "      <td>False</td>\n",
       "      <td>20</td>\n",
       "      <td>&lt;bound method Series.apply of 0         619\\n1...</td>\n",
       "      <td>21</td>\n",
       "      <td>0.010219</td>\n",
       "      <td>0.145151</td>\n",
       "      <td>0.038459</td>\n",
       "      <td>0.044648</td>\n",
       "      <td>4</td>\n",
       "    </tr>\n",
       "    <tr>\n",
       "      <th>...</th>\n",
       "      <td>...</td>\n",
       "      <td>...</td>\n",
       "      <td>...</td>\n",
       "      <td>...</td>\n",
       "      <td>...</td>\n",
       "      <td>...</td>\n",
       "      <td>...</td>\n",
       "      <td>...</td>\n",
       "      <td>...</td>\n",
       "      <td>...</td>\n",
       "      <td>...</td>\n",
       "      <td>...</td>\n",
       "      <td>...</td>\n",
       "      <td>...</td>\n",
       "      <td>...</td>\n",
       "      <td>...</td>\n",
       "      <td>...</td>\n",
       "    </tr>\n",
       "    <tr>\n",
       "      <th>65754</th>\n",
       "      <td>403</td>\n",
       "      <td>ASSAULT &amp; BATTERY D/W - OTHER</td>\n",
       "      <td>2016-06-14 09:40:00</td>\n",
       "      <td>2016</td>\n",
       "      <td>6</td>\n",
       "      <td>Tuesday</td>\n",
       "      <td>&lt;bound method Series.apply of 0        2018-09...</td>\n",
       "      <td>14</td>\n",
       "      <td>False</td>\n",
       "      <td>29</td>\n",
       "      <td>&lt;bound method Series.apply of 0         619\\n1...</td>\n",
       "      <td>9</td>\n",
       "      <td>0.134445</td>\n",
       "      <td>0.145379</td>\n",
       "      <td>0.000046</td>\n",
       "      <td>0.046108</td>\n",
       "      <td>8840</td>\n",
       "    </tr>\n",
       "    <tr>\n",
       "      <th>65755</th>\n",
       "      <td>629</td>\n",
       "      <td>LARCENY OTHER $50 TO $199</td>\n",
       "      <td>2016-06-05 17:23:00</td>\n",
       "      <td>2016</td>\n",
       "      <td>6</td>\n",
       "      <td>Sunday</td>\n",
       "      <td>&lt;bound method Series.apply of 0        2018-09...</td>\n",
       "      <td>5</td>\n",
       "      <td>True</td>\n",
       "      <td>25</td>\n",
       "      <td>&lt;bound method Series.apply of 0         619\\n1...</td>\n",
       "      <td>17</td>\n",
       "      <td>0.134445</td>\n",
       "      <td>0.123816</td>\n",
       "      <td>0.000030</td>\n",
       "      <td>0.062242</td>\n",
       "      <td>8841</td>\n",
       "    </tr>\n",
       "    <tr>\n",
       "      <th>65756</th>\n",
       "      <td>2910</td>\n",
       "      <td>VAL - OPERATING AFTER REV/SUSP.</td>\n",
       "      <td>2016-07-29 18:20:00</td>\n",
       "      <td>2016</td>\n",
       "      <td>7</td>\n",
       "      <td>Friday</td>\n",
       "      <td>&lt;bound method Series.apply of 0        2018-09...</td>\n",
       "      <td>29</td>\n",
       "      <td>False</td>\n",
       "      <td>31</td>\n",
       "      <td>&lt;bound method Series.apply of 0         619\\n1...</td>\n",
       "      <td>18</td>\n",
       "      <td>0.130005</td>\n",
       "      <td>0.151523</td>\n",
       "      <td>0.000015</td>\n",
       "      <td>0.063368</td>\n",
       "      <td>8549</td>\n",
       "    </tr>\n",
       "    <tr>\n",
       "      <th>65757</th>\n",
       "      <td>1864</td>\n",
       "      <td>DRUGS - POSS CLASS D - INTENT MFR DIST DISP</td>\n",
       "      <td>2018-01-27 14:01:00</td>\n",
       "      <td>2018</td>\n",
       "      <td>1</td>\n",
       "      <td>Saturday</td>\n",
       "      <td>&lt;bound method Series.apply of 0        2018-09...</td>\n",
       "      <td>27</td>\n",
       "      <td>True</td>\n",
       "      <td>43</td>\n",
       "      <td>&lt;bound method Series.apply of 0         619\\n1...</td>\n",
       "      <td>14</td>\n",
       "      <td>0.118432</td>\n",
       "      <td>0.140331</td>\n",
       "      <td>0.000015</td>\n",
       "      <td>0.055567</td>\n",
       "      <td>7787</td>\n",
       "    </tr>\n",
       "    <tr>\n",
       "      <th>65758</th>\n",
       "      <td>3125</td>\n",
       "      <td>WARRANT ARREST</td>\n",
       "      <td>2018-01-27 14:01:00</td>\n",
       "      <td>2018</td>\n",
       "      <td>1</td>\n",
       "      <td>Saturday</td>\n",
       "      <td>&lt;bound method Series.apply of 0        2018-09...</td>\n",
       "      <td>27</td>\n",
       "      <td>True</td>\n",
       "      <td>14</td>\n",
       "      <td>&lt;bound method Series.apply of 0         619\\n1...</td>\n",
       "      <td>14</td>\n",
       "      <td>0.118432</td>\n",
       "      <td>0.140331</td>\n",
       "      <td>0.017534</td>\n",
       "      <td>0.055567</td>\n",
       "      <td>7788</td>\n",
       "    </tr>\n",
       "  </tbody>\n",
       "</table>\n",
       "<p>65759 rows × 17 columns</p>\n",
       "</div>"
      ],
      "text/plain": [
       "       offense_code                                  description  \\\n",
       "0               619                           LARCENY ALL OTHERS   \n",
       "1              1402                                    VANDALISM   \n",
       "2              3410                          TOWED MOTOR VEHICLE   \n",
       "3              3114                         INVESTIGATE PROPERTY   \n",
       "4              3114                         INVESTIGATE PROPERTY   \n",
       "...             ...                                          ...   \n",
       "65754           403                ASSAULT & BATTERY D/W - OTHER   \n",
       "65755           629                    LARCENY OTHER $50 TO $199   \n",
       "65756          2910              VAL - OPERATING AFTER REV/SUSP.   \n",
       "65757          1864  DRUGS - POSS CLASS D - INTENT MFR DIST DISP   \n",
       "65758          3125                               WARRANT ARREST   \n",
       "\n",
       "                     date  year  month day_of_week  \\\n",
       "0     2018-09-02 13:00:00  2018      9      Sunday   \n",
       "1     2018-08-21 00:00:00  2018      8     Tuesday   \n",
       "2     2018-09-03 19:27:00  2018      9      Monday   \n",
       "3     2018-09-03 21:16:00  2018      9      Monday   \n",
       "4     2018-09-03 21:05:00  2018      9      Monday   \n",
       "...                   ...   ...    ...         ...   \n",
       "65754 2016-06-14 09:40:00  2016      6     Tuesday   \n",
       "65755 2016-06-05 17:23:00  2016      6      Sunday   \n",
       "65756 2016-07-29 18:20:00  2016      7      Friday   \n",
       "65757 2018-01-27 14:01:00  2018      1    Saturday   \n",
       "65758 2018-01-27 14:01:00  2018      1    Saturday   \n",
       "\n",
       "                                             time_period  day  is_weekend  \\\n",
       "0      <bound method Series.apply of 0        2018-09...    2        True   \n",
       "1      <bound method Series.apply of 0        2018-09...   21       False   \n",
       "2      <bound method Series.apply of 0        2018-09...    3       False   \n",
       "3      <bound method Series.apply of 0        2018-09...    3       False   \n",
       "4      <bound method Series.apply of 0        2018-09...    3       False   \n",
       "...                                                  ...  ...         ...   \n",
       "65754  <bound method Series.apply of 0        2018-09...   14       False   \n",
       "65755  <bound method Series.apply of 0        2018-09...    5        True   \n",
       "65756  <bound method Series.apply of 0        2018-09...   29       False   \n",
       "65757  <bound method Series.apply of 0        2018-09...   27        True   \n",
       "65758  <bound method Series.apply of 0        2018-09...   27        True   \n",
       "\n",
       "       description_length                                   offense_category  \\\n",
       "0                      18  <bound method Series.apply of 0         619\\n1...   \n",
       "1                       9  <bound method Series.apply of 0         619\\n1...   \n",
       "2                      19  <bound method Series.apply of 0         619\\n1...   \n",
       "3                      20  <bound method Series.apply of 0         619\\n1...   \n",
       "4                      20  <bound method Series.apply of 0         619\\n1...   \n",
       "...                   ...                                                ...   \n",
       "65754                  29  <bound method Series.apply of 0         619\\n1...   \n",
       "65755                  25  <bound method Series.apply of 0         619\\n1...   \n",
       "65756                  31  <bound method Series.apply of 0         619\\n1...   \n",
       "65757                  43  <bound method Series.apply of 0         619\\n1...   \n",
       "65758                  14  <bound method Series.apply of 0         619\\n1...   \n",
       "\n",
       "       hour  monthly_crime_ratio  day_crime_ratio  offense_code_ratio  \\\n",
       "0        13             0.010219         0.123816            0.017579   \n",
       "1         0             0.126918         0.145379            0.042093   \n",
       "2        19             0.010219         0.145151            0.038839   \n",
       "3        21             0.010219         0.145151            0.038459   \n",
       "4        21             0.010219         0.145151            0.038459   \n",
       "...     ...                  ...              ...                 ...   \n",
       "65754     9             0.134445         0.145379            0.000046   \n",
       "65755    17             0.134445         0.123816            0.000030   \n",
       "65756    18             0.130005         0.151523            0.000015   \n",
       "65757    14             0.118432         0.140331            0.000015   \n",
       "65758    14             0.118432         0.140331            0.017534   \n",
       "\n",
       "       hourly_crime_ratio  cumulative_monthly_crime  \n",
       "0                0.054700                         1  \n",
       "1                0.046792                         1  \n",
       "2                0.053498                         2  \n",
       "3                0.044648                         3  \n",
       "4                0.044648                         4  \n",
       "...                   ...                       ...  \n",
       "65754            0.046108                      8840  \n",
       "65755            0.062242                      8841  \n",
       "65756            0.063368                      8549  \n",
       "65757            0.055567                      7787  \n",
       "65758            0.055567                      7788  \n",
       "\n",
       "[65759 rows x 17 columns]"
      ]
     },
     "execution_count": 224,
     "metadata": {},
     "output_type": "execute_result"
    }
   ],
   "source": [
    "no_outliers = df.drop(outlier_indices)\n",
    "no_outliers"
   ]
  },
  {
   "cell_type": "code",
   "execution_count": 226,
   "id": "27b70e91-8276-4ccb-9ad6-f47171ad98f1",
   "metadata": {},
   "outputs": [
    {
     "data": {
      "text/html": [
       "<div>\n",
       "<style scoped>\n",
       "    .dataframe tbody tr th:only-of-type {\n",
       "        vertical-align: middle;\n",
       "    }\n",
       "\n",
       "    .dataframe tbody tr th {\n",
       "        vertical-align: top;\n",
       "    }\n",
       "\n",
       "    .dataframe thead th {\n",
       "        text-align: right;\n",
       "    }\n",
       "</style>\n",
       "<table border=\"1\" class=\"dataframe\">\n",
       "  <thead>\n",
       "    <tr style=\"text-align: right;\">\n",
       "      <th></th>\n",
       "      <th>offense_code</th>\n",
       "      <th>description</th>\n",
       "      <th>date</th>\n",
       "      <th>year</th>\n",
       "      <th>month</th>\n",
       "      <th>day_of_week</th>\n",
       "      <th>time_period</th>\n",
       "      <th>day</th>\n",
       "      <th>is_weekend</th>\n",
       "      <th>description_length</th>\n",
       "      <th>offense_category</th>\n",
       "      <th>hour</th>\n",
       "      <th>monthly_crime_ratio</th>\n",
       "      <th>day_crime_ratio</th>\n",
       "      <th>offense_code_ratio</th>\n",
       "      <th>hourly_crime_ratio</th>\n",
       "      <th>cumulative_monthly_crime</th>\n",
       "    </tr>\n",
       "  </thead>\n",
       "  <tbody>\n",
       "    <tr>\n",
       "      <th>0</th>\n",
       "      <td>619</td>\n",
       "      <td>LARCENY ALL OTHERS</td>\n",
       "      <td>2018-09-02 13:00:00</td>\n",
       "      <td>2018</td>\n",
       "      <td>9</td>\n",
       "      <td>Sunday</td>\n",
       "      <td>&lt;bound method Series.apply of 0        2018-09...</td>\n",
       "      <td>2</td>\n",
       "      <td>True</td>\n",
       "      <td>18</td>\n",
       "      <td>&lt;bound method Series.apply of 0         619\\n1...</td>\n",
       "      <td>13</td>\n",
       "      <td>0.010219</td>\n",
       "      <td>0.123816</td>\n",
       "      <td>0.017579</td>\n",
       "      <td>0.054700</td>\n",
       "      <td>1</td>\n",
       "    </tr>\n",
       "    <tr>\n",
       "      <th>1</th>\n",
       "      <td>1402</td>\n",
       "      <td>VANDALISM</td>\n",
       "      <td>2018-08-21 00:00:00</td>\n",
       "      <td>2018</td>\n",
       "      <td>8</td>\n",
       "      <td>Tuesday</td>\n",
       "      <td>&lt;bound method Series.apply of 0        2018-09...</td>\n",
       "      <td>21</td>\n",
       "      <td>False</td>\n",
       "      <td>9</td>\n",
       "      <td>&lt;bound method Series.apply of 0         619\\n1...</td>\n",
       "      <td>0</td>\n",
       "      <td>0.126918</td>\n",
       "      <td>0.145379</td>\n",
       "      <td>0.042093</td>\n",
       "      <td>0.046792</td>\n",
       "      <td>1</td>\n",
       "    </tr>\n",
       "    <tr>\n",
       "      <th>2</th>\n",
       "      <td>3410</td>\n",
       "      <td>TOWED MOTOR VEHICLE</td>\n",
       "      <td>2018-09-03 19:27:00</td>\n",
       "      <td>2018</td>\n",
       "      <td>9</td>\n",
       "      <td>Monday</td>\n",
       "      <td>&lt;bound method Series.apply of 0        2018-09...</td>\n",
       "      <td>3</td>\n",
       "      <td>False</td>\n",
       "      <td>19</td>\n",
       "      <td>&lt;bound method Series.apply of 0         619\\n1...</td>\n",
       "      <td>19</td>\n",
       "      <td>0.010219</td>\n",
       "      <td>0.145151</td>\n",
       "      <td>0.038839</td>\n",
       "      <td>0.053498</td>\n",
       "      <td>2</td>\n",
       "    </tr>\n",
       "    <tr>\n",
       "      <th>3</th>\n",
       "      <td>3114</td>\n",
       "      <td>INVESTIGATE PROPERTY</td>\n",
       "      <td>2018-09-03 21:16:00</td>\n",
       "      <td>2018</td>\n",
       "      <td>9</td>\n",
       "      <td>Monday</td>\n",
       "      <td>&lt;bound method Series.apply of 0        2018-09...</td>\n",
       "      <td>3</td>\n",
       "      <td>False</td>\n",
       "      <td>20</td>\n",
       "      <td>&lt;bound method Series.apply of 0         619\\n1...</td>\n",
       "      <td>21</td>\n",
       "      <td>0.010219</td>\n",
       "      <td>0.145151</td>\n",
       "      <td>0.038459</td>\n",
       "      <td>0.044648</td>\n",
       "      <td>3</td>\n",
       "    </tr>\n",
       "    <tr>\n",
       "      <th>4</th>\n",
       "      <td>3114</td>\n",
       "      <td>INVESTIGATE PROPERTY</td>\n",
       "      <td>2018-09-03 21:05:00</td>\n",
       "      <td>2018</td>\n",
       "      <td>9</td>\n",
       "      <td>Monday</td>\n",
       "      <td>&lt;bound method Series.apply of 0        2018-09...</td>\n",
       "      <td>3</td>\n",
       "      <td>False</td>\n",
       "      <td>20</td>\n",
       "      <td>&lt;bound method Series.apply of 0         619\\n1...</td>\n",
       "      <td>21</td>\n",
       "      <td>0.010219</td>\n",
       "      <td>0.145151</td>\n",
       "      <td>0.038459</td>\n",
       "      <td>0.044648</td>\n",
       "      <td>4</td>\n",
       "    </tr>\n",
       "    <tr>\n",
       "      <th>...</th>\n",
       "      <td>...</td>\n",
       "      <td>...</td>\n",
       "      <td>...</td>\n",
       "      <td>...</td>\n",
       "      <td>...</td>\n",
       "      <td>...</td>\n",
       "      <td>...</td>\n",
       "      <td>...</td>\n",
       "      <td>...</td>\n",
       "      <td>...</td>\n",
       "      <td>...</td>\n",
       "      <td>...</td>\n",
       "      <td>...</td>\n",
       "      <td>...</td>\n",
       "      <td>...</td>\n",
       "      <td>...</td>\n",
       "      <td>...</td>\n",
       "    </tr>\n",
       "    <tr>\n",
       "      <th>65754</th>\n",
       "      <td>403</td>\n",
       "      <td>ASSAULT &amp; BATTERY D/W - OTHER</td>\n",
       "      <td>2016-06-14 09:40:00</td>\n",
       "      <td>2016</td>\n",
       "      <td>6</td>\n",
       "      <td>Tuesday</td>\n",
       "      <td>&lt;bound method Series.apply of 0        2018-09...</td>\n",
       "      <td>14</td>\n",
       "      <td>False</td>\n",
       "      <td>29</td>\n",
       "      <td>&lt;bound method Series.apply of 0         619\\n1...</td>\n",
       "      <td>9</td>\n",
       "      <td>0.134445</td>\n",
       "      <td>0.145379</td>\n",
       "      <td>0.000046</td>\n",
       "      <td>0.046108</td>\n",
       "      <td>8840</td>\n",
       "    </tr>\n",
       "    <tr>\n",
       "      <th>65755</th>\n",
       "      <td>629</td>\n",
       "      <td>LARCENY OTHER $50 TO $199</td>\n",
       "      <td>2016-06-05 17:23:00</td>\n",
       "      <td>2016</td>\n",
       "      <td>6</td>\n",
       "      <td>Sunday</td>\n",
       "      <td>&lt;bound method Series.apply of 0        2018-09...</td>\n",
       "      <td>5</td>\n",
       "      <td>True</td>\n",
       "      <td>25</td>\n",
       "      <td>&lt;bound method Series.apply of 0         619\\n1...</td>\n",
       "      <td>17</td>\n",
       "      <td>0.134445</td>\n",
       "      <td>0.123816</td>\n",
       "      <td>0.000030</td>\n",
       "      <td>0.062242</td>\n",
       "      <td>8841</td>\n",
       "    </tr>\n",
       "    <tr>\n",
       "      <th>65756</th>\n",
       "      <td>2910</td>\n",
       "      <td>VAL - OPERATING AFTER REV/SUSP.</td>\n",
       "      <td>2016-07-29 18:20:00</td>\n",
       "      <td>2016</td>\n",
       "      <td>7</td>\n",
       "      <td>Friday</td>\n",
       "      <td>&lt;bound method Series.apply of 0        2018-09...</td>\n",
       "      <td>29</td>\n",
       "      <td>False</td>\n",
       "      <td>31</td>\n",
       "      <td>&lt;bound method Series.apply of 0         619\\n1...</td>\n",
       "      <td>18</td>\n",
       "      <td>0.130005</td>\n",
       "      <td>0.151523</td>\n",
       "      <td>0.000015</td>\n",
       "      <td>0.063368</td>\n",
       "      <td>8549</td>\n",
       "    </tr>\n",
       "    <tr>\n",
       "      <th>65757</th>\n",
       "      <td>1864</td>\n",
       "      <td>DRUGS - POSS CLASS D - INTENT MFR DIST DISP</td>\n",
       "      <td>2018-01-27 14:01:00</td>\n",
       "      <td>2018</td>\n",
       "      <td>1</td>\n",
       "      <td>Saturday</td>\n",
       "      <td>&lt;bound method Series.apply of 0        2018-09...</td>\n",
       "      <td>27</td>\n",
       "      <td>True</td>\n",
       "      <td>43</td>\n",
       "      <td>&lt;bound method Series.apply of 0         619\\n1...</td>\n",
       "      <td>14</td>\n",
       "      <td>0.118432</td>\n",
       "      <td>0.140331</td>\n",
       "      <td>0.000015</td>\n",
       "      <td>0.055567</td>\n",
       "      <td>7787</td>\n",
       "    </tr>\n",
       "    <tr>\n",
       "      <th>65758</th>\n",
       "      <td>3125</td>\n",
       "      <td>WARRANT ARREST</td>\n",
       "      <td>2018-01-27 14:01:00</td>\n",
       "      <td>2018</td>\n",
       "      <td>1</td>\n",
       "      <td>Saturday</td>\n",
       "      <td>&lt;bound method Series.apply of 0        2018-09...</td>\n",
       "      <td>27</td>\n",
       "      <td>True</td>\n",
       "      <td>14</td>\n",
       "      <td>&lt;bound method Series.apply of 0         619\\n1...</td>\n",
       "      <td>14</td>\n",
       "      <td>0.118432</td>\n",
       "      <td>0.140331</td>\n",
       "      <td>0.017534</td>\n",
       "      <td>0.055567</td>\n",
       "      <td>7788</td>\n",
       "    </tr>\n",
       "  </tbody>\n",
       "</table>\n",
       "<p>65759 rows × 17 columns</p>\n",
       "</div>"
      ],
      "text/plain": [
       "       offense_code                                  description  \\\n",
       "0               619                           LARCENY ALL OTHERS   \n",
       "1              1402                                    VANDALISM   \n",
       "2              3410                          TOWED MOTOR VEHICLE   \n",
       "3              3114                         INVESTIGATE PROPERTY   \n",
       "4              3114                         INVESTIGATE PROPERTY   \n",
       "...             ...                                          ...   \n",
       "65754           403                ASSAULT & BATTERY D/W - OTHER   \n",
       "65755           629                    LARCENY OTHER $50 TO $199   \n",
       "65756          2910              VAL - OPERATING AFTER REV/SUSP.   \n",
       "65757          1864  DRUGS - POSS CLASS D - INTENT MFR DIST DISP   \n",
       "65758          3125                               WARRANT ARREST   \n",
       "\n",
       "                     date  year  month day_of_week  \\\n",
       "0     2018-09-02 13:00:00  2018      9      Sunday   \n",
       "1     2018-08-21 00:00:00  2018      8     Tuesday   \n",
       "2     2018-09-03 19:27:00  2018      9      Monday   \n",
       "3     2018-09-03 21:16:00  2018      9      Monday   \n",
       "4     2018-09-03 21:05:00  2018      9      Monday   \n",
       "...                   ...   ...    ...         ...   \n",
       "65754 2016-06-14 09:40:00  2016      6     Tuesday   \n",
       "65755 2016-06-05 17:23:00  2016      6      Sunday   \n",
       "65756 2016-07-29 18:20:00  2016      7      Friday   \n",
       "65757 2018-01-27 14:01:00  2018      1    Saturday   \n",
       "65758 2018-01-27 14:01:00  2018      1    Saturday   \n",
       "\n",
       "                                             time_period  day  is_weekend  \\\n",
       "0      <bound method Series.apply of 0        2018-09...    2        True   \n",
       "1      <bound method Series.apply of 0        2018-09...   21       False   \n",
       "2      <bound method Series.apply of 0        2018-09...    3       False   \n",
       "3      <bound method Series.apply of 0        2018-09...    3       False   \n",
       "4      <bound method Series.apply of 0        2018-09...    3       False   \n",
       "...                                                  ...  ...         ...   \n",
       "65754  <bound method Series.apply of 0        2018-09...   14       False   \n",
       "65755  <bound method Series.apply of 0        2018-09...    5        True   \n",
       "65756  <bound method Series.apply of 0        2018-09...   29       False   \n",
       "65757  <bound method Series.apply of 0        2018-09...   27        True   \n",
       "65758  <bound method Series.apply of 0        2018-09...   27        True   \n",
       "\n",
       "       description_length                                   offense_category  \\\n",
       "0                      18  <bound method Series.apply of 0         619\\n1...   \n",
       "1                       9  <bound method Series.apply of 0         619\\n1...   \n",
       "2                      19  <bound method Series.apply of 0         619\\n1...   \n",
       "3                      20  <bound method Series.apply of 0         619\\n1...   \n",
       "4                      20  <bound method Series.apply of 0         619\\n1...   \n",
       "...                   ...                                                ...   \n",
       "65754                  29  <bound method Series.apply of 0         619\\n1...   \n",
       "65755                  25  <bound method Series.apply of 0         619\\n1...   \n",
       "65756                  31  <bound method Series.apply of 0         619\\n1...   \n",
       "65757                  43  <bound method Series.apply of 0         619\\n1...   \n",
       "65758                  14  <bound method Series.apply of 0         619\\n1...   \n",
       "\n",
       "       hour  monthly_crime_ratio  day_crime_ratio  offense_code_ratio  \\\n",
       "0        13             0.010219         0.123816            0.017579   \n",
       "1         0             0.126918         0.145379            0.042093   \n",
       "2        19             0.010219         0.145151            0.038839   \n",
       "3        21             0.010219         0.145151            0.038459   \n",
       "4        21             0.010219         0.145151            0.038459   \n",
       "...     ...                  ...              ...                 ...   \n",
       "65754     9             0.134445         0.145379            0.000046   \n",
       "65755    17             0.134445         0.123816            0.000030   \n",
       "65756    18             0.130005         0.151523            0.000015   \n",
       "65757    14             0.118432         0.140331            0.000015   \n",
       "65758    14             0.118432         0.140331            0.017534   \n",
       "\n",
       "       hourly_crime_ratio  cumulative_monthly_crime  \n",
       "0                0.054700                         1  \n",
       "1                0.046792                         1  \n",
       "2                0.053498                         2  \n",
       "3                0.044648                         3  \n",
       "4                0.044648                         4  \n",
       "...                   ...                       ...  \n",
       "65754            0.046108                      8840  \n",
       "65755            0.062242                      8841  \n",
       "65756            0.063368                      8549  \n",
       "65757            0.055567                      7787  \n",
       "65758            0.055567                      7788  \n",
       "\n",
       "[65759 rows x 17 columns]"
      ]
     },
     "execution_count": 226,
     "metadata": {},
     "output_type": "execute_result"
    }
   ],
   "source": [
    "no_outliers"
   ]
  },
  {
   "cell_type": "code",
   "execution_count": 228,
   "id": "f835a583-2c43-4f83-b612-52d0b21206fd",
   "metadata": {},
   "outputs": [
    {
     "data": {
      "text/plain": [
       "<Axes: xlabel='offense_code_ratio'>"
      ]
     },
     "execution_count": 228,
     "metadata": {},
     "output_type": "execute_result"
    },
    {
     "data": {
      "image/png": "[encoded data removed]",
      "text/plain": [
       "<Figure size 640x480 with 1 Axes>"
      ]
     },
     "metadata": {},
     "output_type": "display_data"
    }
   ],
   "source": [
    "sns.boxplot(x=no_outliers['offense_code_ratio'])"
   ]
  },
  {
   "cell_type": "code",
   "execution_count": 230,
   "id": "458f3724-70f1-458d-ad6a-4d91e923df27",
   "metadata": {},
   "outputs": [
    {
     "data": {
      "text/plain": [
       "<Axes: xlabel='offense_code_ratio'>"
      ]
     },
     "execution_count": 230,
     "metadata": {},
     "output_type": "execute_result"
    },
    {
     "data": {
      "image/png": "[encoded data removed]",
      "text/plain": [
       "<Figure size 640x480 with 1 Axes>"
      ]
     },
     "metadata": {},
     "output_type": "display_data"
    }
   ],
   "source": [
    "sns.boxplot(x=df['offense_code_ratio'])"
   ]
  },
  {
   "cell_type": "code",
   "execution_count": 232,
   "id": "c338ba32-9f6c-43c5-897a-fc809909c0fe",
   "metadata": {},
   "outputs": [
    {
     "data": {
      "text/plain": [
       "<Axes: ylabel='Frequency'>"
      ]
     },
     "execution_count": 232,
     "metadata": {},
     "output_type": "execute_result"
    },
    {
     "data": {
      "image/png": "[encoded data removed]",
      "text/plain": [
       "<Figure size 640x480 with 1 Axes>"
      ]
     },
     "metadata": {},
     "output_type": "display_data"
    }
   ],
   "source": [
    "ax = df['offense_code_ratio'].plot.hist(bins=12, alpha=0.5)\n",
    "ax"
   ]
  },
  {
   "cell_type": "code",
   "execution_count": 234,
   "id": "46ebb4f3-614d-4c53-959f-fae38208227a",
   "metadata": {},
   "outputs": [
    {
     "data": {
      "text/html": [
       "<div>\n",
       "<style scoped>\n",
       "    .dataframe tbody tr th:only-of-type {\n",
       "        vertical-align: middle;\n",
       "    }\n",
       "\n",
       "    .dataframe tbody tr th {\n",
       "        vertical-align: top;\n",
       "    }\n",
       "\n",
       "    .dataframe thead th {\n",
       "        text-align: right;\n",
       "    }\n",
       "</style>\n",
       "<table border=\"1\" class=\"dataframe\">\n",
       "  <thead>\n",
       "    <tr style=\"text-align: right;\">\n",
       "      <th></th>\n",
       "      <th>offense_code</th>\n",
       "      <th>description</th>\n",
       "      <th>date</th>\n",
       "      <th>year</th>\n",
       "      <th>month</th>\n",
       "      <th>day_of_week</th>\n",
       "      <th>time_period</th>\n",
       "      <th>day</th>\n",
       "      <th>is_weekend</th>\n",
       "      <th>description_length</th>\n",
       "      <th>offense_category</th>\n",
       "      <th>hour</th>\n",
       "      <th>monthly_crime_ratio</th>\n",
       "      <th>day_crime_ratio</th>\n",
       "      <th>offense_code_ratio</th>\n",
       "      <th>hourly_crime_ratio</th>\n",
       "      <th>cumulative_monthly_crime</th>\n",
       "    </tr>\n",
       "  </thead>\n",
       "  <tbody>\n",
       "    <tr>\n",
       "      <th>0</th>\n",
       "      <td>619</td>\n",
       "      <td>LARCENY ALL OTHERS</td>\n",
       "      <td>2018-09-02 13:00:00</td>\n",
       "      <td>2018</td>\n",
       "      <td>9</td>\n",
       "      <td>Sunday</td>\n",
       "      <td>&lt;bound method Series.apply of 0        2018-09...</td>\n",
       "      <td>2</td>\n",
       "      <td>True</td>\n",
       "      <td>18</td>\n",
       "      <td>&lt;bound method Series.apply of 0         619\\n1...</td>\n",
       "      <td>13</td>\n",
       "      <td>0.010219</td>\n",
       "      <td>0.123816</td>\n",
       "      <td>0.017579</td>\n",
       "      <td>0.054700</td>\n",
       "      <td>1</td>\n",
       "    </tr>\n",
       "    <tr>\n",
       "      <th>1</th>\n",
       "      <td>1402</td>\n",
       "      <td>VANDALISM</td>\n",
       "      <td>2018-08-21 00:00:00</td>\n",
       "      <td>2018</td>\n",
       "      <td>8</td>\n",
       "      <td>Tuesday</td>\n",
       "      <td>&lt;bound method Series.apply of 0        2018-09...</td>\n",
       "      <td>21</td>\n",
       "      <td>False</td>\n",
       "      <td>9</td>\n",
       "      <td>&lt;bound method Series.apply of 0         619\\n1...</td>\n",
       "      <td>0</td>\n",
       "      <td>0.126918</td>\n",
       "      <td>0.145379</td>\n",
       "      <td>0.042093</td>\n",
       "      <td>0.046792</td>\n",
       "      <td>1</td>\n",
       "    </tr>\n",
       "    <tr>\n",
       "      <th>2</th>\n",
       "      <td>3410</td>\n",
       "      <td>TOWED MOTOR VEHICLE</td>\n",
       "      <td>2018-09-03 19:27:00</td>\n",
       "      <td>2018</td>\n",
       "      <td>9</td>\n",
       "      <td>Monday</td>\n",
       "      <td>&lt;bound method Series.apply of 0        2018-09...</td>\n",
       "      <td>3</td>\n",
       "      <td>False</td>\n",
       "      <td>19</td>\n",
       "      <td>&lt;bound method Series.apply of 0         619\\n1...</td>\n",
       "      <td>19</td>\n",
       "      <td>0.010219</td>\n",
       "      <td>0.145151</td>\n",
       "      <td>0.038839</td>\n",
       "      <td>0.053498</td>\n",
       "      <td>2</td>\n",
       "    </tr>\n",
       "    <tr>\n",
       "      <th>3</th>\n",
       "      <td>3114</td>\n",
       "      <td>INVESTIGATE PROPERTY</td>\n",
       "      <td>2018-09-03 21:16:00</td>\n",
       "      <td>2018</td>\n",
       "      <td>9</td>\n",
       "      <td>Monday</td>\n",
       "      <td>&lt;bound method Series.apply of 0        2018-09...</td>\n",
       "      <td>3</td>\n",
       "      <td>False</td>\n",
       "      <td>20</td>\n",
       "      <td>&lt;bound method Series.apply of 0         619\\n1...</td>\n",
       "      <td>21</td>\n",
       "      <td>0.010219</td>\n",
       "      <td>0.145151</td>\n",
       "      <td>0.038459</td>\n",
       "      <td>0.044648</td>\n",
       "      <td>3</td>\n",
       "    </tr>\n",
       "    <tr>\n",
       "      <th>4</th>\n",
       "      <td>3114</td>\n",
       "      <td>INVESTIGATE PROPERTY</td>\n",
       "      <td>2018-09-03 21:05:00</td>\n",
       "      <td>2018</td>\n",
       "      <td>9</td>\n",
       "      <td>Monday</td>\n",
       "      <td>&lt;bound method Series.apply of 0        2018-09...</td>\n",
       "      <td>3</td>\n",
       "      <td>False</td>\n",
       "      <td>20</td>\n",
       "      <td>&lt;bound method Series.apply of 0         619\\n1...</td>\n",
       "      <td>21</td>\n",
       "      <td>0.010219</td>\n",
       "      <td>0.145151</td>\n",
       "      <td>0.038459</td>\n",
       "      <td>0.044648</td>\n",
       "      <td>4</td>\n",
       "    </tr>\n",
       "    <tr>\n",
       "      <th>...</th>\n",
       "      <td>...</td>\n",
       "      <td>...</td>\n",
       "      <td>...</td>\n",
       "      <td>...</td>\n",
       "      <td>...</td>\n",
       "      <td>...</td>\n",
       "      <td>...</td>\n",
       "      <td>...</td>\n",
       "      <td>...</td>\n",
       "      <td>...</td>\n",
       "      <td>...</td>\n",
       "      <td>...</td>\n",
       "      <td>...</td>\n",
       "      <td>...</td>\n",
       "      <td>...</td>\n",
       "      <td>...</td>\n",
       "      <td>...</td>\n",
       "    </tr>\n",
       "    <tr>\n",
       "      <th>65754</th>\n",
       "      <td>403</td>\n",
       "      <td>ASSAULT &amp; BATTERY D/W - OTHER</td>\n",
       "      <td>2016-06-14 09:40:00</td>\n",
       "      <td>2016</td>\n",
       "      <td>6</td>\n",
       "      <td>Tuesday</td>\n",
       "      <td>&lt;bound method Series.apply of 0        2018-09...</td>\n",
       "      <td>14</td>\n",
       "      <td>False</td>\n",
       "      <td>29</td>\n",
       "      <td>&lt;bound method Series.apply of 0         619\\n1...</td>\n",
       "      <td>9</td>\n",
       "      <td>0.134445</td>\n",
       "      <td>0.145379</td>\n",
       "      <td>0.000046</td>\n",
       "      <td>0.046108</td>\n",
       "      <td>8840</td>\n",
       "    </tr>\n",
       "    <tr>\n",
       "      <th>65755</th>\n",
       "      <td>629</td>\n",
       "      <td>LARCENY OTHER $50 TO $199</td>\n",
       "      <td>2016-06-05 17:23:00</td>\n",
       "      <td>2016</td>\n",
       "      <td>6</td>\n",
       "      <td>Sunday</td>\n",
       "      <td>&lt;bound method Series.apply of 0        2018-09...</td>\n",
       "      <td>5</td>\n",
       "      <td>True</td>\n",
       "      <td>25</td>\n",
       "      <td>&lt;bound method Series.apply of 0         619\\n1...</td>\n",
       "      <td>17</td>\n",
       "      <td>0.134445</td>\n",
       "      <td>0.123816</td>\n",
       "      <td>0.000030</td>\n",
       "      <td>0.062242</td>\n",
       "      <td>8841</td>\n",
       "    </tr>\n",
       "    <tr>\n",
       "      <th>65756</th>\n",
       "      <td>2910</td>\n",
       "      <td>VAL - OPERATING AFTER REV/SUSP.</td>\n",
       "      <td>2016-07-29 18:20:00</td>\n",
       "      <td>2016</td>\n",
       "      <td>7</td>\n",
       "      <td>Friday</td>\n",
       "      <td>&lt;bound method Series.apply of 0        2018-09...</td>\n",
       "      <td>29</td>\n",
       "      <td>False</td>\n",
       "      <td>31</td>\n",
       "      <td>&lt;bound method Series.apply of 0         619\\n1...</td>\n",
       "      <td>18</td>\n",
       "      <td>0.130005</td>\n",
       "      <td>0.151523</td>\n",
       "      <td>0.000015</td>\n",
       "      <td>0.063368</td>\n",
       "      <td>8549</td>\n",
       "    </tr>\n",
       "    <tr>\n",
       "      <th>65757</th>\n",
       "      <td>1864</td>\n",
       "      <td>DRUGS - POSS CLASS D - INTENT MFR DIST DISP</td>\n",
       "      <td>2018-01-27 14:01:00</td>\n",
       "      <td>2018</td>\n",
       "      <td>1</td>\n",
       "      <td>Saturday</td>\n",
       "      <td>&lt;bound method Series.apply of 0        2018-09...</td>\n",
       "      <td>27</td>\n",
       "      <td>True</td>\n",
       "      <td>43</td>\n",
       "      <td>&lt;bound method Series.apply of 0         619\\n1...</td>\n",
       "      <td>14</td>\n",
       "      <td>0.118432</td>\n",
       "      <td>0.140331</td>\n",
       "      <td>0.000015</td>\n",
       "      <td>0.055567</td>\n",
       "      <td>7787</td>\n",
       "    </tr>\n",
       "    <tr>\n",
       "      <th>65758</th>\n",
       "      <td>3125</td>\n",
       "      <td>WARRANT ARREST</td>\n",
       "      <td>2018-01-27 14:01:00</td>\n",
       "      <td>2018</td>\n",
       "      <td>1</td>\n",
       "      <td>Saturday</td>\n",
       "      <td>&lt;bound method Series.apply of 0        2018-09...</td>\n",
       "      <td>27</td>\n",
       "      <td>True</td>\n",
       "      <td>14</td>\n",
       "      <td>&lt;bound method Series.apply of 0         619\\n1...</td>\n",
       "      <td>14</td>\n",
       "      <td>0.118432</td>\n",
       "      <td>0.140331</td>\n",
       "      <td>0.017534</td>\n",
       "      <td>0.055567</td>\n",
       "      <td>7788</td>\n",
       "    </tr>\n",
       "  </tbody>\n",
       "</table>\n",
       "<p>65759 rows × 17 columns</p>\n",
       "</div>"
      ],
      "text/plain": [
       "       offense_code                                  description  \\\n",
       "0               619                           LARCENY ALL OTHERS   \n",
       "1              1402                                    VANDALISM   \n",
       "2              3410                          TOWED MOTOR VEHICLE   \n",
       "3              3114                         INVESTIGATE PROPERTY   \n",
       "4              3114                         INVESTIGATE PROPERTY   \n",
       "...             ...                                          ...   \n",
       "65754           403                ASSAULT & BATTERY D/W - OTHER   \n",
       "65755           629                    LARCENY OTHER $50 TO $199   \n",
       "65756          2910              VAL - OPERATING AFTER REV/SUSP.   \n",
       "65757          1864  DRUGS - POSS CLASS D - INTENT MFR DIST DISP   \n",
       "65758          3125                               WARRANT ARREST   \n",
       "\n",
       "                     date  year  month day_of_week  \\\n",
       "0     2018-09-02 13:00:00  2018      9      Sunday   \n",
       "1     2018-08-21 00:00:00  2018      8     Tuesday   \n",
       "2     2018-09-03 19:27:00  2018      9      Monday   \n",
       "3     2018-09-03 21:16:00  2018      9      Monday   \n",
       "4     2018-09-03 21:05:00  2018      9      Monday   \n",
       "...                   ...   ...    ...         ...   \n",
       "65754 2016-06-14 09:40:00  2016      6     Tuesday   \n",
       "65755 2016-06-05 17:23:00  2016      6      Sunday   \n",
       "65756 2016-07-29 18:20:00  2016      7      Friday   \n",
       "65757 2018-01-27 14:01:00  2018      1    Saturday   \n",
       "65758 2018-01-27 14:01:00  2018      1    Saturday   \n",
       "\n",
       "                                             time_period  day  is_weekend  \\\n",
       "0      <bound method Series.apply of 0        2018-09...    2        True   \n",
       "1      <bound method Series.apply of 0        2018-09...   21       False   \n",
       "2      <bound method Series.apply of 0        2018-09...    3       False   \n",
       "3      <bound method Series.apply of 0        2018-09...    3       False   \n",
       "4      <bound method Series.apply of 0        2018-09...    3       False   \n",
       "...                                                  ...  ...         ...   \n",
       "65754  <bound method Series.apply of 0        2018-09...   14       False   \n",
       "65755  <bound method Series.apply of 0        2018-09...    5        True   \n",
       "65756  <bound method Series.apply of 0        2018-09...   29       False   \n",
       "65757  <bound method Series.apply of 0        2018-09...   27        True   \n",
       "65758  <bound method Series.apply of 0        2018-09...   27        True   \n",
       "\n",
       "       description_length                                   offense_category  \\\n",
       "0                      18  <bound method Series.apply of 0         619\\n1...   \n",
       "1                       9  <bound method Series.apply of 0         619\\n1...   \n",
       "2                      19  <bound method Series.apply of 0         619\\n1...   \n",
       "3                      20  <bound method Series.apply of 0         619\\n1...   \n",
       "4                      20  <bound method Series.apply of 0         619\\n1...   \n",
       "...                   ...                                                ...   \n",
       "65754                  29  <bound method Series.apply of 0         619\\n1...   \n",
       "65755                  25  <bound method Series.apply of 0         619\\n1...   \n",
       "65756                  31  <bound method Series.apply of 0         619\\n1...   \n",
       "65757                  43  <bound method Series.apply of 0         619\\n1...   \n",
       "65758                  14  <bound method Series.apply of 0         619\\n1...   \n",
       "\n",
       "       hour  monthly_crime_ratio  day_crime_ratio  offense_code_ratio  \\\n",
       "0        13             0.010219         0.123816            0.017579   \n",
       "1         0             0.126918         0.145379            0.042093   \n",
       "2        19             0.010219         0.145151            0.038839   \n",
       "3        21             0.010219         0.145151            0.038459   \n",
       "4        21             0.010219         0.145151            0.038459   \n",
       "...     ...                  ...              ...                 ...   \n",
       "65754     9             0.134445         0.145379            0.000046   \n",
       "65755    17             0.134445         0.123816            0.000030   \n",
       "65756    18             0.130005         0.151523            0.000015   \n",
       "65757    14             0.118432         0.140331            0.000015   \n",
       "65758    14             0.118432         0.140331            0.017534   \n",
       "\n",
       "       hourly_crime_ratio  cumulative_monthly_crime  \n",
       "0                0.054700                         1  \n",
       "1                0.046792                         1  \n",
       "2                0.053498                         2  \n",
       "3                0.044648                         3  \n",
       "4                0.044648                         4  \n",
       "...                   ...                       ...  \n",
       "65754            0.046108                      8840  \n",
       "65755            0.062242                      8841  \n",
       "65756            0.063368                      8549  \n",
       "65757            0.055567                      7787  \n",
       "65758            0.055567                      7788  \n",
       "\n",
       "[65759 rows x 17 columns]"
      ]
     },
     "execution_count": 234,
     "metadata": {},
     "output_type": "execute_result"
    }
   ],
   "source": [
    "df"
   ]
  },
  {
   "cell_type": "code",
   "execution_count": 238,
   "id": "6068e310-de63-4f78-90d4-ab22e7971edc",
   "metadata": {},
   "outputs": [
    {
     "data": {
      "text/plain": [
       "<Axes: xlabel='offense_code_ratio', ylabel='hourly_crime_ratio'>"
      ]
     },
     "execution_count": 238,
     "metadata": {},
     "output_type": "execute_result"
    },
    {
     "data": {
      "image/png": "[encoded data removed]",
      "text/plain": [
       "<Figure size 640x480 with 1 Axes>"
      ]
     },
     "metadata": {},
     "output_type": "display_data"
    }
   ],
   "source": [
    "sns.scatterplot(data=no_outliers, x=\"offense_code_ratio\", y=\"hourly_crime_ratio\")"
   ]
  },
  {
   "cell_type": "code",
   "execution_count": 250,
   "id": "563d0579-8e81-4608-8eb5-fa57b935b303",
   "metadata": {},
   "outputs": [
    {
     "data": {
      "text/html": [
       "<div>\n",
       "<style scoped>\n",
       "    .dataframe tbody tr th:only-of-type {\n",
       "        vertical-align: middle;\n",
       "    }\n",
       "\n",
       "    .dataframe tbody tr th {\n",
       "        vertical-align: top;\n",
       "    }\n",
       "\n",
       "    .dataframe thead th {\n",
       "        text-align: right;\n",
       "    }\n",
       "</style>\n",
       "<table border=\"1\" class=\"dataframe\">\n",
       "  <thead>\n",
       "    <tr style=\"text-align: right;\">\n",
       "      <th></th>\n",
       "      <th>offense_code_ratio</th>\n",
       "      <th>hourly_crime_ratio</th>\n",
       "    </tr>\n",
       "  </thead>\n",
       "  <tbody>\n",
       "    <tr>\n",
       "      <th>0</th>\n",
       "      <td>0.017579</td>\n",
       "      <td>0.054700</td>\n",
       "    </tr>\n",
       "    <tr>\n",
       "      <th>1</th>\n",
       "      <td>0.042093</td>\n",
       "      <td>0.046792</td>\n",
       "    </tr>\n",
       "    <tr>\n",
       "      <th>2</th>\n",
       "      <td>0.038839</td>\n",
       "      <td>0.053498</td>\n",
       "    </tr>\n",
       "    <tr>\n",
       "      <th>3</th>\n",
       "      <td>0.038459</td>\n",
       "      <td>0.044648</td>\n",
       "    </tr>\n",
       "    <tr>\n",
       "      <th>4</th>\n",
       "      <td>0.038459</td>\n",
       "      <td>0.044648</td>\n",
       "    </tr>\n",
       "    <tr>\n",
       "      <th>...</th>\n",
       "      <td>...</td>\n",
       "      <td>...</td>\n",
       "    </tr>\n",
       "    <tr>\n",
       "      <th>65754</th>\n",
       "      <td>0.000046</td>\n",
       "      <td>0.046108</td>\n",
       "    </tr>\n",
       "    <tr>\n",
       "      <th>65755</th>\n",
       "      <td>0.000030</td>\n",
       "      <td>0.062242</td>\n",
       "    </tr>\n",
       "    <tr>\n",
       "      <th>65756</th>\n",
       "      <td>0.000015</td>\n",
       "      <td>0.063368</td>\n",
       "    </tr>\n",
       "    <tr>\n",
       "      <th>65757</th>\n",
       "      <td>0.000015</td>\n",
       "      <td>0.055567</td>\n",
       "    </tr>\n",
       "    <tr>\n",
       "      <th>65758</th>\n",
       "      <td>0.017534</td>\n",
       "      <td>0.055567</td>\n",
       "    </tr>\n",
       "  </tbody>\n",
       "</table>\n",
       "<p>65759 rows × 2 columns</p>\n",
       "</div>"
      ],
      "text/plain": [
       "       offense_code_ratio  hourly_crime_ratio\n",
       "0                0.017579            0.054700\n",
       "1                0.042093            0.046792\n",
       "2                0.038839            0.053498\n",
       "3                0.038459            0.044648\n",
       "4                0.038459            0.044648\n",
       "...                   ...                 ...\n",
       "65754            0.000046            0.046108\n",
       "65755            0.000030            0.062242\n",
       "65756            0.000015            0.063368\n",
       "65757            0.000015            0.055567\n",
       "65758            0.017534            0.055567\n",
       "\n",
       "[65759 rows x 2 columns]"
      ]
     },
     "execution_count": 250,
     "metadata": {},
     "output_type": "execute_result"
    }
   ],
   "source": [
    "crime_df = no_outliers[['offense_code_ratio', 'hourly_crime_ratio']]\n",
    "crime_df"
   ]
  },
  {
   "cell_type": "code",
   "execution_count": 252,
   "id": "a5bae772-894e-4d8c-8601-863f0946540b",
   "metadata": {},
   "outputs": [
    {
     "data": {
      "text/plain": [
       "Text(0.5, 1.0, 'crime Heatmap')"
      ]
     },
     "execution_count": 252,
     "metadata": {},
     "output_type": "execute_result"
    },
    {
     "data": {
      "image/png": "[encoded data removed]",
      "text/plain": [
       "<Figure size 640x480 with 2 Axes>"
      ]
     },
     "metadata": {},
     "output_type": "display_data"
    }
   ],
   "source": [
    "heatmap = sns.heatmap(crime_df.corr(), annot=True)\n",
    "heatmap.set_title('crime Heatmap')"
   ]
  },
  {
   "cell_type": "code",
   "execution_count": 256,
   "id": "fff0aa55-9af9-492b-b81a-f695e92800d2",
   "metadata": {},
   "outputs": [
    {
     "data": {
      "text/plain": [
       "[Text(0, 0.5, '')]"
      ]
     },
     "execution_count": 256,
     "metadata": {},
     "output_type": "execute_result"
    },
    {
     "data": {
      "image/png": "[encoded data removed]",
      "text/plain": [
       "<Figure size 640x480 with 1 Axes>"
      ]
     },
     "metadata": {},
     "output_type": "display_data"
    }
   ],
   "source": [
    "ax = sns.barplot(y='year', x='offense_code', data=no_outliers)\n",
    "ax.set(ylabel=None)"
   ]
  },
  {
   "cell_type": "code",
   "execution_count": 270,
   "id": "77a2da11-ed5d-4266-adf6-7da7a9c69c75",
   "metadata": {},
   "outputs": [
    {
     "data": {
      "text/html": [
       "<div>\n",
       "<style scoped>\n",
       "    .dataframe tbody tr th:only-of-type {\n",
       "        vertical-align: middle;\n",
       "    }\n",
       "\n",
       "    .dataframe tbody tr th {\n",
       "        vertical-align: top;\n",
       "    }\n",
       "\n",
       "    .dataframe thead th {\n",
       "        text-align: right;\n",
       "    }\n",
       "</style>\n",
       "<table border=\"1\" class=\"dataframe\">\n",
       "  <thead>\n",
       "    <tr style=\"text-align: right;\">\n",
       "      <th></th>\n",
       "      <th>year</th>\n",
       "      <th>offense_code</th>\n",
       "    </tr>\n",
       "  </thead>\n",
       "  <tbody>\n",
       "    <tr>\n",
       "      <th>57460</th>\n",
       "      <td>2018</td>\n",
       "      <td>3831</td>\n",
       "    </tr>\n",
       "    <tr>\n",
       "      <th>26255</th>\n",
       "      <td>2018</td>\n",
       "      <td>3831</td>\n",
       "    </tr>\n",
       "    <tr>\n",
       "      <th>32929</th>\n",
       "      <td>2018</td>\n",
       "      <td>3831</td>\n",
       "    </tr>\n",
       "    <tr>\n",
       "      <th>20653</th>\n",
       "      <td>2018</td>\n",
       "      <td>3831</td>\n",
       "    </tr>\n",
       "    <tr>\n",
       "      <th>2070</th>\n",
       "      <td>2018</td>\n",
       "      <td>3831</td>\n",
       "    </tr>\n",
       "    <tr>\n",
       "      <th>...</th>\n",
       "      <td>...</td>\n",
       "      <td>...</td>\n",
       "    </tr>\n",
       "    <tr>\n",
       "      <th>26689</th>\n",
       "      <td>2018</td>\n",
       "      <td>111</td>\n",
       "    </tr>\n",
       "    <tr>\n",
       "      <th>41773</th>\n",
       "      <td>2018</td>\n",
       "      <td>111</td>\n",
       "    </tr>\n",
       "    <tr>\n",
       "      <th>10784</th>\n",
       "      <td>2018</td>\n",
       "      <td>111</td>\n",
       "    </tr>\n",
       "    <tr>\n",
       "      <th>43622</th>\n",
       "      <td>2018</td>\n",
       "      <td>111</td>\n",
       "    </tr>\n",
       "    <tr>\n",
       "      <th>63131</th>\n",
       "      <td>2018</td>\n",
       "      <td>111</td>\n",
       "    </tr>\n",
       "  </tbody>\n",
       "</table>\n",
       "<p>65759 rows × 2 columns</p>\n",
       "</div>"
      ],
      "text/plain": [
       "       year  offense_code\n",
       "57460  2018          3831\n",
       "26255  2018          3831\n",
       "32929  2018          3831\n",
       "20653  2018          3831\n",
       "2070   2018          3831\n",
       "...     ...           ...\n",
       "26689  2018           111\n",
       "41773  2018           111\n",
       "10784  2018           111\n",
       "43622  2018           111\n",
       "63131  2018           111\n",
       "\n",
       "[65759 rows x 2 columns]"
      ]
     },
     "execution_count": 270,
     "metadata": {},
     "output_type": "execute_result"
    }
   ],
   "source": [
    "no_outliers = no_outliers.sort_values(by='offense_code', ascending=False)\n",
    "no_outliers[['year', 'offense_code']]"
   ]
  },
  {
   "cell_type": "code",
   "execution_count": 274,
   "id": "455d90c9-50fe-41bd-a3b4-327ebf633289",
   "metadata": {},
   "outputs": [
    {
     "name": "stdout",
     "output_type": "stream",
     "text": [
      "<class 'pandas.core.series.Series'>\n",
      "Index: 4 entries, 2015 to 2018\n",
      "Series name: offense_code\n",
      "Non-Null Count  Dtype\n",
      "--------------  -----\n",
      "4 non-null      int64\n",
      "dtypes: int64(1)\n",
      "memory usage: 48.0 bytes\n",
      "year\n",
      "2015         9132\n",
      "2016        19389\n",
      "2017        63605\n",
      "2018    155059645\n",
      "Name: offense_code, dtype: int64\n"
     ]
    }
   ],
   "source": [
    "year_grp_series = no_outliers.groupby('year')['offense_code'].sum()\n",
    "year_grp_series.info()\n",
    "print(year_grp_series)"
   ]
  },
  {
   "cell_type": "code",
   "execution_count": 276,
   "id": "1ebcb3ac-52ac-4473-babd-65bc6577e509",
   "metadata": {},
   "outputs": [
    {
     "data": {
      "text/html": [
       "<div>\n",
       "<style scoped>\n",
       "    .dataframe tbody tr th:only-of-type {\n",
       "        vertical-align: middle;\n",
       "    }\n",
       "\n",
       "    .dataframe tbody tr th {\n",
       "        vertical-align: top;\n",
       "    }\n",
       "\n",
       "    .dataframe thead th {\n",
       "        text-align: right;\n",
       "    }\n",
       "</style>\n",
       "<table border=\"1\" class=\"dataframe\">\n",
       "  <thead>\n",
       "    <tr style=\"text-align: right;\">\n",
       "      <th></th>\n",
       "      <th>year</th>\n",
       "      <th>offense_code</th>\n",
       "    </tr>\n",
       "  </thead>\n",
       "  <tbody>\n",
       "    <tr>\n",
       "      <th>0</th>\n",
       "      <td>2015</td>\n",
       "      <td>9132</td>\n",
       "    </tr>\n",
       "    <tr>\n",
       "      <th>1</th>\n",
       "      <td>2016</td>\n",
       "      <td>19389</td>\n",
       "    </tr>\n",
       "    <tr>\n",
       "      <th>2</th>\n",
       "      <td>2017</td>\n",
       "      <td>63605</td>\n",
       "    </tr>\n",
       "    <tr>\n",
       "      <th>3</th>\n",
       "      <td>2018</td>\n",
       "      <td>155059645</td>\n",
       "    </tr>\n",
       "  </tbody>\n",
       "</table>\n",
       "</div>"
      ],
      "text/plain": [
       "   year  offense_code\n",
       "0  2015          9132\n",
       "1  2016         19389\n",
       "2  2017         63605\n",
       "3  2018     155059645"
      ]
     },
     "execution_count": 276,
     "metadata": {},
     "output_type": "execute_result"
    }
   ],
   "source": [
    "year_grouped_df = year_grp_series.to_frame().reset_index()\n",
    "year_grouped_df"
   ]
  },
  {
   "cell_type": "code",
   "execution_count": 284,
   "id": "747f7d01-7e43-4592-a2e8-540114e58f7a",
   "metadata": {},
   "outputs": [
    {
     "data": {
      "image/png": "[encoded data removed]",
      "text/plain": [
       "<Figure size 640x480 with 1 Axes>"
      ]
     },
     "metadata": {},
     "output_type": "display_data"
    }
   ],
   "source": [
    "year_grouped_df = year_grouped_df.sort_values(by='offense_code', ascending=False)\n",
    "crime_rate_plt = sns.barplot(y='offense_code', x='year', data=year_grouped_df)"
   ]
  },
  {
   "cell_type": "code",
   "execution_count": 288,
   "id": "7dc31dfd-d025-4c0e-90a1-8abffa9933c4",
   "metadata": {},
   "outputs": [
    {
     "data": {
      "text/html": [
       "<div>\n",
       "<style scoped>\n",
       "    .dataframe tbody tr th:only-of-type {\n",
       "        vertical-align: middle;\n",
       "    }\n",
       "\n",
       "    .dataframe tbody tr th {\n",
       "        vertical-align: top;\n",
       "    }\n",
       "\n",
       "    .dataframe thead th {\n",
       "        text-align: right;\n",
       "    }\n",
       "</style>\n",
       "<table border=\"1\" class=\"dataframe\">\n",
       "  <thead>\n",
       "    <tr style=\"text-align: right;\">\n",
       "      <th></th>\n",
       "      <th>offense_code</th>\n",
       "      <th>description</th>\n",
       "      <th>date</th>\n",
       "      <th>year</th>\n",
       "      <th>month</th>\n",
       "      <th>day_of_week</th>\n",
       "      <th>time_period</th>\n",
       "      <th>day</th>\n",
       "      <th>is_weekend</th>\n",
       "      <th>description_length</th>\n",
       "      <th>offense_category</th>\n",
       "      <th>hour</th>\n",
       "      <th>monthly_crime_ratio</th>\n",
       "      <th>day_crime_ratio</th>\n",
       "      <th>offense_code_ratio</th>\n",
       "      <th>hourly_crime_ratio</th>\n",
       "      <th>cumulative_monthly_crime</th>\n",
       "      <th>year_grouped_total_offense_code</th>\n",
       "    </tr>\n",
       "  </thead>\n",
       "  <tbody>\n",
       "    <tr>\n",
       "      <th>57460</th>\n",
       "      <td>3831</td>\n",
       "      <td>M/V - LEAVING SCENE - PROPERTY DAMAGE</td>\n",
       "      <td>2018-02-03 11:25:00</td>\n",
       "      <td>2018</td>\n",
       "      <td>2</td>\n",
       "      <td>Saturday</td>\n",
       "      <td>&lt;bound method Series.apply of 0        2018-09...</td>\n",
       "      <td>3</td>\n",
       "      <td>True</td>\n",
       "      <td>37</td>\n",
       "      <td>&lt;bound method Series.apply of 0         619\\n1...</td>\n",
       "      <td>11</td>\n",
       "      <td>0.105583</td>\n",
       "      <td>0.140331</td>\n",
       "      <td>0.051445</td>\n",
       "      <td>0.053909</td>\n",
       "      <td>6415</td>\n",
       "      <td>155059645</td>\n",
       "    </tr>\n",
       "    <tr>\n",
       "      <th>26255</th>\n",
       "      <td>3831</td>\n",
       "      <td>M/V - LEAVING SCENE - PROPERTY DAMAGE</td>\n",
       "      <td>2018-06-02 14:27:00</td>\n",
       "      <td>2018</td>\n",
       "      <td>6</td>\n",
       "      <td>Saturday</td>\n",
       "      <td>&lt;bound method Series.apply of 0        2018-09...</td>\n",
       "      <td>2</td>\n",
       "      <td>True</td>\n",
       "      <td>37</td>\n",
       "      <td>&lt;bound method Series.apply of 0         619\\n1...</td>\n",
       "      <td>14</td>\n",
       "      <td>0.134445</td>\n",
       "      <td>0.140331</td>\n",
       "      <td>0.051445</td>\n",
       "      <td>0.055567</td>\n",
       "      <td>8407</td>\n",
       "      <td>155059645</td>\n",
       "    </tr>\n",
       "    <tr>\n",
       "      <th>32929</th>\n",
       "      <td>3831</td>\n",
       "      <td>M/V - LEAVING SCENE - PROPERTY DAMAGE</td>\n",
       "      <td>2018-05-08 17:45:00</td>\n",
       "      <td>2018</td>\n",
       "      <td>5</td>\n",
       "      <td>Tuesday</td>\n",
       "      <td>&lt;bound method Series.apply of 0        2018-09...</td>\n",
       "      <td>8</td>\n",
       "      <td>False</td>\n",
       "      <td>37</td>\n",
       "      <td>&lt;bound method Series.apply of 0         619\\n1...</td>\n",
       "      <td>17</td>\n",
       "      <td>0.135464</td>\n",
       "      <td>0.145379</td>\n",
       "      <td>0.051445</td>\n",
       "      <td>0.062242</td>\n",
       "      <td>6365</td>\n",
       "      <td>155059645</td>\n",
       "    </tr>\n",
       "    <tr>\n",
       "      <th>20653</th>\n",
       "      <td>3831</td>\n",
       "      <td>M/V - LEAVING SCENE - PROPERTY DAMAGE</td>\n",
       "      <td>2018-06-21 06:30:00</td>\n",
       "      <td>2018</td>\n",
       "      <td>6</td>\n",
       "      <td>Thursday</td>\n",
       "      <td>&lt;bound method Series.apply of 0        2018-09...</td>\n",
       "      <td>21</td>\n",
       "      <td>False</td>\n",
       "      <td>37</td>\n",
       "      <td>&lt;bound method Series.apply of 0         619\\n1...</td>\n",
       "      <td>6</td>\n",
       "      <td>0.134445</td>\n",
       "      <td>0.147067</td>\n",
       "      <td>0.051445</td>\n",
       "      <td>0.016484</td>\n",
       "      <td>2993</td>\n",
       "      <td>155059645</td>\n",
       "    </tr>\n",
       "    <tr>\n",
       "      <th>2070</th>\n",
       "      <td>3831</td>\n",
       "      <td>M/V - LEAVING SCENE - PROPERTY DAMAGE</td>\n",
       "      <td>2018-08-24 14:00:00</td>\n",
       "      <td>2018</td>\n",
       "      <td>8</td>\n",
       "      <td>Friday</td>\n",
       "      <td>&lt;bound method Series.apply of 0        2018-09...</td>\n",
       "      <td>24</td>\n",
       "      <td>False</td>\n",
       "      <td>37</td>\n",
       "      <td>&lt;bound method Series.apply of 0         619\\n1...</td>\n",
       "      <td>14</td>\n",
       "      <td>0.126918</td>\n",
       "      <td>0.151523</td>\n",
       "      <td>0.051445</td>\n",
       "      <td>0.055567</td>\n",
       "      <td>1385</td>\n",
       "      <td>155059645</td>\n",
       "    </tr>\n",
       "    <tr>\n",
       "      <th>...</th>\n",
       "      <td>...</td>\n",
       "      <td>...</td>\n",
       "      <td>...</td>\n",
       "      <td>...</td>\n",
       "      <td>...</td>\n",
       "      <td>...</td>\n",
       "      <td>...</td>\n",
       "      <td>...</td>\n",
       "      <td>...</td>\n",
       "      <td>...</td>\n",
       "      <td>...</td>\n",
       "      <td>...</td>\n",
       "      <td>...</td>\n",
       "      <td>...</td>\n",
       "      <td>...</td>\n",
       "      <td>...</td>\n",
       "      <td>...</td>\n",
       "      <td>...</td>\n",
       "    </tr>\n",
       "    <tr>\n",
       "      <th>26689</th>\n",
       "      <td>111</td>\n",
       "      <td>MURDER, NON-NEGLIGIENT MANSLAUGHTER</td>\n",
       "      <td>2018-06-01 02:31:00</td>\n",
       "      <td>2018</td>\n",
       "      <td>6</td>\n",
       "      <td>Friday</td>\n",
       "      <td>&lt;bound method Series.apply of 0        2018-09...</td>\n",
       "      <td>1</td>\n",
       "      <td>False</td>\n",
       "      <td>35</td>\n",
       "      <td>&lt;bound method Series.apply of 0         619\\n1...</td>\n",
       "      <td>2</td>\n",
       "      <td>0.134445</td>\n",
       "      <td>0.151523</td>\n",
       "      <td>0.000502</td>\n",
       "      <td>0.024042</td>\n",
       "      <td>8780</td>\n",
       "      <td>155059645</td>\n",
       "    </tr>\n",
       "    <tr>\n",
       "      <th>41773</th>\n",
       "      <td>111</td>\n",
       "      <td>MURDER, NON-NEGLIGIENT MANSLAUGHTER</td>\n",
       "      <td>2018-04-07 17:37:00</td>\n",
       "      <td>2018</td>\n",
       "      <td>4</td>\n",
       "      <td>Saturday</td>\n",
       "      <td>&lt;bound method Series.apply of 0        2018-09...</td>\n",
       "      <td>7</td>\n",
       "      <td>True</td>\n",
       "      <td>35</td>\n",
       "      <td>&lt;bound method Series.apply of 0         619\\n1...</td>\n",
       "      <td>17</td>\n",
       "      <td>0.120425</td>\n",
       "      <td>0.140331</td>\n",
       "      <td>0.000502</td>\n",
       "      <td>0.062242</td>\n",
       "      <td>6295</td>\n",
       "      <td>155059645</td>\n",
       "    </tr>\n",
       "    <tr>\n",
       "      <th>10784</th>\n",
       "      <td>111</td>\n",
       "      <td>MURDER, NON-NEGLIGIENT MANSLAUGHTER</td>\n",
       "      <td>2018-07-26 18:14:00</td>\n",
       "      <td>2018</td>\n",
       "      <td>7</td>\n",
       "      <td>Thursday</td>\n",
       "      <td>&lt;bound method Series.apply of 0        2018-09...</td>\n",
       "      <td>26</td>\n",
       "      <td>False</td>\n",
       "      <td>35</td>\n",
       "      <td>&lt;bound method Series.apply of 0         619\\n1...</td>\n",
       "      <td>18</td>\n",
       "      <td>0.130005</td>\n",
       "      <td>0.147067</td>\n",
       "      <td>0.000502</td>\n",
       "      <td>0.063368</td>\n",
       "      <td>1700</td>\n",
       "      <td>155059645</td>\n",
       "    </tr>\n",
       "    <tr>\n",
       "      <th>43622</th>\n",
       "      <td>111</td>\n",
       "      <td>MURDER, NON-NEGLIGIENT MANSLAUGHTER</td>\n",
       "      <td>2018-03-31 15:55:00</td>\n",
       "      <td>2018</td>\n",
       "      <td>3</td>\n",
       "      <td>Saturday</td>\n",
       "      <td>&lt;bound method Series.apply of 0        2018-09...</td>\n",
       "      <td>31</td>\n",
       "      <td>True</td>\n",
       "      <td>35</td>\n",
       "      <td>&lt;bound method Series.apply of 0         619\\n1...</td>\n",
       "      <td>15</td>\n",
       "      <td>0.118204</td>\n",
       "      <td>0.140331</td>\n",
       "      <td>0.000502</td>\n",
       "      <td>0.050959</td>\n",
       "      <td>401</td>\n",
       "      <td>155059645</td>\n",
       "    </tr>\n",
       "    <tr>\n",
       "      <th>63131</th>\n",
       "      <td>111</td>\n",
       "      <td>MURDER, NON-NEGLIGIENT MANSLAUGHTER</td>\n",
       "      <td>2018-01-11 14:03:00</td>\n",
       "      <td>2018</td>\n",
       "      <td>1</td>\n",
       "      <td>Thursday</td>\n",
       "      <td>&lt;bound method Series.apply of 0        2018-09...</td>\n",
       "      <td>11</td>\n",
       "      <td>False</td>\n",
       "      <td>35</td>\n",
       "      <td>&lt;bound method Series.apply of 0         619\\n1...</td>\n",
       "      <td>14</td>\n",
       "      <td>0.118432</td>\n",
       "      <td>0.147067</td>\n",
       "      <td>0.000502</td>\n",
       "      <td>0.055567</td>\n",
       "      <td>5367</td>\n",
       "      <td>155059645</td>\n",
       "    </tr>\n",
       "  </tbody>\n",
       "</table>\n",
       "<p>65759 rows × 18 columns</p>\n",
       "</div>"
      ],
      "text/plain": [
       "       offense_code                            description  \\\n",
       "57460          3831  M/V - LEAVING SCENE - PROPERTY DAMAGE   \n",
       "26255          3831  M/V - LEAVING SCENE - PROPERTY DAMAGE   \n",
       "32929          3831  M/V - LEAVING SCENE - PROPERTY DAMAGE   \n",
       "20653          3831  M/V - LEAVING SCENE - PROPERTY DAMAGE   \n",
       "2070           3831  M/V - LEAVING SCENE - PROPERTY DAMAGE   \n",
       "...             ...                                    ...   \n",
       "26689           111    MURDER, NON-NEGLIGIENT MANSLAUGHTER   \n",
       "41773           111    MURDER, NON-NEGLIGIENT MANSLAUGHTER   \n",
       "10784           111    MURDER, NON-NEGLIGIENT MANSLAUGHTER   \n",
       "43622           111    MURDER, NON-NEGLIGIENT MANSLAUGHTER   \n",
       "63131           111    MURDER, NON-NEGLIGIENT MANSLAUGHTER   \n",
       "\n",
       "                     date  year  month day_of_week  \\\n",
       "57460 2018-02-03 11:25:00  2018      2    Saturday   \n",
       "26255 2018-06-02 14:27:00  2018      6    Saturday   \n",
       "32929 2018-05-08 17:45:00  2018      5     Tuesday   \n",
       "20653 2018-06-21 06:30:00  2018      6    Thursday   \n",
       "2070  2018-08-24 14:00:00  2018      8      Friday   \n",
       "...                   ...   ...    ...         ...   \n",
       "26689 2018-06-01 02:31:00  2018      6      Friday   \n",
       "41773 2018-04-07 17:37:00  2018      4    Saturday   \n",
       "10784 2018-07-26 18:14:00  2018      7    Thursday   \n",
       "43622 2018-03-31 15:55:00  2018      3    Saturday   \n",
       "63131 2018-01-11 14:03:00  2018      1    Thursday   \n",
       "\n",
       "                                             time_period  day  is_weekend  \\\n",
       "57460  <bound method Series.apply of 0        2018-09...    3        True   \n",
       "26255  <bound method Series.apply of 0        2018-09...    2        True   \n",
       "32929  <bound method Series.apply of 0        2018-09...    8       False   \n",
       "20653  <bound method Series.apply of 0        2018-09...   21       False   \n",
       "2070   <bound method Series.apply of 0        2018-09...   24       False   \n",
       "...                                                  ...  ...         ...   \n",
       "26689  <bound method Series.apply of 0        2018-09...    1       False   \n",
       "41773  <bound method Series.apply of 0        2018-09...    7        True   \n",
       "10784  <bound method Series.apply of 0        2018-09...   26       False   \n",
       "43622  <bound method Series.apply of 0        2018-09...   31        True   \n",
       "63131  <bound method Series.apply of 0        2018-09...   11       False   \n",
       "\n",
       "       description_length                                   offense_category  \\\n",
       "57460                  37  <bound method Series.apply of 0         619\\n1...   \n",
       "26255                  37  <bound method Series.apply of 0         619\\n1...   \n",
       "32929                  37  <bound method Series.apply of 0         619\\n1...   \n",
       "20653                  37  <bound method Series.apply of 0         619\\n1...   \n",
       "2070                   37  <bound method Series.apply of 0         619\\n1...   \n",
       "...                   ...                                                ...   \n",
       "26689                  35  <bound method Series.apply of 0         619\\n1...   \n",
       "41773                  35  <bound method Series.apply of 0         619\\n1...   \n",
       "10784                  35  <bound method Series.apply of 0         619\\n1...   \n",
       "43622                  35  <bound method Series.apply of 0         619\\n1...   \n",
       "63131                  35  <bound method Series.apply of 0         619\\n1...   \n",
       "\n",
       "       hour  monthly_crime_ratio  day_crime_ratio  offense_code_ratio  \\\n",
       "57460    11             0.105583         0.140331            0.051445   \n",
       "26255    14             0.134445         0.140331            0.051445   \n",
       "32929    17             0.135464         0.145379            0.051445   \n",
       "20653     6             0.134445         0.147067            0.051445   \n",
       "2070     14             0.126918         0.151523            0.051445   \n",
       "...     ...                  ...              ...                 ...   \n",
       "26689     2             0.134445         0.151523            0.000502   \n",
       "41773    17             0.120425         0.140331            0.000502   \n",
       "10784    18             0.130005         0.147067            0.000502   \n",
       "43622    15             0.118204         0.140331            0.000502   \n",
       "63131    14             0.118432         0.147067            0.000502   \n",
       "\n",
       "       hourly_crime_ratio  cumulative_monthly_crime  \\\n",
       "57460            0.053909                      6415   \n",
       "26255            0.055567                      8407   \n",
       "32929            0.062242                      6365   \n",
       "20653            0.016484                      2993   \n",
       "2070             0.055567                      1385   \n",
       "...                   ...                       ...   \n",
       "26689            0.024042                      8780   \n",
       "41773            0.062242                      6295   \n",
       "10784            0.063368                      1700   \n",
       "43622            0.050959                       401   \n",
       "63131            0.055567                      5367   \n",
       "\n",
       "       year_grouped_total_offense_code  \n",
       "57460                        155059645  \n",
       "26255                        155059645  \n",
       "32929                        155059645  \n",
       "20653                        155059645  \n",
       "2070                         155059645  \n",
       "...                                ...  \n",
       "26689                        155059645  \n",
       "41773                        155059645  \n",
       "10784                        155059645  \n",
       "43622                        155059645  \n",
       "63131                        155059645  \n",
       "\n",
       "[65759 rows x 18 columns]"
      ]
     },
     "execution_count": 288,
     "metadata": {},
     "output_type": "execute_result"
    }
   ],
   "source": [
    "no_outliers['year_grouped_total_offense_code'] = no_outliers['year'].map(year_grp_series)\n",
    "no_outliers"
   ]
  },
  {
   "cell_type": "code",
   "execution_count": 299,
   "id": "639a1383-219a-40c5-8b64-d34c2ac9ec2d",
   "metadata": {},
   "outputs": [
    {
     "data": {
      "application/vnd.plotly.v1+json": {
       "config": {
        "plotlyServerURL": "https://plot.ly"
       },
       "data": [
        {
         "branchvalues": "total",
         "customdata": [
          [
           1.5207043902735748e-05
          ],
          [
           1.5207043902735748e-05
          ],
          [
           6.082817561094299e-05
          ],
          [
           6.082817561094299e-05
          ],
          [
           6.082817561094299e-05
          ],
          [
           6.082817561094299e-05
          ],
          [
           0.0020681579707720614
          ],
          [
           0.0015511184780790462
          ],
          [
           0.004136315941544123
          ],
          [
           0.0036192764488511076
          ],
          [
           0.0015511184780790462
          ],
          [
           0.0025851974634650767
          ],
          [
           0.0010340789853860307
          ],
          [
           0.0005170394926930154
          ],
          [
           0.0005170394926930154
          ],
          [
           9.124226341641449e-05
          ],
          [
           9.124226341641449e-05
          ],
          [
           0.00027372679024924345
          ],
          [
           9.124226341641449e-05
          ],
          [
           0.0004257972292766009
          ],
          [
           0.00021289861463830045
          ],
          [
           0.0004257972292766009
          ],
          [
           0.0004257972292766009
          ],
          [
           0.0004257972292766009
          ],
          [
           0.0006386958439149014
          ],
          [
           0.0004257972292766009
          ],
          [
           0.004318800468376952
          ],
          [
           0.00539850058547119
          ],
          [
           0.004318800468376952
          ],
          [
           0.00539850058547119
          ],
          [
           0.015115801639319332
          ],
          [
           0.009717301053848142
          ],
          [
           0.014036101522225094
          ],
          [
           0.01619550175641357
          ],
          [
           0.002159400234188476
          ],
          [
           0.0017031889171064036
          ],
          [
           0.004257972292766009
          ],
          [
           0.0034063778342128073
          ],
          [
           0.008515944585532018
          ],
          [
           0.008515944585532018
          ],
          [
           0.011922322419744825
          ],
          [
           0.005961161209872412
          ],
          [
           0.0025547833756596056
          ],
          [
           0.0008515944585532018
          ],
          [
           0.0003193479219574507
          ],
          [
           0.0006386958439149014
          ],
          [
           0.0003193479219574507
          ],
          [
           0.0012773916878298028
          ],
          [
           0.0009580437658723521
          ],
          [
           0.0006386958439149014
          ],
          [
           0.0025547833756596056
          ],
          [
           0.0007755592390395231
          ],
          [
           0.0002585197463465077
          ],
          [
           0.0007755592390395231
          ],
          [
           0.0012925987317325383
          ],
          [
           0.0005170394926930154
          ],
          [
           0.0005170394926930154
          ],
          [
           0.0002585197463465077
          ],
          [
           1.5207043902735748e-05
          ],
          [
           4.562113170820724e-05
          ],
          [
           4.562113170820724e-05
          ],
          [
           4.562113170820724e-05
          ],
          [
           0.556942775893794
          ],
          [
           0.7061238765796317
          ],
          [
           0.8354141638406911
          ],
          [
           0.8155233504159127
          ],
          [
           1.0840493316504205
          ],
          [
           0.8950866041150262
          ],
          [
           0.9249228242521936
          ],
          [
           0.6166152161681291
          ],
          [
           0.06961784698672425
          ],
          [
           1.821195577791633
          ],
          [
           1.6542526498274002
          ],
          [
           1.4417798324183764
          ],
          [
           1.7604890585319122
          ],
          [
           2.0640216548305177
          ],
          [
           2.2764944722395413
          ],
          [
           2.124728174090239
          ],
          [
           1.7604890585319122
          ],
          [
           0.24282607703888442
          ],
          [
           0.12272084429507749
          ],
          [
           0.09817667543606198
          ],
          [
           0.12272084429507749
          ],
          [
           0.14726501315409296
          ],
          [
           0.18817196125245214
          ],
          [
           0.1554464027737648
          ],
          [
           0.14726501315409296
          ],
          [
           0.1022673702458979
          ],
          [
           0.016362779239343664
          ],
          [
           1.5207043902735748e-05
          ],
          [
           20.800802931918064
          ],
          [
           15.838683678279779
          ],
          [
           16.99149926245837
          ],
          [
           20.099089098070227
          ],
          [
           25.41206526863243
          ],
          [
           23.657780684012835
          ],
          [
           21.55263918246932
          ],
          [
           18.896151097188216
          ],
          [
           1.9547742514332638
          ],
          [
           0.83374138901139
          ],
          [
           0.5698991772989248
          ],
          [
           0.7493118812634012
          ],
          [
           0.8865098313538831
          ],
          [
           1.0553688468498608
          ],
          [
           1.2242278623458385
          ],
          [
           1.1292446661293511
          ],
          [
           0.780972946668897
          ],
          [
           0.09498319621648747
          ],
          [
           0.02910628202983622
          ],
          [
           0.013230128195380102
          ],
          [
           0.006615064097690051
          ],
          [
           0.00926108973676607
          ],
          [
           0.02116820511260816
          ],
          [
           0.01587615383445612
          ],
          [
           0.011907115375842091
          ],
          [
           0.00793807691722806
          ],
          [
           0.0069344120196475015
          ],
          [
           0.01849176538572667
          ],
          [
           0.0069344120196475015
          ],
          [
           0.011557353366079168
          ],
          [
           0.03698353077145334
          ],
          [
           0.07627853221612252
          ],
          [
           0.08783588558220168
          ],
          [
           0.09939323894828085
          ],
          [
           0.0069344120196475015
          ],
          [
           3.0414087805471495e-05
          ],
          [
           3.0414087805471495e-05
          ],
          [
           1.5207043902735748e-05
          ],
          [
           1.5207043902735748e-05
          ],
          [
           1.5207043902735748e-05
          ],
          [
           1.5207043902735748e-05
          ],
          [
           1.5207043902735748e-05
          ],
          [
           0.039462278927599265
          ],
          [
           0.0342006417372527
          ],
          [
           0.04209309752277255
          ],
          [
           0.0342006417372527
          ],
          [
           0.0684012834745054
          ],
          [
           0.09470946942623824
          ],
          [
           0.07892455785519853
          ],
          [
           0.05787800909381226
          ],
          [
           0.005261637190346569
          ],
          [
           3.0414087805471495e-05
          ],
          [
           3.0414087805471495e-05
          ],
          [
           0.00013686339512462172
          ],
          [
           0.00013686339512462172
          ],
          [
           0.00013686339512462172
          ],
          [
           0.00013686339512462172
          ],
          [
           0.00013686339512462172
          ],
          [
           0.00013686339512462172
          ],
          [
           0.00013686339512462172
          ],
          [
           0.00013686339512462172
          ],
          [
           0.00013686339512462172
          ],
          [
           0.0004257972292766009
          ],
          [
           0.0004257972292766009
          ],
          [
           0.0008515944585532018
          ],
          [
           0.00021289861463830045
          ],
          [
           0.0008515944585532018
          ],
          [
           0.00021289861463830045
          ],
          [
           0.03375963746407336
          ],
          [
           0.031508994966468466
          ],
          [
           0.024757067473653797
          ],
          [
           0.03601027996167825
          ],
          [
           0.06976991742575162
          ],
          [
           0.06076734743533205
          ],
          [
           0.049514134947307595
          ],
          [
           0.02700770997125869
          ],
          [
           0.008074940312352683
          ],
          [
           0.004486077951307046
          ],
          [
           0.004486077951307046
          ],
          [
           0.008972155902614092
          ],
          [
           0.007177724722091273
          ],
          [
           0.004486077951307046
          ],
          [
           0.006280509131829864
          ],
          [
           0.008972155902614092
          ],
          [
           0.00012165635122188598
          ],
          [
           0.00012165635122188598
          ],
          [
           0.00024331270244377196
          ],
          [
           0.00012165635122188598
          ],
          [
           0.00012165635122188598
          ],
          [
           0.00012165635122188598
          ],
          [
           0.00012165635122188598
          ],
          [
           0.0029197524293252636
          ],
          [
           0.0021898143219939476
          ],
          [
           0.004379628643987895
          ],
          [
           0.005839504858650527
          ],
          [
           0.006569442965981843
          ],
          [
           0.004379628643987895
          ],
          [
           0.005839504858650527
          ],
          [
           0.0029197524293252636
          ],
          [
           0.0015207043902735746
          ],
          [
           0.0015207043902735746
          ],
          [
           0.0011405282927051809
          ],
          [
           0.0007603521951367873
          ],
          [
           0.0026612326829787555
          ],
          [
           0.0011405282927051809
          ],
          [
           0.0007603521951367873
          ],
          [
           0.018400523122310254
          ],
          [
           0.011709423805106525
          ],
          [
           0.02509162243951398
          ],
          [
           0.018400523122310254
          ],
          [
           0.020073297951611186
          ],
          [
           0.03178272175671771
          ],
          [
           0.030109946927416777
          ],
          [
           0.028437172098115845
          ],
          [
           0.26721817545887255
          ],
          [
           0.23236363083380224
          ],
          [
           0.2614090846880275
          ],
          [
           0.2730272662297176
          ],
          [
           0.2904545385422528
          ],
          [
           0.37178180933408356
          ],
          [
           0.3194999923964781
          ],
          [
           0.19169999543788682
          ],
          [
           0.011618181541690111
          ],
          [
           0.23817272160464728
          ],
          [
           0.3543545370215484
          ],
          [
           0.21493635852126705
          ],
          [
           0.23817272160464728
          ],
          [
           0.25559999391718247
          ],
          [
           0.313690901625633
          ],
          [
           0.25559999391718247
          ],
          [
           0.3253090831673231
          ],
          [
           0.023236363083380222
          ],
          [
           0.00036496905366565794
          ],
          [
           0.00024331270244377196
          ],
          [
           0.00012165635122188598
          ],
          [
           0.00024331270244377196
          ],
          [
           0.0021441931902857403
          ],
          [
           0.0028589242537143205
          ],
          [
           0.0035736553171429007
          ],
          [
           0.005717848507428641
          ],
          [
           0.0071473106342858014
          ],
          [
           0.005003117444000061
          ],
          [
           0.0035736553171429007
          ],
          [
           0.0035736553171429007
          ],
          [
           0.0006082817561094299
          ],
          [
           0.003649690536656579
          ],
          [
           0.009124226341641447
          ],
          [
           0.0006082817561094299
          ],
          [
           0.0018248452683282896
          ],
          [
           0.003649690536656579
          ],
          [
           0.0024331270244377194
          ],
          [
           0.0024331270244377194
          ],
          [
           0.00015207043902735746
          ],
          [
           0.00015207043902735746
          ],
          [
           7.603521951367873e-05
          ],
          [
           0.00018248452683282897
          ],
          [
           0.00018248452683282897
          ],
          [
           9.124226341641449e-05
          ],
          [
           9.124226341641449e-05
          ],
          [
           1.5207043902735748e-05
          ],
          [
           0.0003953831414711294
          ],
          [
           0.0015815325658845177
          ],
          [
           0.0023722988488267763
          ],
          [
           0.0011861494244133882
          ],
          [
           0.0019769157073556472
          ],
          [
           0.0003953831414711294
          ],
          [
           0.0019769157073556472
          ],
          [
           0.0003953831414711294
          ],
          [
           6.082817561094299e-05
          ],
          [
           6.082817561094299e-05
          ],
          [
           6.082817561094299e-05
          ],
          [
           6.082817561094299e-05
          ],
          [
           0.056266062440122264
          ],
          [
           0.006751927492814672
          ],
          [
           0.0022506424976048906
          ],
          [
           0.003375963746407336
          ],
          [
           0.005626606244012226
          ],
          [
           0.005626606244012226
          ],
          [
           0.0022506424976048906
          ],
          [
           0.0011253212488024453
          ],
          [
           0.13856658404172814
          ],
          [
           0.12226463297799542
          ],
          [
           0.13856658404172814
          ],
          [
           0.10188719414832952
          ],
          [
           0.1426420718076613
          ],
          [
           0.1426420718076613
          ],
          [
           0.13449109627579497
          ],
          [
           0.1467175595735945
          ],
          [
           0.024452926595599084
          ],
          [
           0.0025091622439513983
          ],
          [
           0.008363874146504661
          ],
          [
           0.0025091622439513983
          ],
          [
           0.004181937073252331
          ],
          [
           0.0050183244879027965
          ],
          [
           0.008363874146504661
          ],
          [
           0.011709423805106525
          ],
          [
           0.0025091622439513983
          ],
          [
           0.000836387414650466
          ],
          [
           0.1447710579540443
          ],
          [
           0.11581684636323544
          ],
          [
           0.16958895360330903
          ],
          [
           0.14063474201250017
          ],
          [
           0.13649842607095605
          ],
          [
           0.1282257941878678
          ],
          [
           0.10340789853860308
          ],
          [
           0.15718000577867666
          ],
          [
           0.02895421159080886
          ],
          [
           0.048267157347283256
          ],
          [
           0.03567572499581806
          ],
          [
           0.02728143676150793
          ],
          [
           0.03987286911297313
          ],
          [
           0.03567572499581806
          ],
          [
           0.031478580878662996
          ],
          [
           0.03987286911297313
          ],
          [
           0.025182864702930394
          ],
          [
           0.006295716175732598
          ],
          [
           0.0020073297951611188
          ],
          [
           0.0035128271415319576
          ],
          [
           0.0040146595903222376
          ],
          [
           0.0020073297951611188
          ],
          [
           0.0010036648975805594
          ],
          [
           0.0005018324487902797
          ],
          [
           0.0020073297951611188
          ],
          [
           0.001505497346370839
          ],
          [
           0.007056068370869387
          ],
          [
           0.012348119649021426
          ],
          [
           0.006174059824510713
          ],
          [
           0.0035280341854346934
          ],
          [
           0.0017640170927173467
          ],
          [
           0.006174059824510713
          ],
          [
           0.0035280341854346934
          ],
          [
           0.009702094009945407
          ],
          [
           0.0008820085463586734
          ],
          [
           0.00012165635122188598
          ],
          [
           6.082817561094299e-05
          ],
          [
           6.082817561094299e-05
          ],
          [
           0.0005474535804984869
          ],
          [
           0.00027372679024924345
          ],
          [
           0.00013686339512462172
          ],
          [
           0.00013686339512462172
          ],
          [
           0.00013686339512462172
          ],
          [
           1.5207043902735748e-05
          ],
          [
           0.04882981797168449
          ],
          [
           0.03854985629343512
          ],
          [
           0.05396979881080917
          ],
          [
           0.061679770069496195
          ],
          [
           0.03597986587387278
          ],
          [
           0.07195973174774556
          ],
          [
           0.04111984671299746
          ],
          [
           0.07966970300643259
          ],
          [
           0.0025699904195623413
          ],
          [
           0.1814504478474429
          ],
          [
           0.1384753417783117
          ],
          [
           0.18622545963290194
          ],
          [
           0.16235040070560683
          ],
          [
           0.19577548320382
          ],
          [
           0.19100047141836096
          ],
          [
           0.26740065998570534
          ],
          [
           0.16712541249106586
          ],
          [
           0.009550023570918048
          ],
          [
           0.20705910977964995
          ],
          [
           0.19355525479402058
          ],
          [
           0.16204625982755214
          ],
          [
           0.13503854985629343
          ],
          [
           0.17555011481318147
          ],
          [
           0.18005139980839124
          ],
          [
           0.15754497483234234
          ],
          [
           0.11253212488024453
          ],
          [
           0.009002569990419563
          ],
          [
           0.5411882784105598
          ],
          [
           0.5761036512112411
          ],
          [
           0.5935613376115817
          ],
          [
           0.5673748080110708
          ],
          [
           0.6983074560136255
          ],
          [
           0.7506805152146475
          ],
          [
           0.6633920832129443
          ],
          [
           0.5673748080110708
          ],
          [
           0.05237305920102192
          ],
          [
           0.41027083745190773
          ],
          [
           0.5309387308201159
          ],
          [
           0.5068051521464743
          ],
          [
           0.6757402028619657
          ],
          [
           0.6837847290865129
          ],
          [
           0.5631168357183047
          ],
          [
           0.5389832570446631
          ],
          [
           0.3217810489818884
          ],
          [
           0.02413357867364163
          ],
          [
           0.012880366185617179
          ],
          [
           0.008196596663574569
          ],
          [
           0.012880366185617179
          ],
          [
           0.010538481424595873
          ],
          [
           0.010538481424595873
          ],
          [
           0.008196596663574569
          ],
          [
           0.015222250946638484
          ],
          [
           0.010538481424595873
          ],
          [
           0.0011709423805106526
          ],
          [
           0.002889338341519792
          ],
          [
           0.0034672060098237508
          ],
          [
           0.0011557353366079169
          ],
          [
           0.0023114706732158337
          ],
          [
           0.002889338341519792
          ],
          [
           0.0023114706732158337
          ],
          [
           0.0023114706732158337
          ],
          [
           0.004622941346431667
          ],
          [
           0.011435697014857282
          ],
          [
           0.011435697014857282
          ],
          [
           0.01858300764914308
          ],
          [
           0.017153545522285922
          ],
          [
           0.020012469776000245
          ],
          [
           0.014294621268571603
          ],
          [
           0.020012469776000245
          ],
          [
           0.021441931902857404
          ],
          [
           1.5207043902735748e-05
          ],
          [
           0.07192931765994008
          ],
          [
           0.0915464042944692
          ],
          [
           0.08827688985538101
          ],
          [
           0.0948159187335574
          ],
          [
           0.07519883209902828
          ],
          [
           0.08827688985538101
          ],
          [
           0.08827688985538101
          ],
          [
           0.10135494761173376
          ],
          [
           0.003269514439088186
          ],
          [
           1.5207043902735748e-05
          ],
          [
           0.018187624507671953
          ],
          [
           0.012591432351465199
          ],
          [
           0.01119238431241351
          ],
          [
           0.012591432351465199
          ],
          [
           0.025182864702930397
          ],
          [
           0.00979333627336182
          ],
          [
           0.01958667254672364
          ],
          [
           0.018187624507671953
          ],
          [
           0.0013990480390516887
          ],
          [
           0.0009124226341641448
          ],
          [
           0.0018248452683282896
          ],
          [
           0.0022810565854103617
          ],
          [
           0.0018248452683282896
          ],
          [
           0.0013686339512462172
          ],
          [
           0.0018248452683282896
          ],
          [
           0.0018248452683282896
          ],
          [
           0.0018248452683282896
          ],
          [
           1.5207043902735748e-05
          ],
          [
           0.0001976915707355647
          ],
          [
           0.0007907662829422589
          ],
          [
           0.0005930747122066941
          ],
          [
           0.0003953831414711294
          ],
          [
           0.0001976915707355647
          ],
          [
           0.0001976915707355647
          ],
          [
           0.0001976915707355647
          ],
          [
           0.00010644930731915023
          ],
          [
           0.00021289861463830045
          ],
          [
           0.00010644930731915023
          ],
          [
           0.00010644930731915023
          ],
          [
           0.00010644930731915023
          ],
          [
           0.00010644930731915023
          ],
          [
           0.13011146763180703
          ],
          [
           0.1385057558661172
          ],
          [
           0.2098572058577533
          ],
          [
           0.10912574704603172
          ],
          [
           0.1217171793974969
          ],
          [
           0.15109718821758236
          ],
          [
           0.20146291762344315
          ],
          [
           0.08394288234310132
          ],
          [
           0.012591432351465197
          ],
          [
           0.08079502425523502
          ],
          [
           0.12311622743654861
          ],
          [
           0.11926884532915646
          ],
          [
           0.1385057558661172
          ],
          [
           0.11157408111437218
          ],
          [
           0.13465837375872505
          ],
          [
           0.1385057558661172
          ],
          [
           0.11926884532915646
          ],
          [
           0.007694764214784288
          ],
          [
           0.005337672409860248
          ],
          [
           0.0011861494244133884
          ],
          [
           0.0011861494244133884
          ],
          [
           0.0047445976976535536
          ],
          [
           0.006523821834273636
          ],
          [
           0.0005930747122066942
          ],
          [
           0.0035584482732401654
          ],
          [
           0.017792241366200827
          ],
          [
           0.009489195395307107
          ],
          [
           0.015419942517374049
          ],
          [
           0.005930747122066942
          ],
          [
           0.008303045970893718
          ],
          [
           0.008303045970893718
          ],
          [
           0.014233793092960662
          ],
          [
           0.011861494244133883
          ],
          [
           0.0011861494244133884
          ],
          [
           0.005231223102541097
          ],
          [
           0.003269514439088186
          ],
          [
           0.0026156115512705486
          ],
          [
           0.003269514439088186
          ],
          [
           0.003923417326905823
          ],
          [
           0.003923417326905823
          ],
          [
           0.0026156115512705486
          ],
          [
           0.003269514439088186
          ],
          [
           0.010219133502638422
          ],
          [
           0.012773916878298028
          ],
          [
           0.011496525190468225
          ],
          [
           0.01788348362961724
          ],
          [
           0.016606091941787436
          ],
          [
           0.011496525190468225
          ],
          [
           0.012773916878298028
          ],
          [
           0.01405130856612783
          ],
          [
           6.082817561094299e-05
          ],
          [
           0.00012165635122188598
          ],
          [
           6.082817561094299e-05
          ],
          [
           9.124226341641449e-05
          ],
          [
           4.562113170820724e-05
          ],
          [
           0.0014598762146626318
          ],
          [
           0.0019465016195501757
          ],
          [
           0.0014598762146626318
          ],
          [
           0.0004866254048875439
          ],
          [
           0.0019465016195501757
          ],
          [
           0.0034063778342128077
          ],
          [
           0.0034063778342128077
          ],
          [
           0.0014598762146626318
          ],
          [
           0.02510682948341672
          ],
          [
           0.02703812405906416
          ],
          [
           0.02703812405906416
          ],
          [
           0.03090071321035904
          ],
          [
           0.040557186088596237
          ],
          [
           0.03090071321035904
          ],
          [
           0.02703812405906416
          ],
          [
           0.03476330236165392
          ],
          [
           0.00193129457564744
          ],
          [
           0.1500479021882936
          ],
          [
           0.11542146322176432
          ],
          [
           0.09233717057741146
          ],
          [
           0.13465837375872505
          ],
          [
           0.10003193479219574
          ],
          [
           0.09618455268480361
          ],
          [
           0.1308109916513329
          ],
          [
           0.13465837375872505
          ],
          [
           0.019236910536960722
          ],
          [
           0.0012773916878298028
          ],
          [
           0.0012773916878298028
          ],
          [
           0.0012773916878298028
          ],
          [
           0.0017031889171064036
          ],
          [
           0.0025547833756596056
          ],
          [
           0.0012773916878298028
          ],
          [
           0.0008515944585532018
          ],
          [
           0.0012773916878298028
          ],
          [
           0.0004257972292766009
          ],
          [
           3.0414087805471495e-05
          ],
          [
           3.0414087805471495e-05
          ],
          [
           0.03524992776654146
          ],
          [
           0.016697334205203848
          ],
          [
           0.014842074849070089
          ],
          [
           0.024118371629738893
          ],
          [
           0.029684149698140178
          ],
          [
           0.029684149698140178
          ],
          [
           0.03896044647880898
          ],
          [
           0.033394668410407696
          ],
          [
           0.003710518712267522
          ],
          [
           1.5207043902735748e-05
          ],
          [
           0.10010797001170943
          ],
          [
           0.10701196794355144
          ],
          [
           0.10010797001170943
          ],
          [
           0.08975197311394638
          ],
          [
           0.11391596587539349
          ],
          [
           0.10010797001170943
          ],
          [
           0.11046396690947247
          ],
          [
           0.05868398242065725
          ],
          [
           0.0034519989659210146
          ],
          [
           1.5207043902735748e-05
          ],
          [
           0.396903845861403
          ],
          [
           0.5000988457853678
          ],
          [
           0.5556653842059642
          ],
          [
           0.6191699995437887
          ],
          [
           0.5477273072887361
          ],
          [
           0.5556653842059642
          ],
          [
           0.46834653811645555
          ],
          [
           0.4921607688681397
          ],
          [
           0.00793807691722806
          ],
          [
           1.7951611186301493
          ],
          [
           1.7310482215362155
          ],
          [
           2.147782052646786
          ],
          [
           2.420261865296005
          ],
          [
           2.420261865296005
          ],
          [
           2.163810276920269
          ],
          [
           2.3721771924755544
          ],
          [
           1.7951611186301493
          ],
          [
           0.048084672820450425
          ],
          [
           0.05301175504493681
          ],
          [
           0.05301175504493681
          ],
          [
           0.04291427789352028
          ],
          [
           0.050487385757082684
          ],
          [
           0.050487385757082684
          ],
          [
           0.06563360148420748
          ],
          [
           0.05301175504493681
          ],
          [
           0.050487385757082684
          ],
          [
           4.562113170820724e-05
          ],
          [
           4.562113170820724e-05
          ],
          [
           4.562113170820724e-05
          ],
          [
           0.005930747122066942
          ],
          [
           0.007907662829422589
          ],
          [
           0.007907662829422589
          ],
          [
           0.007907662829422589
          ],
          [
           0.009884578536778236
          ],
          [
           0.0039538314147112945
          ],
          [
           0.010873036390456059
          ],
          [
           0.008896120683100413
          ],
          [
           0.0009884578536778236
          ],
          [
           1.5207043902735748e-05
          ],
          [
           0.006174059824510713
          ],
          [
           0.009702094009945407
          ],
          [
           0.00793807691722806
          ],
          [
           0.004410042731793367
          ],
          [
           0.004410042731793367
          ],
          [
           0.0035280341854346934
          ],
          [
           0.009702094009945407
          ],
          [
           0.00529205127815204
          ],
          [
           9.124226341641449e-05
          ],
          [
           9.124226341641449e-05
          ],
          [
           9.124226341641449e-05
          ],
          [
           0.00027372679024924345
          ],
          [
           0.00015207043902735746
          ],
          [
           7.603521951367873e-05
          ],
          [
           7.603521951367873e-05
          ],
          [
           7.603521951367873e-05
          ],
          [
           0.004197144117155066
          ],
          [
           0.0027980960781033774
          ],
          [
           0.003497620097629222
          ],
          [
           0.00489666813668091
          ],
          [
           0.003497620097629222
          ],
          [
           0.005596192156206755
          ],
          [
           0.006295716175732599
          ],
          [
           0.0013990480390516887
          ],
          [
           1.291762344317888
          ],
          [
           0.9103848902811783
          ],
          [
           1.181039857662069
          ],
          [
           1.5255098161468392
          ],
          [
           1.390182332456394
          ],
          [
           1.181039857662069
          ],
          [
           1.181039857662069
          ],
          [
           1.2056448546966956
          ],
          [
           0.08611748962119255
          ],
          [
           0.0042883863805714805
          ],
          [
           0.0021441931902857403
          ],
          [
           0.0021441931902857403
          ],
          [
           0.0035736553171429007
          ],
          [
           0.0007147310634285801
          ],
          [
           0.0014294621268571602
          ],
          [
           0.010006234888000122
          ],
          [
           0.008576772761142961
          ],
          [
           0.0007147310634285801
          ],
          [
           0.0004866254048875439
          ],
          [
           0.0004866254048875439
          ],
          [
           0.0009732508097750879
          ],
          [
           0.0004866254048875439
          ],
          [
           0.0007299381073313159
          ],
          [
           0.00024331270244377196
          ],
          [
           0.0004866254048875439
          ],
          [
           7.603521951367873e-05
          ],
          [
           7.603521951367873e-05
          ],
          [
           0.00015207043902735746
          ],
          [
           7.603521951367873e-05
          ],
          [
           1.5207043902735748e-05
          ],
          [
           7.603521951367873e-05
          ],
          [
           7.603521951367873e-05
          ],
          [
           0.00015207043902735746
          ],
          [
           7.603521951367873e-05
          ],
          [
           0.0020681579707720614
          ],
          [
           0.006204473912316185
          ],
          [
           0.008272631883088246
          ],
          [
           0.010340789853860307
          ],
          [
           0.018613421736948552
          ],
          [
           0.009306710868474276
          ],
          [
           0.005170394926930153
          ],
          [
           0.009306710868474276
          ],
          [
           0.0010340789853860307
          ],
          [
           25.14019373773932
          ],
          [
           24.211225839809
          ],
          [
           23.74674189084384
          ],
          [
           24.67570978877416
          ],
          [
           28.68188384859867
          ],
          [
           24.733770282394804
          ],
          [
           30.249517176356086
          ],
          [
           37.507078878936724
          ],
          [
           2.728843200170319
          ],
          [
           9.883863805714807
          ],
          [
           10.306908560045013
          ],
          [
           11.922170349305798
          ],
          [
           12.076004805425873
          ],
          [
           13.806642436776714
          ],
          [
           14.345063033196977
          ],
          [
           12.49904955975608
          ],
          [
           11.229915296765462
          ],
          [
           1.1922170349305798
          ],
          [
           0.0025547833756596056
          ],
          [
           0.0038321750634894083
          ],
          [
           0.0025547833756596056
          ],
          [
           0.0025547833756596056
          ],
          [
           0.0057482625952341125
          ],
          [
           0.0019160875317447042
          ],
          [
           0.00447087090740431
          ],
          [
           0.003193479219574507
          ],
          [
           0.00012165635122188598
          ],
          [
           0.00024331270244377196
          ],
          [
           0.00024331270244377196
          ],
          [
           0.00024331270244377196
          ],
          [
           0.00012165635122188598
          ],
          [
           0.00012165635122188598
          ],
          [
           0.00012165635122188598
          ],
          [
           0.00024331270244377196
          ],
          [
           0.00024331270244377196
          ],
          [
           0.00012165635122188598
          ],
          [
           0.00012165635122188598
          ],
          [
           1.5207043902735748e-05
          ],
          [
           0.10842622302650588
          ],
          [
           0.09093812253835977
          ],
          [
           0.07694764214784289
          ],
          [
           0.0804452622454721
          ],
          [
           0.10143098283124743
          ],
          [
           0.08394288234310132
          ],
          [
           0.1294119436122812
          ],
          [
           0.12241670341702277
          ],
          [
           0.010492860292887665
          ],
          [
           1.9688863881750027
          ],
          [
           1.9688863881750027
          ],
          [
           2.4083699569640658
          ],
          [
           2.1798385011937533
          ],
          [
           2.935750239510942
          ],
          [
           2.6193220699828164
          ],
          [
           3.0939643242750043
          ],
          [
           2.8654328685046915
          ],
          [
           0.2812694840250004
          ],
          [
           1.5207043902735748e-05
          ],
          [
           1.5207043902735748e-05
          ],
          [
           1.5207043902735748e-05
          ],
          [
           1.5207043902735748e-05
          ],
          [
           3.0414087805471495e-05
          ],
          [
           3.0414087805471495e-05
          ],
          [
           1.5207043902735748e-05
          ],
          [
           0.008409495278212867
          ],
          [
           0.00600678234158062
          ],
          [
           0.00600678234158062
          ],
          [
           0.00600678234158062
          ],
          [
           0.014416277619793487
          ],
          [
           0.021624416429690232
          ],
          [
           0.01802034702474186
          ],
          [
           0.014416277619793487
          ],
          [
           0.0015511184780790462
          ],
          [
           0.0015511184780790462
          ],
          [
           0.0010340789853860307
          ],
          [
           0.0015511184780790462
          ],
          [
           0.0025851974634650767
          ],
          [
           0.0036192764488511076
          ],
          [
           0.0031022369561580923
          ],
          [
           0.0015511184780790462
          ],
          [
           0.0010340789853860307
          ],
          [
           6.634133730744081
          ],
          [
           5.324031691479493
          ],
          [
           5.324031691479493
          ],
          [
           6.968627868428656
          ],
          [
           6.271765081585791
          ],
          [
           5.519153271795496
          ],
          [
           7.2473729831658025
          ],
          [
           7.191623960218373
          ],
          [
           0.6132392524217217
          ],
          [
           3.0414087805471495e-05
          ],
          [
           3.0414087805471495e-05
          ],
          [
           1.5207043902735748e-05
          ],
          [
           6.003102236956158
          ],
          [
           5.182165178910871
          ],
          [
           5.592633707933515
          ],
          [
           5.130856612783042
          ],
          [
           5.464362292613939
          ],
          [
           5.3873994434221935
          ],
          [
           5.977447953892243
          ],
          [
           4.463845253121246
          ],
          [
           0.07696284919174562
          ],
          [
           0.00012165635122188598
          ],
          [
           6.082817561094299e-05
          ],
          [
           6.082817561094299e-05
          ],
          [
           5.050076795571709
          ],
          [
           3.60005474535805
          ],
          [
           3.7500570264146353
          ],
          [
           4.075061968703904
          ],
          [
           5.100077555923904
          ],
          [
           6.550099606137564
          ],
          [
           6.050092002615612
          ],
          [
           6.7001018871941485
          ],
          [
           0.22500342158487813
          ],
          [
           0.058440669718213475
          ],
          [
           0.09740111619702246
          ],
          [
           0.12337474718289511
          ],
          [
           0.19480223239404493
          ],
          [
           0.3831110570416217
          ],
          [
           0.5714198816891984
          ],
          [
           0.6493407746468164
          ],
          [
           0.6623275901397527
          ],
          [
           0.03246703873234082
          ],
          [
           0.2679176994783984
          ],
          [
           0.25044480603415503
          ],
          [
           0.29703918855213735
          ],
          [
           0.3319849754406241
          ],
          [
           0.3319849754406241
          ],
          [
           0.22714761477516385
          ],
          [
           0.23297191258991162
          ],
          [
           0.28539059292264174
          ],
          [
           0.005824297814747791
          ],
          [
           0.3589926854118828
          ],
          [
           0.3825331893733177
          ],
          [
           0.32956705546008913
          ],
          [
           0.43549932328654634
          ],
          [
           0.18243890570112076
          ],
          [
           0.20597940966255568
          ],
          [
           0.17655377971076203
          ],
          [
           0.20597940966255568
          ],
          [
           0.029197524293252636
          ],
          [
           0.07007405830380632
          ],
          [
           0.06715430587448107
          ],
          [
           0.04963579129852948
          ],
          [
           0.05839504858650527
          ],
          [
           0.10219133502638422
          ],
          [
           0.07591356316245686
          ],
          [
           0.10511108745570949
          ],
          [
           0.0029197524293252636
          ],
          [
           0.003010994692741678
          ],
          [
           0.0025091622439513987
          ],
          [
           0.0020073297951611188
          ],
          [
           0.0020073297951611188
          ],
          [
           0.0010036648975805594
          ],
          [
           0.0010036648975805594
          ],
          [
           0.0020073297951611188
          ],
          [
           0.003010994692741678
          ],
          [
           0.15255706443224504
          ],
          [
           0.11241046852902264
          ],
          [
           0.11241046852902264
          ],
          [
           0.11642512811934488
          ],
          [
           0.15255706443224504
          ],
          [
           0.13649842607095608
          ],
          [
           0.11642512811934488
          ],
          [
           0.15255706443224504
          ],
          [
           0.008029319180644475
          ],
          [
           25.568378472908652
          ],
          [
           17.3885551787588
          ],
          [
           24.076461016742957
          ],
          [
           19.39492693015405
          ],
          [
           20.835398956796787
          ],
          [
           22.27587098343953
          ],
          [
           20.73250809775088
          ],
          [
           22.018643835824754
          ],
          [
           1.7491446037804712
          ],
          [
           0.003375963746407336
          ],
          [
           0.014629176234431789
          ],
          [
           0.0011253212488024453
          ],
          [
           0.004501284995209781
          ],
          [
           0.015754497483234233
          ],
          [
           0.02138110372724646
          ],
          [
           0.01687981873203668
          ],
          [
           0.004501284995209781
          ],
          [
           0.0011253212488024453
          ],
          [
           0.006539028878176372
          ],
          [
           0.013078057756352743
          ],
          [
           0.015693669307623292
          ],
          [
           0.014385863531988018
          ],
          [
           0.014385863531988018
          ],
          [
           0.022232698185799663
          ],
          [
           0.011770251980717468
          ],
          [
           0.013078057756352743
          ],
          [
           0.0013078057756352743
          ],
          [
           0.009367539044085221
          ],
          [
           0.03044450189327697
          ],
          [
           0.02810261713225566
          ],
          [
           0.021076962849191746
          ],
          [
           0.05386334950349002
          ],
          [
           0.07494031235268177
          ],
          [
           0.04683769522042611
          ],
          [
           0.09133350567983091
          ],
          [
           0.0046837695220426105
          ],
          [
           0.6790705454766648
          ],
          [
           0.5850453930260496
          ],
          [
           0.8044374154108183
          ],
          [
           0.867120850377895
          ],
          [
           1.002934959473228
          ],
          [
           1.117854590246202
          ],
          [
           1.002934959473228
          ],
          [
           1.002934959473228
          ],
          [
           0.11491963077297403
          ],
          [
           0.058030079532839604
          ],
          [
           0.043522559649629707
          ],
          [
           0.058030079532839604
          ],
          [
           0.04594047963016469
          ],
          [
           0.03868671968855974
          ],
          [
           0.03868671968855974
          ],
          [
           0.058030079532839604
          ],
          [
           0.04110463966909472
          ],
          [
           0.0024179199805349836
          ],
          [
           1.8343800848553051
          ],
          [
           1.5364893018446146
          ],
          [
           1.7873446980641434
          ],
          [
           2.2106631791845985
          ],
          [
           2.4615185754041273
          ],
          [
           2.2890554905032015
          ],
          [
           2.0225216320199517
          ],
          [
           1.8814154716464668
          ],
          [
           0.141106160373485
          ],
          [
           0.03490016575677854
          ],
          [
           0.046533554342371386
          ],
          [
           0.03722684347389711
          ],
          [
           0.04188019890813425
          ],
          [
           0.046533554342371386
          ],
          [
           0.053513587493727095
          ],
          [
           0.05816694292796424
          ],
          [
           0.03722684347389711
          ],
          [
           3.7115527912529083
          ],
          [
           2.6973494122477533
          ],
          [
           4.358916650192369
          ],
          [
           3.40944965708116
          ],
          [
           3.6899739959549263
          ],
          [
           4.358916650192369
          ],
          [
           3.7115527912529083
          ],
          [
           4.229443878404477
          ],
          [
           0.4531547012576225
          ],
          [
           0.21825149409206346
          ],
          [
           0.1945285056037957
          ],
          [
           0.18978390790614214
          ],
          [
           0.13759333323195305
          ],
          [
           0.1850393102084886
          ],
          [
           0.1613163217202208
          ],
          [
           0.19927310330144926
          ],
          [
           0.17080551711552794
          ],
          [
           0.023722988488267767
          ],
          [
           0.03202603445916148
          ],
          [
           0.02846758618592132
          ],
          [
           0.03380525859578157
          ],
          [
           0.024909137912681154
          ],
          [
           0.026688362049301237
          ],
          [
           0.017792241366200823
          ],
          [
           0.019571465502820906
          ],
          [
           0.02312991377606107
          ],
          [
           0.0017792241366200825
          ],
          [
           1.5207043902735748e-05
          ],
          [
           3.0414087805471495e-05
          ],
          [
           3.0414087805471495e-05
          ],
          [
           0.8043917942791101
          ],
          [
           0.7620553840538938
          ],
          [
           0.8361441019480224
          ],
          [
           0.9949056402925835
          ],
          [
           1.068994358186712
          ],
          [
           1.0372420505178
          ],
          [
           1.0901625632993204
          ],
          [
           0.7197189738286774
          ],
          [
           0.05292051278152041
          ],
          [
           1.2241670341702278
          ],
          [
           1.1139920010949071
          ],
          [
           1.2241670341702278
          ],
          [
           1.3098587265621437
          ],
          [
           1.5179671223710824
          ],
          [
           1.3221003969038458
          ],
          [
           1.3343420672455482
          ],
          [
           0.7834669018689457
          ],
          [
           0.024483340683404554
          ],
          [
           0.03412460651773902
          ],
          [
           0.03813926610806126
          ],
          [
           0.02810261713225566
          ],
          [
           0.04014659590322238
          ],
          [
           0.022080627746772306
          ],
          [
           0.05219057467418909
          ],
          [
           0.01806596815645007
          ],
          [
           0.0321172767225779
          ],
          [
           0.0025091622439513987
          ],
          [
           0.0020073297951611188
          ],
          [
           0.001505497346370839
          ],
          [
           0.0020073297951611188
          ],
          [
           0.0020073297951611188
          ],
          [
           0.0020073297951611188
          ],
          [
           0.003010994692741678
          ],
          [
           0.001505497346370839
          ],
          [
           4.562113170820724e-05
          ],
          [
           4.562113170820724e-05
          ],
          [
           4.562113170820724e-05
          ],
          [
           0.011557353366079168
          ],
          [
           0.011557353366079168
          ],
          [
           0.016180294712510836
          ],
          [
           0.01849176538572667
          ],
          [
           0.008090147356255418
          ],
          [
           0.0069344120196475015
          ],
          [
           0.012713088702687085
          ],
          [
           0.0023114706732158337
          ],
          [
           0.004045073678127709
          ],
          [
           0.004622941346431667
          ],
          [
           0.002889338341519792
          ],
          [
           0.0023114706732158337
          ],
          [
           0.0034672060098237508
          ],
          [
           0.002889338341519792
          ],
          [
           0.0005778676683039584
          ],
          [
           0.0011557353366079169
          ],
          [
           0.0005474535804984869
          ],
          [
           0.0005474535804984869
          ],
          [
           0.00018248452683282897
          ],
          [
           0.0005474535804984869
          ],
          [
           0.00018248452683282897
          ],
          [
           0.00018248452683282897
          ],
          [
           0.015328700253957633
          ],
          [
           0.010219133502638422
          ],
          [
           0.020438267005276844
          ],
          [
           0.015328700253957633
          ],
          [
           0.01916087531744704
          ],
          [
           0.011496525190468225
          ],
          [
           0.0038321750634894083
          ],
          [
           0.010219133502638422
          ],
          [
           0.0012773916878298028
          ],
          [
           0.0002585197463465077
          ],
          [
           0.0007755592390395231
          ],
          [
           0.0007755592390395231
          ],
          [
           0.0005170394926930154
          ],
          [
           0.0007755592390395231
          ],
          [
           0.0007755592390395231
          ],
          [
           0.0005170394926930154
          ],
          [
           0.03193479219574507
          ],
          [
           0.01916087531744704
          ],
          [
           0.0468376952204261
          ],
          [
           0.0447087090740431
          ],
          [
           0.029805806049362064
          ],
          [
           0.04257972292766009
          ],
          [
           0.04257972292766009
          ],
          [
           0.036192764488511074
          ],
          [
           0.004257972292766009
          ],
          [
           0.0029805806049362066
          ],
          [
           0.0029805806049362066
          ],
          [
           0.0014902903024681033
          ],
          [
           0.0037257257561702584
          ],
          [
           0.0029805806049362066
          ],
          [
           0.00447087090740431
          ],
          [
           0.007451451512340517
          ],
          [
           0.010432032117276724
          ],
          [
           6.082817561094299e-05
          ],
          [
           6.082817561094299e-05
          ],
          [
           6.082817561094299e-05
          ],
          [
           6.082817561094299e-05
          ],
          [
           1.5207043902735748e-05
          ],
          [
           3.0414087805471495e-05
          ],
          [
           3.0414087805471495e-05
          ],
          [
           0.0726136346355632
          ],
          [
           0.046472726166760445
          ],
          [
           0.15394090542739397
          ],
          [
           0.04066363539591539
          ],
          [
           0.0522818169376055
          ],
          [
           0.06389999847929562
          ],
          [
           0.06099545309387308
          ],
          [
           0.06099545309387308
          ],
          [
           0.002904545385422528
          ],
          [
           3.0414087805471495e-05
          ],
          [
           3.0414087805471495e-05
          ],
          [
           1.0324974528201463
          ],
          [
           0.8562173998996335
          ],
          [
           1.3724661263097067
          ],
          [
           1.3346918292553112
          ],
          [
           1.4857890174728934
          ],
          [
           1.1835946410377287
          ],
          [
           1.5109718821758238
          ],
          [
           1.5613376115816846
          ],
          [
           0.08814002646025638
          ],
          [
           5.518712267522317
          ],
          [
           7.01272829574659
          ],
          [
           7.89694186347116
          ],
          [
           7.805471494396205
          ],
          [
           8.293313462795968
          ],
          [
           8.293313462795968
          ],
          [
           7.683511002296264
          ],
          [
           8.232333216745998
          ],
          [
           0.39637159932480726
          ],
          [
           0.0032847214829909216
          ],
          [
           0.0032847214829909216
          ],
          [
           0.007390623336729574
          ],
          [
           0.0057482625952341125
          ],
          [
           0.0057482625952341125
          ],
          [
           0.008211803707477304
          ],
          [
           0.0057482625952341125
          ],
          [
           0.004927082224486382
          ],
          [
           0.07887893672349032
          ],
          [
           0.07887893672349032
          ],
          [
           0.11268419531927189
          ],
          [
           0.0901473562554175
          ],
          [
           0.13522103438312627
          ],
          [
           0.17278243282288355
          ],
          [
           0.11644033516324762
          ],
          [
           0.14273331407107773
          ],
          [
           3.0414087805471495e-05
          ],
          [
           3.0414087805471495e-05
          ],
          [
           0.00997582080019465
          ],
          [
           0.00997582080019465
          ],
          [
           0.011222798400218982
          ],
          [
           0.013716753600267643
          ],
          [
           0.008728843200170318
          ],
          [
           0.021198619200413632
          ],
          [
           0.016210708800316307
          ],
          [
           0.011222798400218982
          ],
          [
           0.0001976915707355647
          ],
          [
           0.0001976915707355647
          ],
          [
           0.0001976915707355647
          ],
          [
           0.0001976915707355647
          ],
          [
           0.0001976915707355647
          ],
          [
           0.0003953831414711294
          ],
          [
           0.0001976915707355647
          ],
          [
           0.0005930747122066941
          ],
          [
           0.0001976915707355647
          ],
          [
           0.0001976915707355647
          ],
          [
           1.5207043902735748e-05
          ],
          [
           1.5207043902735748e-05
          ],
          [
           0.00018248452683282897
          ],
          [
           9.124226341641449e-05
          ],
          [
           9.124226341641449e-05
          ],
          [
           0.00018248452683282897
          ],
          [
           0.00015207043902735746
          ],
          [
           7.603521951367873e-05
          ],
          [
           0.00015207043902735746
          ],
          [
           0.1405130856612783
          ],
          [
           0.06323088854757523
          ],
          [
           0.08430785139676698
          ],
          [
           0.11241046852902264
          ],
          [
           0.09835915996289482
          ],
          [
           0.11592329567055461
          ],
          [
           0.08782067853829895
          ],
          [
           0.10187198710442677
          ],
          [
           0.007025654283063915
          ],
          [
           0.00016727748293009323
          ],
          [
           0.0005018324487902797
          ],
          [
           0.00033455496586018646
          ],
          [
           0.00016727748293009323
          ],
          [
           0.00016727748293009323
          ],
          [
           0.00033455496586018646
          ],
          [
           0.00016727748293009323
          ],
          [
           0.002098572058577533
          ],
          [
           0.004197144117155066
          ],
          [
           0.0027980960781033774
          ],
          [
           0.002098572058577533
          ],
          [
           0.004197144117155066
          ],
          [
           0.005596192156206755
          ],
          [
           0.008394288234310132
          ],
          [
           0.0027980960781033774
          ],
          [
           0.00038017609756839366
          ],
          [
           0.0015207043902735746
          ],
          [
           0.0019008804878419684
          ],
          [
           0.0015207043902735746
          ],
          [
           0.0007603521951367873
          ],
          [
           0.0022810565854103617
          ],
          [
           0.0011405282927051809
          ],
          [
           0.0011557353366079169
          ],
          [
           0.0002889338341519792
          ],
          [
           0.0002889338341519792
          ],
          [
           0.0008668015024559377
          ],
          [
           0.0011557353366079169
          ],
          [
           0.0002889338341519792
          ],
          [
           0.0002889338341519792
          ],
          [
           0.0008668015024559377
          ],
          [
           0.0002889338341519792
          ],
          [
           0.0579844584011314
          ],
          [
           0.03553886160069344
          ],
          [
           0.022445596800437964
          ],
          [
           0.022445596800437964
          ],
          [
           0.020575130400401466
          ],
          [
           0.03179792880062045
          ],
          [
           0.014963731200291975
          ],
          [
           0.022445596800437964
          ],
          [
           0.0018704664000364969
          ],
          [
           0.0004562113170820724
          ],
          [
           0.0004562113170820724
          ],
          [
           0.0006843169756231086
          ],
          [
           0.0002281056585410362
          ],
          [
           0.0006843169756231086
          ],
          [
           0.0004562113170820724
          ],
          [
           0.0004562113170820724
          ],
          [
           1.5207043902735748e-05
          ],
          [
           0.04583403032284554
          ],
          [
           0.035417205249471555
          ],
          [
           0.02291701516142277
          ],
          [
           0.029167110205447162
          ],
          [
           0.04375066530817074
          ],
          [
           0.03958393527882115
          ],
          [
           0.04375066530817074
          ],
          [
           0.016666920117398377
          ],
          [
           0.008333460058699189
          ],
          [
           0.38203135692452744
          ],
          [
           0.4541127450234949
          ],
          [
           0.41086391216411444
          ],
          [
           0.34599066287504376
          ],
          [
           0.43969646740370144
          ],
          [
           0.4757371614531851
          ],
          [
           0.4252801897839079
          ],
          [
           0.4180720509740112
          ],
          [
           0.0648732492890707
          ],
          [
           1.5207043902735748e-05
          ],
          [
           1.5207043902735748e-05
          ],
          [
           1.5207043902735748e-05
          ],
          [
           1.5207043902735748e-05
          ],
          [
           1.5207043902735748e-05
          ],
          [
           0.05352879453762983
          ],
          [
           0.03893003239100351
          ],
          [
           0.05352879453762983
          ],
          [
           0.06569442965981842
          ],
          [
           0.03649690536656579
          ],
          [
           0.05596192156206754
          ],
          [
           0.031630651317690356
          ],
          [
           0.05352879453762983
          ],
          [
           0.839215924816375
          ],
          [
           0.8187472437232926
          ],
          [
           0.8699189464559984
          ],
          [
           0.9620280113748688
          ],
          [
           0.839215924816375
          ],
          [
           1.0746057573868215
          ],
          [
           0.7675755409905868
          ],
          [
           0.7061694977113399
          ],
          [
           0.010234340546541158
          ],
          [
           0.010705758907525967
          ],
          [
           0.012652260527076142
          ],
          [
           0.009732508097750878
          ],
          [
           0.006812755668425615
          ],
          [
           0.005839504858650527
          ],
          [
           0.007786006478200703
          ],
          [
           0.007786006478200703
          ],
          [
           0.0009732508097750879
          ],
          [
           35.46294803753098
          ],
          [
           34.196414179047736
          ],
          [
           37.362748825255856
          ],
          [
           43.34360315698231
          ],
          [
           48.902279535881014
          ],
          [
           46.158122842500646
          ],
          [
           39.54400158153256
          ],
          [
           36.51839291960036
          ],
          [
           4.081053544001581
          ],
          [
           0.21298985690171687
          ],
          [
           0.1722045651545796
          ],
          [
           0.1631411669885491
          ],
          [
           0.1722045651545796
          ],
          [
           0.11782417615839658
          ],
          [
           0.19033136148664062
          ],
          [
           0.15860946790553385
          ],
          [
           0.15860946790553385
          ],
          [
           0.004531699083015253
          ],
          [
           0.0007907662829422589
          ],
          [
           0.0001976915707355647
          ],
          [
           0.0001976915707355647
          ],
          [
           0.0003953831414711294
          ],
          [
           0.0005930747122066941
          ],
          [
           0.0003953831414711294
          ],
          [
           0.09657993582627472
          ],
          [
           0.07326753752338083
          ],
          [
           0.07326753752338083
          ],
          [
           0.08325856536747821
          ],
          [
           0.1165619915144695
          ],
          [
           0.09991027844097386
          ],
          [
           0.0932495932115756
          ],
          [
           0.0932495932115756
          ],
          [
           0.15538557459815389
          ],
          [
           0.11952736507550298
          ],
          [
           0.16733831110570418
          ],
          [
           0.1314801015830533
          ],
          [
           0.11554311957298621
          ],
          [
           0.1394485925880868
          ],
          [
           0.09562189206040239
          ],
          [
           0.11155887407046945
          ],
          [
           0.007968491005033532
          ],
          [
           0.009991027844097385
          ],
          [
           0.009991027844097385
          ],
          [
           0.017761827278395353
          ],
          [
           0.006660685229398257
          ],
          [
           0.008880913639197676
          ],
          [
           0.012211256253896805
          ],
          [
           0.009991027844097385
          ],
          [
           0.005550571024498548
          ],
          [
           6.667680469593516
          ],
          [
           6.637372831095363
          ],
          [
           7.455679070545477
          ],
          [
           7.516294347541781
          ],
          [
           9.849982511899512
          ],
          [
           7.63752490153439
          ],
          [
           7.24352560105841
          ],
          [
           6.940449216076886
          ],
          [
           0.4546145774722852
          ],
          [
           8.117307136665703
          ],
          [
           9.127115679982968
          ],
          [
           13.51589896440031
          ],
          [
           12.428412840827871
          ],
          [
           14.17615839656929
          ],
          [
           14.098480816314117
          ],
          [
           11.573959458020955
          ],
          [
           14.71990145835551
          ],
          [
           1.4370352347207227
          ],
          [
           0.5043416110342311
          ],
          [
           0.7244179503946229
          ],
          [
           0.6602290180811753
          ],
          [
           0.6510591706078256
          ],
          [
           0.6602290180811753
          ],
          [
           0.6052099332410773
          ],
          [
           0.8069465776547697
          ],
          [
           0.8619656624948677
          ],
          [
           0.05501908484009794
          ],
          [
           4.562113170820724e-05
          ],
          [
           4.562113170820724e-05
          ],
          [
           4.562113170820724e-05
          ],
          [
           0.44793868519898417
          ],
          [
           0.5119299259416962
          ],
          [
           0.6159156921486032
          ],
          [
           0.49593211575601814
          ],
          [
           0.5759211666844082
          ],
          [
           0.5199288310345351
          ],
          [
           1.5207043902735748e-05
          ],
          [
           0.5999178819629252
          ],
          [
           0.4239419699204671
          ],
          [
           0.015997810185678005
          ],
          [
           0.07664350126978817
          ],
          [
           0.12773916878298028
          ],
          [
           0.1058410255630408
          ],
          [
           0.1605863836128895
          ],
          [
           0.12043978770966711
          ],
          [
           0.0875925728797579
          ],
          [
           0.13138885931963684
          ],
          [
           0.06569442965981842
          ],
          [
           0.016606091941787436
          ],
          [
           0.013047643668547272
          ],
          [
           0.010675344819720496
          ],
          [
           0.008303045970893718
          ],
          [
           0.010675344819720496
          ],
          [
           0.011861494244133883
          ],
          [
           0.008303045970893718
          ],
          [
           0.013047643668547272
          ],
          [
           0.1751851457595158
          ],
          [
           0.30109946927416775
          ],
          [
           0.20255782478444015
          ],
          [
           0.26825225444425854
          ],
          [
           0.24635411122431908
          ],
          [
           0.2846758618592132
          ],
          [
           0.19708328897945526
          ],
          [
           0.27372679024924346
          ],
          [
           0.021898143219939475
          ],
          [
           1.9034808923493363
          ],
          [
           0.6504356818078134
          ],
          [
           0.6982618348819174
          ],
          [
           0.5930442981188887
          ],
          [
           0.5643486062744263
          ],
          [
           0.5452181450447848
          ],
          [
           0.4782615307410393
          ],
          [
           0.49739199197068085
          ],
          [
           0.08608707553338707
          ],
          [
           14.774677230493165
          ],
          [
           11.786067306376314
          ],
          [
           13.217232622150581
          ],
          [
           11.533508721239679
          ],
          [
           16.374214936358523
          ],
          [
           16.66886661901793
          ],
          [
           14.437932450310985
          ],
          [
           16.374214936358523
          ],
          [
           1.3469791207287216
          ],
          [
           17.189282075457353
          ],
          [
           14.541203485454462
          ],
          [
           16.39950425036877
          ],
          [
           16.074301616508766
          ],
          [
           18.6759226873888
          ],
          [
           18.304262534405936
          ],
          [
           18.908210283003086
          ],
          [
           19.46570051247738
          ],
          [
           2.369333475265743
          ],
          [
           0.006326130263538071
          ],
          [
           0.006326130263538071
          ],
          [
           0.0023722988488267763
          ],
          [
           0.0039538314147112945
          ],
          [
           0.0039538314147112945
          ],
          [
           0.0023722988488267763
          ],
          [
           0.007907662829422589
          ],
          [
           0.00711689654648033
          ],
          [
           0.0007907662829422589
          ],
          [
           0.1351906202953208
          ],
          [
           0.10815249623625664
          ],
          [
           0.1158776745388464
          ],
          [
           0.10042731793366688
          ],
          [
           0.12360285284143616
          ],
          [
           0.10428990708496176
          ],
          [
           0.11974026369014128
          ],
          [
           0.16222874435438495
          ],
          [
           0.01158776745388464
          ],
          [
           0.0057482625952341125
          ],
          [
           0.0016423607414954608
          ],
          [
           0.008211803707477304
          ],
          [
           0.007390623336729574
          ],
          [
           0.007390623336729574
          ],
          [
           0.002463541112243191
          ],
          [
           0.007390623336729574
          ],
          [
           0.004105901853738652
          ],
          [
           0.00024331270244377196
          ],
          [
           0.00024331270244377196
          ],
          [
           0.00012165635122188598
          ],
          [
           0.00036496905366565794
          ],
          [
           6.082817561094299e-05
          ],
          [
           6.082817561094299e-05
          ],
          [
           0.00012165635122188598
          ],
          [
           2.998266396995088
          ],
          [
           2.226782645721498
          ],
          [
           2.419653583539896
          ],
          [
           2.507322191639167
          ],
          [
           2.717726851077419
          ],
          [
           2.4021198619200415
          ],
          [
           2.1566477592420807
          ],
          [
           2.7001931294575647
          ],
          [
           0.08766860809927157
          ],
          [
           0.07147310634285801
          ],
          [
           0.06861418208914369
          ],
          [
           0.04288386380571481
          ],
          [
           0.08004987910400098
          ],
          [
           0.08004987910400098
          ],
          [
           0.05431956082057209
          ],
          [
           0.06861418208914369
          ],
          [
           0.06861418208914369
          ],
          [
           0.0028589242537143205
          ],
          [
           0.0020681579707720614
          ],
          [
           0.0015511184780790462
          ],
          [
           0.0010340789853860307
          ],
          [
           0.0036192764488511076
          ],
          [
           0.0010340789853860307
          ],
          [
           0.0031022369561580923
          ],
          [
           0.0020681579707720614
          ],
          [
           0.0031022369561580923
          ],
          [
           1.5207043902735748e-05
          ],
          [
           0.02007329795161119
          ],
          [
           0.03010994692741678
          ],
          [
           0.03613193631290014
          ],
          [
           0.04014659590322238
          ],
          [
           0.03613193631290014
          ],
          [
           0.04215392569838349
          ],
          [
           0.04014659590322238
          ],
          [
           0.01806596815645007
          ],
          [
           0.0020073297951611188
          ],
          [
           0.0009124226341641448
          ],
          [
           0.0003041408780547149
          ],
          [
           0.0003041408780547149
          ],
          [
           0.0009124226341641448
          ],
          [
           0.0009124226341641448
          ],
          [
           0.0009124226341641448
          ],
          [
           0.0003041408780547149
          ],
          [
           0.0012165635122188597
          ],
          [
           0.0003041408780547149
          ],
          [
           0.00012165635122188598
          ],
          [
           0.0001976915707355647
          ],
          [
           218.08605666144558
          ],
          [
           3.0414087805471495e-05
          ],
          [
           0.00018248452683282897
          ],
          [
           192.34328380906035
          ],
          [
           4.562113170820724e-05
          ],
          [
           0.0002281056585410362
          ],
          [
           218.96605787800908
          ],
          [
           1.5207043902735748e-05
          ],
          [
           0.00021289861463830045
          ],
          [
           223.59797138034338
          ],
          [
           0.00027372679024924345
          ],
          [
           257.3731352362414
          ],
          [
           9.124226341641449e-05
          ],
          [
           0.00036496905366565794
          ],
          [
           248.94870664091607
          ],
          [
           9.124226341641449e-05
          ],
          [
           1.5207043902735748e-05
          ],
          [
           0.0006082817561094299
          ],
          [
           238.06574005079153
          ],
          [
           9.124226341641449e-05
          ],
          [
           1.5207043902735748e-05
          ],
          [
           0.00036496905366565794
          ],
          [
           242.21703493057984
          ],
          [
           0.0007147310634285801
          ],
          [
           21.111528459982665
          ],
          [
           1.5207043902735748e-05
          ],
          [
           6.082817561094299e-05
          ],
          [
           7.603521951367873e-05
          ],
          [
           0.0005474535804984869
          ],
          [
           4.562113170820724e-05
          ],
          [
           4.562113170820724e-05
          ],
          [
           0.0002585197463465077
          ],
          [
           0.00024331270244377196
          ],
          [
           0.0005170394926930155
          ],
          [
           0.0039538314147112945
          ],
          [
           1860.70951504737
          ],
          [
           1860.7142292309798
          ]
         ],
         "domain": {
          "x": [
           0,
           1
          ],
          "y": [
           0,
           1
          ]
         },
         "hovertemplate": "labels=%{label}<br>offense_code_ratio=%{customdata[0]}<br>parent=%{parent}<br>id=%{id}<extra></extra>",
         "ids": [
          "all/2016/10/A&B HANDS, FEET, ETC.  - MED. ATTENTION REQ.",
          "all/2017/3/A&B ON POLICE OFFICER",
          "all/2018/1/ABDUCTION - INTICING",
          "all/2018/2/ABDUCTION - INTICING",
          "all/2018/4/ABDUCTION - INTICING",
          "all/2018/7/ABDUCTION - INTICING",
          "all/2018/1/AFFRAY",
          "all/2018/2/AFFRAY",
          "all/2018/3/AFFRAY",
          "all/2018/4/AFFRAY",
          "all/2018/5/AFFRAY",
          "all/2018/6/AFFRAY",
          "all/2018/7/AFFRAY",
          "all/2018/8/AFFRAY",
          "all/2018/9/AFFRAY",
          "all/2018/1/AIRCRAFT INCIDENTS",
          "all/2018/3/AIRCRAFT INCIDENTS",
          "all/2018/5/AIRCRAFT INCIDENTS",
          "all/2018/7/AIRCRAFT INCIDENTS",
          "all/2018/1/ANIMAL ABUSE",
          "all/2018/2/ANIMAL ABUSE",
          "all/2018/4/ANIMAL ABUSE",
          "all/2018/5/ANIMAL ABUSE",
          "all/2018/6/ANIMAL ABUSE",
          "all/2018/7/ANIMAL ABUSE",
          "all/2018/8/ANIMAL ABUSE",
          "all/2018/1/ANIMAL CONTROL - DOG BITES - ETC.",
          "all/2018/2/ANIMAL CONTROL - DOG BITES - ETC.",
          "all/2018/3/ANIMAL CONTROL - DOG BITES - ETC.",
          "all/2018/4/ANIMAL CONTROL - DOG BITES - ETC.",
          "all/2018/5/ANIMAL CONTROL - DOG BITES - ETC.",
          "all/2018/6/ANIMAL CONTROL - DOG BITES - ETC.",
          "all/2018/7/ANIMAL CONTROL - DOG BITES - ETC.",
          "all/2018/8/ANIMAL CONTROL - DOG BITES - ETC.",
          "all/2018/9/ANIMAL CONTROL - DOG BITES - ETC.",
          "all/2018/1/ANIMAL INCIDENTS",
          "all/2018/2/ANIMAL INCIDENTS",
          "all/2018/3/ANIMAL INCIDENTS",
          "all/2018/4/ANIMAL INCIDENTS",
          "all/2018/5/ANIMAL INCIDENTS",
          "all/2018/6/ANIMAL INCIDENTS",
          "all/2018/7/ANIMAL INCIDENTS",
          "all/2018/8/ANIMAL INCIDENTS",
          "all/2018/9/ANIMAL INCIDENTS",
          "all/2018/1/ANNOYING AND ACCOSTING",
          "all/2018/3/ANNOYING AND ACCOSTING",
          "all/2018/4/ANNOYING AND ACCOSTING",
          "all/2018/5/ANNOYING AND ACCOSTING",
          "all/2018/6/ANNOYING AND ACCOSTING",
          "all/2018/7/ANNOYING AND ACCOSTING",
          "all/2018/8/ANNOYING AND ACCOSTING",
          "all/2018/1/ARSON",
          "all/2018/3/ARSON",
          "all/2018/4/ARSON",
          "all/2018/6/ARSON",
          "all/2018/7/ARSON",
          "all/2018/8/ARSON",
          "all/2018/9/ARSON",
          "all/2016/1/ASSAULT & BATTERY D/W - KNIFE",
          "all/2016/1/ASSAULT & BATTERY D/W - OTHER",
          "all/2016/6/ASSAULT & BATTERY D/W - OTHER",
          "all/2016/10/ASSAULT & BATTERY D/W - OTHER",
          "all/2018/1/ASSAULT - AGGRAVATED",
          "all/2018/2/ASSAULT - AGGRAVATED",
          "all/2018/3/ASSAULT - AGGRAVATED",
          "all/2018/4/ASSAULT - AGGRAVATED",
          "all/2018/5/ASSAULT - AGGRAVATED",
          "all/2018/6/ASSAULT - AGGRAVATED",
          "all/2018/7/ASSAULT - AGGRAVATED",
          "all/2018/8/ASSAULT - AGGRAVATED",
          "all/2018/9/ASSAULT - AGGRAVATED",
          "all/2018/1/ASSAULT - AGGRAVATED - BATTERY",
          "all/2018/2/ASSAULT - AGGRAVATED - BATTERY",
          "all/2018/3/ASSAULT - AGGRAVATED - BATTERY",
          "all/2018/4/ASSAULT - AGGRAVATED - BATTERY",
          "all/2018/5/ASSAULT - AGGRAVATED - BATTERY",
          "all/2018/6/ASSAULT - AGGRAVATED - BATTERY",
          "all/2018/7/ASSAULT - AGGRAVATED - BATTERY",
          "all/2018/8/ASSAULT - AGGRAVATED - BATTERY",
          "all/2018/9/ASSAULT - AGGRAVATED - BATTERY",
          "all/2018/1/ASSAULT - SIMPLE",
          "all/2018/2/ASSAULT - SIMPLE",
          "all/2018/3/ASSAULT - SIMPLE",
          "all/2018/4/ASSAULT - SIMPLE",
          "all/2018/5/ASSAULT - SIMPLE",
          "all/2018/6/ASSAULT - SIMPLE",
          "all/2018/7/ASSAULT - SIMPLE",
          "all/2018/8/ASSAULT - SIMPLE",
          "all/2018/9/ASSAULT - SIMPLE",
          "all/2015/8/ASSAULT D/W - KNIFE ON POLICE OFFICER",
          "all/2018/1/ASSAULT SIMPLE - BATTERY",
          "all/2018/2/ASSAULT SIMPLE - BATTERY",
          "all/2018/3/ASSAULT SIMPLE - BATTERY",
          "all/2018/4/ASSAULT SIMPLE - BATTERY",
          "all/2018/5/ASSAULT SIMPLE - BATTERY",
          "all/2018/6/ASSAULT SIMPLE - BATTERY",
          "all/2018/7/ASSAULT SIMPLE - BATTERY",
          "all/2018/8/ASSAULT SIMPLE - BATTERY",
          "all/2018/9/ASSAULT SIMPLE - BATTERY",
          "all/2018/1/AUTO THEFT",
          "all/2018/2/AUTO THEFT",
          "all/2018/3/AUTO THEFT",
          "all/2018/4/AUTO THEFT",
          "all/2018/5/AUTO THEFT",
          "all/2018/6/AUTO THEFT",
          "all/2018/7/AUTO THEFT",
          "all/2018/8/AUTO THEFT",
          "all/2018/9/AUTO THEFT",
          "all/2018/1/AUTO THEFT - LEASED/RENTED VEHICLE",
          "all/2018/2/AUTO THEFT - LEASED/RENTED VEHICLE",
          "all/2018/3/AUTO THEFT - LEASED/RENTED VEHICLE",
          "all/2018/4/AUTO THEFT - LEASED/RENTED VEHICLE",
          "all/2018/5/AUTO THEFT - LEASED/RENTED VEHICLE",
          "all/2018/6/AUTO THEFT - LEASED/RENTED VEHICLE",
          "all/2018/7/AUTO THEFT - LEASED/RENTED VEHICLE",
          "all/2018/8/AUTO THEFT - LEASED/RENTED VEHICLE",
          "all/2018/1/AUTO THEFT - MOTORCYCLE / SCOOTER",
          "all/2018/2/AUTO THEFT - MOTORCYCLE / SCOOTER",
          "all/2018/3/AUTO THEFT - MOTORCYCLE / SCOOTER",
          "all/2018/4/AUTO THEFT - MOTORCYCLE / SCOOTER",
          "all/2018/5/AUTO THEFT - MOTORCYCLE / SCOOTER",
          "all/2018/6/AUTO THEFT - MOTORCYCLE / SCOOTER",
          "all/2018/7/AUTO THEFT - MOTORCYCLE / SCOOTER",
          "all/2018/8/AUTO THEFT - MOTORCYCLE / SCOOTER",
          "all/2018/9/AUTO THEFT - MOTORCYCLE / SCOOTER",
          "all/2016/3/AUTO THEFT - RECOVERED IN BY POLICE",
          "all/2016/11/AUTO THEFT - RECOVERED IN BY POLICE",
          "all/2016/11/AUTO THEFT OTHER",
          "all/2015/12/B&E NON-RESIDENCE DAY - NO PROP TAKEN",
          "all/2015/7/B&E NON-RESIDENCE NIGHT - FORCE",
          "all/2016/1/B&E RESIDENCE DAY - NO PROP TAKEN",
          "all/2015/8/B&E RESIDENCE NIGHT - ATTEMPT FORCE",
          "all/2018/1/BALLISTICS EVIDENCE/FOUND",
          "all/2018/2/BALLISTICS EVIDENCE/FOUND",
          "all/2018/3/BALLISTICS EVIDENCE/FOUND",
          "all/2018/4/BALLISTICS EVIDENCE/FOUND",
          "all/2018/5/BALLISTICS EVIDENCE/FOUND",
          "all/2018/6/BALLISTICS EVIDENCE/FOUND",
          "all/2018/7/BALLISTICS EVIDENCE/FOUND",
          "all/2018/8/BALLISTICS EVIDENCE/FOUND",
          "all/2018/9/BALLISTICS EVIDENCE/FOUND",
          "all/2017/9/BIOLOGICAL THREATS",
          "all/2017/12/BIOLOGICAL THREATS",
          "all/2018/1/BOMB THREAT",
          "all/2018/2/BOMB THREAT",
          "all/2018/3/BOMB THREAT",
          "all/2018/4/BOMB THREAT",
          "all/2018/5/BOMB THREAT",
          "all/2018/6/BOMB THREAT",
          "all/2018/7/BOMB THREAT",
          "all/2018/8/BOMB THREAT",
          "all/2018/9/BOMB THREAT",
          "all/2018/1/BURGLARY - COMMERICAL - ATTEMPT",
          "all/2018/2/BURGLARY - COMMERICAL - ATTEMPT",
          "all/2018/3/BURGLARY - COMMERICAL - ATTEMPT",
          "all/2018/4/BURGLARY - COMMERICAL - ATTEMPT",
          "all/2018/6/BURGLARY - COMMERICAL - ATTEMPT",
          "all/2018/8/BURGLARY - COMMERICAL - ATTEMPT",
          "all/2018/1/BURGLARY - COMMERICAL - FORCE",
          "all/2018/2/BURGLARY - COMMERICAL - FORCE",
          "all/2018/3/BURGLARY - COMMERICAL - FORCE",
          "all/2018/4/BURGLARY - COMMERICAL - FORCE",
          "all/2018/5/BURGLARY - COMMERICAL - FORCE",
          "all/2018/6/BURGLARY - COMMERICAL - FORCE",
          "all/2018/7/BURGLARY - COMMERICAL - FORCE",
          "all/2018/8/BURGLARY - COMMERICAL - FORCE",
          "all/2018/1/BURGLARY - COMMERICAL - NO FORCE",
          "all/2018/2/BURGLARY - COMMERICAL - NO FORCE",
          "all/2018/3/BURGLARY - COMMERICAL - NO FORCE",
          "all/2018/4/BURGLARY - COMMERICAL - NO FORCE",
          "all/2018/5/BURGLARY - COMMERICAL - NO FORCE",
          "all/2018/6/BURGLARY - COMMERICAL - NO FORCE",
          "all/2018/7/BURGLARY - COMMERICAL - NO FORCE",
          "all/2018/8/BURGLARY - COMMERICAL - NO FORCE",
          "all/2018/2/BURGLARY - OTHER - ATTEMPT",
          "all/2018/4/BURGLARY - OTHER - ATTEMPT",
          "all/2018/5/BURGLARY - OTHER - ATTEMPT",
          "all/2018/6/BURGLARY - OTHER - ATTEMPT",
          "all/2018/7/BURGLARY - OTHER - ATTEMPT",
          "all/2018/8/BURGLARY - OTHER - ATTEMPT",
          "all/2018/9/BURGLARY - OTHER - ATTEMPT",
          "all/2018/1/BURGLARY - OTHER - FORCE",
          "all/2018/2/BURGLARY - OTHER - FORCE",
          "all/2018/3/BURGLARY - OTHER - FORCE",
          "all/2018/4/BURGLARY - OTHER - FORCE",
          "all/2018/5/BURGLARY - OTHER - FORCE",
          "all/2018/6/BURGLARY - OTHER - FORCE",
          "all/2018/7/BURGLARY - OTHER - FORCE",
          "all/2018/8/BURGLARY - OTHER - FORCE",
          "all/2018/1/BURGLARY - OTHER - NO FORCE",
          "all/2018/2/BURGLARY - OTHER - NO FORCE",
          "all/2018/3/BURGLARY - OTHER - NO FORCE",
          "all/2018/4/BURGLARY - OTHER - NO FORCE",
          "all/2018/5/BURGLARY - OTHER - NO FORCE",
          "all/2018/6/BURGLARY - OTHER - NO FORCE",
          "all/2018/7/BURGLARY - OTHER - NO FORCE",
          "all/2018/1/BURGLARY - RESIDENTIAL - ATTEMPT",
          "all/2018/2/BURGLARY - RESIDENTIAL - ATTEMPT",
          "all/2018/3/BURGLARY - RESIDENTIAL - ATTEMPT",
          "all/2018/4/BURGLARY - RESIDENTIAL - ATTEMPT",
          "all/2018/5/BURGLARY - RESIDENTIAL - ATTEMPT",
          "all/2018/6/BURGLARY - RESIDENTIAL - ATTEMPT",
          "all/2018/7/BURGLARY - RESIDENTIAL - ATTEMPT",
          "all/2018/8/BURGLARY - RESIDENTIAL - ATTEMPT",
          "all/2018/1/BURGLARY - RESIDENTIAL - FORCE",
          "all/2018/2/BURGLARY - RESIDENTIAL - FORCE",
          "all/2018/3/BURGLARY - RESIDENTIAL - FORCE",
          "all/2018/4/BURGLARY - RESIDENTIAL - FORCE",
          "all/2018/5/BURGLARY - RESIDENTIAL - FORCE",
          "all/2018/6/BURGLARY - RESIDENTIAL - FORCE",
          "all/2018/7/BURGLARY - RESIDENTIAL - FORCE",
          "all/2018/8/BURGLARY - RESIDENTIAL - FORCE",
          "all/2018/9/BURGLARY - RESIDENTIAL - FORCE",
          "all/2018/1/BURGLARY - RESIDENTIAL - NO FORCE",
          "all/2018/2/BURGLARY - RESIDENTIAL - NO FORCE",
          "all/2018/3/BURGLARY - RESIDENTIAL - NO FORCE",
          "all/2018/4/BURGLARY - RESIDENTIAL - NO FORCE",
          "all/2018/5/BURGLARY - RESIDENTIAL - NO FORCE",
          "all/2018/6/BURGLARY - RESIDENTIAL - NO FORCE",
          "all/2018/7/BURGLARY - RESIDENTIAL - NO FORCE",
          "all/2018/8/BURGLARY - RESIDENTIAL - NO FORCE",
          "all/2018/9/BURGLARY - RESIDENTIAL - NO FORCE",
          "all/2018/2/CHILD ABANDONMENT (NO ASSAULT)",
          "all/2018/3/CHILD ABANDONMENT (NO ASSAULT)",
          "all/2018/4/CHILD ABANDONMENT (NO ASSAULT)",
          "all/2018/5/CHILD ABANDONMENT (NO ASSAULT)",
          "all/2018/1/CHILD ENDANGERMENT",
          "all/2018/2/CHILD ENDANGERMENT",
          "all/2018/3/CHILD ENDANGERMENT",
          "all/2018/4/CHILD ENDANGERMENT",
          "all/2018/5/CHILD ENDANGERMENT",
          "all/2018/6/CHILD ENDANGERMENT",
          "all/2018/7/CHILD ENDANGERMENT",
          "all/2018/8/CHILD ENDANGERMENT",
          "all/2018/1/CHILD ENDANGERMENT (NO ASSAULT)",
          "all/2018/2/CHILD ENDANGERMENT (NO ASSAULT)",
          "all/2018/3/CHILD ENDANGERMENT (NO ASSAULT)",
          "all/2018/4/CHILD ENDANGERMENT (NO ASSAULT)",
          "all/2018/5/CHILD ENDANGERMENT (NO ASSAULT)",
          "all/2018/6/CHILD ENDANGERMENT (NO ASSAULT)",
          "all/2018/7/CHILD ENDANGERMENT (NO ASSAULT)",
          "all/2018/8/CHILD ENDANGERMENT (NO ASSAULT)",
          "all/2018/2/CHINS",
          "all/2018/7/CHINS",
          "all/2018/8/CHINS",
          "all/2018/1/CONSPIRACY EXCEPT DRUG LAW",
          "all/2018/2/CONSPIRACY EXCEPT DRUG LAW",
          "all/2018/6/CONSPIRACY EXCEPT DRUG LAW",
          "all/2018/8/CONSPIRACY EXCEPT DRUG LAW",
          "all/2018/6/CONTRIBUTING TO DELINQUENCY OF MINOR",
          "all/2018/1/CRIMINAL HARASSMENT",
          "all/2018/2/CRIMINAL HARASSMENT",
          "all/2018/3/CRIMINAL HARASSMENT",
          "all/2018/4/CRIMINAL HARASSMENT",
          "all/2018/5/CRIMINAL HARASSMENT",
          "all/2018/6/CRIMINAL HARASSMENT",
          "all/2018/7/CRIMINAL HARASSMENT",
          "all/2018/8/CRIMINAL HARASSMENT",
          "all/2017/2/CUSTODIAL KIDNAPPING",
          "all/2017/6/CUSTODIAL KIDNAPPING",
          "all/2017/7/CUSTODIAL KIDNAPPING",
          "all/2017/11/CUSTODIAL KIDNAPPING",
          "all/2018/1/DANGEROUS OR HAZARDOUS CONDITION",
          "all/2018/3/DANGEROUS OR HAZARDOUS CONDITION",
          "all/2018/4/DANGEROUS OR HAZARDOUS CONDITION",
          "all/2018/5/DANGEROUS OR HAZARDOUS CONDITION",
          "all/2018/6/DANGEROUS OR HAZARDOUS CONDITION",
          "all/2018/7/DANGEROUS OR HAZARDOUS CONDITION",
          "all/2018/8/DANGEROUS OR HAZARDOUS CONDITION",
          "all/2018/9/DANGEROUS OR HAZARDOUS CONDITION",
          "all/2018/1/DEATH INVESTIGATION",
          "all/2018/2/DEATH INVESTIGATION",
          "all/2018/3/DEATH INVESTIGATION",
          "all/2018/4/DEATH INVESTIGATION",
          "all/2018/5/DEATH INVESTIGATION",
          "all/2018/6/DEATH INVESTIGATION",
          "all/2018/7/DEATH INVESTIGATION",
          "all/2018/8/DEATH INVESTIGATION",
          "all/2018/9/DEATH INVESTIGATION",
          "all/2018/1/DEMONSTRATIONS/RIOT",
          "all/2018/2/DEMONSTRATIONS/RIOT",
          "all/2018/3/DEMONSTRATIONS/RIOT",
          "all/2018/4/DEMONSTRATIONS/RIOT",
          "all/2018/5/DEMONSTRATIONS/RIOT",
          "all/2018/6/DEMONSTRATIONS/RIOT",
          "all/2018/7/DEMONSTRATIONS/RIOT",
          "all/2018/8/DEMONSTRATIONS/RIOT",
          "all/2018/9/DEMONSTRATIONS/RIOT",
          "all/2018/1/DISORDERLY CONDUCT",
          "all/2018/2/DISORDERLY CONDUCT",
          "all/2018/3/DISORDERLY CONDUCT",
          "all/2018/4/DISORDERLY CONDUCT",
          "all/2018/5/DISORDERLY CONDUCT",
          "all/2018/6/DISORDERLY CONDUCT",
          "all/2018/7/DISORDERLY CONDUCT",
          "all/2018/8/DISORDERLY CONDUCT",
          "all/2018/9/DISORDERLY CONDUCT",
          "all/2018/1/DISTURBING THE PEACE",
          "all/2018/2/DISTURBING THE PEACE",
          "all/2018/3/DISTURBING THE PEACE",
          "all/2018/4/DISTURBING THE PEACE",
          "all/2018/5/DISTURBING THE PEACE",
          "all/2018/6/DISTURBING THE PEACE",
          "all/2018/7/DISTURBING THE PEACE",
          "all/2018/8/DISTURBING THE PEACE",
          "all/2018/9/DISTURBING THE PEACE",
          "all/2018/1/DRUGS - CLASS A TRAFFICKING OVER 18 GRAMS",
          "all/2018/2/DRUGS - CLASS A TRAFFICKING OVER 18 GRAMS",
          "all/2018/3/DRUGS - CLASS A TRAFFICKING OVER 18 GRAMS",
          "all/2018/4/DRUGS - CLASS A TRAFFICKING OVER 18 GRAMS",
          "all/2018/5/DRUGS - CLASS A TRAFFICKING OVER 18 GRAMS",
          "all/2018/6/DRUGS - CLASS A TRAFFICKING OVER 18 GRAMS",
          "all/2018/7/DRUGS - CLASS A TRAFFICKING OVER 18 GRAMS",
          "all/2018/8/DRUGS - CLASS A TRAFFICKING OVER 18 GRAMS",
          "all/2018/1/DRUGS - CLASS B TRAFFICKING OVER 18 GRAMS",
          "all/2018/2/DRUGS - CLASS B TRAFFICKING OVER 18 GRAMS",
          "all/2018/3/DRUGS - CLASS B TRAFFICKING OVER 18 GRAMS",
          "all/2018/4/DRUGS - CLASS B TRAFFICKING OVER 18 GRAMS",
          "all/2018/5/DRUGS - CLASS B TRAFFICKING OVER 18 GRAMS",
          "all/2018/6/DRUGS - CLASS B TRAFFICKING OVER 18 GRAMS",
          "all/2018/7/DRUGS - CLASS B TRAFFICKING OVER 18 GRAMS",
          "all/2018/8/DRUGS - CLASS B TRAFFICKING OVER 18 GRAMS",
          "all/2018/9/DRUGS - CLASS B TRAFFICKING OVER 18 GRAMS",
          "all/2018/4/DRUGS - CLASS D TRAFFICKING OVER 50 GRAMS",
          "all/2018/5/DRUGS - CLASS D TRAFFICKING OVER 50 GRAMS",
          "all/2018/7/DRUGS - CLASS D TRAFFICKING OVER 50 GRAMS",
          "all/2018/2/DRUGS - CONSP TO VIOL CONTROLLED SUBSTANCE",
          "all/2018/4/DRUGS - CONSP TO VIOL CONTROLLED SUBSTANCE",
          "all/2018/5/DRUGS - CONSP TO VIOL CONTROLLED SUBSTANCE",
          "all/2018/6/DRUGS - CONSP TO VIOL CONTROLLED SUBSTANCE",
          "all/2018/7/DRUGS - CONSP TO VIOL CONTROLLED SUBSTANCE",
          "all/2016/12/DRUGS - GLUE INHALATION",
          "all/2018/1/DRUGS - OTHER",
          "all/2018/2/DRUGS - OTHER",
          "all/2018/3/DRUGS - OTHER",
          "all/2018/4/DRUGS - OTHER",
          "all/2018/5/DRUGS - OTHER",
          "all/2018/6/DRUGS - OTHER",
          "all/2018/7/DRUGS - OTHER",
          "all/2018/8/DRUGS - OTHER",
          "all/2018/9/DRUGS - OTHER",
          "all/2018/1/DRUGS - POSS CLASS A - HEROIN, ETC. ",
          "all/2018/2/DRUGS - POSS CLASS A - HEROIN, ETC. ",
          "all/2018/3/DRUGS - POSS CLASS A - HEROIN, ETC. ",
          "all/2018/4/DRUGS - POSS CLASS A - HEROIN, ETC. ",
          "all/2018/5/DRUGS - POSS CLASS A - HEROIN, ETC. ",
          "all/2018/6/DRUGS - POSS CLASS A - HEROIN, ETC. ",
          "all/2018/7/DRUGS - POSS CLASS A - HEROIN, ETC. ",
          "all/2018/8/DRUGS - POSS CLASS A - HEROIN, ETC. ",
          "all/2018/9/DRUGS - POSS CLASS A - HEROIN, ETC. ",
          "all/2018/1/DRUGS - POSS CLASS A - INTENT TO MFR DIST DISP",
          "all/2018/2/DRUGS - POSS CLASS A - INTENT TO MFR DIST DISP",
          "all/2018/3/DRUGS - POSS CLASS A - INTENT TO MFR DIST DISP",
          "all/2018/4/DRUGS - POSS CLASS A - INTENT TO MFR DIST DISP",
          "all/2018/5/DRUGS - POSS CLASS A - INTENT TO MFR DIST DISP",
          "all/2018/6/DRUGS - POSS CLASS A - INTENT TO MFR DIST DISP",
          "all/2018/7/DRUGS - POSS CLASS A - INTENT TO MFR DIST DISP",
          "all/2018/8/DRUGS - POSS CLASS A - INTENT TO MFR DIST DISP",
          "all/2018/9/DRUGS - POSS CLASS A - INTENT TO MFR DIST DISP",
          "all/2018/1/DRUGS - POSS CLASS B - COCAINE, ETC.",
          "all/2018/2/DRUGS - POSS CLASS B - COCAINE, ETC.",
          "all/2018/3/DRUGS - POSS CLASS B - COCAINE, ETC.",
          "all/2018/4/DRUGS - POSS CLASS B - COCAINE, ETC.",
          "all/2018/5/DRUGS - POSS CLASS B - COCAINE, ETC.",
          "all/2018/6/DRUGS - POSS CLASS B - COCAINE, ETC.",
          "all/2018/7/DRUGS - POSS CLASS B - COCAINE, ETC.",
          "all/2018/8/DRUGS - POSS CLASS B - COCAINE, ETC.",
          "all/2018/9/DRUGS - POSS CLASS B - COCAINE, ETC.",
          "all/2018/1/DRUGS - POSS CLASS B - INTENT TO MFR DIST DISP",
          "all/2018/2/DRUGS - POSS CLASS B - INTENT TO MFR DIST DISP",
          "all/2018/3/DRUGS - POSS CLASS B - INTENT TO MFR DIST DISP",
          "all/2018/4/DRUGS - POSS CLASS B - INTENT TO MFR DIST DISP",
          "all/2018/5/DRUGS - POSS CLASS B - INTENT TO MFR DIST DISP",
          "all/2018/6/DRUGS - POSS CLASS B - INTENT TO MFR DIST DISP",
          "all/2018/7/DRUGS - POSS CLASS B - INTENT TO MFR DIST DISP",
          "all/2018/8/DRUGS - POSS CLASS B - INTENT TO MFR DIST DISP",
          "all/2018/9/DRUGS - POSS CLASS B - INTENT TO MFR DIST DISP",
          "all/2018/1/DRUGS - POSS CLASS C",
          "all/2018/2/DRUGS - POSS CLASS C",
          "all/2018/3/DRUGS - POSS CLASS C",
          "all/2018/4/DRUGS - POSS CLASS C",
          "all/2018/5/DRUGS - POSS CLASS C",
          "all/2018/6/DRUGS - POSS CLASS C",
          "all/2018/7/DRUGS - POSS CLASS C",
          "all/2018/8/DRUGS - POSS CLASS C",
          "all/2018/9/DRUGS - POSS CLASS C",
          "all/2018/1/DRUGS - POSS CLASS C - INTENT TO MFR DIST DISP",
          "all/2018/2/DRUGS - POSS CLASS C - INTENT TO MFR DIST DISP",
          "all/2018/3/DRUGS - POSS CLASS C - INTENT TO MFR DIST DISP",
          "all/2018/4/DRUGS - POSS CLASS C - INTENT TO MFR DIST DISP",
          "all/2018/5/DRUGS - POSS CLASS C - INTENT TO MFR DIST DISP",
          "all/2018/6/DRUGS - POSS CLASS C - INTENT TO MFR DIST DISP",
          "all/2018/7/DRUGS - POSS CLASS C - INTENT TO MFR DIST DISP",
          "all/2018/8/DRUGS - POSS CLASS C - INTENT TO MFR DIST DISP",
          "all/2018/1/DRUGS - POSS CLASS D",
          "all/2018/2/DRUGS - POSS CLASS D",
          "all/2018/3/DRUGS - POSS CLASS D",
          "all/2018/4/DRUGS - POSS CLASS D",
          "all/2018/5/DRUGS - POSS CLASS D",
          "all/2018/6/DRUGS - POSS CLASS D",
          "all/2018/7/DRUGS - POSS CLASS D",
          "all/2018/8/DRUGS - POSS CLASS D",
          "all/2018/1/DRUGS - POSS CLASS D - INTENT MFR DIST DISP",
          "all/2018/1/DRUGS - POSS CLASS D - INTENT TO MFR DIST DISP",
          "all/2018/2/DRUGS - POSS CLASS D - INTENT TO MFR DIST DISP",
          "all/2018/3/DRUGS - POSS CLASS D - INTENT TO MFR DIST DISP",
          "all/2018/4/DRUGS - POSS CLASS D - INTENT TO MFR DIST DISP",
          "all/2018/5/DRUGS - POSS CLASS D - INTENT TO MFR DIST DISP",
          "all/2018/6/DRUGS - POSS CLASS D - INTENT TO MFR DIST DISP",
          "all/2018/7/DRUGS - POSS CLASS D - INTENT TO MFR DIST DISP",
          "all/2018/8/DRUGS - POSS CLASS D - INTENT TO MFR DIST DISP",
          "all/2018/9/DRUGS - POSS CLASS D - INTENT TO MFR DIST DISP",
          "all/2015/12/DRUGS - POSS CLASS D - MARIJUANA, ETC.",
          "all/2018/1/DRUGS - POSS CLASS E",
          "all/2018/2/DRUGS - POSS CLASS E",
          "all/2018/3/DRUGS - POSS CLASS E",
          "all/2018/4/DRUGS - POSS CLASS E",
          "all/2018/5/DRUGS - POSS CLASS E",
          "all/2018/6/DRUGS - POSS CLASS E",
          "all/2018/7/DRUGS - POSS CLASS E",
          "all/2018/8/DRUGS - POSS CLASS E",
          "all/2018/9/DRUGS - POSS CLASS E",
          "all/2018/1/DRUGS - POSS CLASS E - INTENT TO MFR DIST DISP",
          "all/2018/2/DRUGS - POSS CLASS E - INTENT TO MFR DIST DISP",
          "all/2018/3/DRUGS - POSS CLASS E - INTENT TO MFR DIST DISP",
          "all/2018/4/DRUGS - POSS CLASS E - INTENT TO MFR DIST DISP",
          "all/2018/5/DRUGS - POSS CLASS E - INTENT TO MFR DIST DISP",
          "all/2018/6/DRUGS - POSS CLASS E - INTENT TO MFR DIST DISP",
          "all/2018/7/DRUGS - POSS CLASS E - INTENT TO MFR DIST DISP",
          "all/2018/8/DRUGS - POSS CLASS E - INTENT TO MFR DIST DISP",
          "all/2016/3/DRUGS - POSS CLASS E INTENT TO MF DIST DISP",
          "all/2018/1/DRUGS - POSSESSION",
          "all/2018/2/DRUGS - POSSESSION",
          "all/2018/3/DRUGS - POSSESSION",
          "all/2018/4/DRUGS - POSSESSION",
          "all/2018/7/DRUGS - POSSESSION",
          "all/2018/8/DRUGS - POSSESSION",
          "all/2018/9/DRUGS - POSSESSION",
          "all/2018/1/DRUGS - POSSESSION OF DRUG PARAPHANALIA",
          "all/2018/2/DRUGS - POSSESSION OF DRUG PARAPHANALIA",
          "all/2018/3/DRUGS - POSSESSION OF DRUG PARAPHANALIA",
          "all/2018/4/DRUGS - POSSESSION OF DRUG PARAPHANALIA",
          "all/2018/5/DRUGS - POSSESSION OF DRUG PARAPHANALIA",
          "all/2018/7/DRUGS - POSSESSION OF DRUG PARAPHANALIA",
          "all/2018/1/DRUGS - SALE / MANUFACTURING",
          "all/2018/2/DRUGS - SALE / MANUFACTURING",
          "all/2018/3/DRUGS - SALE / MANUFACTURING",
          "all/2018/4/DRUGS - SALE / MANUFACTURING",
          "all/2018/5/DRUGS - SALE / MANUFACTURING",
          "all/2018/6/DRUGS - SALE / MANUFACTURING",
          "all/2018/7/DRUGS - SALE / MANUFACTURING",
          "all/2018/8/DRUGS - SALE / MANUFACTURING",
          "all/2018/9/DRUGS - SALE / MANUFACTURING",
          "all/2018/1/DRUGS - SICK ASSIST - HEROIN",
          "all/2018/2/DRUGS - SICK ASSIST - HEROIN",
          "all/2018/3/DRUGS - SICK ASSIST - HEROIN",
          "all/2018/4/DRUGS - SICK ASSIST - HEROIN",
          "all/2018/5/DRUGS - SICK ASSIST - HEROIN",
          "all/2018/6/DRUGS - SICK ASSIST - HEROIN",
          "all/2018/7/DRUGS - SICK ASSIST - HEROIN",
          "all/2018/8/DRUGS - SICK ASSIST - HEROIN",
          "all/2018/9/DRUGS - SICK ASSIST - HEROIN",
          "all/2018/1/DRUGS - SICK ASSIST - OTHER HARMFUL DRUG",
          "all/2018/3/DRUGS - SICK ASSIST - OTHER HARMFUL DRUG",
          "all/2018/4/DRUGS - SICK ASSIST - OTHER HARMFUL DRUG",
          "all/2018/5/DRUGS - SICK ASSIST - OTHER HARMFUL DRUG",
          "all/2018/6/DRUGS - SICK ASSIST - OTHER HARMFUL DRUG",
          "all/2018/7/DRUGS - SICK ASSIST - OTHER HARMFUL DRUG",
          "all/2018/8/DRUGS - SICK ASSIST - OTHER HARMFUL DRUG",
          "all/2018/1/DRUGS - SICK ASSIST - OTHER NARCOTIC",
          "all/2018/2/DRUGS - SICK ASSIST - OTHER NARCOTIC",
          "all/2018/3/DRUGS - SICK ASSIST - OTHER NARCOTIC",
          "all/2018/4/DRUGS - SICK ASSIST - OTHER NARCOTIC",
          "all/2018/5/DRUGS - SICK ASSIST - OTHER NARCOTIC",
          "all/2018/6/DRUGS - SICK ASSIST - OTHER NARCOTIC",
          "all/2018/7/DRUGS - SICK ASSIST - OTHER NARCOTIC",
          "all/2018/8/DRUGS - SICK ASSIST - OTHER NARCOTIC",
          "all/2018/9/DRUGS - SICK ASSIST - OTHER NARCOTIC",
          "all/2018/1/EMBEZZLEMENT",
          "all/2018/2/EMBEZZLEMENT",
          "all/2018/3/EMBEZZLEMENT",
          "all/2018/4/EMBEZZLEMENT",
          "all/2018/5/EMBEZZLEMENT",
          "all/2018/6/EMBEZZLEMENT",
          "all/2018/7/EMBEZZLEMENT",
          "all/2018/8/EMBEZZLEMENT",
          "all/2018/1/EVADING FARE",
          "all/2018/2/EVADING FARE",
          "all/2018/3/EVADING FARE",
          "all/2018/4/EVADING FARE",
          "all/2018/5/EVADING FARE",
          "all/2018/6/EVADING FARE",
          "all/2018/7/EVADING FARE",
          "all/2018/8/EVADING FARE",
          "all/2018/5/EXPLOSIVES - POSSESSION OR USE",
          "all/2018/7/EXPLOSIVES - POSSESSION OR USE",
          "all/2018/8/EXPLOSIVES - POSSESSION OR USE",
          "all/2018/7/EXPLOSIVES - TURNED IN OR FOUND",
          "all/2018/8/EXPLOSIVES - TURNED IN OR FOUND",
          "all/2018/1/EXTORTION OR BLACKMAIL",
          "all/2018/2/EXTORTION OR BLACKMAIL",
          "all/2018/3/EXTORTION OR BLACKMAIL",
          "all/2018/4/EXTORTION OR BLACKMAIL",
          "all/2018/5/EXTORTION OR BLACKMAIL",
          "all/2018/6/EXTORTION OR BLACKMAIL",
          "all/2018/7/EXTORTION OR BLACKMAIL",
          "all/2018/8/EXTORTION OR BLACKMAIL",
          "all/2018/1/FIRE REPORT - CAR, BRUSH, ETC.",
          "all/2018/2/FIRE REPORT - CAR, BRUSH, ETC.",
          "all/2018/3/FIRE REPORT - CAR, BRUSH, ETC.",
          "all/2018/4/FIRE REPORT - CAR, BRUSH, ETC.",
          "all/2018/5/FIRE REPORT - CAR, BRUSH, ETC.",
          "all/2018/6/FIRE REPORT - CAR, BRUSH, ETC.",
          "all/2018/7/FIRE REPORT - CAR, BRUSH, ETC.",
          "all/2018/8/FIRE REPORT - CAR, BRUSH, ETC.",
          "all/2018/9/FIRE REPORT - CAR, BRUSH, ETC.",
          "all/2018/1/FIRE REPORT - HOUSE, BUILDING, ETC.",
          "all/2018/2/FIRE REPORT - HOUSE, BUILDING, ETC.",
          "all/2018/3/FIRE REPORT - HOUSE, BUILDING, ETC.",
          "all/2018/4/FIRE REPORT - HOUSE, BUILDING, ETC.",
          "all/2018/5/FIRE REPORT - HOUSE, BUILDING, ETC.",
          "all/2018/6/FIRE REPORT - HOUSE, BUILDING, ETC.",
          "all/2018/7/FIRE REPORT - HOUSE, BUILDING, ETC.",
          "all/2018/8/FIRE REPORT - HOUSE, BUILDING, ETC.",
          "all/2018/9/FIRE REPORT - HOUSE, BUILDING, ETC.",
          "all/2018/1/FIRE REPORT/ALARM - FALSE",
          "all/2018/2/FIRE REPORT/ALARM - FALSE",
          "all/2018/3/FIRE REPORT/ALARM - FALSE",
          "all/2018/4/FIRE REPORT/ALARM - FALSE",
          "all/2018/5/FIRE REPORT/ALARM - FALSE",
          "all/2018/6/FIRE REPORT/ALARM - FALSE",
          "all/2018/7/FIRE REPORT/ALARM - FALSE",
          "all/2018/8/FIRE REPORT/ALARM - FALSE",
          "all/2018/9/FIRE REPORT/ALARM - FALSE",
          "all/2018/2/FIREARM/WEAPON - ACCIDENTAL INJURY / DEATH",
          "all/2018/8/FIREARM/WEAPON - ACCIDENTAL INJURY / DEATH",
          "all/2018/1/FIREARM/WEAPON - FOUND OR CONFISCATED",
          "all/2018/2/FIREARM/WEAPON - FOUND OR CONFISCATED",
          "all/2018/3/FIREARM/WEAPON - FOUND OR CONFISCATED",
          "all/2018/4/FIREARM/WEAPON - FOUND OR CONFISCATED",
          "all/2018/5/FIREARM/WEAPON - FOUND OR CONFISCATED",
          "all/2018/6/FIREARM/WEAPON - FOUND OR CONFISCATED",
          "all/2018/7/FIREARM/WEAPON - FOUND OR CONFISCATED",
          "all/2018/8/FIREARM/WEAPON - FOUND OR CONFISCATED",
          "all/2018/9/FIREARM/WEAPON - FOUND OR CONFISCATED",
          "all/2018/6/FIREARM/WEAPON - LOST",
          "all/2018/1/FORGERY / COUNTERFEITING",
          "all/2018/2/FORGERY / COUNTERFEITING",
          "all/2018/3/FORGERY / COUNTERFEITING",
          "all/2018/4/FORGERY / COUNTERFEITING",
          "all/2018/5/FORGERY / COUNTERFEITING",
          "all/2018/6/FORGERY / COUNTERFEITING",
          "all/2018/7/FORGERY / COUNTERFEITING",
          "all/2018/8/FORGERY / COUNTERFEITING",
          "all/2018/9/FORGERY / COUNTERFEITING",
          "all/2016/4/FORGERY OR UTTERING",
          "all/2018/1/FRAUD - CREDIT CARD / ATM FRAUD",
          "all/2018/2/FRAUD - CREDIT CARD / ATM FRAUD",
          "all/2018/3/FRAUD - CREDIT CARD / ATM FRAUD",
          "all/2018/4/FRAUD - CREDIT CARD / ATM FRAUD",
          "all/2018/5/FRAUD - CREDIT CARD / ATM FRAUD",
          "all/2018/6/FRAUD - CREDIT CARD / ATM FRAUD",
          "all/2018/7/FRAUD - CREDIT CARD / ATM FRAUD",
          "all/2018/8/FRAUD - CREDIT CARD / ATM FRAUD",
          "all/2018/9/FRAUD - CREDIT CARD / ATM FRAUD",
          "all/2018/1/FRAUD - FALSE PRETENSE / SCHEME",
          "all/2018/2/FRAUD - FALSE PRETENSE / SCHEME",
          "all/2018/3/FRAUD - FALSE PRETENSE / SCHEME",
          "all/2018/4/FRAUD - FALSE PRETENSE / SCHEME",
          "all/2018/5/FRAUD - FALSE PRETENSE / SCHEME",
          "all/2018/6/FRAUD - FALSE PRETENSE / SCHEME",
          "all/2018/7/FRAUD - FALSE PRETENSE / SCHEME",
          "all/2018/8/FRAUD - FALSE PRETENSE / SCHEME",
          "all/2018/9/FRAUD - FALSE PRETENSE / SCHEME",
          "all/2018/1/FRAUD - IMPERSONATION",
          "all/2018/2/FRAUD - IMPERSONATION",
          "all/2018/3/FRAUD - IMPERSONATION",
          "all/2018/4/FRAUD - IMPERSONATION",
          "all/2018/5/FRAUD - IMPERSONATION",
          "all/2018/6/FRAUD - IMPERSONATION",
          "all/2018/7/FRAUD - IMPERSONATION",
          "all/2018/8/FRAUD - IMPERSONATION",
          "all/2018/3/FRAUD - WELFARE",
          "all/2018/4/FRAUD - WELFARE",
          "all/2018/7/FRAUD - WELFARE",
          "all/2018/1/FRAUD - WIRE",
          "all/2018/2/FRAUD - WIRE",
          "all/2018/3/FRAUD - WIRE",
          "all/2018/4/FRAUD - WIRE",
          "all/2018/5/FRAUD - WIRE",
          "all/2018/6/FRAUD - WIRE",
          "all/2018/7/FRAUD - WIRE",
          "all/2018/8/FRAUD - WIRE",
          "all/2018/9/FRAUD - WIRE",
          "all/2015/10/FRAUDS - ALL OTHER",
          "all/2018/1/FUGITIVE FROM JUSTICE",
          "all/2018/2/FUGITIVE FROM JUSTICE",
          "all/2018/3/FUGITIVE FROM JUSTICE",
          "all/2018/4/FUGITIVE FROM JUSTICE",
          "all/2018/5/FUGITIVE FROM JUSTICE",
          "all/2018/6/FUGITIVE FROM JUSTICE",
          "all/2018/7/FUGITIVE FROM JUSTICE",
          "all/2018/8/FUGITIVE FROM JUSTICE",
          "all/2017/6/GAMBLING - BETTING / WAGERING",
          "all/2017/8/GAMBLING - BETTING / WAGERING",
          "all/2017/9/GAMBLING - BETTING / WAGERING",
          "all/2017/11/GAMBLING - BETTING / WAGERING",
          "all/2018/1/GATHERING CAUSING ANNOYANCE",
          "all/2018/2/GATHERING CAUSING ANNOYANCE",
          "all/2018/4/GATHERING CAUSING ANNOYANCE",
          "all/2018/6/GATHERING CAUSING ANNOYANCE",
          "all/2018/1/GRAFFITI",
          "all/2018/2/GRAFFITI",
          "all/2018/3/GRAFFITI",
          "all/2018/4/GRAFFITI",
          "all/2018/5/GRAFFITI",
          "all/2018/6/GRAFFITI",
          "all/2018/7/GRAFFITI",
          "all/2018/8/GRAFFITI",
          "all/2018/1/HARASSMENT",
          "all/2018/2/HARASSMENT",
          "all/2018/3/HARASSMENT",
          "all/2018/4/HARASSMENT",
          "all/2018/5/HARASSMENT",
          "all/2018/6/HARASSMENT",
          "all/2018/7/HARASSMENT",
          "all/2018/8/HARASSMENT",
          "all/2018/9/HARASSMENT",
          "all/2018/1/HARBOR INCIDENT / VIOLATION",
          "all/2018/2/HARBOR INCIDENT / VIOLATION",
          "all/2018/3/HARBOR INCIDENT / VIOLATION",
          "all/2018/4/HARBOR INCIDENT / VIOLATION",
          "all/2018/5/HARBOR INCIDENT / VIOLATION",
          "all/2018/6/HARBOR INCIDENT / VIOLATION",
          "all/2018/7/HARBOR INCIDENT / VIOLATION",
          "all/2018/8/HARBOR INCIDENT / VIOLATION",
          "all/2018/9/HARBOR INCIDENT / VIOLATION",
          "all/2018/1/HOME INVASION",
          "all/2018/2/HOME INVASION",
          "all/2018/4/HOME INVASION",
          "all/2018/5/HOME INVASION",
          "all/2018/6/HOME INVASION",
          "all/2018/7/HOME INVASION",
          "all/2018/8/HOME INVASION",
          "all/2017/2/HUMAN TRAFFICKING - COMMERCIAL SEX ACTS",
          "all/2017/5/HUMAN TRAFFICKING - COMMERCIAL SEX ACTS",
          "all/2017/7/HUMAN TRAFFICKING - COMMERCIAL SEX ACTS",
          "all/2017/8/HUMAN TRAFFICKING - COMMERCIAL SEX ACTS",
          "all/2017/4/HUMAN TRAFFICKING - INVOLUNTARY SERVITUDE",
          "all/2018/1/INJURY BICYCLE NO M/V INVOLVED",
          "all/2018/4/INJURY BICYCLE NO M/V INVOLVED",
          "all/2018/6/INJURY BICYCLE NO M/V INVOLVED",
          "all/2018/8/INJURY BICYCLE NO M/V INVOLVED",
          "all/2018/1/INTIMIDATING WITNESS",
          "all/2018/2/INTIMIDATING WITNESS",
          "all/2018/3/INTIMIDATING WITNESS",
          "all/2018/4/INTIMIDATING WITNESS",
          "all/2018/5/INTIMIDATING WITNESS",
          "all/2018/6/INTIMIDATING WITNESS",
          "all/2018/7/INTIMIDATING WITNESS",
          "all/2018/8/INTIMIDATING WITNESS",
          "all/2018/9/INTIMIDATING WITNESS",
          "all/2018/1/INVESTIGATE PERSON",
          "all/2018/2/INVESTIGATE PERSON",
          "all/2018/3/INVESTIGATE PERSON",
          "all/2018/4/INVESTIGATE PERSON",
          "all/2018/5/INVESTIGATE PERSON",
          "all/2018/6/INVESTIGATE PERSON",
          "all/2018/7/INVESTIGATE PERSON",
          "all/2018/8/INVESTIGATE PERSON",
          "all/2018/9/INVESTIGATE PERSON",
          "all/2018/1/INVESTIGATE PROPERTY",
          "all/2018/2/INVESTIGATE PROPERTY",
          "all/2018/3/INVESTIGATE PROPERTY",
          "all/2018/4/INVESTIGATE PROPERTY",
          "all/2018/5/INVESTIGATE PROPERTY",
          "all/2018/6/INVESTIGATE PROPERTY",
          "all/2018/7/INVESTIGATE PROPERTY",
          "all/2018/8/INVESTIGATE PROPERTY",
          "all/2018/9/INVESTIGATE PROPERTY",
          "all/2018/1/INVESTIGATION FOR ANOTHER AGENCY",
          "all/2018/2/INVESTIGATION FOR ANOTHER AGENCY",
          "all/2018/3/INVESTIGATION FOR ANOTHER AGENCY",
          "all/2018/4/INVESTIGATION FOR ANOTHER AGENCY",
          "all/2018/5/INVESTIGATION FOR ANOTHER AGENCY",
          "all/2018/6/INVESTIGATION FOR ANOTHER AGENCY",
          "all/2018/7/INVESTIGATION FOR ANOTHER AGENCY",
          "all/2018/8/INVESTIGATION FOR ANOTHER AGENCY",
          "all/2018/1/KIDNAPPING - ENTICING OR ATTEMPTED",
          "all/2018/2/KIDNAPPING - ENTICING OR ATTEMPTED",
          "all/2018/5/KIDNAPPING - ENTICING OR ATTEMPTED",
          "all/2018/6/KIDNAPPING - ENTICING OR ATTEMPTED",
          "all/2018/8/KIDNAPPING - ENTICING OR ATTEMPTED",
          "all/2018/1/KIDNAPPING/CUSTODIAL KIDNAPPING",
          "all/2018/4/KIDNAPPING/CUSTODIAL KIDNAPPING",
          "all/2018/5/KIDNAPPING/CUSTODIAL KIDNAPPING",
          "all/2018/6/KIDNAPPING/CUSTODIAL KIDNAPPING",
          "all/2018/7/KIDNAPPING/CUSTODIAL KIDNAPPING",
          "all/2018/8/KIDNAPPING/CUSTODIAL KIDNAPPING",
          "all/2016/2/KILLING OF FELON BY POLICE",
          "all/2018/1/LANDLORD - TENANT SERVICE",
          "all/2018/2/LANDLORD - TENANT SERVICE",
          "all/2018/3/LANDLORD - TENANT SERVICE",
          "all/2018/4/LANDLORD - TENANT SERVICE",
          "all/2018/5/LANDLORD - TENANT SERVICE",
          "all/2018/6/LANDLORD - TENANT SERVICE",
          "all/2018/7/LANDLORD - TENANT SERVICE",
          "all/2018/8/LANDLORD - TENANT SERVICE",
          "all/2018/9/LANDLORD - TENANT SERVICE",
          "all/2018/1/LARCENY ALL OTHERS",
          "all/2018/2/LARCENY ALL OTHERS",
          "all/2018/3/LARCENY ALL OTHERS",
          "all/2018/4/LARCENY ALL OTHERS",
          "all/2018/5/LARCENY ALL OTHERS",
          "all/2018/6/LARCENY ALL OTHERS",
          "all/2018/7/LARCENY ALL OTHERS",
          "all/2018/8/LARCENY ALL OTHERS",
          "all/2018/9/LARCENY ALL OTHERS",
          "all/2016/1/LARCENY IN A BUILDING $50 TO $199",
          "all/2015/7/LARCENY IN A BUILDING UNDER $50",
          "all/2015/12/LARCENY NON-ACCESSORY FROM VEH. $50 TO $199",
          "all/2016/8/LARCENY NON-ACCESSORY FROM VEH. UNDER $50",
          "all/2016/1/LARCENY OTHER $50 TO $199",
          "all/2016/6/LARCENY OTHER $50 TO $199",
          "all/2015/7/LARCENY OTHER UNDER $50",
          "all/2018/1/LARCENY PICK-POCKET",
          "all/2018/2/LARCENY PICK-POCKET",
          "all/2018/3/LARCENY PICK-POCKET",
          "all/2018/4/LARCENY PICK-POCKET",
          "all/2018/5/LARCENY PICK-POCKET",
          "all/2018/6/LARCENY PICK-POCKET",
          "all/2018/7/LARCENY PICK-POCKET",
          "all/2018/8/LARCENY PICK-POCKET",
          "all/2018/1/LARCENY PURSE SNATCH - NO FORCE ",
          "all/2018/2/LARCENY PURSE SNATCH - NO FORCE ",
          "all/2018/3/LARCENY PURSE SNATCH - NO FORCE ",
          "all/2018/4/LARCENY PURSE SNATCH - NO FORCE ",
          "all/2018/5/LARCENY PURSE SNATCH - NO FORCE ",
          "all/2018/6/LARCENY PURSE SNATCH - NO FORCE ",
          "all/2018/7/LARCENY PURSE SNATCH - NO FORCE ",
          "all/2018/8/LARCENY PURSE SNATCH - NO FORCE ",
          "all/2018/9/LARCENY PURSE SNATCH - NO FORCE ",
          "all/2018/1/LARCENY SHOPLIFTING",
          "all/2018/2/LARCENY SHOPLIFTING",
          "all/2018/3/LARCENY SHOPLIFTING",
          "all/2018/4/LARCENY SHOPLIFTING",
          "all/2018/5/LARCENY SHOPLIFTING",
          "all/2018/6/LARCENY SHOPLIFTING",
          "all/2018/7/LARCENY SHOPLIFTING",
          "all/2018/8/LARCENY SHOPLIFTING",
          "all/2018/9/LARCENY SHOPLIFTING",
          "all/2015/7/LARCENY SHOPLIFTING $50 TO $199",
          "all/2015/8/LARCENY SHOPLIFTING $50 TO $199",
          "all/2016/6/LARCENY SHOPLIFTING UNDER $50",
          "all/2018/1/LARCENY THEFT FROM BUILDING",
          "all/2018/2/LARCENY THEFT FROM BUILDING",
          "all/2018/3/LARCENY THEFT FROM BUILDING",
          "all/2018/4/LARCENY THEFT FROM BUILDING",
          "all/2018/5/LARCENY THEFT FROM BUILDING",
          "all/2018/6/LARCENY THEFT FROM BUILDING",
          "all/2018/7/LARCENY THEFT FROM BUILDING",
          "all/2018/8/LARCENY THEFT FROM BUILDING",
          "all/2018/9/LARCENY THEFT FROM BUILDING",
          "all/2018/3/LARCENY THEFT FROM COIN-OP MACHINE",
          "all/2018/4/LARCENY THEFT FROM COIN-OP MACHINE",
          "all/2018/6/LARCENY THEFT FROM COIN-OP MACHINE",
          "all/2018/1/LARCENY THEFT FROM MV - NON-ACCESSORY",
          "all/2018/2/LARCENY THEFT FROM MV - NON-ACCESSORY",
          "all/2018/3/LARCENY THEFT FROM MV - NON-ACCESSORY",
          "all/2018/4/LARCENY THEFT FROM MV - NON-ACCESSORY",
          "all/2018/5/LARCENY THEFT FROM MV - NON-ACCESSORY",
          "all/2018/6/LARCENY THEFT FROM MV - NON-ACCESSORY",
          "all/2018/7/LARCENY THEFT FROM MV - NON-ACCESSORY",
          "all/2018/8/LARCENY THEFT FROM MV - NON-ACCESSORY",
          "all/2018/9/LARCENY THEFT FROM MV - NON-ACCESSORY",
          "all/2018/1/LARCENY THEFT OF BICYCLE",
          "all/2018/2/LARCENY THEFT OF BICYCLE",
          "all/2018/3/LARCENY THEFT OF BICYCLE",
          "all/2018/4/LARCENY THEFT OF BICYCLE",
          "all/2018/5/LARCENY THEFT OF BICYCLE",
          "all/2018/6/LARCENY THEFT OF BICYCLE",
          "all/2018/7/LARCENY THEFT OF BICYCLE",
          "all/2018/8/LARCENY THEFT OF BICYCLE",
          "all/2018/9/LARCENY THEFT OF BICYCLE",
          "all/2018/1/LARCENY THEFT OF MV PARTS & ACCESSORIES",
          "all/2018/2/LARCENY THEFT OF MV PARTS & ACCESSORIES",
          "all/2018/3/LARCENY THEFT OF MV PARTS & ACCESSORIES",
          "all/2018/4/LARCENY THEFT OF MV PARTS & ACCESSORIES",
          "all/2018/5/LARCENY THEFT OF MV PARTS & ACCESSORIES",
          "all/2018/6/LARCENY THEFT OF MV PARTS & ACCESSORIES",
          "all/2018/7/LARCENY THEFT OF MV PARTS & ACCESSORIES",
          "all/2018/8/LARCENY THEFT OF MV PARTS & ACCESSORIES",
          "all/2018/9/LARCENY THEFT OF MV PARTS & ACCESSORIES",
          "all/2018/1/LICENSE PREMISE VIOLATION",
          "all/2018/2/LICENSE PREMISE VIOLATION",
          "all/2018/3/LICENSE PREMISE VIOLATION",
          "all/2018/4/LICENSE PREMISE VIOLATION",
          "all/2018/5/LICENSE PREMISE VIOLATION",
          "all/2018/6/LICENSE PREMISE VIOLATION",
          "all/2018/7/LICENSE PREMISE VIOLATION",
          "all/2018/8/LICENSE PREMISE VIOLATION",
          "all/2018/1/LIQUOR - DRINKING IN PUBLIC",
          "all/2018/2/LIQUOR - DRINKING IN PUBLIC",
          "all/2018/3/LIQUOR - DRINKING IN PUBLIC",
          "all/2018/4/LIQUOR - DRINKING IN PUBLIC",
          "all/2018/5/LIQUOR - DRINKING IN PUBLIC",
          "all/2018/6/LIQUOR - DRINKING IN PUBLIC",
          "all/2018/7/LIQUOR - DRINKING IN PUBLIC",
          "all/2018/8/LIQUOR - DRINKING IN PUBLIC",
          "all/2018/9/LIQUOR - DRINKING IN PUBLIC",
          "all/2018/1/LIQUOR LAW VIOLATION",
          "all/2018/2/LIQUOR LAW VIOLATION",
          "all/2018/3/LIQUOR LAW VIOLATION",
          "all/2018/4/LIQUOR LAW VIOLATION",
          "all/2018/5/LIQUOR LAW VIOLATION",
          "all/2018/6/LIQUOR LAW VIOLATION",
          "all/2018/7/LIQUOR LAW VIOLATION",
          "all/2018/8/LIQUOR LAW VIOLATION",
          "all/2018/1/M/V - LEAVING SCENE - PERSONAL INJURY",
          "all/2018/2/M/V - LEAVING SCENE - PERSONAL INJURY",
          "all/2018/3/M/V - LEAVING SCENE - PERSONAL INJURY",
          "all/2018/4/M/V - LEAVING SCENE - PERSONAL INJURY",
          "all/2018/5/M/V - LEAVING SCENE - PERSONAL INJURY",
          "all/2018/6/M/V - LEAVING SCENE - PERSONAL INJURY",
          "all/2018/7/M/V - LEAVING SCENE - PERSONAL INJURY",
          "all/2018/8/M/V - LEAVING SCENE - PERSONAL INJURY",
          "all/2018/9/M/V - LEAVING SCENE - PERSONAL INJURY",
          "all/2018/1/M/V - LEAVING SCENE - PROPERTY DAMAGE",
          "all/2018/2/M/V - LEAVING SCENE - PROPERTY DAMAGE",
          "all/2018/3/M/V - LEAVING SCENE - PROPERTY DAMAGE",
          "all/2018/4/M/V - LEAVING SCENE - PROPERTY DAMAGE",
          "all/2018/5/M/V - LEAVING SCENE - PROPERTY DAMAGE",
          "all/2018/6/M/V - LEAVING SCENE - PROPERTY DAMAGE",
          "all/2018/7/M/V - LEAVING SCENE - PROPERTY DAMAGE",
          "all/2018/8/M/V - LEAVING SCENE - PROPERTY DAMAGE",
          "all/2018/9/M/V - LEAVING SCENE - PROPERTY DAMAGE",
          "all/2018/1/M/V ACCIDENT - INVOLVING BICYCLE - NO INJURY",
          "all/2018/2/M/V ACCIDENT - INVOLVING BICYCLE - NO INJURY",
          "all/2018/3/M/V ACCIDENT - INVOLVING BICYCLE - NO INJURY",
          "all/2018/4/M/V ACCIDENT - INVOLVING BICYCLE - NO INJURY",
          "all/2018/5/M/V ACCIDENT - INVOLVING BICYCLE - NO INJURY",
          "all/2018/6/M/V ACCIDENT - INVOLVING BICYCLE - NO INJURY",
          "all/2018/7/M/V ACCIDENT - INVOLVING BICYCLE - NO INJURY",
          "all/2018/8/M/V ACCIDENT - INVOLVING BICYCLE - NO INJURY",
          "all/2018/9/M/V ACCIDENT - INVOLVING BICYCLE - NO INJURY",
          "all/2018/1/M/V ACCIDENT - INVOLVING PEDESTRIAN - NO INJURY",
          "all/2018/2/M/V ACCIDENT - INVOLVING PEDESTRIAN - NO INJURY",
          "all/2018/3/M/V ACCIDENT - INVOLVING PEDESTRIAN - NO INJURY",
          "all/2018/4/M/V ACCIDENT - INVOLVING PEDESTRIAN - NO INJURY",
          "all/2018/5/M/V ACCIDENT - INVOLVING PEDESTRIAN - NO INJURY",
          "all/2018/6/M/V ACCIDENT - INVOLVING PEDESTRIAN - NO INJURY",
          "all/2018/7/M/V ACCIDENT - INVOLVING PEDESTRIAN - NO INJURY",
          "all/2018/8/M/V ACCIDENT - INVOLVING PEDESTRIAN - NO INJURY",
          "all/2018/9/M/V ACCIDENT - INVOLVING PEDESTRIAN - NO INJURY",
          "all/2018/1/M/V ACCIDENT - INVOLVING  BICYCLE - INJURY",
          "all/2018/2/M/V ACCIDENT - INVOLVING  BICYCLE - INJURY",
          "all/2018/3/M/V ACCIDENT - INVOLVING  BICYCLE - INJURY",
          "all/2018/4/M/V ACCIDENT - INVOLVING  BICYCLE - INJURY",
          "all/2018/5/M/V ACCIDENT - INVOLVING  BICYCLE - INJURY",
          "all/2018/6/M/V ACCIDENT - INVOLVING  BICYCLE - INJURY",
          "all/2018/7/M/V ACCIDENT - INVOLVING  BICYCLE - INJURY",
          "all/2018/8/M/V ACCIDENT - INVOLVING  BICYCLE - INJURY",
          "all/2018/9/M/V ACCIDENT - INVOLVING  BICYCLE - INJURY",
          "all/2018/1/M/V ACCIDENT - OTHER",
          "all/2018/2/M/V ACCIDENT - OTHER",
          "all/2018/3/M/V ACCIDENT - OTHER",
          "all/2018/4/M/V ACCIDENT - OTHER",
          "all/2018/5/M/V ACCIDENT - OTHER",
          "all/2018/6/M/V ACCIDENT - OTHER",
          "all/2018/7/M/V ACCIDENT - OTHER",
          "all/2018/8/M/V ACCIDENT - OTHER",
          "all/2018/9/M/V ACCIDENT - OTHER",
          "all/2018/1/M/V ACCIDENT - OTHER CITY VEHICLE",
          "all/2018/2/M/V ACCIDENT - OTHER CITY VEHICLE",
          "all/2018/3/M/V ACCIDENT - OTHER CITY VEHICLE",
          "all/2018/4/M/V ACCIDENT - OTHER CITY VEHICLE",
          "all/2018/5/M/V ACCIDENT - OTHER CITY VEHICLE",
          "all/2018/6/M/V ACCIDENT - OTHER CITY VEHICLE",
          "all/2018/7/M/V ACCIDENT - OTHER CITY VEHICLE",
          "all/2018/8/M/V ACCIDENT - OTHER CITY VEHICLE",
          "all/2018/9/M/V ACCIDENT - OTHER CITY VEHICLE",
          "all/2018/1/M/V ACCIDENT - PERSONAL INJURY",
          "all/2018/2/M/V ACCIDENT - PERSONAL INJURY",
          "all/2018/3/M/V ACCIDENT - PERSONAL INJURY",
          "all/2018/4/M/V ACCIDENT - PERSONAL INJURY",
          "all/2018/5/M/V ACCIDENT - PERSONAL INJURY",
          "all/2018/6/M/V ACCIDENT - PERSONAL INJURY",
          "all/2018/7/M/V ACCIDENT - PERSONAL INJURY",
          "all/2018/8/M/V ACCIDENT - PERSONAL INJURY",
          "all/2018/9/M/V ACCIDENT - PERSONAL INJURY",
          "all/2018/1/M/V ACCIDENT - POLICE VEHICLE",
          "all/2018/2/M/V ACCIDENT - POLICE VEHICLE",
          "all/2018/3/M/V ACCIDENT - POLICE VEHICLE",
          "all/2018/4/M/V ACCIDENT - POLICE VEHICLE",
          "all/2018/5/M/V ACCIDENT - POLICE VEHICLE",
          "all/2018/6/M/V ACCIDENT - POLICE VEHICLE",
          "all/2018/7/M/V ACCIDENT - POLICE VEHICLE",
          "all/2018/8/M/V ACCIDENT - POLICE VEHICLE",
          "all/2018/1/M/V ACCIDENT - PROPERTY  DAMAGE",
          "all/2018/2/M/V ACCIDENT - PROPERTY  DAMAGE",
          "all/2018/3/M/V ACCIDENT - PROPERTY  DAMAGE",
          "all/2018/4/M/V ACCIDENT - PROPERTY  DAMAGE",
          "all/2018/5/M/V ACCIDENT - PROPERTY  DAMAGE",
          "all/2018/6/M/V ACCIDENT - PROPERTY  DAMAGE",
          "all/2018/7/M/V ACCIDENT - PROPERTY  DAMAGE",
          "all/2018/8/M/V ACCIDENT - PROPERTY  DAMAGE",
          "all/2018/9/M/V ACCIDENT - PROPERTY  DAMAGE",
          "all/2018/1/M/V ACCIDENT INVOLVING PEDESTRIAN - INJURY",
          "all/2018/2/M/V ACCIDENT INVOLVING PEDESTRIAN - INJURY",
          "all/2018/3/M/V ACCIDENT INVOLVING PEDESTRIAN - INJURY",
          "all/2018/4/M/V ACCIDENT INVOLVING PEDESTRIAN - INJURY",
          "all/2018/5/M/V ACCIDENT INVOLVING PEDESTRIAN - INJURY",
          "all/2018/6/M/V ACCIDENT INVOLVING PEDESTRIAN - INJURY",
          "all/2018/7/M/V ACCIDENT INVOLVING PEDESTRIAN - INJURY",
          "all/2018/8/M/V ACCIDENT INVOLVING PEDESTRIAN - INJURY",
          "all/2018/9/M/V ACCIDENT INVOLVING PEDESTRIAN - INJURY",
          "all/2018/1/M/V PLATES - LOST",
          "all/2018/2/M/V PLATES - LOST",
          "all/2018/3/M/V PLATES - LOST",
          "all/2018/4/M/V PLATES - LOST",
          "all/2018/5/M/V PLATES - LOST",
          "all/2018/6/M/V PLATES - LOST",
          "all/2018/7/M/V PLATES - LOST",
          "all/2018/8/M/V PLATES - LOST",
          "all/2018/9/M/V PLATES - LOST",
          "all/2017/6/MANSLAUGHTER - NON-VEHICLE - NEGLIGENCE",
          "all/2017/2/MANSLAUGHTER - VEHICLE - NEGLIGENCE",
          "all/2017/12/MANSLAUGHTER - VEHICLE - NEGLIGENCE",
          "all/2018/1/MISSING PERSON",
          "all/2018/2/MISSING PERSON",
          "all/2018/3/MISSING PERSON",
          "all/2018/4/MISSING PERSON",
          "all/2018/5/MISSING PERSON",
          "all/2018/6/MISSING PERSON",
          "all/2018/7/MISSING PERSON",
          "all/2018/8/MISSING PERSON",
          "all/2018/9/MISSING PERSON",
          "all/2018/1/MISSING PERSON - LOCATED",
          "all/2018/2/MISSING PERSON - LOCATED",
          "all/2018/3/MISSING PERSON - LOCATED",
          "all/2018/4/MISSING PERSON - LOCATED",
          "all/2018/5/MISSING PERSON - LOCATED",
          "all/2018/6/MISSING PERSON - LOCATED",
          "all/2018/7/MISSING PERSON - LOCATED",
          "all/2018/8/MISSING PERSON - LOCATED",
          "all/2018/9/MISSING PERSON - LOCATED",
          "all/2018/1/MISSING PERSON - NOT REPORTED - LOCATED",
          "all/2018/2/MISSING PERSON - NOT REPORTED - LOCATED",
          "all/2018/3/MISSING PERSON - NOT REPORTED - LOCATED",
          "all/2018/4/MISSING PERSON - NOT REPORTED - LOCATED",
          "all/2018/5/MISSING PERSON - NOT REPORTED - LOCATED",
          "all/2018/6/MISSING PERSON - NOT REPORTED - LOCATED",
          "all/2018/7/MISSING PERSON - NOT REPORTED - LOCATED",
          "all/2018/8/MISSING PERSON - NOT REPORTED - LOCATED",
          "all/2018/1/MURDER, NON-NEGLIGIENT MANSLAUGHTER",
          "all/2018/2/MURDER, NON-NEGLIGIENT MANSLAUGHTER",
          "all/2018/3/MURDER, NON-NEGLIGIENT MANSLAUGHTER",
          "all/2018/4/MURDER, NON-NEGLIGIENT MANSLAUGHTER",
          "all/2018/5/MURDER, NON-NEGLIGIENT MANSLAUGHTER",
          "all/2018/6/MURDER, NON-NEGLIGIENT MANSLAUGHTER",
          "all/2018/7/MURDER, NON-NEGLIGIENT MANSLAUGHTER",
          "all/2018/8/MURDER, NON-NEGLIGIENT MANSLAUGHTER",
          "all/2018/2/NOISY PARTY/RADIO-ARREST",
          "all/2018/6/NOISY PARTY/RADIO-ARREST",
          "all/2018/7/NOISY PARTY/RADIO-ARREST",
          "all/2018/1/NOISY PARTY/RADIO-NO ARREST",
          "all/2018/2/NOISY PARTY/RADIO-NO ARREST",
          "all/2018/3/NOISY PARTY/RADIO-NO ARREST",
          "all/2018/4/NOISY PARTY/RADIO-NO ARREST",
          "all/2018/5/NOISY PARTY/RADIO-NO ARREST",
          "all/2018/6/NOISY PARTY/RADIO-NO ARREST",
          "all/2018/7/NOISY PARTY/RADIO-NO ARREST",
          "all/2018/8/NOISY PARTY/RADIO-NO ARREST",
          "all/2018/1/OBSCENE MATERIALS - PORNOGRAPHY",
          "all/2018/2/OBSCENE MATERIALS - PORNOGRAPHY",
          "all/2018/3/OBSCENE MATERIALS - PORNOGRAPHY",
          "all/2018/4/OBSCENE MATERIALS - PORNOGRAPHY",
          "all/2018/5/OBSCENE MATERIALS - PORNOGRAPHY",
          "all/2018/6/OBSCENE MATERIALS - PORNOGRAPHY",
          "all/2018/7/OBSCENE MATERIALS - PORNOGRAPHY",
          "all/2018/8/OBSCENE MATERIALS - PORNOGRAPHY",
          "all/2018/1/OBSCENE PHONE CALLS",
          "all/2018/2/OBSCENE PHONE CALLS",
          "all/2018/4/OBSCENE PHONE CALLS",
          "all/2018/5/OBSCENE PHONE CALLS",
          "all/2018/6/OBSCENE PHONE CALLS",
          "all/2018/7/OBSCENE PHONE CALLS",
          "all/2018/1/OPERATING UNDER THE INFLUENCE ALCOHOL",
          "all/2018/2/OPERATING UNDER THE INFLUENCE ALCOHOL",
          "all/2018/3/OPERATING UNDER THE INFLUENCE ALCOHOL",
          "all/2018/4/OPERATING UNDER THE INFLUENCE ALCOHOL",
          "all/2018/5/OPERATING UNDER THE INFLUENCE ALCOHOL",
          "all/2018/6/OPERATING UNDER THE INFLUENCE ALCOHOL",
          "all/2018/7/OPERATING UNDER THE INFLUENCE ALCOHOL",
          "all/2018/8/OPERATING UNDER THE INFLUENCE ALCOHOL",
          "all/2018/9/OPERATING UNDER THE INFLUENCE ALCOHOL",
          "all/2018/1/OPERATING UNDER THE INFLUENCE DRUGS",
          "all/2018/2/OPERATING UNDER THE INFLUENCE DRUGS",
          "all/2018/4/OPERATING UNDER THE INFLUENCE DRUGS",
          "all/2018/5/OPERATING UNDER THE INFLUENCE DRUGS",
          "all/2018/6/OPERATING UNDER THE INFLUENCE DRUGS",
          "all/2018/7/OPERATING UNDER THE INFLUENCE DRUGS",
          "all/2018/8/OPERATING UNDER THE INFLUENCE DRUGS",
          "all/2018/1/OTHER OFFENSE",
          "all/2018/2/OTHER OFFENSE",
          "all/2018/3/OTHER OFFENSE",
          "all/2018/4/OTHER OFFENSE",
          "all/2018/5/OTHER OFFENSE",
          "all/2018/6/OTHER OFFENSE",
          "all/2018/7/OTHER OFFENSE",
          "all/2018/8/OTHER OFFENSE",
          "all/2018/9/OTHER OFFENSE",
          "all/2018/1/POSSESSION OF BURGLARIOUS TOOLS",
          "all/2018/2/POSSESSION OF BURGLARIOUS TOOLS",
          "all/2018/3/POSSESSION OF BURGLARIOUS TOOLS",
          "all/2018/4/POSSESSION OF BURGLARIOUS TOOLS",
          "all/2018/5/POSSESSION OF BURGLARIOUS TOOLS",
          "all/2018/6/POSSESSION OF BURGLARIOUS TOOLS",
          "all/2018/7/POSSESSION OF BURGLARIOUS TOOLS",
          "all/2018/8/POSSESSION OF BURGLARIOUS TOOLS",
          "all/2018/1/PRISONER - SUICIDE / SUICIDE ATTEMPT",
          "all/2018/2/PRISONER - SUICIDE / SUICIDE ATTEMPT",
          "all/2018/4/PRISONER - SUICIDE / SUICIDE ATTEMPT",
          "all/2018/5/PRISONER - SUICIDE / SUICIDE ATTEMPT",
          "all/2017/11/PRISONER ATTEMPT TO RESCUE",
          "all/2018/4/PRISONER ESCAPE / ESCAPE & RECAPTURE",
          "all/2018/7/PRISONER ESCAPE / ESCAPE & RECAPTURE",
          "all/2018/1/PROPERTY - ACCIDENTAL DAMAGE",
          "all/2018/2/PROPERTY - ACCIDENTAL DAMAGE",
          "all/2018/3/PROPERTY - ACCIDENTAL DAMAGE",
          "all/2018/4/PROPERTY - ACCIDENTAL DAMAGE",
          "all/2018/5/PROPERTY - ACCIDENTAL DAMAGE",
          "all/2018/6/PROPERTY - ACCIDENTAL DAMAGE",
          "all/2018/7/PROPERTY - ACCIDENTAL DAMAGE",
          "all/2018/8/PROPERTY - ACCIDENTAL DAMAGE",
          "all/2018/9/PROPERTY - ACCIDENTAL DAMAGE",
          "all/2018/4/PROPERTY - CONCEALING LEASED",
          "all/2018/5/PROPERTY - CONCEALING LEASED",
          "all/2018/1/PROPERTY - FOUND",
          "all/2018/2/PROPERTY - FOUND",
          "all/2018/3/PROPERTY - FOUND",
          "all/2018/4/PROPERTY - FOUND",
          "all/2018/5/PROPERTY - FOUND",
          "all/2018/6/PROPERTY - FOUND",
          "all/2018/7/PROPERTY - FOUND",
          "all/2018/8/PROPERTY - FOUND",
          "all/2018/9/PROPERTY - FOUND",
          "all/2018/1/PROPERTY - LOST",
          "all/2018/2/PROPERTY - LOST",
          "all/2018/3/PROPERTY - LOST",
          "all/2018/4/PROPERTY - LOST",
          "all/2018/5/PROPERTY - LOST",
          "all/2018/6/PROPERTY - LOST",
          "all/2018/7/PROPERTY - LOST",
          "all/2018/8/PROPERTY - LOST",
          "all/2018/9/PROPERTY - LOST",
          "all/2018/1/PROPERTY - LOST THEN LOCATED",
          "all/2018/2/PROPERTY - LOST THEN LOCATED",
          "all/2018/3/PROPERTY - LOST THEN LOCATED",
          "all/2018/4/PROPERTY - LOST THEN LOCATED",
          "all/2018/5/PROPERTY - LOST THEN LOCATED",
          "all/2018/6/PROPERTY - LOST THEN LOCATED",
          "all/2018/7/PROPERTY - LOST THEN LOCATED",
          "all/2018/8/PROPERTY - LOST THEN LOCATED",
          "all/2018/1/PROPERTY - MISSING",
          "all/2018/2/PROPERTY - MISSING",
          "all/2018/3/PROPERTY - MISSING",
          "all/2018/4/PROPERTY - MISSING",
          "all/2018/5/PROPERTY - MISSING",
          "all/2018/6/PROPERTY - MISSING",
          "all/2018/7/PROPERTY - MISSING",
          "all/2018/8/PROPERTY - MISSING",
          "all/2016/11/PROPERTY - RECEIVING STOLEN",
          "all/2016/12/PROPERTY - RECEIVING STOLEN",
          "all/2018/1/PROPERTY - STOLEN THEN RECOVERED",
          "all/2018/2/PROPERTY - STOLEN THEN RECOVERED",
          "all/2018/3/PROPERTY - STOLEN THEN RECOVERED",
          "all/2018/4/PROPERTY - STOLEN THEN RECOVERED",
          "all/2018/5/PROPERTY - STOLEN THEN RECOVERED",
          "all/2018/6/PROPERTY - STOLEN THEN RECOVERED",
          "all/2018/7/PROPERTY - STOLEN THEN RECOVERED",
          "all/2018/8/PROPERTY - STOLEN THEN RECOVERED",
          "all/2017/1/PROSTITUTION",
          "all/2017/3/PROSTITUTION",
          "all/2017/4/PROSTITUTION",
          "all/2017/5/PROSTITUTION",
          "all/2017/6/PROSTITUTION",
          "all/2017/7/PROSTITUTION",
          "all/2017/8/PROSTITUTION",
          "all/2017/9/PROSTITUTION",
          "all/2017/11/PROSTITUTION",
          "all/2017/12/PROSTITUTION",
          "all/2017/3/PROSTITUTION - ASSISTING OR PROMOTING",
          "all/2018/8/PROSTITUTION - COMMON NIGHTWALKER",
          "all/2018/1/PROSTITUTION - SOLICITING",
          "all/2018/2/PROSTITUTION - SOLICITING",
          "all/2018/6/PROSTITUTION - SOLICITING",
          "all/2018/7/PROSTITUTION - SOLICITING",
          "all/2018/2/PROTECTIVE CUSTODY / SAFEKEEPING",
          "all/2018/3/PROTECTIVE CUSTODY / SAFEKEEPING",
          "all/2018/5/PROTECTIVE CUSTODY / SAFEKEEPING",
          "all/2018/1/RECOVERED - MV RECOVERED IN BOSTON (STOLEN OUTSIDE BOSTON)",
          "all/2018/2/RECOVERED - MV RECOVERED IN BOSTON (STOLEN OUTSIDE BOSTON)",
          "all/2018/3/RECOVERED - MV RECOVERED IN BOSTON (STOLEN OUTSIDE BOSTON)",
          "all/2018/4/RECOVERED - MV RECOVERED IN BOSTON (STOLEN OUTSIDE BOSTON)",
          "all/2018/5/RECOVERED - MV RECOVERED IN BOSTON (STOLEN OUTSIDE BOSTON)",
          "all/2018/6/RECOVERED - MV RECOVERED IN BOSTON (STOLEN OUTSIDE BOSTON)",
          "all/2018/7/RECOVERED - MV RECOVERED IN BOSTON (STOLEN OUTSIDE BOSTON)",
          "all/2018/8/RECOVERED - MV RECOVERED IN BOSTON (STOLEN OUTSIDE BOSTON)",
          "all/2018/9/RECOVERED - MV RECOVERED IN BOSTON (STOLEN OUTSIDE BOSTON)",
          "all/2018/1/RECOVERED STOLEN PLATE",
          "all/2018/3/RECOVERED STOLEN PLATE",
          "all/2018/4/RECOVERED STOLEN PLATE",
          "all/2018/5/RECOVERED STOLEN PLATE",
          "all/2018/6/RECOVERED STOLEN PLATE",
          "all/2018/7/RECOVERED STOLEN PLATE",
          "all/2018/9/RECOVERED STOLEN PLATE",
          "all/2018/1/REPORT AFFECTING OTHER DEPTS.",
          "all/2018/2/REPORT AFFECTING OTHER DEPTS.",
          "all/2018/3/REPORT AFFECTING OTHER DEPTS.",
          "all/2018/4/REPORT AFFECTING OTHER DEPTS.",
          "all/2018/5/REPORT AFFECTING OTHER DEPTS.",
          "all/2018/6/REPORT AFFECTING OTHER DEPTS.",
          "all/2018/7/REPORT AFFECTING OTHER DEPTS.",
          "all/2018/8/REPORT AFFECTING OTHER DEPTS.",
          "all/2018/1/ROBBERY - BANK",
          "all/2018/2/ROBBERY - BANK",
          "all/2018/3/ROBBERY - BANK",
          "all/2018/4/ROBBERY - BANK",
          "all/2018/5/ROBBERY - BANK",
          "all/2018/6/ROBBERY - BANK",
          "all/2018/7/ROBBERY - BANK",
          "all/2018/1/ROBBERY - CAR JACKING",
          "all/2018/2/ROBBERY - CAR JACKING",
          "all/2018/3/ROBBERY - CAR JACKING",
          "all/2018/4/ROBBERY - CAR JACKING",
          "all/2018/5/ROBBERY - CAR JACKING",
          "all/2018/6/ROBBERY - CAR JACKING",
          "all/2018/7/ROBBERY - CAR JACKING",
          "all/2018/8/ROBBERY - CAR JACKING",
          "all/2018/9/ROBBERY - CAR JACKING",
          "all/2018/1/ROBBERY - COMMERCIAL",
          "all/2018/2/ROBBERY - COMMERCIAL",
          "all/2018/3/ROBBERY - COMMERCIAL",
          "all/2018/4/ROBBERY - COMMERCIAL",
          "all/2018/5/ROBBERY - COMMERCIAL",
          "all/2018/6/ROBBERY - COMMERCIAL",
          "all/2018/7/ROBBERY - COMMERCIAL",
          "all/2018/8/ROBBERY - COMMERCIAL",
          "all/2018/9/ROBBERY - COMMERCIAL",
          "all/2018/1/ROBBERY - HOME INVASION",
          "all/2018/2/ROBBERY - HOME INVASION",
          "all/2018/4/ROBBERY - HOME INVASION",
          "all/2018/5/ROBBERY - HOME INVASION",
          "all/2018/6/ROBBERY - HOME INVASION",
          "all/2018/7/ROBBERY - HOME INVASION",
          "all/2018/8/ROBBERY - HOME INVASION",
          "all/2015/8/ROBBERY - KNIFE - STREET",
          "all/2018/1/ROBBERY - OTHER",
          "all/2018/2/ROBBERY - OTHER",
          "all/2018/3/ROBBERY - OTHER",
          "all/2018/4/ROBBERY - OTHER",
          "all/2018/5/ROBBERY - OTHER",
          "all/2018/6/ROBBERY - OTHER",
          "all/2018/7/ROBBERY - OTHER",
          "all/2018/8/ROBBERY - OTHER",
          "all/2018/9/ROBBERY - OTHER",
          "all/2018/1/ROBBERY - STREET",
          "all/2018/2/ROBBERY - STREET",
          "all/2018/3/ROBBERY - STREET",
          "all/2018/4/ROBBERY - STREET",
          "all/2018/5/ROBBERY - STREET",
          "all/2018/6/ROBBERY - STREET",
          "all/2018/7/ROBBERY - STREET",
          "all/2018/8/ROBBERY - STREET",
          "all/2018/9/ROBBERY - STREET",
          "all/2015/7/ROBBERY - UNARMED - BUSINESS",
          "all/2018/7/ROBBERY - UNARMED - CHAIN STORE",
          "all/2016/2/ROBBERY - UNARMED - RESIDENCE",
          "all/2017/2/ROBBERY - UNARMED - STREET",
          "all/2015/8/ROBBERY ATTEMPT - KNIFE - BANK",
          "all/2018/1/SEARCH WARRANT",
          "all/2018/2/SEARCH WARRANT",
          "all/2018/3/SEARCH WARRANT",
          "all/2018/4/SEARCH WARRANT",
          "all/2018/5/SEARCH WARRANT",
          "all/2018/6/SEARCH WARRANT",
          "all/2018/7/SEARCH WARRANT",
          "all/2018/8/SEARCH WARRANT",
          "all/2018/1/SERVICE TO OTHER PD INSIDE OF MA.",
          "all/2018/2/SERVICE TO OTHER PD INSIDE OF MA.",
          "all/2018/3/SERVICE TO OTHER PD INSIDE OF MA.",
          "all/2018/4/SERVICE TO OTHER PD INSIDE OF MA.",
          "all/2018/5/SERVICE TO OTHER PD INSIDE OF MA.",
          "all/2018/6/SERVICE TO OTHER PD INSIDE OF MA.",
          "all/2018/7/SERVICE TO OTHER PD INSIDE OF MA.",
          "all/2018/8/SERVICE TO OTHER PD INSIDE OF MA.",
          "all/2018/9/SERVICE TO OTHER PD INSIDE OF MA.",
          "all/2018/1/SERVICE TO OTHER PD OUTSIDE OF MA.",
          "all/2018/2/SERVICE TO OTHER PD OUTSIDE OF MA.",
          "all/2018/3/SERVICE TO OTHER PD OUTSIDE OF MA.",
          "all/2018/4/SERVICE TO OTHER PD OUTSIDE OF MA.",
          "all/2018/5/SERVICE TO OTHER PD OUTSIDE OF MA.",
          "all/2018/6/SERVICE TO OTHER PD OUTSIDE OF MA.",
          "all/2018/7/SERVICE TO OTHER PD OUTSIDE OF MA.",
          "all/2018/8/SERVICE TO OTHER PD OUTSIDE OF MA.",
          "all/2018/1/SICK/INJURED/MEDICAL - PERSON",
          "all/2018/2/SICK/INJURED/MEDICAL - PERSON",
          "all/2018/3/SICK/INJURED/MEDICAL - PERSON",
          "all/2018/4/SICK/INJURED/MEDICAL - PERSON",
          "all/2018/5/SICK/INJURED/MEDICAL - PERSON",
          "all/2018/6/SICK/INJURED/MEDICAL - PERSON",
          "all/2018/7/SICK/INJURED/MEDICAL - PERSON",
          "all/2018/8/SICK/INJURED/MEDICAL - PERSON",
          "all/2018/9/SICK/INJURED/MEDICAL - PERSON",
          "all/2018/1/SICK/INJURED/MEDICAL - POLICE",
          "all/2018/2/SICK/INJURED/MEDICAL - POLICE",
          "all/2018/3/SICK/INJURED/MEDICAL - POLICE",
          "all/2018/4/SICK/INJURED/MEDICAL - POLICE",
          "all/2018/5/SICK/INJURED/MEDICAL - POLICE",
          "all/2018/6/SICK/INJURED/MEDICAL - POLICE",
          "all/2018/7/SICK/INJURED/MEDICAL - POLICE",
          "all/2018/8/SICK/INJURED/MEDICAL - POLICE",
          "all/2018/9/SICK/INJURED/MEDICAL - POLICE",
          "all/2018/1/STALKING",
          "all/2018/3/STALKING",
          "all/2018/4/STALKING",
          "all/2018/6/STALKING",
          "all/2018/7/STALKING",
          "all/2018/8/STALKING",
          "all/2018/1/STOLEN PROPERTY - BUYING / RECEIVING / POSSESSING",
          "all/2018/2/STOLEN PROPERTY - BUYING / RECEIVING / POSSESSING",
          "all/2018/3/STOLEN PROPERTY - BUYING / RECEIVING / POSSESSING",
          "all/2018/4/STOLEN PROPERTY - BUYING / RECEIVING / POSSESSING",
          "all/2018/5/STOLEN PROPERTY - BUYING / RECEIVING / POSSESSING",
          "all/2018/6/STOLEN PROPERTY - BUYING / RECEIVING / POSSESSING",
          "all/2018/7/STOLEN PROPERTY - BUYING / RECEIVING / POSSESSING",
          "all/2018/8/STOLEN PROPERTY - BUYING / RECEIVING / POSSESSING",
          "all/2018/1/SUDDEN DEATH",
          "all/2018/2/SUDDEN DEATH",
          "all/2018/3/SUDDEN DEATH",
          "all/2018/4/SUDDEN DEATH",
          "all/2018/5/SUDDEN DEATH",
          "all/2018/6/SUDDEN DEATH",
          "all/2018/7/SUDDEN DEATH",
          "all/2018/8/SUDDEN DEATH",
          "all/2018/9/SUDDEN DEATH",
          "all/2018/1/SUICIDE / SUICIDE ATTEMPT",
          "all/2018/2/SUICIDE / SUICIDE ATTEMPT",
          "all/2018/3/SUICIDE / SUICIDE ATTEMPT",
          "all/2018/4/SUICIDE / SUICIDE ATTEMPT",
          "all/2018/5/SUICIDE / SUICIDE ATTEMPT",
          "all/2018/6/SUICIDE / SUICIDE ATTEMPT",
          "all/2018/7/SUICIDE / SUICIDE ATTEMPT",
          "all/2018/8/SUICIDE / SUICIDE ATTEMPT",
          "all/2018/1/THREATS TO DO BODILY HARM",
          "all/2018/2/THREATS TO DO BODILY HARM",
          "all/2018/3/THREATS TO DO BODILY HARM",
          "all/2018/4/THREATS TO DO BODILY HARM",
          "all/2018/5/THREATS TO DO BODILY HARM",
          "all/2018/6/THREATS TO DO BODILY HARM",
          "all/2018/7/THREATS TO DO BODILY HARM",
          "all/2018/8/THREATS TO DO BODILY HARM",
          "all/2018/9/THREATS TO DO BODILY HARM",
          "all/2018/1/TOWED MOTOR VEHICLE",
          "all/2018/2/TOWED MOTOR VEHICLE",
          "all/2018/3/TOWED MOTOR VEHICLE",
          "all/2018/4/TOWED MOTOR VEHICLE",
          "all/2018/5/TOWED MOTOR VEHICLE",
          "all/2018/6/TOWED MOTOR VEHICLE",
          "all/2018/7/TOWED MOTOR VEHICLE",
          "all/2018/8/TOWED MOTOR VEHICLE",
          "all/2018/9/TOWED MOTOR VEHICLE",
          "all/2018/1/TRESPASSING",
          "all/2018/2/TRESPASSING",
          "all/2018/3/TRESPASSING",
          "all/2018/4/TRESPASSING",
          "all/2018/5/TRESPASSING",
          "all/2018/6/TRESPASSING",
          "all/2018/7/TRESPASSING",
          "all/2018/8/TRESPASSING",
          "all/2018/9/TRESPASSING",
          "all/2018/3/TRUANCY / RUNAWAY",
          "all/2018/4/TRUANCY / RUNAWAY",
          "all/2018/5/TRUANCY / RUNAWAY",
          "all/2018/1/VAL - OPERATING AFTER REV/SUSP.",
          "all/2018/2/VAL - OPERATING AFTER REV/SUSP.",
          "all/2018/3/VAL - OPERATING AFTER REV/SUSP.",
          "all/2018/4/VAL - OPERATING AFTER REV/SUSP.",
          "all/2018/5/VAL - OPERATING AFTER REV/SUSP.",
          "all/2018/6/VAL - OPERATING AFTER REV/SUSP.",
          "all/2016/7/VAL - OPERATING AFTER REV/SUSP.",
          "all/2018/7/VAL - OPERATING AFTER REV/SUSP.",
          "all/2018/8/VAL - OPERATING AFTER REV/SUSP.",
          "all/2018/9/VAL - OPERATING AFTER REV/SUSP.",
          "all/2018/1/VAL - OPERATING UNREG/UNINS  CAR",
          "all/2018/2/VAL - OPERATING UNREG/UNINS  CAR",
          "all/2018/3/VAL - OPERATING UNREG/UNINS  CAR",
          "all/2018/4/VAL - OPERATING UNREG/UNINS  CAR",
          "all/2018/5/VAL - OPERATING UNREG/UNINS  CAR",
          "all/2018/6/VAL - OPERATING UNREG/UNINS  CAR",
          "all/2018/7/VAL - OPERATING UNREG/UNINS  CAR",
          "all/2018/8/VAL - OPERATING UNREG/UNINS  CAR",
          "all/2018/1/VAL - OPERATING W/O AUTHORIZATION LAWFUL",
          "all/2018/2/VAL - OPERATING W/O AUTHORIZATION LAWFUL",
          "all/2018/3/VAL - OPERATING W/O AUTHORIZATION LAWFUL",
          "all/2018/4/VAL - OPERATING W/O AUTHORIZATION LAWFUL",
          "all/2018/5/VAL - OPERATING W/O AUTHORIZATION LAWFUL",
          "all/2018/6/VAL - OPERATING W/O AUTHORIZATION LAWFUL",
          "all/2018/7/VAL - OPERATING W/O AUTHORIZATION LAWFUL",
          "all/2018/8/VAL - OPERATING W/O AUTHORIZATION LAWFUL",
          "all/2018/1/VAL - OPERATING WITHOUT LICENSE",
          "all/2018/2/VAL - OPERATING WITHOUT LICENSE",
          "all/2018/3/VAL - OPERATING WITHOUT LICENSE",
          "all/2018/4/VAL - OPERATING WITHOUT LICENSE",
          "all/2018/5/VAL - OPERATING WITHOUT LICENSE",
          "all/2018/6/VAL - OPERATING WITHOUT LICENSE",
          "all/2018/7/VAL - OPERATING WITHOUT LICENSE",
          "all/2018/8/VAL - OPERATING WITHOUT LICENSE",
          "all/2018/9/VAL - OPERATING WITHOUT LICENSE",
          "all/2018/1/VAL - VIOLATION OF AUTO LAW - OTHER",
          "all/2018/2/VAL - VIOLATION OF AUTO LAW - OTHER",
          "all/2018/3/VAL - VIOLATION OF AUTO LAW - OTHER",
          "all/2018/4/VAL - VIOLATION OF AUTO LAW - OTHER",
          "all/2018/5/VAL - VIOLATION OF AUTO LAW - OTHER",
          "all/2018/6/VAL - VIOLATION OF AUTO LAW - OTHER",
          "all/2018/7/VAL - VIOLATION OF AUTO LAW - OTHER",
          "all/2018/8/VAL - VIOLATION OF AUTO LAW - OTHER",
          "all/2018/9/VAL - VIOLATION OF AUTO LAW - OTHER",
          "all/2018/1/VANDALISM",
          "all/2018/2/VANDALISM",
          "all/2018/3/VANDALISM",
          "all/2018/4/VANDALISM",
          "all/2018/5/VANDALISM",
          "all/2018/6/VANDALISM",
          "all/2018/7/VANDALISM",
          "all/2018/8/VANDALISM",
          "all/2018/9/VANDALISM",
          "all/2018/1/VERBAL DISPUTE",
          "all/2018/2/VERBAL DISPUTE",
          "all/2018/3/VERBAL DISPUTE",
          "all/2018/4/VERBAL DISPUTE",
          "all/2018/5/VERBAL DISPUTE",
          "all/2018/6/VERBAL DISPUTE",
          "all/2018/7/VERBAL DISPUTE",
          "all/2018/8/VERBAL DISPUTE",
          "all/2018/9/VERBAL DISPUTE",
          "all/2018/1/VIOL. OF RESTRAINING ORDER W ARREST",
          "all/2018/2/VIOL. OF RESTRAINING ORDER W ARREST",
          "all/2018/3/VIOL. OF RESTRAINING ORDER W ARREST",
          "all/2018/4/VIOL. OF RESTRAINING ORDER W ARREST",
          "all/2018/5/VIOL. OF RESTRAINING ORDER W ARREST",
          "all/2018/6/VIOL. OF RESTRAINING ORDER W ARREST",
          "all/2018/7/VIOL. OF RESTRAINING ORDER W ARREST",
          "all/2018/8/VIOL. OF RESTRAINING ORDER W ARREST",
          "all/2018/9/VIOL. OF RESTRAINING ORDER W ARREST",
          "all/2018/1/VIOL. OF RESTRAINING ORDER W NO ARREST",
          "all/2018/2/VIOL. OF RESTRAINING ORDER W NO ARREST",
          "all/2018/3/VIOL. OF RESTRAINING ORDER W NO ARREST",
          "all/2018/4/VIOL. OF RESTRAINING ORDER W NO ARREST",
          "all/2018/5/VIOL. OF RESTRAINING ORDER W NO ARREST",
          "all/2018/6/VIOL. OF RESTRAINING ORDER W NO ARREST",
          "all/2018/7/VIOL. OF RESTRAINING ORDER W NO ARREST",
          "all/2018/8/VIOL. OF RESTRAINING ORDER W NO ARREST",
          "all/2018/9/VIOL. OF RESTRAINING ORDER W NO ARREST",
          "all/2018/1/VIOLATION - CITY ORDINANCE",
          "all/2018/2/VIOLATION - CITY ORDINANCE",
          "all/2018/3/VIOLATION - CITY ORDINANCE",
          "all/2018/4/VIOLATION - CITY ORDINANCE",
          "all/2018/5/VIOLATION - CITY ORDINANCE",
          "all/2018/6/VIOLATION - CITY ORDINANCE",
          "all/2018/7/VIOLATION - CITY ORDINANCE",
          "all/2018/8/VIOLATION - CITY ORDINANCE",
          "all/2018/1/VIOLATION - CITY ORDINANCE CONSTRUCTION PERMIT",
          "all/2018/2/VIOLATION - CITY ORDINANCE CONSTRUCTION PERMIT",
          "all/2018/7/VIOLATION - CITY ORDINANCE CONSTRUCTION PERMIT",
          "all/2018/8/VIOLATION - CITY ORDINANCE CONSTRUCTION PERMIT",
          "all/2018/3/VIOLATION - HAWKER AND PEDDLER",
          "all/2018/4/VIOLATION - HAWKER AND PEDDLER",
          "all/2018/5/VIOLATION - HAWKER AND PEDDLER",
          "all/2018/1/WARRANT ARREST",
          "all/2018/2/WARRANT ARREST",
          "all/2018/3/WARRANT ARREST",
          "all/2018/4/WARRANT ARREST",
          "all/2018/5/WARRANT ARREST",
          "all/2018/6/WARRANT ARREST",
          "all/2018/7/WARRANT ARREST",
          "all/2018/8/WARRANT ARREST",
          "all/2018/9/WARRANT ARREST",
          "all/2018/1/WEAPON - FIREARM - CARRYING / POSSESSING, ETC",
          "all/2018/2/WEAPON - FIREARM - CARRYING / POSSESSING, ETC",
          "all/2018/3/WEAPON - FIREARM - CARRYING / POSSESSING, ETC",
          "all/2018/4/WEAPON - FIREARM - CARRYING / POSSESSING, ETC",
          "all/2018/5/WEAPON - FIREARM - CARRYING / POSSESSING, ETC",
          "all/2018/6/WEAPON - FIREARM - CARRYING / POSSESSING, ETC",
          "all/2018/7/WEAPON - FIREARM - CARRYING / POSSESSING, ETC",
          "all/2018/8/WEAPON - FIREARM - CARRYING / POSSESSING, ETC",
          "all/2018/9/WEAPON - FIREARM - CARRYING / POSSESSING, ETC",
          "all/2018/1/WEAPON - FIREARM - OTHER VIOLATION",
          "all/2018/2/WEAPON - FIREARM - OTHER VIOLATION",
          "all/2018/3/WEAPON - FIREARM - OTHER VIOLATION",
          "all/2018/4/WEAPON - FIREARM - OTHER VIOLATION",
          "all/2018/5/WEAPON - FIREARM - OTHER VIOLATION",
          "all/2018/6/WEAPON - FIREARM - OTHER VIOLATION",
          "all/2018/7/WEAPON - FIREARM - OTHER VIOLATION",
          "all/2018/8/WEAPON - FIREARM - OTHER VIOLATION",
          "all/2018/4/WEAPON - FIREARM - SALE / TRAFFICKING",
          "all/2018/1/WEAPON - OTHER - CARRYING / POSSESSING, ETC",
          "all/2018/2/WEAPON - OTHER - CARRYING / POSSESSING, ETC",
          "all/2018/3/WEAPON - OTHER - CARRYING / POSSESSING, ETC",
          "all/2018/4/WEAPON - OTHER - CARRYING / POSSESSING, ETC",
          "all/2018/5/WEAPON - OTHER - CARRYING / POSSESSING, ETC",
          "all/2018/6/WEAPON - OTHER - CARRYING / POSSESSING, ETC",
          "all/2018/7/WEAPON - OTHER - CARRYING / POSSESSING, ETC",
          "all/2018/8/WEAPON - OTHER - CARRYING / POSSESSING, ETC",
          "all/2018/9/WEAPON - OTHER - CARRYING / POSSESSING, ETC",
          "all/2018/1/WEAPON - OTHER - OTHER VIOLATION",
          "all/2018/2/WEAPON - OTHER - OTHER VIOLATION",
          "all/2018/3/WEAPON - OTHER - OTHER VIOLATION",
          "all/2018/4/WEAPON - OTHER - OTHER VIOLATION",
          "all/2018/5/WEAPON - OTHER - OTHER VIOLATION",
          "all/2018/6/WEAPON - OTHER - OTHER VIOLATION",
          "all/2018/7/WEAPON - OTHER - OTHER VIOLATION",
          "all/2018/8/WEAPON - OTHER - OTHER VIOLATION",
          "all/2018/9/WEAPON - OTHER - OTHER VIOLATION",
          "all/2016/1",
          "all/2017/1",
          "all/2018/1",
          "all/2016/2",
          "all/2017/2",
          "all/2018/2",
          "all/2016/3",
          "all/2017/3",
          "all/2018/3",
          "all/2016/4",
          "all/2017/4",
          "all/2018/4",
          "all/2017/5",
          "all/2018/5",
          "all/2016/6",
          "all/2017/6",
          "all/2018/6",
          "all/2015/7",
          "all/2016/7",
          "all/2017/7",
          "all/2018/7",
          "all/2015/8",
          "all/2016/8",
          "all/2017/8",
          "all/2018/8",
          "all/2017/9",
          "all/2018/9",
          "all/2015/10",
          "all/2016/10",
          "all/2016/11",
          "all/2017/11",
          "all/2015/12",
          "all/2016/12",
          "all/2017/12",
          "all/2015",
          "all/2016",
          "all/2017",
          "all/2018",
          "all"
         ],
         "labels": [
          "A&B HANDS, FEET, ETC.  - MED. ATTENTION REQ.",
          "A&B ON POLICE OFFICER",
          "ABDUCTION - INTICING",
          "ABDUCTION - INTICING",
          "ABDUCTION - INTICING",
          "ABDUCTION - INTICING",
          "AFFRAY",
          "AFFRAY",
          "AFFRAY",
          "AFFRAY",
          "AFFRAY",
          "AFFRAY",
          "AFFRAY",
          "AFFRAY",
          "AFFRAY",
          "AIRCRAFT INCIDENTS",
          "AIRCRAFT INCIDENTS",
          "AIRCRAFT INCIDENTS",
          "AIRCRAFT INCIDENTS",
          "ANIMAL ABUSE",
          "ANIMAL ABUSE",
          "ANIMAL ABUSE",
          "ANIMAL ABUSE",
          "ANIMAL ABUSE",
          "ANIMAL ABUSE",
          "ANIMAL ABUSE",
          "ANIMAL CONTROL - DOG BITES - ETC.",
          "ANIMAL CONTROL - DOG BITES - ETC.",
          "ANIMAL CONTROL - DOG BITES - ETC.",
          "ANIMAL CONTROL - DOG BITES - ETC.",
          "ANIMAL CONTROL - DOG BITES - ETC.",
          "ANIMAL CONTROL - DOG BITES - ETC.",
          "ANIMAL CONTROL - DOG BITES - ETC.",
          "ANIMAL CONTROL - DOG BITES - ETC.",
          "ANIMAL CONTROL - DOG BITES - ETC.",
          "ANIMAL INCIDENTS",
          "ANIMAL INCIDENTS",
          "ANIMAL INCIDENTS",
          "ANIMAL INCIDENTS",
          "ANIMAL INCIDENTS",
          "ANIMAL INCIDENTS",
          "ANIMAL INCIDENTS",
          "ANIMAL INCIDENTS",
          "ANIMAL INCIDENTS",
          "ANNOYING AND ACCOSTING",
          "ANNOYING AND ACCOSTING",
          "ANNOYING AND ACCOSTING",
          "ANNOYING AND ACCOSTING",
          "ANNOYING AND ACCOSTING",
          "ANNOYING AND ACCOSTING",
          "ANNOYING AND ACCOSTING",
          "ARSON",
          "ARSON",
          "ARSON",
          "ARSON",
          "ARSON",
          "ARSON",
          "ARSON",
          "ASSAULT & BATTERY D/W - KNIFE",
          "ASSAULT & BATTERY D/W - OTHER",
          "ASSAULT & BATTERY D/W - OTHER",
          "ASSAULT & BATTERY D/W - OTHER",
          "ASSAULT - AGGRAVATED",
          "ASSAULT - AGGRAVATED",
          "ASSAULT - AGGRAVATED",
          "ASSAULT - AGGRAVATED",
          "ASSAULT - AGGRAVATED",
          "ASSAULT - AGGRAVATED",
          "ASSAULT - AGGRAVATED",
          "ASSAULT - AGGRAVATED",
          "ASSAULT - AGGRAVATED",
          "ASSAULT - AGGRAVATED - BATTERY",
          "ASSAULT - AGGRAVATED - BATTERY",
          "ASSAULT - AGGRAVATED - BATTERY",
          "ASSAULT - AGGRAVATED - BATTERY",
          "ASSAULT - AGGRAVATED - BATTERY",
          "ASSAULT - AGGRAVATED - BATTERY",
          "ASSAULT - AGGRAVATED - BATTERY",
          "ASSAULT - AGGRAVATED - BATTERY",
          "ASSAULT - AGGRAVATED - BATTERY",
          "ASSAULT - SIMPLE",
          "ASSAULT - SIMPLE",
          "ASSAULT - SIMPLE",
          "ASSAULT - SIMPLE",
          "ASSAULT - SIMPLE",
          "ASSAULT - SIMPLE",
          "ASSAULT - SIMPLE",
          "ASSAULT - SIMPLE",
          "ASSAULT - SIMPLE",
          "ASSAULT D/W - KNIFE ON POLICE OFFICER",
          "ASSAULT SIMPLE - BATTERY",
          "ASSAULT SIMPLE - BATTERY",
          "ASSAULT SIMPLE - BATTERY",
          "ASSAULT SIMPLE - BATTERY",
          "ASSAULT SIMPLE - BATTERY",
          "ASSAULT SIMPLE - BATTERY",
          "ASSAULT SIMPLE - BATTERY",
          "ASSAULT SIMPLE - BATTERY",
          "ASSAULT SIMPLE - BATTERY",
          "AUTO THEFT",
          "AUTO THEFT",
          "AUTO THEFT",
          "AUTO THEFT",
          "AUTO THEFT",
          "AUTO THEFT",
          "AUTO THEFT",
          "AUTO THEFT",
          "AUTO THEFT",
          "AUTO THEFT - LEASED/RENTED VEHICLE",
          "AUTO THEFT - LEASED/RENTED VEHICLE",
          "AUTO THEFT - LEASED/RENTED VEHICLE",
          "AUTO THEFT - LEASED/RENTED VEHICLE",
          "AUTO THEFT - LEASED/RENTED VEHICLE",
          "AUTO THEFT - LEASED/RENTED VEHICLE",
          "AUTO THEFT - LEASED/RENTED VEHICLE",
          "AUTO THEFT - LEASED/RENTED VEHICLE",
          "AUTO THEFT - MOTORCYCLE / SCOOTER",
          "AUTO THEFT - MOTORCYCLE / SCOOTER",
          "AUTO THEFT - MOTORCYCLE / SCOOTER",
          "AUTO THEFT - MOTORCYCLE / SCOOTER",
          "AUTO THEFT - MOTORCYCLE / SCOOTER",
          "AUTO THEFT - MOTORCYCLE / SCOOTER",
          "AUTO THEFT - MOTORCYCLE / SCOOTER",
          "AUTO THEFT - MOTORCYCLE / SCOOTER",
          "AUTO THEFT - MOTORCYCLE / SCOOTER",
          "AUTO THEFT - RECOVERED IN BY POLICE",
          "AUTO THEFT - RECOVERED IN BY POLICE",
          "AUTO THEFT OTHER",
          "B&E NON-RESIDENCE DAY - NO PROP TAKEN",
          "B&E NON-RESIDENCE NIGHT - FORCE",
          "B&E RESIDENCE DAY - NO PROP TAKEN",
          "B&E RESIDENCE NIGHT - ATTEMPT FORCE",
          "BALLISTICS EVIDENCE/FOUND",
          "BALLISTICS EVIDENCE/FOUND",
          "BALLISTICS EVIDENCE/FOUND",
          "BALLISTICS EVIDENCE/FOUND",
          "BALLISTICS EVIDENCE/FOUND",
          "BALLISTICS EVIDENCE/FOUND",
          "BALLISTICS EVIDENCE/FOUND",
          "BALLISTICS EVIDENCE/FOUND",
          "BALLISTICS EVIDENCE/FOUND",
          "BIOLOGICAL THREATS",
          "BIOLOGICAL THREATS",
          "BOMB THREAT",
          "BOMB THREAT",
          "BOMB THREAT",
          "BOMB THREAT",
          "BOMB THREAT",
          "BOMB THREAT",
          "BOMB THREAT",
          "BOMB THREAT",
          "BOMB THREAT",
          "BURGLARY - COMMERICAL - ATTEMPT",
          "BURGLARY - COMMERICAL - ATTEMPT",
          "BURGLARY - COMMERICAL - ATTEMPT",
          "BURGLARY - COMMERICAL - ATTEMPT",
          "BURGLARY - COMMERICAL - ATTEMPT",
          "BURGLARY - COMMERICAL - ATTEMPT",
          "BURGLARY - COMMERICAL - FORCE",
          "BURGLARY - COMMERICAL - FORCE",
          "BURGLARY - COMMERICAL - FORCE",
          "BURGLARY - COMMERICAL - FORCE",
          "BURGLARY - COMMERICAL - FORCE",
          "BURGLARY - COMMERICAL - FORCE",
          "BURGLARY - COMMERICAL - FORCE",
          "BURGLARY - COMMERICAL - FORCE",
          "BURGLARY - COMMERICAL - NO FORCE",
          "BURGLARY - COMMERICAL - NO FORCE",
          "BURGLARY - COMMERICAL - NO FORCE",
          "BURGLARY - COMMERICAL - NO FORCE",
          "BURGLARY - COMMERICAL - NO FORCE",
          "BURGLARY - COMMERICAL - NO FORCE",
          "BURGLARY - COMMERICAL - NO FORCE",
          "BURGLARY - COMMERICAL - NO FORCE",
          "BURGLARY - OTHER - ATTEMPT",
          "BURGLARY - OTHER - ATTEMPT",
          "BURGLARY - OTHER - ATTEMPT",
          "BURGLARY - OTHER - ATTEMPT",
          "BURGLARY - OTHER - ATTEMPT",
          "BURGLARY - OTHER - ATTEMPT",
          "BURGLARY - OTHER - ATTEMPT",
          "BURGLARY - OTHER - FORCE",
          "BURGLARY - OTHER - FORCE",
          "BURGLARY - OTHER - FORCE",
          "BURGLARY - OTHER - FORCE",
          "BURGLARY - OTHER - FORCE",
          "BURGLARY - OTHER - FORCE",
          "BURGLARY - OTHER - FORCE",
          "BURGLARY - OTHER - FORCE",
          "BURGLARY - OTHER - NO FORCE",
          "BURGLARY - OTHER - NO FORCE",
          "BURGLARY - OTHER - NO FORCE",
          "BURGLARY - OTHER - NO FORCE",
          "BURGLARY - OTHER - NO FORCE",
          "BURGLARY - OTHER - NO FORCE",
          "BURGLARY - OTHER - NO FORCE",
          "BURGLARY - RESIDENTIAL - ATTEMPT",
          "BURGLARY - RESIDENTIAL - ATTEMPT",
          "BURGLARY - RESIDENTIAL - ATTEMPT",
          "BURGLARY - RESIDENTIAL - ATTEMPT",
          "BURGLARY - RESIDENTIAL - ATTEMPT",
          "BURGLARY - RESIDENTIAL - ATTEMPT",
          "BURGLARY - RESIDENTIAL - ATTEMPT",
          "BURGLARY - RESIDENTIAL - ATTEMPT",
          "BURGLARY - RESIDENTIAL - FORCE",
          "BURGLARY - RESIDENTIAL - FORCE",
          "BURGLARY - RESIDENTIAL - FORCE",
          "BURGLARY - RESIDENTIAL - FORCE",
          "BURGLARY - RESIDENTIAL - FORCE",
          "BURGLARY - RESIDENTIAL - FORCE",
          "BURGLARY - RESIDENTIAL - FORCE",
          "BURGLARY - RESIDENTIAL - FORCE",
          "BURGLARY - RESIDENTIAL - FORCE",
          "BURGLARY - RESIDENTIAL - NO FORCE",
          "BURGLARY - RESIDENTIAL - NO FORCE",
          "BURGLARY - RESIDENTIAL - NO FORCE",
          "BURGLARY - RESIDENTIAL - NO FORCE",
          "BURGLARY - RESIDENTIAL - NO FORCE",
          "BURGLARY - RESIDENTIAL - NO FORCE",
          "BURGLARY - RESIDENTIAL - NO FORCE",
          "BURGLARY - RESIDENTIAL - NO FORCE",
          "BURGLARY - RESIDENTIAL - NO FORCE",
          "CHILD ABANDONMENT (NO ASSAULT)",
          "CHILD ABANDONMENT (NO ASSAULT)",
          "CHILD ABANDONMENT (NO ASSAULT)",
          "CHILD ABANDONMENT (NO ASSAULT)",
          "CHILD ENDANGERMENT",
          "CHILD ENDANGERMENT",
          "CHILD ENDANGERMENT",
          "CHILD ENDANGERMENT",
          "CHILD ENDANGERMENT",
          "CHILD ENDANGERMENT",
          "CHILD ENDANGERMENT",
          "CHILD ENDANGERMENT",
          "CHILD ENDANGERMENT (NO ASSAULT)",
          "CHILD ENDANGERMENT (NO ASSAULT)",
          "CHILD ENDANGERMENT (NO ASSAULT)",
          "CHILD ENDANGERMENT (NO ASSAULT)",
          "CHILD ENDANGERMENT (NO ASSAULT)",
          "CHILD ENDANGERMENT (NO ASSAULT)",
          "CHILD ENDANGERMENT (NO ASSAULT)",
          "CHILD ENDANGERMENT (NO ASSAULT)",
          "CHINS",
          "CHINS",
          "CHINS",
          "CONSPIRACY EXCEPT DRUG LAW",
          "CONSPIRACY EXCEPT DRUG LAW",
          "CONSPIRACY EXCEPT DRUG LAW",
          "CONSPIRACY EXCEPT DRUG LAW",
          "CONTRIBUTING TO DELINQUENCY OF MINOR",
          "CRIMINAL HARASSMENT",
          "CRIMINAL HARASSMENT",
          "CRIMINAL HARASSMENT",
          "CRIMINAL HARASSMENT",
          "CRIMINAL HARASSMENT",
          "CRIMINAL HARASSMENT",
          "CRIMINAL HARASSMENT",
          "CRIMINAL HARASSMENT",
          "CUSTODIAL KIDNAPPING",
          "CUSTODIAL KIDNAPPING",
          "CUSTODIAL KIDNAPPING",
          "CUSTODIAL KIDNAPPING",
          "DANGEROUS OR HAZARDOUS CONDITION",
          "DANGEROUS OR HAZARDOUS CONDITION",
          "DANGEROUS OR HAZARDOUS CONDITION",
          "DANGEROUS OR HAZARDOUS CONDITION",
          "DANGEROUS OR HAZARDOUS CONDITION",
          "DANGEROUS OR HAZARDOUS CONDITION",
          "DANGEROUS OR HAZARDOUS CONDITION",
          "DANGEROUS OR HAZARDOUS CONDITION",
          "DEATH INVESTIGATION",
          "DEATH INVESTIGATION",
          "DEATH INVESTIGATION",
          "DEATH INVESTIGATION",
          "DEATH INVESTIGATION",
          "DEATH INVESTIGATION",
          "DEATH INVESTIGATION",
          "DEATH INVESTIGATION",
          "DEATH INVESTIGATION",
          "DEMONSTRATIONS/RIOT",
          "DEMONSTRATIONS/RIOT",
          "DEMONSTRATIONS/RIOT",
          "DEMONSTRATIONS/RIOT",
          "DEMONSTRATIONS/RIOT",
          "DEMONSTRATIONS/RIOT",
          "DEMONSTRATIONS/RIOT",
          "DEMONSTRATIONS/RIOT",
          "DEMONSTRATIONS/RIOT",
          "DISORDERLY CONDUCT",
          "DISORDERLY CONDUCT",
          "DISORDERLY CONDUCT",
          "DISORDERLY CONDUCT",
          "DISORDERLY CONDUCT",
          "DISORDERLY CONDUCT",
          "DISORDERLY CONDUCT",
          "DISORDERLY CONDUCT",
          "DISORDERLY CONDUCT",
          "DISTURBING THE PEACE",
          "DISTURBING THE PEACE",
          "DISTURBING THE PEACE",
          "DISTURBING THE PEACE",
          "DISTURBING THE PEACE",
          "DISTURBING THE PEACE",
          "DISTURBING THE PEACE",
          "DISTURBING THE PEACE",
          "DISTURBING THE PEACE",
          "DRUGS - CLASS A TRAFFICKING OVER 18 GRAMS",
          "DRUGS - CLASS A TRAFFICKING OVER 18 GRAMS",
          "DRUGS - CLASS A TRAFFICKING OVER 18 GRAMS",
          "DRUGS - CLASS A TRAFFICKING OVER 18 GRAMS",
          "DRUGS - CLASS A TRAFFICKING OVER 18 GRAMS",
          "DRUGS - CLASS A TRAFFICKING OVER 18 GRAMS",
          "DRUGS - CLASS A TRAFFICKING OVER 18 GRAMS",
          "DRUGS - CLASS A TRAFFICKING OVER 18 GRAMS",
          "DRUGS - CLASS B TRAFFICKING OVER 18 GRAMS",
          "DRUGS - CLASS B TRAFFICKING OVER 18 GRAMS",
          "DRUGS - CLASS B TRAFFICKING OVER 18 GRAMS",
          "DRUGS - CLASS B TRAFFICKING OVER 18 GRAMS",
          "DRUGS - CLASS B TRAFFICKING OVER 18 GRAMS",
          "DRUGS - CLASS B TRAFFICKING OVER 18 GRAMS",
          "DRUGS - CLASS B TRAFFICKING OVER 18 GRAMS",
          "DRUGS - CLASS B TRAFFICKING OVER 18 GRAMS",
          "DRUGS - CLASS B TRAFFICKING OVER 18 GRAMS",
          "DRUGS - CLASS D TRAFFICKING OVER 50 GRAMS",
          "DRUGS - CLASS D TRAFFICKING OVER 50 GRAMS",
          "DRUGS - CLASS D TRAFFICKING OVER 50 GRAMS",
          "DRUGS - CONSP TO VIOL CONTROLLED SUBSTANCE",
          "DRUGS - CONSP TO VIOL CONTROLLED SUBSTANCE",
          "DRUGS - CONSP TO VIOL CONTROLLED SUBSTANCE",
          "DRUGS - CONSP TO VIOL CONTROLLED SUBSTANCE",
          "DRUGS - CONSP TO VIOL CONTROLLED SUBSTANCE",
          "DRUGS - GLUE INHALATION",
          "DRUGS - OTHER",
          "DRUGS - OTHER",
          "DRUGS - OTHER",
          "DRUGS - OTHER",
          "DRUGS - OTHER",
          "DRUGS - OTHER",
          "DRUGS - OTHER",
          "DRUGS - OTHER",
          "DRUGS - OTHER",
          "DRUGS - POSS CLASS A - HEROIN, ETC. ",
          "DRUGS - POSS CLASS A - HEROIN, ETC. ",
          "DRUGS - POSS CLASS A - HEROIN, ETC. ",
          "DRUGS - POSS CLASS A - HEROIN, ETC. ",
          "DRUGS - POSS CLASS A - HEROIN, ETC. ",
          "DRUGS - POSS CLASS A - HEROIN, ETC. ",
          "DRUGS - POSS CLASS A - HEROIN, ETC. ",
          "DRUGS - POSS CLASS A - HEROIN, ETC. ",
          "DRUGS - POSS CLASS A - HEROIN, ETC. ",
          "DRUGS - POSS CLASS A - INTENT TO MFR DIST DISP",
          "DRUGS - POSS CLASS A - INTENT TO MFR DIST DISP",
          "DRUGS - POSS CLASS A - INTENT TO MFR DIST DISP",
          "DRUGS - POSS CLASS A - INTENT TO MFR DIST DISP",
          "DRUGS - POSS CLASS A - INTENT TO MFR DIST DISP",
          "DRUGS - POSS CLASS A - INTENT TO MFR DIST DISP",
          "DRUGS - POSS CLASS A - INTENT TO MFR DIST DISP",
          "DRUGS - POSS CLASS A - INTENT TO MFR DIST DISP",
          "DRUGS - POSS CLASS A - INTENT TO MFR DIST DISP",
          "DRUGS - POSS CLASS B - COCAINE, ETC.",
          "DRUGS - POSS CLASS B - COCAINE, ETC.",
          "DRUGS - POSS CLASS B - COCAINE, ETC.",
          "DRUGS - POSS CLASS B - COCAINE, ETC.",
          "DRUGS - POSS CLASS B - COCAINE, ETC.",
          "DRUGS - POSS CLASS B - COCAINE, ETC.",
          "DRUGS - POSS CLASS B - COCAINE, ETC.",
          "DRUGS - POSS CLASS B - COCAINE, ETC.",
          "DRUGS - POSS CLASS B - COCAINE, ETC.",
          "DRUGS - POSS CLASS B - INTENT TO MFR DIST DISP",
          "DRUGS - POSS CLASS B - INTENT TO MFR DIST DISP",
          "DRUGS - POSS CLASS B - INTENT TO MFR DIST DISP",
          "DRUGS - POSS CLASS B - INTENT TO MFR DIST DISP",
          "DRUGS - POSS CLASS B - INTENT TO MFR DIST DISP",
          "DRUGS - POSS CLASS B - INTENT TO MFR DIST DISP",
          "DRUGS - POSS CLASS B - INTENT TO MFR DIST DISP",
          "DRUGS - POSS CLASS B - INTENT TO MFR DIST DISP",
          "DRUGS - POSS CLASS B - INTENT TO MFR DIST DISP",
          "DRUGS - POSS CLASS C",
          "DRUGS - POSS CLASS C",
          "DRUGS - POSS CLASS C",
          "DRUGS - POSS CLASS C",
          "DRUGS - POSS CLASS C",
          "DRUGS - POSS CLASS C",
          "DRUGS - POSS CLASS C",
          "DRUGS - POSS CLASS C",
          "DRUGS - POSS CLASS C",
          "DRUGS - POSS CLASS C - INTENT TO MFR DIST DISP",
          "DRUGS - POSS CLASS C - INTENT TO MFR DIST DISP",
          "DRUGS - POSS CLASS C - INTENT TO MFR DIST DISP",
          "DRUGS - POSS CLASS C - INTENT TO MFR DIST DISP",
          "DRUGS - POSS CLASS C - INTENT TO MFR DIST DISP",
          "DRUGS - POSS CLASS C - INTENT TO MFR DIST DISP",
          "DRUGS - POSS CLASS C - INTENT TO MFR DIST DISP",
          "DRUGS - POSS CLASS C - INTENT TO MFR DIST DISP",
          "DRUGS - POSS CLASS D",
          "DRUGS - POSS CLASS D",
          "DRUGS - POSS CLASS D",
          "DRUGS - POSS CLASS D",
          "DRUGS - POSS CLASS D",
          "DRUGS - POSS CLASS D",
          "DRUGS - POSS CLASS D",
          "DRUGS - POSS CLASS D",
          "DRUGS - POSS CLASS D - INTENT MFR DIST DISP",
          "DRUGS - POSS CLASS D - INTENT TO MFR DIST DISP",
          "DRUGS - POSS CLASS D - INTENT TO MFR DIST DISP",
          "DRUGS - POSS CLASS D - INTENT TO MFR DIST DISP",
          "DRUGS - POSS CLASS D - INTENT TO MFR DIST DISP",
          "DRUGS - POSS CLASS D - INTENT TO MFR DIST DISP",
          "DRUGS - POSS CLASS D - INTENT TO MFR DIST DISP",
          "DRUGS - POSS CLASS D - INTENT TO MFR DIST DISP",
          "DRUGS - POSS CLASS D - INTENT TO MFR DIST DISP",
          "DRUGS - POSS CLASS D - INTENT TO MFR DIST DISP",
          "DRUGS - POSS CLASS D - MARIJUANA, ETC.",
          "DRUGS - POSS CLASS E",
          "DRUGS - POSS CLASS E",
          "DRUGS - POSS CLASS E",
          "DRUGS - POSS CLASS E",
          "DRUGS - POSS CLASS E",
          "DRUGS - POSS CLASS E",
          "DRUGS - POSS CLASS E",
          "DRUGS - POSS CLASS E",
          "DRUGS - POSS CLASS E",
          "DRUGS - POSS CLASS E - INTENT TO MFR DIST DISP",
          "DRUGS - POSS CLASS E - INTENT TO MFR DIST DISP",
          "DRUGS - POSS CLASS E - INTENT TO MFR DIST DISP",
          "DRUGS - POSS CLASS E - INTENT TO MFR DIST DISP",
          "DRUGS - POSS CLASS E - INTENT TO MFR DIST DISP",
          "DRUGS - POSS CLASS E - INTENT TO MFR DIST DISP",
          "DRUGS - POSS CLASS E - INTENT TO MFR DIST DISP",
          "DRUGS - POSS CLASS E - INTENT TO MFR DIST DISP",
          "DRUGS - POSS CLASS E INTENT TO MF DIST DISP",
          "DRUGS - POSSESSION",
          "DRUGS - POSSESSION",
          "DRUGS - POSSESSION",
          "DRUGS - POSSESSION",
          "DRUGS - POSSESSION",
          "DRUGS - POSSESSION",
          "DRUGS - POSSESSION",
          "DRUGS - POSSESSION OF DRUG PARAPHANALIA",
          "DRUGS - POSSESSION OF DRUG PARAPHANALIA",
          "DRUGS - POSSESSION OF DRUG PARAPHANALIA",
          "DRUGS - POSSESSION OF DRUG PARAPHANALIA",
          "DRUGS - POSSESSION OF DRUG PARAPHANALIA",
          "DRUGS - POSSESSION OF DRUG PARAPHANALIA",
          "DRUGS - SALE / MANUFACTURING",
          "DRUGS - SALE / MANUFACTURING",
          "DRUGS - SALE / MANUFACTURING",
          "DRUGS - SALE / MANUFACTURING",
          "DRUGS - SALE / MANUFACTURING",
          "DRUGS - SALE / MANUFACTURING",
          "DRUGS - SALE / MANUFACTURING",
          "DRUGS - SALE / MANUFACTURING",
          "DRUGS - SALE / MANUFACTURING",
          "DRUGS - SICK ASSIST - HEROIN",
          "DRUGS - SICK ASSIST - HEROIN",
          "DRUGS - SICK ASSIST - HEROIN",
          "DRUGS - SICK ASSIST - HEROIN",
          "DRUGS - SICK ASSIST - HEROIN",
          "DRUGS - SICK ASSIST - HEROIN",
          "DRUGS - SICK ASSIST - HEROIN",
          "DRUGS - SICK ASSIST - HEROIN",
          "DRUGS - SICK ASSIST - HEROIN",
          "DRUGS - SICK ASSIST - OTHER HARMFUL DRUG",
          "DRUGS - SICK ASSIST - OTHER HARMFUL DRUG",
          "DRUGS - SICK ASSIST - OTHER HARMFUL DRUG",
          "DRUGS - SICK ASSIST - OTHER HARMFUL DRUG",
          "DRUGS - SICK ASSIST - OTHER HARMFUL DRUG",
          "DRUGS - SICK ASSIST - OTHER HARMFUL DRUG",
          "DRUGS - SICK ASSIST - OTHER HARMFUL DRUG",
          "DRUGS - SICK ASSIST - OTHER NARCOTIC",
          "DRUGS - SICK ASSIST - OTHER NARCOTIC",
          "DRUGS - SICK ASSIST - OTHER NARCOTIC",
          "DRUGS - SICK ASSIST - OTHER NARCOTIC",
          "DRUGS - SICK ASSIST - OTHER NARCOTIC",
          "DRUGS - SICK ASSIST - OTHER NARCOTIC",
          "DRUGS - SICK ASSIST - OTHER NARCOTIC",
          "DRUGS - SICK ASSIST - OTHER NARCOTIC",
          "DRUGS - SICK ASSIST - OTHER NARCOTIC",
          "EMBEZZLEMENT",
          "EMBEZZLEMENT",
          "EMBEZZLEMENT",
          "EMBEZZLEMENT",
          "EMBEZZLEMENT",
          "EMBEZZLEMENT",
          "EMBEZZLEMENT",
          "EMBEZZLEMENT",
          "EVADING FARE",
          "EVADING FARE",
          "EVADING FARE",
          "EVADING FARE",
          "EVADING FARE",
          "EVADING FARE",
          "EVADING FARE",
          "EVADING FARE",
          "EXPLOSIVES - POSSESSION OR USE",
          "EXPLOSIVES - POSSESSION OR USE",
          "EXPLOSIVES - POSSESSION OR USE",
          "EXPLOSIVES - TURNED IN OR FOUND",
          "EXPLOSIVES - TURNED IN OR FOUND",
          "EXTORTION OR BLACKMAIL",
          "EXTORTION OR BLACKMAIL",
          "EXTORTION OR BLACKMAIL",
          "EXTORTION OR BLACKMAIL",
          "EXTORTION OR BLACKMAIL",
          "EXTORTION OR BLACKMAIL",
          "EXTORTION OR BLACKMAIL",
          "EXTORTION OR BLACKMAIL",
          "FIRE REPORT - CAR, BRUSH, ETC.",
          "FIRE REPORT - CAR, BRUSH, ETC.",
          "FIRE REPORT - CAR, BRUSH, ETC.",
          "FIRE REPORT - CAR, BRUSH, ETC.",
          "FIRE REPORT - CAR, BRUSH, ETC.",
          "FIRE REPORT - CAR, BRUSH, ETC.",
          "FIRE REPORT - CAR, BRUSH, ETC.",
          "FIRE REPORT - CAR, BRUSH, ETC.",
          "FIRE REPORT - CAR, BRUSH, ETC.",
          "FIRE REPORT - HOUSE, BUILDING, ETC.",
          "FIRE REPORT - HOUSE, BUILDING, ETC.",
          "FIRE REPORT - HOUSE, BUILDING, ETC.",
          "FIRE REPORT - HOUSE, BUILDING, ETC.",
          "FIRE REPORT - HOUSE, BUILDING, ETC.",
          "FIRE REPORT - HOUSE, BUILDING, ETC.",
          "FIRE REPORT - HOUSE, BUILDING, ETC.",
          "FIRE REPORT - HOUSE, BUILDING, ETC.",
          "FIRE REPORT - HOUSE, BUILDING, ETC.",
          "FIRE REPORT/ALARM - FALSE",
          "FIRE REPORT/ALARM - FALSE",
          "FIRE REPORT/ALARM - FALSE",
          "FIRE REPORT/ALARM - FALSE",
          "FIRE REPORT/ALARM - FALSE",
          "FIRE REPORT/ALARM - FALSE",
          "FIRE REPORT/ALARM - FALSE",
          "FIRE REPORT/ALARM - FALSE",
          "FIRE REPORT/ALARM - FALSE",
          "FIREARM/WEAPON - ACCIDENTAL INJURY / DEATH",
          "FIREARM/WEAPON - ACCIDENTAL INJURY / DEATH",
          "FIREARM/WEAPON - FOUND OR CONFISCATED",
          "FIREARM/WEAPON - FOUND OR CONFISCATED",
          "FIREARM/WEAPON - FOUND OR CONFISCATED",
          "FIREARM/WEAPON - FOUND OR CONFISCATED",
          "FIREARM/WEAPON - FOUND OR CONFISCATED",
          "FIREARM/WEAPON - FOUND OR CONFISCATED",
          "FIREARM/WEAPON - FOUND OR CONFISCATED",
          "FIREARM/WEAPON - FOUND OR CONFISCATED",
          "FIREARM/WEAPON - FOUND OR CONFISCATED",
          "FIREARM/WEAPON - LOST",
          "FORGERY / COUNTERFEITING",
          "FORGERY / COUNTERFEITING",
          "FORGERY / COUNTERFEITING",
          "FORGERY / COUNTERFEITING",
          "FORGERY / COUNTERFEITING",
          "FORGERY / COUNTERFEITING",
          "FORGERY / COUNTERFEITING",
          "FORGERY / COUNTERFEITING",
          "FORGERY / COUNTERFEITING",
          "FORGERY OR UTTERING",
          "FRAUD - CREDIT CARD / ATM FRAUD",
          "FRAUD - CREDIT CARD / ATM FRAUD",
          "FRAUD - CREDIT CARD / ATM FRAUD",
          "FRAUD - CREDIT CARD / ATM FRAUD",
          "FRAUD - CREDIT CARD / ATM FRAUD",
          "FRAUD - CREDIT CARD / ATM FRAUD",
          "FRAUD - CREDIT CARD / ATM FRAUD",
          "FRAUD - CREDIT CARD / ATM FRAUD",
          "FRAUD - CREDIT CARD / ATM FRAUD",
          "FRAUD - FALSE PRETENSE / SCHEME",
          "FRAUD - FALSE PRETENSE / SCHEME",
          "FRAUD - FALSE PRETENSE / SCHEME",
          "FRAUD - FALSE PRETENSE / SCHEME",
          "FRAUD - FALSE PRETENSE / SCHEME",
          "FRAUD - FALSE PRETENSE / SCHEME",
          "FRAUD - FALSE PRETENSE / SCHEME",
          "FRAUD - FALSE PRETENSE / SCHEME",
          "FRAUD - FALSE PRETENSE / SCHEME",
          "FRAUD - IMPERSONATION",
          "FRAUD - IMPERSONATION",
          "FRAUD - IMPERSONATION",
          "FRAUD - IMPERSONATION",
          "FRAUD - IMPERSONATION",
          "FRAUD - IMPERSONATION",
          "FRAUD - IMPERSONATION",
          "FRAUD - IMPERSONATION",
          "FRAUD - WELFARE",
          "FRAUD - WELFARE",
          "FRAUD - WELFARE",
          "FRAUD - WIRE",
          "FRAUD - WIRE",
          "FRAUD - WIRE",
          "FRAUD - WIRE",
          "FRAUD - WIRE",
          "FRAUD - WIRE",
          "FRAUD - WIRE",
          "FRAUD - WIRE",
          "FRAUD - WIRE",
          "FRAUDS - ALL OTHER",
          "FUGITIVE FROM JUSTICE",
          "FUGITIVE FROM JUSTICE",
          "FUGITIVE FROM JUSTICE",
          "FUGITIVE FROM JUSTICE",
          "FUGITIVE FROM JUSTICE",
          "FUGITIVE FROM JUSTICE",
          "FUGITIVE FROM JUSTICE",
          "FUGITIVE FROM JUSTICE",
          "GAMBLING - BETTING / WAGERING",
          "GAMBLING - BETTING / WAGERING",
          "GAMBLING - BETTING / WAGERING",
          "GAMBLING - BETTING / WAGERING",
          "GATHERING CAUSING ANNOYANCE",
          "GATHERING CAUSING ANNOYANCE",
          "GATHERING CAUSING ANNOYANCE",
          "GATHERING CAUSING ANNOYANCE",
          "GRAFFITI",
          "GRAFFITI",
          "GRAFFITI",
          "GRAFFITI",
          "GRAFFITI",
          "GRAFFITI",
          "GRAFFITI",
          "GRAFFITI",
          "HARASSMENT",
          "HARASSMENT",
          "HARASSMENT",
          "HARASSMENT",
          "HARASSMENT",
          "HARASSMENT",
          "HARASSMENT",
          "HARASSMENT",
          "HARASSMENT",
          "HARBOR INCIDENT / VIOLATION",
          "HARBOR INCIDENT / VIOLATION",
          "HARBOR INCIDENT / VIOLATION",
          "HARBOR INCIDENT / VIOLATION",
          "HARBOR INCIDENT / VIOLATION",
          "HARBOR INCIDENT / VIOLATION",
          "HARBOR INCIDENT / VIOLATION",
          "HARBOR INCIDENT / VIOLATION",
          "HARBOR INCIDENT / VIOLATION",
          "HOME INVASION",
          "HOME INVASION",
          "HOME INVASION",
          "HOME INVASION",
          "HOME INVASION",
          "HOME INVASION",
          "HOME INVASION",
          "HUMAN TRAFFICKING - COMMERCIAL SEX ACTS",
          "HUMAN TRAFFICKING - COMMERCIAL SEX ACTS",
          "HUMAN TRAFFICKING - COMMERCIAL SEX ACTS",
          "HUMAN TRAFFICKING - COMMERCIAL SEX ACTS",
          "HUMAN TRAFFICKING - INVOLUNTARY SERVITUDE",
          "INJURY BICYCLE NO M/V INVOLVED",
          "INJURY BICYCLE NO M/V INVOLVED",
          "INJURY BICYCLE NO M/V INVOLVED",
          "INJURY BICYCLE NO M/V INVOLVED",
          "INTIMIDATING WITNESS",
          "INTIMIDATING WITNESS",
          "INTIMIDATING WITNESS",
          "INTIMIDATING WITNESS",
          "INTIMIDATING WITNESS",
          "INTIMIDATING WITNESS",
          "INTIMIDATING WITNESS",
          "INTIMIDATING WITNESS",
          "INTIMIDATING WITNESS",
          "INVESTIGATE PERSON",
          "INVESTIGATE PERSON",
          "INVESTIGATE PERSON",
          "INVESTIGATE PERSON",
          "INVESTIGATE PERSON",
          "INVESTIGATE PERSON",
          "INVESTIGATE PERSON",
          "INVESTIGATE PERSON",
          "INVESTIGATE PERSON",
          "INVESTIGATE PROPERTY",
          "INVESTIGATE PROPERTY",
          "INVESTIGATE PROPERTY",
          "INVESTIGATE PROPERTY",
          "INVESTIGATE PROPERTY",
          "INVESTIGATE PROPERTY",
          "INVESTIGATE PROPERTY",
          "INVESTIGATE PROPERTY",
          "INVESTIGATE PROPERTY",
          "INVESTIGATION FOR ANOTHER AGENCY",
          "INVESTIGATION FOR ANOTHER AGENCY",
          "INVESTIGATION FOR ANOTHER AGENCY",
          "INVESTIGATION FOR ANOTHER AGENCY",
          "INVESTIGATION FOR ANOTHER AGENCY",
          "INVESTIGATION FOR ANOTHER AGENCY",
          "INVESTIGATION FOR ANOTHER AGENCY",
          "INVESTIGATION FOR ANOTHER AGENCY",
          "KIDNAPPING - ENTICING OR ATTEMPTED",
          "KIDNAPPING - ENTICING OR ATTEMPTED",
          "KIDNAPPING - ENTICING OR ATTEMPTED",
          "KIDNAPPING - ENTICING OR ATTEMPTED",
          "KIDNAPPING - ENTICING OR ATTEMPTED",
          "KIDNAPPING/CUSTODIAL KIDNAPPING",
          "KIDNAPPING/CUSTODIAL KIDNAPPING",
          "KIDNAPPING/CUSTODIAL KIDNAPPING",
          "KIDNAPPING/CUSTODIAL KIDNAPPING",
          "KIDNAPPING/CUSTODIAL KIDNAPPING",
          "KIDNAPPING/CUSTODIAL KIDNAPPING",
          "KILLING OF FELON BY POLICE",
          "LANDLORD - TENANT SERVICE",
          "LANDLORD - TENANT SERVICE",
          "LANDLORD - TENANT SERVICE",
          "LANDLORD - TENANT SERVICE",
          "LANDLORD - TENANT SERVICE",
          "LANDLORD - TENANT SERVICE",
          "LANDLORD - TENANT SERVICE",
          "LANDLORD - TENANT SERVICE",
          "LANDLORD - TENANT SERVICE",
          "LARCENY ALL OTHERS",
          "LARCENY ALL OTHERS",
          "LARCENY ALL OTHERS",
          "LARCENY ALL OTHERS",
          "LARCENY ALL OTHERS",
          "LARCENY ALL OTHERS",
          "LARCENY ALL OTHERS",
          "LARCENY ALL OTHERS",
          "LARCENY ALL OTHERS",
          "LARCENY IN A BUILDING $50 TO $199",
          "LARCENY IN A BUILDING UNDER $50",
          "LARCENY NON-ACCESSORY FROM VEH. $50 TO $199",
          "LARCENY NON-ACCESSORY FROM VEH. UNDER $50",
          "LARCENY OTHER $50 TO $199",
          "LARCENY OTHER $50 TO $199",
          "LARCENY OTHER UNDER $50",
          "LARCENY PICK-POCKET",
          "LARCENY PICK-POCKET",
          "LARCENY PICK-POCKET",
          "LARCENY PICK-POCKET",
          "LARCENY PICK-POCKET",
          "LARCENY PICK-POCKET",
          "LARCENY PICK-POCKET",
          "LARCENY PICK-POCKET",
          "LARCENY PURSE SNATCH - NO FORCE ",
          "LARCENY PURSE SNATCH - NO FORCE ",
          "LARCENY PURSE SNATCH - NO FORCE ",
          "LARCENY PURSE SNATCH - NO FORCE ",
          "LARCENY PURSE SNATCH - NO FORCE ",
          "LARCENY PURSE SNATCH - NO FORCE ",
          "LARCENY PURSE SNATCH - NO FORCE ",
          "LARCENY PURSE SNATCH - NO FORCE ",
          "LARCENY PURSE SNATCH - NO FORCE ",
          "LARCENY SHOPLIFTING",
          "LARCENY SHOPLIFTING",
          "LARCENY SHOPLIFTING",
          "LARCENY SHOPLIFTING",
          "LARCENY SHOPLIFTING",
          "LARCENY SHOPLIFTING",
          "LARCENY SHOPLIFTING",
          "LARCENY SHOPLIFTING",
          "LARCENY SHOPLIFTING",
          "LARCENY SHOPLIFTING $50 TO $199",
          "LARCENY SHOPLIFTING $50 TO $199",
          "LARCENY SHOPLIFTING UNDER $50",
          "LARCENY THEFT FROM BUILDING",
          "LARCENY THEFT FROM BUILDING",
          "LARCENY THEFT FROM BUILDING",
          "LARCENY THEFT FROM BUILDING",
          "LARCENY THEFT FROM BUILDING",
          "LARCENY THEFT FROM BUILDING",
          "LARCENY THEFT FROM BUILDING",
          "LARCENY THEFT FROM BUILDING",
          "LARCENY THEFT FROM BUILDING",
          "LARCENY THEFT FROM COIN-OP MACHINE",
          "LARCENY THEFT FROM COIN-OP MACHINE",
          "LARCENY THEFT FROM COIN-OP MACHINE",
          "LARCENY THEFT FROM MV - NON-ACCESSORY",
          "LARCENY THEFT FROM MV - NON-ACCESSORY",
          "LARCENY THEFT FROM MV - NON-ACCESSORY",
          "LARCENY THEFT FROM MV - NON-ACCESSORY",
          "LARCENY THEFT FROM MV - NON-ACCESSORY",
          "LARCENY THEFT FROM MV - NON-ACCESSORY",
          "LARCENY THEFT FROM MV - NON-ACCESSORY",
          "LARCENY THEFT FROM MV - NON-ACCESSORY",
          "LARCENY THEFT FROM MV - NON-ACCESSORY",
          "LARCENY THEFT OF BICYCLE",
          "LARCENY THEFT OF BICYCLE",
          "LARCENY THEFT OF BICYCLE",
          "LARCENY THEFT OF BICYCLE",
          "LARCENY THEFT OF BICYCLE",
          "LARCENY THEFT OF BICYCLE",
          "LARCENY THEFT OF BICYCLE",
          "LARCENY THEFT OF BICYCLE",
          "LARCENY THEFT OF BICYCLE",
          "LARCENY THEFT OF MV PARTS & ACCESSORIES",
          "LARCENY THEFT OF MV PARTS & ACCESSORIES",
          "LARCENY THEFT OF MV PARTS & ACCESSORIES",
          "LARCENY THEFT OF MV PARTS & ACCESSORIES",
          "LARCENY THEFT OF MV PARTS & ACCESSORIES",
          "LARCENY THEFT OF MV PARTS & ACCESSORIES",
          "LARCENY THEFT OF MV PARTS & ACCESSORIES",
          "LARCENY THEFT OF MV PARTS & ACCESSORIES",
          "LARCENY THEFT OF MV PARTS & ACCESSORIES",
          "LICENSE PREMISE VIOLATION",
          "LICENSE PREMISE VIOLATION",
          "LICENSE PREMISE VIOLATION",
          "LICENSE PREMISE VIOLATION",
          "LICENSE PREMISE VIOLATION",
          "LICENSE PREMISE VIOLATION",
          "LICENSE PREMISE VIOLATION",
          "LICENSE PREMISE VIOLATION",
          "LIQUOR - DRINKING IN PUBLIC",
          "LIQUOR - DRINKING IN PUBLIC",
          "LIQUOR - DRINKING IN PUBLIC",
          "LIQUOR - DRINKING IN PUBLIC",
          "LIQUOR - DRINKING IN PUBLIC",
          "LIQUOR - DRINKING IN PUBLIC",
          "LIQUOR - DRINKING IN PUBLIC",
          "LIQUOR - DRINKING IN PUBLIC",
          "LIQUOR - DRINKING IN PUBLIC",
          "LIQUOR LAW VIOLATION",
          "LIQUOR LAW VIOLATION",
          "LIQUOR LAW VIOLATION",
          "LIQUOR LAW VIOLATION",
          "LIQUOR LAW VIOLATION",
          "LIQUOR LAW VIOLATION",
          "LIQUOR LAW VIOLATION",
          "LIQUOR LAW VIOLATION",
          "M/V - LEAVING SCENE - PERSONAL INJURY",
          "M/V - LEAVING SCENE - PERSONAL INJURY",
          "M/V - LEAVING SCENE - PERSONAL INJURY",
          "M/V - LEAVING SCENE - PERSONAL INJURY",
          "M/V - LEAVING SCENE - PERSONAL INJURY",
          "M/V - LEAVING SCENE - PERSONAL INJURY",
          "M/V - LEAVING SCENE - PERSONAL INJURY",
          "M/V - LEAVING SCENE - PERSONAL INJURY",
          "M/V - LEAVING SCENE - PERSONAL INJURY",
          "M/V - LEAVING SCENE - PROPERTY DAMAGE",
          "M/V - LEAVING SCENE - PROPERTY DAMAGE",
          "M/V - LEAVING SCENE - PROPERTY DAMAGE",
          "M/V - LEAVING SCENE - PROPERTY DAMAGE",
          "M/V - LEAVING SCENE - PROPERTY DAMAGE",
          "M/V - LEAVING SCENE - PROPERTY DAMAGE",
          "M/V - LEAVING SCENE - PROPERTY DAMAGE",
          "M/V - LEAVING SCENE - PROPERTY DAMAGE",
          "M/V - LEAVING SCENE - PROPERTY DAMAGE",
          "M/V ACCIDENT - INVOLVING BICYCLE - NO INJURY",
          "M/V ACCIDENT - INVOLVING BICYCLE - NO INJURY",
          "M/V ACCIDENT - INVOLVING BICYCLE - NO INJURY",
          "M/V ACCIDENT - INVOLVING BICYCLE - NO INJURY",
          "M/V ACCIDENT - INVOLVING BICYCLE - NO INJURY",
          "M/V ACCIDENT - INVOLVING BICYCLE - NO INJURY",
          "M/V ACCIDENT - INVOLVING BICYCLE - NO INJURY",
          "M/V ACCIDENT - INVOLVING BICYCLE - NO INJURY",
          "M/V ACCIDENT - INVOLVING BICYCLE - NO INJURY",
          "M/V ACCIDENT - INVOLVING PEDESTRIAN - NO INJURY",
          "M/V ACCIDENT - INVOLVING PEDESTRIAN - NO INJURY",
          "M/V ACCIDENT - INVOLVING PEDESTRIAN - NO INJURY",
          "M/V ACCIDENT - INVOLVING PEDESTRIAN - NO INJURY",
          "M/V ACCIDENT - INVOLVING PEDESTRIAN - NO INJURY",
          "M/V ACCIDENT - INVOLVING PEDESTRIAN - NO INJURY",
          "M/V ACCIDENT - INVOLVING PEDESTRIAN - NO INJURY",
          "M/V ACCIDENT - INVOLVING PEDESTRIAN - NO INJURY",
          "M/V ACCIDENT - INVOLVING PEDESTRIAN - NO INJURY",
          "M/V ACCIDENT - INVOLVING  BICYCLE - INJURY",
          "M/V ACCIDENT - INVOLVING  BICYCLE - INJURY",
          "M/V ACCIDENT - INVOLVING  BICYCLE - INJURY",
          "M/V ACCIDENT - INVOLVING  BICYCLE - INJURY",
          "M/V ACCIDENT - INVOLVING  BICYCLE - INJURY",
          "M/V ACCIDENT - INVOLVING  BICYCLE - INJURY",
          "M/V ACCIDENT - INVOLVING  BICYCLE - INJURY",
          "M/V ACCIDENT - INVOLVING  BICYCLE - INJURY",
          "M/V ACCIDENT - INVOLVING  BICYCLE - INJURY",
          "M/V ACCIDENT - OTHER",
          "M/V ACCIDENT - OTHER",
          "M/V ACCIDENT - OTHER",
          "M/V ACCIDENT - OTHER",
          "M/V ACCIDENT - OTHER",
          "M/V ACCIDENT - OTHER",
          "M/V ACCIDENT - OTHER",
          "M/V ACCIDENT - OTHER",
          "M/V ACCIDENT - OTHER",
          "M/V ACCIDENT - OTHER CITY VEHICLE",
          "M/V ACCIDENT - OTHER CITY VEHICLE",
          "M/V ACCIDENT - OTHER CITY VEHICLE",
          "M/V ACCIDENT - OTHER CITY VEHICLE",
          "M/V ACCIDENT - OTHER CITY VEHICLE",
          "M/V ACCIDENT - OTHER CITY VEHICLE",
          "M/V ACCIDENT - OTHER CITY VEHICLE",
          "M/V ACCIDENT - OTHER CITY VEHICLE",
          "M/V ACCIDENT - OTHER CITY VEHICLE",
          "M/V ACCIDENT - PERSONAL INJURY",
          "M/V ACCIDENT - PERSONAL INJURY",
          "M/V ACCIDENT - PERSONAL INJURY",
          "M/V ACCIDENT - PERSONAL INJURY",
          "M/V ACCIDENT - PERSONAL INJURY",
          "M/V ACCIDENT - PERSONAL INJURY",
          "M/V ACCIDENT - PERSONAL INJURY",
          "M/V ACCIDENT - PERSONAL INJURY",
          "M/V ACCIDENT - PERSONAL INJURY",
          "M/V ACCIDENT - POLICE VEHICLE",
          "M/V ACCIDENT - POLICE VEHICLE",
          "M/V ACCIDENT - POLICE VEHICLE",
          "M/V ACCIDENT - POLICE VEHICLE",
          "M/V ACCIDENT - POLICE VEHICLE",
          "M/V ACCIDENT - POLICE VEHICLE",
          "M/V ACCIDENT - POLICE VEHICLE",
          "M/V ACCIDENT - POLICE VEHICLE",
          "M/V ACCIDENT - PROPERTY  DAMAGE",
          "M/V ACCIDENT - PROPERTY  DAMAGE",
          "M/V ACCIDENT - PROPERTY  DAMAGE",
          "M/V ACCIDENT - PROPERTY  DAMAGE",
          "M/V ACCIDENT - PROPERTY  DAMAGE",
          "M/V ACCIDENT - PROPERTY  DAMAGE",
          "M/V ACCIDENT - PROPERTY  DAMAGE",
          "M/V ACCIDENT - PROPERTY  DAMAGE",
          "M/V ACCIDENT - PROPERTY  DAMAGE",
          "M/V ACCIDENT INVOLVING PEDESTRIAN - INJURY",
          "M/V ACCIDENT INVOLVING PEDESTRIAN - INJURY",
          "M/V ACCIDENT INVOLVING PEDESTRIAN - INJURY",
          "M/V ACCIDENT INVOLVING PEDESTRIAN - INJURY",
          "M/V ACCIDENT INVOLVING PEDESTRIAN - INJURY",
          "M/V ACCIDENT INVOLVING PEDESTRIAN - INJURY",
          "M/V ACCIDENT INVOLVING PEDESTRIAN - INJURY",
          "M/V ACCIDENT INVOLVING PEDESTRIAN - INJURY",
          "M/V ACCIDENT INVOLVING PEDESTRIAN - INJURY",
          "M/V PLATES - LOST",
          "M/V PLATES - LOST",
          "M/V PLATES - LOST",
          "M/V PLATES - LOST",
          "M/V PLATES - LOST",
          "M/V PLATES - LOST",
          "M/V PLATES - LOST",
          "M/V PLATES - LOST",
          "M/V PLATES - LOST",
          "MANSLAUGHTER - NON-VEHICLE - NEGLIGENCE",
          "MANSLAUGHTER - VEHICLE - NEGLIGENCE",
          "MANSLAUGHTER - VEHICLE - NEGLIGENCE",
          "MISSING PERSON",
          "MISSING PERSON",
          "MISSING PERSON",
          "MISSING PERSON",
          "MISSING PERSON",
          "MISSING PERSON",
          "MISSING PERSON",
          "MISSING PERSON",
          "MISSING PERSON",
          "MISSING PERSON - LOCATED",
          "MISSING PERSON - LOCATED",
          "MISSING PERSON - LOCATED",
          "MISSING PERSON - LOCATED",
          "MISSING PERSON - LOCATED",
          "MISSING PERSON - LOCATED",
          "MISSING PERSON - LOCATED",
          "MISSING PERSON - LOCATED",
          "MISSING PERSON - LOCATED",
          "MISSING PERSON - NOT REPORTED - LOCATED",
          "MISSING PERSON - NOT REPORTED - LOCATED",
          "MISSING PERSON - NOT REPORTED - LOCATED",
          "MISSING PERSON - NOT REPORTED - LOCATED",
          "MISSING PERSON - NOT REPORTED - LOCATED",
          "MISSING PERSON - NOT REPORTED - LOCATED",
          "MISSING PERSON - NOT REPORTED - LOCATED",
          "MISSING PERSON - NOT REPORTED - LOCATED",
          "MURDER, NON-NEGLIGIENT MANSLAUGHTER",
          "MURDER, NON-NEGLIGIENT MANSLAUGHTER",
          "MURDER, NON-NEGLIGIENT MANSLAUGHTER",
          "MURDER, NON-NEGLIGIENT MANSLAUGHTER",
          "MURDER, NON-NEGLIGIENT MANSLAUGHTER",
          "MURDER, NON-NEGLIGIENT MANSLAUGHTER",
          "MURDER, NON-NEGLIGIENT MANSLAUGHTER",
          "MURDER, NON-NEGLIGIENT MANSLAUGHTER",
          "NOISY PARTY/RADIO-ARREST",
          "NOISY PARTY/RADIO-ARREST",
          "NOISY PARTY/RADIO-ARREST",
          "NOISY PARTY/RADIO-NO ARREST",
          "NOISY PARTY/RADIO-NO ARREST",
          "NOISY PARTY/RADIO-NO ARREST",
          "NOISY PARTY/RADIO-NO ARREST",
          "NOISY PARTY/RADIO-NO ARREST",
          "NOISY PARTY/RADIO-NO ARREST",
          "NOISY PARTY/RADIO-NO ARREST",
          "NOISY PARTY/RADIO-NO ARREST",
          "OBSCENE MATERIALS - PORNOGRAPHY",
          "OBSCENE MATERIALS - PORNOGRAPHY",
          "OBSCENE MATERIALS - PORNOGRAPHY",
          "OBSCENE MATERIALS - PORNOGRAPHY",
          "OBSCENE MATERIALS - PORNOGRAPHY",
          "OBSCENE MATERIALS - PORNOGRAPHY",
          "OBSCENE MATERIALS - PORNOGRAPHY",
          "OBSCENE MATERIALS - PORNOGRAPHY",
          "OBSCENE PHONE CALLS",
          "OBSCENE PHONE CALLS",
          "OBSCENE PHONE CALLS",
          "OBSCENE PHONE CALLS",
          "OBSCENE PHONE CALLS",
          "OBSCENE PHONE CALLS",
          "OPERATING UNDER THE INFLUENCE ALCOHOL",
          "OPERATING UNDER THE INFLUENCE ALCOHOL",
          "OPERATING UNDER THE INFLUENCE ALCOHOL",
          "OPERATING UNDER THE INFLUENCE ALCOHOL",
          "OPERATING UNDER THE INFLUENCE ALCOHOL",
          "OPERATING UNDER THE INFLUENCE ALCOHOL",
          "OPERATING UNDER THE INFLUENCE ALCOHOL",
          "OPERATING UNDER THE INFLUENCE ALCOHOL",
          "OPERATING UNDER THE INFLUENCE ALCOHOL",
          "OPERATING UNDER THE INFLUENCE DRUGS",
          "OPERATING UNDER THE INFLUENCE DRUGS",
          "OPERATING UNDER THE INFLUENCE DRUGS",
          "OPERATING UNDER THE INFLUENCE DRUGS",
          "OPERATING UNDER THE INFLUENCE DRUGS",
          "OPERATING UNDER THE INFLUENCE DRUGS",
          "OPERATING UNDER THE INFLUENCE DRUGS",
          "OTHER OFFENSE",
          "OTHER OFFENSE",
          "OTHER OFFENSE",
          "OTHER OFFENSE",
          "OTHER OFFENSE",
          "OTHER OFFENSE",
          "OTHER OFFENSE",
          "OTHER OFFENSE",
          "OTHER OFFENSE",
          "POSSESSION OF BURGLARIOUS TOOLS",
          "POSSESSION OF BURGLARIOUS TOOLS",
          "POSSESSION OF BURGLARIOUS TOOLS",
          "POSSESSION OF BURGLARIOUS TOOLS",
          "POSSESSION OF BURGLARIOUS TOOLS",
          "POSSESSION OF BURGLARIOUS TOOLS",
          "POSSESSION OF BURGLARIOUS TOOLS",
          "POSSESSION OF BURGLARIOUS TOOLS",
          "PRISONER - SUICIDE / SUICIDE ATTEMPT",
          "PRISONER - SUICIDE / SUICIDE ATTEMPT",
          "PRISONER - SUICIDE / SUICIDE ATTEMPT",
          "PRISONER - SUICIDE / SUICIDE ATTEMPT",
          "PRISONER ATTEMPT TO RESCUE",
          "PRISONER ESCAPE / ESCAPE & RECAPTURE",
          "PRISONER ESCAPE / ESCAPE & RECAPTURE",
          "PROPERTY - ACCIDENTAL DAMAGE",
          "PROPERTY - ACCIDENTAL DAMAGE",
          "PROPERTY - ACCIDENTAL DAMAGE",
          "PROPERTY - ACCIDENTAL DAMAGE",
          "PROPERTY - ACCIDENTAL DAMAGE",
          "PROPERTY - ACCIDENTAL DAMAGE",
          "PROPERTY - ACCIDENTAL DAMAGE",
          "PROPERTY - ACCIDENTAL DAMAGE",
          "PROPERTY - ACCIDENTAL DAMAGE",
          "PROPERTY - CONCEALING LEASED",
          "PROPERTY - CONCEALING LEASED",
          "PROPERTY - FOUND",
          "PROPERTY - FOUND",
          "PROPERTY - FOUND",
          "PROPERTY - FOUND",
          "PROPERTY - FOUND",
          "PROPERTY - FOUND",
          "PROPERTY - FOUND",
          "PROPERTY - FOUND",
          "PROPERTY - FOUND",
          "PROPERTY - LOST",
          "PROPERTY - LOST",
          "PROPERTY - LOST",
          "PROPERTY - LOST",
          "PROPERTY - LOST",
          "PROPERTY - LOST",
          "PROPERTY - LOST",
          "PROPERTY - LOST",
          "PROPERTY - LOST",
          "PROPERTY - LOST THEN LOCATED",
          "PROPERTY - LOST THEN LOCATED",
          "PROPERTY - LOST THEN LOCATED",
          "PROPERTY - LOST THEN LOCATED",
          "PROPERTY - LOST THEN LOCATED",
          "PROPERTY - LOST THEN LOCATED",
          "PROPERTY - LOST THEN LOCATED",
          "PROPERTY - LOST THEN LOCATED",
          "PROPERTY - MISSING",
          "PROPERTY - MISSING",
          "PROPERTY - MISSING",
          "PROPERTY - MISSING",
          "PROPERTY - MISSING",
          "PROPERTY - MISSING",
          "PROPERTY - MISSING",
          "PROPERTY - MISSING",
          "PROPERTY - RECEIVING STOLEN",
          "PROPERTY - RECEIVING STOLEN",
          "PROPERTY - STOLEN THEN RECOVERED",
          "PROPERTY - STOLEN THEN RECOVERED",
          "PROPERTY - STOLEN THEN RECOVERED",
          "PROPERTY - STOLEN THEN RECOVERED",
          "PROPERTY - STOLEN THEN RECOVERED",
          "PROPERTY - STOLEN THEN RECOVERED",
          "PROPERTY - STOLEN THEN RECOVERED",
          "PROPERTY - STOLEN THEN RECOVERED",
          "PROSTITUTION",
          "PROSTITUTION",
          "PROSTITUTION",
          "PROSTITUTION",
          "PROSTITUTION",
          "PROSTITUTION",
          "PROSTITUTION",
          "PROSTITUTION",
          "PROSTITUTION",
          "PROSTITUTION",
          "PROSTITUTION - ASSISTING OR PROMOTING",
          "PROSTITUTION - COMMON NIGHTWALKER",
          "PROSTITUTION - SOLICITING",
          "PROSTITUTION - SOLICITING",
          "PROSTITUTION - SOLICITING",
          "PROSTITUTION - SOLICITING",
          "PROTECTIVE CUSTODY / SAFEKEEPING",
          "PROTECTIVE CUSTODY / SAFEKEEPING",
          "PROTECTIVE CUSTODY / SAFEKEEPING",
          "RECOVERED - MV RECOVERED IN BOSTON (STOLEN OUTSIDE BOSTON)",
          "RECOVERED - MV RECOVERED IN BOSTON (STOLEN OUTSIDE BOSTON)",
          "RECOVERED - MV RECOVERED IN BOSTON (STOLEN OUTSIDE BOSTON)",
          "RECOVERED - MV RECOVERED IN BOSTON (STOLEN OUTSIDE BOSTON)",
          "RECOVERED - MV RECOVERED IN BOSTON (STOLEN OUTSIDE BOSTON)",
          "RECOVERED - MV RECOVERED IN BOSTON (STOLEN OUTSIDE BOSTON)",
          "RECOVERED - MV RECOVERED IN BOSTON (STOLEN OUTSIDE BOSTON)",
          "RECOVERED - MV RECOVERED IN BOSTON (STOLEN OUTSIDE BOSTON)",
          "RECOVERED - MV RECOVERED IN BOSTON (STOLEN OUTSIDE BOSTON)",
          "RECOVERED STOLEN PLATE",
          "RECOVERED STOLEN PLATE",
          "RECOVERED STOLEN PLATE",
          "RECOVERED STOLEN PLATE",
          "RECOVERED STOLEN PLATE",
          "RECOVERED STOLEN PLATE",
          "RECOVERED STOLEN PLATE",
          "REPORT AFFECTING OTHER DEPTS.",
          "REPORT AFFECTING OTHER DEPTS.",
          "REPORT AFFECTING OTHER DEPTS.",
          "REPORT AFFECTING OTHER DEPTS.",
          "REPORT AFFECTING OTHER DEPTS.",
          "REPORT AFFECTING OTHER DEPTS.",
          "REPORT AFFECTING OTHER DEPTS.",
          "REPORT AFFECTING OTHER DEPTS.",
          "ROBBERY - BANK",
          "ROBBERY - BANK",
          "ROBBERY - BANK",
          "ROBBERY - BANK",
          "ROBBERY - BANK",
          "ROBBERY - BANK",
          "ROBBERY - BANK",
          "ROBBERY - CAR JACKING",
          "ROBBERY - CAR JACKING",
          "ROBBERY - CAR JACKING",
          "ROBBERY - CAR JACKING",
          "ROBBERY - CAR JACKING",
          "ROBBERY - CAR JACKING",
          "ROBBERY - CAR JACKING",
          "ROBBERY - CAR JACKING",
          "ROBBERY - CAR JACKING",
          "ROBBERY - COMMERCIAL",
          "ROBBERY - COMMERCIAL",
          "ROBBERY - COMMERCIAL",
          "ROBBERY - COMMERCIAL",
          "ROBBERY - COMMERCIAL",
          "ROBBERY - COMMERCIAL",
          "ROBBERY - COMMERCIAL",
          "ROBBERY - COMMERCIAL",
          "ROBBERY - COMMERCIAL",
          "ROBBERY - HOME INVASION",
          "ROBBERY - HOME INVASION",
          "ROBBERY - HOME INVASION",
          "ROBBERY - HOME INVASION",
          "ROBBERY - HOME INVASION",
          "ROBBERY - HOME INVASION",
          "ROBBERY - HOME INVASION",
          "ROBBERY - KNIFE - STREET",
          "ROBBERY - OTHER",
          "ROBBERY - OTHER",
          "ROBBERY - OTHER",
          "ROBBERY - OTHER",
          "ROBBERY - OTHER",
          "ROBBERY - OTHER",
          "ROBBERY - OTHER",
          "ROBBERY - OTHER",
          "ROBBERY - OTHER",
          "ROBBERY - STREET",
          "ROBBERY - STREET",
          "ROBBERY - STREET",
          "ROBBERY - STREET",
          "ROBBERY - STREET",
          "ROBBERY - STREET",
          "ROBBERY - STREET",
          "ROBBERY - STREET",
          "ROBBERY - STREET",
          "ROBBERY - UNARMED - BUSINESS",
          "ROBBERY - UNARMED - CHAIN STORE",
          "ROBBERY - UNARMED - RESIDENCE",
          "ROBBERY - UNARMED - STREET",
          "ROBBERY ATTEMPT - KNIFE - BANK",
          "SEARCH WARRANT",
          "SEARCH WARRANT",
          "SEARCH WARRANT",
          "SEARCH WARRANT",
          "SEARCH WARRANT",
          "SEARCH WARRANT",
          "SEARCH WARRANT",
          "SEARCH WARRANT",
          "SERVICE TO OTHER PD INSIDE OF MA.",
          "SERVICE TO OTHER PD INSIDE OF MA.",
          "SERVICE TO OTHER PD INSIDE OF MA.",
          "SERVICE TO OTHER PD INSIDE OF MA.",
          "SERVICE TO OTHER PD INSIDE OF MA.",
          "SERVICE TO OTHER PD INSIDE OF MA.",
          "SERVICE TO OTHER PD INSIDE OF MA.",
          "SERVICE TO OTHER PD INSIDE OF MA.",
          "SERVICE TO OTHER PD INSIDE OF MA.",
          "SERVICE TO OTHER PD OUTSIDE OF MA.",
          "SERVICE TO OTHER PD OUTSIDE OF MA.",
          "SERVICE TO OTHER PD OUTSIDE OF MA.",
          "SERVICE TO OTHER PD OUTSIDE OF MA.",
          "SERVICE TO OTHER PD OUTSIDE OF MA.",
          "SERVICE TO OTHER PD OUTSIDE OF MA.",
          "SERVICE TO OTHER PD OUTSIDE OF MA.",
          "SERVICE TO OTHER PD OUTSIDE OF MA.",
          "SICK/INJURED/MEDICAL - PERSON",
          "SICK/INJURED/MEDICAL - PERSON",
          "SICK/INJURED/MEDICAL - PERSON",
          "SICK/INJURED/MEDICAL - PERSON",
          "SICK/INJURED/MEDICAL - PERSON",
          "SICK/INJURED/MEDICAL - PERSON",
          "SICK/INJURED/MEDICAL - PERSON",
          "SICK/INJURED/MEDICAL - PERSON",
          "SICK/INJURED/MEDICAL - PERSON",
          "SICK/INJURED/MEDICAL - POLICE",
          "SICK/INJURED/MEDICAL - POLICE",
          "SICK/INJURED/MEDICAL - POLICE",
          "SICK/INJURED/MEDICAL - POLICE",
          "SICK/INJURED/MEDICAL - POLICE",
          "SICK/INJURED/MEDICAL - POLICE",
          "SICK/INJURED/MEDICAL - POLICE",
          "SICK/INJURED/MEDICAL - POLICE",
          "SICK/INJURED/MEDICAL - POLICE",
          "STALKING",
          "STALKING",
          "STALKING",
          "STALKING",
          "STALKING",
          "STALKING",
          "STOLEN PROPERTY - BUYING / RECEIVING / POSSESSING",
          "STOLEN PROPERTY - BUYING / RECEIVING / POSSESSING",
          "STOLEN PROPERTY - BUYING / RECEIVING / POSSESSING",
          "STOLEN PROPERTY - BUYING / RECEIVING / POSSESSING",
          "STOLEN PROPERTY - BUYING / RECEIVING / POSSESSING",
          "STOLEN PROPERTY - BUYING / RECEIVING / POSSESSING",
          "STOLEN PROPERTY - BUYING / RECEIVING / POSSESSING",
          "STOLEN PROPERTY - BUYING / RECEIVING / POSSESSING",
          "SUDDEN DEATH",
          "SUDDEN DEATH",
          "SUDDEN DEATH",
          "SUDDEN DEATH",
          "SUDDEN DEATH",
          "SUDDEN DEATH",
          "SUDDEN DEATH",
          "SUDDEN DEATH",
          "SUDDEN DEATH",
          "SUICIDE / SUICIDE ATTEMPT",
          "SUICIDE / SUICIDE ATTEMPT",
          "SUICIDE / SUICIDE ATTEMPT",
          "SUICIDE / SUICIDE ATTEMPT",
          "SUICIDE / SUICIDE ATTEMPT",
          "SUICIDE / SUICIDE ATTEMPT",
          "SUICIDE / SUICIDE ATTEMPT",
          "SUICIDE / SUICIDE ATTEMPT",
          "THREATS TO DO BODILY HARM",
          "THREATS TO DO BODILY HARM",
          "THREATS TO DO BODILY HARM",
          "THREATS TO DO BODILY HARM",
          "THREATS TO DO BODILY HARM",
          "THREATS TO DO BODILY HARM",
          "THREATS TO DO BODILY HARM",
          "THREATS TO DO BODILY HARM",
          "THREATS TO DO BODILY HARM",
          "TOWED MOTOR VEHICLE",
          "TOWED MOTOR VEHICLE",
          "TOWED MOTOR VEHICLE",
          "TOWED MOTOR VEHICLE",
          "TOWED MOTOR VEHICLE",
          "TOWED MOTOR VEHICLE",
          "TOWED MOTOR VEHICLE",
          "TOWED MOTOR VEHICLE",
          "TOWED MOTOR VEHICLE",
          "TRESPASSING",
          "TRESPASSING",
          "TRESPASSING",
          "TRESPASSING",
          "TRESPASSING",
          "TRESPASSING",
          "TRESPASSING",
          "TRESPASSING",
          "TRESPASSING",
          "TRUANCY / RUNAWAY",
          "TRUANCY / RUNAWAY",
          "TRUANCY / RUNAWAY",
          "VAL - OPERATING AFTER REV/SUSP.",
          "VAL - OPERATING AFTER REV/SUSP.",
          "VAL - OPERATING AFTER REV/SUSP.",
          "VAL - OPERATING AFTER REV/SUSP.",
          "VAL - OPERATING AFTER REV/SUSP.",
          "VAL - OPERATING AFTER REV/SUSP.",
          "VAL - OPERATING AFTER REV/SUSP.",
          "VAL - OPERATING AFTER REV/SUSP.",
          "VAL - OPERATING AFTER REV/SUSP.",
          "VAL - OPERATING AFTER REV/SUSP.",
          "VAL - OPERATING UNREG/UNINS  CAR",
          "VAL - OPERATING UNREG/UNINS  CAR",
          "VAL - OPERATING UNREG/UNINS  CAR",
          "VAL - OPERATING UNREG/UNINS  CAR",
          "VAL - OPERATING UNREG/UNINS  CAR",
          "VAL - OPERATING UNREG/UNINS  CAR",
          "VAL - OPERATING UNREG/UNINS  CAR",
          "VAL - OPERATING UNREG/UNINS  CAR",
          "VAL - OPERATING W/O AUTHORIZATION LAWFUL",
          "VAL - OPERATING W/O AUTHORIZATION LAWFUL",
          "VAL - OPERATING W/O AUTHORIZATION LAWFUL",
          "VAL - OPERATING W/O AUTHORIZATION LAWFUL",
          "VAL - OPERATING W/O AUTHORIZATION LAWFUL",
          "VAL - OPERATING W/O AUTHORIZATION LAWFUL",
          "VAL - OPERATING W/O AUTHORIZATION LAWFUL",
          "VAL - OPERATING W/O AUTHORIZATION LAWFUL",
          "VAL - OPERATING WITHOUT LICENSE",
          "VAL - OPERATING WITHOUT LICENSE",
          "VAL - OPERATING WITHOUT LICENSE",
          "VAL - OPERATING WITHOUT LICENSE",
          "VAL - OPERATING WITHOUT LICENSE",
          "VAL - OPERATING WITHOUT LICENSE",
          "VAL - OPERATING WITHOUT LICENSE",
          "VAL - OPERATING WITHOUT LICENSE",
          "VAL - OPERATING WITHOUT LICENSE",
          "VAL - VIOLATION OF AUTO LAW - OTHER",
          "VAL - VIOLATION OF AUTO LAW - OTHER",
          "VAL - VIOLATION OF AUTO LAW - OTHER",
          "VAL - VIOLATION OF AUTO LAW - OTHER",
          "VAL - VIOLATION OF AUTO LAW - OTHER",
          "VAL - VIOLATION OF AUTO LAW - OTHER",
          "VAL - VIOLATION OF AUTO LAW - OTHER",
          "VAL - VIOLATION OF AUTO LAW - OTHER",
          "VAL - VIOLATION OF AUTO LAW - OTHER",
          "VANDALISM",
          "VANDALISM",
          "VANDALISM",
          "VANDALISM",
          "VANDALISM",
          "VANDALISM",
          "VANDALISM",
          "VANDALISM",
          "VANDALISM",
          "VERBAL DISPUTE",
          "VERBAL DISPUTE",
          "VERBAL DISPUTE",
          "VERBAL DISPUTE",
          "VERBAL DISPUTE",
          "VERBAL DISPUTE",
          "VERBAL DISPUTE",
          "VERBAL DISPUTE",
          "VERBAL DISPUTE",
          "VIOL. OF RESTRAINING ORDER W ARREST",
          "VIOL. OF RESTRAINING ORDER W ARREST",
          "VIOL. OF RESTRAINING ORDER W ARREST",
          "VIOL. OF RESTRAINING ORDER W ARREST",
          "VIOL. OF RESTRAINING ORDER W ARREST",
          "VIOL. OF RESTRAINING ORDER W ARREST",
          "VIOL. OF RESTRAINING ORDER W ARREST",
          "VIOL. OF RESTRAINING ORDER W ARREST",
          "VIOL. OF RESTRAINING ORDER W ARREST",
          "VIOL. OF RESTRAINING ORDER W NO ARREST",
          "VIOL. OF RESTRAINING ORDER W NO ARREST",
          "VIOL. OF RESTRAINING ORDER W NO ARREST",
          "VIOL. OF RESTRAINING ORDER W NO ARREST",
          "VIOL. OF RESTRAINING ORDER W NO ARREST",
          "VIOL. OF RESTRAINING ORDER W NO ARREST",
          "VIOL. OF RESTRAINING ORDER W NO ARREST",
          "VIOL. OF RESTRAINING ORDER W NO ARREST",
          "VIOL. OF RESTRAINING ORDER W NO ARREST",
          "VIOLATION - CITY ORDINANCE",
          "VIOLATION - CITY ORDINANCE",
          "VIOLATION - CITY ORDINANCE",
          "VIOLATION - CITY ORDINANCE",
          "VIOLATION - CITY ORDINANCE",
          "VIOLATION - CITY ORDINANCE",
          "VIOLATION - CITY ORDINANCE",
          "VIOLATION - CITY ORDINANCE",
          "VIOLATION - CITY ORDINANCE CONSTRUCTION PERMIT",
          "VIOLATION - CITY ORDINANCE CONSTRUCTION PERMIT",
          "VIOLATION - CITY ORDINANCE CONSTRUCTION PERMIT",
          "VIOLATION - CITY ORDINANCE CONSTRUCTION PERMIT",
          "VIOLATION - HAWKER AND PEDDLER",
          "VIOLATION - HAWKER AND PEDDLER",
          "VIOLATION - HAWKER AND PEDDLER",
          "WARRANT ARREST",
          "WARRANT ARREST",
          "WARRANT ARREST",
          "WARRANT ARREST",
          "WARRANT ARREST",
          "WARRANT ARREST",
          "WARRANT ARREST",
          "WARRANT ARREST",
          "WARRANT ARREST",
          "WEAPON - FIREARM - CARRYING / POSSESSING, ETC",
          "WEAPON - FIREARM - CARRYING / POSSESSING, ETC",
          "WEAPON - FIREARM - CARRYING / POSSESSING, ETC",
          "WEAPON - FIREARM - CARRYING / POSSESSING, ETC",
          "WEAPON - FIREARM - CARRYING / POSSESSING, ETC",
          "WEAPON - FIREARM - CARRYING / POSSESSING, ETC",
          "WEAPON - FIREARM - CARRYING / POSSESSING, ETC",
          "WEAPON - FIREARM - CARRYING / POSSESSING, ETC",
          "WEAPON - FIREARM - CARRYING / POSSESSING, ETC",
          "WEAPON - FIREARM - OTHER VIOLATION",
          "WEAPON - FIREARM - OTHER VIOLATION",
          "WEAPON - FIREARM - OTHER VIOLATION",
          "WEAPON - FIREARM - OTHER VIOLATION",
          "WEAPON - FIREARM - OTHER VIOLATION",
          "WEAPON - FIREARM - OTHER VIOLATION",
          "WEAPON - FIREARM - OTHER VIOLATION",
          "WEAPON - FIREARM - OTHER VIOLATION",
          "WEAPON - FIREARM - SALE / TRAFFICKING",
          "WEAPON - OTHER - CARRYING / POSSESSING, ETC",
          "WEAPON - OTHER - CARRYING / POSSESSING, ETC",
          "WEAPON - OTHER - CARRYING / POSSESSING, ETC",
          "WEAPON - OTHER - CARRYING / POSSESSING, ETC",
          "WEAPON - OTHER - CARRYING / POSSESSING, ETC",
          "WEAPON - OTHER - CARRYING / POSSESSING, ETC",
          "WEAPON - OTHER - CARRYING / POSSESSING, ETC",
          "WEAPON - OTHER - CARRYING / POSSESSING, ETC",
          "WEAPON - OTHER - CARRYING / POSSESSING, ETC",
          "WEAPON - OTHER - OTHER VIOLATION",
          "WEAPON - OTHER - OTHER VIOLATION",
          "WEAPON - OTHER - OTHER VIOLATION",
          "WEAPON - OTHER - OTHER VIOLATION",
          "WEAPON - OTHER - OTHER VIOLATION",
          "WEAPON - OTHER - OTHER VIOLATION",
          "WEAPON - OTHER - OTHER VIOLATION",
          "WEAPON - OTHER - OTHER VIOLATION",
          "WEAPON - OTHER - OTHER VIOLATION",
          "1",
          "1",
          "1",
          "2",
          "2",
          "2",
          "3",
          "3",
          "3",
          "4",
          "4",
          "4",
          "5",
          "5",
          "6",
          "6",
          "6",
          "7",
          "7",
          "7",
          "7",
          "8",
          "8",
          "8",
          "8",
          "9",
          "9",
          "10",
          "10",
          "11",
          "11",
          "12",
          "12",
          "12",
          "2015",
          "2016",
          "2017",
          "2018",
          "all"
         ],
         "name": "",
         "parents": [
          "all/2016/10",
          "all/2017/3",
          "all/2018/1",
          "all/2018/2",
          "all/2018/4",
          "all/2018/7",
          "all/2018/1",
          "all/2018/2",
          "all/2018/3",
          "all/2018/4",
          "all/2018/5",
          "all/2018/6",
          "all/2018/7",
          "all/2018/8",
          "all/2018/9",
          "all/2018/1",
          "all/2018/3",
          "all/2018/5",
          "all/2018/7",
          "all/2018/1",
          "all/2018/2",
          "all/2018/4",
          "all/2018/5",
          "all/2018/6",
          "all/2018/7",
          "all/2018/8",
          "all/2018/1",
          "all/2018/2",
          "all/2018/3",
          "all/2018/4",
          "all/2018/5",
          "all/2018/6",
          "all/2018/7",
          "all/2018/8",
          "all/2018/9",
          "all/2018/1",
          "all/2018/2",
          "all/2018/3",
          "all/2018/4",
          "all/2018/5",
          "all/2018/6",
          "all/2018/7",
          "all/2018/8",
          "all/2018/9",
          "all/2018/1",
          "all/2018/3",
          "all/2018/4",
          "all/2018/5",
          "all/2018/6",
          "all/2018/7",
          "all/2018/8",
          "all/2018/1",
          "all/2018/3",
          "all/2018/4",
          "all/2018/6",
          "all/2018/7",
          "all/2018/8",
          "all/2018/9",
          "all/2016/1",
          "all/2016/1",
          "all/2016/6",
          "all/2016/10",
          "all/2018/1",
          "all/2018/2",
          "all/2018/3",
          "all/2018/4",
          "all/2018/5",
          "all/2018/6",
          "all/2018/7",
          "all/2018/8",
          "all/2018/9",
          "all/2018/1",
          "all/2018/2",
          "all/2018/3",
          "all/2018/4",
          "all/2018/5",
          "all/2018/6",
          "all/2018/7",
          "all/2018/8",
          "all/2018/9",
          "all/2018/1",
          "all/2018/2",
          "all/2018/3",
          "all/2018/4",
          "all/2018/5",
          "all/2018/6",
          "all/2018/7",
          "all/2018/8",
          "all/2018/9",
          "all/2015/8",
          "all/2018/1",
          "all/2018/2",
          "all/2018/3",
          "all/2018/4",
          "all/2018/5",
          "all/2018/6",
          "all/2018/7",
          "all/2018/8",
          "all/2018/9",
          "all/2018/1",
          "all/2018/2",
          "all/2018/3",
          "all/2018/4",
          "all/2018/5",
          "all/2018/6",
          "all/2018/7",
          "all/2018/8",
          "all/2018/9",
          "all/2018/1",
          "all/2018/2",
          "all/2018/3",
          "all/2018/4",
          "all/2018/5",
          "all/2018/6",
          "all/2018/7",
          "all/2018/8",
          "all/2018/1",
          "all/2018/2",
          "all/2018/3",
          "all/2018/4",
          "all/2018/5",
          "all/2018/6",
          "all/2018/7",
          "all/2018/8",
          "all/2018/9",
          "all/2016/3",
          "all/2016/11",
          "all/2016/11",
          "all/2015/12",
          "all/2015/7",
          "all/2016/1",
          "all/2015/8",
          "all/2018/1",
          "all/2018/2",
          "all/2018/3",
          "all/2018/4",
          "all/2018/5",
          "all/2018/6",
          "all/2018/7",
          "all/2018/8",
          "all/2018/9",
          "all/2017/9",
          "all/2017/12",
          "all/2018/1",
          "all/2018/2",
          "all/2018/3",
          "all/2018/4",
          "all/2018/5",
          "all/2018/6",
          "all/2018/7",
          "all/2018/8",
          "all/2018/9",
          "all/2018/1",
          "all/2018/2",
          "all/2018/3",
          "all/2018/4",
          "all/2018/6",
          "all/2018/8",
          "all/2018/1",
          "all/2018/2",
          "all/2018/3",
          "all/2018/4",
          "all/2018/5",
          "all/2018/6",
          "all/2018/7",
          "all/2018/8",
          "all/2018/1",
          "all/2018/2",
          "all/2018/3",
          "all/2018/4",
          "all/2018/5",
          "all/2018/6",
          "all/2018/7",
          "all/2018/8",
          "all/2018/2",
          "all/2018/4",
          "all/2018/5",
          "all/2018/6",
          "all/2018/7",
          "all/2018/8",
          "all/2018/9",
          "all/2018/1",
          "all/2018/2",
          "all/2018/3",
          "all/2018/4",
          "all/2018/5",
          "all/2018/6",
          "all/2018/7",
          "all/2018/8",
          "all/2018/1",
          "all/2018/2",
          "all/2018/3",
          "all/2018/4",
          "all/2018/5",
          "all/2018/6",
          "all/2018/7",
          "all/2018/1",
          "all/2018/2",
          "all/2018/3",
          "all/2018/4",
          "all/2018/5",
          "all/2018/6",
          "all/2018/7",
          "all/2018/8",
          "all/2018/1",
          "all/2018/2",
          "all/2018/3",
          "all/2018/4",
          "all/2018/5",
          "all/2018/6",
          "all/2018/7",
          "all/2018/8",
          "all/2018/9",
          "all/2018/1",
          "all/2018/2",
          "all/2018/3",
          "all/2018/4",
          "all/2018/5",
          "all/2018/6",
          "all/2018/7",
          "all/2018/8",
          "all/2018/9",
          "all/2018/2",
          "all/2018/3",
          "all/2018/4",
          "all/2018/5",
          "all/2018/1",
          "all/2018/2",
          "all/2018/3",
          "all/2018/4",
          "all/2018/5",
          "all/2018/6",
          "all/2018/7",
          "all/2018/8",
          "all/2018/1",
          "all/2018/2",
          "all/2018/3",
          "all/2018/4",
          "all/2018/5",
          "all/2018/6",
          "all/2018/7",
          "all/2018/8",
          "all/2018/2",
          "all/2018/7",
          "all/2018/8",
          "all/2018/1",
          "all/2018/2",
          "all/2018/6",
          "all/2018/8",
          "all/2018/6",
          "all/2018/1",
          "all/2018/2",
          "all/2018/3",
          "all/2018/4",
          "all/2018/5",
          "all/2018/6",
          "all/2018/7",
          "all/2018/8",
          "all/2017/2",
          "all/2017/6",
          "all/2017/7",
          "all/2017/11",
          "all/2018/1",
          "all/2018/3",
          "all/2018/4",
          "all/2018/5",
          "all/2018/6",
          "all/2018/7",
          "all/2018/8",
          "all/2018/9",
          "all/2018/1",
          "all/2018/2",
          "all/2018/3",
          "all/2018/4",
          "all/2018/5",
          "all/2018/6",
          "all/2018/7",
          "all/2018/8",
          "all/2018/9",
          "all/2018/1",
          "all/2018/2",
          "all/2018/3",
          "all/2018/4",
          "all/2018/5",
          "all/2018/6",
          "all/2018/7",
          "all/2018/8",
          "all/2018/9",
          "all/2018/1",
          "all/2018/2",
          "all/2018/3",
          "all/2018/4",
          "all/2018/5",
          "all/2018/6",
          "all/2018/7",
          "all/2018/8",
          "all/2018/9",
          "all/2018/1",
          "all/2018/2",
          "all/2018/3",
          "all/2018/4",
          "all/2018/5",
          "all/2018/6",
          "all/2018/7",
          "all/2018/8",
          "all/2018/9",
          "all/2018/1",
          "all/2018/2",
          "all/2018/3",
          "all/2018/4",
          "all/2018/5",
          "all/2018/6",
          "all/2018/7",
          "all/2018/8",
          "all/2018/1",
          "all/2018/2",
          "all/2018/3",
          "all/2018/4",
          "all/2018/5",
          "all/2018/6",
          "all/2018/7",
          "all/2018/8",
          "all/2018/9",
          "all/2018/4",
          "all/2018/5",
          "all/2018/7",
          "all/2018/2",
          "all/2018/4",
          "all/2018/5",
          "all/2018/6",
          "all/2018/7",
          "all/2016/12",
          "all/2018/1",
          "all/2018/2",
          "all/2018/3",
          "all/2018/4",
          "all/2018/5",
          "all/2018/6",
          "all/2018/7",
          "all/2018/8",
          "all/2018/9",
          "all/2018/1",
          "all/2018/2",
          "all/2018/3",
          "all/2018/4",
          "all/2018/5",
          "all/2018/6",
          "all/2018/7",
          "all/2018/8",
          "all/2018/9",
          "all/2018/1",
          "all/2018/2",
          "all/2018/3",
          "all/2018/4",
          "all/2018/5",
          "all/2018/6",
          "all/2018/7",
          "all/2018/8",
          "all/2018/9",
          "all/2018/1",
          "all/2018/2",
          "all/2018/3",
          "all/2018/4",
          "all/2018/5",
          "all/2018/6",
          "all/2018/7",
          "all/2018/8",
          "all/2018/9",
          "all/2018/1",
          "all/2018/2",
          "all/2018/3",
          "all/2018/4",
          "all/2018/5",
          "all/2018/6",
          "all/2018/7",
          "all/2018/8",
          "all/2018/9",
          "all/2018/1",
          "all/2018/2",
          "all/2018/3",
          "all/2018/4",
          "all/2018/5",
          "all/2018/6",
          "all/2018/7",
          "all/2018/8",
          "all/2018/9",
          "all/2018/1",
          "all/2018/2",
          "all/2018/3",
          "all/2018/4",
          "all/2018/5",
          "all/2018/6",
          "all/2018/7",
          "all/2018/8",
          "all/2018/1",
          "all/2018/2",
          "all/2018/3",
          "all/2018/4",
          "all/2018/5",
          "all/2018/6",
          "all/2018/7",
          "all/2018/8",
          "all/2018/1",
          "all/2018/1",
          "all/2018/2",
          "all/2018/3",
          "all/2018/4",
          "all/2018/5",
          "all/2018/6",
          "all/2018/7",
          "all/2018/8",
          "all/2018/9",
          "all/2015/12",
          "all/2018/1",
          "all/2018/2",
          "all/2018/3",
          "all/2018/4",
          "all/2018/5",
          "all/2018/6",
          "all/2018/7",
          "all/2018/8",
          "all/2018/9",
          "all/2018/1",
          "all/2018/2",
          "all/2018/3",
          "all/2018/4",
          "all/2018/5",
          "all/2018/6",
          "all/2018/7",
          "all/2018/8",
          "all/2016/3",
          "all/2018/1",
          "all/2018/2",
          "all/2018/3",
          "all/2018/4",
          "all/2018/7",
          "all/2018/8",
          "all/2018/9",
          "all/2018/1",
          "all/2018/2",
          "all/2018/3",
          "all/2018/4",
          "all/2018/5",
          "all/2018/7",
          "all/2018/1",
          "all/2018/2",
          "all/2018/3",
          "all/2018/4",
          "all/2018/5",
          "all/2018/6",
          "all/2018/7",
          "all/2018/8",
          "all/2018/9",
          "all/2018/1",
          "all/2018/2",
          "all/2018/3",
          "all/2018/4",
          "all/2018/5",
          "all/2018/6",
          "all/2018/7",
          "all/2018/8",
          "all/2018/9",
          "all/2018/1",
          "all/2018/3",
          "all/2018/4",
          "all/2018/5",
          "all/2018/6",
          "all/2018/7",
          "all/2018/8",
          "all/2018/1",
          "all/2018/2",
          "all/2018/3",
          "all/2018/4",
          "all/2018/5",
          "all/2018/6",
          "all/2018/7",
          "all/2018/8",
          "all/2018/9",
          "all/2018/1",
          "all/2018/2",
          "all/2018/3",
          "all/2018/4",
          "all/2018/5",
          "all/2018/6",
          "all/2018/7",
          "all/2018/8",
          "all/2018/1",
          "all/2018/2",
          "all/2018/3",
          "all/2018/4",
          "all/2018/5",
          "all/2018/6",
          "all/2018/7",
          "all/2018/8",
          "all/2018/5",
          "all/2018/7",
          "all/2018/8",
          "all/2018/7",
          "all/2018/8",
          "all/2018/1",
          "all/2018/2",
          "all/2018/3",
          "all/2018/4",
          "all/2018/5",
          "all/2018/6",
          "all/2018/7",
          "all/2018/8",
          "all/2018/1",
          "all/2018/2",
          "all/2018/3",
          "all/2018/4",
          "all/2018/5",
          "all/2018/6",
          "all/2018/7",
          "all/2018/8",
          "all/2018/9",
          "all/2018/1",
          "all/2018/2",
          "all/2018/3",
          "all/2018/4",
          "all/2018/5",
          "all/2018/6",
          "all/2018/7",
          "all/2018/8",
          "all/2018/9",
          "all/2018/1",
          "all/2018/2",
          "all/2018/3",
          "all/2018/4",
          "all/2018/5",
          "all/2018/6",
          "all/2018/7",
          "all/2018/8",
          "all/2018/9",
          "all/2018/2",
          "all/2018/8",
          "all/2018/1",
          "all/2018/2",
          "all/2018/3",
          "all/2018/4",
          "all/2018/5",
          "all/2018/6",
          "all/2018/7",
          "all/2018/8",
          "all/2018/9",
          "all/2018/6",
          "all/2018/1",
          "all/2018/2",
          "all/2018/3",
          "all/2018/4",
          "all/2018/5",
          "all/2018/6",
          "all/2018/7",
          "all/2018/8",
          "all/2018/9",
          "all/2016/4",
          "all/2018/1",
          "all/2018/2",
          "all/2018/3",
          "all/2018/4",
          "all/2018/5",
          "all/2018/6",
          "all/2018/7",
          "all/2018/8",
          "all/2018/9",
          "all/2018/1",
          "all/2018/2",
          "all/2018/3",
          "all/2018/4",
          "all/2018/5",
          "all/2018/6",
          "all/2018/7",
          "all/2018/8",
          "all/2018/9",
          "all/2018/1",
          "all/2018/2",
          "all/2018/3",
          "all/2018/4",
          "all/2018/5",
          "all/2018/6",
          "all/2018/7",
          "all/2018/8",
          "all/2018/3",
          "all/2018/4",
          "all/2018/7",
          "all/2018/1",
          "all/2018/2",
          "all/2018/3",
          "all/2018/4",
          "all/2018/5",
          "all/2018/6",
          "all/2018/7",
          "all/2018/8",
          "all/2018/9",
          "all/2015/10",
          "all/2018/1",
          "all/2018/2",
          "all/2018/3",
          "all/2018/4",
          "all/2018/5",
          "all/2018/6",
          "all/2018/7",
          "all/2018/8",
          "all/2017/6",
          "all/2017/8",
          "all/2017/9",
          "all/2017/11",
          "all/2018/1",
          "all/2018/2",
          "all/2018/4",
          "all/2018/6",
          "all/2018/1",
          "all/2018/2",
          "all/2018/3",
          "all/2018/4",
          "all/2018/5",
          "all/2018/6",
          "all/2018/7",
          "all/2018/8",
          "all/2018/1",
          "all/2018/2",
          "all/2018/3",
          "all/2018/4",
          "all/2018/5",
          "all/2018/6",
          "all/2018/7",
          "all/2018/8",
          "all/2018/9",
          "all/2018/1",
          "all/2018/2",
          "all/2018/3",
          "all/2018/4",
          "all/2018/5",
          "all/2018/6",
          "all/2018/7",
          "all/2018/8",
          "all/2018/9",
          "all/2018/1",
          "all/2018/2",
          "all/2018/4",
          "all/2018/5",
          "all/2018/6",
          "all/2018/7",
          "all/2018/8",
          "all/2017/2",
          "all/2017/5",
          "all/2017/7",
          "all/2017/8",
          "all/2017/4",
          "all/2018/1",
          "all/2018/4",
          "all/2018/6",
          "all/2018/8",
          "all/2018/1",
          "all/2018/2",
          "all/2018/3",
          "all/2018/4",
          "all/2018/5",
          "all/2018/6",
          "all/2018/7",
          "all/2018/8",
          "all/2018/9",
          "all/2018/1",
          "all/2018/2",
          "all/2018/3",
          "all/2018/4",
          "all/2018/5",
          "all/2018/6",
          "all/2018/7",
          "all/2018/8",
          "all/2018/9",
          "all/2018/1",
          "all/2018/2",
          "all/2018/3",
          "all/2018/4",
          "all/2018/5",
          "all/2018/6",
          "all/2018/7",
          "all/2018/8",
          "all/2018/9",
          "all/2018/1",
          "all/2018/2",
          "all/2018/3",
          "all/2018/4",
          "all/2018/5",
          "all/2018/6",
          "all/2018/7",
          "all/2018/8",
          "all/2018/1",
          "all/2018/2",
          "all/2018/5",
          "all/2018/6",
          "all/2018/8",
          "all/2018/1",
          "all/2018/4",
          "all/2018/5",
          "all/2018/6",
          "all/2018/7",
          "all/2018/8",
          "all/2016/2",
          "all/2018/1",
          "all/2018/2",
          "all/2018/3",
          "all/2018/4",
          "all/2018/5",
          "all/2018/6",
          "all/2018/7",
          "all/2018/8",
          "all/2018/9",
          "all/2018/1",
          "all/2018/2",
          "all/2018/3",
          "all/2018/4",
          "all/2018/5",
          "all/2018/6",
          "all/2018/7",
          "all/2018/8",
          "all/2018/9",
          "all/2016/1",
          "all/2015/7",
          "all/2015/12",
          "all/2016/8",
          "all/2016/1",
          "all/2016/6",
          "all/2015/7",
          "all/2018/1",
          "all/2018/2",
          "all/2018/3",
          "all/2018/4",
          "all/2018/5",
          "all/2018/6",
          "all/2018/7",
          "all/2018/8",
          "all/2018/1",
          "all/2018/2",
          "all/2018/3",
          "all/2018/4",
          "all/2018/5",
          "all/2018/6",
          "all/2018/7",
          "all/2018/8",
          "all/2018/9",
          "all/2018/1",
          "all/2018/2",
          "all/2018/3",
          "all/2018/4",
          "all/2018/5",
          "all/2018/6",
          "all/2018/7",
          "all/2018/8",
          "all/2018/9",
          "all/2015/7",
          "all/2015/8",
          "all/2016/6",
          "all/2018/1",
          "all/2018/2",
          "all/2018/3",
          "all/2018/4",
          "all/2018/5",
          "all/2018/6",
          "all/2018/7",
          "all/2018/8",
          "all/2018/9",
          "all/2018/3",
          "all/2018/4",
          "all/2018/6",
          "all/2018/1",
          "all/2018/2",
          "all/2018/3",
          "all/2018/4",
          "all/2018/5",
          "all/2018/6",
          "all/2018/7",
          "all/2018/8",
          "all/2018/9",
          "all/2018/1",
          "all/2018/2",
          "all/2018/3",
          "all/2018/4",
          "all/2018/5",
          "all/2018/6",
          "all/2018/7",
          "all/2018/8",
          "all/2018/9",
          "all/2018/1",
          "all/2018/2",
          "all/2018/3",
          "all/2018/4",
          "all/2018/5",
          "all/2018/6",
          "all/2018/7",
          "all/2018/8",
          "all/2018/9",
          "all/2018/1",
          "all/2018/2",
          "all/2018/3",
          "all/2018/4",
          "all/2018/5",
          "all/2018/6",
          "all/2018/7",
          "all/2018/8",
          "all/2018/1",
          "all/2018/2",
          "all/2018/3",
          "all/2018/4",
          "all/2018/5",
          "all/2018/6",
          "all/2018/7",
          "all/2018/8",
          "all/2018/9",
          "all/2018/1",
          "all/2018/2",
          "all/2018/3",
          "all/2018/4",
          "all/2018/5",
          "all/2018/6",
          "all/2018/7",
          "all/2018/8",
          "all/2018/1",
          "all/2018/2",
          "all/2018/3",
          "all/2018/4",
          "all/2018/5",
          "all/2018/6",
          "all/2018/7",
          "all/2018/8",
          "all/2018/9",
          "all/2018/1",
          "all/2018/2",
          "all/2018/3",
          "all/2018/4",
          "all/2018/5",
          "all/2018/6",
          "all/2018/7",
          "all/2018/8",
          "all/2018/9",
          "all/2018/1",
          "all/2018/2",
          "all/2018/3",
          "all/2018/4",
          "all/2018/5",
          "all/2018/6",
          "all/2018/7",
          "all/2018/8",
          "all/2018/9",
          "all/2018/1",
          "all/2018/2",
          "all/2018/3",
          "all/2018/4",
          "all/2018/5",
          "all/2018/6",
          "all/2018/7",
          "all/2018/8",
          "all/2018/9",
          "all/2018/1",
          "all/2018/2",
          "all/2018/3",
          "all/2018/4",
          "all/2018/5",
          "all/2018/6",
          "all/2018/7",
          "all/2018/8",
          "all/2018/9",
          "all/2018/1",
          "all/2018/2",
          "all/2018/3",
          "all/2018/4",
          "all/2018/5",
          "all/2018/6",
          "all/2018/7",
          "all/2018/8",
          "all/2018/9",
          "all/2018/1",
          "all/2018/2",
          "all/2018/3",
          "all/2018/4",
          "all/2018/5",
          "all/2018/6",
          "all/2018/7",
          "all/2018/8",
          "all/2018/9",
          "all/2018/1",
          "all/2018/2",
          "all/2018/3",
          "all/2018/4",
          "all/2018/5",
          "all/2018/6",
          "all/2018/7",
          "all/2018/8",
          "all/2018/9",
          "all/2018/1",
          "all/2018/2",
          "all/2018/3",
          "all/2018/4",
          "all/2018/5",
          "all/2018/6",
          "all/2018/7",
          "all/2018/8",
          "all/2018/1",
          "all/2018/2",
          "all/2018/3",
          "all/2018/4",
          "all/2018/5",
          "all/2018/6",
          "all/2018/7",
          "all/2018/8",
          "all/2018/9",
          "all/2018/1",
          "all/2018/2",
          "all/2018/3",
          "all/2018/4",
          "all/2018/5",
          "all/2018/6",
          "all/2018/7",
          "all/2018/8",
          "all/2018/9",
          "all/2018/1",
          "all/2018/2",
          "all/2018/3",
          "all/2018/4",
          "all/2018/5",
          "all/2018/6",
          "all/2018/7",
          "all/2018/8",
          "all/2018/9",
          "all/2017/6",
          "all/2017/2",
          "all/2017/12",
          "all/2018/1",
          "all/2018/2",
          "all/2018/3",
          "all/2018/4",
          "all/2018/5",
          "all/2018/6",
          "all/2018/7",
          "all/2018/8",
          "all/2018/9",
          "all/2018/1",
          "all/2018/2",
          "all/2018/3",
          "all/2018/4",
          "all/2018/5",
          "all/2018/6",
          "all/2018/7",
          "all/2018/8",
          "all/2018/9",
          "all/2018/1",
          "all/2018/2",
          "all/2018/3",
          "all/2018/4",
          "all/2018/5",
          "all/2018/6",
          "all/2018/7",
          "all/2018/8",
          "all/2018/1",
          "all/2018/2",
          "all/2018/3",
          "all/2018/4",
          "all/2018/5",
          "all/2018/6",
          "all/2018/7",
          "all/2018/8",
          "all/2018/2",
          "all/2018/6",
          "all/2018/7",
          "all/2018/1",
          "all/2018/2",
          "all/2018/3",
          "all/2018/4",
          "all/2018/5",
          "all/2018/6",
          "all/2018/7",
          "all/2018/8",
          "all/2018/1",
          "all/2018/2",
          "all/2018/3",
          "all/2018/4",
          "all/2018/5",
          "all/2018/6",
          "all/2018/7",
          "all/2018/8",
          "all/2018/1",
          "all/2018/2",
          "all/2018/4",
          "all/2018/5",
          "all/2018/6",
          "all/2018/7",
          "all/2018/1",
          "all/2018/2",
          "all/2018/3",
          "all/2018/4",
          "all/2018/5",
          "all/2018/6",
          "all/2018/7",
          "all/2018/8",
          "all/2018/9",
          "all/2018/1",
          "all/2018/2",
          "all/2018/4",
          "all/2018/5",
          "all/2018/6",
          "all/2018/7",
          "all/2018/8",
          "all/2018/1",
          "all/2018/2",
          "all/2018/3",
          "all/2018/4",
          "all/2018/5",
          "all/2018/6",
          "all/2018/7",
          "all/2018/8",
          "all/2018/9",
          "all/2018/1",
          "all/2018/2",
          "all/2018/3",
          "all/2018/4",
          "all/2018/5",
          "all/2018/6",
          "all/2018/7",
          "all/2018/8",
          "all/2018/1",
          "all/2018/2",
          "all/2018/4",
          "all/2018/5",
          "all/2017/11",
          "all/2018/4",
          "all/2018/7",
          "all/2018/1",
          "all/2018/2",
          "all/2018/3",
          "all/2018/4",
          "all/2018/5",
          "all/2018/6",
          "all/2018/7",
          "all/2018/8",
          "all/2018/9",
          "all/2018/4",
          "all/2018/5",
          "all/2018/1",
          "all/2018/2",
          "all/2018/3",
          "all/2018/4",
          "all/2018/5",
          "all/2018/6",
          "all/2018/7",
          "all/2018/8",
          "all/2018/9",
          "all/2018/1",
          "all/2018/2",
          "all/2018/3",
          "all/2018/4",
          "all/2018/5",
          "all/2018/6",
          "all/2018/7",
          "all/2018/8",
          "all/2018/9",
          "all/2018/1",
          "all/2018/2",
          "all/2018/3",
          "all/2018/4",
          "all/2018/5",
          "all/2018/6",
          "all/2018/7",
          "all/2018/8",
          "all/2018/1",
          "all/2018/2",
          "all/2018/3",
          "all/2018/4",
          "all/2018/5",
          "all/2018/6",
          "all/2018/7",
          "all/2018/8",
          "all/2016/11",
          "all/2016/12",
          "all/2018/1",
          "all/2018/2",
          "all/2018/3",
          "all/2018/4",
          "all/2018/5",
          "all/2018/6",
          "all/2018/7",
          "all/2018/8",
          "all/2017/1",
          "all/2017/3",
          "all/2017/4",
          "all/2017/5",
          "all/2017/6",
          "all/2017/7",
          "all/2017/8",
          "all/2017/9",
          "all/2017/11",
          "all/2017/12",
          "all/2017/3",
          "all/2018/8",
          "all/2018/1",
          "all/2018/2",
          "all/2018/6",
          "all/2018/7",
          "all/2018/2",
          "all/2018/3",
          "all/2018/5",
          "all/2018/1",
          "all/2018/2",
          "all/2018/3",
          "all/2018/4",
          "all/2018/5",
          "all/2018/6",
          "all/2018/7",
          "all/2018/8",
          "all/2018/9",
          "all/2018/1",
          "all/2018/3",
          "all/2018/4",
          "all/2018/5",
          "all/2018/6",
          "all/2018/7",
          "all/2018/9",
          "all/2018/1",
          "all/2018/2",
          "all/2018/3",
          "all/2018/4",
          "all/2018/5",
          "all/2018/6",
          "all/2018/7",
          "all/2018/8",
          "all/2018/1",
          "all/2018/2",
          "all/2018/3",
          "all/2018/4",
          "all/2018/5",
          "all/2018/6",
          "all/2018/7",
          "all/2018/1",
          "all/2018/2",
          "all/2018/3",
          "all/2018/4",
          "all/2018/5",
          "all/2018/6",
          "all/2018/7",
          "all/2018/8",
          "all/2018/9",
          "all/2018/1",
          "all/2018/2",
          "all/2018/3",
          "all/2018/4",
          "all/2018/5",
          "all/2018/6",
          "all/2018/7",
          "all/2018/8",
          "all/2018/9",
          "all/2018/1",
          "all/2018/2",
          "all/2018/4",
          "all/2018/5",
          "all/2018/6",
          "all/2018/7",
          "all/2018/8",
          "all/2015/8",
          "all/2018/1",
          "all/2018/2",
          "all/2018/3",
          "all/2018/4",
          "all/2018/5",
          "all/2018/6",
          "all/2018/7",
          "all/2018/8",
          "all/2018/9",
          "all/2018/1",
          "all/2018/2",
          "all/2018/3",
          "all/2018/4",
          "all/2018/5",
          "all/2018/6",
          "all/2018/7",
          "all/2018/8",
          "all/2018/9",
          "all/2015/7",
          "all/2018/7",
          "all/2016/2",
          "all/2017/2",
          "all/2015/8",
          "all/2018/1",
          "all/2018/2",
          "all/2018/3",
          "all/2018/4",
          "all/2018/5",
          "all/2018/6",
          "all/2018/7",
          "all/2018/8",
          "all/2018/1",
          "all/2018/2",
          "all/2018/3",
          "all/2018/4",
          "all/2018/5",
          "all/2018/6",
          "all/2018/7",
          "all/2018/8",
          "all/2018/9",
          "all/2018/1",
          "all/2018/2",
          "all/2018/3",
          "all/2018/4",
          "all/2018/5",
          "all/2018/6",
          "all/2018/7",
          "all/2018/8",
          "all/2018/1",
          "all/2018/2",
          "all/2018/3",
          "all/2018/4",
          "all/2018/5",
          "all/2018/6",
          "all/2018/7",
          "all/2018/8",
          "all/2018/9",
          "all/2018/1",
          "all/2018/2",
          "all/2018/3",
          "all/2018/4",
          "all/2018/5",
          "all/2018/6",
          "all/2018/7",
          "all/2018/8",
          "all/2018/9",
          "all/2018/1",
          "all/2018/3",
          "all/2018/4",
          "all/2018/6",
          "all/2018/7",
          "all/2018/8",
          "all/2018/1",
          "all/2018/2",
          "all/2018/3",
          "all/2018/4",
          "all/2018/5",
          "all/2018/6",
          "all/2018/7",
          "all/2018/8",
          "all/2018/1",
          "all/2018/2",
          "all/2018/3",
          "all/2018/4",
          "all/2018/5",
          "all/2018/6",
          "all/2018/7",
          "all/2018/8",
          "all/2018/9",
          "all/2018/1",
          "all/2018/2",
          "all/2018/3",
          "all/2018/4",
          "all/2018/5",
          "all/2018/6",
          "all/2018/7",
          "all/2018/8",
          "all/2018/1",
          "all/2018/2",
          "all/2018/3",
          "all/2018/4",
          "all/2018/5",
          "all/2018/6",
          "all/2018/7",
          "all/2018/8",
          "all/2018/9",
          "all/2018/1",
          "all/2018/2",
          "all/2018/3",
          "all/2018/4",
          "all/2018/5",
          "all/2018/6",
          "all/2018/7",
          "all/2018/8",
          "all/2018/9",
          "all/2018/1",
          "all/2018/2",
          "all/2018/3",
          "all/2018/4",
          "all/2018/5",
          "all/2018/6",
          "all/2018/7",
          "all/2018/8",
          "all/2018/9",
          "all/2018/3",
          "all/2018/4",
          "all/2018/5",
          "all/2018/1",
          "all/2018/2",
          "all/2018/3",
          "all/2018/4",
          "all/2018/5",
          "all/2018/6",
          "all/2016/7",
          "all/2018/7",
          "all/2018/8",
          "all/2018/9",
          "all/2018/1",
          "all/2018/2",
          "all/2018/3",
          "all/2018/4",
          "all/2018/5",
          "all/2018/6",
          "all/2018/7",
          "all/2018/8",
          "all/2018/1",
          "all/2018/2",
          "all/2018/3",
          "all/2018/4",
          "all/2018/5",
          "all/2018/6",
          "all/2018/7",
          "all/2018/8",
          "all/2018/1",
          "all/2018/2",
          "all/2018/3",
          "all/2018/4",
          "all/2018/5",
          "all/2018/6",
          "all/2018/7",
          "all/2018/8",
          "all/2018/9",
          "all/2018/1",
          "all/2018/2",
          "all/2018/3",
          "all/2018/4",
          "all/2018/5",
          "all/2018/6",
          "all/2018/7",
          "all/2018/8",
          "all/2018/9",
          "all/2018/1",
          "all/2018/2",
          "all/2018/3",
          "all/2018/4",
          "all/2018/5",
          "all/2018/6",
          "all/2018/7",
          "all/2018/8",
          "all/2018/9",
          "all/2018/1",
          "all/2018/2",
          "all/2018/3",
          "all/2018/4",
          "all/2018/5",
          "all/2018/6",
          "all/2018/7",
          "all/2018/8",
          "all/2018/9",
          "all/2018/1",
          "all/2018/2",
          "all/2018/3",
          "all/2018/4",
          "all/2018/5",
          "all/2018/6",
          "all/2018/7",
          "all/2018/8",
          "all/2018/9",
          "all/2018/1",
          "all/2018/2",
          "all/2018/3",
          "all/2018/4",
          "all/2018/5",
          "all/2018/6",
          "all/2018/7",
          "all/2018/8",
          "all/2018/9",
          "all/2018/1",
          "all/2018/2",
          "all/2018/3",
          "all/2018/4",
          "all/2018/5",
          "all/2018/6",
          "all/2018/7",
          "all/2018/8",
          "all/2018/1",
          "all/2018/2",
          "all/2018/7",
          "all/2018/8",
          "all/2018/3",
          "all/2018/4",
          "all/2018/5",
          "all/2018/1",
          "all/2018/2",
          "all/2018/3",
          "all/2018/4",
          "all/2018/5",
          "all/2018/6",
          "all/2018/7",
          "all/2018/8",
          "all/2018/9",
          "all/2018/1",
          "all/2018/2",
          "all/2018/3",
          "all/2018/4",
          "all/2018/5",
          "all/2018/6",
          "all/2018/7",
          "all/2018/8",
          "all/2018/9",
          "all/2018/1",
          "all/2018/2",
          "all/2018/3",
          "all/2018/4",
          "all/2018/5",
          "all/2018/6",
          "all/2018/7",
          "all/2018/8",
          "all/2018/4",
          "all/2018/1",
          "all/2018/2",
          "all/2018/3",
          "all/2018/4",
          "all/2018/5",
          "all/2018/6",
          "all/2018/7",
          "all/2018/8",
          "all/2018/9",
          "all/2018/1",
          "all/2018/2",
          "all/2018/3",
          "all/2018/4",
          "all/2018/5",
          "all/2018/6",
          "all/2018/7",
          "all/2018/8",
          "all/2018/9",
          "all/2016",
          "all/2017",
          "all/2018",
          "all/2016",
          "all/2017",
          "all/2018",
          "all/2016",
          "all/2017",
          "all/2018",
          "all/2016",
          "all/2017",
          "all/2018",
          "all/2017",
          "all/2018",
          "all/2016",
          "all/2017",
          "all/2018",
          "all/2015",
          "all/2016",
          "all/2017",
          "all/2018",
          "all/2015",
          "all/2016",
          "all/2017",
          "all/2018",
          "all/2017",
          "all/2018",
          "all/2015",
          "all/2016",
          "all/2016",
          "all/2017",
          "all/2015",
          "all/2016",
          "all/2017",
          "all",
          "all",
          "all",
          "all",
          ""
         ],
         "type": "treemap",
         "values": [
          1.5207043902735748e-05,
          1.5207043902735748e-05,
          6.082817561094299e-05,
          6.082817561094299e-05,
          6.082817561094299e-05,
          6.082817561094299e-05,
          0.0020681579707720614,
          0.0015511184780790462,
          0.004136315941544123,
          0.0036192764488511076,
          0.0015511184780790462,
          0.0025851974634650767,
          0.0010340789853860307,
          0.0005170394926930154,
          0.0005170394926930154,
          9.124226341641449e-05,
          9.124226341641449e-05,
          0.00027372679024924345,
          9.124226341641449e-05,
          0.0004257972292766009,
          0.00021289861463830045,
          0.0004257972292766009,
          0.0004257972292766009,
          0.0004257972292766009,
          0.0006386958439149014,
          0.0004257972292766009,
          0.004318800468376952,
          0.00539850058547119,
          0.004318800468376952,
          0.00539850058547119,
          0.015115801639319332,
          0.009717301053848142,
          0.014036101522225094,
          0.01619550175641357,
          0.002159400234188476,
          0.0017031889171064036,
          0.004257972292766009,
          0.0034063778342128073,
          0.008515944585532018,
          0.008515944585532018,
          0.011922322419744825,
          0.005961161209872412,
          0.0025547833756596056,
          0.0008515944585532018,
          0.0003193479219574507,
          0.0006386958439149014,
          0.0003193479219574507,
          0.0012773916878298028,
          0.0009580437658723521,
          0.0006386958439149014,
          0.0025547833756596056,
          0.0007755592390395231,
          0.0002585197463465077,
          0.0007755592390395231,
          0.0012925987317325383,
          0.0005170394926930154,
          0.0005170394926930154,
          0.0002585197463465077,
          1.5207043902735748e-05,
          4.562113170820724e-05,
          4.562113170820724e-05,
          4.562113170820724e-05,
          0.556942775893794,
          0.7061238765796317,
          0.8354141638406911,
          0.8155233504159127,
          1.0840493316504205,
          0.8950866041150262,
          0.9249228242521936,
          0.6166152161681291,
          0.06961784698672425,
          1.821195577791633,
          1.6542526498274002,
          1.4417798324183764,
          1.7604890585319122,
          2.0640216548305177,
          2.2764944722395413,
          2.124728174090239,
          1.7604890585319122,
          0.24282607703888442,
          0.12272084429507749,
          0.09817667543606198,
          0.12272084429507749,
          0.14726501315409296,
          0.18817196125245214,
          0.1554464027737648,
          0.14726501315409296,
          0.1022673702458979,
          0.016362779239343664,
          1.5207043902735748e-05,
          20.800802931918064,
          15.838683678279779,
          16.99149926245837,
          20.099089098070227,
          25.41206526863243,
          23.657780684012835,
          21.55263918246932,
          18.896151097188216,
          1.9547742514332638,
          0.83374138901139,
          0.5698991772989248,
          0.7493118812634012,
          0.8865098313538831,
          1.0553688468498608,
          1.2242278623458385,
          1.1292446661293511,
          0.780972946668897,
          0.09498319621648747,
          0.02910628202983622,
          0.013230128195380102,
          0.006615064097690051,
          0.00926108973676607,
          0.02116820511260816,
          0.01587615383445612,
          0.011907115375842091,
          0.00793807691722806,
          0.0069344120196475015,
          0.01849176538572667,
          0.0069344120196475015,
          0.011557353366079168,
          0.03698353077145334,
          0.07627853221612252,
          0.08783588558220168,
          0.09939323894828085,
          0.0069344120196475015,
          3.0414087805471495e-05,
          3.0414087805471495e-05,
          1.5207043902735748e-05,
          1.5207043902735748e-05,
          1.5207043902735748e-05,
          1.5207043902735748e-05,
          1.5207043902735748e-05,
          0.039462278927599265,
          0.0342006417372527,
          0.04209309752277255,
          0.0342006417372527,
          0.0684012834745054,
          0.09470946942623824,
          0.07892455785519853,
          0.05787800909381226,
          0.005261637190346569,
          3.0414087805471495e-05,
          3.0414087805471495e-05,
          0.00013686339512462172,
          0.00013686339512462172,
          0.00013686339512462172,
          0.00013686339512462172,
          0.00013686339512462172,
          0.00013686339512462172,
          0.00013686339512462172,
          0.00013686339512462172,
          0.00013686339512462172,
          0.0004257972292766009,
          0.0004257972292766009,
          0.0008515944585532018,
          0.00021289861463830045,
          0.0008515944585532018,
          0.00021289861463830045,
          0.03375963746407336,
          0.031508994966468466,
          0.024757067473653797,
          0.03601027996167825,
          0.06976991742575162,
          0.06076734743533205,
          0.049514134947307595,
          0.02700770997125869,
          0.008074940312352683,
          0.004486077951307046,
          0.004486077951307046,
          0.008972155902614092,
          0.007177724722091273,
          0.004486077951307046,
          0.006280509131829864,
          0.008972155902614092,
          0.00012165635122188598,
          0.00012165635122188598,
          0.00024331270244377196,
          0.00012165635122188598,
          0.00012165635122188598,
          0.00012165635122188598,
          0.00012165635122188598,
          0.0029197524293252636,
          0.0021898143219939476,
          0.004379628643987895,
          0.005839504858650527,
          0.006569442965981843,
          0.004379628643987895,
          0.005839504858650527,
          0.0029197524293252636,
          0.0015207043902735746,
          0.0015207043902735746,
          0.0011405282927051809,
          0.0007603521951367873,
          0.0026612326829787555,
          0.0011405282927051809,
          0.0007603521951367873,
          0.018400523122310254,
          0.011709423805106525,
          0.02509162243951398,
          0.018400523122310254,
          0.020073297951611186,
          0.03178272175671771,
          0.030109946927416777,
          0.028437172098115845,
          0.26721817545887255,
          0.23236363083380224,
          0.2614090846880275,
          0.2730272662297176,
          0.2904545385422528,
          0.37178180933408356,
          0.3194999923964781,
          0.19169999543788682,
          0.011618181541690111,
          0.23817272160464728,
          0.3543545370215484,
          0.21493635852126705,
          0.23817272160464728,
          0.25559999391718247,
          0.313690901625633,
          0.25559999391718247,
          0.3253090831673231,
          0.023236363083380222,
          0.00036496905366565794,
          0.00024331270244377196,
          0.00012165635122188598,
          0.00024331270244377196,
          0.0021441931902857403,
          0.0028589242537143205,
          0.0035736553171429007,
          0.005717848507428641,
          0.0071473106342858014,
          0.005003117444000061,
          0.0035736553171429007,
          0.0035736553171429007,
          0.0006082817561094299,
          0.003649690536656579,
          0.009124226341641447,
          0.0006082817561094299,
          0.0018248452683282896,
          0.003649690536656579,
          0.0024331270244377194,
          0.0024331270244377194,
          0.00015207043902735746,
          0.00015207043902735746,
          7.603521951367873e-05,
          0.00018248452683282897,
          0.00018248452683282897,
          9.124226341641449e-05,
          9.124226341641449e-05,
          1.5207043902735748e-05,
          0.0003953831414711294,
          0.0015815325658845177,
          0.0023722988488267763,
          0.0011861494244133882,
          0.0019769157073556472,
          0.0003953831414711294,
          0.0019769157073556472,
          0.0003953831414711294,
          6.082817561094299e-05,
          6.082817561094299e-05,
          6.082817561094299e-05,
          6.082817561094299e-05,
          0.056266062440122264,
          0.006751927492814672,
          0.0022506424976048906,
          0.003375963746407336,
          0.005626606244012226,
          0.005626606244012226,
          0.0022506424976048906,
          0.0011253212488024453,
          0.13856658404172814,
          0.12226463297799542,
          0.13856658404172814,
          0.10188719414832952,
          0.1426420718076613,
          0.1426420718076613,
          0.13449109627579497,
          0.1467175595735945,
          0.024452926595599084,
          0.0025091622439513983,
          0.008363874146504661,
          0.0025091622439513983,
          0.004181937073252331,
          0.0050183244879027965,
          0.008363874146504661,
          0.011709423805106525,
          0.0025091622439513983,
          0.000836387414650466,
          0.1447710579540443,
          0.11581684636323544,
          0.16958895360330903,
          0.14063474201250017,
          0.13649842607095605,
          0.1282257941878678,
          0.10340789853860308,
          0.15718000577867666,
          0.02895421159080886,
          0.048267157347283256,
          0.03567572499581806,
          0.02728143676150793,
          0.03987286911297313,
          0.03567572499581806,
          0.031478580878662996,
          0.03987286911297313,
          0.025182864702930394,
          0.006295716175732598,
          0.0020073297951611188,
          0.0035128271415319576,
          0.0040146595903222376,
          0.0020073297951611188,
          0.0010036648975805594,
          0.0005018324487902797,
          0.0020073297951611188,
          0.001505497346370839,
          0.007056068370869387,
          0.012348119649021426,
          0.006174059824510713,
          0.0035280341854346934,
          0.0017640170927173467,
          0.006174059824510713,
          0.0035280341854346934,
          0.009702094009945407,
          0.0008820085463586734,
          0.00012165635122188598,
          6.082817561094299e-05,
          6.082817561094299e-05,
          0.0005474535804984869,
          0.00027372679024924345,
          0.00013686339512462172,
          0.00013686339512462172,
          0.00013686339512462172,
          1.5207043902735748e-05,
          0.04882981797168449,
          0.03854985629343512,
          0.05396979881080917,
          0.061679770069496195,
          0.03597986587387278,
          0.07195973174774556,
          0.04111984671299746,
          0.07966970300643259,
          0.0025699904195623413,
          0.1814504478474429,
          0.1384753417783117,
          0.18622545963290194,
          0.16235040070560683,
          0.19577548320382,
          0.19100047141836096,
          0.26740065998570534,
          0.16712541249106586,
          0.009550023570918048,
          0.20705910977964995,
          0.19355525479402058,
          0.16204625982755214,
          0.13503854985629343,
          0.17555011481318147,
          0.18005139980839124,
          0.15754497483234234,
          0.11253212488024453,
          0.009002569990419563,
          0.5411882784105598,
          0.5761036512112411,
          0.5935613376115817,
          0.5673748080110708,
          0.6983074560136255,
          0.7506805152146475,
          0.6633920832129443,
          0.5673748080110708,
          0.05237305920102192,
          0.41027083745190773,
          0.5309387308201159,
          0.5068051521464743,
          0.6757402028619657,
          0.6837847290865129,
          0.5631168357183047,
          0.5389832570446631,
          0.3217810489818884,
          0.02413357867364163,
          0.012880366185617179,
          0.008196596663574569,
          0.012880366185617179,
          0.010538481424595873,
          0.010538481424595873,
          0.008196596663574569,
          0.015222250946638484,
          0.010538481424595873,
          0.0011709423805106526,
          0.002889338341519792,
          0.0034672060098237508,
          0.0011557353366079169,
          0.0023114706732158337,
          0.002889338341519792,
          0.0023114706732158337,
          0.0023114706732158337,
          0.004622941346431667,
          0.011435697014857282,
          0.011435697014857282,
          0.01858300764914308,
          0.017153545522285922,
          0.020012469776000245,
          0.014294621268571603,
          0.020012469776000245,
          0.021441931902857404,
          1.5207043902735748e-05,
          0.07192931765994008,
          0.0915464042944692,
          0.08827688985538101,
          0.0948159187335574,
          0.07519883209902828,
          0.08827688985538101,
          0.08827688985538101,
          0.10135494761173376,
          0.003269514439088186,
          1.5207043902735748e-05,
          0.018187624507671953,
          0.012591432351465199,
          0.01119238431241351,
          0.012591432351465199,
          0.025182864702930397,
          0.00979333627336182,
          0.01958667254672364,
          0.018187624507671953,
          0.0013990480390516887,
          0.0009124226341641448,
          0.0018248452683282896,
          0.0022810565854103617,
          0.0018248452683282896,
          0.0013686339512462172,
          0.0018248452683282896,
          0.0018248452683282896,
          0.0018248452683282896,
          1.5207043902735748e-05,
          0.0001976915707355647,
          0.0007907662829422589,
          0.0005930747122066941,
          0.0003953831414711294,
          0.0001976915707355647,
          0.0001976915707355647,
          0.0001976915707355647,
          0.00010644930731915023,
          0.00021289861463830045,
          0.00010644930731915023,
          0.00010644930731915023,
          0.00010644930731915023,
          0.00010644930731915023,
          0.13011146763180703,
          0.1385057558661172,
          0.2098572058577533,
          0.10912574704603172,
          0.1217171793974969,
          0.15109718821758236,
          0.20146291762344315,
          0.08394288234310132,
          0.012591432351465197,
          0.08079502425523502,
          0.12311622743654861,
          0.11926884532915646,
          0.1385057558661172,
          0.11157408111437218,
          0.13465837375872505,
          0.1385057558661172,
          0.11926884532915646,
          0.007694764214784288,
          0.005337672409860248,
          0.0011861494244133884,
          0.0011861494244133884,
          0.0047445976976535536,
          0.006523821834273636,
          0.0005930747122066942,
          0.0035584482732401654,
          0.017792241366200827,
          0.009489195395307107,
          0.015419942517374049,
          0.005930747122066942,
          0.008303045970893718,
          0.008303045970893718,
          0.014233793092960662,
          0.011861494244133883,
          0.0011861494244133884,
          0.005231223102541097,
          0.003269514439088186,
          0.0026156115512705486,
          0.003269514439088186,
          0.003923417326905823,
          0.003923417326905823,
          0.0026156115512705486,
          0.003269514439088186,
          0.010219133502638422,
          0.012773916878298028,
          0.011496525190468225,
          0.01788348362961724,
          0.016606091941787436,
          0.011496525190468225,
          0.012773916878298028,
          0.01405130856612783,
          6.082817561094299e-05,
          0.00012165635122188598,
          6.082817561094299e-05,
          9.124226341641449e-05,
          4.562113170820724e-05,
          0.0014598762146626318,
          0.0019465016195501757,
          0.0014598762146626318,
          0.0004866254048875439,
          0.0019465016195501757,
          0.0034063778342128077,
          0.0034063778342128077,
          0.0014598762146626318,
          0.02510682948341672,
          0.02703812405906416,
          0.02703812405906416,
          0.03090071321035904,
          0.040557186088596237,
          0.03090071321035904,
          0.02703812405906416,
          0.03476330236165392,
          0.00193129457564744,
          0.1500479021882936,
          0.11542146322176432,
          0.09233717057741146,
          0.13465837375872505,
          0.10003193479219574,
          0.09618455268480361,
          0.1308109916513329,
          0.13465837375872505,
          0.019236910536960722,
          0.0012773916878298028,
          0.0012773916878298028,
          0.0012773916878298028,
          0.0017031889171064036,
          0.0025547833756596056,
          0.0012773916878298028,
          0.0008515944585532018,
          0.0012773916878298028,
          0.0004257972292766009,
          3.0414087805471495e-05,
          3.0414087805471495e-05,
          0.03524992776654146,
          0.016697334205203848,
          0.014842074849070089,
          0.024118371629738893,
          0.029684149698140178,
          0.029684149698140178,
          0.03896044647880898,
          0.033394668410407696,
          0.003710518712267522,
          1.5207043902735748e-05,
          0.10010797001170943,
          0.10701196794355144,
          0.10010797001170943,
          0.08975197311394638,
          0.11391596587539349,
          0.10010797001170943,
          0.11046396690947247,
          0.05868398242065725,
          0.0034519989659210146,
          1.5207043902735748e-05,
          0.396903845861403,
          0.5000988457853678,
          0.5556653842059642,
          0.6191699995437887,
          0.5477273072887361,
          0.5556653842059642,
          0.46834653811645555,
          0.4921607688681397,
          0.00793807691722806,
          1.7951611186301493,
          1.7310482215362155,
          2.147782052646786,
          2.420261865296005,
          2.420261865296005,
          2.163810276920269,
          2.3721771924755544,
          1.7951611186301493,
          0.048084672820450425,
          0.05301175504493681,
          0.05301175504493681,
          0.04291427789352028,
          0.050487385757082684,
          0.050487385757082684,
          0.06563360148420748,
          0.05301175504493681,
          0.050487385757082684,
          4.562113170820724e-05,
          4.562113170820724e-05,
          4.562113170820724e-05,
          0.005930747122066942,
          0.007907662829422589,
          0.007907662829422589,
          0.007907662829422589,
          0.009884578536778236,
          0.0039538314147112945,
          0.010873036390456059,
          0.008896120683100413,
          0.0009884578536778236,
          1.5207043902735748e-05,
          0.006174059824510713,
          0.009702094009945407,
          0.00793807691722806,
          0.004410042731793367,
          0.004410042731793367,
          0.0035280341854346934,
          0.009702094009945407,
          0.00529205127815204,
          9.124226341641449e-05,
          9.124226341641449e-05,
          9.124226341641449e-05,
          0.00027372679024924345,
          0.00015207043902735746,
          7.603521951367873e-05,
          7.603521951367873e-05,
          7.603521951367873e-05,
          0.004197144117155066,
          0.0027980960781033774,
          0.003497620097629222,
          0.00489666813668091,
          0.003497620097629222,
          0.005596192156206755,
          0.006295716175732599,
          0.0013990480390516887,
          1.291762344317888,
          0.9103848902811783,
          1.181039857662069,
          1.5255098161468392,
          1.390182332456394,
          1.181039857662069,
          1.181039857662069,
          1.2056448546966956,
          0.08611748962119255,
          0.0042883863805714805,
          0.0021441931902857403,
          0.0021441931902857403,
          0.0035736553171429007,
          0.0007147310634285801,
          0.0014294621268571602,
          0.010006234888000122,
          0.008576772761142961,
          0.0007147310634285801,
          0.0004866254048875439,
          0.0004866254048875439,
          0.0009732508097750879,
          0.0004866254048875439,
          0.0007299381073313159,
          0.00024331270244377196,
          0.0004866254048875439,
          7.603521951367873e-05,
          7.603521951367873e-05,
          0.00015207043902735746,
          7.603521951367873e-05,
          1.5207043902735748e-05,
          7.603521951367873e-05,
          7.603521951367873e-05,
          0.00015207043902735746,
          7.603521951367873e-05,
          0.0020681579707720614,
          0.006204473912316185,
          0.008272631883088246,
          0.010340789853860307,
          0.018613421736948552,
          0.009306710868474276,
          0.005170394926930153,
          0.009306710868474276,
          0.0010340789853860307,
          25.14019373773932,
          24.211225839809,
          23.74674189084384,
          24.67570978877416,
          28.68188384859867,
          24.733770282394804,
          30.249517176356086,
          37.507078878936724,
          2.728843200170319,
          9.883863805714807,
          10.306908560045013,
          11.922170349305798,
          12.076004805425873,
          13.806642436776714,
          14.345063033196977,
          12.49904955975608,
          11.229915296765462,
          1.1922170349305798,
          0.0025547833756596056,
          0.0038321750634894083,
          0.0025547833756596056,
          0.0025547833756596056,
          0.0057482625952341125,
          0.0019160875317447042,
          0.00447087090740431,
          0.003193479219574507,
          0.00012165635122188598,
          0.00024331270244377196,
          0.00024331270244377196,
          0.00024331270244377196,
          0.00012165635122188598,
          0.00012165635122188598,
          0.00012165635122188598,
          0.00024331270244377196,
          0.00024331270244377196,
          0.00012165635122188598,
          0.00012165635122188598,
          1.5207043902735748e-05,
          0.10842622302650588,
          0.09093812253835977,
          0.07694764214784289,
          0.0804452622454721,
          0.10143098283124743,
          0.08394288234310132,
          0.1294119436122812,
          0.12241670341702277,
          0.010492860292887665,
          1.9688863881750027,
          1.9688863881750027,
          2.4083699569640658,
          2.1798385011937533,
          2.935750239510942,
          2.6193220699828164,
          3.0939643242750043,
          2.8654328685046915,
          0.2812694840250004,
          1.5207043902735748e-05,
          1.5207043902735748e-05,
          1.5207043902735748e-05,
          1.5207043902735748e-05,
          3.0414087805471495e-05,
          3.0414087805471495e-05,
          1.5207043902735748e-05,
          0.008409495278212867,
          0.00600678234158062,
          0.00600678234158062,
          0.00600678234158062,
          0.014416277619793487,
          0.021624416429690232,
          0.01802034702474186,
          0.014416277619793487,
          0.0015511184780790462,
          0.0015511184780790462,
          0.0010340789853860307,
          0.0015511184780790462,
          0.0025851974634650767,
          0.0036192764488511076,
          0.0031022369561580923,
          0.0015511184780790462,
          0.0010340789853860307,
          6.634133730744081,
          5.324031691479493,
          5.324031691479493,
          6.968627868428656,
          6.271765081585791,
          5.519153271795496,
          7.2473729831658025,
          7.191623960218373,
          0.6132392524217217,
          3.0414087805471495e-05,
          3.0414087805471495e-05,
          1.5207043902735748e-05,
          6.003102236956158,
          5.182165178910871,
          5.592633707933515,
          5.130856612783042,
          5.464362292613939,
          5.3873994434221935,
          5.977447953892243,
          4.463845253121246,
          0.07696284919174562,
          0.00012165635122188598,
          6.082817561094299e-05,
          6.082817561094299e-05,
          5.050076795571709,
          3.60005474535805,
          3.7500570264146353,
          4.075061968703904,
          5.100077555923904,
          6.550099606137564,
          6.050092002615612,
          6.7001018871941485,
          0.22500342158487813,
          0.058440669718213475,
          0.09740111619702246,
          0.12337474718289511,
          0.19480223239404493,
          0.3831110570416217,
          0.5714198816891984,
          0.6493407746468164,
          0.6623275901397527,
          0.03246703873234082,
          0.2679176994783984,
          0.25044480603415503,
          0.29703918855213735,
          0.3319849754406241,
          0.3319849754406241,
          0.22714761477516385,
          0.23297191258991162,
          0.28539059292264174,
          0.005824297814747791,
          0.3589926854118828,
          0.3825331893733177,
          0.32956705546008913,
          0.43549932328654634,
          0.18243890570112076,
          0.20597940966255568,
          0.17655377971076203,
          0.20597940966255568,
          0.029197524293252636,
          0.07007405830380632,
          0.06715430587448107,
          0.04963579129852948,
          0.05839504858650527,
          0.10219133502638422,
          0.07591356316245686,
          0.10511108745570949,
          0.0029197524293252636,
          0.003010994692741678,
          0.0025091622439513987,
          0.0020073297951611188,
          0.0020073297951611188,
          0.0010036648975805594,
          0.0010036648975805594,
          0.0020073297951611188,
          0.003010994692741678,
          0.15255706443224504,
          0.11241046852902264,
          0.11241046852902264,
          0.11642512811934488,
          0.15255706443224504,
          0.13649842607095608,
          0.11642512811934488,
          0.15255706443224504,
          0.008029319180644475,
          25.568378472908652,
          17.3885551787588,
          24.076461016742957,
          19.39492693015405,
          20.835398956796787,
          22.27587098343953,
          20.73250809775088,
          22.018643835824754,
          1.7491446037804712,
          0.003375963746407336,
          0.014629176234431789,
          0.0011253212488024453,
          0.004501284995209781,
          0.015754497483234233,
          0.02138110372724646,
          0.01687981873203668,
          0.004501284995209781,
          0.0011253212488024453,
          0.006539028878176372,
          0.013078057756352743,
          0.015693669307623292,
          0.014385863531988018,
          0.014385863531988018,
          0.022232698185799663,
          0.011770251980717468,
          0.013078057756352743,
          0.0013078057756352743,
          0.009367539044085221,
          0.03044450189327697,
          0.02810261713225566,
          0.021076962849191746,
          0.05386334950349002,
          0.07494031235268177,
          0.04683769522042611,
          0.09133350567983091,
          0.0046837695220426105,
          0.6790705454766648,
          0.5850453930260496,
          0.8044374154108183,
          0.867120850377895,
          1.002934959473228,
          1.117854590246202,
          1.002934959473228,
          1.002934959473228,
          0.11491963077297403,
          0.058030079532839604,
          0.043522559649629707,
          0.058030079532839604,
          0.04594047963016469,
          0.03868671968855974,
          0.03868671968855974,
          0.058030079532839604,
          0.04110463966909472,
          0.0024179199805349836,
          1.8343800848553051,
          1.5364893018446146,
          1.7873446980641434,
          2.2106631791845985,
          2.4615185754041273,
          2.2890554905032015,
          2.0225216320199517,
          1.8814154716464668,
          0.141106160373485,
          0.03490016575677854,
          0.046533554342371386,
          0.03722684347389711,
          0.04188019890813425,
          0.046533554342371386,
          0.053513587493727095,
          0.05816694292796424,
          0.03722684347389711,
          3.7115527912529083,
          2.6973494122477533,
          4.358916650192369,
          3.40944965708116,
          3.6899739959549263,
          4.358916650192369,
          3.7115527912529083,
          4.229443878404477,
          0.4531547012576225,
          0.21825149409206346,
          0.1945285056037957,
          0.18978390790614214,
          0.13759333323195305,
          0.1850393102084886,
          0.1613163217202208,
          0.19927310330144926,
          0.17080551711552794,
          0.023722988488267767,
          0.03202603445916148,
          0.02846758618592132,
          0.03380525859578157,
          0.024909137912681154,
          0.026688362049301237,
          0.017792241366200823,
          0.019571465502820906,
          0.02312991377606107,
          0.0017792241366200825,
          1.5207043902735748e-05,
          3.0414087805471495e-05,
          3.0414087805471495e-05,
          0.8043917942791101,
          0.7620553840538938,
          0.8361441019480224,
          0.9949056402925835,
          1.068994358186712,
          1.0372420505178,
          1.0901625632993204,
          0.7197189738286774,
          0.05292051278152041,
          1.2241670341702278,
          1.1139920010949071,
          1.2241670341702278,
          1.3098587265621437,
          1.5179671223710824,
          1.3221003969038458,
          1.3343420672455482,
          0.7834669018689457,
          0.024483340683404554,
          0.03412460651773902,
          0.03813926610806126,
          0.02810261713225566,
          0.04014659590322238,
          0.022080627746772306,
          0.05219057467418909,
          0.01806596815645007,
          0.0321172767225779,
          0.0025091622439513987,
          0.0020073297951611188,
          0.001505497346370839,
          0.0020073297951611188,
          0.0020073297951611188,
          0.0020073297951611188,
          0.003010994692741678,
          0.001505497346370839,
          4.562113170820724e-05,
          4.562113170820724e-05,
          4.562113170820724e-05,
          0.011557353366079168,
          0.011557353366079168,
          0.016180294712510836,
          0.01849176538572667,
          0.008090147356255418,
          0.0069344120196475015,
          0.012713088702687085,
          0.0023114706732158337,
          0.004045073678127709,
          0.004622941346431667,
          0.002889338341519792,
          0.0023114706732158337,
          0.0034672060098237508,
          0.002889338341519792,
          0.0005778676683039584,
          0.0011557353366079169,
          0.0005474535804984869,
          0.0005474535804984869,
          0.00018248452683282897,
          0.0005474535804984869,
          0.00018248452683282897,
          0.00018248452683282897,
          0.015328700253957633,
          0.010219133502638422,
          0.020438267005276844,
          0.015328700253957633,
          0.01916087531744704,
          0.011496525190468225,
          0.0038321750634894083,
          0.010219133502638422,
          0.0012773916878298028,
          0.0002585197463465077,
          0.0007755592390395231,
          0.0007755592390395231,
          0.0005170394926930154,
          0.0007755592390395231,
          0.0007755592390395231,
          0.0005170394926930154,
          0.03193479219574507,
          0.01916087531744704,
          0.0468376952204261,
          0.0447087090740431,
          0.029805806049362064,
          0.04257972292766009,
          0.04257972292766009,
          0.036192764488511074,
          0.004257972292766009,
          0.0029805806049362066,
          0.0029805806049362066,
          0.0014902903024681033,
          0.0037257257561702584,
          0.0029805806049362066,
          0.00447087090740431,
          0.007451451512340517,
          0.010432032117276724,
          6.082817561094299e-05,
          6.082817561094299e-05,
          6.082817561094299e-05,
          6.082817561094299e-05,
          1.5207043902735748e-05,
          3.0414087805471495e-05,
          3.0414087805471495e-05,
          0.0726136346355632,
          0.046472726166760445,
          0.15394090542739397,
          0.04066363539591539,
          0.0522818169376055,
          0.06389999847929562,
          0.06099545309387308,
          0.06099545309387308,
          0.002904545385422528,
          3.0414087805471495e-05,
          3.0414087805471495e-05,
          1.0324974528201463,
          0.8562173998996335,
          1.3724661263097067,
          1.3346918292553112,
          1.4857890174728934,
          1.1835946410377287,
          1.5109718821758238,
          1.5613376115816846,
          0.08814002646025638,
          5.518712267522317,
          7.01272829574659,
          7.89694186347116,
          7.805471494396205,
          8.293313462795968,
          8.293313462795968,
          7.683511002296264,
          8.232333216745998,
          0.39637159932480726,
          0.0032847214829909216,
          0.0032847214829909216,
          0.007390623336729574,
          0.0057482625952341125,
          0.0057482625952341125,
          0.008211803707477304,
          0.0057482625952341125,
          0.004927082224486382,
          0.07887893672349032,
          0.07887893672349032,
          0.11268419531927189,
          0.0901473562554175,
          0.13522103438312627,
          0.17278243282288355,
          0.11644033516324762,
          0.14273331407107773,
          3.0414087805471495e-05,
          3.0414087805471495e-05,
          0.00997582080019465,
          0.00997582080019465,
          0.011222798400218982,
          0.013716753600267643,
          0.008728843200170318,
          0.021198619200413632,
          0.016210708800316307,
          0.011222798400218982,
          0.0001976915707355647,
          0.0001976915707355647,
          0.0001976915707355647,
          0.0001976915707355647,
          0.0001976915707355647,
          0.0003953831414711294,
          0.0001976915707355647,
          0.0005930747122066941,
          0.0001976915707355647,
          0.0001976915707355647,
          1.5207043902735748e-05,
          1.5207043902735748e-05,
          0.00018248452683282897,
          9.124226341641449e-05,
          9.124226341641449e-05,
          0.00018248452683282897,
          0.00015207043902735746,
          7.603521951367873e-05,
          0.00015207043902735746,
          0.1405130856612783,
          0.06323088854757523,
          0.08430785139676698,
          0.11241046852902264,
          0.09835915996289482,
          0.11592329567055461,
          0.08782067853829895,
          0.10187198710442677,
          0.007025654283063915,
          0.00016727748293009323,
          0.0005018324487902797,
          0.00033455496586018646,
          0.00016727748293009323,
          0.00016727748293009323,
          0.00033455496586018646,
          0.00016727748293009323,
          0.002098572058577533,
          0.004197144117155066,
          0.0027980960781033774,
          0.002098572058577533,
          0.004197144117155066,
          0.005596192156206755,
          0.008394288234310132,
          0.0027980960781033774,
          0.00038017609756839366,
          0.0015207043902735746,
          0.0019008804878419684,
          0.0015207043902735746,
          0.0007603521951367873,
          0.0022810565854103617,
          0.0011405282927051809,
          0.0011557353366079169,
          0.0002889338341519792,
          0.0002889338341519792,
          0.0008668015024559377,
          0.0011557353366079169,
          0.0002889338341519792,
          0.0002889338341519792,
          0.0008668015024559377,
          0.0002889338341519792,
          0.0579844584011314,
          0.03553886160069344,
          0.022445596800437964,
          0.022445596800437964,
          0.020575130400401466,
          0.03179792880062045,
          0.014963731200291975,
          0.022445596800437964,
          0.0018704664000364969,
          0.0004562113170820724,
          0.0004562113170820724,
          0.0006843169756231086,
          0.0002281056585410362,
          0.0006843169756231086,
          0.0004562113170820724,
          0.0004562113170820724,
          1.5207043902735748e-05,
          0.04583403032284554,
          0.035417205249471555,
          0.02291701516142277,
          0.029167110205447162,
          0.04375066530817074,
          0.03958393527882115,
          0.04375066530817074,
          0.016666920117398377,
          0.008333460058699189,
          0.38203135692452744,
          0.4541127450234949,
          0.41086391216411444,
          0.34599066287504376,
          0.43969646740370144,
          0.4757371614531851,
          0.4252801897839079,
          0.4180720509740112,
          0.0648732492890707,
          1.5207043902735748e-05,
          1.5207043902735748e-05,
          1.5207043902735748e-05,
          1.5207043902735748e-05,
          1.5207043902735748e-05,
          0.05352879453762983,
          0.03893003239100351,
          0.05352879453762983,
          0.06569442965981842,
          0.03649690536656579,
          0.05596192156206754,
          0.031630651317690356,
          0.05352879453762983,
          0.839215924816375,
          0.8187472437232926,
          0.8699189464559984,
          0.9620280113748688,
          0.839215924816375,
          1.0746057573868215,
          0.7675755409905868,
          0.7061694977113399,
          0.010234340546541158,
          0.010705758907525967,
          0.012652260527076142,
          0.009732508097750878,
          0.006812755668425615,
          0.005839504858650527,
          0.007786006478200703,
          0.007786006478200703,
          0.0009732508097750879,
          35.46294803753098,
          34.196414179047736,
          37.362748825255856,
          43.34360315698231,
          48.902279535881014,
          46.158122842500646,
          39.54400158153256,
          36.51839291960036,
          4.081053544001581,
          0.21298985690171687,
          0.1722045651545796,
          0.1631411669885491,
          0.1722045651545796,
          0.11782417615839658,
          0.19033136148664062,
          0.15860946790553385,
          0.15860946790553385,
          0.004531699083015253,
          0.0007907662829422589,
          0.0001976915707355647,
          0.0001976915707355647,
          0.0003953831414711294,
          0.0005930747122066941,
          0.0003953831414711294,
          0.09657993582627472,
          0.07326753752338083,
          0.07326753752338083,
          0.08325856536747821,
          0.1165619915144695,
          0.09991027844097386,
          0.0932495932115756,
          0.0932495932115756,
          0.15538557459815389,
          0.11952736507550298,
          0.16733831110570418,
          0.1314801015830533,
          0.11554311957298621,
          0.1394485925880868,
          0.09562189206040239,
          0.11155887407046945,
          0.007968491005033532,
          0.009991027844097385,
          0.009991027844097385,
          0.017761827278395353,
          0.006660685229398257,
          0.008880913639197676,
          0.012211256253896805,
          0.009991027844097385,
          0.005550571024498548,
          6.667680469593516,
          6.637372831095363,
          7.455679070545477,
          7.516294347541781,
          9.849982511899512,
          7.63752490153439,
          7.24352560105841,
          6.940449216076886,
          0.4546145774722852,
          8.117307136665703,
          9.127115679982968,
          13.51589896440031,
          12.428412840827871,
          14.17615839656929,
          14.098480816314117,
          11.573959458020955,
          14.71990145835551,
          1.4370352347207227,
          0.5043416110342311,
          0.7244179503946229,
          0.6602290180811753,
          0.6510591706078256,
          0.6602290180811753,
          0.6052099332410773,
          0.8069465776547697,
          0.8619656624948677,
          0.05501908484009794,
          4.562113170820724e-05,
          4.562113170820724e-05,
          4.562113170820724e-05,
          0.44793868519898417,
          0.5119299259416962,
          0.6159156921486032,
          0.49593211575601814,
          0.5759211666844082,
          0.5199288310345351,
          1.5207043902735748e-05,
          0.5999178819629252,
          0.4239419699204671,
          0.015997810185678005,
          0.07664350126978817,
          0.12773916878298028,
          0.1058410255630408,
          0.1605863836128895,
          0.12043978770966711,
          0.0875925728797579,
          0.13138885931963684,
          0.06569442965981842,
          0.016606091941787436,
          0.013047643668547272,
          0.010675344819720496,
          0.008303045970893718,
          0.010675344819720496,
          0.011861494244133883,
          0.008303045970893718,
          0.013047643668547272,
          0.1751851457595158,
          0.30109946927416775,
          0.20255782478444015,
          0.26825225444425854,
          0.24635411122431908,
          0.2846758618592132,
          0.19708328897945526,
          0.27372679024924346,
          0.021898143219939475,
          1.9034808923493363,
          0.6504356818078134,
          0.6982618348819174,
          0.5930442981188887,
          0.5643486062744263,
          0.5452181450447848,
          0.4782615307410393,
          0.49739199197068085,
          0.08608707553338707,
          14.774677230493165,
          11.786067306376314,
          13.217232622150581,
          11.533508721239679,
          16.374214936358523,
          16.66886661901793,
          14.437932450310985,
          16.374214936358523,
          1.3469791207287216,
          17.189282075457353,
          14.541203485454462,
          16.39950425036877,
          16.074301616508766,
          18.6759226873888,
          18.304262534405936,
          18.908210283003086,
          19.46570051247738,
          2.369333475265743,
          0.006326130263538071,
          0.006326130263538071,
          0.0023722988488267763,
          0.0039538314147112945,
          0.0039538314147112945,
          0.0023722988488267763,
          0.007907662829422589,
          0.00711689654648033,
          0.0007907662829422589,
          0.1351906202953208,
          0.10815249623625664,
          0.1158776745388464,
          0.10042731793366688,
          0.12360285284143616,
          0.10428990708496176,
          0.11974026369014128,
          0.16222874435438495,
          0.01158776745388464,
          0.0057482625952341125,
          0.0016423607414954608,
          0.008211803707477304,
          0.007390623336729574,
          0.007390623336729574,
          0.002463541112243191,
          0.007390623336729574,
          0.004105901853738652,
          0.00024331270244377196,
          0.00024331270244377196,
          0.00012165635122188598,
          0.00036496905366565794,
          6.082817561094299e-05,
          6.082817561094299e-05,
          0.00012165635122188598,
          2.998266396995088,
          2.226782645721498,
          2.419653583539896,
          2.507322191639167,
          2.717726851077419,
          2.4021198619200415,
          2.1566477592420807,
          2.7001931294575647,
          0.08766860809927157,
          0.07147310634285801,
          0.06861418208914369,
          0.04288386380571481,
          0.08004987910400098,
          0.08004987910400098,
          0.05431956082057209,
          0.06861418208914369,
          0.06861418208914369,
          0.0028589242537143205,
          0.0020681579707720614,
          0.0015511184780790462,
          0.0010340789853860307,
          0.0036192764488511076,
          0.0010340789853860307,
          0.0031022369561580923,
          0.0020681579707720614,
          0.0031022369561580923,
          1.5207043902735748e-05,
          0.02007329795161119,
          0.03010994692741678,
          0.03613193631290014,
          0.04014659590322238,
          0.03613193631290014,
          0.04215392569838349,
          0.04014659590322238,
          0.01806596815645007,
          0.0020073297951611188,
          0.0009124226341641448,
          0.0003041408780547149,
          0.0003041408780547149,
          0.0009124226341641448,
          0.0009124226341641448,
          0.0009124226341641448,
          0.0003041408780547149,
          0.0012165635122188597,
          0.0003041408780547149,
          0.00012165635122188598,
          0.0001976915707355647,
          218.08605666144558,
          3.0414087805471495e-05,
          0.00018248452683282897,
          192.34328380906035,
          4.562113170820724e-05,
          0.0002281056585410362,
          218.96605787800908,
          1.5207043902735748e-05,
          0.00021289861463830045,
          223.59797138034338,
          0.00027372679024924345,
          257.3731352362414,
          9.124226341641449e-05,
          0.00036496905366565794,
          248.94870664091607,
          9.124226341641449e-05,
          1.5207043902735748e-05,
          0.0006082817561094299,
          238.06574005079153,
          9.124226341641449e-05,
          1.5207043902735748e-05,
          0.00036496905366565794,
          242.21703493057984,
          0.0007147310634285801,
          21.111528459982665,
          1.5207043902735748e-05,
          6.082817561094299e-05,
          7.603521951367873e-05,
          0.0005474535804984869,
          4.562113170820724e-05,
          4.562113170820724e-05,
          0.0002585197463465077,
          0.00024331270244377196,
          0.0005170394926930155,
          0.0039538314147112945,
          1860.70951504737,
          1860.7142292309798
         ]
        }
       ],
       "layout": {
        "autosize": true,
        "legend": {
         "tracegroupgap": 0
        },
        "margin": {
         "t": 60
        },
        "template": {
         "data": {
          "bar": [
           {
            "error_x": {
             "color": "#2a3f5f"
            },
            "error_y": {
             "color": "#2a3f5f"
            },
            "marker": {
             "line": {
              "color": "#E5ECF6",
              "width": 0.5
             },
             "pattern": {
              "fillmode": "overlay",
              "size": 10,
              "solidity": 0.2
             }
            },
            "type": "bar"
           }
          ],
          "barpolar": [
           {
            "marker": {
             "line": {
              "color": "#E5ECF6",
              "width": 0.5
             },
             "pattern": {
              "fillmode": "overlay",
              "size": 10,
              "solidity": 0.2
             }
            },
            "type": "barpolar"
           }
          ],
          "carpet": [
           {
            "aaxis": {
             "endlinecolor": "#2a3f5f",
             "gridcolor": "white",
             "linecolor": "white",
             "minorgridcolor": "white",
             "startlinecolor": "#2a3f5f"
            },
            "baxis": {
             "endlinecolor": "#2a3f5f",
             "gridcolor": "white",
             "linecolor": "white",
             "minorgridcolor": "white",
             "startlinecolor": "#2a3f5f"
            },
            "type": "carpet"
           }
          ],
          "choropleth": [
           {
            "colorbar": {
             "outlinewidth": 0,
             "ticks": ""
            },
            "type": "choropleth"
           }
          ],
          "contour": [
           {
            "colorbar": {
             "outlinewidth": 0,
             "ticks": ""
            },
            "colorscale": [
             [
              0,
              "#0d0887"
             ],
             [
              0.1111111111111111,
              "#46039f"
             ],
             [
              0.2222222222222222,
              "#7201a8"
             ],
             [
              0.3333333333333333,
              "#9c179e"
             ],
             [
              0.4444444444444444,
              "#bd3786"
             ],
             [
              0.5555555555555556,
              "#d8576b"
             ],
             [
              0.6666666666666666,
              "#ed7953"
             ],
             [
              0.7777777777777778,
              "#fb9f3a"
             ],
             [
              0.8888888888888888,
              "#fdca26"
             ],
             [
              1,
              "#f0f921"
             ]
            ],
            "type": "contour"
           }
          ],
          "contourcarpet": [
           {
            "colorbar": {
             "outlinewidth": 0,
             "ticks": ""
            },
            "type": "contourcarpet"
           }
          ],
          "heatmap": [
           {
            "colorbar": {
             "outlinewidth": 0,
             "ticks": ""
            },
            "colorscale": [
             [
              0,
              "#0d0887"
             ],
             [
              0.1111111111111111,
              "#46039f"
             ],
             [
              0.2222222222222222,
              "#7201a8"
             ],
             [
              0.3333333333333333,
              "#9c179e"
             ],
             [
              0.4444444444444444,
              "#bd3786"
             ],
             [
              0.5555555555555556,
              "#d8576b"
             ],
             [
              0.6666666666666666,
              "#ed7953"
             ],
             [
              0.7777777777777778,
              "#fb9f3a"
             ],
             [
              0.8888888888888888,
              "#fdca26"
             ],
             [
              1,
              "#f0f921"
             ]
            ],
            "type": "heatmap"
           }
          ],
          "heatmapgl": [
           {
            "colorbar": {
             "outlinewidth": 0,
             "ticks": ""
            },
            "colorscale": [
             [
              0,
              "#0d0887"
             ],
             [
              0.1111111111111111,
              "#46039f"
             ],
             [
              0.2222222222222222,
              "#7201a8"
             ],
             [
              0.3333333333333333,
              "#9c179e"
             ],
             [
              0.4444444444444444,
              "#bd3786"
             ],
             [
              0.5555555555555556,
              "#d8576b"
             ],
             [
              0.6666666666666666,
              "#ed7953"
             ],
             [
              0.7777777777777778,
              "#fb9f3a"
             ],
             [
              0.8888888888888888,
              "#fdca26"
             ],
             [
              1,
              "#f0f921"
             ]
            ],
            "type": "heatmapgl"
           }
          ],
          "histogram": [
           {
            "marker": {
             "pattern": {
              "fillmode": "overlay",
              "size": 10,
              "solidity": 0.2
             }
            },
            "type": "histogram"
           }
          ],
          "histogram2d": [
           {
            "colorbar": {
             "outlinewidth": 0,
             "ticks": ""
            },
            "colorscale": [
             [
              0,
              "#0d0887"
             ],
             [
              0.1111111111111111,
              "#46039f"
             ],
             [
              0.2222222222222222,
              "#7201a8"
             ],
             [
              0.3333333333333333,
              "#9c179e"
             ],
             [
              0.4444444444444444,
              "#bd3786"
             ],
             [
              0.5555555555555556,
              "#d8576b"
             ],
             [
              0.6666666666666666,
              "#ed7953"
             ],
             [
              0.7777777777777778,
              "#fb9f3a"
             ],
             [
              0.8888888888888888,
              "#fdca26"
             ],
             [
              1,
              "#f0f921"
             ]
            ],
            "type": "histogram2d"
           }
          ],
          "histogram2dcontour": [
           {
            "colorbar": {
             "outlinewidth": 0,
             "ticks": ""
            },
            "colorscale": [
             [
              0,
              "#0d0887"
             ],
             [
              0.1111111111111111,
              "#46039f"
             ],
             [
              0.2222222222222222,
              "#7201a8"
             ],
             [
              0.3333333333333333,
              "#9c179e"
             ],
             [
              0.4444444444444444,
              "#bd3786"
             ],
             [
              0.5555555555555556,
              "#d8576b"
             ],
             [
              0.6666666666666666,
              "#ed7953"
             ],
             [
              0.7777777777777778,
              "#fb9f3a"
             ],
             [
              0.8888888888888888,
              "#fdca26"
             ],
             [
              1,
              "#f0f921"
             ]
            ],
            "type": "histogram2dcontour"
           }
          ],
          "mesh3d": [
           {
            "colorbar": {
             "outlinewidth": 0,
             "ticks": ""
            },
            "type": "mesh3d"
           }
          ],
          "parcoords": [
           {
            "line": {
             "colorbar": {
              "outlinewidth": 0,
              "ticks": ""
             }
            },
            "type": "parcoords"
           }
          ],
          "pie": [
           {
            "automargin": true,
            "type": "pie"
           }
          ],
          "scatter": [
           {
            "fillpattern": {
             "fillmode": "overlay",
             "size": 10,
             "solidity": 0.2
            },
            "type": "scatter"
           }
          ],
          "scatter3d": [
           {
            "line": {
             "colorbar": {
              "outlinewidth": 0,
              "ticks": ""
             }
            },
            "marker": {
             "colorbar": {
              "outlinewidth": 0,
              "ticks": ""
             }
            },
            "type": "scatter3d"
           }
          ],
          "scattercarpet": [
           {
            "marker": {
             "colorbar": {
              "outlinewidth": 0,
              "ticks": ""
             }
            },
            "type": "scattercarpet"
           }
          ],
          "scattergeo": [
           {
            "marker": {
             "colorbar": {
              "outlinewidth": 0,
              "ticks": ""
             }
            },
            "type": "scattergeo"
           }
          ],
          "scattergl": [
           {
            "marker": {
             "colorbar": {
              "outlinewidth": 0,
              "ticks": ""
             }
            },
            "type": "scattergl"
           }
          ],
          "scattermapbox": [
           {
            "marker": {
             "colorbar": {
              "outlinewidth": 0,
              "ticks": ""
             }
            },
            "type": "scattermapbox"
           }
          ],
          "scatterpolar": [
           {
            "marker": {
             "colorbar": {
              "outlinewidth": 0,
              "ticks": ""
             }
            },
            "type": "scatterpolar"
           }
          ],
          "scatterpolargl": [
           {
            "marker": {
             "colorbar": {
              "outlinewidth": 0,
              "ticks": ""
             }
            },
            "type": "scatterpolargl"
           }
          ],
          "scatterternary": [
           {
            "marker": {
             "colorbar": {
              "outlinewidth": 0,
              "ticks": ""
             }
            },
            "type": "scatterternary"
           }
          ],
          "surface": [
           {
            "colorbar": {
             "outlinewidth": 0,
             "ticks": ""
            },
            "colorscale": [
             [
              0,
              "#0d0887"
             ],
             [
              0.1111111111111111,
              "#46039f"
             ],
             [
              0.2222222222222222,
              "#7201a8"
             ],
             [
              0.3333333333333333,
              "#9c179e"
             ],
             [
              0.4444444444444444,
              "#bd3786"
             ],
             [
              0.5555555555555556,
              "#d8576b"
             ],
             [
              0.6666666666666666,
              "#ed7953"
             ],
             [
              0.7777777777777778,
              "#fb9f3a"
             ],
             [
              0.8888888888888888,
              "#fdca26"
             ],
             [
              1,
              "#f0f921"
             ]
            ],
            "type": "surface"
           }
          ],
          "table": [
           {
            "cells": {
             "fill": {
              "color": "#EBF0F8"
             },
             "line": {
              "color": "white"
             }
            },
            "header": {
             "fill": {
              "color": "#C8D4E3"
             },
             "line": {
              "color": "white"
             }
            },
            "type": "table"
           }
          ]
         },
         "layout": {
          "annotationdefaults": {
           "arrowcolor": "#2a3f5f",
           "arrowhead": 0,
           "arrowwidth": 1
          },
          "autotypenumbers": "strict",
          "coloraxis": {
           "colorbar": {
            "outlinewidth": 0,
            "ticks": ""
           }
          },
          "colorscale": {
           "diverging": [
            [
             0,
             "#8e0152"
            ],
            [
             0.1,
             "#c51b7d"
            ],
            [
             0.2,
             "#de77ae"
            ],
            [
             0.3,
             "#f1b6da"
            ],
            [
             0.4,
             "#fde0ef"
            ],
            [
             0.5,
             "#f7f7f7"
            ],
            [
             0.6,
             "#e6f5d0"
            ],
            [
             0.7,
             "#b8e186"
            ],
            [
             0.8,
             "#7fbc41"
            ],
            [
             0.9,
             "#4d9221"
            ],
            [
             1,
             "#276419"
            ]
           ],
           "sequential": [
            [
             0,
             "#0d0887"
            ],
            [
             0.1111111111111111,
             "#46039f"
            ],
            [
             0.2222222222222222,
             "#7201a8"
            ],
            [
             0.3333333333333333,
             "#9c179e"
            ],
            [
             0.4444444444444444,
             "#bd3786"
            ],
            [
             0.5555555555555556,
             "#d8576b"
            ],
            [
             0.6666666666666666,
             "#ed7953"
            ],
            [
             0.7777777777777778,
             "#fb9f3a"
            ],
            [
             0.8888888888888888,
             "#fdca26"
            ],
            [
             1,
             "#f0f921"
            ]
           ],
           "sequentialminus": [
            [
             0,
             "#0d0887"
            ],
            [
             0.1111111111111111,
             "#46039f"
            ],
            [
             0.2222222222222222,
             "#7201a8"
            ],
            [
             0.3333333333333333,
             "#9c179e"
            ],
            [
             0.4444444444444444,
             "#bd3786"
            ],
            [
             0.5555555555555556,
             "#d8576b"
            ],
            [
             0.6666666666666666,
             "#ed7953"
            ],
            [
             0.7777777777777778,
             "#fb9f3a"
            ],
            [
             0.8888888888888888,
             "#fdca26"
            ],
            [
             1,
             "#f0f921"
            ]
           ]
          },
          "colorway": [
           "#636efa",
           "#EF553B",
           "#00cc96",
           "#ab63fa",
           "#FFA15A",
           "#19d3f3",
           "#FF6692",
           "#B6E880",
           "#FF97FF",
           "#FECB52"
          ],
          "font": {
           "color": "#2a3f5f"
          },
          "geo": {
           "bgcolor": "white",
           "lakecolor": "white",
           "landcolor": "#E5ECF6",
           "showlakes": true,
           "showland": true,
           "subunitcolor": "white"
          },
          "hoverlabel": {
           "align": "left"
          },
          "hovermode": "closest",
          "mapbox": {
           "style": "light"
          },
          "paper_bgcolor": "white",
          "plot_bgcolor": "#E5ECF6",
          "polar": {
           "angularaxis": {
            "gridcolor": "white",
            "linecolor": "white",
            "ticks": ""
           },
           "bgcolor": "#E5ECF6",
           "radialaxis": {
            "gridcolor": "white",
            "linecolor": "white",
            "ticks": ""
           }
          },
          "scene": {
           "xaxis": {
            "backgroundcolor": "#E5ECF6",
            "gridcolor": "white",
            "gridwidth": 2,
            "linecolor": "white",
            "showbackground": true,
            "ticks": "",
            "zerolinecolor": "white"
           },
           "yaxis": {
            "backgroundcolor": "#E5ECF6",
            "gridcolor": "white",
            "gridwidth": 2,
            "linecolor": "white",
            "showbackground": true,
            "ticks": "",
            "zerolinecolor": "white"
           },
           "zaxis": {
            "backgroundcolor": "#E5ECF6",
            "gridcolor": "white",
            "gridwidth": 2,
            "linecolor": "white",
            "showbackground": true,
            "ticks": "",
            "zerolinecolor": "white"
           }
          },
          "shapedefaults": {
           "line": {
            "color": "#2a3f5f"
           }
          },
          "ternary": {
           "aaxis": {
            "gridcolor": "white",
            "linecolor": "white",
            "ticks": ""
           },
           "baxis": {
            "gridcolor": "white",
            "linecolor": "white",
            "ticks": ""
           },
           "bgcolor": "#E5ECF6",
           "caxis": {
            "gridcolor": "white",
            "linecolor": "white",
            "ticks": ""
           }
          },
          "title": {
           "x": 0.05
          },
          "xaxis": {
           "automargin": true,
           "gridcolor": "white",
           "linecolor": "white",
           "ticks": "",
           "title": {
            "standoff": 15
           },
           "zerolinecolor": "white",
           "zerolinewidth": 2
          },
          "yaxis": {
           "automargin": true,
           "gridcolor": "white",
           "linecolor": "white",
           "ticks": "",
           "title": {
            "standoff": 15
           },
           "zerolinecolor": "white",
           "zerolinewidth": 2
          }
         }
        }
       }
      },
      "image/png": "[encoded data removed]",
      "text/html": [
       "<div>                            <div id=\"867573cd-946a-4327-9752-6a9bf7d7eac5\" class=\"plotly-graph-div\" style=\"height:525px; width:100%;\"></div>            <script type=\"text/javascript\">                require([\"plotly\"], function(Plotly) {                    window.PLOTLYENV=window.PLOTLYENV || {};                                    if (document.getElementById(\"867573cd-946a-4327-9752-6a9bf7d7eac5\")) {                    Plotly.newPlot(                        \"867573cd-946a-4327-9752-6a9bf7d7eac5\",                        [{\"branchvalues\":\"total\",\"customdata\":[[1.5207043902735748e-05],[1.5207043902735748e-05],[6.082817561094299e-05],[6.082817561094299e-05],[6.082817561094299e-05],[6.082817561094299e-05],[0.0020681579707720614],[0.0015511184780790462],[0.004136315941544123],[0.0036192764488511076],[0.0015511184780790462],[0.0025851974634650767],[0.0010340789853860307],[0.0005170394926930154],[0.0005170394926930154],[9.124226341641449e-05],[9.124226341641449e-05],[0.00027372679024924345],[9.124226341641449e-05],[0.0004257972292766009],[0.00021289861463830045],[0.0004257972292766009],[0.0004257972292766009],[0.0004257972292766009],[0.0006386958439149014],[0.0004257972292766009],[0.004318800468376952],[0.00539850058547119],[0.004318800468376952],[0.00539850058547119],[0.015115801639319332],[0.009717301053848142],[0.014036101522225094],[0.01619550175641357],[0.002159400234188476],[0.0017031889171064036],[0.004257972292766009],[0.0034063778342128073],[0.008515944585532018],[0.008515944585532018],[0.011922322419744825],[0.005961161209872412],[0.0025547833756596056],[0.0008515944585532018],[0.0003193479219574507],[0.0006386958439149014],[0.0003193479219574507],[0.0012773916878298028],[0.0009580437658723521],[0.0006386958439149014],[0.0025547833756596056],[0.0007755592390395231],[0.0002585197463465077],[0.0007755592390395231],[0.0012925987317325383],[0.0005170394926930154],[0.0005170394926930154],[0.0002585197463465077],[1.5207043902735748e-05],[4.562113170820724e-05],[4.562113170820724e-05],[4.562113170820724e-05],[0.556942775893794],[0.7061238765796317],[0.8354141638406911],[0.8155233504159127],[1.0840493316504205],[0.8950866041150262],[0.9249228242521936],[0.6166152161681291],[0.06961784698672425],[1.821195577791633],[1.6542526498274002],[1.4417798324183764],[1.7604890585319122],[2.0640216548305177],[2.2764944722395413],[2.124728174090239],[1.7604890585319122],[0.24282607703888442],[0.12272084429507749],[0.09817667543606198],[0.12272084429507749],[0.14726501315409296],[0.18817196125245214],[0.1554464027737648],[0.14726501315409296],[0.1022673702458979],[0.016362779239343664],[1.5207043902735748e-05],[20.800802931918064],[15.838683678279779],[16.99149926245837],[20.099089098070227],[25.41206526863243],[23.657780684012835],[21.55263918246932],[18.896151097188216],[1.9547742514332638],[0.83374138901139],[0.5698991772989248],[0.7493118812634012],[0.8865098313538831],[1.0553688468498608],[1.2242278623458385],[1.1292446661293511],[0.780972946668897],[0.09498319621648747],[0.02910628202983622],[0.013230128195380102],[0.006615064097690051],[0.00926108973676607],[0.02116820511260816],[0.01587615383445612],[0.011907115375842091],[0.00793807691722806],[0.0069344120196475015],[0.01849176538572667],[0.0069344120196475015],[0.011557353366079168],[0.03698353077145334],[0.07627853221612252],[0.08783588558220168],[0.09939323894828085],[0.0069344120196475015],[3.0414087805471495e-05],[3.0414087805471495e-05],[1.5207043902735748e-05],[1.5207043902735748e-05],[1.5207043902735748e-05],[1.5207043902735748e-05],[1.5207043902735748e-05],[0.039462278927599265],[0.0342006417372527],[0.04209309752277255],[0.0342006417372527],[0.0684012834745054],[0.09470946942623824],[0.07892455785519853],[0.05787800909381226],[0.005261637190346569],[3.0414087805471495e-05],[3.0414087805471495e-05],[0.00013686339512462172],[0.00013686339512462172],[0.00013686339512462172],[0.00013686339512462172],[0.00013686339512462172],[0.00013686339512462172],[0.00013686339512462172],[0.00013686339512462172],[0.00013686339512462172],[0.0004257972292766009],[0.0004257972292766009],[0.0008515944585532018],[0.00021289861463830045],[0.0008515944585532018],[0.00021289861463830045],[0.03375963746407336],[0.031508994966468466],[0.024757067473653797],[0.03601027996167825],[0.06976991742575162],[0.06076734743533205],[0.049514134947307595],[0.02700770997125869],[0.008074940312352683],[0.004486077951307046],[0.004486077951307046],[0.008972155902614092],[0.007177724722091273],[0.004486077951307046],[0.006280509131829864],[0.008972155902614092],[0.00012165635122188598],[0.00012165635122188598],[0.00024331270244377196],[0.00012165635122188598],[0.00012165635122188598],[0.00012165635122188598],[0.00012165635122188598],[0.0029197524293252636],[0.0021898143219939476],[0.004379628643987895],[0.005839504858650527],[0.006569442965981843],[0.004379628643987895],[0.005839504858650527],[0.0029197524293252636],[0.0015207043902735746],[0.0015207043902735746],[0.0011405282927051809],[0.0007603521951367873],[0.0026612326829787555],[0.0011405282927051809],[0.0007603521951367873],[0.018400523122310254],[0.011709423805106525],[0.02509162243951398],[0.018400523122310254],[0.020073297951611186],[0.03178272175671771],[0.030109946927416777],[0.028437172098115845],[0.26721817545887255],[0.23236363083380224],[0.2614090846880275],[0.2730272662297176],[0.2904545385422528],[0.37178180933408356],[0.3194999923964781],[0.19169999543788682],[0.011618181541690111],[0.23817272160464728],[0.3543545370215484],[0.21493635852126705],[0.23817272160464728],[0.25559999391718247],[0.313690901625633],[0.25559999391718247],[0.3253090831673231],[0.023236363083380222],[0.00036496905366565794],[0.00024331270244377196],[0.00012165635122188598],[0.00024331270244377196],[0.0021441931902857403],[0.0028589242537143205],[0.0035736553171429007],[0.005717848507428641],[0.0071473106342858014],[0.005003117444000061],[0.0035736553171429007],[0.0035736553171429007],[0.0006082817561094299],[0.003649690536656579],[0.009124226341641447],[0.0006082817561094299],[0.0018248452683282896],[0.003649690536656579],[0.0024331270244377194],[0.0024331270244377194],[0.00015207043902735746],[0.00015207043902735746],[7.603521951367873e-05],[0.00018248452683282897],[0.00018248452683282897],[9.124226341641449e-05],[9.124226341641449e-05],[1.5207043902735748e-05],[0.0003953831414711294],[0.0015815325658845177],[0.0023722988488267763],[0.0011861494244133882],[0.0019769157073556472],[0.0003953831414711294],[0.0019769157073556472],[0.0003953831414711294],[6.082817561094299e-05],[6.082817561094299e-05],[6.082817561094299e-05],[6.082817561094299e-05],[0.056266062440122264],[0.006751927492814672],[0.0022506424976048906],[0.003375963746407336],[0.005626606244012226],[0.005626606244012226],[0.0022506424976048906],[0.0011253212488024453],[0.13856658404172814],[0.12226463297799542],[0.13856658404172814],[0.10188719414832952],[0.1426420718076613],[0.1426420718076613],[0.13449109627579497],[0.1467175595735945],[0.024452926595599084],[0.0025091622439513983],[0.008363874146504661],[0.0025091622439513983],[0.004181937073252331],[0.0050183244879027965],[0.008363874146504661],[0.011709423805106525],[0.0025091622439513983],[0.000836387414650466],[0.1447710579540443],[0.11581684636323544],[0.16958895360330903],[0.14063474201250017],[0.13649842607095605],[0.1282257941878678],[0.10340789853860308],[0.15718000577867666],[0.02895421159080886],[0.048267157347283256],[0.03567572499581806],[0.02728143676150793],[0.03987286911297313],[0.03567572499581806],[0.031478580878662996],[0.03987286911297313],[0.025182864702930394],[0.006295716175732598],[0.0020073297951611188],[0.0035128271415319576],[0.0040146595903222376],[0.0020073297951611188],[0.0010036648975805594],[0.0005018324487902797],[0.0020073297951611188],[0.001505497346370839],[0.007056068370869387],[0.012348119649021426],[0.006174059824510713],[0.0035280341854346934],[0.0017640170927173467],[0.006174059824510713],[0.0035280341854346934],[0.009702094009945407],[0.0008820085463586734],[0.00012165635122188598],[6.082817561094299e-05],[6.082817561094299e-05],[0.0005474535804984869],[0.00027372679024924345],[0.00013686339512462172],[0.00013686339512462172],[0.00013686339512462172],[1.5207043902735748e-05],[0.04882981797168449],[0.03854985629343512],[0.05396979881080917],[0.061679770069496195],[0.03597986587387278],[0.07195973174774556],[0.04111984671299746],[0.07966970300643259],[0.0025699904195623413],[0.1814504478474429],[0.1384753417783117],[0.18622545963290194],[0.16235040070560683],[0.19577548320382],[0.19100047141836096],[0.26740065998570534],[0.16712541249106586],[0.009550023570918048],[0.20705910977964995],[0.19355525479402058],[0.16204625982755214],[0.13503854985629343],[0.17555011481318147],[0.18005139980839124],[0.15754497483234234],[0.11253212488024453],[0.009002569990419563],[0.5411882784105598],[0.5761036512112411],[0.5935613376115817],[0.5673748080110708],[0.6983074560136255],[0.7506805152146475],[0.6633920832129443],[0.5673748080110708],[0.05237305920102192],[0.41027083745190773],[0.5309387308201159],[0.5068051521464743],[0.6757402028619657],[0.6837847290865129],[0.5631168357183047],[0.5389832570446631],[0.3217810489818884],[0.02413357867364163],[0.012880366185617179],[0.008196596663574569],[0.012880366185617179],[0.010538481424595873],[0.010538481424595873],[0.008196596663574569],[0.015222250946638484],[0.010538481424595873],[0.0011709423805106526],[0.002889338341519792],[0.0034672060098237508],[0.0011557353366079169],[0.0023114706732158337],[0.002889338341519792],[0.0023114706732158337],[0.0023114706732158337],[0.004622941346431667],[0.011435697014857282],[0.011435697014857282],[0.01858300764914308],[0.017153545522285922],[0.020012469776000245],[0.014294621268571603],[0.020012469776000245],[0.021441931902857404],[1.5207043902735748e-05],[0.07192931765994008],[0.0915464042944692],[0.08827688985538101],[0.0948159187335574],[0.07519883209902828],[0.08827688985538101],[0.08827688985538101],[0.10135494761173376],[0.003269514439088186],[1.5207043902735748e-05],[0.018187624507671953],[0.012591432351465199],[0.01119238431241351],[0.012591432351465199],[0.025182864702930397],[0.00979333627336182],[0.01958667254672364],[0.018187624507671953],[0.0013990480390516887],[0.0009124226341641448],[0.0018248452683282896],[0.0022810565854103617],[0.0018248452683282896],[0.0013686339512462172],[0.0018248452683282896],[0.0018248452683282896],[0.0018248452683282896],[1.5207043902735748e-05],[0.0001976915707355647],[0.0007907662829422589],[0.0005930747122066941],[0.0003953831414711294],[0.0001976915707355647],[0.0001976915707355647],[0.0001976915707355647],[0.00010644930731915023],[0.00021289861463830045],[0.00010644930731915023],[0.00010644930731915023],[0.00010644930731915023],[0.00010644930731915023],[0.13011146763180703],[0.1385057558661172],[0.2098572058577533],[0.10912574704603172],[0.1217171793974969],[0.15109718821758236],[0.20146291762344315],[0.08394288234310132],[0.012591432351465197],[0.08079502425523502],[0.12311622743654861],[0.11926884532915646],[0.1385057558661172],[0.11157408111437218],[0.13465837375872505],[0.1385057558661172],[0.11926884532915646],[0.007694764214784288],[0.005337672409860248],[0.0011861494244133884],[0.0011861494244133884],[0.0047445976976535536],[0.006523821834273636],[0.0005930747122066942],[0.0035584482732401654],[0.017792241366200827],[0.009489195395307107],[0.015419942517374049],[0.005930747122066942],[0.008303045970893718],[0.008303045970893718],[0.014233793092960662],[0.011861494244133883],[0.0011861494244133884],[0.005231223102541097],[0.003269514439088186],[0.0026156115512705486],[0.003269514439088186],[0.003923417326905823],[0.003923417326905823],[0.0026156115512705486],[0.003269514439088186],[0.010219133502638422],[0.012773916878298028],[0.011496525190468225],[0.01788348362961724],[0.016606091941787436],[0.011496525190468225],[0.012773916878298028],[0.01405130856612783],[6.082817561094299e-05],[0.00012165635122188598],[6.082817561094299e-05],[9.124226341641449e-05],[4.562113170820724e-05],[0.0014598762146626318],[0.0019465016195501757],[0.0014598762146626318],[0.0004866254048875439],[0.0019465016195501757],[0.0034063778342128077],[0.0034063778342128077],[0.0014598762146626318],[0.02510682948341672],[0.02703812405906416],[0.02703812405906416],[0.03090071321035904],[0.040557186088596237],[0.03090071321035904],[0.02703812405906416],[0.03476330236165392],[0.00193129457564744],[0.1500479021882936],[0.11542146322176432],[0.09233717057741146],[0.13465837375872505],[0.10003193479219574],[0.09618455268480361],[0.1308109916513329],[0.13465837375872505],[0.019236910536960722],[0.0012773916878298028],[0.0012773916878298028],[0.0012773916878298028],[0.0017031889171064036],[0.0025547833756596056],[0.0012773916878298028],[0.0008515944585532018],[0.0012773916878298028],[0.0004257972292766009],[3.0414087805471495e-05],[3.0414087805471495e-05],[0.03524992776654146],[0.016697334205203848],[0.014842074849070089],[0.024118371629738893],[0.029684149698140178],[0.029684149698140178],[0.03896044647880898],[0.033394668410407696],[0.003710518712267522],[1.5207043902735748e-05],[0.10010797001170943],[0.10701196794355144],[0.10010797001170943],[0.08975197311394638],[0.11391596587539349],[0.10010797001170943],[0.11046396690947247],[0.05868398242065725],[0.0034519989659210146],[1.5207043902735748e-05],[0.396903845861403],[0.5000988457853678],[0.5556653842059642],[0.6191699995437887],[0.5477273072887361],[0.5556653842059642],[0.46834653811645555],[0.4921607688681397],[0.00793807691722806],[1.7951611186301493],[1.7310482215362155],[2.147782052646786],[2.420261865296005],[2.420261865296005],[2.163810276920269],[2.3721771924755544],[1.7951611186301493],[0.048084672820450425],[0.05301175504493681],[0.05301175504493681],[0.04291427789352028],[0.050487385757082684],[0.050487385757082684],[0.06563360148420748],[0.05301175504493681],[0.050487385757082684],[4.562113170820724e-05],[4.562113170820724e-05],[4.562113170820724e-05],[0.005930747122066942],[0.007907662829422589],[0.007907662829422589],[0.007907662829422589],[0.009884578536778236],[0.0039538314147112945],[0.010873036390456059],[0.008896120683100413],[0.0009884578536778236],[1.5207043902735748e-05],[0.006174059824510713],[0.009702094009945407],[0.00793807691722806],[0.004410042731793367],[0.004410042731793367],[0.0035280341854346934],[0.009702094009945407],[0.00529205127815204],[9.124226341641449e-05],[9.124226341641449e-05],[9.124226341641449e-05],[0.00027372679024924345],[0.00015207043902735746],[7.603521951367873e-05],[7.603521951367873e-05],[7.603521951367873e-05],[0.004197144117155066],[0.0027980960781033774],[0.003497620097629222],[0.00489666813668091],[0.003497620097629222],[0.005596192156206755],[0.006295716175732599],[0.0013990480390516887],[1.291762344317888],[0.9103848902811783],[1.181039857662069],[1.5255098161468392],[1.390182332456394],[1.181039857662069],[1.181039857662069],[1.2056448546966956],[0.08611748962119255],[0.0042883863805714805],[0.0021441931902857403],[0.0021441931902857403],[0.0035736553171429007],[0.0007147310634285801],[0.0014294621268571602],[0.010006234888000122],[0.008576772761142961],[0.0007147310634285801],[0.0004866254048875439],[0.0004866254048875439],[0.0009732508097750879],[0.0004866254048875439],[0.0007299381073313159],[0.00024331270244377196],[0.0004866254048875439],[7.603521951367873e-05],[7.603521951367873e-05],[0.00015207043902735746],[7.603521951367873e-05],[1.5207043902735748e-05],[7.603521951367873e-05],[7.603521951367873e-05],[0.00015207043902735746],[7.603521951367873e-05],[0.0020681579707720614],[0.006204473912316185],[0.008272631883088246],[0.010340789853860307],[0.018613421736948552],[0.009306710868474276],[0.005170394926930153],[0.009306710868474276],[0.0010340789853860307],[25.14019373773932],[24.211225839809],[23.74674189084384],[24.67570978877416],[28.68188384859867],[24.733770282394804],[30.249517176356086],[37.507078878936724],[2.728843200170319],[9.883863805714807],[10.306908560045013],[11.922170349305798],[12.076004805425873],[13.806642436776714],[14.345063033196977],[12.49904955975608],[11.229915296765462],[1.1922170349305798],[0.0025547833756596056],[0.0038321750634894083],[0.0025547833756596056],[0.0025547833756596056],[0.0057482625952341125],[0.0019160875317447042],[0.00447087090740431],[0.003193479219574507],[0.00012165635122188598],[0.00024331270244377196],[0.00024331270244377196],[0.00024331270244377196],[0.00012165635122188598],[0.00012165635122188598],[0.00012165635122188598],[0.00024331270244377196],[0.00024331270244377196],[0.00012165635122188598],[0.00012165635122188598],[1.5207043902735748e-05],[0.10842622302650588],[0.09093812253835977],[0.07694764214784289],[0.0804452622454721],[0.10143098283124743],[0.08394288234310132],[0.1294119436122812],[0.12241670341702277],[0.010492860292887665],[1.9688863881750027],[1.9688863881750027],[2.4083699569640658],[2.1798385011937533],[2.935750239510942],[2.6193220699828164],[3.0939643242750043],[2.8654328685046915],[0.2812694840250004],[1.5207043902735748e-05],[1.5207043902735748e-05],[1.5207043902735748e-05],[1.5207043902735748e-05],[3.0414087805471495e-05],[3.0414087805471495e-05],[1.5207043902735748e-05],[0.008409495278212867],[0.00600678234158062],[0.00600678234158062],[0.00600678234158062],[0.014416277619793487],[0.021624416429690232],[0.01802034702474186],[0.014416277619793487],[0.0015511184780790462],[0.0015511184780790462],[0.0010340789853860307],[0.0015511184780790462],[0.0025851974634650767],[0.0036192764488511076],[0.0031022369561580923],[0.0015511184780790462],[0.0010340789853860307],[6.634133730744081],[5.324031691479493],[5.324031691479493],[6.968627868428656],[6.271765081585791],[5.519153271795496],[7.2473729831658025],[7.191623960218373],[0.6132392524217217],[3.0414087805471495e-05],[3.0414087805471495e-05],[1.5207043902735748e-05],[6.003102236956158],[5.182165178910871],[5.592633707933515],[5.130856612783042],[5.464362292613939],[5.3873994434221935],[5.977447953892243],[4.463845253121246],[0.07696284919174562],[0.00012165635122188598],[6.082817561094299e-05],[6.082817561094299e-05],[5.050076795571709],[3.60005474535805],[3.7500570264146353],[4.075061968703904],[5.100077555923904],[6.550099606137564],[6.050092002615612],[6.7001018871941485],[0.22500342158487813],[0.058440669718213475],[0.09740111619702246],[0.12337474718289511],[0.19480223239404493],[0.3831110570416217],[0.5714198816891984],[0.6493407746468164],[0.6623275901397527],[0.03246703873234082],[0.2679176994783984],[0.25044480603415503],[0.29703918855213735],[0.3319849754406241],[0.3319849754406241],[0.22714761477516385],[0.23297191258991162],[0.28539059292264174],[0.005824297814747791],[0.3589926854118828],[0.3825331893733177],[0.32956705546008913],[0.43549932328654634],[0.18243890570112076],[0.20597940966255568],[0.17655377971076203],[0.20597940966255568],[0.029197524293252636],[0.07007405830380632],[0.06715430587448107],[0.04963579129852948],[0.05839504858650527],[0.10219133502638422],[0.07591356316245686],[0.10511108745570949],[0.0029197524293252636],[0.003010994692741678],[0.0025091622439513987],[0.0020073297951611188],[0.0020073297951611188],[0.0010036648975805594],[0.0010036648975805594],[0.0020073297951611188],[0.003010994692741678],[0.15255706443224504],[0.11241046852902264],[0.11241046852902264],[0.11642512811934488],[0.15255706443224504],[0.13649842607095608],[0.11642512811934488],[0.15255706443224504],[0.008029319180644475],[25.568378472908652],[17.3885551787588],[24.076461016742957],[19.39492693015405],[20.835398956796787],[22.27587098343953],[20.73250809775088],[22.018643835824754],[1.7491446037804712],[0.003375963746407336],[0.014629176234431789],[0.0011253212488024453],[0.004501284995209781],[0.015754497483234233],[0.02138110372724646],[0.01687981873203668],[0.004501284995209781],[0.0011253212488024453],[0.006539028878176372],[0.013078057756352743],[0.015693669307623292],[0.014385863531988018],[0.014385863531988018],[0.022232698185799663],[0.011770251980717468],[0.013078057756352743],[0.0013078057756352743],[0.009367539044085221],[0.03044450189327697],[0.02810261713225566],[0.021076962849191746],[0.05386334950349002],[0.07494031235268177],[0.04683769522042611],[0.09133350567983091],[0.0046837695220426105],[0.6790705454766648],[0.5850453930260496],[0.8044374154108183],[0.867120850377895],[1.002934959473228],[1.117854590246202],[1.002934959473228],[1.002934959473228],[0.11491963077297403],[0.058030079532839604],[0.043522559649629707],[0.058030079532839604],[0.04594047963016469],[0.03868671968855974],[0.03868671968855974],[0.058030079532839604],[0.04110463966909472],[0.0024179199805349836],[1.8343800848553051],[1.5364893018446146],[1.7873446980641434],[2.2106631791845985],[2.4615185754041273],[2.2890554905032015],[2.0225216320199517],[1.8814154716464668],[0.141106160373485],[0.03490016575677854],[0.046533554342371386],[0.03722684347389711],[0.04188019890813425],[0.046533554342371386],[0.053513587493727095],[0.05816694292796424],[0.03722684347389711],[3.7115527912529083],[2.6973494122477533],[4.358916650192369],[3.40944965708116],[3.6899739959549263],[4.358916650192369],[3.7115527912529083],[4.229443878404477],[0.4531547012576225],[0.21825149409206346],[0.1945285056037957],[0.18978390790614214],[0.13759333323195305],[0.1850393102084886],[0.1613163217202208],[0.19927310330144926],[0.17080551711552794],[0.023722988488267767],[0.03202603445916148],[0.02846758618592132],[0.03380525859578157],[0.024909137912681154],[0.026688362049301237],[0.017792241366200823],[0.019571465502820906],[0.02312991377606107],[0.0017792241366200825],[1.5207043902735748e-05],[3.0414087805471495e-05],[3.0414087805471495e-05],[0.8043917942791101],[0.7620553840538938],[0.8361441019480224],[0.9949056402925835],[1.068994358186712],[1.0372420505178],[1.0901625632993204],[0.7197189738286774],[0.05292051278152041],[1.2241670341702278],[1.1139920010949071],[1.2241670341702278],[1.3098587265621437],[1.5179671223710824],[1.3221003969038458],[1.3343420672455482],[0.7834669018689457],[0.024483340683404554],[0.03412460651773902],[0.03813926610806126],[0.02810261713225566],[0.04014659590322238],[0.022080627746772306],[0.05219057467418909],[0.01806596815645007],[0.0321172767225779],[0.0025091622439513987],[0.0020073297951611188],[0.001505497346370839],[0.0020073297951611188],[0.0020073297951611188],[0.0020073297951611188],[0.003010994692741678],[0.001505497346370839],[4.562113170820724e-05],[4.562113170820724e-05],[4.562113170820724e-05],[0.011557353366079168],[0.011557353366079168],[0.016180294712510836],[0.01849176538572667],[0.008090147356255418],[0.0069344120196475015],[0.012713088702687085],[0.0023114706732158337],[0.004045073678127709],[0.004622941346431667],[0.002889338341519792],[0.0023114706732158337],[0.0034672060098237508],[0.002889338341519792],[0.0005778676683039584],[0.0011557353366079169],[0.0005474535804984869],[0.0005474535804984869],[0.00018248452683282897],[0.0005474535804984869],[0.00018248452683282897],[0.00018248452683282897],[0.015328700253957633],[0.010219133502638422],[0.020438267005276844],[0.015328700253957633],[0.01916087531744704],[0.011496525190468225],[0.0038321750634894083],[0.010219133502638422],[0.0012773916878298028],[0.0002585197463465077],[0.0007755592390395231],[0.0007755592390395231],[0.0005170394926930154],[0.0007755592390395231],[0.0007755592390395231],[0.0005170394926930154],[0.03193479219574507],[0.01916087531744704],[0.0468376952204261],[0.0447087090740431],[0.029805806049362064],[0.04257972292766009],[0.04257972292766009],[0.036192764488511074],[0.004257972292766009],[0.0029805806049362066],[0.0029805806049362066],[0.0014902903024681033],[0.0037257257561702584],[0.0029805806049362066],[0.00447087090740431],[0.007451451512340517],[0.010432032117276724],[6.082817561094299e-05],[6.082817561094299e-05],[6.082817561094299e-05],[6.082817561094299e-05],[1.5207043902735748e-05],[3.0414087805471495e-05],[3.0414087805471495e-05],[0.0726136346355632],[0.046472726166760445],[0.15394090542739397],[0.04066363539591539],[0.0522818169376055],[0.06389999847929562],[0.06099545309387308],[0.06099545309387308],[0.002904545385422528],[3.0414087805471495e-05],[3.0414087805471495e-05],[1.0324974528201463],[0.8562173998996335],[1.3724661263097067],[1.3346918292553112],[1.4857890174728934],[1.1835946410377287],[1.5109718821758238],[1.5613376115816846],[0.08814002646025638],[5.518712267522317],[7.01272829574659],[7.89694186347116],[7.805471494396205],[8.293313462795968],[8.293313462795968],[7.683511002296264],[8.232333216745998],[0.39637159932480726],[0.0032847214829909216],[0.0032847214829909216],[0.007390623336729574],[0.0057482625952341125],[0.0057482625952341125],[0.008211803707477304],[0.0057482625952341125],[0.004927082224486382],[0.07887893672349032],[0.07887893672349032],[0.11268419531927189],[0.0901473562554175],[0.13522103438312627],[0.17278243282288355],[0.11644033516324762],[0.14273331407107773],[3.0414087805471495e-05],[3.0414087805471495e-05],[0.00997582080019465],[0.00997582080019465],[0.011222798400218982],[0.013716753600267643],[0.008728843200170318],[0.021198619200413632],[0.016210708800316307],[0.011222798400218982],[0.0001976915707355647],[0.0001976915707355647],[0.0001976915707355647],[0.0001976915707355647],[0.0001976915707355647],[0.0003953831414711294],[0.0001976915707355647],[0.0005930747122066941],[0.0001976915707355647],[0.0001976915707355647],[1.5207043902735748e-05],[1.5207043902735748e-05],[0.00018248452683282897],[9.124226341641449e-05],[9.124226341641449e-05],[0.00018248452683282897],[0.00015207043902735746],[7.603521951367873e-05],[0.00015207043902735746],[0.1405130856612783],[0.06323088854757523],[0.08430785139676698],[0.11241046852902264],[0.09835915996289482],[0.11592329567055461],[0.08782067853829895],[0.10187198710442677],[0.007025654283063915],[0.00016727748293009323],[0.0005018324487902797],[0.00033455496586018646],[0.00016727748293009323],[0.00016727748293009323],[0.00033455496586018646],[0.00016727748293009323],[0.002098572058577533],[0.004197144117155066],[0.0027980960781033774],[0.002098572058577533],[0.004197144117155066],[0.005596192156206755],[0.008394288234310132],[0.0027980960781033774],[0.00038017609756839366],[0.0015207043902735746],[0.0019008804878419684],[0.0015207043902735746],[0.0007603521951367873],[0.0022810565854103617],[0.0011405282927051809],[0.0011557353366079169],[0.0002889338341519792],[0.0002889338341519792],[0.0008668015024559377],[0.0011557353366079169],[0.0002889338341519792],[0.0002889338341519792],[0.0008668015024559377],[0.0002889338341519792],[0.0579844584011314],[0.03553886160069344],[0.022445596800437964],[0.022445596800437964],[0.020575130400401466],[0.03179792880062045],[0.014963731200291975],[0.022445596800437964],[0.0018704664000364969],[0.0004562113170820724],[0.0004562113170820724],[0.0006843169756231086],[0.0002281056585410362],[0.0006843169756231086],[0.0004562113170820724],[0.0004562113170820724],[1.5207043902735748e-05],[0.04583403032284554],[0.035417205249471555],[0.02291701516142277],[0.029167110205447162],[0.04375066530817074],[0.03958393527882115],[0.04375066530817074],[0.016666920117398377],[0.008333460058699189],[0.38203135692452744],[0.4541127450234949],[0.41086391216411444],[0.34599066287504376],[0.43969646740370144],[0.4757371614531851],[0.4252801897839079],[0.4180720509740112],[0.0648732492890707],[1.5207043902735748e-05],[1.5207043902735748e-05],[1.5207043902735748e-05],[1.5207043902735748e-05],[1.5207043902735748e-05],[0.05352879453762983],[0.03893003239100351],[0.05352879453762983],[0.06569442965981842],[0.03649690536656579],[0.05596192156206754],[0.031630651317690356],[0.05352879453762983],[0.839215924816375],[0.8187472437232926],[0.8699189464559984],[0.9620280113748688],[0.839215924816375],[1.0746057573868215],[0.7675755409905868],[0.7061694977113399],[0.010234340546541158],[0.010705758907525967],[0.012652260527076142],[0.009732508097750878],[0.006812755668425615],[0.005839504858650527],[0.007786006478200703],[0.007786006478200703],[0.0009732508097750879],[35.46294803753098],[34.196414179047736],[37.362748825255856],[43.34360315698231],[48.902279535881014],[46.158122842500646],[39.54400158153256],[36.51839291960036],[4.081053544001581],[0.21298985690171687],[0.1722045651545796],[0.1631411669885491],[0.1722045651545796],[0.11782417615839658],[0.19033136148664062],[0.15860946790553385],[0.15860946790553385],[0.004531699083015253],[0.0007907662829422589],[0.0001976915707355647],[0.0001976915707355647],[0.0003953831414711294],[0.0005930747122066941],[0.0003953831414711294],[0.09657993582627472],[0.07326753752338083],[0.07326753752338083],[0.08325856536747821],[0.1165619915144695],[0.09991027844097386],[0.0932495932115756],[0.0932495932115756],[0.15538557459815389],[0.11952736507550298],[0.16733831110570418],[0.1314801015830533],[0.11554311957298621],[0.1394485925880868],[0.09562189206040239],[0.11155887407046945],[0.007968491005033532],[0.009991027844097385],[0.009991027844097385],[0.017761827278395353],[0.006660685229398257],[0.008880913639197676],[0.012211256253896805],[0.009991027844097385],[0.005550571024498548],[6.667680469593516],[6.637372831095363],[7.455679070545477],[7.516294347541781],[9.849982511899512],[7.63752490153439],[7.24352560105841],[6.940449216076886],[0.4546145774722852],[8.117307136665703],[9.127115679982968],[13.51589896440031],[12.428412840827871],[14.17615839656929],[14.098480816314117],[11.573959458020955],[14.71990145835551],[1.4370352347207227],[0.5043416110342311],[0.7244179503946229],[0.6602290180811753],[0.6510591706078256],[0.6602290180811753],[0.6052099332410773],[0.8069465776547697],[0.8619656624948677],[0.05501908484009794],[4.562113170820724e-05],[4.562113170820724e-05],[4.562113170820724e-05],[0.44793868519898417],[0.5119299259416962],[0.6159156921486032],[0.49593211575601814],[0.5759211666844082],[0.5199288310345351],[1.5207043902735748e-05],[0.5999178819629252],[0.4239419699204671],[0.015997810185678005],[0.07664350126978817],[0.12773916878298028],[0.1058410255630408],[0.1605863836128895],[0.12043978770966711],[0.0875925728797579],[0.13138885931963684],[0.06569442965981842],[0.016606091941787436],[0.013047643668547272],[0.010675344819720496],[0.008303045970893718],[0.010675344819720496],[0.011861494244133883],[0.008303045970893718],[0.013047643668547272],[0.1751851457595158],[0.30109946927416775],[0.20255782478444015],[0.26825225444425854],[0.24635411122431908],[0.2846758618592132],[0.19708328897945526],[0.27372679024924346],[0.021898143219939475],[1.9034808923493363],[0.6504356818078134],[0.6982618348819174],[0.5930442981188887],[0.5643486062744263],[0.5452181450447848],[0.4782615307410393],[0.49739199197068085],[0.08608707553338707],[14.774677230493165],[11.786067306376314],[13.217232622150581],[11.533508721239679],[16.374214936358523],[16.66886661901793],[14.437932450310985],[16.374214936358523],[1.3469791207287216],[17.189282075457353],[14.541203485454462],[16.39950425036877],[16.074301616508766],[18.6759226873888],[18.304262534405936],[18.908210283003086],[19.46570051247738],[2.369333475265743],[0.006326130263538071],[0.006326130263538071],[0.0023722988488267763],[0.0039538314147112945],[0.0039538314147112945],[0.0023722988488267763],[0.007907662829422589],[0.00711689654648033],[0.0007907662829422589],[0.1351906202953208],[0.10815249623625664],[0.1158776745388464],[0.10042731793366688],[0.12360285284143616],[0.10428990708496176],[0.11974026369014128],[0.16222874435438495],[0.01158776745388464],[0.0057482625952341125],[0.0016423607414954608],[0.008211803707477304],[0.007390623336729574],[0.007390623336729574],[0.002463541112243191],[0.007390623336729574],[0.004105901853738652],[0.00024331270244377196],[0.00024331270244377196],[0.00012165635122188598],[0.00036496905366565794],[6.082817561094299e-05],[6.082817561094299e-05],[0.00012165635122188598],[2.998266396995088],[2.226782645721498],[2.419653583539896],[2.507322191639167],[2.717726851077419],[2.4021198619200415],[2.1566477592420807],[2.7001931294575647],[0.08766860809927157],[0.07147310634285801],[0.06861418208914369],[0.04288386380571481],[0.08004987910400098],[0.08004987910400098],[0.05431956082057209],[0.06861418208914369],[0.06861418208914369],[0.0028589242537143205],[0.0020681579707720614],[0.0015511184780790462],[0.0010340789853860307],[0.0036192764488511076],[0.0010340789853860307],[0.0031022369561580923],[0.0020681579707720614],[0.0031022369561580923],[1.5207043902735748e-05],[0.02007329795161119],[0.03010994692741678],[0.03613193631290014],[0.04014659590322238],[0.03613193631290014],[0.04215392569838349],[0.04014659590322238],[0.01806596815645007],[0.0020073297951611188],[0.0009124226341641448],[0.0003041408780547149],[0.0003041408780547149],[0.0009124226341641448],[0.0009124226341641448],[0.0009124226341641448],[0.0003041408780547149],[0.0012165635122188597],[0.0003041408780547149],[0.00012165635122188598],[0.0001976915707355647],[218.08605666144558],[3.0414087805471495e-05],[0.00018248452683282897],[192.34328380906035],[4.562113170820724e-05],[0.0002281056585410362],[218.96605787800908],[1.5207043902735748e-05],[0.00021289861463830045],[223.59797138034338],[0.00027372679024924345],[257.3731352362414],[9.124226341641449e-05],[0.00036496905366565794],[248.94870664091607],[9.124226341641449e-05],[1.5207043902735748e-05],[0.0006082817561094299],[238.06574005079153],[9.124226341641449e-05],[1.5207043902735748e-05],[0.00036496905366565794],[242.21703493057984],[0.0007147310634285801],[21.111528459982665],[1.5207043902735748e-05],[6.082817561094299e-05],[7.603521951367873e-05],[0.0005474535804984869],[4.562113170820724e-05],[4.562113170820724e-05],[0.0002585197463465077],[0.00024331270244377196],[0.0005170394926930155],[0.0039538314147112945],[1860.70951504737],[1860.7142292309798]],\"domain\":{\"x\":[0.0,1.0],\"y\":[0.0,1.0]},\"hovertemplate\":\"labels=%{label}\\u003cbr\\u003eoffense_code_ratio=%{customdata[0]}\\u003cbr\\u003eparent=%{parent}\\u003cbr\\u003eid=%{id}\\u003cextra\\u003e\\u003c\\u002fextra\\u003e\",\"ids\":[\"all\\u002f2016\\u002f10\\u002fA&B HANDS, FEET, ETC.  - MED. ATTENTION REQ.\",\"all\\u002f2017\\u002f3\\u002fA&B ON POLICE OFFICER\",\"all\\u002f2018\\u002f1\\u002fABDUCTION - INTICING\",\"all\\u002f2018\\u002f2\\u002fABDUCTION - INTICING\",\"all\\u002f2018\\u002f4\\u002fABDUCTION - INTICING\",\"all\\u002f2018\\u002f7\\u002fABDUCTION - INTICING\",\"all\\u002f2018\\u002f1\\u002fAFFRAY\",\"all\\u002f2018\\u002f2\\u002fAFFRAY\",\"all\\u002f2018\\u002f3\\u002fAFFRAY\",\"all\\u002f2018\\u002f4\\u002fAFFRAY\",\"all\\u002f2018\\u002f5\\u002fAFFRAY\",\"all\\u002f2018\\u002f6\\u002fAFFRAY\",\"all\\u002f2018\\u002f7\\u002fAFFRAY\",\"all\\u002f2018\\u002f8\\u002fAFFRAY\",\"all\\u002f2018\\u002f9\\u002fAFFRAY\",\"all\\u002f2018\\u002f1\\u002fAIRCRAFT INCIDENTS\",\"all\\u002f2018\\u002f3\\u002fAIRCRAFT INCIDENTS\",\"all\\u002f2018\\u002f5\\u002fAIRCRAFT INCIDENTS\",\"all\\u002f2018\\u002f7\\u002fAIRCRAFT INCIDENTS\",\"all\\u002f2018\\u002f1\\u002fANIMAL ABUSE\",\"all\\u002f2018\\u002f2\\u002fANIMAL ABUSE\",\"all\\u002f2018\\u002f4\\u002fANIMAL ABUSE\",\"all\\u002f2018\\u002f5\\u002fANIMAL ABUSE\",\"all\\u002f2018\\u002f6\\u002fANIMAL ABUSE\",\"all\\u002f2018\\u002f7\\u002fANIMAL ABUSE\",\"all\\u002f2018\\u002f8\\u002fANIMAL ABUSE\",\"all\\u002f2018\\u002f1\\u002fANIMAL CONTROL - DOG BITES - ETC.\",\"all\\u002f2018\\u002f2\\u002fANIMAL CONTROL - DOG BITES - ETC.\",\"all\\u002f2018\\u002f3\\u002fANIMAL CONTROL - DOG BITES - ETC.\",\"all\\u002f2018\\u002f4\\u002fANIMAL CONTROL - DOG BITES - ETC.\",\"all\\u002f2018\\u002f5\\u002fANIMAL CONTROL - DOG BITES - ETC.\",\"all\\u002f2018\\u002f6\\u002fANIMAL CONTROL - DOG BITES - ETC.\",\"all\\u002f2018\\u002f7\\u002fANIMAL CONTROL - DOG BITES - ETC.\",\"all\\u002f2018\\u002f8\\u002fANIMAL CONTROL - DOG BITES - ETC.\",\"all\\u002f2018\\u002f9\\u002fANIMAL CONTROL - DOG BITES - ETC.\",\"all\\u002f2018\\u002f1\\u002fANIMAL INCIDENTS\",\"all\\u002f2018\\u002f2\\u002fANIMAL INCIDENTS\",\"all\\u002f2018\\u002f3\\u002fANIMAL INCIDENTS\",\"all\\u002f2018\\u002f4\\u002fANIMAL INCIDENTS\",\"all\\u002f2018\\u002f5\\u002fANIMAL INCIDENTS\",\"all\\u002f2018\\u002f6\\u002fANIMAL INCIDENTS\",\"all\\u002f2018\\u002f7\\u002fANIMAL INCIDENTS\",\"all\\u002f2018\\u002f8\\u002fANIMAL INCIDENTS\",\"all\\u002f2018\\u002f9\\u002fANIMAL INCIDENTS\",\"all\\u002f2018\\u002f1\\u002fANNOYING AND ACCOSTING\",\"all\\u002f2018\\u002f3\\u002fANNOYING AND ACCOSTING\",\"all\\u002f2018\\u002f4\\u002fANNOYING AND ACCOSTING\",\"all\\u002f2018\\u002f5\\u002fANNOYING AND ACCOSTING\",\"all\\u002f2018\\u002f6\\u002fANNOYING AND ACCOSTING\",\"all\\u002f2018\\u002f7\\u002fANNOYING AND ACCOSTING\",\"all\\u002f2018\\u002f8\\u002fANNOYING AND ACCOSTING\",\"all\\u002f2018\\u002f1\\u002fARSON\",\"all\\u002f2018\\u002f3\\u002fARSON\",\"all\\u002f2018\\u002f4\\u002fARSON\",\"all\\u002f2018\\u002f6\\u002fARSON\",\"all\\u002f2018\\u002f7\\u002fARSON\",\"all\\u002f2018\\u002f8\\u002fARSON\",\"all\\u002f2018\\u002f9\\u002fARSON\",\"all\\u002f2016\\u002f1\\u002fASSAULT & BATTERY D\\u002fW - KNIFE\",\"all\\u002f2016\\u002f1\\u002fASSAULT & BATTERY D\\u002fW - OTHER\",\"all\\u002f2016\\u002f6\\u002fASSAULT & BATTERY D\\u002fW - OTHER\",\"all\\u002f2016\\u002f10\\u002fASSAULT & BATTERY D\\u002fW - OTHER\",\"all\\u002f2018\\u002f1\\u002fASSAULT - AGGRAVATED\",\"all\\u002f2018\\u002f2\\u002fASSAULT - AGGRAVATED\",\"all\\u002f2018\\u002f3\\u002fASSAULT - AGGRAVATED\",\"all\\u002f2018\\u002f4\\u002fASSAULT - AGGRAVATED\",\"all\\u002f2018\\u002f5\\u002fASSAULT - AGGRAVATED\",\"all\\u002f2018\\u002f6\\u002fASSAULT - AGGRAVATED\",\"all\\u002f2018\\u002f7\\u002fASSAULT - AGGRAVATED\",\"all\\u002f2018\\u002f8\\u002fASSAULT - AGGRAVATED\",\"all\\u002f2018\\u002f9\\u002fASSAULT - AGGRAVATED\",\"all\\u002f2018\\u002f1\\u002fASSAULT - AGGRAVATED - BATTERY\",\"all\\u002f2018\\u002f2\\u002fASSAULT - AGGRAVATED - BATTERY\",\"all\\u002f2018\\u002f3\\u002fASSAULT - AGGRAVATED - BATTERY\",\"all\\u002f2018\\u002f4\\u002fASSAULT - AGGRAVATED - BATTERY\",\"all\\u002f2018\\u002f5\\u002fASSAULT - AGGRAVATED - BATTERY\",\"all\\u002f2018\\u002f6\\u002fASSAULT - AGGRAVATED - BATTERY\",\"all\\u002f2018\\u002f7\\u002fASSAULT - AGGRAVATED - BATTERY\",\"all\\u002f2018\\u002f8\\u002fASSAULT - AGGRAVATED - BATTERY\",\"all\\u002f2018\\u002f9\\u002fASSAULT - AGGRAVATED - BATTERY\",\"all\\u002f2018\\u002f1\\u002fASSAULT - SIMPLE\",\"all\\u002f2018\\u002f2\\u002fASSAULT - SIMPLE\",\"all\\u002f2018\\u002f3\\u002fASSAULT - SIMPLE\",\"all\\u002f2018\\u002f4\\u002fASSAULT - SIMPLE\",\"all\\u002f2018\\u002f5\\u002fASSAULT - SIMPLE\",\"all\\u002f2018\\u002f6\\u002fASSAULT - SIMPLE\",\"all\\u002f2018\\u002f7\\u002fASSAULT - SIMPLE\",\"all\\u002f2018\\u002f8\\u002fASSAULT - SIMPLE\",\"all\\u002f2018\\u002f9\\u002fASSAULT - SIMPLE\",\"all\\u002f2015\\u002f8\\u002fASSAULT D\\u002fW - KNIFE ON POLICE OFFICER\",\"all\\u002f2018\\u002f1\\u002fASSAULT SIMPLE - BATTERY\",\"all\\u002f2018\\u002f2\\u002fASSAULT SIMPLE - BATTERY\",\"all\\u002f2018\\u002f3\\u002fASSAULT SIMPLE - BATTERY\",\"all\\u002f2018\\u002f4\\u002fASSAULT SIMPLE - BATTERY\",\"all\\u002f2018\\u002f5\\u002fASSAULT SIMPLE - BATTERY\",\"all\\u002f2018\\u002f6\\u002fASSAULT SIMPLE - BATTERY\",\"all\\u002f2018\\u002f7\\u002fASSAULT SIMPLE - BATTERY\",\"all\\u002f2018\\u002f8\\u002fASSAULT SIMPLE - BATTERY\",\"all\\u002f2018\\u002f9\\u002fASSAULT SIMPLE - BATTERY\",\"all\\u002f2018\\u002f1\\u002fAUTO THEFT\",\"all\\u002f2018\\u002f2\\u002fAUTO THEFT\",\"all\\u002f2018\\u002f3\\u002fAUTO THEFT\",\"all\\u002f2018\\u002f4\\u002fAUTO THEFT\",\"all\\u002f2018\\u002f5\\u002fAUTO THEFT\",\"all\\u002f2018\\u002f6\\u002fAUTO THEFT\",\"all\\u002f2018\\u002f7\\u002fAUTO THEFT\",\"all\\u002f2018\\u002f8\\u002fAUTO THEFT\",\"all\\u002f2018\\u002f9\\u002fAUTO THEFT\",\"all\\u002f2018\\u002f1\\u002fAUTO THEFT - LEASED\\u002fRENTED VEHICLE\",\"all\\u002f2018\\u002f2\\u002fAUTO THEFT - LEASED\\u002fRENTED VEHICLE\",\"all\\u002f2018\\u002f3\\u002fAUTO THEFT - LEASED\\u002fRENTED VEHICLE\",\"all\\u002f2018\\u002f4\\u002fAUTO THEFT - LEASED\\u002fRENTED VEHICLE\",\"all\\u002f2018\\u002f5\\u002fAUTO THEFT - LEASED\\u002fRENTED VEHICLE\",\"all\\u002f2018\\u002f6\\u002fAUTO THEFT - LEASED\\u002fRENTED VEHICLE\",\"all\\u002f2018\\u002f7\\u002fAUTO THEFT - LEASED\\u002fRENTED VEHICLE\",\"all\\u002f2018\\u002f8\\u002fAUTO THEFT - LEASED\\u002fRENTED VEHICLE\",\"all\\u002f2018\\u002f1\\u002fAUTO THEFT - MOTORCYCLE \\u002f SCOOTER\",\"all\\u002f2018\\u002f2\\u002fAUTO THEFT - MOTORCYCLE \\u002f SCOOTER\",\"all\\u002f2018\\u002f3\\u002fAUTO THEFT - MOTORCYCLE \\u002f SCOOTER\",\"all\\u002f2018\\u002f4\\u002fAUTO THEFT - MOTORCYCLE \\u002f SCOOTER\",\"all\\u002f2018\\u002f5\\u002fAUTO THEFT - MOTORCYCLE \\u002f SCOOTER\",\"all\\u002f2018\\u002f6\\u002fAUTO THEFT - MOTORCYCLE \\u002f SCOOTER\",\"all\\u002f2018\\u002f7\\u002fAUTO THEFT - MOTORCYCLE \\u002f SCOOTER\",\"all\\u002f2018\\u002f8\\u002fAUTO THEFT - MOTORCYCLE \\u002f SCOOTER\",\"all\\u002f2018\\u002f9\\u002fAUTO THEFT - MOTORCYCLE \\u002f SCOOTER\",\"all\\u002f2016\\u002f3\\u002fAUTO THEFT - RECOVERED IN BY POLICE\",\"all\\u002f2016\\u002f11\\u002fAUTO THEFT - RECOVERED IN BY POLICE\",\"all\\u002f2016\\u002f11\\u002fAUTO THEFT OTHER\",\"all\\u002f2015\\u002f12\\u002fB&E NON-RESIDENCE DAY - NO PROP TAKEN\",\"all\\u002f2015\\u002f7\\u002fB&E NON-RESIDENCE NIGHT - FORCE\",\"all\\u002f2016\\u002f1\\u002fB&E RESIDENCE DAY - NO PROP TAKEN\",\"all\\u002f2015\\u002f8\\u002fB&E RESIDENCE NIGHT - ATTEMPT FORCE\",\"all\\u002f2018\\u002f1\\u002fBALLISTICS EVIDENCE\\u002fFOUND\",\"all\\u002f2018\\u002f2\\u002fBALLISTICS EVIDENCE\\u002fFOUND\",\"all\\u002f2018\\u002f3\\u002fBALLISTICS EVIDENCE\\u002fFOUND\",\"all\\u002f2018\\u002f4\\u002fBALLISTICS EVIDENCE\\u002fFOUND\",\"all\\u002f2018\\u002f5\\u002fBALLISTICS EVIDENCE\\u002fFOUND\",\"all\\u002f2018\\u002f6\\u002fBALLISTICS EVIDENCE\\u002fFOUND\",\"all\\u002f2018\\u002f7\\u002fBALLISTICS EVIDENCE\\u002fFOUND\",\"all\\u002f2018\\u002f8\\u002fBALLISTICS EVIDENCE\\u002fFOUND\",\"all\\u002f2018\\u002f9\\u002fBALLISTICS EVIDENCE\\u002fFOUND\",\"all\\u002f2017\\u002f9\\u002fBIOLOGICAL THREATS\",\"all\\u002f2017\\u002f12\\u002fBIOLOGICAL THREATS\",\"all\\u002f2018\\u002f1\\u002fBOMB THREAT\",\"all\\u002f2018\\u002f2\\u002fBOMB THREAT\",\"all\\u002f2018\\u002f3\\u002fBOMB THREAT\",\"all\\u002f2018\\u002f4\\u002fBOMB THREAT\",\"all\\u002f2018\\u002f5\\u002fBOMB THREAT\",\"all\\u002f2018\\u002f6\\u002fBOMB THREAT\",\"all\\u002f2018\\u002f7\\u002fBOMB THREAT\",\"all\\u002f2018\\u002f8\\u002fBOMB THREAT\",\"all\\u002f2018\\u002f9\\u002fBOMB THREAT\",\"all\\u002f2018\\u002f1\\u002fBURGLARY - COMMERICAL - ATTEMPT\",\"all\\u002f2018\\u002f2\\u002fBURGLARY - COMMERICAL - ATTEMPT\",\"all\\u002f2018\\u002f3\\u002fBURGLARY - COMMERICAL - ATTEMPT\",\"all\\u002f2018\\u002f4\\u002fBURGLARY - COMMERICAL - ATTEMPT\",\"all\\u002f2018\\u002f6\\u002fBURGLARY - COMMERICAL - ATTEMPT\",\"all\\u002f2018\\u002f8\\u002fBURGLARY - COMMERICAL - ATTEMPT\",\"all\\u002f2018\\u002f1\\u002fBURGLARY - COMMERICAL - FORCE\",\"all\\u002f2018\\u002f2\\u002fBURGLARY - COMMERICAL - FORCE\",\"all\\u002f2018\\u002f3\\u002fBURGLARY - COMMERICAL - FORCE\",\"all\\u002f2018\\u002f4\\u002fBURGLARY - COMMERICAL - FORCE\",\"all\\u002f2018\\u002f5\\u002fBURGLARY - COMMERICAL - FORCE\",\"all\\u002f2018\\u002f6\\u002fBURGLARY - COMMERICAL - FORCE\",\"all\\u002f2018\\u002f7\\u002fBURGLARY - COMMERICAL - FORCE\",\"all\\u002f2018\\u002f8\\u002fBURGLARY - COMMERICAL - FORCE\",\"all\\u002f2018\\u002f1\\u002fBURGLARY - COMMERICAL - NO FORCE\",\"all\\u002f2018\\u002f2\\u002fBURGLARY - COMMERICAL - NO FORCE\",\"all\\u002f2018\\u002f3\\u002fBURGLARY - COMMERICAL - NO FORCE\",\"all\\u002f2018\\u002f4\\u002fBURGLARY - COMMERICAL - NO FORCE\",\"all\\u002f2018\\u002f5\\u002fBURGLARY - COMMERICAL - NO FORCE\",\"all\\u002f2018\\u002f6\\u002fBURGLARY - COMMERICAL - NO FORCE\",\"all\\u002f2018\\u002f7\\u002fBURGLARY - COMMERICAL - NO FORCE\",\"all\\u002f2018\\u002f8\\u002fBURGLARY - COMMERICAL - NO FORCE\",\"all\\u002f2018\\u002f2\\u002fBURGLARY - OTHER - ATTEMPT\",\"all\\u002f2018\\u002f4\\u002fBURGLARY - OTHER - ATTEMPT\",\"all\\u002f2018\\u002f5\\u002fBURGLARY - OTHER - ATTEMPT\",\"all\\u002f2018\\u002f6\\u002fBURGLARY - OTHER - ATTEMPT\",\"all\\u002f2018\\u002f7\\u002fBURGLARY - OTHER - ATTEMPT\",\"all\\u002f2018\\u002f8\\u002fBURGLARY - OTHER - ATTEMPT\",\"all\\u002f2018\\u002f9\\u002fBURGLARY - OTHER - ATTEMPT\",\"all\\u002f2018\\u002f1\\u002fBURGLARY - OTHER - FORCE\",\"all\\u002f2018\\u002f2\\u002fBURGLARY - OTHER - FORCE\",\"all\\u002f2018\\u002f3\\u002fBURGLARY - OTHER - FORCE\",\"all\\u002f2018\\u002f4\\u002fBURGLARY - OTHER - FORCE\",\"all\\u002f2018\\u002f5\\u002fBURGLARY - OTHER - FORCE\",\"all\\u002f2018\\u002f6\\u002fBURGLARY - OTHER - FORCE\",\"all\\u002f2018\\u002f7\\u002fBURGLARY - OTHER - FORCE\",\"all\\u002f2018\\u002f8\\u002fBURGLARY - OTHER - FORCE\",\"all\\u002f2018\\u002f1\\u002fBURGLARY - OTHER - NO FORCE\",\"all\\u002f2018\\u002f2\\u002fBURGLARY - OTHER - NO FORCE\",\"all\\u002f2018\\u002f3\\u002fBURGLARY - OTHER - NO FORCE\",\"all\\u002f2018\\u002f4\\u002fBURGLARY - OTHER - NO FORCE\",\"all\\u002f2018\\u002f5\\u002fBURGLARY - OTHER - NO FORCE\",\"all\\u002f2018\\u002f6\\u002fBURGLARY - OTHER - NO FORCE\",\"all\\u002f2018\\u002f7\\u002fBURGLARY - OTHER - NO FORCE\",\"all\\u002f2018\\u002f1\\u002fBURGLARY - RESIDENTIAL - ATTEMPT\",\"all\\u002f2018\\u002f2\\u002fBURGLARY - RESIDENTIAL - ATTEMPT\",\"all\\u002f2018\\u002f3\\u002fBURGLARY - RESIDENTIAL - ATTEMPT\",\"all\\u002f2018\\u002f4\\u002fBURGLARY - RESIDENTIAL - ATTEMPT\",\"all\\u002f2018\\u002f5\\u002fBURGLARY - RESIDENTIAL - ATTEMPT\",\"all\\u002f2018\\u002f6\\u002fBURGLARY - RESIDENTIAL - ATTEMPT\",\"all\\u002f2018\\u002f7\\u002fBURGLARY - RESIDENTIAL - ATTEMPT\",\"all\\u002f2018\\u002f8\\u002fBURGLARY - RESIDENTIAL - ATTEMPT\",\"all\\u002f2018\\u002f1\\u002fBURGLARY - RESIDENTIAL - FORCE\",\"all\\u002f2018\\u002f2\\u002fBURGLARY - RESIDENTIAL - FORCE\",\"all\\u002f2018\\u002f3\\u002fBURGLARY - RESIDENTIAL - FORCE\",\"all\\u002f2018\\u002f4\\u002fBURGLARY - RESIDENTIAL - FORCE\",\"all\\u002f2018\\u002f5\\u002fBURGLARY - RESIDENTIAL - FORCE\",\"all\\u002f2018\\u002f6\\u002fBURGLARY - RESIDENTIAL - FORCE\",\"all\\u002f2018\\u002f7\\u002fBURGLARY - RESIDENTIAL - FORCE\",\"all\\u002f2018\\u002f8\\u002fBURGLARY - RESIDENTIAL - FORCE\",\"all\\u002f2018\\u002f9\\u002fBURGLARY - RESIDENTIAL - FORCE\",\"all\\u002f2018\\u002f1\\u002fBURGLARY - RESIDENTIAL - NO FORCE\",\"all\\u002f2018\\u002f2\\u002fBURGLARY - RESIDENTIAL - NO FORCE\",\"all\\u002f2018\\u002f3\\u002fBURGLARY - RESIDENTIAL - NO FORCE\",\"all\\u002f2018\\u002f4\\u002fBURGLARY - RESIDENTIAL - NO FORCE\",\"all\\u002f2018\\u002f5\\u002fBURGLARY - RESIDENTIAL - NO FORCE\",\"all\\u002f2018\\u002f6\\u002fBURGLARY - RESIDENTIAL - NO FORCE\",\"all\\u002f2018\\u002f7\\u002fBURGLARY - RESIDENTIAL - NO FORCE\",\"all\\u002f2018\\u002f8\\u002fBURGLARY - RESIDENTIAL - NO FORCE\",\"all\\u002f2018\\u002f9\\u002fBURGLARY - RESIDENTIAL - NO FORCE\",\"all\\u002f2018\\u002f2\\u002fCHILD ABANDONMENT (NO ASSAULT)\",\"all\\u002f2018\\u002f3\\u002fCHILD ABANDONMENT (NO ASSAULT)\",\"all\\u002f2018\\u002f4\\u002fCHILD ABANDONMENT (NO ASSAULT)\",\"all\\u002f2018\\u002f5\\u002fCHILD ABANDONMENT (NO ASSAULT)\",\"all\\u002f2018\\u002f1\\u002fCHILD ENDANGERMENT\",\"all\\u002f2018\\u002f2\\u002fCHILD ENDANGERMENT\",\"all\\u002f2018\\u002f3\\u002fCHILD ENDANGERMENT\",\"all\\u002f2018\\u002f4\\u002fCHILD ENDANGERMENT\",\"all\\u002f2018\\u002f5\\u002fCHILD ENDANGERMENT\",\"all\\u002f2018\\u002f6\\u002fCHILD ENDANGERMENT\",\"all\\u002f2018\\u002f7\\u002fCHILD ENDANGERMENT\",\"all\\u002f2018\\u002f8\\u002fCHILD ENDANGERMENT\",\"all\\u002f2018\\u002f1\\u002fCHILD ENDANGERMENT (NO ASSAULT)\",\"all\\u002f2018\\u002f2\\u002fCHILD ENDANGERMENT (NO ASSAULT)\",\"all\\u002f2018\\u002f3\\u002fCHILD ENDANGERMENT (NO ASSAULT)\",\"all\\u002f2018\\u002f4\\u002fCHILD ENDANGERMENT (NO ASSAULT)\",\"all\\u002f2018\\u002f5\\u002fCHILD ENDANGERMENT (NO ASSAULT)\",\"all\\u002f2018\\u002f6\\u002fCHILD ENDANGERMENT (NO ASSAULT)\",\"all\\u002f2018\\u002f7\\u002fCHILD ENDANGERMENT (NO ASSAULT)\",\"all\\u002f2018\\u002f8\\u002fCHILD ENDANGERMENT (NO ASSAULT)\",\"all\\u002f2018\\u002f2\\u002fCHINS\",\"all\\u002f2018\\u002f7\\u002fCHINS\",\"all\\u002f2018\\u002f8\\u002fCHINS\",\"all\\u002f2018\\u002f1\\u002fCONSPIRACY EXCEPT DRUG LAW\",\"all\\u002f2018\\u002f2\\u002fCONSPIRACY EXCEPT DRUG LAW\",\"all\\u002f2018\\u002f6\\u002fCONSPIRACY EXCEPT DRUG LAW\",\"all\\u002f2018\\u002f8\\u002fCONSPIRACY EXCEPT DRUG LAW\",\"all\\u002f2018\\u002f6\\u002fCONTRIBUTING TO DELINQUENCY OF MINOR\",\"all\\u002f2018\\u002f1\\u002fCRIMINAL HARASSMENT\",\"all\\u002f2018\\u002f2\\u002fCRIMINAL HARASSMENT\",\"all\\u002f2018\\u002f3\\u002fCRIMINAL HARASSMENT\",\"all\\u002f2018\\u002f4\\u002fCRIMINAL HARASSMENT\",\"all\\u002f2018\\u002f5\\u002fCRIMINAL HARASSMENT\",\"all\\u002f2018\\u002f6\\u002fCRIMINAL HARASSMENT\",\"all\\u002f2018\\u002f7\\u002fCRIMINAL HARASSMENT\",\"all\\u002f2018\\u002f8\\u002fCRIMINAL HARASSMENT\",\"all\\u002f2017\\u002f2\\u002fCUSTODIAL KIDNAPPING\",\"all\\u002f2017\\u002f6\\u002fCUSTODIAL KIDNAPPING\",\"all\\u002f2017\\u002f7\\u002fCUSTODIAL KIDNAPPING\",\"all\\u002f2017\\u002f11\\u002fCUSTODIAL KIDNAPPING\",\"all\\u002f2018\\u002f1\\u002fDANGEROUS OR HAZARDOUS CONDITION\",\"all\\u002f2018\\u002f3\\u002fDANGEROUS OR HAZARDOUS CONDITION\",\"all\\u002f2018\\u002f4\\u002fDANGEROUS OR HAZARDOUS CONDITION\",\"all\\u002f2018\\u002f5\\u002fDANGEROUS OR HAZARDOUS CONDITION\",\"all\\u002f2018\\u002f6\\u002fDANGEROUS OR HAZARDOUS CONDITION\",\"all\\u002f2018\\u002f7\\u002fDANGEROUS OR HAZARDOUS CONDITION\",\"all\\u002f2018\\u002f8\\u002fDANGEROUS OR HAZARDOUS CONDITION\",\"all\\u002f2018\\u002f9\\u002fDANGEROUS OR HAZARDOUS CONDITION\",\"all\\u002f2018\\u002f1\\u002fDEATH INVESTIGATION\",\"all\\u002f2018\\u002f2\\u002fDEATH INVESTIGATION\",\"all\\u002f2018\\u002f3\\u002fDEATH INVESTIGATION\",\"all\\u002f2018\\u002f4\\u002fDEATH INVESTIGATION\",\"all\\u002f2018\\u002f5\\u002fDEATH INVESTIGATION\",\"all\\u002f2018\\u002f6\\u002fDEATH INVESTIGATION\",\"all\\u002f2018\\u002f7\\u002fDEATH INVESTIGATION\",\"all\\u002f2018\\u002f8\\u002fDEATH INVESTIGATION\",\"all\\u002f2018\\u002f9\\u002fDEATH INVESTIGATION\",\"all\\u002f2018\\u002f1\\u002fDEMONSTRATIONS\\u002fRIOT\",\"all\\u002f2018\\u002f2\\u002fDEMONSTRATIONS\\u002fRIOT\",\"all\\u002f2018\\u002f3\\u002fDEMONSTRATIONS\\u002fRIOT\",\"all\\u002f2018\\u002f4\\u002fDEMONSTRATIONS\\u002fRIOT\",\"all\\u002f2018\\u002f5\\u002fDEMONSTRATIONS\\u002fRIOT\",\"all\\u002f2018\\u002f6\\u002fDEMONSTRATIONS\\u002fRIOT\",\"all\\u002f2018\\u002f7\\u002fDEMONSTRATIONS\\u002fRIOT\",\"all\\u002f2018\\u002f8\\u002fDEMONSTRATIONS\\u002fRIOT\",\"all\\u002f2018\\u002f9\\u002fDEMONSTRATIONS\\u002fRIOT\",\"all\\u002f2018\\u002f1\\u002fDISORDERLY CONDUCT\",\"all\\u002f2018\\u002f2\\u002fDISORDERLY CONDUCT\",\"all\\u002f2018\\u002f3\\u002fDISORDERLY CONDUCT\",\"all\\u002f2018\\u002f4\\u002fDISORDERLY CONDUCT\",\"all\\u002f2018\\u002f5\\u002fDISORDERLY CONDUCT\",\"all\\u002f2018\\u002f6\\u002fDISORDERLY CONDUCT\",\"all\\u002f2018\\u002f7\\u002fDISORDERLY CONDUCT\",\"all\\u002f2018\\u002f8\\u002fDISORDERLY CONDUCT\",\"all\\u002f2018\\u002f9\\u002fDISORDERLY CONDUCT\",\"all\\u002f2018\\u002f1\\u002fDISTURBING THE PEACE\",\"all\\u002f2018\\u002f2\\u002fDISTURBING THE PEACE\",\"all\\u002f2018\\u002f3\\u002fDISTURBING THE PEACE\",\"all\\u002f2018\\u002f4\\u002fDISTURBING THE PEACE\",\"all\\u002f2018\\u002f5\\u002fDISTURBING THE PEACE\",\"all\\u002f2018\\u002f6\\u002fDISTURBING THE PEACE\",\"all\\u002f2018\\u002f7\\u002fDISTURBING THE PEACE\",\"all\\u002f2018\\u002f8\\u002fDISTURBING THE PEACE\",\"all\\u002f2018\\u002f9\\u002fDISTURBING THE PEACE\",\"all\\u002f2018\\u002f1\\u002fDRUGS - CLASS A TRAFFICKING OVER 18 GRAMS\",\"all\\u002f2018\\u002f2\\u002fDRUGS - CLASS A TRAFFICKING OVER 18 GRAMS\",\"all\\u002f2018\\u002f3\\u002fDRUGS - CLASS A TRAFFICKING OVER 18 GRAMS\",\"all\\u002f2018\\u002f4\\u002fDRUGS - CLASS A TRAFFICKING OVER 18 GRAMS\",\"all\\u002f2018\\u002f5\\u002fDRUGS - CLASS A TRAFFICKING OVER 18 GRAMS\",\"all\\u002f2018\\u002f6\\u002fDRUGS - CLASS A TRAFFICKING OVER 18 GRAMS\",\"all\\u002f2018\\u002f7\\u002fDRUGS - CLASS A TRAFFICKING OVER 18 GRAMS\",\"all\\u002f2018\\u002f8\\u002fDRUGS - CLASS A TRAFFICKING OVER 18 GRAMS\",\"all\\u002f2018\\u002f1\\u002fDRUGS - CLASS B TRAFFICKING OVER 18 GRAMS\",\"all\\u002f2018\\u002f2\\u002fDRUGS - CLASS B TRAFFICKING OVER 18 GRAMS\",\"all\\u002f2018\\u002f3\\u002fDRUGS - CLASS B TRAFFICKING OVER 18 GRAMS\",\"all\\u002f2018\\u002f4\\u002fDRUGS - CLASS B TRAFFICKING OVER 18 GRAMS\",\"all\\u002f2018\\u002f5\\u002fDRUGS - CLASS B TRAFFICKING OVER 18 GRAMS\",\"all\\u002f2018\\u002f6\\u002fDRUGS - CLASS B TRAFFICKING OVER 18 GRAMS\",\"all\\u002f2018\\u002f7\\u002fDRUGS - CLASS B TRAFFICKING OVER 18 GRAMS\",\"all\\u002f2018\\u002f8\\u002fDRUGS - CLASS B TRAFFICKING OVER 18 GRAMS\",\"all\\u002f2018\\u002f9\\u002fDRUGS - CLASS B TRAFFICKING OVER 18 GRAMS\",\"all\\u002f2018\\u002f4\\u002fDRUGS - CLASS D TRAFFICKING OVER 50 GRAMS\",\"all\\u002f2018\\u002f5\\u002fDRUGS - CLASS D TRAFFICKING OVER 50 GRAMS\",\"all\\u002f2018\\u002f7\\u002fDRUGS - CLASS D TRAFFICKING OVER 50 GRAMS\",\"all\\u002f2018\\u002f2\\u002fDRUGS - CONSP TO VIOL CONTROLLED SUBSTANCE\",\"all\\u002f2018\\u002f4\\u002fDRUGS - CONSP TO VIOL CONTROLLED SUBSTANCE\",\"all\\u002f2018\\u002f5\\u002fDRUGS - CONSP TO VIOL CONTROLLED SUBSTANCE\",\"all\\u002f2018\\u002f6\\u002fDRUGS - CONSP TO VIOL CONTROLLED SUBSTANCE\",\"all\\u002f2018\\u002f7\\u002fDRUGS - CONSP TO VIOL CONTROLLED SUBSTANCE\",\"all\\u002f2016\\u002f12\\u002fDRUGS - GLUE INHALATION\",\"all\\u002f2018\\u002f1\\u002fDRUGS - OTHER\",\"all\\u002f2018\\u002f2\\u002fDRUGS - OTHER\",\"all\\u002f2018\\u002f3\\u002fDRUGS - OTHER\",\"all\\u002f2018\\u002f4\\u002fDRUGS - OTHER\",\"all\\u002f2018\\u002f5\\u002fDRUGS - OTHER\",\"all\\u002f2018\\u002f6\\u002fDRUGS - OTHER\",\"all\\u002f2018\\u002f7\\u002fDRUGS - OTHER\",\"all\\u002f2018\\u002f8\\u002fDRUGS - OTHER\",\"all\\u002f2018\\u002f9\\u002fDRUGS - OTHER\",\"all\\u002f2018\\u002f1\\u002fDRUGS - POSS CLASS A - HEROIN, ETC. \",\"all\\u002f2018\\u002f2\\u002fDRUGS - POSS CLASS A - HEROIN, ETC. \",\"all\\u002f2018\\u002f3\\u002fDRUGS - POSS CLASS A - HEROIN, ETC. \",\"all\\u002f2018\\u002f4\\u002fDRUGS - POSS CLASS A - HEROIN, ETC. \",\"all\\u002f2018\\u002f5\\u002fDRUGS - POSS CLASS A - HEROIN, ETC. \",\"all\\u002f2018\\u002f6\\u002fDRUGS - POSS CLASS A - HEROIN, ETC. \",\"all\\u002f2018\\u002f7\\u002fDRUGS - POSS CLASS A - HEROIN, ETC. \",\"all\\u002f2018\\u002f8\\u002fDRUGS - POSS CLASS A - HEROIN, ETC. \",\"all\\u002f2018\\u002f9\\u002fDRUGS - POSS CLASS A - HEROIN, ETC. \",\"all\\u002f2018\\u002f1\\u002fDRUGS - POSS CLASS A - INTENT TO MFR DIST DISP\",\"all\\u002f2018\\u002f2\\u002fDRUGS - POSS CLASS A - INTENT TO MFR DIST DISP\",\"all\\u002f2018\\u002f3\\u002fDRUGS - POSS CLASS A - INTENT TO MFR DIST DISP\",\"all\\u002f2018\\u002f4\\u002fDRUGS - POSS CLASS A - INTENT TO MFR DIST DISP\",\"all\\u002f2018\\u002f5\\u002fDRUGS - POSS CLASS A - INTENT TO MFR DIST DISP\",\"all\\u002f2018\\u002f6\\u002fDRUGS - POSS CLASS A - INTENT TO MFR DIST DISP\",\"all\\u002f2018\\u002f7\\u002fDRUGS - POSS CLASS A - INTENT TO MFR DIST DISP\",\"all\\u002f2018\\u002f8\\u002fDRUGS - POSS CLASS A - INTENT TO MFR DIST DISP\",\"all\\u002f2018\\u002f9\\u002fDRUGS - POSS CLASS A - INTENT TO MFR DIST DISP\",\"all\\u002f2018\\u002f1\\u002fDRUGS - POSS CLASS B - COCAINE, ETC.\",\"all\\u002f2018\\u002f2\\u002fDRUGS - POSS CLASS B - COCAINE, ETC.\",\"all\\u002f2018\\u002f3\\u002fDRUGS - POSS CLASS B - COCAINE, ETC.\",\"all\\u002f2018\\u002f4\\u002fDRUGS - POSS CLASS B - COCAINE, ETC.\",\"all\\u002f2018\\u002f5\\u002fDRUGS - POSS CLASS B - COCAINE, ETC.\",\"all\\u002f2018\\u002f6\\u002fDRUGS - POSS CLASS B - COCAINE, ETC.\",\"all\\u002f2018\\u002f7\\u002fDRUGS - POSS CLASS B - COCAINE, ETC.\",\"all\\u002f2018\\u002f8\\u002fDRUGS - POSS CLASS B - COCAINE, ETC.\",\"all\\u002f2018\\u002f9\\u002fDRUGS - POSS CLASS B - COCAINE, ETC.\",\"all\\u002f2018\\u002f1\\u002fDRUGS - POSS CLASS B - INTENT TO MFR DIST DISP\",\"all\\u002f2018\\u002f2\\u002fDRUGS - POSS CLASS B - INTENT TO MFR DIST DISP\",\"all\\u002f2018\\u002f3\\u002fDRUGS - POSS CLASS B - INTENT TO MFR DIST DISP\",\"all\\u002f2018\\u002f4\\u002fDRUGS - POSS CLASS B - INTENT TO MFR DIST DISP\",\"all\\u002f2018\\u002f5\\u002fDRUGS - POSS CLASS B - INTENT TO MFR DIST DISP\",\"all\\u002f2018\\u002f6\\u002fDRUGS - POSS CLASS B - INTENT TO MFR DIST DISP\",\"all\\u002f2018\\u002f7\\u002fDRUGS - POSS CLASS B - INTENT TO MFR DIST DISP\",\"all\\u002f2018\\u002f8\\u002fDRUGS - POSS CLASS B - INTENT TO MFR DIST DISP\",\"all\\u002f2018\\u002f9\\u002fDRUGS - POSS CLASS B - INTENT TO MFR DIST DISP\",\"all\\u002f2018\\u002f1\\u002fDRUGS - POSS CLASS C\",\"all\\u002f2018\\u002f2\\u002fDRUGS - POSS CLASS C\",\"all\\u002f2018\\u002f3\\u002fDRUGS - POSS CLASS C\",\"all\\u002f2018\\u002f4\\u002fDRUGS - POSS CLASS C\",\"all\\u002f2018\\u002f5\\u002fDRUGS - POSS CLASS C\",\"all\\u002f2018\\u002f6\\u002fDRUGS - POSS CLASS C\",\"all\\u002f2018\\u002f7\\u002fDRUGS - POSS CLASS C\",\"all\\u002f2018\\u002f8\\u002fDRUGS - POSS CLASS C\",\"all\\u002f2018\\u002f9\\u002fDRUGS - POSS CLASS C\",\"all\\u002f2018\\u002f1\\u002fDRUGS - POSS CLASS C - INTENT TO MFR DIST DISP\",\"all\\u002f2018\\u002f2\\u002fDRUGS - POSS CLASS C - INTENT TO MFR DIST DISP\",\"all\\u002f2018\\u002f3\\u002fDRUGS - POSS CLASS C - INTENT TO MFR DIST DISP\",\"all\\u002f2018\\u002f4\\u002fDRUGS - POSS CLASS C - INTENT TO MFR DIST DISP\",\"all\\u002f2018\\u002f5\\u002fDRUGS - POSS CLASS C - INTENT TO MFR DIST DISP\",\"all\\u002f2018\\u002f6\\u002fDRUGS - POSS CLASS C - INTENT TO MFR DIST DISP\",\"all\\u002f2018\\u002f7\\u002fDRUGS - POSS CLASS C - INTENT TO MFR DIST DISP\",\"all\\u002f2018\\u002f8\\u002fDRUGS - POSS CLASS C - INTENT TO MFR DIST DISP\",\"all\\u002f2018\\u002f1\\u002fDRUGS - POSS CLASS D\",\"all\\u002f2018\\u002f2\\u002fDRUGS - POSS CLASS D\",\"all\\u002f2018\\u002f3\\u002fDRUGS - POSS CLASS D\",\"all\\u002f2018\\u002f4\\u002fDRUGS - POSS CLASS D\",\"all\\u002f2018\\u002f5\\u002fDRUGS - POSS CLASS D\",\"all\\u002f2018\\u002f6\\u002fDRUGS - POSS CLASS D\",\"all\\u002f2018\\u002f7\\u002fDRUGS - POSS CLASS D\",\"all\\u002f2018\\u002f8\\u002fDRUGS - POSS CLASS D\",\"all\\u002f2018\\u002f1\\u002fDRUGS - POSS CLASS D - INTENT MFR DIST DISP\",\"all\\u002f2018\\u002f1\\u002fDRUGS - POSS CLASS D - INTENT TO MFR DIST DISP\",\"all\\u002f2018\\u002f2\\u002fDRUGS - POSS CLASS D - INTENT TO MFR DIST DISP\",\"all\\u002f2018\\u002f3\\u002fDRUGS - POSS CLASS D - INTENT TO MFR DIST DISP\",\"all\\u002f2018\\u002f4\\u002fDRUGS - POSS CLASS D - INTENT TO MFR DIST DISP\",\"all\\u002f2018\\u002f5\\u002fDRUGS - POSS CLASS D - INTENT TO MFR DIST DISP\",\"all\\u002f2018\\u002f6\\u002fDRUGS - POSS CLASS D - INTENT TO MFR DIST DISP\",\"all\\u002f2018\\u002f7\\u002fDRUGS - POSS CLASS D - INTENT TO MFR DIST DISP\",\"all\\u002f2018\\u002f8\\u002fDRUGS - POSS CLASS D - INTENT TO MFR DIST DISP\",\"all\\u002f2018\\u002f9\\u002fDRUGS - POSS CLASS D - INTENT TO MFR DIST DISP\",\"all\\u002f2015\\u002f12\\u002fDRUGS - POSS CLASS D - MARIJUANA, ETC.\",\"all\\u002f2018\\u002f1\\u002fDRUGS - POSS CLASS E\",\"all\\u002f2018\\u002f2\\u002fDRUGS - POSS CLASS E\",\"all\\u002f2018\\u002f3\\u002fDRUGS - POSS CLASS E\",\"all\\u002f2018\\u002f4\\u002fDRUGS - POSS CLASS E\",\"all\\u002f2018\\u002f5\\u002fDRUGS - POSS CLASS E\",\"all\\u002f2018\\u002f6\\u002fDRUGS - POSS CLASS E\",\"all\\u002f2018\\u002f7\\u002fDRUGS - POSS CLASS E\",\"all\\u002f2018\\u002f8\\u002fDRUGS - POSS CLASS E\",\"all\\u002f2018\\u002f9\\u002fDRUGS - POSS CLASS E\",\"all\\u002f2018\\u002f1\\u002fDRUGS - POSS CLASS E - INTENT TO MFR DIST DISP\",\"all\\u002f2018\\u002f2\\u002fDRUGS - POSS CLASS E - INTENT TO MFR DIST DISP\",\"all\\u002f2018\\u002f3\\u002fDRUGS - POSS CLASS E - INTENT TO MFR DIST DISP\",\"all\\u002f2018\\u002f4\\u002fDRUGS - POSS CLASS E - INTENT TO MFR DIST DISP\",\"all\\u002f2018\\u002f5\\u002fDRUGS - POSS CLASS E - INTENT TO MFR DIST DISP\",\"all\\u002f2018\\u002f6\\u002fDRUGS - POSS CLASS E - INTENT TO MFR DIST DISP\",\"all\\u002f2018\\u002f7\\u002fDRUGS - POSS CLASS E - INTENT TO MFR DIST DISP\",\"all\\u002f2018\\u002f8\\u002fDRUGS - POSS CLASS E - INTENT TO MFR DIST DISP\",\"all\\u002f2016\\u002f3\\u002fDRUGS - POSS CLASS E INTENT TO MF DIST DISP\",\"all\\u002f2018\\u002f1\\u002fDRUGS - POSSESSION\",\"all\\u002f2018\\u002f2\\u002fDRUGS - POSSESSION\",\"all\\u002f2018\\u002f3\\u002fDRUGS - POSSESSION\",\"all\\u002f2018\\u002f4\\u002fDRUGS - POSSESSION\",\"all\\u002f2018\\u002f7\\u002fDRUGS - POSSESSION\",\"all\\u002f2018\\u002f8\\u002fDRUGS - POSSESSION\",\"all\\u002f2018\\u002f9\\u002fDRUGS - POSSESSION\",\"all\\u002f2018\\u002f1\\u002fDRUGS - POSSESSION OF DRUG PARAPHANALIA\",\"all\\u002f2018\\u002f2\\u002fDRUGS - POSSESSION OF DRUG PARAPHANALIA\",\"all\\u002f2018\\u002f3\\u002fDRUGS - POSSESSION OF DRUG PARAPHANALIA\",\"all\\u002f2018\\u002f4\\u002fDRUGS - POSSESSION OF DRUG PARAPHANALIA\",\"all\\u002f2018\\u002f5\\u002fDRUGS - POSSESSION OF DRUG PARAPHANALIA\",\"all\\u002f2018\\u002f7\\u002fDRUGS - POSSESSION OF DRUG PARAPHANALIA\",\"all\\u002f2018\\u002f1\\u002fDRUGS - SALE \\u002f MANUFACTURING\",\"all\\u002f2018\\u002f2\\u002fDRUGS - SALE \\u002f MANUFACTURING\",\"all\\u002f2018\\u002f3\\u002fDRUGS - SALE \\u002f MANUFACTURING\",\"all\\u002f2018\\u002f4\\u002fDRUGS - SALE \\u002f MANUFACTURING\",\"all\\u002f2018\\u002f5\\u002fDRUGS - SALE \\u002f MANUFACTURING\",\"all\\u002f2018\\u002f6\\u002fDRUGS - SALE \\u002f MANUFACTURING\",\"all\\u002f2018\\u002f7\\u002fDRUGS - SALE \\u002f MANUFACTURING\",\"all\\u002f2018\\u002f8\\u002fDRUGS - SALE \\u002f MANUFACTURING\",\"all\\u002f2018\\u002f9\\u002fDRUGS - SALE \\u002f MANUFACTURING\",\"all\\u002f2018\\u002f1\\u002fDRUGS - SICK ASSIST - HEROIN\",\"all\\u002f2018\\u002f2\\u002fDRUGS - SICK ASSIST - HEROIN\",\"all\\u002f2018\\u002f3\\u002fDRUGS - SICK ASSIST - HEROIN\",\"all\\u002f2018\\u002f4\\u002fDRUGS - SICK ASSIST - HEROIN\",\"all\\u002f2018\\u002f5\\u002fDRUGS - SICK ASSIST - HEROIN\",\"all\\u002f2018\\u002f6\\u002fDRUGS - SICK ASSIST - HEROIN\",\"all\\u002f2018\\u002f7\\u002fDRUGS - SICK ASSIST - HEROIN\",\"all\\u002f2018\\u002f8\\u002fDRUGS - SICK ASSIST - HEROIN\",\"all\\u002f2018\\u002f9\\u002fDRUGS - SICK ASSIST - HEROIN\",\"all\\u002f2018\\u002f1\\u002fDRUGS - SICK ASSIST - OTHER HARMFUL DRUG\",\"all\\u002f2018\\u002f3\\u002fDRUGS - SICK ASSIST - OTHER HARMFUL DRUG\",\"all\\u002f2018\\u002f4\\u002fDRUGS - SICK ASSIST - OTHER HARMFUL DRUG\",\"all\\u002f2018\\u002f5\\u002fDRUGS - SICK ASSIST - OTHER HARMFUL DRUG\",\"all\\u002f2018\\u002f6\\u002fDRUGS - SICK ASSIST - OTHER HARMFUL DRUG\",\"all\\u002f2018\\u002f7\\u002fDRUGS - SICK ASSIST - OTHER HARMFUL DRUG\",\"all\\u002f2018\\u002f8\\u002fDRUGS - SICK ASSIST - OTHER HARMFUL DRUG\",\"all\\u002f2018\\u002f1\\u002fDRUGS - SICK ASSIST - OTHER NARCOTIC\",\"all\\u002f2018\\u002f2\\u002fDRUGS - SICK ASSIST - OTHER NARCOTIC\",\"all\\u002f2018\\u002f3\\u002fDRUGS - SICK ASSIST - OTHER NARCOTIC\",\"all\\u002f2018\\u002f4\\u002fDRUGS - SICK ASSIST - OTHER NARCOTIC\",\"all\\u002f2018\\u002f5\\u002fDRUGS - SICK ASSIST - OTHER NARCOTIC\",\"all\\u002f2018\\u002f6\\u002fDRUGS - SICK ASSIST - OTHER NARCOTIC\",\"all\\u002f2018\\u002f7\\u002fDRUGS - SICK ASSIST - OTHER NARCOTIC\",\"all\\u002f2018\\u002f8\\u002fDRUGS - SICK ASSIST - OTHER NARCOTIC\",\"all\\u002f2018\\u002f9\\u002fDRUGS - SICK ASSIST - OTHER NARCOTIC\",\"all\\u002f2018\\u002f1\\u002fEMBEZZLEMENT\",\"all\\u002f2018\\u002f2\\u002fEMBEZZLEMENT\",\"all\\u002f2018\\u002f3\\u002fEMBEZZLEMENT\",\"all\\u002f2018\\u002f4\\u002fEMBEZZLEMENT\",\"all\\u002f2018\\u002f5\\u002fEMBEZZLEMENT\",\"all\\u002f2018\\u002f6\\u002fEMBEZZLEMENT\",\"all\\u002f2018\\u002f7\\u002fEMBEZZLEMENT\",\"all\\u002f2018\\u002f8\\u002fEMBEZZLEMENT\",\"all\\u002f2018\\u002f1\\u002fEVADING FARE\",\"all\\u002f2018\\u002f2\\u002fEVADING FARE\",\"all\\u002f2018\\u002f3\\u002fEVADING FARE\",\"all\\u002f2018\\u002f4\\u002fEVADING FARE\",\"all\\u002f2018\\u002f5\\u002fEVADING FARE\",\"all\\u002f2018\\u002f6\\u002fEVADING FARE\",\"all\\u002f2018\\u002f7\\u002fEVADING FARE\",\"all\\u002f2018\\u002f8\\u002fEVADING FARE\",\"all\\u002f2018\\u002f5\\u002fEXPLOSIVES - POSSESSION OR USE\",\"all\\u002f2018\\u002f7\\u002fEXPLOSIVES - POSSESSION OR USE\",\"all\\u002f2018\\u002f8\\u002fEXPLOSIVES - POSSESSION OR USE\",\"all\\u002f2018\\u002f7\\u002fEXPLOSIVES - TURNED IN OR FOUND\",\"all\\u002f2018\\u002f8\\u002fEXPLOSIVES - TURNED IN OR FOUND\",\"all\\u002f2018\\u002f1\\u002fEXTORTION OR BLACKMAIL\",\"all\\u002f2018\\u002f2\\u002fEXTORTION OR BLACKMAIL\",\"all\\u002f2018\\u002f3\\u002fEXTORTION OR BLACKMAIL\",\"all\\u002f2018\\u002f4\\u002fEXTORTION OR BLACKMAIL\",\"all\\u002f2018\\u002f5\\u002fEXTORTION OR BLACKMAIL\",\"all\\u002f2018\\u002f6\\u002fEXTORTION OR BLACKMAIL\",\"all\\u002f2018\\u002f7\\u002fEXTORTION OR BLACKMAIL\",\"all\\u002f2018\\u002f8\\u002fEXTORTION OR BLACKMAIL\",\"all\\u002f2018\\u002f1\\u002fFIRE REPORT - CAR, BRUSH, ETC.\",\"all\\u002f2018\\u002f2\\u002fFIRE REPORT - CAR, BRUSH, ETC.\",\"all\\u002f2018\\u002f3\\u002fFIRE REPORT - CAR, BRUSH, ETC.\",\"all\\u002f2018\\u002f4\\u002fFIRE REPORT - CAR, BRUSH, ETC.\",\"all\\u002f2018\\u002f5\\u002fFIRE REPORT - CAR, BRUSH, ETC.\",\"all\\u002f2018\\u002f6\\u002fFIRE REPORT - CAR, BRUSH, ETC.\",\"all\\u002f2018\\u002f7\\u002fFIRE REPORT - CAR, BRUSH, ETC.\",\"all\\u002f2018\\u002f8\\u002fFIRE REPORT - CAR, BRUSH, ETC.\",\"all\\u002f2018\\u002f9\\u002fFIRE REPORT - CAR, BRUSH, ETC.\",\"all\\u002f2018\\u002f1\\u002fFIRE REPORT - HOUSE, BUILDING, ETC.\",\"all\\u002f2018\\u002f2\\u002fFIRE REPORT - HOUSE, BUILDING, ETC.\",\"all\\u002f2018\\u002f3\\u002fFIRE REPORT - HOUSE, BUILDING, ETC.\",\"all\\u002f2018\\u002f4\\u002fFIRE REPORT - HOUSE, BUILDING, ETC.\",\"all\\u002f2018\\u002f5\\u002fFIRE REPORT - HOUSE, BUILDING, ETC.\",\"all\\u002f2018\\u002f6\\u002fFIRE REPORT - HOUSE, BUILDING, ETC.\",\"all\\u002f2018\\u002f7\\u002fFIRE REPORT - HOUSE, BUILDING, ETC.\",\"all\\u002f2018\\u002f8\\u002fFIRE REPORT - HOUSE, BUILDING, ETC.\",\"all\\u002f2018\\u002f9\\u002fFIRE REPORT - HOUSE, BUILDING, ETC.\",\"all\\u002f2018\\u002f1\\u002fFIRE REPORT\\u002fALARM - FALSE\",\"all\\u002f2018\\u002f2\\u002fFIRE REPORT\\u002fALARM - FALSE\",\"all\\u002f2018\\u002f3\\u002fFIRE REPORT\\u002fALARM - FALSE\",\"all\\u002f2018\\u002f4\\u002fFIRE REPORT\\u002fALARM - FALSE\",\"all\\u002f2018\\u002f5\\u002fFIRE REPORT\\u002fALARM - FALSE\",\"all\\u002f2018\\u002f6\\u002fFIRE REPORT\\u002fALARM - FALSE\",\"all\\u002f2018\\u002f7\\u002fFIRE REPORT\\u002fALARM - FALSE\",\"all\\u002f2018\\u002f8\\u002fFIRE REPORT\\u002fALARM - FALSE\",\"all\\u002f2018\\u002f9\\u002fFIRE REPORT\\u002fALARM - FALSE\",\"all\\u002f2018\\u002f2\\u002fFIREARM\\u002fWEAPON - ACCIDENTAL INJURY \\u002f DEATH\",\"all\\u002f2018\\u002f8\\u002fFIREARM\\u002fWEAPON - ACCIDENTAL INJURY \\u002f DEATH\",\"all\\u002f2018\\u002f1\\u002fFIREARM\\u002fWEAPON - FOUND OR CONFISCATED\",\"all\\u002f2018\\u002f2\\u002fFIREARM\\u002fWEAPON - FOUND OR CONFISCATED\",\"all\\u002f2018\\u002f3\\u002fFIREARM\\u002fWEAPON - FOUND OR CONFISCATED\",\"all\\u002f2018\\u002f4\\u002fFIREARM\\u002fWEAPON - FOUND OR CONFISCATED\",\"all\\u002f2018\\u002f5\\u002fFIREARM\\u002fWEAPON - FOUND OR CONFISCATED\",\"all\\u002f2018\\u002f6\\u002fFIREARM\\u002fWEAPON - FOUND OR CONFISCATED\",\"all\\u002f2018\\u002f7\\u002fFIREARM\\u002fWEAPON - FOUND OR CONFISCATED\",\"all\\u002f2018\\u002f8\\u002fFIREARM\\u002fWEAPON - FOUND OR CONFISCATED\",\"all\\u002f2018\\u002f9\\u002fFIREARM\\u002fWEAPON - FOUND OR CONFISCATED\",\"all\\u002f2018\\u002f6\\u002fFIREARM\\u002fWEAPON - LOST\",\"all\\u002f2018\\u002f1\\u002fFORGERY \\u002f COUNTERFEITING\",\"all\\u002f2018\\u002f2\\u002fFORGERY \\u002f COUNTERFEITING\",\"all\\u002f2018\\u002f3\\u002fFORGERY \\u002f COUNTERFEITING\",\"all\\u002f2018\\u002f4\\u002fFORGERY \\u002f COUNTERFEITING\",\"all\\u002f2018\\u002f5\\u002fFORGERY \\u002f COUNTERFEITING\",\"all\\u002f2018\\u002f6\\u002fFORGERY \\u002f COUNTERFEITING\",\"all\\u002f2018\\u002f7\\u002fFORGERY \\u002f COUNTERFEITING\",\"all\\u002f2018\\u002f8\\u002fFORGERY \\u002f COUNTERFEITING\",\"all\\u002f2018\\u002f9\\u002fFORGERY \\u002f COUNTERFEITING\",\"all\\u002f2016\\u002f4\\u002fFORGERY OR UTTERING\",\"all\\u002f2018\\u002f1\\u002fFRAUD - CREDIT CARD \\u002f ATM FRAUD\",\"all\\u002f2018\\u002f2\\u002fFRAUD - CREDIT CARD \\u002f ATM FRAUD\",\"all\\u002f2018\\u002f3\\u002fFRAUD - CREDIT CARD \\u002f ATM FRAUD\",\"all\\u002f2018\\u002f4\\u002fFRAUD - CREDIT CARD \\u002f ATM FRAUD\",\"all\\u002f2018\\u002f5\\u002fFRAUD - CREDIT CARD \\u002f ATM FRAUD\",\"all\\u002f2018\\u002f6\\u002fFRAUD - CREDIT CARD \\u002f ATM FRAUD\",\"all\\u002f2018\\u002f7\\u002fFRAUD - CREDIT CARD \\u002f ATM FRAUD\",\"all\\u002f2018\\u002f8\\u002fFRAUD - CREDIT CARD \\u002f ATM FRAUD\",\"all\\u002f2018\\u002f9\\u002fFRAUD - CREDIT CARD \\u002f ATM FRAUD\",\"all\\u002f2018\\u002f1\\u002fFRAUD - FALSE PRETENSE \\u002f SCHEME\",\"all\\u002f2018\\u002f2\\u002fFRAUD - FALSE PRETENSE \\u002f SCHEME\",\"all\\u002f2018\\u002f3\\u002fFRAUD - FALSE PRETENSE \\u002f SCHEME\",\"all\\u002f2018\\u002f4\\u002fFRAUD - FALSE PRETENSE \\u002f SCHEME\",\"all\\u002f2018\\u002f5\\u002fFRAUD - FALSE PRETENSE \\u002f SCHEME\",\"all\\u002f2018\\u002f6\\u002fFRAUD - FALSE PRETENSE \\u002f SCHEME\",\"all\\u002f2018\\u002f7\\u002fFRAUD - FALSE PRETENSE \\u002f SCHEME\",\"all\\u002f2018\\u002f8\\u002fFRAUD - FALSE PRETENSE \\u002f SCHEME\",\"all\\u002f2018\\u002f9\\u002fFRAUD - FALSE PRETENSE \\u002f SCHEME\",\"all\\u002f2018\\u002f1\\u002fFRAUD - IMPERSONATION\",\"all\\u002f2018\\u002f2\\u002fFRAUD - IMPERSONATION\",\"all\\u002f2018\\u002f3\\u002fFRAUD - IMPERSONATION\",\"all\\u002f2018\\u002f4\\u002fFRAUD - IMPERSONATION\",\"all\\u002f2018\\u002f5\\u002fFRAUD - IMPERSONATION\",\"all\\u002f2018\\u002f6\\u002fFRAUD - IMPERSONATION\",\"all\\u002f2018\\u002f7\\u002fFRAUD - IMPERSONATION\",\"all\\u002f2018\\u002f8\\u002fFRAUD - IMPERSONATION\",\"all\\u002f2018\\u002f3\\u002fFRAUD - WELFARE\",\"all\\u002f2018\\u002f4\\u002fFRAUD - WELFARE\",\"all\\u002f2018\\u002f7\\u002fFRAUD - WELFARE\",\"all\\u002f2018\\u002f1\\u002fFRAUD - WIRE\",\"all\\u002f2018\\u002f2\\u002fFRAUD - WIRE\",\"all\\u002f2018\\u002f3\\u002fFRAUD - WIRE\",\"all\\u002f2018\\u002f4\\u002fFRAUD - WIRE\",\"all\\u002f2018\\u002f5\\u002fFRAUD - WIRE\",\"all\\u002f2018\\u002f6\\u002fFRAUD - WIRE\",\"all\\u002f2018\\u002f7\\u002fFRAUD - WIRE\",\"all\\u002f2018\\u002f8\\u002fFRAUD - WIRE\",\"all\\u002f2018\\u002f9\\u002fFRAUD - WIRE\",\"all\\u002f2015\\u002f10\\u002fFRAUDS - ALL OTHER\",\"all\\u002f2018\\u002f1\\u002fFUGITIVE FROM JUSTICE\",\"all\\u002f2018\\u002f2\\u002fFUGITIVE FROM JUSTICE\",\"all\\u002f2018\\u002f3\\u002fFUGITIVE FROM JUSTICE\",\"all\\u002f2018\\u002f4\\u002fFUGITIVE FROM JUSTICE\",\"all\\u002f2018\\u002f5\\u002fFUGITIVE FROM JUSTICE\",\"all\\u002f2018\\u002f6\\u002fFUGITIVE FROM JUSTICE\",\"all\\u002f2018\\u002f7\\u002fFUGITIVE FROM JUSTICE\",\"all\\u002f2018\\u002f8\\u002fFUGITIVE FROM JUSTICE\",\"all\\u002f2017\\u002f6\\u002fGAMBLING - BETTING \\u002f WAGERING\",\"all\\u002f2017\\u002f8\\u002fGAMBLING - BETTING \\u002f WAGERING\",\"all\\u002f2017\\u002f9\\u002fGAMBLING - BETTING \\u002f WAGERING\",\"all\\u002f2017\\u002f11\\u002fGAMBLING - BETTING \\u002f WAGERING\",\"all\\u002f2018\\u002f1\\u002fGATHERING CAUSING ANNOYANCE\",\"all\\u002f2018\\u002f2\\u002fGATHERING CAUSING ANNOYANCE\",\"all\\u002f2018\\u002f4\\u002fGATHERING CAUSING ANNOYANCE\",\"all\\u002f2018\\u002f6\\u002fGATHERING CAUSING ANNOYANCE\",\"all\\u002f2018\\u002f1\\u002fGRAFFITI\",\"all\\u002f2018\\u002f2\\u002fGRAFFITI\",\"all\\u002f2018\\u002f3\\u002fGRAFFITI\",\"all\\u002f2018\\u002f4\\u002fGRAFFITI\",\"all\\u002f2018\\u002f5\\u002fGRAFFITI\",\"all\\u002f2018\\u002f6\\u002fGRAFFITI\",\"all\\u002f2018\\u002f7\\u002fGRAFFITI\",\"all\\u002f2018\\u002f8\\u002fGRAFFITI\",\"all\\u002f2018\\u002f1\\u002fHARASSMENT\",\"all\\u002f2018\\u002f2\\u002fHARASSMENT\",\"all\\u002f2018\\u002f3\\u002fHARASSMENT\",\"all\\u002f2018\\u002f4\\u002fHARASSMENT\",\"all\\u002f2018\\u002f5\\u002fHARASSMENT\",\"all\\u002f2018\\u002f6\\u002fHARASSMENT\",\"all\\u002f2018\\u002f7\\u002fHARASSMENT\",\"all\\u002f2018\\u002f8\\u002fHARASSMENT\",\"all\\u002f2018\\u002f9\\u002fHARASSMENT\",\"all\\u002f2018\\u002f1\\u002fHARBOR INCIDENT \\u002f VIOLATION\",\"all\\u002f2018\\u002f2\\u002fHARBOR INCIDENT \\u002f VIOLATION\",\"all\\u002f2018\\u002f3\\u002fHARBOR INCIDENT \\u002f VIOLATION\",\"all\\u002f2018\\u002f4\\u002fHARBOR INCIDENT \\u002f VIOLATION\",\"all\\u002f2018\\u002f5\\u002fHARBOR INCIDENT \\u002f VIOLATION\",\"all\\u002f2018\\u002f6\\u002fHARBOR INCIDENT \\u002f VIOLATION\",\"all\\u002f2018\\u002f7\\u002fHARBOR INCIDENT \\u002f VIOLATION\",\"all\\u002f2018\\u002f8\\u002fHARBOR INCIDENT \\u002f VIOLATION\",\"all\\u002f2018\\u002f9\\u002fHARBOR INCIDENT \\u002f VIOLATION\",\"all\\u002f2018\\u002f1\\u002fHOME INVASION\",\"all\\u002f2018\\u002f2\\u002fHOME INVASION\",\"all\\u002f2018\\u002f4\\u002fHOME INVASION\",\"all\\u002f2018\\u002f5\\u002fHOME INVASION\",\"all\\u002f2018\\u002f6\\u002fHOME INVASION\",\"all\\u002f2018\\u002f7\\u002fHOME INVASION\",\"all\\u002f2018\\u002f8\\u002fHOME INVASION\",\"all\\u002f2017\\u002f2\\u002fHUMAN TRAFFICKING - COMMERCIAL SEX ACTS\",\"all\\u002f2017\\u002f5\\u002fHUMAN TRAFFICKING - COMMERCIAL SEX ACTS\",\"all\\u002f2017\\u002f7\\u002fHUMAN TRAFFICKING - COMMERCIAL SEX ACTS\",\"all\\u002f2017\\u002f8\\u002fHUMAN TRAFFICKING - COMMERCIAL SEX ACTS\",\"all\\u002f2017\\u002f4\\u002fHUMAN TRAFFICKING - INVOLUNTARY SERVITUDE\",\"all\\u002f2018\\u002f1\\u002fINJURY BICYCLE NO M\\u002fV INVOLVED\",\"all\\u002f2018\\u002f4\\u002fINJURY BICYCLE NO M\\u002fV INVOLVED\",\"all\\u002f2018\\u002f6\\u002fINJURY BICYCLE NO M\\u002fV INVOLVED\",\"all\\u002f2018\\u002f8\\u002fINJURY BICYCLE NO M\\u002fV INVOLVED\",\"all\\u002f2018\\u002f1\\u002fINTIMIDATING WITNESS\",\"all\\u002f2018\\u002f2\\u002fINTIMIDATING WITNESS\",\"all\\u002f2018\\u002f3\\u002fINTIMIDATING WITNESS\",\"all\\u002f2018\\u002f4\\u002fINTIMIDATING WITNESS\",\"all\\u002f2018\\u002f5\\u002fINTIMIDATING WITNESS\",\"all\\u002f2018\\u002f6\\u002fINTIMIDATING WITNESS\",\"all\\u002f2018\\u002f7\\u002fINTIMIDATING WITNESS\",\"all\\u002f2018\\u002f8\\u002fINTIMIDATING WITNESS\",\"all\\u002f2018\\u002f9\\u002fINTIMIDATING WITNESS\",\"all\\u002f2018\\u002f1\\u002fINVESTIGATE PERSON\",\"all\\u002f2018\\u002f2\\u002fINVESTIGATE PERSON\",\"all\\u002f2018\\u002f3\\u002fINVESTIGATE PERSON\",\"all\\u002f2018\\u002f4\\u002fINVESTIGATE PERSON\",\"all\\u002f2018\\u002f5\\u002fINVESTIGATE PERSON\",\"all\\u002f2018\\u002f6\\u002fINVESTIGATE PERSON\",\"all\\u002f2018\\u002f7\\u002fINVESTIGATE PERSON\",\"all\\u002f2018\\u002f8\\u002fINVESTIGATE PERSON\",\"all\\u002f2018\\u002f9\\u002fINVESTIGATE PERSON\",\"all\\u002f2018\\u002f1\\u002fINVESTIGATE PROPERTY\",\"all\\u002f2018\\u002f2\\u002fINVESTIGATE PROPERTY\",\"all\\u002f2018\\u002f3\\u002fINVESTIGATE PROPERTY\",\"all\\u002f2018\\u002f4\\u002fINVESTIGATE PROPERTY\",\"all\\u002f2018\\u002f5\\u002fINVESTIGATE PROPERTY\",\"all\\u002f2018\\u002f6\\u002fINVESTIGATE PROPERTY\",\"all\\u002f2018\\u002f7\\u002fINVESTIGATE PROPERTY\",\"all\\u002f2018\\u002f8\\u002fINVESTIGATE PROPERTY\",\"all\\u002f2018\\u002f9\\u002fINVESTIGATE PROPERTY\",\"all\\u002f2018\\u002f1\\u002fINVESTIGATION FOR ANOTHER AGENCY\",\"all\\u002f2018\\u002f2\\u002fINVESTIGATION FOR ANOTHER AGENCY\",\"all\\u002f2018\\u002f3\\u002fINVESTIGATION FOR ANOTHER AGENCY\",\"all\\u002f2018\\u002f4\\u002fINVESTIGATION FOR ANOTHER AGENCY\",\"all\\u002f2018\\u002f5\\u002fINVESTIGATION FOR ANOTHER AGENCY\",\"all\\u002f2018\\u002f6\\u002fINVESTIGATION FOR ANOTHER AGENCY\",\"all\\u002f2018\\u002f7\\u002fINVESTIGATION FOR ANOTHER AGENCY\",\"all\\u002f2018\\u002f8\\u002fINVESTIGATION FOR ANOTHER AGENCY\",\"all\\u002f2018\\u002f1\\u002fKIDNAPPING - ENTICING OR ATTEMPTED\",\"all\\u002f2018\\u002f2\\u002fKIDNAPPING - ENTICING OR ATTEMPTED\",\"all\\u002f2018\\u002f5\\u002fKIDNAPPING - ENTICING OR ATTEMPTED\",\"all\\u002f2018\\u002f6\\u002fKIDNAPPING - ENTICING OR ATTEMPTED\",\"all\\u002f2018\\u002f8\\u002fKIDNAPPING - ENTICING OR ATTEMPTED\",\"all\\u002f2018\\u002f1\\u002fKIDNAPPING\\u002fCUSTODIAL KIDNAPPING\",\"all\\u002f2018\\u002f4\\u002fKIDNAPPING\\u002fCUSTODIAL KIDNAPPING\",\"all\\u002f2018\\u002f5\\u002fKIDNAPPING\\u002fCUSTODIAL KIDNAPPING\",\"all\\u002f2018\\u002f6\\u002fKIDNAPPING\\u002fCUSTODIAL KIDNAPPING\",\"all\\u002f2018\\u002f7\\u002fKIDNAPPING\\u002fCUSTODIAL KIDNAPPING\",\"all\\u002f2018\\u002f8\\u002fKIDNAPPING\\u002fCUSTODIAL KIDNAPPING\",\"all\\u002f2016\\u002f2\\u002fKILLING OF FELON BY POLICE\",\"all\\u002f2018\\u002f1\\u002fLANDLORD - TENANT SERVICE\",\"all\\u002f2018\\u002f2\\u002fLANDLORD - TENANT SERVICE\",\"all\\u002f2018\\u002f3\\u002fLANDLORD - TENANT SERVICE\",\"all\\u002f2018\\u002f4\\u002fLANDLORD - TENANT SERVICE\",\"all\\u002f2018\\u002f5\\u002fLANDLORD - TENANT SERVICE\",\"all\\u002f2018\\u002f6\\u002fLANDLORD - TENANT SERVICE\",\"all\\u002f2018\\u002f7\\u002fLANDLORD - TENANT SERVICE\",\"all\\u002f2018\\u002f8\\u002fLANDLORD - TENANT SERVICE\",\"all\\u002f2018\\u002f9\\u002fLANDLORD - TENANT SERVICE\",\"all\\u002f2018\\u002f1\\u002fLARCENY ALL OTHERS\",\"all\\u002f2018\\u002f2\\u002fLARCENY ALL OTHERS\",\"all\\u002f2018\\u002f3\\u002fLARCENY ALL OTHERS\",\"all\\u002f2018\\u002f4\\u002fLARCENY ALL OTHERS\",\"all\\u002f2018\\u002f5\\u002fLARCENY ALL OTHERS\",\"all\\u002f2018\\u002f6\\u002fLARCENY ALL OTHERS\",\"all\\u002f2018\\u002f7\\u002fLARCENY ALL OTHERS\",\"all\\u002f2018\\u002f8\\u002fLARCENY ALL OTHERS\",\"all\\u002f2018\\u002f9\\u002fLARCENY ALL OTHERS\",\"all\\u002f2016\\u002f1\\u002fLARCENY IN A BUILDING $50 TO $199\",\"all\\u002f2015\\u002f7\\u002fLARCENY IN A BUILDING UNDER $50\",\"all\\u002f2015\\u002f12\\u002fLARCENY NON-ACCESSORY FROM VEH. $50 TO $199\",\"all\\u002f2016\\u002f8\\u002fLARCENY NON-ACCESSORY FROM VEH. UNDER $50\",\"all\\u002f2016\\u002f1\\u002fLARCENY OTHER $50 TO $199\",\"all\\u002f2016\\u002f6\\u002fLARCENY OTHER $50 TO $199\",\"all\\u002f2015\\u002f7\\u002fLARCENY OTHER UNDER $50\",\"all\\u002f2018\\u002f1\\u002fLARCENY PICK-POCKET\",\"all\\u002f2018\\u002f2\\u002fLARCENY PICK-POCKET\",\"all\\u002f2018\\u002f3\\u002fLARCENY PICK-POCKET\",\"all\\u002f2018\\u002f4\\u002fLARCENY PICK-POCKET\",\"all\\u002f2018\\u002f5\\u002fLARCENY PICK-POCKET\",\"all\\u002f2018\\u002f6\\u002fLARCENY PICK-POCKET\",\"all\\u002f2018\\u002f7\\u002fLARCENY PICK-POCKET\",\"all\\u002f2018\\u002f8\\u002fLARCENY PICK-POCKET\",\"all\\u002f2018\\u002f1\\u002fLARCENY PURSE SNATCH - NO FORCE \",\"all\\u002f2018\\u002f2\\u002fLARCENY PURSE SNATCH - NO FORCE \",\"all\\u002f2018\\u002f3\\u002fLARCENY PURSE SNATCH - NO FORCE \",\"all\\u002f2018\\u002f4\\u002fLARCENY PURSE SNATCH - NO FORCE \",\"all\\u002f2018\\u002f5\\u002fLARCENY PURSE SNATCH - NO FORCE \",\"all\\u002f2018\\u002f6\\u002fLARCENY PURSE SNATCH - NO FORCE \",\"all\\u002f2018\\u002f7\\u002fLARCENY PURSE SNATCH - NO FORCE \",\"all\\u002f2018\\u002f8\\u002fLARCENY PURSE SNATCH - NO FORCE \",\"all\\u002f2018\\u002f9\\u002fLARCENY PURSE SNATCH - NO FORCE \",\"all\\u002f2018\\u002f1\\u002fLARCENY SHOPLIFTING\",\"all\\u002f2018\\u002f2\\u002fLARCENY SHOPLIFTING\",\"all\\u002f2018\\u002f3\\u002fLARCENY SHOPLIFTING\",\"all\\u002f2018\\u002f4\\u002fLARCENY SHOPLIFTING\",\"all\\u002f2018\\u002f5\\u002fLARCENY SHOPLIFTING\",\"all\\u002f2018\\u002f6\\u002fLARCENY SHOPLIFTING\",\"all\\u002f2018\\u002f7\\u002fLARCENY SHOPLIFTING\",\"all\\u002f2018\\u002f8\\u002fLARCENY SHOPLIFTING\",\"all\\u002f2018\\u002f9\\u002fLARCENY SHOPLIFTING\",\"all\\u002f2015\\u002f7\\u002fLARCENY SHOPLIFTING $50 TO $199\",\"all\\u002f2015\\u002f8\\u002fLARCENY SHOPLIFTING $50 TO $199\",\"all\\u002f2016\\u002f6\\u002fLARCENY SHOPLIFTING UNDER $50\",\"all\\u002f2018\\u002f1\\u002fLARCENY THEFT FROM BUILDING\",\"all\\u002f2018\\u002f2\\u002fLARCENY THEFT FROM BUILDING\",\"all\\u002f2018\\u002f3\\u002fLARCENY THEFT FROM BUILDING\",\"all\\u002f2018\\u002f4\\u002fLARCENY THEFT FROM BUILDING\",\"all\\u002f2018\\u002f5\\u002fLARCENY THEFT FROM BUILDING\",\"all\\u002f2018\\u002f6\\u002fLARCENY THEFT FROM BUILDING\",\"all\\u002f2018\\u002f7\\u002fLARCENY THEFT FROM BUILDING\",\"all\\u002f2018\\u002f8\\u002fLARCENY THEFT FROM BUILDING\",\"all\\u002f2018\\u002f9\\u002fLARCENY THEFT FROM BUILDING\",\"all\\u002f2018\\u002f3\\u002fLARCENY THEFT FROM COIN-OP MACHINE\",\"all\\u002f2018\\u002f4\\u002fLARCENY THEFT FROM COIN-OP MACHINE\",\"all\\u002f2018\\u002f6\\u002fLARCENY THEFT FROM COIN-OP MACHINE\",\"all\\u002f2018\\u002f1\\u002fLARCENY THEFT FROM MV - NON-ACCESSORY\",\"all\\u002f2018\\u002f2\\u002fLARCENY THEFT FROM MV - NON-ACCESSORY\",\"all\\u002f2018\\u002f3\\u002fLARCENY THEFT FROM MV - NON-ACCESSORY\",\"all\\u002f2018\\u002f4\\u002fLARCENY THEFT FROM MV - NON-ACCESSORY\",\"all\\u002f2018\\u002f5\\u002fLARCENY THEFT FROM MV - NON-ACCESSORY\",\"all\\u002f2018\\u002f6\\u002fLARCENY THEFT FROM MV - NON-ACCESSORY\",\"all\\u002f2018\\u002f7\\u002fLARCENY THEFT FROM MV - NON-ACCESSORY\",\"all\\u002f2018\\u002f8\\u002fLARCENY THEFT FROM MV - NON-ACCESSORY\",\"all\\u002f2018\\u002f9\\u002fLARCENY THEFT FROM MV - NON-ACCESSORY\",\"all\\u002f2018\\u002f1\\u002fLARCENY THEFT OF BICYCLE\",\"all\\u002f2018\\u002f2\\u002fLARCENY THEFT OF BICYCLE\",\"all\\u002f2018\\u002f3\\u002fLARCENY THEFT OF BICYCLE\",\"all\\u002f2018\\u002f4\\u002fLARCENY THEFT OF BICYCLE\",\"all\\u002f2018\\u002f5\\u002fLARCENY THEFT OF BICYCLE\",\"all\\u002f2018\\u002f6\\u002fLARCENY THEFT OF BICYCLE\",\"all\\u002f2018\\u002f7\\u002fLARCENY THEFT OF BICYCLE\",\"all\\u002f2018\\u002f8\\u002fLARCENY THEFT OF BICYCLE\",\"all\\u002f2018\\u002f9\\u002fLARCENY THEFT OF BICYCLE\",\"all\\u002f2018\\u002f1\\u002fLARCENY THEFT OF MV PARTS & ACCESSORIES\",\"all\\u002f2018\\u002f2\\u002fLARCENY THEFT OF MV PARTS & ACCESSORIES\",\"all\\u002f2018\\u002f3\\u002fLARCENY THEFT OF MV PARTS & ACCESSORIES\",\"all\\u002f2018\\u002f4\\u002fLARCENY THEFT OF MV PARTS & ACCESSORIES\",\"all\\u002f2018\\u002f5\\u002fLARCENY THEFT OF MV PARTS & ACCESSORIES\",\"all\\u002f2018\\u002f6\\u002fLARCENY THEFT OF MV PARTS & ACCESSORIES\",\"all\\u002f2018\\u002f7\\u002fLARCENY THEFT OF MV PARTS & ACCESSORIES\",\"all\\u002f2018\\u002f8\\u002fLARCENY THEFT OF MV PARTS & ACCESSORIES\",\"all\\u002f2018\\u002f9\\u002fLARCENY THEFT OF MV PARTS & ACCESSORIES\",\"all\\u002f2018\\u002f1\\u002fLICENSE PREMISE VIOLATION\",\"all\\u002f2018\\u002f2\\u002fLICENSE PREMISE VIOLATION\",\"all\\u002f2018\\u002f3\\u002fLICENSE PREMISE VIOLATION\",\"all\\u002f2018\\u002f4\\u002fLICENSE PREMISE VIOLATION\",\"all\\u002f2018\\u002f5\\u002fLICENSE PREMISE VIOLATION\",\"all\\u002f2018\\u002f6\\u002fLICENSE PREMISE VIOLATION\",\"all\\u002f2018\\u002f7\\u002fLICENSE PREMISE VIOLATION\",\"all\\u002f2018\\u002f8\\u002fLICENSE PREMISE VIOLATION\",\"all\\u002f2018\\u002f1\\u002fLIQUOR - DRINKING IN PUBLIC\",\"all\\u002f2018\\u002f2\\u002fLIQUOR - DRINKING IN PUBLIC\",\"all\\u002f2018\\u002f3\\u002fLIQUOR - DRINKING IN PUBLIC\",\"all\\u002f2018\\u002f4\\u002fLIQUOR - DRINKING IN PUBLIC\",\"all\\u002f2018\\u002f5\\u002fLIQUOR - DRINKING IN PUBLIC\",\"all\\u002f2018\\u002f6\\u002fLIQUOR - DRINKING IN PUBLIC\",\"all\\u002f2018\\u002f7\\u002fLIQUOR - DRINKING IN PUBLIC\",\"all\\u002f2018\\u002f8\\u002fLIQUOR - DRINKING IN PUBLIC\",\"all\\u002f2018\\u002f9\\u002fLIQUOR - DRINKING IN PUBLIC\",\"all\\u002f2018\\u002f1\\u002fLIQUOR LAW VIOLATION\",\"all\\u002f2018\\u002f2\\u002fLIQUOR LAW VIOLATION\",\"all\\u002f2018\\u002f3\\u002fLIQUOR LAW VIOLATION\",\"all\\u002f2018\\u002f4\\u002fLIQUOR LAW VIOLATION\",\"all\\u002f2018\\u002f5\\u002fLIQUOR LAW VIOLATION\",\"all\\u002f2018\\u002f6\\u002fLIQUOR LAW VIOLATION\",\"all\\u002f2018\\u002f7\\u002fLIQUOR LAW VIOLATION\",\"all\\u002f2018\\u002f8\\u002fLIQUOR LAW VIOLATION\",\"all\\u002f2018\\u002f1\\u002fM\\u002fV - LEAVING SCENE - PERSONAL INJURY\",\"all\\u002f2018\\u002f2\\u002fM\\u002fV - LEAVING SCENE - PERSONAL INJURY\",\"all\\u002f2018\\u002f3\\u002fM\\u002fV - LEAVING SCENE - PERSONAL INJURY\",\"all\\u002f2018\\u002f4\\u002fM\\u002fV - LEAVING SCENE - PERSONAL INJURY\",\"all\\u002f2018\\u002f5\\u002fM\\u002fV - LEAVING SCENE - PERSONAL INJURY\",\"all\\u002f2018\\u002f6\\u002fM\\u002fV - LEAVING SCENE - PERSONAL INJURY\",\"all\\u002f2018\\u002f7\\u002fM\\u002fV - LEAVING SCENE - PERSONAL INJURY\",\"all\\u002f2018\\u002f8\\u002fM\\u002fV - LEAVING SCENE - PERSONAL INJURY\",\"all\\u002f2018\\u002f9\\u002fM\\u002fV - LEAVING SCENE - PERSONAL INJURY\",\"all\\u002f2018\\u002f1\\u002fM\\u002fV - LEAVING SCENE - PROPERTY DAMAGE\",\"all\\u002f2018\\u002f2\\u002fM\\u002fV - LEAVING SCENE - PROPERTY DAMAGE\",\"all\\u002f2018\\u002f3\\u002fM\\u002fV - LEAVING SCENE - PROPERTY DAMAGE\",\"all\\u002f2018\\u002f4\\u002fM\\u002fV - LEAVING SCENE - PROPERTY DAMAGE\",\"all\\u002f2018\\u002f5\\u002fM\\u002fV - LEAVING SCENE - PROPERTY DAMAGE\",\"all\\u002f2018\\u002f6\\u002fM\\u002fV - LEAVING SCENE - PROPERTY DAMAGE\",\"all\\u002f2018\\u002f7\\u002fM\\u002fV - LEAVING SCENE - PROPERTY DAMAGE\",\"all\\u002f2018\\u002f8\\u002fM\\u002fV - LEAVING SCENE - PROPERTY DAMAGE\",\"all\\u002f2018\\u002f9\\u002fM\\u002fV - LEAVING SCENE - PROPERTY DAMAGE\",\"all\\u002f2018\\u002f1\\u002fM\\u002fV ACCIDENT - INVOLVING BICYCLE - NO INJURY\",\"all\\u002f2018\\u002f2\\u002fM\\u002fV ACCIDENT - INVOLVING BICYCLE - NO INJURY\",\"all\\u002f2018\\u002f3\\u002fM\\u002fV ACCIDENT - INVOLVING BICYCLE - NO INJURY\",\"all\\u002f2018\\u002f4\\u002fM\\u002fV ACCIDENT - INVOLVING BICYCLE - NO INJURY\",\"all\\u002f2018\\u002f5\\u002fM\\u002fV ACCIDENT - INVOLVING BICYCLE - NO INJURY\",\"all\\u002f2018\\u002f6\\u002fM\\u002fV ACCIDENT - INVOLVING BICYCLE - NO INJURY\",\"all\\u002f2018\\u002f7\\u002fM\\u002fV ACCIDENT - INVOLVING BICYCLE - NO INJURY\",\"all\\u002f2018\\u002f8\\u002fM\\u002fV ACCIDENT - INVOLVING BICYCLE - NO INJURY\",\"all\\u002f2018\\u002f9\\u002fM\\u002fV ACCIDENT - INVOLVING BICYCLE - NO INJURY\",\"all\\u002f2018\\u002f1\\u002fM\\u002fV ACCIDENT - INVOLVING PEDESTRIAN - NO INJURY\",\"all\\u002f2018\\u002f2\\u002fM\\u002fV ACCIDENT - INVOLVING PEDESTRIAN - NO INJURY\",\"all\\u002f2018\\u002f3\\u002fM\\u002fV ACCIDENT - INVOLVING PEDESTRIAN - NO INJURY\",\"all\\u002f2018\\u002f4\\u002fM\\u002fV ACCIDENT - INVOLVING PEDESTRIAN - NO INJURY\",\"all\\u002f2018\\u002f5\\u002fM\\u002fV ACCIDENT - INVOLVING PEDESTRIAN - NO INJURY\",\"all\\u002f2018\\u002f6\\u002fM\\u002fV ACCIDENT - INVOLVING PEDESTRIAN - NO INJURY\",\"all\\u002f2018\\u002f7\\u002fM\\u002fV ACCIDENT - INVOLVING PEDESTRIAN - NO INJURY\",\"all\\u002f2018\\u002f8\\u002fM\\u002fV ACCIDENT - INVOLVING PEDESTRIAN - NO INJURY\",\"all\\u002f2018\\u002f9\\u002fM\\u002fV ACCIDENT - INVOLVING PEDESTRIAN - NO INJURY\",\"all\\u002f2018\\u002f1\\u002fM\\u002fV ACCIDENT - INVOLVING \\u00a0BICYCLE - INJURY\",\"all\\u002f2018\\u002f2\\u002fM\\u002fV ACCIDENT - INVOLVING \\u00a0BICYCLE - INJURY\",\"all\\u002f2018\\u002f3\\u002fM\\u002fV ACCIDENT - INVOLVING \\u00a0BICYCLE - INJURY\",\"all\\u002f2018\\u002f4\\u002fM\\u002fV ACCIDENT - INVOLVING \\u00a0BICYCLE - INJURY\",\"all\\u002f2018\\u002f5\\u002fM\\u002fV ACCIDENT - INVOLVING \\u00a0BICYCLE - INJURY\",\"all\\u002f2018\\u002f6\\u002fM\\u002fV ACCIDENT - INVOLVING \\u00a0BICYCLE - INJURY\",\"all\\u002f2018\\u002f7\\u002fM\\u002fV ACCIDENT - INVOLVING \\u00a0BICYCLE - INJURY\",\"all\\u002f2018\\u002f8\\u002fM\\u002fV ACCIDENT - INVOLVING \\u00a0BICYCLE - INJURY\",\"all\\u002f2018\\u002f9\\u002fM\\u002fV ACCIDENT - INVOLVING \\u00a0BICYCLE - INJURY\",\"all\\u002f2018\\u002f1\\u002fM\\u002fV ACCIDENT - OTHER\",\"all\\u002f2018\\u002f2\\u002fM\\u002fV ACCIDENT - OTHER\",\"all\\u002f2018\\u002f3\\u002fM\\u002fV ACCIDENT - OTHER\",\"all\\u002f2018\\u002f4\\u002fM\\u002fV ACCIDENT - OTHER\",\"all\\u002f2018\\u002f5\\u002fM\\u002fV ACCIDENT - OTHER\",\"all\\u002f2018\\u002f6\\u002fM\\u002fV ACCIDENT - OTHER\",\"all\\u002f2018\\u002f7\\u002fM\\u002fV ACCIDENT - OTHER\",\"all\\u002f2018\\u002f8\\u002fM\\u002fV ACCIDENT - OTHER\",\"all\\u002f2018\\u002f9\\u002fM\\u002fV ACCIDENT - OTHER\",\"all\\u002f2018\\u002f1\\u002fM\\u002fV ACCIDENT - OTHER CITY VEHICLE\",\"all\\u002f2018\\u002f2\\u002fM\\u002fV ACCIDENT - OTHER CITY VEHICLE\",\"all\\u002f2018\\u002f3\\u002fM\\u002fV ACCIDENT - OTHER CITY VEHICLE\",\"all\\u002f2018\\u002f4\\u002fM\\u002fV ACCIDENT - OTHER CITY VEHICLE\",\"all\\u002f2018\\u002f5\\u002fM\\u002fV ACCIDENT - OTHER CITY VEHICLE\",\"all\\u002f2018\\u002f6\\u002fM\\u002fV ACCIDENT - OTHER CITY VEHICLE\",\"all\\u002f2018\\u002f7\\u002fM\\u002fV ACCIDENT - OTHER CITY VEHICLE\",\"all\\u002f2018\\u002f8\\u002fM\\u002fV ACCIDENT - OTHER CITY VEHICLE\",\"all\\u002f2018\\u002f9\\u002fM\\u002fV ACCIDENT - OTHER CITY VEHICLE\",\"all\\u002f2018\\u002f1\\u002fM\\u002fV ACCIDENT - PERSONAL INJURY\",\"all\\u002f2018\\u002f2\\u002fM\\u002fV ACCIDENT - PERSONAL INJURY\",\"all\\u002f2018\\u002f3\\u002fM\\u002fV ACCIDENT - PERSONAL INJURY\",\"all\\u002f2018\\u002f4\\u002fM\\u002fV ACCIDENT - PERSONAL INJURY\",\"all\\u002f2018\\u002f5\\u002fM\\u002fV ACCIDENT - PERSONAL INJURY\",\"all\\u002f2018\\u002f6\\u002fM\\u002fV ACCIDENT - PERSONAL INJURY\",\"all\\u002f2018\\u002f7\\u002fM\\u002fV ACCIDENT - PERSONAL INJURY\",\"all\\u002f2018\\u002f8\\u002fM\\u002fV ACCIDENT - PERSONAL INJURY\",\"all\\u002f2018\\u002f9\\u002fM\\u002fV ACCIDENT - PERSONAL INJURY\",\"all\\u002f2018\\u002f1\\u002fM\\u002fV ACCIDENT - POLICE VEHICLE\",\"all\\u002f2018\\u002f2\\u002fM\\u002fV ACCIDENT - POLICE VEHICLE\",\"all\\u002f2018\\u002f3\\u002fM\\u002fV ACCIDENT - POLICE VEHICLE\",\"all\\u002f2018\\u002f4\\u002fM\\u002fV ACCIDENT - POLICE VEHICLE\",\"all\\u002f2018\\u002f5\\u002fM\\u002fV ACCIDENT - POLICE VEHICLE\",\"all\\u002f2018\\u002f6\\u002fM\\u002fV ACCIDENT - POLICE VEHICLE\",\"all\\u002f2018\\u002f7\\u002fM\\u002fV ACCIDENT - POLICE VEHICLE\",\"all\\u002f2018\\u002f8\\u002fM\\u002fV ACCIDENT - POLICE VEHICLE\",\"all\\u002f2018\\u002f1\\u002fM\\u002fV ACCIDENT - PROPERTY \\u00a0DAMAGE\",\"all\\u002f2018\\u002f2\\u002fM\\u002fV ACCIDENT - PROPERTY \\u00a0DAMAGE\",\"all\\u002f2018\\u002f3\\u002fM\\u002fV ACCIDENT - PROPERTY \\u00a0DAMAGE\",\"all\\u002f2018\\u002f4\\u002fM\\u002fV ACCIDENT - PROPERTY \\u00a0DAMAGE\",\"all\\u002f2018\\u002f5\\u002fM\\u002fV ACCIDENT - PROPERTY \\u00a0DAMAGE\",\"all\\u002f2018\\u002f6\\u002fM\\u002fV ACCIDENT - PROPERTY \\u00a0DAMAGE\",\"all\\u002f2018\\u002f7\\u002fM\\u002fV ACCIDENT - PROPERTY \\u00a0DAMAGE\",\"all\\u002f2018\\u002f8\\u002fM\\u002fV ACCIDENT - PROPERTY \\u00a0DAMAGE\",\"all\\u002f2018\\u002f9\\u002fM\\u002fV ACCIDENT - PROPERTY \\u00a0DAMAGE\",\"all\\u002f2018\\u002f1\\u002fM\\u002fV ACCIDENT INVOLVING PEDESTRIAN - INJURY\",\"all\\u002f2018\\u002f2\\u002fM\\u002fV ACCIDENT INVOLVING PEDESTRIAN - INJURY\",\"all\\u002f2018\\u002f3\\u002fM\\u002fV ACCIDENT INVOLVING PEDESTRIAN - INJURY\",\"all\\u002f2018\\u002f4\\u002fM\\u002fV ACCIDENT INVOLVING PEDESTRIAN - INJURY\",\"all\\u002f2018\\u002f5\\u002fM\\u002fV ACCIDENT INVOLVING PEDESTRIAN - INJURY\",\"all\\u002f2018\\u002f6\\u002fM\\u002fV ACCIDENT INVOLVING PEDESTRIAN - INJURY\",\"all\\u002f2018\\u002f7\\u002fM\\u002fV ACCIDENT INVOLVING PEDESTRIAN - INJURY\",\"all\\u002f2018\\u002f8\\u002fM\\u002fV ACCIDENT INVOLVING PEDESTRIAN - INJURY\",\"all\\u002f2018\\u002f9\\u002fM\\u002fV ACCIDENT INVOLVING PEDESTRIAN - INJURY\",\"all\\u002f2018\\u002f1\\u002fM\\u002fV PLATES - LOST\",\"all\\u002f2018\\u002f2\\u002fM\\u002fV PLATES - LOST\",\"all\\u002f2018\\u002f3\\u002fM\\u002fV PLATES - LOST\",\"all\\u002f2018\\u002f4\\u002fM\\u002fV PLATES - LOST\",\"all\\u002f2018\\u002f5\\u002fM\\u002fV PLATES - LOST\",\"all\\u002f2018\\u002f6\\u002fM\\u002fV PLATES - LOST\",\"all\\u002f2018\\u002f7\\u002fM\\u002fV PLATES - LOST\",\"all\\u002f2018\\u002f8\\u002fM\\u002fV PLATES - LOST\",\"all\\u002f2018\\u002f9\\u002fM\\u002fV PLATES - LOST\",\"all\\u002f2017\\u002f6\\u002fMANSLAUGHTER - NON-VEHICLE - NEGLIGENCE\",\"all\\u002f2017\\u002f2\\u002fMANSLAUGHTER - VEHICLE - NEGLIGENCE\",\"all\\u002f2017\\u002f12\\u002fMANSLAUGHTER - VEHICLE - NEGLIGENCE\",\"all\\u002f2018\\u002f1\\u002fMISSING PERSON\",\"all\\u002f2018\\u002f2\\u002fMISSING PERSON\",\"all\\u002f2018\\u002f3\\u002fMISSING PERSON\",\"all\\u002f2018\\u002f4\\u002fMISSING PERSON\",\"all\\u002f2018\\u002f5\\u002fMISSING PERSON\",\"all\\u002f2018\\u002f6\\u002fMISSING PERSON\",\"all\\u002f2018\\u002f7\\u002fMISSING PERSON\",\"all\\u002f2018\\u002f8\\u002fMISSING PERSON\",\"all\\u002f2018\\u002f9\\u002fMISSING PERSON\",\"all\\u002f2018\\u002f1\\u002fMISSING PERSON - LOCATED\",\"all\\u002f2018\\u002f2\\u002fMISSING PERSON - LOCATED\",\"all\\u002f2018\\u002f3\\u002fMISSING PERSON - LOCATED\",\"all\\u002f2018\\u002f4\\u002fMISSING PERSON - LOCATED\",\"all\\u002f2018\\u002f5\\u002fMISSING PERSON - LOCATED\",\"all\\u002f2018\\u002f6\\u002fMISSING PERSON - LOCATED\",\"all\\u002f2018\\u002f7\\u002fMISSING PERSON - LOCATED\",\"all\\u002f2018\\u002f8\\u002fMISSING PERSON - LOCATED\",\"all\\u002f2018\\u002f9\\u002fMISSING PERSON - LOCATED\",\"all\\u002f2018\\u002f1\\u002fMISSING PERSON - NOT REPORTED - LOCATED\",\"all\\u002f2018\\u002f2\\u002fMISSING PERSON - NOT REPORTED - LOCATED\",\"all\\u002f2018\\u002f3\\u002fMISSING PERSON - NOT REPORTED - LOCATED\",\"all\\u002f2018\\u002f4\\u002fMISSING PERSON - NOT REPORTED - LOCATED\",\"all\\u002f2018\\u002f5\\u002fMISSING PERSON - NOT REPORTED - LOCATED\",\"all\\u002f2018\\u002f6\\u002fMISSING PERSON - NOT REPORTED - LOCATED\",\"all\\u002f2018\\u002f7\\u002fMISSING PERSON - NOT REPORTED - LOCATED\",\"all\\u002f2018\\u002f8\\u002fMISSING PERSON - NOT REPORTED - LOCATED\",\"all\\u002f2018\\u002f1\\u002fMURDER, NON-NEGLIGIENT MANSLAUGHTER\",\"all\\u002f2018\\u002f2\\u002fMURDER, NON-NEGLIGIENT MANSLAUGHTER\",\"all\\u002f2018\\u002f3\\u002fMURDER, NON-NEGLIGIENT MANSLAUGHTER\",\"all\\u002f2018\\u002f4\\u002fMURDER, NON-NEGLIGIENT MANSLAUGHTER\",\"all\\u002f2018\\u002f5\\u002fMURDER, NON-NEGLIGIENT MANSLAUGHTER\",\"all\\u002f2018\\u002f6\\u002fMURDER, NON-NEGLIGIENT MANSLAUGHTER\",\"all\\u002f2018\\u002f7\\u002fMURDER, NON-NEGLIGIENT MANSLAUGHTER\",\"all\\u002f2018\\u002f8\\u002fMURDER, NON-NEGLIGIENT MANSLAUGHTER\",\"all\\u002f2018\\u002f2\\u002fNOISY PARTY\\u002fRADIO-ARREST\",\"all\\u002f2018\\u002f6\\u002fNOISY PARTY\\u002fRADIO-ARREST\",\"all\\u002f2018\\u002f7\\u002fNOISY PARTY\\u002fRADIO-ARREST\",\"all\\u002f2018\\u002f1\\u002fNOISY PARTY\\u002fRADIO-NO ARREST\",\"all\\u002f2018\\u002f2\\u002fNOISY PARTY\\u002fRADIO-NO ARREST\",\"all\\u002f2018\\u002f3\\u002fNOISY PARTY\\u002fRADIO-NO ARREST\",\"all\\u002f2018\\u002f4\\u002fNOISY PARTY\\u002fRADIO-NO ARREST\",\"all\\u002f2018\\u002f5\\u002fNOISY PARTY\\u002fRADIO-NO ARREST\",\"all\\u002f2018\\u002f6\\u002fNOISY PARTY\\u002fRADIO-NO ARREST\",\"all\\u002f2018\\u002f7\\u002fNOISY PARTY\\u002fRADIO-NO ARREST\",\"all\\u002f2018\\u002f8\\u002fNOISY PARTY\\u002fRADIO-NO ARREST\",\"all\\u002f2018\\u002f1\\u002fOBSCENE MATERIALS - PORNOGRAPHY\",\"all\\u002f2018\\u002f2\\u002fOBSCENE MATERIALS - PORNOGRAPHY\",\"all\\u002f2018\\u002f3\\u002fOBSCENE MATERIALS - PORNOGRAPHY\",\"all\\u002f2018\\u002f4\\u002fOBSCENE MATERIALS - PORNOGRAPHY\",\"all\\u002f2018\\u002f5\\u002fOBSCENE MATERIALS - PORNOGRAPHY\",\"all\\u002f2018\\u002f6\\u002fOBSCENE MATERIALS - PORNOGRAPHY\",\"all\\u002f2018\\u002f7\\u002fOBSCENE MATERIALS - PORNOGRAPHY\",\"all\\u002f2018\\u002f8\\u002fOBSCENE MATERIALS - PORNOGRAPHY\",\"all\\u002f2018\\u002f1\\u002fOBSCENE PHONE CALLS\",\"all\\u002f2018\\u002f2\\u002fOBSCENE PHONE CALLS\",\"all\\u002f2018\\u002f4\\u002fOBSCENE PHONE CALLS\",\"all\\u002f2018\\u002f5\\u002fOBSCENE PHONE CALLS\",\"all\\u002f2018\\u002f6\\u002fOBSCENE PHONE CALLS\",\"all\\u002f2018\\u002f7\\u002fOBSCENE PHONE CALLS\",\"all\\u002f2018\\u002f1\\u002fOPERATING UNDER THE INFLUENCE ALCOHOL\",\"all\\u002f2018\\u002f2\\u002fOPERATING UNDER THE INFLUENCE ALCOHOL\",\"all\\u002f2018\\u002f3\\u002fOPERATING UNDER THE INFLUENCE ALCOHOL\",\"all\\u002f2018\\u002f4\\u002fOPERATING UNDER THE INFLUENCE ALCOHOL\",\"all\\u002f2018\\u002f5\\u002fOPERATING UNDER THE INFLUENCE ALCOHOL\",\"all\\u002f2018\\u002f6\\u002fOPERATING UNDER THE INFLUENCE ALCOHOL\",\"all\\u002f2018\\u002f7\\u002fOPERATING UNDER THE INFLUENCE ALCOHOL\",\"all\\u002f2018\\u002f8\\u002fOPERATING UNDER THE INFLUENCE ALCOHOL\",\"all\\u002f2018\\u002f9\\u002fOPERATING UNDER THE INFLUENCE ALCOHOL\",\"all\\u002f2018\\u002f1\\u002fOPERATING UNDER THE INFLUENCE DRUGS\",\"all\\u002f2018\\u002f2\\u002fOPERATING UNDER THE INFLUENCE DRUGS\",\"all\\u002f2018\\u002f4\\u002fOPERATING UNDER THE INFLUENCE DRUGS\",\"all\\u002f2018\\u002f5\\u002fOPERATING UNDER THE INFLUENCE DRUGS\",\"all\\u002f2018\\u002f6\\u002fOPERATING UNDER THE INFLUENCE DRUGS\",\"all\\u002f2018\\u002f7\\u002fOPERATING UNDER THE INFLUENCE DRUGS\",\"all\\u002f2018\\u002f8\\u002fOPERATING UNDER THE INFLUENCE DRUGS\",\"all\\u002f2018\\u002f1\\u002fOTHER OFFENSE\",\"all\\u002f2018\\u002f2\\u002fOTHER OFFENSE\",\"all\\u002f2018\\u002f3\\u002fOTHER OFFENSE\",\"all\\u002f2018\\u002f4\\u002fOTHER OFFENSE\",\"all\\u002f2018\\u002f5\\u002fOTHER OFFENSE\",\"all\\u002f2018\\u002f6\\u002fOTHER OFFENSE\",\"all\\u002f2018\\u002f7\\u002fOTHER OFFENSE\",\"all\\u002f2018\\u002f8\\u002fOTHER OFFENSE\",\"all\\u002f2018\\u002f9\\u002fOTHER OFFENSE\",\"all\\u002f2018\\u002f1\\u002fPOSSESSION OF BURGLARIOUS TOOLS\",\"all\\u002f2018\\u002f2\\u002fPOSSESSION OF BURGLARIOUS TOOLS\",\"all\\u002f2018\\u002f3\\u002fPOSSESSION OF BURGLARIOUS TOOLS\",\"all\\u002f2018\\u002f4\\u002fPOSSESSION OF BURGLARIOUS TOOLS\",\"all\\u002f2018\\u002f5\\u002fPOSSESSION OF BURGLARIOUS TOOLS\",\"all\\u002f2018\\u002f6\\u002fPOSSESSION OF BURGLARIOUS TOOLS\",\"all\\u002f2018\\u002f7\\u002fPOSSESSION OF BURGLARIOUS TOOLS\",\"all\\u002f2018\\u002f8\\u002fPOSSESSION OF BURGLARIOUS TOOLS\",\"all\\u002f2018\\u002f1\\u002fPRISONER - SUICIDE \\u002f SUICIDE ATTEMPT\",\"all\\u002f2018\\u002f2\\u002fPRISONER - SUICIDE \\u002f SUICIDE ATTEMPT\",\"all\\u002f2018\\u002f4\\u002fPRISONER - SUICIDE \\u002f SUICIDE ATTEMPT\",\"all\\u002f2018\\u002f5\\u002fPRISONER - SUICIDE \\u002f SUICIDE ATTEMPT\",\"all\\u002f2017\\u002f11\\u002fPRISONER ATTEMPT TO RESCUE\",\"all\\u002f2018\\u002f4\\u002fPRISONER ESCAPE \\u002f ESCAPE & RECAPTURE\",\"all\\u002f2018\\u002f7\\u002fPRISONER ESCAPE \\u002f ESCAPE & RECAPTURE\",\"all\\u002f2018\\u002f1\\u002fPROPERTY - ACCIDENTAL DAMAGE\",\"all\\u002f2018\\u002f2\\u002fPROPERTY - ACCIDENTAL DAMAGE\",\"all\\u002f2018\\u002f3\\u002fPROPERTY - ACCIDENTAL DAMAGE\",\"all\\u002f2018\\u002f4\\u002fPROPERTY - ACCIDENTAL DAMAGE\",\"all\\u002f2018\\u002f5\\u002fPROPERTY - ACCIDENTAL DAMAGE\",\"all\\u002f2018\\u002f6\\u002fPROPERTY - ACCIDENTAL DAMAGE\",\"all\\u002f2018\\u002f7\\u002fPROPERTY - ACCIDENTAL DAMAGE\",\"all\\u002f2018\\u002f8\\u002fPROPERTY - ACCIDENTAL DAMAGE\",\"all\\u002f2018\\u002f9\\u002fPROPERTY - ACCIDENTAL DAMAGE\",\"all\\u002f2018\\u002f4\\u002fPROPERTY - CONCEALING LEASED\",\"all\\u002f2018\\u002f5\\u002fPROPERTY - CONCEALING LEASED\",\"all\\u002f2018\\u002f1\\u002fPROPERTY - FOUND\",\"all\\u002f2018\\u002f2\\u002fPROPERTY - FOUND\",\"all\\u002f2018\\u002f3\\u002fPROPERTY - FOUND\",\"all\\u002f2018\\u002f4\\u002fPROPERTY - FOUND\",\"all\\u002f2018\\u002f5\\u002fPROPERTY - FOUND\",\"all\\u002f2018\\u002f6\\u002fPROPERTY - FOUND\",\"all\\u002f2018\\u002f7\\u002fPROPERTY - FOUND\",\"all\\u002f2018\\u002f8\\u002fPROPERTY - FOUND\",\"all\\u002f2018\\u002f9\\u002fPROPERTY - FOUND\",\"all\\u002f2018\\u002f1\\u002fPROPERTY - LOST\",\"all\\u002f2018\\u002f2\\u002fPROPERTY - LOST\",\"all\\u002f2018\\u002f3\\u002fPROPERTY - LOST\",\"all\\u002f2018\\u002f4\\u002fPROPERTY - LOST\",\"all\\u002f2018\\u002f5\\u002fPROPERTY - LOST\",\"all\\u002f2018\\u002f6\\u002fPROPERTY - LOST\",\"all\\u002f2018\\u002f7\\u002fPROPERTY - LOST\",\"all\\u002f2018\\u002f8\\u002fPROPERTY - LOST\",\"all\\u002f2018\\u002f9\\u002fPROPERTY - LOST\",\"all\\u002f2018\\u002f1\\u002fPROPERTY - LOST THEN LOCATED\",\"all\\u002f2018\\u002f2\\u002fPROPERTY - LOST THEN LOCATED\",\"all\\u002f2018\\u002f3\\u002fPROPERTY - LOST THEN LOCATED\",\"all\\u002f2018\\u002f4\\u002fPROPERTY - LOST THEN LOCATED\",\"all\\u002f2018\\u002f5\\u002fPROPERTY - LOST THEN LOCATED\",\"all\\u002f2018\\u002f6\\u002fPROPERTY - LOST THEN LOCATED\",\"all\\u002f2018\\u002f7\\u002fPROPERTY - LOST THEN LOCATED\",\"all\\u002f2018\\u002f8\\u002fPROPERTY - LOST THEN LOCATED\",\"all\\u002f2018\\u002f1\\u002fPROPERTY - MISSING\",\"all\\u002f2018\\u002f2\\u002fPROPERTY - MISSING\",\"all\\u002f2018\\u002f3\\u002fPROPERTY - MISSING\",\"all\\u002f2018\\u002f4\\u002fPROPERTY - MISSING\",\"all\\u002f2018\\u002f5\\u002fPROPERTY - MISSING\",\"all\\u002f2018\\u002f6\\u002fPROPERTY - MISSING\",\"all\\u002f2018\\u002f7\\u002fPROPERTY - MISSING\",\"all\\u002f2018\\u002f8\\u002fPROPERTY - MISSING\",\"all\\u002f2016\\u002f11\\u002fPROPERTY - RECEIVING STOLEN\",\"all\\u002f2016\\u002f12\\u002fPROPERTY - RECEIVING STOLEN\",\"all\\u002f2018\\u002f1\\u002fPROPERTY - STOLEN THEN RECOVERED\",\"all\\u002f2018\\u002f2\\u002fPROPERTY - STOLEN THEN RECOVERED\",\"all\\u002f2018\\u002f3\\u002fPROPERTY - STOLEN THEN RECOVERED\",\"all\\u002f2018\\u002f4\\u002fPROPERTY - STOLEN THEN RECOVERED\",\"all\\u002f2018\\u002f5\\u002fPROPERTY - STOLEN THEN RECOVERED\",\"all\\u002f2018\\u002f6\\u002fPROPERTY - STOLEN THEN RECOVERED\",\"all\\u002f2018\\u002f7\\u002fPROPERTY - STOLEN THEN RECOVERED\",\"all\\u002f2018\\u002f8\\u002fPROPERTY - STOLEN THEN RECOVERED\",\"all\\u002f2017\\u002f1\\u002fPROSTITUTION\",\"all\\u002f2017\\u002f3\\u002fPROSTITUTION\",\"all\\u002f2017\\u002f4\\u002fPROSTITUTION\",\"all\\u002f2017\\u002f5\\u002fPROSTITUTION\",\"all\\u002f2017\\u002f6\\u002fPROSTITUTION\",\"all\\u002f2017\\u002f7\\u002fPROSTITUTION\",\"all\\u002f2017\\u002f8\\u002fPROSTITUTION\",\"all\\u002f2017\\u002f9\\u002fPROSTITUTION\",\"all\\u002f2017\\u002f11\\u002fPROSTITUTION\",\"all\\u002f2017\\u002f12\\u002fPROSTITUTION\",\"all\\u002f2017\\u002f3\\u002fPROSTITUTION - ASSISTING OR PROMOTING\",\"all\\u002f2018\\u002f8\\u002fPROSTITUTION - COMMON NIGHTWALKER\",\"all\\u002f2018\\u002f1\\u002fPROSTITUTION - SOLICITING\",\"all\\u002f2018\\u002f2\\u002fPROSTITUTION - SOLICITING\",\"all\\u002f2018\\u002f6\\u002fPROSTITUTION - SOLICITING\",\"all\\u002f2018\\u002f7\\u002fPROSTITUTION - SOLICITING\",\"all\\u002f2018\\u002f2\\u002fPROTECTIVE CUSTODY \\u002f SAFEKEEPING\",\"all\\u002f2018\\u002f3\\u002fPROTECTIVE CUSTODY \\u002f SAFEKEEPING\",\"all\\u002f2018\\u002f5\\u002fPROTECTIVE CUSTODY \\u002f SAFEKEEPING\",\"all\\u002f2018\\u002f1\\u002fRECOVERED - MV RECOVERED IN BOSTON (STOLEN OUTSIDE BOSTON)\",\"all\\u002f2018\\u002f2\\u002fRECOVERED - MV RECOVERED IN BOSTON (STOLEN OUTSIDE BOSTON)\",\"all\\u002f2018\\u002f3\\u002fRECOVERED - MV RECOVERED IN BOSTON (STOLEN OUTSIDE BOSTON)\",\"all\\u002f2018\\u002f4\\u002fRECOVERED - MV RECOVERED IN BOSTON (STOLEN OUTSIDE BOSTON)\",\"all\\u002f2018\\u002f5\\u002fRECOVERED - MV RECOVERED IN BOSTON (STOLEN OUTSIDE BOSTON)\",\"all\\u002f2018\\u002f6\\u002fRECOVERED - MV RECOVERED IN BOSTON (STOLEN OUTSIDE BOSTON)\",\"all\\u002f2018\\u002f7\\u002fRECOVERED - MV RECOVERED IN BOSTON (STOLEN OUTSIDE BOSTON)\",\"all\\u002f2018\\u002f8\\u002fRECOVERED - MV RECOVERED IN BOSTON (STOLEN OUTSIDE BOSTON)\",\"all\\u002f2018\\u002f9\\u002fRECOVERED - MV RECOVERED IN BOSTON (STOLEN OUTSIDE BOSTON)\",\"all\\u002f2018\\u002f1\\u002fRECOVERED STOLEN PLATE\",\"all\\u002f2018\\u002f3\\u002fRECOVERED STOLEN PLATE\",\"all\\u002f2018\\u002f4\\u002fRECOVERED STOLEN PLATE\",\"all\\u002f2018\\u002f5\\u002fRECOVERED STOLEN PLATE\",\"all\\u002f2018\\u002f6\\u002fRECOVERED STOLEN PLATE\",\"all\\u002f2018\\u002f7\\u002fRECOVERED STOLEN PLATE\",\"all\\u002f2018\\u002f9\\u002fRECOVERED STOLEN PLATE\",\"all\\u002f2018\\u002f1\\u002fREPORT AFFECTING OTHER DEPTS.\",\"all\\u002f2018\\u002f2\\u002fREPORT AFFECTING OTHER DEPTS.\",\"all\\u002f2018\\u002f3\\u002fREPORT AFFECTING OTHER DEPTS.\",\"all\\u002f2018\\u002f4\\u002fREPORT AFFECTING OTHER DEPTS.\",\"all\\u002f2018\\u002f5\\u002fREPORT AFFECTING OTHER DEPTS.\",\"all\\u002f2018\\u002f6\\u002fREPORT AFFECTING OTHER DEPTS.\",\"all\\u002f2018\\u002f7\\u002fREPORT AFFECTING OTHER DEPTS.\",\"all\\u002f2018\\u002f8\\u002fREPORT AFFECTING OTHER DEPTS.\",\"all\\u002f2018\\u002f1\\u002fROBBERY - BANK\",\"all\\u002f2018\\u002f2\\u002fROBBERY - BANK\",\"all\\u002f2018\\u002f3\\u002fROBBERY - BANK\",\"all\\u002f2018\\u002f4\\u002fROBBERY - BANK\",\"all\\u002f2018\\u002f5\\u002fROBBERY - BANK\",\"all\\u002f2018\\u002f6\\u002fROBBERY - BANK\",\"all\\u002f2018\\u002f7\\u002fROBBERY - BANK\",\"all\\u002f2018\\u002f1\\u002fROBBERY - CAR JACKING\",\"all\\u002f2018\\u002f2\\u002fROBBERY - CAR JACKING\",\"all\\u002f2018\\u002f3\\u002fROBBERY - CAR JACKING\",\"all\\u002f2018\\u002f4\\u002fROBBERY - CAR JACKING\",\"all\\u002f2018\\u002f5\\u002fROBBERY - CAR JACKING\",\"all\\u002f2018\\u002f6\\u002fROBBERY - CAR JACKING\",\"all\\u002f2018\\u002f7\\u002fROBBERY - CAR JACKING\",\"all\\u002f2018\\u002f8\\u002fROBBERY - CAR JACKING\",\"all\\u002f2018\\u002f9\\u002fROBBERY - CAR JACKING\",\"all\\u002f2018\\u002f1\\u002fROBBERY - COMMERCIAL\",\"all\\u002f2018\\u002f2\\u002fROBBERY - COMMERCIAL\",\"all\\u002f2018\\u002f3\\u002fROBBERY - COMMERCIAL\",\"all\\u002f2018\\u002f4\\u002fROBBERY - COMMERCIAL\",\"all\\u002f2018\\u002f5\\u002fROBBERY - COMMERCIAL\",\"all\\u002f2018\\u002f6\\u002fROBBERY - COMMERCIAL\",\"all\\u002f2018\\u002f7\\u002fROBBERY - COMMERCIAL\",\"all\\u002f2018\\u002f8\\u002fROBBERY - COMMERCIAL\",\"all\\u002f2018\\u002f9\\u002fROBBERY - COMMERCIAL\",\"all\\u002f2018\\u002f1\\u002fROBBERY - HOME INVASION\",\"all\\u002f2018\\u002f2\\u002fROBBERY - HOME INVASION\",\"all\\u002f2018\\u002f4\\u002fROBBERY - HOME INVASION\",\"all\\u002f2018\\u002f5\\u002fROBBERY - HOME INVASION\",\"all\\u002f2018\\u002f6\\u002fROBBERY - HOME INVASION\",\"all\\u002f2018\\u002f7\\u002fROBBERY - HOME INVASION\",\"all\\u002f2018\\u002f8\\u002fROBBERY - HOME INVASION\",\"all\\u002f2015\\u002f8\\u002fROBBERY - KNIFE - STREET\",\"all\\u002f2018\\u002f1\\u002fROBBERY - OTHER\",\"all\\u002f2018\\u002f2\\u002fROBBERY - OTHER\",\"all\\u002f2018\\u002f3\\u002fROBBERY - OTHER\",\"all\\u002f2018\\u002f4\\u002fROBBERY - OTHER\",\"all\\u002f2018\\u002f5\\u002fROBBERY - OTHER\",\"all\\u002f2018\\u002f6\\u002fROBBERY - OTHER\",\"all\\u002f2018\\u002f7\\u002fROBBERY - OTHER\",\"all\\u002f2018\\u002f8\\u002fROBBERY - OTHER\",\"all\\u002f2018\\u002f9\\u002fROBBERY - OTHER\",\"all\\u002f2018\\u002f1\\u002fROBBERY - STREET\",\"all\\u002f2018\\u002f2\\u002fROBBERY - STREET\",\"all\\u002f2018\\u002f3\\u002fROBBERY - STREET\",\"all\\u002f2018\\u002f4\\u002fROBBERY - STREET\",\"all\\u002f2018\\u002f5\\u002fROBBERY - STREET\",\"all\\u002f2018\\u002f6\\u002fROBBERY - STREET\",\"all\\u002f2018\\u002f7\\u002fROBBERY - STREET\",\"all\\u002f2018\\u002f8\\u002fROBBERY - STREET\",\"all\\u002f2018\\u002f9\\u002fROBBERY - STREET\",\"all\\u002f2015\\u002f7\\u002fROBBERY - UNARMED - BUSINESS\",\"all\\u002f2018\\u002f7\\u002fROBBERY - UNARMED - CHAIN STORE\",\"all\\u002f2016\\u002f2\\u002fROBBERY - UNARMED - RESIDENCE\",\"all\\u002f2017\\u002f2\\u002fROBBERY - UNARMED - STREET\",\"all\\u002f2015\\u002f8\\u002fROBBERY ATTEMPT - KNIFE - BANK\",\"all\\u002f2018\\u002f1\\u002fSEARCH WARRANT\",\"all\\u002f2018\\u002f2\\u002fSEARCH WARRANT\",\"all\\u002f2018\\u002f3\\u002fSEARCH WARRANT\",\"all\\u002f2018\\u002f4\\u002fSEARCH WARRANT\",\"all\\u002f2018\\u002f5\\u002fSEARCH WARRANT\",\"all\\u002f2018\\u002f6\\u002fSEARCH WARRANT\",\"all\\u002f2018\\u002f7\\u002fSEARCH WARRANT\",\"all\\u002f2018\\u002f8\\u002fSEARCH WARRANT\",\"all\\u002f2018\\u002f1\\u002fSERVICE TO OTHER PD INSIDE OF MA.\",\"all\\u002f2018\\u002f2\\u002fSERVICE TO OTHER PD INSIDE OF MA.\",\"all\\u002f2018\\u002f3\\u002fSERVICE TO OTHER PD INSIDE OF MA.\",\"all\\u002f2018\\u002f4\\u002fSERVICE TO OTHER PD INSIDE OF MA.\",\"all\\u002f2018\\u002f5\\u002fSERVICE TO OTHER PD INSIDE OF MA.\",\"all\\u002f2018\\u002f6\\u002fSERVICE TO OTHER PD INSIDE OF MA.\",\"all\\u002f2018\\u002f7\\u002fSERVICE TO OTHER PD INSIDE OF MA.\",\"all\\u002f2018\\u002f8\\u002fSERVICE TO OTHER PD INSIDE OF MA.\",\"all\\u002f2018\\u002f9\\u002fSERVICE TO OTHER PD INSIDE OF MA.\",\"all\\u002f2018\\u002f1\\u002fSERVICE TO OTHER PD OUTSIDE OF MA.\",\"all\\u002f2018\\u002f2\\u002fSERVICE TO OTHER PD OUTSIDE OF MA.\",\"all\\u002f2018\\u002f3\\u002fSERVICE TO OTHER PD OUTSIDE OF MA.\",\"all\\u002f2018\\u002f4\\u002fSERVICE TO OTHER PD OUTSIDE OF MA.\",\"all\\u002f2018\\u002f5\\u002fSERVICE TO OTHER PD OUTSIDE OF MA.\",\"all\\u002f2018\\u002f6\\u002fSERVICE TO OTHER PD OUTSIDE OF MA.\",\"all\\u002f2018\\u002f7\\u002fSERVICE TO OTHER PD OUTSIDE OF MA.\",\"all\\u002f2018\\u002f8\\u002fSERVICE TO OTHER PD OUTSIDE OF MA.\",\"all\\u002f2018\\u002f1\\u002fSICK\\u002fINJURED\\u002fMEDICAL - PERSON\",\"all\\u002f2018\\u002f2\\u002fSICK\\u002fINJURED\\u002fMEDICAL - PERSON\",\"all\\u002f2018\\u002f3\\u002fSICK\\u002fINJURED\\u002fMEDICAL - PERSON\",\"all\\u002f2018\\u002f4\\u002fSICK\\u002fINJURED\\u002fMEDICAL - PERSON\",\"all\\u002f2018\\u002f5\\u002fSICK\\u002fINJURED\\u002fMEDICAL - PERSON\",\"all\\u002f2018\\u002f6\\u002fSICK\\u002fINJURED\\u002fMEDICAL - PERSON\",\"all\\u002f2018\\u002f7\\u002fSICK\\u002fINJURED\\u002fMEDICAL - PERSON\",\"all\\u002f2018\\u002f8\\u002fSICK\\u002fINJURED\\u002fMEDICAL - PERSON\",\"all\\u002f2018\\u002f9\\u002fSICK\\u002fINJURED\\u002fMEDICAL - PERSON\",\"all\\u002f2018\\u002f1\\u002fSICK\\u002fINJURED\\u002fMEDICAL - POLICE\",\"all\\u002f2018\\u002f2\\u002fSICK\\u002fINJURED\\u002fMEDICAL - POLICE\",\"all\\u002f2018\\u002f3\\u002fSICK\\u002fINJURED\\u002fMEDICAL - POLICE\",\"all\\u002f2018\\u002f4\\u002fSICK\\u002fINJURED\\u002fMEDICAL - POLICE\",\"all\\u002f2018\\u002f5\\u002fSICK\\u002fINJURED\\u002fMEDICAL - POLICE\",\"all\\u002f2018\\u002f6\\u002fSICK\\u002fINJURED\\u002fMEDICAL - POLICE\",\"all\\u002f2018\\u002f7\\u002fSICK\\u002fINJURED\\u002fMEDICAL - POLICE\",\"all\\u002f2018\\u002f8\\u002fSICK\\u002fINJURED\\u002fMEDICAL - POLICE\",\"all\\u002f2018\\u002f9\\u002fSICK\\u002fINJURED\\u002fMEDICAL - POLICE\",\"all\\u002f2018\\u002f1\\u002fSTALKING\",\"all\\u002f2018\\u002f3\\u002fSTALKING\",\"all\\u002f2018\\u002f4\\u002fSTALKING\",\"all\\u002f2018\\u002f6\\u002fSTALKING\",\"all\\u002f2018\\u002f7\\u002fSTALKING\",\"all\\u002f2018\\u002f8\\u002fSTALKING\",\"all\\u002f2018\\u002f1\\u002fSTOLEN PROPERTY - BUYING \\u002f RECEIVING \\u002f POSSESSING\",\"all\\u002f2018\\u002f2\\u002fSTOLEN PROPERTY - BUYING \\u002f RECEIVING \\u002f POSSESSING\",\"all\\u002f2018\\u002f3\\u002fSTOLEN PROPERTY - BUYING \\u002f RECEIVING \\u002f POSSESSING\",\"all\\u002f2018\\u002f4\\u002fSTOLEN PROPERTY - BUYING \\u002f RECEIVING \\u002f POSSESSING\",\"all\\u002f2018\\u002f5\\u002fSTOLEN PROPERTY - BUYING \\u002f RECEIVING \\u002f POSSESSING\",\"all\\u002f2018\\u002f6\\u002fSTOLEN PROPERTY - BUYING \\u002f RECEIVING \\u002f POSSESSING\",\"all\\u002f2018\\u002f7\\u002fSTOLEN PROPERTY - BUYING \\u002f RECEIVING \\u002f POSSESSING\",\"all\\u002f2018\\u002f8\\u002fSTOLEN PROPERTY - BUYING \\u002f RECEIVING \\u002f POSSESSING\",\"all\\u002f2018\\u002f1\\u002fSUDDEN DEATH\",\"all\\u002f2018\\u002f2\\u002fSUDDEN DEATH\",\"all\\u002f2018\\u002f3\\u002fSUDDEN DEATH\",\"all\\u002f2018\\u002f4\\u002fSUDDEN DEATH\",\"all\\u002f2018\\u002f5\\u002fSUDDEN DEATH\",\"all\\u002f2018\\u002f6\\u002fSUDDEN DEATH\",\"all\\u002f2018\\u002f7\\u002fSUDDEN DEATH\",\"all\\u002f2018\\u002f8\\u002fSUDDEN DEATH\",\"all\\u002f2018\\u002f9\\u002fSUDDEN DEATH\",\"all\\u002f2018\\u002f1\\u002fSUICIDE \\u002f SUICIDE ATTEMPT\",\"all\\u002f2018\\u002f2\\u002fSUICIDE \\u002f SUICIDE ATTEMPT\",\"all\\u002f2018\\u002f3\\u002fSUICIDE \\u002f SUICIDE ATTEMPT\",\"all\\u002f2018\\u002f4\\u002fSUICIDE \\u002f SUICIDE ATTEMPT\",\"all\\u002f2018\\u002f5\\u002fSUICIDE \\u002f SUICIDE ATTEMPT\",\"all\\u002f2018\\u002f6\\u002fSUICIDE \\u002f SUICIDE ATTEMPT\",\"all\\u002f2018\\u002f7\\u002fSUICIDE \\u002f SUICIDE ATTEMPT\",\"all\\u002f2018\\u002f8\\u002fSUICIDE \\u002f SUICIDE ATTEMPT\",\"all\\u002f2018\\u002f1\\u002fTHREATS TO DO BODILY HARM\",\"all\\u002f2018\\u002f2\\u002fTHREATS TO DO BODILY HARM\",\"all\\u002f2018\\u002f3\\u002fTHREATS TO DO BODILY HARM\",\"all\\u002f2018\\u002f4\\u002fTHREATS TO DO BODILY HARM\",\"all\\u002f2018\\u002f5\\u002fTHREATS TO DO BODILY HARM\",\"all\\u002f2018\\u002f6\\u002fTHREATS TO DO BODILY HARM\",\"all\\u002f2018\\u002f7\\u002fTHREATS TO DO BODILY HARM\",\"all\\u002f2018\\u002f8\\u002fTHREATS TO DO BODILY HARM\",\"all\\u002f2018\\u002f9\\u002fTHREATS TO DO BODILY HARM\",\"all\\u002f2018\\u002f1\\u002fTOWED MOTOR VEHICLE\",\"all\\u002f2018\\u002f2\\u002fTOWED MOTOR VEHICLE\",\"all\\u002f2018\\u002f3\\u002fTOWED MOTOR VEHICLE\",\"all\\u002f2018\\u002f4\\u002fTOWED MOTOR VEHICLE\",\"all\\u002f2018\\u002f5\\u002fTOWED MOTOR VEHICLE\",\"all\\u002f2018\\u002f6\\u002fTOWED MOTOR VEHICLE\",\"all\\u002f2018\\u002f7\\u002fTOWED MOTOR VEHICLE\",\"all\\u002f2018\\u002f8\\u002fTOWED MOTOR VEHICLE\",\"all\\u002f2018\\u002f9\\u002fTOWED MOTOR VEHICLE\",\"all\\u002f2018\\u002f1\\u002fTRESPASSING\",\"all\\u002f2018\\u002f2\\u002fTRESPASSING\",\"all\\u002f2018\\u002f3\\u002fTRESPASSING\",\"all\\u002f2018\\u002f4\\u002fTRESPASSING\",\"all\\u002f2018\\u002f5\\u002fTRESPASSING\",\"all\\u002f2018\\u002f6\\u002fTRESPASSING\",\"all\\u002f2018\\u002f7\\u002fTRESPASSING\",\"all\\u002f2018\\u002f8\\u002fTRESPASSING\",\"all\\u002f2018\\u002f9\\u002fTRESPASSING\",\"all\\u002f2018\\u002f3\\u002fTRUANCY \\u002f RUNAWAY\",\"all\\u002f2018\\u002f4\\u002fTRUANCY \\u002f RUNAWAY\",\"all\\u002f2018\\u002f5\\u002fTRUANCY \\u002f RUNAWAY\",\"all\\u002f2018\\u002f1\\u002fVAL - OPERATING AFTER REV\\u002fSUSP.\",\"all\\u002f2018\\u002f2\\u002fVAL - OPERATING AFTER REV\\u002fSUSP.\",\"all\\u002f2018\\u002f3\\u002fVAL - OPERATING AFTER REV\\u002fSUSP.\",\"all\\u002f2018\\u002f4\\u002fVAL - OPERATING AFTER REV\\u002fSUSP.\",\"all\\u002f2018\\u002f5\\u002fVAL - OPERATING AFTER REV\\u002fSUSP.\",\"all\\u002f2018\\u002f6\\u002fVAL - OPERATING AFTER REV\\u002fSUSP.\",\"all\\u002f2016\\u002f7\\u002fVAL - OPERATING AFTER REV\\u002fSUSP.\",\"all\\u002f2018\\u002f7\\u002fVAL - OPERATING AFTER REV\\u002fSUSP.\",\"all\\u002f2018\\u002f8\\u002fVAL - OPERATING AFTER REV\\u002fSUSP.\",\"all\\u002f2018\\u002f9\\u002fVAL - OPERATING AFTER REV\\u002fSUSP.\",\"all\\u002f2018\\u002f1\\u002fVAL - OPERATING UNREG\\u002fUNINS \\u00a0CAR\",\"all\\u002f2018\\u002f2\\u002fVAL - OPERATING UNREG\\u002fUNINS \\u00a0CAR\",\"all\\u002f2018\\u002f3\\u002fVAL - OPERATING UNREG\\u002fUNINS \\u00a0CAR\",\"all\\u002f2018\\u002f4\\u002fVAL - OPERATING UNREG\\u002fUNINS \\u00a0CAR\",\"all\\u002f2018\\u002f5\\u002fVAL - OPERATING UNREG\\u002fUNINS \\u00a0CAR\",\"all\\u002f2018\\u002f6\\u002fVAL - OPERATING UNREG\\u002fUNINS \\u00a0CAR\",\"all\\u002f2018\\u002f7\\u002fVAL - OPERATING UNREG\\u002fUNINS \\u00a0CAR\",\"all\\u002f2018\\u002f8\\u002fVAL - OPERATING UNREG\\u002fUNINS \\u00a0CAR\",\"all\\u002f2018\\u002f1\\u002fVAL - OPERATING W\\u002fO AUTHORIZATION LAWFUL\",\"all\\u002f2018\\u002f2\\u002fVAL - OPERATING W\\u002fO AUTHORIZATION LAWFUL\",\"all\\u002f2018\\u002f3\\u002fVAL - OPERATING W\\u002fO AUTHORIZATION LAWFUL\",\"all\\u002f2018\\u002f4\\u002fVAL - OPERATING W\\u002fO AUTHORIZATION LAWFUL\",\"all\\u002f2018\\u002f5\\u002fVAL - OPERATING W\\u002fO AUTHORIZATION LAWFUL\",\"all\\u002f2018\\u002f6\\u002fVAL - OPERATING W\\u002fO AUTHORIZATION LAWFUL\",\"all\\u002f2018\\u002f7\\u002fVAL - OPERATING W\\u002fO AUTHORIZATION LAWFUL\",\"all\\u002f2018\\u002f8\\u002fVAL - OPERATING W\\u002fO AUTHORIZATION LAWFUL\",\"all\\u002f2018\\u002f1\\u002fVAL - OPERATING WITHOUT LICENSE\",\"all\\u002f2018\\u002f2\\u002fVAL - OPERATING WITHOUT LICENSE\",\"all\\u002f2018\\u002f3\\u002fVAL - OPERATING WITHOUT LICENSE\",\"all\\u002f2018\\u002f4\\u002fVAL - OPERATING WITHOUT LICENSE\",\"all\\u002f2018\\u002f5\\u002fVAL - OPERATING WITHOUT LICENSE\",\"all\\u002f2018\\u002f6\\u002fVAL - OPERATING WITHOUT LICENSE\",\"all\\u002f2018\\u002f7\\u002fVAL - OPERATING WITHOUT LICENSE\",\"all\\u002f2018\\u002f8\\u002fVAL - OPERATING WITHOUT LICENSE\",\"all\\u002f2018\\u002f9\\u002fVAL - OPERATING WITHOUT LICENSE\",\"all\\u002f2018\\u002f1\\u002fVAL - VIOLATION OF AUTO LAW - OTHER\",\"all\\u002f2018\\u002f2\\u002fVAL - VIOLATION OF AUTO LAW - OTHER\",\"all\\u002f2018\\u002f3\\u002fVAL - VIOLATION OF AUTO LAW - OTHER\",\"all\\u002f2018\\u002f4\\u002fVAL - VIOLATION OF AUTO LAW - OTHER\",\"all\\u002f2018\\u002f5\\u002fVAL - VIOLATION OF AUTO LAW - OTHER\",\"all\\u002f2018\\u002f6\\u002fVAL - VIOLATION OF AUTO LAW - OTHER\",\"all\\u002f2018\\u002f7\\u002fVAL - VIOLATION OF AUTO LAW - OTHER\",\"all\\u002f2018\\u002f8\\u002fVAL - VIOLATION OF AUTO LAW - OTHER\",\"all\\u002f2018\\u002f9\\u002fVAL - VIOLATION OF AUTO LAW - OTHER\",\"all\\u002f2018\\u002f1\\u002fVANDALISM\",\"all\\u002f2018\\u002f2\\u002fVANDALISM\",\"all\\u002f2018\\u002f3\\u002fVANDALISM\",\"all\\u002f2018\\u002f4\\u002fVANDALISM\",\"all\\u002f2018\\u002f5\\u002fVANDALISM\",\"all\\u002f2018\\u002f6\\u002fVANDALISM\",\"all\\u002f2018\\u002f7\\u002fVANDALISM\",\"all\\u002f2018\\u002f8\\u002fVANDALISM\",\"all\\u002f2018\\u002f9\\u002fVANDALISM\",\"all\\u002f2018\\u002f1\\u002fVERBAL DISPUTE\",\"all\\u002f2018\\u002f2\\u002fVERBAL DISPUTE\",\"all\\u002f2018\\u002f3\\u002fVERBAL DISPUTE\",\"all\\u002f2018\\u002f4\\u002fVERBAL DISPUTE\",\"all\\u002f2018\\u002f5\\u002fVERBAL DISPUTE\",\"all\\u002f2018\\u002f6\\u002fVERBAL DISPUTE\",\"all\\u002f2018\\u002f7\\u002fVERBAL DISPUTE\",\"all\\u002f2018\\u002f8\\u002fVERBAL DISPUTE\",\"all\\u002f2018\\u002f9\\u002fVERBAL DISPUTE\",\"all\\u002f2018\\u002f1\\u002fVIOL. OF RESTRAINING ORDER W ARREST\",\"all\\u002f2018\\u002f2\\u002fVIOL. OF RESTRAINING ORDER W ARREST\",\"all\\u002f2018\\u002f3\\u002fVIOL. OF RESTRAINING ORDER W ARREST\",\"all\\u002f2018\\u002f4\\u002fVIOL. OF RESTRAINING ORDER W ARREST\",\"all\\u002f2018\\u002f5\\u002fVIOL. OF RESTRAINING ORDER W ARREST\",\"all\\u002f2018\\u002f6\\u002fVIOL. OF RESTRAINING ORDER W ARREST\",\"all\\u002f2018\\u002f7\\u002fVIOL. OF RESTRAINING ORDER W ARREST\",\"all\\u002f2018\\u002f8\\u002fVIOL. OF RESTRAINING ORDER W ARREST\",\"all\\u002f2018\\u002f9\\u002fVIOL. OF RESTRAINING ORDER W ARREST\",\"all\\u002f2018\\u002f1\\u002fVIOL. OF RESTRAINING ORDER W NO ARREST\",\"all\\u002f2018\\u002f2\\u002fVIOL. OF RESTRAINING ORDER W NO ARREST\",\"all\\u002f2018\\u002f3\\u002fVIOL. OF RESTRAINING ORDER W NO ARREST\",\"all\\u002f2018\\u002f4\\u002fVIOL. OF RESTRAINING ORDER W NO ARREST\",\"all\\u002f2018\\u002f5\\u002fVIOL. OF RESTRAINING ORDER W NO ARREST\",\"all\\u002f2018\\u002f6\\u002fVIOL. OF RESTRAINING ORDER W NO ARREST\",\"all\\u002f2018\\u002f7\\u002fVIOL. OF RESTRAINING ORDER W NO ARREST\",\"all\\u002f2018\\u002f8\\u002fVIOL. OF RESTRAINING ORDER W NO ARREST\",\"all\\u002f2018\\u002f9\\u002fVIOL. OF RESTRAINING ORDER W NO ARREST\",\"all\\u002f2018\\u002f1\\u002fVIOLATION - CITY ORDINANCE\",\"all\\u002f2018\\u002f2\\u002fVIOLATION - CITY ORDINANCE\",\"all\\u002f2018\\u002f3\\u002fVIOLATION - CITY ORDINANCE\",\"all\\u002f2018\\u002f4\\u002fVIOLATION - CITY ORDINANCE\",\"all\\u002f2018\\u002f5\\u002fVIOLATION - CITY ORDINANCE\",\"all\\u002f2018\\u002f6\\u002fVIOLATION - CITY ORDINANCE\",\"all\\u002f2018\\u002f7\\u002fVIOLATION - CITY ORDINANCE\",\"all\\u002f2018\\u002f8\\u002fVIOLATION - CITY ORDINANCE\",\"all\\u002f2018\\u002f1\\u002fVIOLATION - CITY ORDINANCE CONSTRUCTION PERMIT\",\"all\\u002f2018\\u002f2\\u002fVIOLATION - CITY ORDINANCE CONSTRUCTION PERMIT\",\"all\\u002f2018\\u002f7\\u002fVIOLATION - CITY ORDINANCE CONSTRUCTION PERMIT\",\"all\\u002f2018\\u002f8\\u002fVIOLATION - CITY ORDINANCE CONSTRUCTION PERMIT\",\"all\\u002f2018\\u002f3\\u002fVIOLATION - HAWKER AND PEDDLER\",\"all\\u002f2018\\u002f4\\u002fVIOLATION - HAWKER AND PEDDLER\",\"all\\u002f2018\\u002f5\\u002fVIOLATION - HAWKER AND PEDDLER\",\"all\\u002f2018\\u002f1\\u002fWARRANT ARREST\",\"all\\u002f2018\\u002f2\\u002fWARRANT ARREST\",\"all\\u002f2018\\u002f3\\u002fWARRANT ARREST\",\"all\\u002f2018\\u002f4\\u002fWARRANT ARREST\",\"all\\u002f2018\\u002f5\\u002fWARRANT ARREST\",\"all\\u002f2018\\u002f6\\u002fWARRANT ARREST\",\"all\\u002f2018\\u002f7\\u002fWARRANT ARREST\",\"all\\u002f2018\\u002f8\\u002fWARRANT ARREST\",\"all\\u002f2018\\u002f9\\u002fWARRANT ARREST\",\"all\\u002f2018\\u002f1\\u002fWEAPON - FIREARM - CARRYING \\u002f POSSESSING, ETC\",\"all\\u002f2018\\u002f2\\u002fWEAPON - FIREARM - CARRYING \\u002f POSSESSING, ETC\",\"all\\u002f2018\\u002f3\\u002fWEAPON - FIREARM - CARRYING \\u002f POSSESSING, ETC\",\"all\\u002f2018\\u002f4\\u002fWEAPON - FIREARM - CARRYING \\u002f POSSESSING, ETC\",\"all\\u002f2018\\u002f5\\u002fWEAPON - FIREARM - CARRYING \\u002f POSSESSING, ETC\",\"all\\u002f2018\\u002f6\\u002fWEAPON - FIREARM - CARRYING \\u002f POSSESSING, ETC\",\"all\\u002f2018\\u002f7\\u002fWEAPON - FIREARM - CARRYING \\u002f POSSESSING, ETC\",\"all\\u002f2018\\u002f8\\u002fWEAPON - FIREARM - CARRYING \\u002f POSSESSING, ETC\",\"all\\u002f2018\\u002f9\\u002fWEAPON - FIREARM - CARRYING \\u002f POSSESSING, ETC\",\"all\\u002f2018\\u002f1\\u002fWEAPON - FIREARM - OTHER VIOLATION\",\"all\\u002f2018\\u002f2\\u002fWEAPON - FIREARM - OTHER VIOLATION\",\"all\\u002f2018\\u002f3\\u002fWEAPON - FIREARM - OTHER VIOLATION\",\"all\\u002f2018\\u002f4\\u002fWEAPON - FIREARM - OTHER VIOLATION\",\"all\\u002f2018\\u002f5\\u002fWEAPON - FIREARM - OTHER VIOLATION\",\"all\\u002f2018\\u002f6\\u002fWEAPON - FIREARM - OTHER VIOLATION\",\"all\\u002f2018\\u002f7\\u002fWEAPON - FIREARM - OTHER VIOLATION\",\"all\\u002f2018\\u002f8\\u002fWEAPON - FIREARM - OTHER VIOLATION\",\"all\\u002f2018\\u002f4\\u002fWEAPON - FIREARM - SALE \\u002f TRAFFICKING\",\"all\\u002f2018\\u002f1\\u002fWEAPON - OTHER - CARRYING \\u002f POSSESSING, ETC\",\"all\\u002f2018\\u002f2\\u002fWEAPON - OTHER - CARRYING \\u002f POSSESSING, ETC\",\"all\\u002f2018\\u002f3\\u002fWEAPON - OTHER - CARRYING \\u002f POSSESSING, ETC\",\"all\\u002f2018\\u002f4\\u002fWEAPON - OTHER - CARRYING \\u002f POSSESSING, ETC\",\"all\\u002f2018\\u002f5\\u002fWEAPON - OTHER - CARRYING \\u002f POSSESSING, ETC\",\"all\\u002f2018\\u002f6\\u002fWEAPON - OTHER - CARRYING \\u002f POSSESSING, ETC\",\"all\\u002f2018\\u002f7\\u002fWEAPON - OTHER - CARRYING \\u002f POSSESSING, ETC\",\"all\\u002f2018\\u002f8\\u002fWEAPON - OTHER - CARRYING \\u002f POSSESSING, ETC\",\"all\\u002f2018\\u002f9\\u002fWEAPON - OTHER - CARRYING \\u002f POSSESSING, ETC\",\"all\\u002f2018\\u002f1\\u002fWEAPON - OTHER - OTHER VIOLATION\",\"all\\u002f2018\\u002f2\\u002fWEAPON - OTHER - OTHER VIOLATION\",\"all\\u002f2018\\u002f3\\u002fWEAPON - OTHER - OTHER VIOLATION\",\"all\\u002f2018\\u002f4\\u002fWEAPON - OTHER - OTHER VIOLATION\",\"all\\u002f2018\\u002f5\\u002fWEAPON - OTHER - OTHER VIOLATION\",\"all\\u002f2018\\u002f6\\u002fWEAPON - OTHER - OTHER VIOLATION\",\"all\\u002f2018\\u002f7\\u002fWEAPON - OTHER - OTHER VIOLATION\",\"all\\u002f2018\\u002f8\\u002fWEAPON - OTHER - OTHER VIOLATION\",\"all\\u002f2018\\u002f9\\u002fWEAPON - OTHER - OTHER VIOLATION\",\"all\\u002f2016\\u002f1\",\"all\\u002f2017\\u002f1\",\"all\\u002f2018\\u002f1\",\"all\\u002f2016\\u002f2\",\"all\\u002f2017\\u002f2\",\"all\\u002f2018\\u002f2\",\"all\\u002f2016\\u002f3\",\"all\\u002f2017\\u002f3\",\"all\\u002f2018\\u002f3\",\"all\\u002f2016\\u002f4\",\"all\\u002f2017\\u002f4\",\"all\\u002f2018\\u002f4\",\"all\\u002f2017\\u002f5\",\"all\\u002f2018\\u002f5\",\"all\\u002f2016\\u002f6\",\"all\\u002f2017\\u002f6\",\"all\\u002f2018\\u002f6\",\"all\\u002f2015\\u002f7\",\"all\\u002f2016\\u002f7\",\"all\\u002f2017\\u002f7\",\"all\\u002f2018\\u002f7\",\"all\\u002f2015\\u002f8\",\"all\\u002f2016\\u002f8\",\"all\\u002f2017\\u002f8\",\"all\\u002f2018\\u002f8\",\"all\\u002f2017\\u002f9\",\"all\\u002f2018\\u002f9\",\"all\\u002f2015\\u002f10\",\"all\\u002f2016\\u002f10\",\"all\\u002f2016\\u002f11\",\"all\\u002f2017\\u002f11\",\"all\\u002f2015\\u002f12\",\"all\\u002f2016\\u002f12\",\"all\\u002f2017\\u002f12\",\"all\\u002f2015\",\"all\\u002f2016\",\"all\\u002f2017\",\"all\\u002f2018\",\"all\"],\"labels\":[\"A&B HANDS, FEET, ETC.  - MED. ATTENTION REQ.\",\"A&B ON POLICE OFFICER\",\"ABDUCTION - INTICING\",\"ABDUCTION - INTICING\",\"ABDUCTION - INTICING\",\"ABDUCTION - INTICING\",\"AFFRAY\",\"AFFRAY\",\"AFFRAY\",\"AFFRAY\",\"AFFRAY\",\"AFFRAY\",\"AFFRAY\",\"AFFRAY\",\"AFFRAY\",\"AIRCRAFT INCIDENTS\",\"AIRCRAFT INCIDENTS\",\"AIRCRAFT INCIDENTS\",\"AIRCRAFT INCIDENTS\",\"ANIMAL ABUSE\",\"ANIMAL ABUSE\",\"ANIMAL ABUSE\",\"ANIMAL ABUSE\",\"ANIMAL ABUSE\",\"ANIMAL ABUSE\",\"ANIMAL ABUSE\",\"ANIMAL CONTROL - DOG BITES - ETC.\",\"ANIMAL CONTROL - DOG BITES - ETC.\",\"ANIMAL CONTROL - DOG BITES - ETC.\",\"ANIMAL CONTROL - DOG BITES - ETC.\",\"ANIMAL CONTROL - DOG BITES - ETC.\",\"ANIMAL CONTROL - DOG BITES - ETC.\",\"ANIMAL CONTROL - DOG BITES - ETC.\",\"ANIMAL CONTROL - DOG BITES - ETC.\",\"ANIMAL CONTROL - DOG BITES - ETC.\",\"ANIMAL INCIDENTS\",\"ANIMAL INCIDENTS\",\"ANIMAL INCIDENTS\",\"ANIMAL INCIDENTS\",\"ANIMAL INCIDENTS\",\"ANIMAL INCIDENTS\",\"ANIMAL INCIDENTS\",\"ANIMAL INCIDENTS\",\"ANIMAL INCIDENTS\",\"ANNOYING AND ACCOSTING\",\"ANNOYING AND ACCOSTING\",\"ANNOYING AND ACCOSTING\",\"ANNOYING AND ACCOSTING\",\"ANNOYING AND ACCOSTING\",\"ANNOYING AND ACCOSTING\",\"ANNOYING AND ACCOSTING\",\"ARSON\",\"ARSON\",\"ARSON\",\"ARSON\",\"ARSON\",\"ARSON\",\"ARSON\",\"ASSAULT & BATTERY D\\u002fW - KNIFE\",\"ASSAULT & BATTERY D\\u002fW - OTHER\",\"ASSAULT & BATTERY D\\u002fW - OTHER\",\"ASSAULT & BATTERY D\\u002fW - OTHER\",\"ASSAULT - AGGRAVATED\",\"ASSAULT - AGGRAVATED\",\"ASSAULT - AGGRAVATED\",\"ASSAULT - AGGRAVATED\",\"ASSAULT - AGGRAVATED\",\"ASSAULT - AGGRAVATED\",\"ASSAULT - AGGRAVATED\",\"ASSAULT - AGGRAVATED\",\"ASSAULT - AGGRAVATED\",\"ASSAULT - AGGRAVATED - BATTERY\",\"ASSAULT - AGGRAVATED - BATTERY\",\"ASSAULT - AGGRAVATED - BATTERY\",\"ASSAULT - AGGRAVATED - BATTERY\",\"ASSAULT - AGGRAVATED - BATTERY\",\"ASSAULT - AGGRAVATED - BATTERY\",\"ASSAULT - AGGRAVATED - BATTERY\",\"ASSAULT - AGGRAVATED - BATTERY\",\"ASSAULT - AGGRAVATED - BATTERY\",\"ASSAULT - SIMPLE\",\"ASSAULT - SIMPLE\",\"ASSAULT - SIMPLE\",\"ASSAULT - SIMPLE\",\"ASSAULT - SIMPLE\",\"ASSAULT - SIMPLE\",\"ASSAULT - SIMPLE\",\"ASSAULT - SIMPLE\",\"ASSAULT - SIMPLE\",\"ASSAULT D\\u002fW - KNIFE ON POLICE OFFICER\",\"ASSAULT SIMPLE - BATTERY\",\"ASSAULT SIMPLE - BATTERY\",\"ASSAULT SIMPLE - BATTERY\",\"ASSAULT SIMPLE - BATTERY\",\"ASSAULT SIMPLE - BATTERY\",\"ASSAULT SIMPLE - BATTERY\",\"ASSAULT SIMPLE - BATTERY\",\"ASSAULT SIMPLE - BATTERY\",\"ASSAULT SIMPLE - BATTERY\",\"AUTO THEFT\",\"AUTO THEFT\",\"AUTO THEFT\",\"AUTO THEFT\",\"AUTO THEFT\",\"AUTO THEFT\",\"AUTO THEFT\",\"AUTO THEFT\",\"AUTO THEFT\",\"AUTO THEFT - LEASED\\u002fRENTED VEHICLE\",\"AUTO THEFT - LEASED\\u002fRENTED VEHICLE\",\"AUTO THEFT - LEASED\\u002fRENTED VEHICLE\",\"AUTO THEFT - LEASED\\u002fRENTED VEHICLE\",\"AUTO THEFT - LEASED\\u002fRENTED VEHICLE\",\"AUTO THEFT - LEASED\\u002fRENTED VEHICLE\",\"AUTO THEFT - LEASED\\u002fRENTED VEHICLE\",\"AUTO THEFT - LEASED\\u002fRENTED VEHICLE\",\"AUTO THEFT - MOTORCYCLE \\u002f SCOOTER\",\"AUTO THEFT - MOTORCYCLE \\u002f SCOOTER\",\"AUTO THEFT - MOTORCYCLE \\u002f SCOOTER\",\"AUTO THEFT - MOTORCYCLE \\u002f SCOOTER\",\"AUTO THEFT - MOTORCYCLE \\u002f SCOOTER\",\"AUTO THEFT - MOTORCYCLE \\u002f SCOOTER\",\"AUTO THEFT - MOTORCYCLE \\u002f SCOOTER\",\"AUTO THEFT - MOTORCYCLE \\u002f SCOOTER\",\"AUTO THEFT - MOTORCYCLE \\u002f SCOOTER\",\"AUTO THEFT - RECOVERED IN BY POLICE\",\"AUTO THEFT - RECOVERED IN BY POLICE\",\"AUTO THEFT OTHER\",\"B&E NON-RESIDENCE DAY - NO PROP TAKEN\",\"B&E NON-RESIDENCE NIGHT - FORCE\",\"B&E RESIDENCE DAY - NO PROP TAKEN\",\"B&E RESIDENCE NIGHT - ATTEMPT FORCE\",\"BALLISTICS EVIDENCE\\u002fFOUND\",\"BALLISTICS EVIDENCE\\u002fFOUND\",\"BALLISTICS EVIDENCE\\u002fFOUND\",\"BALLISTICS EVIDENCE\\u002fFOUND\",\"BALLISTICS EVIDENCE\\u002fFOUND\",\"BALLISTICS EVIDENCE\\u002fFOUND\",\"BALLISTICS EVIDENCE\\u002fFOUND\",\"BALLISTICS EVIDENCE\\u002fFOUND\",\"BALLISTICS EVIDENCE\\u002fFOUND\",\"BIOLOGICAL THREATS\",\"BIOLOGICAL THREATS\",\"BOMB THREAT\",\"BOMB THREAT\",\"BOMB THREAT\",\"BOMB THREAT\",\"BOMB THREAT\",\"BOMB THREAT\",\"BOMB THREAT\",\"BOMB THREAT\",\"BOMB THREAT\",\"BURGLARY - COMMERICAL - ATTEMPT\",\"BURGLARY - COMMERICAL - ATTEMPT\",\"BURGLARY - COMMERICAL - ATTEMPT\",\"BURGLARY - COMMERICAL - ATTEMPT\",\"BURGLARY - COMMERICAL - ATTEMPT\",\"BURGLARY - COMMERICAL - ATTEMPT\",\"BURGLARY - COMMERICAL - FORCE\",\"BURGLARY - COMMERICAL - FORCE\",\"BURGLARY - COMMERICAL - FORCE\",\"BURGLARY - COMMERICAL - FORCE\",\"BURGLARY - COMMERICAL - FORCE\",\"BURGLARY - COMMERICAL - FORCE\",\"BURGLARY - COMMERICAL - FORCE\",\"BURGLARY - COMMERICAL - FORCE\",\"BURGLARY - COMMERICAL - NO FORCE\",\"BURGLARY - COMMERICAL - NO FORCE\",\"BURGLARY - COMMERICAL - NO FORCE\",\"BURGLARY - COMMERICAL - NO FORCE\",\"BURGLARY - COMMERICAL - NO FORCE\",\"BURGLARY - COMMERICAL - NO FORCE\",\"BURGLARY - COMMERICAL - NO FORCE\",\"BURGLARY - COMMERICAL - NO FORCE\",\"BURGLARY - OTHER - ATTEMPT\",\"BURGLARY - OTHER - ATTEMPT\",\"BURGLARY - OTHER - ATTEMPT\",\"BURGLARY - OTHER - ATTEMPT\",\"BURGLARY - OTHER - ATTEMPT\",\"BURGLARY - OTHER - ATTEMPT\",\"BURGLARY - OTHER - ATTEMPT\",\"BURGLARY - OTHER - FORCE\",\"BURGLARY - OTHER - FORCE\",\"BURGLARY - OTHER - FORCE\",\"BURGLARY - OTHER - FORCE\",\"BURGLARY - OTHER - FORCE\",\"BURGLARY - OTHER - FORCE\",\"BURGLARY - OTHER - FORCE\",\"BURGLARY - OTHER - FORCE\",\"BURGLARY - OTHER - NO FORCE\",\"BURGLARY - OTHER - NO FORCE\",\"BURGLARY - OTHER - NO FORCE\",\"BURGLARY - OTHER - NO FORCE\",\"BURGLARY - OTHER - NO FORCE\",\"BURGLARY - OTHER - NO FORCE\",\"BURGLARY - OTHER - NO FORCE\",\"BURGLARY - RESIDENTIAL - ATTEMPT\",\"BURGLARY - RESIDENTIAL - ATTEMPT\",\"BURGLARY - RESIDENTIAL - ATTEMPT\",\"BURGLARY - RESIDENTIAL - ATTEMPT\",\"BURGLARY - RESIDENTIAL - ATTEMPT\",\"BURGLARY - RESIDENTIAL - ATTEMPT\",\"BURGLARY - RESIDENTIAL - ATTEMPT\",\"BURGLARY - RESIDENTIAL - ATTEMPT\",\"BURGLARY - RESIDENTIAL - FORCE\",\"BURGLARY - RESIDENTIAL - FORCE\",\"BURGLARY - RESIDENTIAL - FORCE\",\"BURGLARY - RESIDENTIAL - FORCE\",\"BURGLARY - RESIDENTIAL - FORCE\",\"BURGLARY - RESIDENTIAL - FORCE\",\"BURGLARY - RESIDENTIAL - FORCE\",\"BURGLARY - RESIDENTIAL - FORCE\",\"BURGLARY - RESIDENTIAL - FORCE\",\"BURGLARY - RESIDENTIAL - NO FORCE\",\"BURGLARY - RESIDENTIAL - NO FORCE\",\"BURGLARY - RESIDENTIAL - NO FORCE\",\"BURGLARY - RESIDENTIAL - NO FORCE\",\"BURGLARY - RESIDENTIAL - NO FORCE\",\"BURGLARY - RESIDENTIAL - NO FORCE\",\"BURGLARY - RESIDENTIAL - NO FORCE\",\"BURGLARY - RESIDENTIAL - NO FORCE\",\"BURGLARY - RESIDENTIAL - NO FORCE\",\"CHILD ABANDONMENT (NO ASSAULT)\",\"CHILD ABANDONMENT (NO ASSAULT)\",\"CHILD ABANDONMENT (NO ASSAULT)\",\"CHILD ABANDONMENT (NO ASSAULT)\",\"CHILD ENDANGERMENT\",\"CHILD ENDANGERMENT\",\"CHILD ENDANGERMENT\",\"CHILD ENDANGERMENT\",\"CHILD ENDANGERMENT\",\"CHILD ENDANGERMENT\",\"CHILD ENDANGERMENT\",\"CHILD ENDANGERMENT\",\"CHILD ENDANGERMENT (NO ASSAULT)\",\"CHILD ENDANGERMENT (NO ASSAULT)\",\"CHILD ENDANGERMENT (NO ASSAULT)\",\"CHILD ENDANGERMENT (NO ASSAULT)\",\"CHILD ENDANGERMENT (NO ASSAULT)\",\"CHILD ENDANGERMENT (NO ASSAULT)\",\"CHILD ENDANGERMENT (NO ASSAULT)\",\"CHILD ENDANGERMENT (NO ASSAULT)\",\"CHINS\",\"CHINS\",\"CHINS\",\"CONSPIRACY EXCEPT DRUG LAW\",\"CONSPIRACY EXCEPT DRUG LAW\",\"CONSPIRACY EXCEPT DRUG LAW\",\"CONSPIRACY EXCEPT DRUG LAW\",\"CONTRIBUTING TO DELINQUENCY OF MINOR\",\"CRIMINAL HARASSMENT\",\"CRIMINAL HARASSMENT\",\"CRIMINAL HARASSMENT\",\"CRIMINAL HARASSMENT\",\"CRIMINAL HARASSMENT\",\"CRIMINAL HARASSMENT\",\"CRIMINAL HARASSMENT\",\"CRIMINAL HARASSMENT\",\"CUSTODIAL KIDNAPPING\",\"CUSTODIAL KIDNAPPING\",\"CUSTODIAL KIDNAPPING\",\"CUSTODIAL KIDNAPPING\",\"DANGEROUS OR HAZARDOUS CONDITION\",\"DANGEROUS OR HAZARDOUS CONDITION\",\"DANGEROUS OR HAZARDOUS CONDITION\",\"DANGEROUS OR HAZARDOUS CONDITION\",\"DANGEROUS OR HAZARDOUS CONDITION\",\"DANGEROUS OR HAZARDOUS CONDITION\",\"DANGEROUS OR HAZARDOUS CONDITION\",\"DANGEROUS OR HAZARDOUS CONDITION\",\"DEATH INVESTIGATION\",\"DEATH INVESTIGATION\",\"DEATH INVESTIGATION\",\"DEATH INVESTIGATION\",\"DEATH INVESTIGATION\",\"DEATH INVESTIGATION\",\"DEATH INVESTIGATION\",\"DEATH INVESTIGATION\",\"DEATH INVESTIGATION\",\"DEMONSTRATIONS\\u002fRIOT\",\"DEMONSTRATIONS\\u002fRIOT\",\"DEMONSTRATIONS\\u002fRIOT\",\"DEMONSTRATIONS\\u002fRIOT\",\"DEMONSTRATIONS\\u002fRIOT\",\"DEMONSTRATIONS\\u002fRIOT\",\"DEMONSTRATIONS\\u002fRIOT\",\"DEMONSTRATIONS\\u002fRIOT\",\"DEMONSTRATIONS\\u002fRIOT\",\"DISORDERLY CONDUCT\",\"DISORDERLY CONDUCT\",\"DISORDERLY CONDUCT\",\"DISORDERLY CONDUCT\",\"DISORDERLY CONDUCT\",\"DISORDERLY CONDUCT\",\"DISORDERLY CONDUCT\",\"DISORDERLY CONDUCT\",\"DISORDERLY CONDUCT\",\"DISTURBING THE PEACE\",\"DISTURBING THE PEACE\",\"DISTURBING THE PEACE\",\"DISTURBING THE PEACE\",\"DISTURBING THE PEACE\",\"DISTURBING THE PEACE\",\"DISTURBING THE PEACE\",\"DISTURBING THE PEACE\",\"DISTURBING THE PEACE\",\"DRUGS - CLASS A TRAFFICKING OVER 18 GRAMS\",\"DRUGS - CLASS A TRAFFICKING OVER 18 GRAMS\",\"DRUGS - CLASS A TRAFFICKING OVER 18 GRAMS\",\"DRUGS - CLASS A TRAFFICKING OVER 18 GRAMS\",\"DRUGS - CLASS A TRAFFICKING OVER 18 GRAMS\",\"DRUGS - CLASS A TRAFFICKING OVER 18 GRAMS\",\"DRUGS - CLASS A TRAFFICKING OVER 18 GRAMS\",\"DRUGS - CLASS A TRAFFICKING OVER 18 GRAMS\",\"DRUGS - CLASS B TRAFFICKING OVER 18 GRAMS\",\"DRUGS - CLASS B TRAFFICKING OVER 18 GRAMS\",\"DRUGS - CLASS B TRAFFICKING OVER 18 GRAMS\",\"DRUGS - CLASS B TRAFFICKING OVER 18 GRAMS\",\"DRUGS - CLASS B TRAFFICKING OVER 18 GRAMS\",\"DRUGS - CLASS B TRAFFICKING OVER 18 GRAMS\",\"DRUGS - CLASS B TRAFFICKING OVER 18 GRAMS\",\"DRUGS - CLASS B TRAFFICKING OVER 18 GRAMS\",\"DRUGS - CLASS B TRAFFICKING OVER 18 GRAMS\",\"DRUGS - CLASS D TRAFFICKING OVER 50 GRAMS\",\"DRUGS - CLASS D TRAFFICKING OVER 50 GRAMS\",\"DRUGS - CLASS D TRAFFICKING OVER 50 GRAMS\",\"DRUGS - CONSP TO VIOL CONTROLLED SUBSTANCE\",\"DRUGS - CONSP TO VIOL CONTROLLED SUBSTANCE\",\"DRUGS - CONSP TO VIOL CONTROLLED SUBSTANCE\",\"DRUGS - CONSP TO VIOL CONTROLLED SUBSTANCE\",\"DRUGS - CONSP TO VIOL CONTROLLED SUBSTANCE\",\"DRUGS - GLUE INHALATION\",\"DRUGS - OTHER\",\"DRUGS - OTHER\",\"DRUGS - OTHER\",\"DRUGS - OTHER\",\"DRUGS - OTHER\",\"DRUGS - OTHER\",\"DRUGS - OTHER\",\"DRUGS - OTHER\",\"DRUGS - OTHER\",\"DRUGS - POSS CLASS A - HEROIN, ETC. \",\"DRUGS - POSS CLASS A - HEROIN, ETC. \",\"DRUGS - POSS CLASS A - HEROIN, ETC. \",\"DRUGS - POSS CLASS A - HEROIN, ETC. \",\"DRUGS - POSS CLASS A - HEROIN, ETC. \",\"DRUGS - POSS CLASS A - HEROIN, ETC. \",\"DRUGS - POSS CLASS A - HEROIN, ETC. \",\"DRUGS - POSS CLASS A - HEROIN, ETC. \",\"DRUGS - POSS CLASS A - HEROIN, ETC. \",\"DRUGS - POSS CLASS A - INTENT TO MFR DIST DISP\",\"DRUGS - POSS CLASS A - INTENT TO MFR DIST DISP\",\"DRUGS - POSS CLASS A - INTENT TO MFR DIST DISP\",\"DRUGS - POSS CLASS A - INTENT TO MFR DIST DISP\",\"DRUGS - POSS CLASS A - INTENT TO MFR DIST DISP\",\"DRUGS - POSS CLASS A - INTENT TO MFR DIST DISP\",\"DRUGS - POSS CLASS A - INTENT TO MFR DIST DISP\",\"DRUGS - POSS CLASS A - INTENT TO MFR DIST DISP\",\"DRUGS - POSS CLASS A - INTENT TO MFR DIST DISP\",\"DRUGS - POSS CLASS B - COCAINE, ETC.\",\"DRUGS - POSS CLASS B - COCAINE, ETC.\",\"DRUGS - POSS CLASS B - COCAINE, ETC.\",\"DRUGS - POSS CLASS B - COCAINE, ETC.\",\"DRUGS - POSS CLASS B - COCAINE, ETC.\",\"DRUGS - POSS CLASS B - COCAINE, ETC.\",\"DRUGS - POSS CLASS B - COCAINE, ETC.\",\"DRUGS - POSS CLASS B - COCAINE, ETC.\",\"DRUGS - POSS CLASS B - COCAINE, ETC.\",\"DRUGS - POSS CLASS B - INTENT TO MFR DIST DISP\",\"DRUGS - POSS CLASS B - INTENT TO MFR DIST DISP\",\"DRUGS - POSS CLASS B - INTENT TO MFR DIST DISP\",\"DRUGS - POSS CLASS B - INTENT TO MFR DIST DISP\",\"DRUGS - POSS CLASS B - INTENT TO MFR DIST DISP\",\"DRUGS - POSS CLASS B - INTENT TO MFR DIST DISP\",\"DRUGS - POSS CLASS B - INTENT TO MFR DIST DISP\",\"DRUGS - POSS CLASS B - INTENT TO MFR DIST DISP\",\"DRUGS - POSS CLASS B - INTENT TO MFR DIST DISP\",\"DRUGS - POSS CLASS C\",\"DRUGS - POSS CLASS C\",\"DRUGS - POSS CLASS C\",\"DRUGS - POSS CLASS C\",\"DRUGS - POSS CLASS C\",\"DRUGS - POSS CLASS C\",\"DRUGS - POSS CLASS C\",\"DRUGS - POSS CLASS C\",\"DRUGS - POSS CLASS C\",\"DRUGS - POSS CLASS C - INTENT TO MFR DIST DISP\",\"DRUGS - POSS CLASS C - INTENT TO MFR DIST DISP\",\"DRUGS - POSS CLASS C - INTENT TO MFR DIST DISP\",\"DRUGS - POSS CLASS C - INTENT TO MFR DIST DISP\",\"DRUGS - POSS CLASS C - INTENT TO MFR DIST DISP\",\"DRUGS - POSS CLASS C - INTENT TO MFR DIST DISP\",\"DRUGS - POSS CLASS C - INTENT TO MFR DIST DISP\",\"DRUGS - POSS CLASS C - INTENT TO MFR DIST DISP\",\"DRUGS - POSS CLASS D\",\"DRUGS - POSS CLASS D\",\"DRUGS - POSS CLASS D\",\"DRUGS - POSS CLASS D\",\"DRUGS - POSS CLASS D\",\"DRUGS - POSS CLASS D\",\"DRUGS - POSS CLASS D\",\"DRUGS - POSS CLASS D\",\"DRUGS - POSS CLASS D - INTENT MFR DIST DISP\",\"DRUGS - POSS CLASS D - INTENT TO MFR DIST DISP\",\"DRUGS - POSS CLASS D - INTENT TO MFR DIST DISP\",\"DRUGS - POSS CLASS D - INTENT TO MFR DIST DISP\",\"DRUGS - POSS CLASS D - INTENT TO MFR DIST DISP\",\"DRUGS - POSS CLASS D - INTENT TO MFR DIST DISP\",\"DRUGS - POSS CLASS D - INTENT TO MFR DIST DISP\",\"DRUGS - POSS CLASS D - INTENT TO MFR DIST DISP\",\"DRUGS - POSS CLASS D - INTENT TO MFR DIST DISP\",\"DRUGS - POSS CLASS D - INTENT TO MFR DIST DISP\",\"DRUGS - POSS CLASS D - MARIJUANA, ETC.\",\"DRUGS - POSS CLASS E\",\"DRUGS - POSS CLASS E\",\"DRUGS - POSS CLASS E\",\"DRUGS - POSS CLASS E\",\"DRUGS - POSS CLASS E\",\"DRUGS - POSS CLASS E\",\"DRUGS - POSS CLASS E\",\"DRUGS - POSS CLASS E\",\"DRUGS - POSS CLASS E\",\"DRUGS - POSS CLASS E - INTENT TO MFR DIST DISP\",\"DRUGS - POSS CLASS E - INTENT TO MFR DIST DISP\",\"DRUGS - POSS CLASS E - INTENT TO MFR DIST DISP\",\"DRUGS - POSS CLASS E - INTENT TO MFR DIST DISP\",\"DRUGS - POSS CLASS E - INTENT TO MFR DIST DISP\",\"DRUGS - POSS CLASS E - INTENT TO MFR DIST DISP\",\"DRUGS - POSS CLASS E - INTENT TO MFR DIST DISP\",\"DRUGS - POSS CLASS E - INTENT TO MFR DIST DISP\",\"DRUGS - POSS CLASS E INTENT TO MF DIST DISP\",\"DRUGS - POSSESSION\",\"DRUGS - POSSESSION\",\"DRUGS - POSSESSION\",\"DRUGS - POSSESSION\",\"DRUGS - POSSESSION\",\"DRUGS - POSSESSION\",\"DRUGS - POSSESSION\",\"DRUGS - POSSESSION OF DRUG PARAPHANALIA\",\"DRUGS - POSSESSION OF DRUG PARAPHANALIA\",\"DRUGS - POSSESSION OF DRUG PARAPHANALIA\",\"DRUGS - POSSESSION OF DRUG PARAPHANALIA\",\"DRUGS - POSSESSION OF DRUG PARAPHANALIA\",\"DRUGS - POSSESSION OF DRUG PARAPHANALIA\",\"DRUGS - SALE \\u002f MANUFACTURING\",\"DRUGS - SALE \\u002f MANUFACTURING\",\"DRUGS - SALE \\u002f MANUFACTURING\",\"DRUGS - SALE \\u002f MANUFACTURING\",\"DRUGS - SALE \\u002f MANUFACTURING\",\"DRUGS - SALE \\u002f MANUFACTURING\",\"DRUGS - SALE \\u002f MANUFACTURING\",\"DRUGS - SALE \\u002f MANUFACTURING\",\"DRUGS - SALE \\u002f MANUFACTURING\",\"DRUGS - SICK ASSIST - HEROIN\",\"DRUGS - SICK ASSIST - HEROIN\",\"DRUGS - SICK ASSIST - HEROIN\",\"DRUGS - SICK ASSIST - HEROIN\",\"DRUGS - SICK ASSIST - HEROIN\",\"DRUGS - SICK ASSIST - HEROIN\",\"DRUGS - SICK ASSIST - HEROIN\",\"DRUGS - SICK ASSIST - HEROIN\",\"DRUGS - SICK ASSIST - HEROIN\",\"DRUGS - SICK ASSIST - OTHER HARMFUL DRUG\",\"DRUGS - SICK ASSIST - OTHER HARMFUL DRUG\",\"DRUGS - SICK ASSIST - OTHER HARMFUL DRUG\",\"DRUGS - SICK ASSIST - OTHER HARMFUL DRUG\",\"DRUGS - SICK ASSIST - OTHER HARMFUL DRUG\",\"DRUGS - SICK ASSIST - OTHER HARMFUL DRUG\",\"DRUGS - SICK ASSIST - OTHER HARMFUL DRUG\",\"DRUGS - SICK ASSIST - OTHER NARCOTIC\",\"DRUGS - SICK ASSIST - OTHER NARCOTIC\",\"DRUGS - SICK ASSIST - OTHER NARCOTIC\",\"DRUGS - SICK ASSIST - OTHER NARCOTIC\",\"DRUGS - SICK ASSIST - OTHER NARCOTIC\",\"DRUGS - SICK ASSIST - OTHER NARCOTIC\",\"DRUGS - SICK ASSIST - OTHER NARCOTIC\",\"DRUGS - SICK ASSIST - OTHER NARCOTIC\",\"DRUGS - SICK ASSIST - OTHER NARCOTIC\",\"EMBEZZLEMENT\",\"EMBEZZLEMENT\",\"EMBEZZLEMENT\",\"EMBEZZLEMENT\",\"EMBEZZLEMENT\",\"EMBEZZLEMENT\",\"EMBEZZLEMENT\",\"EMBEZZLEMENT\",\"EVADING FARE\",\"EVADING FARE\",\"EVADING FARE\",\"EVADING FARE\",\"EVADING FARE\",\"EVADING FARE\",\"EVADING FARE\",\"EVADING FARE\",\"EXPLOSIVES - POSSESSION OR USE\",\"EXPLOSIVES - POSSESSION OR USE\",\"EXPLOSIVES - POSSESSION OR USE\",\"EXPLOSIVES - TURNED IN OR FOUND\",\"EXPLOSIVES - TURNED IN OR FOUND\",\"EXTORTION OR BLACKMAIL\",\"EXTORTION OR BLACKMAIL\",\"EXTORTION OR BLACKMAIL\",\"EXTORTION OR BLACKMAIL\",\"EXTORTION OR BLACKMAIL\",\"EXTORTION OR BLACKMAIL\",\"EXTORTION OR BLACKMAIL\",\"EXTORTION OR BLACKMAIL\",\"FIRE REPORT - CAR, BRUSH, ETC.\",\"FIRE REPORT - CAR, BRUSH, ETC.\",\"FIRE REPORT - CAR, BRUSH, ETC.\",\"FIRE REPORT - CAR, BRUSH, ETC.\",\"FIRE REPORT - CAR, BRUSH, ETC.\",\"FIRE REPORT - CAR, BRUSH, ETC.\",\"FIRE REPORT - CAR, BRUSH, ETC.\",\"FIRE REPORT - CAR, BRUSH, ETC.\",\"FIRE REPORT - CAR, BRUSH, ETC.\",\"FIRE REPORT - HOUSE, BUILDING, ETC.\",\"FIRE REPORT - HOUSE, BUILDING, ETC.\",\"FIRE REPORT - HOUSE, BUILDING, ETC.\",\"FIRE REPORT - HOUSE, BUILDING, ETC.\",\"FIRE REPORT - HOUSE, BUILDING, ETC.\",\"FIRE REPORT - HOUSE, BUILDING, ETC.\",\"FIRE REPORT - HOUSE, BUILDING, ETC.\",\"FIRE REPORT - HOUSE, BUILDING, ETC.\",\"FIRE REPORT - HOUSE, BUILDING, ETC.\",\"FIRE REPORT\\u002fALARM - FALSE\",\"FIRE REPORT\\u002fALARM - FALSE\",\"FIRE REPORT\\u002fALARM - FALSE\",\"FIRE REPORT\\u002fALARM - FALSE\",\"FIRE REPORT\\u002fALARM - FALSE\",\"FIRE REPORT\\u002fALARM - FALSE\",\"FIRE REPORT\\u002fALARM - FALSE\",\"FIRE REPORT\\u002fALARM - FALSE\",\"FIRE REPORT\\u002fALARM - FALSE\",\"FIREARM\\u002fWEAPON - ACCIDENTAL INJURY \\u002f DEATH\",\"FIREARM\\u002fWEAPON - ACCIDENTAL INJURY \\u002f DEATH\",\"FIREARM\\u002fWEAPON - FOUND OR CONFISCATED\",\"FIREARM\\u002fWEAPON - FOUND OR CONFISCATED\",\"FIREARM\\u002fWEAPON - FOUND OR CONFISCATED\",\"FIREARM\\u002fWEAPON - FOUND OR CONFISCATED\",\"FIREARM\\u002fWEAPON - FOUND OR CONFISCATED\",\"FIREARM\\u002fWEAPON - FOUND OR CONFISCATED\",\"FIREARM\\u002fWEAPON - FOUND OR CONFISCATED\",\"FIREARM\\u002fWEAPON - FOUND OR CONFISCATED\",\"FIREARM\\u002fWEAPON - FOUND OR CONFISCATED\",\"FIREARM\\u002fWEAPON - LOST\",\"FORGERY \\u002f COUNTERFEITING\",\"FORGERY \\u002f COUNTERFEITING\",\"FORGERY \\u002f COUNTERFEITING\",\"FORGERY \\u002f COUNTERFEITING\",\"FORGERY \\u002f COUNTERFEITING\",\"FORGERY \\u002f COUNTERFEITING\",\"FORGERY \\u002f COUNTERFEITING\",\"FORGERY \\u002f COUNTERFEITING\",\"FORGERY \\u002f COUNTERFEITING\",\"FORGERY OR UTTERING\",\"FRAUD - CREDIT CARD \\u002f ATM FRAUD\",\"FRAUD - CREDIT CARD \\u002f ATM FRAUD\",\"FRAUD - CREDIT CARD \\u002f ATM FRAUD\",\"FRAUD - CREDIT CARD \\u002f ATM FRAUD\",\"FRAUD - CREDIT CARD \\u002f ATM FRAUD\",\"FRAUD - CREDIT CARD \\u002f ATM FRAUD\",\"FRAUD - CREDIT CARD \\u002f ATM FRAUD\",\"FRAUD - CREDIT CARD \\u002f ATM FRAUD\",\"FRAUD - CREDIT CARD \\u002f ATM FRAUD\",\"FRAUD - FALSE PRETENSE \\u002f SCHEME\",\"FRAUD - FALSE PRETENSE \\u002f SCHEME\",\"FRAUD - FALSE PRETENSE \\u002f SCHEME\",\"FRAUD - FALSE PRETENSE \\u002f SCHEME\",\"FRAUD - FALSE PRETENSE \\u002f SCHEME\",\"FRAUD - FALSE PRETENSE \\u002f SCHEME\",\"FRAUD - FALSE PRETENSE \\u002f SCHEME\",\"FRAUD - FALSE PRETENSE \\u002f SCHEME\",\"FRAUD - FALSE PRETENSE \\u002f SCHEME\",\"FRAUD - IMPERSONATION\",\"FRAUD - IMPERSONATION\",\"FRAUD - IMPERSONATION\",\"FRAUD - IMPERSONATION\",\"FRAUD - IMPERSONATION\",\"FRAUD - IMPERSONATION\",\"FRAUD - IMPERSONATION\",\"FRAUD - IMPERSONATION\",\"FRAUD - WELFARE\",\"FRAUD - WELFARE\",\"FRAUD - WELFARE\",\"FRAUD - WIRE\",\"FRAUD - WIRE\",\"FRAUD - WIRE\",\"FRAUD - WIRE\",\"FRAUD - WIRE\",\"FRAUD - WIRE\",\"FRAUD - WIRE\",\"FRAUD - WIRE\",\"FRAUD - WIRE\",\"FRAUDS - ALL OTHER\",\"FUGITIVE FROM JUSTICE\",\"FUGITIVE FROM JUSTICE\",\"FUGITIVE FROM JUSTICE\",\"FUGITIVE FROM JUSTICE\",\"FUGITIVE FROM JUSTICE\",\"FUGITIVE FROM JUSTICE\",\"FUGITIVE FROM JUSTICE\",\"FUGITIVE FROM JUSTICE\",\"GAMBLING - BETTING \\u002f WAGERING\",\"GAMBLING - BETTING \\u002f WAGERING\",\"GAMBLING - BETTING \\u002f WAGERING\",\"GAMBLING - BETTING \\u002f WAGERING\",\"GATHERING CAUSING ANNOYANCE\",\"GATHERING CAUSING ANNOYANCE\",\"GATHERING CAUSING ANNOYANCE\",\"GATHERING CAUSING ANNOYANCE\",\"GRAFFITI\",\"GRAFFITI\",\"GRAFFITI\",\"GRAFFITI\",\"GRAFFITI\",\"GRAFFITI\",\"GRAFFITI\",\"GRAFFITI\",\"HARASSMENT\",\"HARASSMENT\",\"HARASSMENT\",\"HARASSMENT\",\"HARASSMENT\",\"HARASSMENT\",\"HARASSMENT\",\"HARASSMENT\",\"HARASSMENT\",\"HARBOR INCIDENT \\u002f VIOLATION\",\"HARBOR INCIDENT \\u002f VIOLATION\",\"HARBOR INCIDENT \\u002f VIOLATION\",\"HARBOR INCIDENT \\u002f VIOLATION\",\"HARBOR INCIDENT \\u002f VIOLATION\",\"HARBOR INCIDENT \\u002f VIOLATION\",\"HARBOR INCIDENT \\u002f VIOLATION\",\"HARBOR INCIDENT \\u002f VIOLATION\",\"HARBOR INCIDENT \\u002f VIOLATION\",\"HOME INVASION\",\"HOME INVASION\",\"HOME INVASION\",\"HOME INVASION\",\"HOME INVASION\",\"HOME INVASION\",\"HOME INVASION\",\"HUMAN TRAFFICKING - COMMERCIAL SEX ACTS\",\"HUMAN TRAFFICKING - COMMERCIAL SEX ACTS\",\"HUMAN TRAFFICKING - COMMERCIAL SEX ACTS\",\"HUMAN TRAFFICKING - COMMERCIAL SEX ACTS\",\"HUMAN TRAFFICKING - INVOLUNTARY SERVITUDE\",\"INJURY BICYCLE NO M\\u002fV INVOLVED\",\"INJURY BICYCLE NO M\\u002fV INVOLVED\",\"INJURY BICYCLE NO M\\u002fV INVOLVED\",\"INJURY BICYCLE NO M\\u002fV INVOLVED\",\"INTIMIDATING WITNESS\",\"INTIMIDATING WITNESS\",\"INTIMIDATING WITNESS\",\"INTIMIDATING WITNESS\",\"INTIMIDATING WITNESS\",\"INTIMIDATING WITNESS\",\"INTIMIDATING WITNESS\",\"INTIMIDATING WITNESS\",\"INTIMIDATING WITNESS\",\"INVESTIGATE PERSON\",\"INVESTIGATE PERSON\",\"INVESTIGATE PERSON\",\"INVESTIGATE PERSON\",\"INVESTIGATE PERSON\",\"INVESTIGATE PERSON\",\"INVESTIGATE PERSON\",\"INVESTIGATE PERSON\",\"INVESTIGATE PERSON\",\"INVESTIGATE PROPERTY\",\"INVESTIGATE PROPERTY\",\"INVESTIGATE PROPERTY\",\"INVESTIGATE PROPERTY\",\"INVESTIGATE PROPERTY\",\"INVESTIGATE PROPERTY\",\"INVESTIGATE PROPERTY\",\"INVESTIGATE PROPERTY\",\"INVESTIGATE PROPERTY\",\"INVESTIGATION FOR ANOTHER AGENCY\",\"INVESTIGATION FOR ANOTHER AGENCY\",\"INVESTIGATION FOR ANOTHER AGENCY\",\"INVESTIGATION FOR ANOTHER AGENCY\",\"INVESTIGATION FOR ANOTHER AGENCY\",\"INVESTIGATION FOR ANOTHER AGENCY\",\"INVESTIGATION FOR ANOTHER AGENCY\",\"INVESTIGATION FOR ANOTHER AGENCY\",\"KIDNAPPING - ENTICING OR ATTEMPTED\",\"KIDNAPPING - ENTICING OR ATTEMPTED\",\"KIDNAPPING - ENTICING OR ATTEMPTED\",\"KIDNAPPING - ENTICING OR ATTEMPTED\",\"KIDNAPPING - ENTICING OR ATTEMPTED\",\"KIDNAPPING\\u002fCUSTODIAL KIDNAPPING\",\"KIDNAPPING\\u002fCUSTODIAL KIDNAPPING\",\"KIDNAPPING\\u002fCUSTODIAL KIDNAPPING\",\"KIDNAPPING\\u002fCUSTODIAL KIDNAPPING\",\"KIDNAPPING\\u002fCUSTODIAL KIDNAPPING\",\"KIDNAPPING\\u002fCUSTODIAL KIDNAPPING\",\"KILLING OF FELON BY POLICE\",\"LANDLORD - TENANT SERVICE\",\"LANDLORD - TENANT SERVICE\",\"LANDLORD - TENANT SERVICE\",\"LANDLORD - TENANT SERVICE\",\"LANDLORD - TENANT SERVICE\",\"LANDLORD - TENANT SERVICE\",\"LANDLORD - TENANT SERVICE\",\"LANDLORD - TENANT SERVICE\",\"LANDLORD - TENANT SERVICE\",\"LARCENY ALL OTHERS\",\"LARCENY ALL OTHERS\",\"LARCENY ALL OTHERS\",\"LARCENY ALL OTHERS\",\"LARCENY ALL OTHERS\",\"LARCENY ALL OTHERS\",\"LARCENY ALL OTHERS\",\"LARCENY ALL OTHERS\",\"LARCENY ALL OTHERS\",\"LARCENY IN A BUILDING $50 TO $199\",\"LARCENY IN A BUILDING UNDER $50\",\"LARCENY NON-ACCESSORY FROM VEH. $50 TO $199\",\"LARCENY NON-ACCESSORY FROM VEH. UNDER $50\",\"LARCENY OTHER $50 TO $199\",\"LARCENY OTHER $50 TO $199\",\"LARCENY OTHER UNDER $50\",\"LARCENY PICK-POCKET\",\"LARCENY PICK-POCKET\",\"LARCENY PICK-POCKET\",\"LARCENY PICK-POCKET\",\"LARCENY PICK-POCKET\",\"LARCENY PICK-POCKET\",\"LARCENY PICK-POCKET\",\"LARCENY PICK-POCKET\",\"LARCENY PURSE SNATCH - NO FORCE \",\"LARCENY PURSE SNATCH - NO FORCE \",\"LARCENY PURSE SNATCH - NO FORCE \",\"LARCENY PURSE SNATCH - NO FORCE \",\"LARCENY PURSE SNATCH - NO FORCE \",\"LARCENY PURSE SNATCH - NO FORCE \",\"LARCENY PURSE SNATCH - NO FORCE \",\"LARCENY PURSE SNATCH - NO FORCE \",\"LARCENY PURSE SNATCH - NO FORCE \",\"LARCENY SHOPLIFTING\",\"LARCENY SHOPLIFTING\",\"LARCENY SHOPLIFTING\",\"LARCENY SHOPLIFTING\",\"LARCENY SHOPLIFTING\",\"LARCENY SHOPLIFTING\",\"LARCENY SHOPLIFTING\",\"LARCENY SHOPLIFTING\",\"LARCENY SHOPLIFTING\",\"LARCENY SHOPLIFTING $50 TO $199\",\"LARCENY SHOPLIFTING $50 TO $199\",\"LARCENY SHOPLIFTING UNDER $50\",\"LARCENY THEFT FROM BUILDING\",\"LARCENY THEFT FROM BUILDING\",\"LARCENY THEFT FROM BUILDING\",\"LARCENY THEFT FROM BUILDING\",\"LARCENY THEFT FROM BUILDING\",\"LARCENY THEFT FROM BUILDING\",\"LARCENY THEFT FROM BUILDING\",\"LARCENY THEFT FROM BUILDING\",\"LARCENY THEFT FROM BUILDING\",\"LARCENY THEFT FROM COIN-OP MACHINE\",\"LARCENY THEFT FROM COIN-OP MACHINE\",\"LARCENY THEFT FROM COIN-OP MACHINE\",\"LARCENY THEFT FROM MV - NON-ACCESSORY\",\"LARCENY THEFT FROM MV - NON-ACCESSORY\",\"LARCENY THEFT FROM MV - NON-ACCESSORY\",\"LARCENY THEFT FROM MV - NON-ACCESSORY\",\"LARCENY THEFT FROM MV - NON-ACCESSORY\",\"LARCENY THEFT FROM MV - NON-ACCESSORY\",\"LARCENY THEFT FROM MV - NON-ACCESSORY\",\"LARCENY THEFT FROM MV - NON-ACCESSORY\",\"LARCENY THEFT FROM MV - NON-ACCESSORY\",\"LARCENY THEFT OF BICYCLE\",\"LARCENY THEFT OF BICYCLE\",\"LARCENY THEFT OF BICYCLE\",\"LARCENY THEFT OF BICYCLE\",\"LARCENY THEFT OF BICYCLE\",\"LARCENY THEFT OF BICYCLE\",\"LARCENY THEFT OF BICYCLE\",\"LARCENY THEFT OF BICYCLE\",\"LARCENY THEFT OF BICYCLE\",\"LARCENY THEFT OF MV PARTS & ACCESSORIES\",\"LARCENY THEFT OF MV PARTS & ACCESSORIES\",\"LARCENY THEFT OF MV PARTS & ACCESSORIES\",\"LARCENY THEFT OF MV PARTS & ACCESSORIES\",\"LARCENY THEFT OF MV PARTS & ACCESSORIES\",\"LARCENY THEFT OF MV PARTS & ACCESSORIES\",\"LARCENY THEFT OF MV PARTS & ACCESSORIES\",\"LARCENY THEFT OF MV PARTS & ACCESSORIES\",\"LARCENY THEFT OF MV PARTS & ACCESSORIES\",\"LICENSE PREMISE VIOLATION\",\"LICENSE PREMISE VIOLATION\",\"LICENSE PREMISE VIOLATION\",\"LICENSE PREMISE VIOLATION\",\"LICENSE PREMISE VIOLATION\",\"LICENSE PREMISE VIOLATION\",\"LICENSE PREMISE VIOLATION\",\"LICENSE PREMISE VIOLATION\",\"LIQUOR - DRINKING IN PUBLIC\",\"LIQUOR - DRINKING IN PUBLIC\",\"LIQUOR - DRINKING IN PUBLIC\",\"LIQUOR - DRINKING IN PUBLIC\",\"LIQUOR - DRINKING IN PUBLIC\",\"LIQUOR - DRINKING IN PUBLIC\",\"LIQUOR - DRINKING IN PUBLIC\",\"LIQUOR - DRINKING IN PUBLIC\",\"LIQUOR - DRINKING IN PUBLIC\",\"LIQUOR LAW VIOLATION\",\"LIQUOR LAW VIOLATION\",\"LIQUOR LAW VIOLATION\",\"LIQUOR LAW VIOLATION\",\"LIQUOR LAW VIOLATION\",\"LIQUOR LAW VIOLATION\",\"LIQUOR LAW VIOLATION\",\"LIQUOR LAW VIOLATION\",\"M\\u002fV - LEAVING SCENE - PERSONAL INJURY\",\"M\\u002fV - LEAVING SCENE - PERSONAL INJURY\",\"M\\u002fV - LEAVING SCENE - PERSONAL INJURY\",\"M\\u002fV - LEAVING SCENE - PERSONAL INJURY\",\"M\\u002fV - LEAVING SCENE - PERSONAL INJURY\",\"M\\u002fV - LEAVING SCENE - PERSONAL INJURY\",\"M\\u002fV - LEAVING SCENE - PERSONAL INJURY\",\"M\\u002fV - LEAVING SCENE - PERSONAL INJURY\",\"M\\u002fV - LEAVING SCENE - PERSONAL INJURY\",\"M\\u002fV - LEAVING SCENE - PROPERTY DAMAGE\",\"M\\u002fV - LEAVING SCENE - PROPERTY DAMAGE\",\"M\\u002fV - LEAVING SCENE - PROPERTY DAMAGE\",\"M\\u002fV - LEAVING SCENE - PROPERTY DAMAGE\",\"M\\u002fV - LEAVING SCENE - PROPERTY DAMAGE\",\"M\\u002fV - LEAVING SCENE - PROPERTY DAMAGE\",\"M\\u002fV - LEAVING SCENE - PROPERTY DAMAGE\",\"M\\u002fV - LEAVING SCENE - PROPERTY DAMAGE\",\"M\\u002fV - LEAVING SCENE - PROPERTY DAMAGE\",\"M\\u002fV ACCIDENT - INVOLVING BICYCLE - NO INJURY\",\"M\\u002fV ACCIDENT - INVOLVING BICYCLE - NO INJURY\",\"M\\u002fV ACCIDENT - INVOLVING BICYCLE - NO INJURY\",\"M\\u002fV ACCIDENT - INVOLVING BICYCLE - NO INJURY\",\"M\\u002fV ACCIDENT - INVOLVING BICYCLE - NO INJURY\",\"M\\u002fV ACCIDENT - INVOLVING BICYCLE - NO INJURY\",\"M\\u002fV ACCIDENT - INVOLVING BICYCLE - NO INJURY\",\"M\\u002fV ACCIDENT - INVOLVING BICYCLE - NO INJURY\",\"M\\u002fV ACCIDENT - INVOLVING BICYCLE - NO INJURY\",\"M\\u002fV ACCIDENT - INVOLVING PEDESTRIAN - NO INJURY\",\"M\\u002fV ACCIDENT - INVOLVING PEDESTRIAN - NO INJURY\",\"M\\u002fV ACCIDENT - INVOLVING PEDESTRIAN - NO INJURY\",\"M\\u002fV ACCIDENT - INVOLVING PEDESTRIAN - NO INJURY\",\"M\\u002fV ACCIDENT - INVOLVING PEDESTRIAN - NO INJURY\",\"M\\u002fV ACCIDENT - INVOLVING PEDESTRIAN - NO INJURY\",\"M\\u002fV ACCIDENT - INVOLVING PEDESTRIAN - NO INJURY\",\"M\\u002fV ACCIDENT - INVOLVING PEDESTRIAN - NO INJURY\",\"M\\u002fV ACCIDENT - INVOLVING PEDESTRIAN - NO INJURY\",\"M\\u002fV ACCIDENT - INVOLVING \\u00a0BICYCLE - INJURY\",\"M\\u002fV ACCIDENT - INVOLVING \\u00a0BICYCLE - INJURY\",\"M\\u002fV ACCIDENT - INVOLVING \\u00a0BICYCLE - INJURY\",\"M\\u002fV ACCIDENT - INVOLVING \\u00a0BICYCLE - INJURY\",\"M\\u002fV ACCIDENT - INVOLVING \\u00a0BICYCLE - INJURY\",\"M\\u002fV ACCIDENT - INVOLVING \\u00a0BICYCLE - INJURY\",\"M\\u002fV ACCIDENT - INVOLVING \\u00a0BICYCLE - INJURY\",\"M\\u002fV ACCIDENT - INVOLVING \\u00a0BICYCLE - INJURY\",\"M\\u002fV ACCIDENT - INVOLVING \\u00a0BICYCLE - INJURY\",\"M\\u002fV ACCIDENT - OTHER\",\"M\\u002fV ACCIDENT - OTHER\",\"M\\u002fV ACCIDENT - OTHER\",\"M\\u002fV ACCIDENT - OTHER\",\"M\\u002fV ACCIDENT - OTHER\",\"M\\u002fV ACCIDENT - OTHER\",\"M\\u002fV ACCIDENT - OTHER\",\"M\\u002fV ACCIDENT - OTHER\",\"M\\u002fV ACCIDENT - OTHER\",\"M\\u002fV ACCIDENT - OTHER CITY VEHICLE\",\"M\\u002fV ACCIDENT - OTHER CITY VEHICLE\",\"M\\u002fV ACCIDENT - OTHER CITY VEHICLE\",\"M\\u002fV ACCIDENT - OTHER CITY VEHICLE\",\"M\\u002fV ACCIDENT - OTHER CITY VEHICLE\",\"M\\u002fV ACCIDENT - OTHER CITY VEHICLE\",\"M\\u002fV ACCIDENT - OTHER CITY VEHICLE\",\"M\\u002fV ACCIDENT - OTHER CITY VEHICLE\",\"M\\u002fV ACCIDENT - OTHER CITY VEHICLE\",\"M\\u002fV ACCIDENT - PERSONAL INJURY\",\"M\\u002fV ACCIDENT - PERSONAL INJURY\",\"M\\u002fV ACCIDENT - PERSONAL INJURY\",\"M\\u002fV ACCIDENT - PERSONAL INJURY\",\"M\\u002fV ACCIDENT - PERSONAL INJURY\",\"M\\u002fV ACCIDENT - PERSONAL INJURY\",\"M\\u002fV ACCIDENT - PERSONAL INJURY\",\"M\\u002fV ACCIDENT - PERSONAL INJURY\",\"M\\u002fV ACCIDENT - PERSONAL INJURY\",\"M\\u002fV ACCIDENT - POLICE VEHICLE\",\"M\\u002fV ACCIDENT - POLICE VEHICLE\",\"M\\u002fV ACCIDENT - POLICE VEHICLE\",\"M\\u002fV ACCIDENT - POLICE VEHICLE\",\"M\\u002fV ACCIDENT - POLICE VEHICLE\",\"M\\u002fV ACCIDENT - POLICE VEHICLE\",\"M\\u002fV ACCIDENT - POLICE VEHICLE\",\"M\\u002fV ACCIDENT - POLICE VEHICLE\",\"M\\u002fV ACCIDENT - PROPERTY \\u00a0DAMAGE\",\"M\\u002fV ACCIDENT - PROPERTY \\u00a0DAMAGE\",\"M\\u002fV ACCIDENT - PROPERTY \\u00a0DAMAGE\",\"M\\u002fV ACCIDENT - PROPERTY \\u00a0DAMAGE\",\"M\\u002fV ACCIDENT - PROPERTY \\u00a0DAMAGE\",\"M\\u002fV ACCIDENT - PROPERTY \\u00a0DAMAGE\",\"M\\u002fV ACCIDENT - PROPERTY \\u00a0DAMAGE\",\"M\\u002fV ACCIDENT - PROPERTY \\u00a0DAMAGE\",\"M\\u002fV ACCIDENT - PROPERTY \\u00a0DAMAGE\",\"M\\u002fV ACCIDENT INVOLVING PEDESTRIAN - INJURY\",\"M\\u002fV ACCIDENT INVOLVING PEDESTRIAN - INJURY\",\"M\\u002fV ACCIDENT INVOLVING PEDESTRIAN - INJURY\",\"M\\u002fV ACCIDENT INVOLVING PEDESTRIAN - INJURY\",\"M\\u002fV ACCIDENT INVOLVING PEDESTRIAN - INJURY\",\"M\\u002fV ACCIDENT INVOLVING PEDESTRIAN - INJURY\",\"M\\u002fV ACCIDENT INVOLVING PEDESTRIAN - INJURY\",\"M\\u002fV ACCIDENT INVOLVING PEDESTRIAN - INJURY\",\"M\\u002fV ACCIDENT INVOLVING PEDESTRIAN - INJURY\",\"M\\u002fV PLATES - LOST\",\"M\\u002fV PLATES - LOST\",\"M\\u002fV PLATES - LOST\",\"M\\u002fV PLATES - LOST\",\"M\\u002fV PLATES - LOST\",\"M\\u002fV PLATES - LOST\",\"M\\u002fV PLATES - LOST\",\"M\\u002fV PLATES - LOST\",\"M\\u002fV PLATES - LOST\",\"MANSLAUGHTER - NON-VEHICLE - NEGLIGENCE\",\"MANSLAUGHTER - VEHICLE - NEGLIGENCE\",\"MANSLAUGHTER - VEHICLE - NEGLIGENCE\",\"MISSING PERSON\",\"MISSING PERSON\",\"MISSING PERSON\",\"MISSING PERSON\",\"MISSING PERSON\",\"MISSING PERSON\",\"MISSING PERSON\",\"MISSING PERSON\",\"MISSING PERSON\",\"MISSING PERSON - LOCATED\",\"MISSING PERSON - LOCATED\",\"MISSING PERSON - LOCATED\",\"MISSING PERSON - LOCATED\",\"MISSING PERSON - LOCATED\",\"MISSING PERSON - LOCATED\",\"MISSING PERSON - LOCATED\",\"MISSING PERSON - LOCATED\",\"MISSING PERSON - LOCATED\",\"MISSING PERSON - NOT REPORTED - LOCATED\",\"MISSING PERSON - NOT REPORTED - LOCATED\",\"MISSING PERSON - NOT REPORTED - LOCATED\",\"MISSING PERSON - NOT REPORTED - LOCATED\",\"MISSING PERSON - NOT REPORTED - LOCATED\",\"MISSING PERSON - NOT REPORTED - LOCATED\",\"MISSING PERSON - NOT REPORTED - LOCATED\",\"MISSING PERSON - NOT REPORTED - LOCATED\",\"MURDER, NON-NEGLIGIENT MANSLAUGHTER\",\"MURDER, NON-NEGLIGIENT MANSLAUGHTER\",\"MURDER, NON-NEGLIGIENT MANSLAUGHTER\",\"MURDER, NON-NEGLIGIENT MANSLAUGHTER\",\"MURDER, NON-NEGLIGIENT MANSLAUGHTER\",\"MURDER, NON-NEGLIGIENT MANSLAUGHTER\",\"MURDER, NON-NEGLIGIENT MANSLAUGHTER\",\"MURDER, NON-NEGLIGIENT MANSLAUGHTER\",\"NOISY PARTY\\u002fRADIO-ARREST\",\"NOISY PARTY\\u002fRADIO-ARREST\",\"NOISY PARTY\\u002fRADIO-ARREST\",\"NOISY PARTY\\u002fRADIO-NO ARREST\",\"NOISY PARTY\\u002fRADIO-NO ARREST\",\"NOISY PARTY\\u002fRADIO-NO ARREST\",\"NOISY PARTY\\u002fRADIO-NO ARREST\",\"NOISY PARTY\\u002fRADIO-NO ARREST\",\"NOISY PARTY\\u002fRADIO-NO ARREST\",\"NOISY PARTY\\u002fRADIO-NO ARREST\",\"NOISY PARTY\\u002fRADIO-NO ARREST\",\"OBSCENE MATERIALS - PORNOGRAPHY\",\"OBSCENE MATERIALS - PORNOGRAPHY\",\"OBSCENE MATERIALS - PORNOGRAPHY\",\"OBSCENE MATERIALS - PORNOGRAPHY\",\"OBSCENE MATERIALS - PORNOGRAPHY\",\"OBSCENE MATERIALS - PORNOGRAPHY\",\"OBSCENE MATERIALS - PORNOGRAPHY\",\"OBSCENE MATERIALS - PORNOGRAPHY\",\"OBSCENE PHONE CALLS\",\"OBSCENE PHONE CALLS\",\"OBSCENE PHONE CALLS\",\"OBSCENE PHONE CALLS\",\"OBSCENE PHONE CALLS\",\"OBSCENE PHONE CALLS\",\"OPERATING UNDER THE INFLUENCE ALCOHOL\",\"OPERATING UNDER THE INFLUENCE ALCOHOL\",\"OPERATING UNDER THE INFLUENCE ALCOHOL\",\"OPERATING UNDER THE INFLUENCE ALCOHOL\",\"OPERATING UNDER THE INFLUENCE ALCOHOL\",\"OPERATING UNDER THE INFLUENCE ALCOHOL\",\"OPERATING UNDER THE INFLUENCE ALCOHOL\",\"OPERATING UNDER THE INFLUENCE ALCOHOL\",\"OPERATING UNDER THE INFLUENCE ALCOHOL\",\"OPERATING UNDER THE INFLUENCE DRUGS\",\"OPERATING UNDER THE INFLUENCE DRUGS\",\"OPERATING UNDER THE INFLUENCE DRUGS\",\"OPERATING UNDER THE INFLUENCE DRUGS\",\"OPERATING UNDER THE INFLUENCE DRUGS\",\"OPERATING UNDER THE INFLUENCE DRUGS\",\"OPERATING UNDER THE INFLUENCE DRUGS\",\"OTHER OFFENSE\",\"OTHER OFFENSE\",\"OTHER OFFENSE\",\"OTHER OFFENSE\",\"OTHER OFFENSE\",\"OTHER OFFENSE\",\"OTHER OFFENSE\",\"OTHER OFFENSE\",\"OTHER OFFENSE\",\"POSSESSION OF BURGLARIOUS TOOLS\",\"POSSESSION OF BURGLARIOUS TOOLS\",\"POSSESSION OF BURGLARIOUS TOOLS\",\"POSSESSION OF BURGLARIOUS TOOLS\",\"POSSESSION OF BURGLARIOUS TOOLS\",\"POSSESSION OF BURGLARIOUS TOOLS\",\"POSSESSION OF BURGLARIOUS TOOLS\",\"POSSESSION OF BURGLARIOUS TOOLS\",\"PRISONER - SUICIDE \\u002f SUICIDE ATTEMPT\",\"PRISONER - SUICIDE \\u002f SUICIDE ATTEMPT\",\"PRISONER - SUICIDE \\u002f SUICIDE ATTEMPT\",\"PRISONER - SUICIDE \\u002f SUICIDE ATTEMPT\",\"PRISONER ATTEMPT TO RESCUE\",\"PRISONER ESCAPE \\u002f ESCAPE & RECAPTURE\",\"PRISONER ESCAPE \\u002f ESCAPE & RECAPTURE\",\"PROPERTY - ACCIDENTAL DAMAGE\",\"PROPERTY - ACCIDENTAL DAMAGE\",\"PROPERTY - ACCIDENTAL DAMAGE\",\"PROPERTY - ACCIDENTAL DAMAGE\",\"PROPERTY - ACCIDENTAL DAMAGE\",\"PROPERTY - ACCIDENTAL DAMAGE\",\"PROPERTY - ACCIDENTAL DAMAGE\",\"PROPERTY - ACCIDENTAL DAMAGE\",\"PROPERTY - ACCIDENTAL DAMAGE\",\"PROPERTY - CONCEALING LEASED\",\"PROPERTY - CONCEALING LEASED\",\"PROPERTY - FOUND\",\"PROPERTY - FOUND\",\"PROPERTY - FOUND\",\"PROPERTY - FOUND\",\"PROPERTY - FOUND\",\"PROPERTY - FOUND\",\"PROPERTY - FOUND\",\"PROPERTY - FOUND\",\"PROPERTY - FOUND\",\"PROPERTY - LOST\",\"PROPERTY - LOST\",\"PROPERTY - LOST\",\"PROPERTY - LOST\",\"PROPERTY - LOST\",\"PROPERTY - LOST\",\"PROPERTY - LOST\",\"PROPERTY - LOST\",\"PROPERTY - LOST\",\"PROPERTY - LOST THEN LOCATED\",\"PROPERTY - LOST THEN LOCATED\",\"PROPERTY - LOST THEN LOCATED\",\"PROPERTY - LOST THEN LOCATED\",\"PROPERTY - LOST THEN LOCATED\",\"PROPERTY - LOST THEN LOCATED\",\"PROPERTY - LOST THEN LOCATED\",\"PROPERTY - LOST THEN LOCATED\",\"PROPERTY - MISSING\",\"PROPERTY - MISSING\",\"PROPERTY - MISSING\",\"PROPERTY - MISSING\",\"PROPERTY - MISSING\",\"PROPERTY - MISSING\",\"PROPERTY - MISSING\",\"PROPERTY - MISSING\",\"PROPERTY - RECEIVING STOLEN\",\"PROPERTY - RECEIVING STOLEN\",\"PROPERTY - STOLEN THEN RECOVERED\",\"PROPERTY - STOLEN THEN RECOVERED\",\"PROPERTY - STOLEN THEN RECOVERED\",\"PROPERTY - STOLEN THEN RECOVERED\",\"PROPERTY - STOLEN THEN RECOVERED\",\"PROPERTY - STOLEN THEN RECOVERED\",\"PROPERTY - STOLEN THEN RECOVERED\",\"PROPERTY - STOLEN THEN RECOVERED\",\"PROSTITUTION\",\"PROSTITUTION\",\"PROSTITUTION\",\"PROSTITUTION\",\"PROSTITUTION\",\"PROSTITUTION\",\"PROSTITUTION\",\"PROSTITUTION\",\"PROSTITUTION\",\"PROSTITUTION\",\"PROSTITUTION - ASSISTING OR PROMOTING\",\"PROSTITUTION - COMMON NIGHTWALKER\",\"PROSTITUTION - SOLICITING\",\"PROSTITUTION - SOLICITING\",\"PROSTITUTION - SOLICITING\",\"PROSTITUTION - SOLICITING\",\"PROTECTIVE CUSTODY \\u002f SAFEKEEPING\",\"PROTECTIVE CUSTODY \\u002f SAFEKEEPING\",\"PROTECTIVE CUSTODY \\u002f SAFEKEEPING\",\"RECOVERED - MV RECOVERED IN BOSTON (STOLEN OUTSIDE BOSTON)\",\"RECOVERED - MV RECOVERED IN BOSTON (STOLEN OUTSIDE BOSTON)\",\"RECOVERED - MV RECOVERED IN BOSTON (STOLEN OUTSIDE BOSTON)\",\"RECOVERED - MV RECOVERED IN BOSTON (STOLEN OUTSIDE BOSTON)\",\"RECOVERED - MV RECOVERED IN BOSTON (STOLEN OUTSIDE BOSTON)\",\"RECOVERED - MV RECOVERED IN BOSTON (STOLEN OUTSIDE BOSTON)\",\"RECOVERED - MV RECOVERED IN BOSTON (STOLEN OUTSIDE BOSTON)\",\"RECOVERED - MV RECOVERED IN BOSTON (STOLEN OUTSIDE BOSTON)\",\"RECOVERED - MV RECOVERED IN BOSTON (STOLEN OUTSIDE BOSTON)\",\"RECOVERED STOLEN PLATE\",\"RECOVERED STOLEN PLATE\",\"RECOVERED STOLEN PLATE\",\"RECOVERED STOLEN PLATE\",\"RECOVERED STOLEN PLATE\",\"RECOVERED STOLEN PLATE\",\"RECOVERED STOLEN PLATE\",\"REPORT AFFECTING OTHER DEPTS.\",\"REPORT AFFECTING OTHER DEPTS.\",\"REPORT AFFECTING OTHER DEPTS.\",\"REPORT AFFECTING OTHER DEPTS.\",\"REPORT AFFECTING OTHER DEPTS.\",\"REPORT AFFECTING OTHER DEPTS.\",\"REPORT AFFECTING OTHER DEPTS.\",\"REPORT AFFECTING OTHER DEPTS.\",\"ROBBERY - BANK\",\"ROBBERY - BANK\",\"ROBBERY - BANK\",\"ROBBERY - BANK\",\"ROBBERY - BANK\",\"ROBBERY - BANK\",\"ROBBERY - BANK\",\"ROBBERY - CAR JACKING\",\"ROBBERY - CAR JACKING\",\"ROBBERY - CAR JACKING\",\"ROBBERY - CAR JACKING\",\"ROBBERY - CAR JACKING\",\"ROBBERY - CAR JACKING\",\"ROBBERY - CAR JACKING\",\"ROBBERY - CAR JACKING\",\"ROBBERY - CAR JACKING\",\"ROBBERY - COMMERCIAL\",\"ROBBERY - COMMERCIAL\",\"ROBBERY - COMMERCIAL\",\"ROBBERY - COMMERCIAL\",\"ROBBERY - COMMERCIAL\",\"ROBBERY - COMMERCIAL\",\"ROBBERY - COMMERCIAL\",\"ROBBERY - COMMERCIAL\",\"ROBBERY - COMMERCIAL\",\"ROBBERY - HOME INVASION\",\"ROBBERY - HOME INVASION\",\"ROBBERY - HOME INVASION\",\"ROBBERY - HOME INVASION\",\"ROBBERY - HOME INVASION\",\"ROBBERY - HOME INVASION\",\"ROBBERY - HOME INVASION\",\"ROBBERY - KNIFE - STREET\",\"ROBBERY - OTHER\",\"ROBBERY - OTHER\",\"ROBBERY - OTHER\",\"ROBBERY - OTHER\",\"ROBBERY - OTHER\",\"ROBBERY - OTHER\",\"ROBBERY - OTHER\",\"ROBBERY - OTHER\",\"ROBBERY - OTHER\",\"ROBBERY - STREET\",\"ROBBERY - STREET\",\"ROBBERY - STREET\",\"ROBBERY - STREET\",\"ROBBERY - STREET\",\"ROBBERY - STREET\",\"ROBBERY - STREET\",\"ROBBERY - STREET\",\"ROBBERY - STREET\",\"ROBBERY - UNARMED - BUSINESS\",\"ROBBERY - UNARMED - CHAIN STORE\",\"ROBBERY - UNARMED - RESIDENCE\",\"ROBBERY - UNARMED - STREET\",\"ROBBERY ATTEMPT - KNIFE - BANK\",\"SEARCH WARRANT\",\"SEARCH WARRANT\",\"SEARCH WARRANT\",\"SEARCH WARRANT\",\"SEARCH WARRANT\",\"SEARCH WARRANT\",\"SEARCH WARRANT\",\"SEARCH WARRANT\",\"SERVICE TO OTHER PD INSIDE OF MA.\",\"SERVICE TO OTHER PD INSIDE OF MA.\",\"SERVICE TO OTHER PD INSIDE OF MA.\",\"SERVICE TO OTHER PD INSIDE OF MA.\",\"SERVICE TO OTHER PD INSIDE OF MA.\",\"SERVICE TO OTHER PD INSIDE OF MA.\",\"SERVICE TO OTHER PD INSIDE OF MA.\",\"SERVICE TO OTHER PD INSIDE OF MA.\",\"SERVICE TO OTHER PD INSIDE OF MA.\",\"SERVICE TO OTHER PD OUTSIDE OF MA.\",\"SERVICE TO OTHER PD OUTSIDE OF MA.\",\"SERVICE TO OTHER PD OUTSIDE OF MA.\",\"SERVICE TO OTHER PD OUTSIDE OF MA.\",\"SERVICE TO OTHER PD OUTSIDE OF MA.\",\"SERVICE TO OTHER PD OUTSIDE OF MA.\",\"SERVICE TO OTHER PD OUTSIDE OF MA.\",\"SERVICE TO OTHER PD OUTSIDE OF MA.\",\"SICK\\u002fINJURED\\u002fMEDICAL - PERSON\",\"SICK\\u002fINJURED\\u002fMEDICAL - PERSON\",\"SICK\\u002fINJURED\\u002fMEDICAL - PERSON\",\"SICK\\u002fINJURED\\u002fMEDICAL - PERSON\",\"SICK\\u002fINJURED\\u002fMEDICAL - PERSON\",\"SICK\\u002fINJURED\\u002fMEDICAL - PERSON\",\"SICK\\u002fINJURED\\u002fMEDICAL - PERSON\",\"SICK\\u002fINJURED\\u002fMEDICAL - PERSON\",\"SICK\\u002fINJURED\\u002fMEDICAL - PERSON\",\"SICK\\u002fINJURED\\u002fMEDICAL - POLICE\",\"SICK\\u002fINJURED\\u002fMEDICAL - POLICE\",\"SICK\\u002fINJURED\\u002fMEDICAL - POLICE\",\"SICK\\u002fINJURED\\u002fMEDICAL - POLICE\",\"SICK\\u002fINJURED\\u002fMEDICAL - POLICE\",\"SICK\\u002fINJURED\\u002fMEDICAL - POLICE\",\"SICK\\u002fINJURED\\u002fMEDICAL - POLICE\",\"SICK\\u002fINJURED\\u002fMEDICAL - POLICE\",\"SICK\\u002fINJURED\\u002fMEDICAL - POLICE\",\"STALKING\",\"STALKING\",\"STALKING\",\"STALKING\",\"STALKING\",\"STALKING\",\"STOLEN PROPERTY - BUYING \\u002f RECEIVING \\u002f POSSESSING\",\"STOLEN PROPERTY - BUYING \\u002f RECEIVING \\u002f POSSESSING\",\"STOLEN PROPERTY - BUYING \\u002f RECEIVING \\u002f POSSESSING\",\"STOLEN PROPERTY - BUYING \\u002f RECEIVING \\u002f POSSESSING\",\"STOLEN PROPERTY - BUYING \\u002f RECEIVING \\u002f POSSESSING\",\"STOLEN PROPERTY - BUYING \\u002f RECEIVING \\u002f POSSESSING\",\"STOLEN PROPERTY - BUYING \\u002f RECEIVING \\u002f POSSESSING\",\"STOLEN PROPERTY - BUYING \\u002f RECEIVING \\u002f POSSESSING\",\"SUDDEN DEATH\",\"SUDDEN DEATH\",\"SUDDEN DEATH\",\"SUDDEN DEATH\",\"SUDDEN DEATH\",\"SUDDEN DEATH\",\"SUDDEN DEATH\",\"SUDDEN DEATH\",\"SUDDEN DEATH\",\"SUICIDE \\u002f SUICIDE ATTEMPT\",\"SUICIDE \\u002f SUICIDE ATTEMPT\",\"SUICIDE \\u002f SUICIDE ATTEMPT\",\"SUICIDE \\u002f SUICIDE ATTEMPT\",\"SUICIDE \\u002f SUICIDE ATTEMPT\",\"SUICIDE \\u002f SUICIDE ATTEMPT\",\"SUICIDE \\u002f SUICIDE ATTEMPT\",\"SUICIDE \\u002f SUICIDE ATTEMPT\",\"THREATS TO DO BODILY HARM\",\"THREATS TO DO BODILY HARM\",\"THREATS TO DO BODILY HARM\",\"THREATS TO DO BODILY HARM\",\"THREATS TO DO BODILY HARM\",\"THREATS TO DO BODILY HARM\",\"THREATS TO DO BODILY HARM\",\"THREATS TO DO BODILY HARM\",\"THREATS TO DO BODILY HARM\",\"TOWED MOTOR VEHICLE\",\"TOWED MOTOR VEHICLE\",\"TOWED MOTOR VEHICLE\",\"TOWED MOTOR VEHICLE\",\"TOWED MOTOR VEHICLE\",\"TOWED MOTOR VEHICLE\",\"TOWED MOTOR VEHICLE\",\"TOWED MOTOR VEHICLE\",\"TOWED MOTOR VEHICLE\",\"TRESPASSING\",\"TRESPASSING\",\"TRESPASSING\",\"TRESPASSING\",\"TRESPASSING\",\"TRESPASSING\",\"TRESPASSING\",\"TRESPASSING\",\"TRESPASSING\",\"TRUANCY \\u002f RUNAWAY\",\"TRUANCY \\u002f RUNAWAY\",\"TRUANCY \\u002f RUNAWAY\",\"VAL - OPERATING AFTER REV\\u002fSUSP.\",\"VAL - OPERATING AFTER REV\\u002fSUSP.\",\"VAL - OPERATING AFTER REV\\u002fSUSP.\",\"VAL - OPERATING AFTER REV\\u002fSUSP.\",\"VAL - OPERATING AFTER REV\\u002fSUSP.\",\"VAL - OPERATING AFTER REV\\u002fSUSP.\",\"VAL - OPERATING AFTER REV\\u002fSUSP.\",\"VAL - OPERATING AFTER REV\\u002fSUSP.\",\"VAL - OPERATING AFTER REV\\u002fSUSP.\",\"VAL - OPERATING AFTER REV\\u002fSUSP.\",\"VAL - OPERATING UNREG\\u002fUNINS \\u00a0CAR\",\"VAL - OPERATING UNREG\\u002fUNINS \\u00a0CAR\",\"VAL - OPERATING UNREG\\u002fUNINS \\u00a0CAR\",\"VAL - OPERATING UNREG\\u002fUNINS \\u00a0CAR\",\"VAL - OPERATING UNREG\\u002fUNINS \\u00a0CAR\",\"VAL - OPERATING UNREG\\u002fUNINS \\u00a0CAR\",\"VAL - OPERATING UNREG\\u002fUNINS \\u00a0CAR\",\"VAL - OPERATING UNREG\\u002fUNINS \\u00a0CAR\",\"VAL - OPERATING W\\u002fO AUTHORIZATION LAWFUL\",\"VAL - OPERATING W\\u002fO AUTHORIZATION LAWFUL\",\"VAL - OPERATING W\\u002fO AUTHORIZATION LAWFUL\",\"VAL - OPERATING W\\u002fO AUTHORIZATION LAWFUL\",\"VAL - OPERATING W\\u002fO AUTHORIZATION LAWFUL\",\"VAL - OPERATING W\\u002fO AUTHORIZATION LAWFUL\",\"VAL - OPERATING W\\u002fO AUTHORIZATION LAWFUL\",\"VAL - OPERATING W\\u002fO AUTHORIZATION LAWFUL\",\"VAL - OPERATING WITHOUT LICENSE\",\"VAL - OPERATING WITHOUT LICENSE\",\"VAL - OPERATING WITHOUT LICENSE\",\"VAL - OPERATING WITHOUT LICENSE\",\"VAL - OPERATING WITHOUT LICENSE\",\"VAL - OPERATING WITHOUT LICENSE\",\"VAL - OPERATING WITHOUT LICENSE\",\"VAL - OPERATING WITHOUT LICENSE\",\"VAL - OPERATING WITHOUT LICENSE\",\"VAL - VIOLATION OF AUTO LAW - OTHER\",\"VAL - VIOLATION OF AUTO LAW - OTHER\",\"VAL - VIOLATION OF AUTO LAW - OTHER\",\"VAL - VIOLATION OF AUTO LAW - OTHER\",\"VAL - VIOLATION OF AUTO LAW - OTHER\",\"VAL - VIOLATION OF AUTO LAW - OTHER\",\"VAL - VIOLATION OF AUTO LAW - OTHER\",\"VAL - VIOLATION OF AUTO LAW - OTHER\",\"VAL - VIOLATION OF AUTO LAW - OTHER\",\"VANDALISM\",\"VANDALISM\",\"VANDALISM\",\"VANDALISM\",\"VANDALISM\",\"VANDALISM\",\"VANDALISM\",\"VANDALISM\",\"VANDALISM\",\"VERBAL DISPUTE\",\"VERBAL DISPUTE\",\"VERBAL DISPUTE\",\"VERBAL DISPUTE\",\"VERBAL DISPUTE\",\"VERBAL DISPUTE\",\"VERBAL DISPUTE\",\"VERBAL DISPUTE\",\"VERBAL DISPUTE\",\"VIOL. OF RESTRAINING ORDER W ARREST\",\"VIOL. OF RESTRAINING ORDER W ARREST\",\"VIOL. OF RESTRAINING ORDER W ARREST\",\"VIOL. OF RESTRAINING ORDER W ARREST\",\"VIOL. OF RESTRAINING ORDER W ARREST\",\"VIOL. OF RESTRAINING ORDER W ARREST\",\"VIOL. OF RESTRAINING ORDER W ARREST\",\"VIOL. OF RESTRAINING ORDER W ARREST\",\"VIOL. OF RESTRAINING ORDER W ARREST\",\"VIOL. OF RESTRAINING ORDER W NO ARREST\",\"VIOL. OF RESTRAINING ORDER W NO ARREST\",\"VIOL. OF RESTRAINING ORDER W NO ARREST\",\"VIOL. OF RESTRAINING ORDER W NO ARREST\",\"VIOL. OF RESTRAINING ORDER W NO ARREST\",\"VIOL. OF RESTRAINING ORDER W NO ARREST\",\"VIOL. OF RESTRAINING ORDER W NO ARREST\",\"VIOL. OF RESTRAINING ORDER W NO ARREST\",\"VIOL. OF RESTRAINING ORDER W NO ARREST\",\"VIOLATION - CITY ORDINANCE\",\"VIOLATION - CITY ORDINANCE\",\"VIOLATION - CITY ORDINANCE\",\"VIOLATION - CITY ORDINANCE\",\"VIOLATION - CITY ORDINANCE\",\"VIOLATION - CITY ORDINANCE\",\"VIOLATION - CITY ORDINANCE\",\"VIOLATION - CITY ORDINANCE\",\"VIOLATION - CITY ORDINANCE CONSTRUCTION PERMIT\",\"VIOLATION - CITY ORDINANCE CONSTRUCTION PERMIT\",\"VIOLATION - CITY ORDINANCE CONSTRUCTION PERMIT\",\"VIOLATION - CITY ORDINANCE CONSTRUCTION PERMIT\",\"VIOLATION - HAWKER AND PEDDLER\",\"VIOLATION - HAWKER AND PEDDLER\",\"VIOLATION - HAWKER AND PEDDLER\",\"WARRANT ARREST\",\"WARRANT ARREST\",\"WARRANT ARREST\",\"WARRANT ARREST\",\"WARRANT ARREST\",\"WARRANT ARREST\",\"WARRANT ARREST\",\"WARRANT ARREST\",\"WARRANT ARREST\",\"WEAPON - FIREARM - CARRYING \\u002f POSSESSING, ETC\",\"WEAPON - FIREARM - CARRYING \\u002f POSSESSING, ETC\",\"WEAPON - FIREARM - CARRYING \\u002f POSSESSING, ETC\",\"WEAPON - FIREARM - CARRYING \\u002f POSSESSING, ETC\",\"WEAPON - FIREARM - CARRYING \\u002f POSSESSING, ETC\",\"WEAPON - FIREARM - CARRYING \\u002f POSSESSING, ETC\",\"WEAPON - FIREARM - CARRYING \\u002f POSSESSING, ETC\",\"WEAPON - FIREARM - CARRYING \\u002f POSSESSING, ETC\",\"WEAPON - FIREARM - CARRYING \\u002f POSSESSING, ETC\",\"WEAPON - FIREARM - OTHER VIOLATION\",\"WEAPON - FIREARM - OTHER VIOLATION\",\"WEAPON - FIREARM - OTHER VIOLATION\",\"WEAPON - FIREARM - OTHER VIOLATION\",\"WEAPON - FIREARM - OTHER VIOLATION\",\"WEAPON - FIREARM - OTHER VIOLATION\",\"WEAPON - FIREARM - OTHER VIOLATION\",\"WEAPON - FIREARM - OTHER VIOLATION\",\"WEAPON - FIREARM - SALE \\u002f TRAFFICKING\",\"WEAPON - OTHER - CARRYING \\u002f POSSESSING, ETC\",\"WEAPON - OTHER - CARRYING \\u002f POSSESSING, ETC\",\"WEAPON - OTHER - CARRYING \\u002f POSSESSING, ETC\",\"WEAPON - OTHER - CARRYING \\u002f POSSESSING, ETC\",\"WEAPON - OTHER - CARRYING \\u002f POSSESSING, ETC\",\"WEAPON - OTHER - CARRYING \\u002f POSSESSING, ETC\",\"WEAPON - OTHER - CARRYING \\u002f POSSESSING, ETC\",\"WEAPON - OTHER - CARRYING \\u002f POSSESSING, ETC\",\"WEAPON - OTHER - CARRYING \\u002f POSSESSING, ETC\",\"WEAPON - OTHER - OTHER VIOLATION\",\"WEAPON - OTHER - OTHER VIOLATION\",\"WEAPON - OTHER - OTHER VIOLATION\",\"WEAPON - OTHER - OTHER VIOLATION\",\"WEAPON - OTHER - OTHER VIOLATION\",\"WEAPON - OTHER - OTHER VIOLATION\",\"WEAPON - OTHER - OTHER VIOLATION\",\"WEAPON - OTHER - OTHER VIOLATION\",\"WEAPON - OTHER - OTHER VIOLATION\",\"1\",\"1\",\"1\",\"2\",\"2\",\"2\",\"3\",\"3\",\"3\",\"4\",\"4\",\"4\",\"5\",\"5\",\"6\",\"6\",\"6\",\"7\",\"7\",\"7\",\"7\",\"8\",\"8\",\"8\",\"8\",\"9\",\"9\",\"10\",\"10\",\"11\",\"11\",\"12\",\"12\",\"12\",\"2015\",\"2016\",\"2017\",\"2018\",\"all\"],\"name\":\"\",\"parents\":[\"all\\u002f2016\\u002f10\",\"all\\u002f2017\\u002f3\",\"all\\u002f2018\\u002f1\",\"all\\u002f2018\\u002f2\",\"all\\u002f2018\\u002f4\",\"all\\u002f2018\\u002f7\",\"all\\u002f2018\\u002f1\",\"all\\u002f2018\\u002f2\",\"all\\u002f2018\\u002f3\",\"all\\u002f2018\\u002f4\",\"all\\u002f2018\\u002f5\",\"all\\u002f2018\\u002f6\",\"all\\u002f2018\\u002f7\",\"all\\u002f2018\\u002f8\",\"all\\u002f2018\\u002f9\",\"all\\u002f2018\\u002f1\",\"all\\u002f2018\\u002f3\",\"all\\u002f2018\\u002f5\",\"all\\u002f2018\\u002f7\",\"all\\u002f2018\\u002f1\",\"all\\u002f2018\\u002f2\",\"all\\u002f2018\\u002f4\",\"all\\u002f2018\\u002f5\",\"all\\u002f2018\\u002f6\",\"all\\u002f2018\\u002f7\",\"all\\u002f2018\\u002f8\",\"all\\u002f2018\\u002f1\",\"all\\u002f2018\\u002f2\",\"all\\u002f2018\\u002f3\",\"all\\u002f2018\\u002f4\",\"all\\u002f2018\\u002f5\",\"all\\u002f2018\\u002f6\",\"all\\u002f2018\\u002f7\",\"all\\u002f2018\\u002f8\",\"all\\u002f2018\\u002f9\",\"all\\u002f2018\\u002f1\",\"all\\u002f2018\\u002f2\",\"all\\u002f2018\\u002f3\",\"all\\u002f2018\\u002f4\",\"all\\u002f2018\\u002f5\",\"all\\u002f2018\\u002f6\",\"all\\u002f2018\\u002f7\",\"all\\u002f2018\\u002f8\",\"all\\u002f2018\\u002f9\",\"all\\u002f2018\\u002f1\",\"all\\u002f2018\\u002f3\",\"all\\u002f2018\\u002f4\",\"all\\u002f2018\\u002f5\",\"all\\u002f2018\\u002f6\",\"all\\u002f2018\\u002f7\",\"all\\u002f2018\\u002f8\",\"all\\u002f2018\\u002f1\",\"all\\u002f2018\\u002f3\",\"all\\u002f2018\\u002f4\",\"all\\u002f2018\\u002f6\",\"all\\u002f2018\\u002f7\",\"all\\u002f2018\\u002f8\",\"all\\u002f2018\\u002f9\",\"all\\u002f2016\\u002f1\",\"all\\u002f2016\\u002f1\",\"all\\u002f2016\\u002f6\",\"all\\u002f2016\\u002f10\",\"all\\u002f2018\\u002f1\",\"all\\u002f2018\\u002f2\",\"all\\u002f2018\\u002f3\",\"all\\u002f2018\\u002f4\",\"all\\u002f2018\\u002f5\",\"all\\u002f2018\\u002f6\",\"all\\u002f2018\\u002f7\",\"all\\u002f2018\\u002f8\",\"all\\u002f2018\\u002f9\",\"all\\u002f2018\\u002f1\",\"all\\u002f2018\\u002f2\",\"all\\u002f2018\\u002f3\",\"all\\u002f2018\\u002f4\",\"all\\u002f2018\\u002f5\",\"all\\u002f2018\\u002f6\",\"all\\u002f2018\\u002f7\",\"all\\u002f2018\\u002f8\",\"all\\u002f2018\\u002f9\",\"all\\u002f2018\\u002f1\",\"all\\u002f2018\\u002f2\",\"all\\u002f2018\\u002f3\",\"all\\u002f2018\\u002f4\",\"all\\u002f2018\\u002f5\",\"all\\u002f2018\\u002f6\",\"all\\u002f2018\\u002f7\",\"all\\u002f2018\\u002f8\",\"all\\u002f2018\\u002f9\",\"all\\u002f2015\\u002f8\",\"all\\u002f2018\\u002f1\",\"all\\u002f2018\\u002f2\",\"all\\u002f2018\\u002f3\",\"all\\u002f2018\\u002f4\",\"all\\u002f2018\\u002f5\",\"all\\u002f2018\\u002f6\",\"all\\u002f2018\\u002f7\",\"all\\u002f2018\\u002f8\",\"all\\u002f2018\\u002f9\",\"all\\u002f2018\\u002f1\",\"all\\u002f2018\\u002f2\",\"all\\u002f2018\\u002f3\",\"all\\u002f2018\\u002f4\",\"all\\u002f2018\\u002f5\",\"all\\u002f2018\\u002f6\",\"all\\u002f2018\\u002f7\",\"all\\u002f2018\\u002f8\",\"all\\u002f2018\\u002f9\",\"all\\u002f2018\\u002f1\",\"all\\u002f2018\\u002f2\",\"all\\u002f2018\\u002f3\",\"all\\u002f2018\\u002f4\",\"all\\u002f2018\\u002f5\",\"all\\u002f2018\\u002f6\",\"all\\u002f2018\\u002f7\",\"all\\u002f2018\\u002f8\",\"all\\u002f2018\\u002f1\",\"all\\u002f2018\\u002f2\",\"all\\u002f2018\\u002f3\",\"all\\u002f2018\\u002f4\",\"all\\u002f2018\\u002f5\",\"all\\u002f2018\\u002f6\",\"all\\u002f2018\\u002f7\",\"all\\u002f2018\\u002f8\",\"all\\u002f2018\\u002f9\",\"all\\u002f2016\\u002f3\",\"all\\u002f2016\\u002f11\",\"all\\u002f2016\\u002f11\",\"all\\u002f2015\\u002f12\",\"all\\u002f2015\\u002f7\",\"all\\u002f2016\\u002f1\",\"all\\u002f2015\\u002f8\",\"all\\u002f2018\\u002f1\",\"all\\u002f2018\\u002f2\",\"all\\u002f2018\\u002f3\",\"all\\u002f2018\\u002f4\",\"all\\u002f2018\\u002f5\",\"all\\u002f2018\\u002f6\",\"all\\u002f2018\\u002f7\",\"all\\u002f2018\\u002f8\",\"all\\u002f2018\\u002f9\",\"all\\u002f2017\\u002f9\",\"all\\u002f2017\\u002f12\",\"all\\u002f2018\\u002f1\",\"all\\u002f2018\\u002f2\",\"all\\u002f2018\\u002f3\",\"all\\u002f2018\\u002f4\",\"all\\u002f2018\\u002f5\",\"all\\u002f2018\\u002f6\",\"all\\u002f2018\\u002f7\",\"all\\u002f2018\\u002f8\",\"all\\u002f2018\\u002f9\",\"all\\u002f2018\\u002f1\",\"all\\u002f2018\\u002f2\",\"all\\u002f2018\\u002f3\",\"all\\u002f2018\\u002f4\",\"all\\u002f2018\\u002f6\",\"all\\u002f2018\\u002f8\",\"all\\u002f2018\\u002f1\",\"all\\u002f2018\\u002f2\",\"all\\u002f2018\\u002f3\",\"all\\u002f2018\\u002f4\",\"all\\u002f2018\\u002f5\",\"all\\u002f2018\\u002f6\",\"all\\u002f2018\\u002f7\",\"all\\u002f2018\\u002f8\",\"all\\u002f2018\\u002f1\",\"all\\u002f2018\\u002f2\",\"all\\u002f2018\\u002f3\",\"all\\u002f2018\\u002f4\",\"all\\u002f2018\\u002f5\",\"all\\u002f2018\\u002f6\",\"all\\u002f2018\\u002f7\",\"all\\u002f2018\\u002f8\",\"all\\u002f2018\\u002f2\",\"all\\u002f2018\\u002f4\",\"all\\u002f2018\\u002f5\",\"all\\u002f2018\\u002f6\",\"all\\u002f2018\\u002f7\",\"all\\u002f2018\\u002f8\",\"all\\u002f2018\\u002f9\",\"all\\u002f2018\\u002f1\",\"all\\u002f2018\\u002f2\",\"all\\u002f2018\\u002f3\",\"all\\u002f2018\\u002f4\",\"all\\u002f2018\\u002f5\",\"all\\u002f2018\\u002f6\",\"all\\u002f2018\\u002f7\",\"all\\u002f2018\\u002f8\",\"all\\u002f2018\\u002f1\",\"all\\u002f2018\\u002f2\",\"all\\u002f2018\\u002f3\",\"all\\u002f2018\\u002f4\",\"all\\u002f2018\\u002f5\",\"all\\u002f2018\\u002f6\",\"all\\u002f2018\\u002f7\",\"all\\u002f2018\\u002f1\",\"all\\u002f2018\\u002f2\",\"all\\u002f2018\\u002f3\",\"all\\u002f2018\\u002f4\",\"all\\u002f2018\\u002f5\",\"all\\u002f2018\\u002f6\",\"all\\u002f2018\\u002f7\",\"all\\u002f2018\\u002f8\",\"all\\u002f2018\\u002f1\",\"all\\u002f2018\\u002f2\",\"all\\u002f2018\\u002f3\",\"all\\u002f2018\\u002f4\",\"all\\u002f2018\\u002f5\",\"all\\u002f2018\\u002f6\",\"all\\u002f2018\\u002f7\",\"all\\u002f2018\\u002f8\",\"all\\u002f2018\\u002f9\",\"all\\u002f2018\\u002f1\",\"all\\u002f2018\\u002f2\",\"all\\u002f2018\\u002f3\",\"all\\u002f2018\\u002f4\",\"all\\u002f2018\\u002f5\",\"all\\u002f2018\\u002f6\",\"all\\u002f2018\\u002f7\",\"all\\u002f2018\\u002f8\",\"all\\u002f2018\\u002f9\",\"all\\u002f2018\\u002f2\",\"all\\u002f2018\\u002f3\",\"all\\u002f2018\\u002f4\",\"all\\u002f2018\\u002f5\",\"all\\u002f2018\\u002f1\",\"all\\u002f2018\\u002f2\",\"all\\u002f2018\\u002f3\",\"all\\u002f2018\\u002f4\",\"all\\u002f2018\\u002f5\",\"all\\u002f2018\\u002f6\",\"all\\u002f2018\\u002f7\",\"all\\u002f2018\\u002f8\",\"all\\u002f2018\\u002f1\",\"all\\u002f2018\\u002f2\",\"all\\u002f2018\\u002f3\",\"all\\u002f2018\\u002f4\",\"all\\u002f2018\\u002f5\",\"all\\u002f2018\\u002f6\",\"all\\u002f2018\\u002f7\",\"all\\u002f2018\\u002f8\",\"all\\u002f2018\\u002f2\",\"all\\u002f2018\\u002f7\",\"all\\u002f2018\\u002f8\",\"all\\u002f2018\\u002f1\",\"all\\u002f2018\\u002f2\",\"all\\u002f2018\\u002f6\",\"all\\u002f2018\\u002f8\",\"all\\u002f2018\\u002f6\",\"all\\u002f2018\\u002f1\",\"all\\u002f2018\\u002f2\",\"all\\u002f2018\\u002f3\",\"all\\u002f2018\\u002f4\",\"all\\u002f2018\\u002f5\",\"all\\u002f2018\\u002f6\",\"all\\u002f2018\\u002f7\",\"all\\u002f2018\\u002f8\",\"all\\u002f2017\\u002f2\",\"all\\u002f2017\\u002f6\",\"all\\u002f2017\\u002f7\",\"all\\u002f2017\\u002f11\",\"all\\u002f2018\\u002f1\",\"all\\u002f2018\\u002f3\",\"all\\u002f2018\\u002f4\",\"all\\u002f2018\\u002f5\",\"all\\u002f2018\\u002f6\",\"all\\u002f2018\\u002f7\",\"all\\u002f2018\\u002f8\",\"all\\u002f2018\\u002f9\",\"all\\u002f2018\\u002f1\",\"all\\u002f2018\\u002f2\",\"all\\u002f2018\\u002f3\",\"all\\u002f2018\\u002f4\",\"all\\u002f2018\\u002f5\",\"all\\u002f2018\\u002f6\",\"all\\u002f2018\\u002f7\",\"all\\u002f2018\\u002f8\",\"all\\u002f2018\\u002f9\",\"all\\u002f2018\\u002f1\",\"all\\u002f2018\\u002f2\",\"all\\u002f2018\\u002f3\",\"all\\u002f2018\\u002f4\",\"all\\u002f2018\\u002f5\",\"all\\u002f2018\\u002f6\",\"all\\u002f2018\\u002f7\",\"all\\u002f2018\\u002f8\",\"all\\u002f2018\\u002f9\",\"all\\u002f2018\\u002f1\",\"all\\u002f2018\\u002f2\",\"all\\u002f2018\\u002f3\",\"all\\u002f2018\\u002f4\",\"all\\u002f2018\\u002f5\",\"all\\u002f2018\\u002f6\",\"all\\u002f2018\\u002f7\",\"all\\u002f2018\\u002f8\",\"all\\u002f2018\\u002f9\",\"all\\u002f2018\\u002f1\",\"all\\u002f2018\\u002f2\",\"all\\u002f2018\\u002f3\",\"all\\u002f2018\\u002f4\",\"all\\u002f2018\\u002f5\",\"all\\u002f2018\\u002f6\",\"all\\u002f2018\\u002f7\",\"all\\u002f2018\\u002f8\",\"all\\u002f2018\\u002f9\",\"all\\u002f2018\\u002f1\",\"all\\u002f2018\\u002f2\",\"all\\u002f2018\\u002f3\",\"all\\u002f2018\\u002f4\",\"all\\u002f2018\\u002f5\",\"all\\u002f2018\\u002f6\",\"all\\u002f2018\\u002f7\",\"all\\u002f2018\\u002f8\",\"all\\u002f2018\\u002f1\",\"all\\u002f2018\\u002f2\",\"all\\u002f2018\\u002f3\",\"all\\u002f2018\\u002f4\",\"all\\u002f2018\\u002f5\",\"all\\u002f2018\\u002f6\",\"all\\u002f2018\\u002f7\",\"all\\u002f2018\\u002f8\",\"all\\u002f2018\\u002f9\",\"all\\u002f2018\\u002f4\",\"all\\u002f2018\\u002f5\",\"all\\u002f2018\\u002f7\",\"all\\u002f2018\\u002f2\",\"all\\u002f2018\\u002f4\",\"all\\u002f2018\\u002f5\",\"all\\u002f2018\\u002f6\",\"all\\u002f2018\\u002f7\",\"all\\u002f2016\\u002f12\",\"all\\u002f2018\\u002f1\",\"all\\u002f2018\\u002f2\",\"all\\u002f2018\\u002f3\",\"all\\u002f2018\\u002f4\",\"all\\u002f2018\\u002f5\",\"all\\u002f2018\\u002f6\",\"all\\u002f2018\\u002f7\",\"all\\u002f2018\\u002f8\",\"all\\u002f2018\\u002f9\",\"all\\u002f2018\\u002f1\",\"all\\u002f2018\\u002f2\",\"all\\u002f2018\\u002f3\",\"all\\u002f2018\\u002f4\",\"all\\u002f2018\\u002f5\",\"all\\u002f2018\\u002f6\",\"all\\u002f2018\\u002f7\",\"all\\u002f2018\\u002f8\",\"all\\u002f2018\\u002f9\",\"all\\u002f2018\\u002f1\",\"all\\u002f2018\\u002f2\",\"all\\u002f2018\\u002f3\",\"all\\u002f2018\\u002f4\",\"all\\u002f2018\\u002f5\",\"all\\u002f2018\\u002f6\",\"all\\u002f2018\\u002f7\",\"all\\u002f2018\\u002f8\",\"all\\u002f2018\\u002f9\",\"all\\u002f2018\\u002f1\",\"all\\u002f2018\\u002f2\",\"all\\u002f2018\\u002f3\",\"all\\u002f2018\\u002f4\",\"all\\u002f2018\\u002f5\",\"all\\u002f2018\\u002f6\",\"all\\u002f2018\\u002f7\",\"all\\u002f2018\\u002f8\",\"all\\u002f2018\\u002f9\",\"all\\u002f2018\\u002f1\",\"all\\u002f2018\\u002f2\",\"all\\u002f2018\\u002f3\",\"all\\u002f2018\\u002f4\",\"all\\u002f2018\\u002f5\",\"all\\u002f2018\\u002f6\",\"all\\u002f2018\\u002f7\",\"all\\u002f2018\\u002f8\",\"all\\u002f2018\\u002f9\",\"all\\u002f2018\\u002f1\",\"all\\u002f2018\\u002f2\",\"all\\u002f2018\\u002f3\",\"all\\u002f2018\\u002f4\",\"all\\u002f2018\\u002f5\",\"all\\u002f2018\\u002f6\",\"all\\u002f2018\\u002f7\",\"all\\u002f2018\\u002f8\",\"all\\u002f2018\\u002f9\",\"all\\u002f2018\\u002f1\",\"all\\u002f2018\\u002f2\",\"all\\u002f2018\\u002f3\",\"all\\u002f2018\\u002f4\",\"all\\u002f2018\\u002f5\",\"all\\u002f2018\\u002f6\",\"all\\u002f2018\\u002f7\",\"all\\u002f2018\\u002f8\",\"all\\u002f2018\\u002f1\",\"all\\u002f2018\\u002f2\",\"all\\u002f2018\\u002f3\",\"all\\u002f2018\\u002f4\",\"all\\u002f2018\\u002f5\",\"all\\u002f2018\\u002f6\",\"all\\u002f2018\\u002f7\",\"all\\u002f2018\\u002f8\",\"all\\u002f2018\\u002f1\",\"all\\u002f2018\\u002f1\",\"all\\u002f2018\\u002f2\",\"all\\u002f2018\\u002f3\",\"all\\u002f2018\\u002f4\",\"all\\u002f2018\\u002f5\",\"all\\u002f2018\\u002f6\",\"all\\u002f2018\\u002f7\",\"all\\u002f2018\\u002f8\",\"all\\u002f2018\\u002f9\",\"all\\u002f2015\\u002f12\",\"all\\u002f2018\\u002f1\",\"all\\u002f2018\\u002f2\",\"all\\u002f2018\\u002f3\",\"all\\u002f2018\\u002f4\",\"all\\u002f2018\\u002f5\",\"all\\u002f2018\\u002f6\",\"all\\u002f2018\\u002f7\",\"all\\u002f2018\\u002f8\",\"all\\u002f2018\\u002f9\",\"all\\u002f2018\\u002f1\",\"all\\u002f2018\\u002f2\",\"all\\u002f2018\\u002f3\",\"all\\u002f2018\\u002f4\",\"all\\u002f2018\\u002f5\",\"all\\u002f2018\\u002f6\",\"all\\u002f2018\\u002f7\",\"all\\u002f2018\\u002f8\",\"all\\u002f2016\\u002f3\",\"all\\u002f2018\\u002f1\",\"all\\u002f2018\\u002f2\",\"all\\u002f2018\\u002f3\",\"all\\u002f2018\\u002f4\",\"all\\u002f2018\\u002f7\",\"all\\u002f2018\\u002f8\",\"all\\u002f2018\\u002f9\",\"all\\u002f2018\\u002f1\",\"all\\u002f2018\\u002f2\",\"all\\u002f2018\\u002f3\",\"all\\u002f2018\\u002f4\",\"all\\u002f2018\\u002f5\",\"all\\u002f2018\\u002f7\",\"all\\u002f2018\\u002f1\",\"all\\u002f2018\\u002f2\",\"all\\u002f2018\\u002f3\",\"all\\u002f2018\\u002f4\",\"all\\u002f2018\\u002f5\",\"all\\u002f2018\\u002f6\",\"all\\u002f2018\\u002f7\",\"all\\u002f2018\\u002f8\",\"all\\u002f2018\\u002f9\",\"all\\u002f2018\\u002f1\",\"all\\u002f2018\\u002f2\",\"all\\u002f2018\\u002f3\",\"all\\u002f2018\\u002f4\",\"all\\u002f2018\\u002f5\",\"all\\u002f2018\\u002f6\",\"all\\u002f2018\\u002f7\",\"all\\u002f2018\\u002f8\",\"all\\u002f2018\\u002f9\",\"all\\u002f2018\\u002f1\",\"all\\u002f2018\\u002f3\",\"all\\u002f2018\\u002f4\",\"all\\u002f2018\\u002f5\",\"all\\u002f2018\\u002f6\",\"all\\u002f2018\\u002f7\",\"all\\u002f2018\\u002f8\",\"all\\u002f2018\\u002f1\",\"all\\u002f2018\\u002f2\",\"all\\u002f2018\\u002f3\",\"all\\u002f2018\\u002f4\",\"all\\u002f2018\\u002f5\",\"all\\u002f2018\\u002f6\",\"all\\u002f2018\\u002f7\",\"all\\u002f2018\\u002f8\",\"all\\u002f2018\\u002f9\",\"all\\u002f2018\\u002f1\",\"all\\u002f2018\\u002f2\",\"all\\u002f2018\\u002f3\",\"all\\u002f2018\\u002f4\",\"all\\u002f2018\\u002f5\",\"all\\u002f2018\\u002f6\",\"all\\u002f2018\\u002f7\",\"all\\u002f2018\\u002f8\",\"all\\u002f2018\\u002f1\",\"all\\u002f2018\\u002f2\",\"all\\u002f2018\\u002f3\",\"all\\u002f2018\\u002f4\",\"all\\u002f2018\\u002f5\",\"all\\u002f2018\\u002f6\",\"all\\u002f2018\\u002f7\",\"all\\u002f2018\\u002f8\",\"all\\u002f2018\\u002f5\",\"all\\u002f2018\\u002f7\",\"all\\u002f2018\\u002f8\",\"all\\u002f2018\\u002f7\",\"all\\u002f2018\\u002f8\",\"all\\u002f2018\\u002f1\",\"all\\u002f2018\\u002f2\",\"all\\u002f2018\\u002f3\",\"all\\u002f2018\\u002f4\",\"all\\u002f2018\\u002f5\",\"all\\u002f2018\\u002f6\",\"all\\u002f2018\\u002f7\",\"all\\u002f2018\\u002f8\",\"all\\u002f2018\\u002f1\",\"all\\u002f2018\\u002f2\",\"all\\u002f2018\\u002f3\",\"all\\u002f2018\\u002f4\",\"all\\u002f2018\\u002f5\",\"all\\u002f2018\\u002f6\",\"all\\u002f2018\\u002f7\",\"all\\u002f2018\\u002f8\",\"all\\u002f2018\\u002f9\",\"all\\u002f2018\\u002f1\",\"all\\u002f2018\\u002f2\",\"all\\u002f2018\\u002f3\",\"all\\u002f2018\\u002f4\",\"all\\u002f2018\\u002f5\",\"all\\u002f2018\\u002f6\",\"all\\u002f2018\\u002f7\",\"all\\u002f2018\\u002f8\",\"all\\u002f2018\\u002f9\",\"all\\u002f2018\\u002f1\",\"all\\u002f2018\\u002f2\",\"all\\u002f2018\\u002f3\",\"all\\u002f2018\\u002f4\",\"all\\u002f2018\\u002f5\",\"all\\u002f2018\\u002f6\",\"all\\u002f2018\\u002f7\",\"all\\u002f2018\\u002f8\",\"all\\u002f2018\\u002f9\",\"all\\u002f2018\\u002f2\",\"all\\u002f2018\\u002f8\",\"all\\u002f2018\\u002f1\",\"all\\u002f2018\\u002f2\",\"all\\u002f2018\\u002f3\",\"all\\u002f2018\\u002f4\",\"all\\u002f2018\\u002f5\",\"all\\u002f2018\\u002f6\",\"all\\u002f2018\\u002f7\",\"all\\u002f2018\\u002f8\",\"all\\u002f2018\\u002f9\",\"all\\u002f2018\\u002f6\",\"all\\u002f2018\\u002f1\",\"all\\u002f2018\\u002f2\",\"all\\u002f2018\\u002f3\",\"all\\u002f2018\\u002f4\",\"all\\u002f2018\\u002f5\",\"all\\u002f2018\\u002f6\",\"all\\u002f2018\\u002f7\",\"all\\u002f2018\\u002f8\",\"all\\u002f2018\\u002f9\",\"all\\u002f2016\\u002f4\",\"all\\u002f2018\\u002f1\",\"all\\u002f2018\\u002f2\",\"all\\u002f2018\\u002f3\",\"all\\u002f2018\\u002f4\",\"all\\u002f2018\\u002f5\",\"all\\u002f2018\\u002f6\",\"all\\u002f2018\\u002f7\",\"all\\u002f2018\\u002f8\",\"all\\u002f2018\\u002f9\",\"all\\u002f2018\\u002f1\",\"all\\u002f2018\\u002f2\",\"all\\u002f2018\\u002f3\",\"all\\u002f2018\\u002f4\",\"all\\u002f2018\\u002f5\",\"all\\u002f2018\\u002f6\",\"all\\u002f2018\\u002f7\",\"all\\u002f2018\\u002f8\",\"all\\u002f2018\\u002f9\",\"all\\u002f2018\\u002f1\",\"all\\u002f2018\\u002f2\",\"all\\u002f2018\\u002f3\",\"all\\u002f2018\\u002f4\",\"all\\u002f2018\\u002f5\",\"all\\u002f2018\\u002f6\",\"all\\u002f2018\\u002f7\",\"all\\u002f2018\\u002f8\",\"all\\u002f2018\\u002f3\",\"all\\u002f2018\\u002f4\",\"all\\u002f2018\\u002f7\",\"all\\u002f2018\\u002f1\",\"all\\u002f2018\\u002f2\",\"all\\u002f2018\\u002f3\",\"all\\u002f2018\\u002f4\",\"all\\u002f2018\\u002f5\",\"all\\u002f2018\\u002f6\",\"all\\u002f2018\\u002f7\",\"all\\u002f2018\\u002f8\",\"all\\u002f2018\\u002f9\",\"all\\u002f2015\\u002f10\",\"all\\u002f2018\\u002f1\",\"all\\u002f2018\\u002f2\",\"all\\u002f2018\\u002f3\",\"all\\u002f2018\\u002f4\",\"all\\u002f2018\\u002f5\",\"all\\u002f2018\\u002f6\",\"all\\u002f2018\\u002f7\",\"all\\u002f2018\\u002f8\",\"all\\u002f2017\\u002f6\",\"all\\u002f2017\\u002f8\",\"all\\u002f2017\\u002f9\",\"all\\u002f2017\\u002f11\",\"all\\u002f2018\\u002f1\",\"all\\u002f2018\\u002f2\",\"all\\u002f2018\\u002f4\",\"all\\u002f2018\\u002f6\",\"all\\u002f2018\\u002f1\",\"all\\u002f2018\\u002f2\",\"all\\u002f2018\\u002f3\",\"all\\u002f2018\\u002f4\",\"all\\u002f2018\\u002f5\",\"all\\u002f2018\\u002f6\",\"all\\u002f2018\\u002f7\",\"all\\u002f2018\\u002f8\",\"all\\u002f2018\\u002f1\",\"all\\u002f2018\\u002f2\",\"all\\u002f2018\\u002f3\",\"all\\u002f2018\\u002f4\",\"all\\u002f2018\\u002f5\",\"all\\u002f2018\\u002f6\",\"all\\u002f2018\\u002f7\",\"all\\u002f2018\\u002f8\",\"all\\u002f2018\\u002f9\",\"all\\u002f2018\\u002f1\",\"all\\u002f2018\\u002f2\",\"all\\u002f2018\\u002f3\",\"all\\u002f2018\\u002f4\",\"all\\u002f2018\\u002f5\",\"all\\u002f2018\\u002f6\",\"all\\u002f2018\\u002f7\",\"all\\u002f2018\\u002f8\",\"all\\u002f2018\\u002f9\",\"all\\u002f2018\\u002f1\",\"all\\u002f2018\\u002f2\",\"all\\u002f2018\\u002f4\",\"all\\u002f2018\\u002f5\",\"all\\u002f2018\\u002f6\",\"all\\u002f2018\\u002f7\",\"all\\u002f2018\\u002f8\",\"all\\u002f2017\\u002f2\",\"all\\u002f2017\\u002f5\",\"all\\u002f2017\\u002f7\",\"all\\u002f2017\\u002f8\",\"all\\u002f2017\\u002f4\",\"all\\u002f2018\\u002f1\",\"all\\u002f2018\\u002f4\",\"all\\u002f2018\\u002f6\",\"all\\u002f2018\\u002f8\",\"all\\u002f2018\\u002f1\",\"all\\u002f2018\\u002f2\",\"all\\u002f2018\\u002f3\",\"all\\u002f2018\\u002f4\",\"all\\u002f2018\\u002f5\",\"all\\u002f2018\\u002f6\",\"all\\u002f2018\\u002f7\",\"all\\u002f2018\\u002f8\",\"all\\u002f2018\\u002f9\",\"all\\u002f2018\\u002f1\",\"all\\u002f2018\\u002f2\",\"all\\u002f2018\\u002f3\",\"all\\u002f2018\\u002f4\",\"all\\u002f2018\\u002f5\",\"all\\u002f2018\\u002f6\",\"all\\u002f2018\\u002f7\",\"all\\u002f2018\\u002f8\",\"all\\u002f2018\\u002f9\",\"all\\u002f2018\\u002f1\",\"all\\u002f2018\\u002f2\",\"all\\u002f2018\\u002f3\",\"all\\u002f2018\\u002f4\",\"all\\u002f2018\\u002f5\",\"all\\u002f2018\\u002f6\",\"all\\u002f2018\\u002f7\",\"all\\u002f2018\\u002f8\",\"all\\u002f2018\\u002f9\",\"all\\u002f2018\\u002f1\",\"all\\u002f2018\\u002f2\",\"all\\u002f2018\\u002f3\",\"all\\u002f2018\\u002f4\",\"all\\u002f2018\\u002f5\",\"all\\u002f2018\\u002f6\",\"all\\u002f2018\\u002f7\",\"all\\u002f2018\\u002f8\",\"all\\u002f2018\\u002f1\",\"all\\u002f2018\\u002f2\",\"all\\u002f2018\\u002f5\",\"all\\u002f2018\\u002f6\",\"all\\u002f2018\\u002f8\",\"all\\u002f2018\\u002f1\",\"all\\u002f2018\\u002f4\",\"all\\u002f2018\\u002f5\",\"all\\u002f2018\\u002f6\",\"all\\u002f2018\\u002f7\",\"all\\u002f2018\\u002f8\",\"all\\u002f2016\\u002f2\",\"all\\u002f2018\\u002f1\",\"all\\u002f2018\\u002f2\",\"all\\u002f2018\\u002f3\",\"all\\u002f2018\\u002f4\",\"all\\u002f2018\\u002f5\",\"all\\u002f2018\\u002f6\",\"all\\u002f2018\\u002f7\",\"all\\u002f2018\\u002f8\",\"all\\u002f2018\\u002f9\",\"all\\u002f2018\\u002f1\",\"all\\u002f2018\\u002f2\",\"all\\u002f2018\\u002f3\",\"all\\u002f2018\\u002f4\",\"all\\u002f2018\\u002f5\",\"all\\u002f2018\\u002f6\",\"all\\u002f2018\\u002f7\",\"all\\u002f2018\\u002f8\",\"all\\u002f2018\\u002f9\",\"all\\u002f2016\\u002f1\",\"all\\u002f2015\\u002f7\",\"all\\u002f2015\\u002f12\",\"all\\u002f2016\\u002f8\",\"all\\u002f2016\\u002f1\",\"all\\u002f2016\\u002f6\",\"all\\u002f2015\\u002f7\",\"all\\u002f2018\\u002f1\",\"all\\u002f2018\\u002f2\",\"all\\u002f2018\\u002f3\",\"all\\u002f2018\\u002f4\",\"all\\u002f2018\\u002f5\",\"all\\u002f2018\\u002f6\",\"all\\u002f2018\\u002f7\",\"all\\u002f2018\\u002f8\",\"all\\u002f2018\\u002f1\",\"all\\u002f2018\\u002f2\",\"all\\u002f2018\\u002f3\",\"all\\u002f2018\\u002f4\",\"all\\u002f2018\\u002f5\",\"all\\u002f2018\\u002f6\",\"all\\u002f2018\\u002f7\",\"all\\u002f2018\\u002f8\",\"all\\u002f2018\\u002f9\",\"all\\u002f2018\\u002f1\",\"all\\u002f2018\\u002f2\",\"all\\u002f2018\\u002f3\",\"all\\u002f2018\\u002f4\",\"all\\u002f2018\\u002f5\",\"all\\u002f2018\\u002f6\",\"all\\u002f2018\\u002f7\",\"all\\u002f2018\\u002f8\",\"all\\u002f2018\\u002f9\",\"all\\u002f2015\\u002f7\",\"all\\u002f2015\\u002f8\",\"all\\u002f2016\\u002f6\",\"all\\u002f2018\\u002f1\",\"all\\u002f2018\\u002f2\",\"all\\u002f2018\\u002f3\",\"all\\u002f2018\\u002f4\",\"all\\u002f2018\\u002f5\",\"all\\u002f2018\\u002f6\",\"all\\u002f2018\\u002f7\",\"all\\u002f2018\\u002f8\",\"all\\u002f2018\\u002f9\",\"all\\u002f2018\\u002f3\",\"all\\u002f2018\\u002f4\",\"all\\u002f2018\\u002f6\",\"all\\u002f2018\\u002f1\",\"all\\u002f2018\\u002f2\",\"all\\u002f2018\\u002f3\",\"all\\u002f2018\\u002f4\",\"all\\u002f2018\\u002f5\",\"all\\u002f2018\\u002f6\",\"all\\u002f2018\\u002f7\",\"all\\u002f2018\\u002f8\",\"all\\u002f2018\\u002f9\",\"all\\u002f2018\\u002f1\",\"all\\u002f2018\\u002f2\",\"all\\u002f2018\\u002f3\",\"all\\u002f2018\\u002f4\",\"all\\u002f2018\\u002f5\",\"all\\u002f2018\\u002f6\",\"all\\u002f2018\\u002f7\",\"all\\u002f2018\\u002f8\",\"all\\u002f2018\\u002f9\",\"all\\u002f2018\\u002f1\",\"all\\u002f2018\\u002f2\",\"all\\u002f2018\\u002f3\",\"all\\u002f2018\\u002f4\",\"all\\u002f2018\\u002f5\",\"all\\u002f2018\\u002f6\",\"all\\u002f2018\\u002f7\",\"all\\u002f2018\\u002f8\",\"all\\u002f2018\\u002f9\",\"all\\u002f2018\\u002f1\",\"all\\u002f2018\\u002f2\",\"all\\u002f2018\\u002f3\",\"all\\u002f2018\\u002f4\",\"all\\u002f2018\\u002f5\",\"all\\u002f2018\\u002f6\",\"all\\u002f2018\\u002f7\",\"all\\u002f2018\\u002f8\",\"all\\u002f2018\\u002f1\",\"all\\u002f2018\\u002f2\",\"all\\u002f2018\\u002f3\",\"all\\u002f2018\\u002f4\",\"all\\u002f2018\\u002f5\",\"all\\u002f2018\\u002f6\",\"all\\u002f2018\\u002f7\",\"all\\u002f2018\\u002f8\",\"all\\u002f2018\\u002f9\",\"all\\u002f2018\\u002f1\",\"all\\u002f2018\\u002f2\",\"all\\u002f2018\\u002f3\",\"all\\u002f2018\\u002f4\",\"all\\u002f2018\\u002f5\",\"all\\u002f2018\\u002f6\",\"all\\u002f2018\\u002f7\",\"all\\u002f2018\\u002f8\",\"all\\u002f2018\\u002f1\",\"all\\u002f2018\\u002f2\",\"all\\u002f2018\\u002f3\",\"all\\u002f2018\\u002f4\",\"all\\u002f2018\\u002f5\",\"all\\u002f2018\\u002f6\",\"all\\u002f2018\\u002f7\",\"all\\u002f2018\\u002f8\",\"all\\u002f2018\\u002f9\",\"all\\u002f2018\\u002f1\",\"all\\u002f2018\\u002f2\",\"all\\u002f2018\\u002f3\",\"all\\u002f2018\\u002f4\",\"all\\u002f2018\\u002f5\",\"all\\u002f2018\\u002f6\",\"all\\u002f2018\\u002f7\",\"all\\u002f2018\\u002f8\",\"all\\u002f2018\\u002f9\",\"all\\u002f2018\\u002f1\",\"all\\u002f2018\\u002f2\",\"all\\u002f2018\\u002f3\",\"all\\u002f2018\\u002f4\",\"all\\u002f2018\\u002f5\",\"all\\u002f2018\\u002f6\",\"all\\u002f2018\\u002f7\",\"all\\u002f2018\\u002f8\",\"all\\u002f2018\\u002f9\",\"all\\u002f2018\\u002f1\",\"all\\u002f2018\\u002f2\",\"all\\u002f2018\\u002f3\",\"all\\u002f2018\\u002f4\",\"all\\u002f2018\\u002f5\",\"all\\u002f2018\\u002f6\",\"all\\u002f2018\\u002f7\",\"all\\u002f2018\\u002f8\",\"all\\u002f2018\\u002f9\",\"all\\u002f2018\\u002f1\",\"all\\u002f2018\\u002f2\",\"all\\u002f2018\\u002f3\",\"all\\u002f2018\\u002f4\",\"all\\u002f2018\\u002f5\",\"all\\u002f2018\\u002f6\",\"all\\u002f2018\\u002f7\",\"all\\u002f2018\\u002f8\",\"all\\u002f2018\\u002f9\",\"all\\u002f2018\\u002f1\",\"all\\u002f2018\\u002f2\",\"all\\u002f2018\\u002f3\",\"all\\u002f2018\\u002f4\",\"all\\u002f2018\\u002f5\",\"all\\u002f2018\\u002f6\",\"all\\u002f2018\\u002f7\",\"all\\u002f2018\\u002f8\",\"all\\u002f2018\\u002f9\",\"all\\u002f2018\\u002f1\",\"all\\u002f2018\\u002f2\",\"all\\u002f2018\\u002f3\",\"all\\u002f2018\\u002f4\",\"all\\u002f2018\\u002f5\",\"all\\u002f2018\\u002f6\",\"all\\u002f2018\\u002f7\",\"all\\u002f2018\\u002f8\",\"all\\u002f2018\\u002f9\",\"all\\u002f2018\\u002f1\",\"all\\u002f2018\\u002f2\",\"all\\u002f2018\\u002f3\",\"all\\u002f2018\\u002f4\",\"all\\u002f2018\\u002f5\",\"all\\u002f2018\\u002f6\",\"all\\u002f2018\\u002f7\",\"all\\u002f2018\\u002f8\",\"all\\u002f2018\\u002f9\",\"all\\u002f2018\\u002f1\",\"all\\u002f2018\\u002f2\",\"all\\u002f2018\\u002f3\",\"all\\u002f2018\\u002f4\",\"all\\u002f2018\\u002f5\",\"all\\u002f2018\\u002f6\",\"all\\u002f2018\\u002f7\",\"all\\u002f2018\\u002f8\",\"all\\u002f2018\\u002f1\",\"all\\u002f2018\\u002f2\",\"all\\u002f2018\\u002f3\",\"all\\u002f2018\\u002f4\",\"all\\u002f2018\\u002f5\",\"all\\u002f2018\\u002f6\",\"all\\u002f2018\\u002f7\",\"all\\u002f2018\\u002f8\",\"all\\u002f2018\\u002f9\",\"all\\u002f2018\\u002f1\",\"all\\u002f2018\\u002f2\",\"all\\u002f2018\\u002f3\",\"all\\u002f2018\\u002f4\",\"all\\u002f2018\\u002f5\",\"all\\u002f2018\\u002f6\",\"all\\u002f2018\\u002f7\",\"all\\u002f2018\\u002f8\",\"all\\u002f2018\\u002f9\",\"all\\u002f2018\\u002f1\",\"all\\u002f2018\\u002f2\",\"all\\u002f2018\\u002f3\",\"all\\u002f2018\\u002f4\",\"all\\u002f2018\\u002f5\",\"all\\u002f2018\\u002f6\",\"all\\u002f2018\\u002f7\",\"all\\u002f2018\\u002f8\",\"all\\u002f2018\\u002f9\",\"all\\u002f2017\\u002f6\",\"all\\u002f2017\\u002f2\",\"all\\u002f2017\\u002f12\",\"all\\u002f2018\\u002f1\",\"all\\u002f2018\\u002f2\",\"all\\u002f2018\\u002f3\",\"all\\u002f2018\\u002f4\",\"all\\u002f2018\\u002f5\",\"all\\u002f2018\\u002f6\",\"all\\u002f2018\\u002f7\",\"all\\u002f2018\\u002f8\",\"all\\u002f2018\\u002f9\",\"all\\u002f2018\\u002f1\",\"all\\u002f2018\\u002f2\",\"all\\u002f2018\\u002f3\",\"all\\u002f2018\\u002f4\",\"all\\u002f2018\\u002f5\",\"all\\u002f2018\\u002f6\",\"all\\u002f2018\\u002f7\",\"all\\u002f2018\\u002f8\",\"all\\u002f2018\\u002f9\",\"all\\u002f2018\\u002f1\",\"all\\u002f2018\\u002f2\",\"all\\u002f2018\\u002f3\",\"all\\u002f2018\\u002f4\",\"all\\u002f2018\\u002f5\",\"all\\u002f2018\\u002f6\",\"all\\u002f2018\\u002f7\",\"all\\u002f2018\\u002f8\",\"all\\u002f2018\\u002f1\",\"all\\u002f2018\\u002f2\",\"all\\u002f2018\\u002f3\",\"all\\u002f2018\\u002f4\",\"all\\u002f2018\\u002f5\",\"all\\u002f2018\\u002f6\",\"all\\u002f2018\\u002f7\",\"all\\u002f2018\\u002f8\",\"all\\u002f2018\\u002f2\",\"all\\u002f2018\\u002f6\",\"all\\u002f2018\\u002f7\",\"all\\u002f2018\\u002f1\",\"all\\u002f2018\\u002f2\",\"all\\u002f2018\\u002f3\",\"all\\u002f2018\\u002f4\",\"all\\u002f2018\\u002f5\",\"all\\u002f2018\\u002f6\",\"all\\u002f2018\\u002f7\",\"all\\u002f2018\\u002f8\",\"all\\u002f2018\\u002f1\",\"all\\u002f2018\\u002f2\",\"all\\u002f2018\\u002f3\",\"all\\u002f2018\\u002f4\",\"all\\u002f2018\\u002f5\",\"all\\u002f2018\\u002f6\",\"all\\u002f2018\\u002f7\",\"all\\u002f2018\\u002f8\",\"all\\u002f2018\\u002f1\",\"all\\u002f2018\\u002f2\",\"all\\u002f2018\\u002f4\",\"all\\u002f2018\\u002f5\",\"all\\u002f2018\\u002f6\",\"all\\u002f2018\\u002f7\",\"all\\u002f2018\\u002f1\",\"all\\u002f2018\\u002f2\",\"all\\u002f2018\\u002f3\",\"all\\u002f2018\\u002f4\",\"all\\u002f2018\\u002f5\",\"all\\u002f2018\\u002f6\",\"all\\u002f2018\\u002f7\",\"all\\u002f2018\\u002f8\",\"all\\u002f2018\\u002f9\",\"all\\u002f2018\\u002f1\",\"all\\u002f2018\\u002f2\",\"all\\u002f2018\\u002f4\",\"all\\u002f2018\\u002f5\",\"all\\u002f2018\\u002f6\",\"all\\u002f2018\\u002f7\",\"all\\u002f2018\\u002f8\",\"all\\u002f2018\\u002f1\",\"all\\u002f2018\\u002f2\",\"all\\u002f2018\\u002f3\",\"all\\u002f2018\\u002f4\",\"all\\u002f2018\\u002f5\",\"all\\u002f2018\\u002f6\",\"all\\u002f2018\\u002f7\",\"all\\u002f2018\\u002f8\",\"all\\u002f2018\\u002f9\",\"all\\u002f2018\\u002f1\",\"all\\u002f2018\\u002f2\",\"all\\u002f2018\\u002f3\",\"all\\u002f2018\\u002f4\",\"all\\u002f2018\\u002f5\",\"all\\u002f2018\\u002f6\",\"all\\u002f2018\\u002f7\",\"all\\u002f2018\\u002f8\",\"all\\u002f2018\\u002f1\",\"all\\u002f2018\\u002f2\",\"all\\u002f2018\\u002f4\",\"all\\u002f2018\\u002f5\",\"all\\u002f2017\\u002f11\",\"all\\u002f2018\\u002f4\",\"all\\u002f2018\\u002f7\",\"all\\u002f2018\\u002f1\",\"all\\u002f2018\\u002f2\",\"all\\u002f2018\\u002f3\",\"all\\u002f2018\\u002f4\",\"all\\u002f2018\\u002f5\",\"all\\u002f2018\\u002f6\",\"all\\u002f2018\\u002f7\",\"all\\u002f2018\\u002f8\",\"all\\u002f2018\\u002f9\",\"all\\u002f2018\\u002f4\",\"all\\u002f2018\\u002f5\",\"all\\u002f2018\\u002f1\",\"all\\u002f2018\\u002f2\",\"all\\u002f2018\\u002f3\",\"all\\u002f2018\\u002f4\",\"all\\u002f2018\\u002f5\",\"all\\u002f2018\\u002f6\",\"all\\u002f2018\\u002f7\",\"all\\u002f2018\\u002f8\",\"all\\u002f2018\\u002f9\",\"all\\u002f2018\\u002f1\",\"all\\u002f2018\\u002f2\",\"all\\u002f2018\\u002f3\",\"all\\u002f2018\\u002f4\",\"all\\u002f2018\\u002f5\",\"all\\u002f2018\\u002f6\",\"all\\u002f2018\\u002f7\",\"all\\u002f2018\\u002f8\",\"all\\u002f2018\\u002f9\",\"all\\u002f2018\\u002f1\",\"all\\u002f2018\\u002f2\",\"all\\u002f2018\\u002f3\",\"all\\u002f2018\\u002f4\",\"all\\u002f2018\\u002f5\",\"all\\u002f2018\\u002f6\",\"all\\u002f2018\\u002f7\",\"all\\u002f2018\\u002f8\",\"all\\u002f2018\\u002f1\",\"all\\u002f2018\\u002f2\",\"all\\u002f2018\\u002f3\",\"all\\u002f2018\\u002f4\",\"all\\u002f2018\\u002f5\",\"all\\u002f2018\\u002f6\",\"all\\u002f2018\\u002f7\",\"all\\u002f2018\\u002f8\",\"all\\u002f2016\\u002f11\",\"all\\u002f2016\\u002f12\",\"all\\u002f2018\\u002f1\",\"all\\u002f2018\\u002f2\",\"all\\u002f2018\\u002f3\",\"all\\u002f2018\\u002f4\",\"all\\u002f2018\\u002f5\",\"all\\u002f2018\\u002f6\",\"all\\u002f2018\\u002f7\",\"all\\u002f2018\\u002f8\",\"all\\u002f2017\\u002f1\",\"all\\u002f2017\\u002f3\",\"all\\u002f2017\\u002f4\",\"all\\u002f2017\\u002f5\",\"all\\u002f2017\\u002f6\",\"all\\u002f2017\\u002f7\",\"all\\u002f2017\\u002f8\",\"all\\u002f2017\\u002f9\",\"all\\u002f2017\\u002f11\",\"all\\u002f2017\\u002f12\",\"all\\u002f2017\\u002f3\",\"all\\u002f2018\\u002f8\",\"all\\u002f2018\\u002f1\",\"all\\u002f2018\\u002f2\",\"all\\u002f2018\\u002f6\",\"all\\u002f2018\\u002f7\",\"all\\u002f2018\\u002f2\",\"all\\u002f2018\\u002f3\",\"all\\u002f2018\\u002f5\",\"all\\u002f2018\\u002f1\",\"all\\u002f2018\\u002f2\",\"all\\u002f2018\\u002f3\",\"all\\u002f2018\\u002f4\",\"all\\u002f2018\\u002f5\",\"all\\u002f2018\\u002f6\",\"all\\u002f2018\\u002f7\",\"all\\u002f2018\\u002f8\",\"all\\u002f2018\\u002f9\",\"all\\u002f2018\\u002f1\",\"all\\u002f2018\\u002f3\",\"all\\u002f2018\\u002f4\",\"all\\u002f2018\\u002f5\",\"all\\u002f2018\\u002f6\",\"all\\u002f2018\\u002f7\",\"all\\u002f2018\\u002f9\",\"all\\u002f2018\\u002f1\",\"all\\u002f2018\\u002f2\",\"all\\u002f2018\\u002f3\",\"all\\u002f2018\\u002f4\",\"all\\u002f2018\\u002f5\",\"all\\u002f2018\\u002f6\",\"all\\u002f2018\\u002f7\",\"all\\u002f2018\\u002f8\",\"all\\u002f2018\\u002f1\",\"all\\u002f2018\\u002f2\",\"all\\u002f2018\\u002f3\",\"all\\u002f2018\\u002f4\",\"all\\u002f2018\\u002f5\",\"all\\u002f2018\\u002f6\",\"all\\u002f2018\\u002f7\",\"all\\u002f2018\\u002f1\",\"all\\u002f2018\\u002f2\",\"all\\u002f2018\\u002f3\",\"all\\u002f2018\\u002f4\",\"all\\u002f2018\\u002f5\",\"all\\u002f2018\\u002f6\",\"all\\u002f2018\\u002f7\",\"all\\u002f2018\\u002f8\",\"all\\u002f2018\\u002f9\",\"all\\u002f2018\\u002f1\",\"all\\u002f2018\\u002f2\",\"all\\u002f2018\\u002f3\",\"all\\u002f2018\\u002f4\",\"all\\u002f2018\\u002f5\",\"all\\u002f2018\\u002f6\",\"all\\u002f2018\\u002f7\",\"all\\u002f2018\\u002f8\",\"all\\u002f2018\\u002f9\",\"all\\u002f2018\\u002f1\",\"all\\u002f2018\\u002f2\",\"all\\u002f2018\\u002f4\",\"all\\u002f2018\\u002f5\",\"all\\u002f2018\\u002f6\",\"all\\u002f2018\\u002f7\",\"all\\u002f2018\\u002f8\",\"all\\u002f2015\\u002f8\",\"all\\u002f2018\\u002f1\",\"all\\u002f2018\\u002f2\",\"all\\u002f2018\\u002f3\",\"all\\u002f2018\\u002f4\",\"all\\u002f2018\\u002f5\",\"all\\u002f2018\\u002f6\",\"all\\u002f2018\\u002f7\",\"all\\u002f2018\\u002f8\",\"all\\u002f2018\\u002f9\",\"all\\u002f2018\\u002f1\",\"all\\u002f2018\\u002f2\",\"all\\u002f2018\\u002f3\",\"all\\u002f2018\\u002f4\",\"all\\u002f2018\\u002f5\",\"all\\u002f2018\\u002f6\",\"all\\u002f2018\\u002f7\",\"all\\u002f2018\\u002f8\",\"all\\u002f2018\\u002f9\",\"all\\u002f2015\\u002f7\",\"all\\u002f2018\\u002f7\",\"all\\u002f2016\\u002f2\",\"all\\u002f2017\\u002f2\",\"all\\u002f2015\\u002f8\",\"all\\u002f2018\\u002f1\",\"all\\u002f2018\\u002f2\",\"all\\u002f2018\\u002f3\",\"all\\u002f2018\\u002f4\",\"all\\u002f2018\\u002f5\",\"all\\u002f2018\\u002f6\",\"all\\u002f2018\\u002f7\",\"all\\u002f2018\\u002f8\",\"all\\u002f2018\\u002f1\",\"all\\u002f2018\\u002f2\",\"all\\u002f2018\\u002f3\",\"all\\u002f2018\\u002f4\",\"all\\u002f2018\\u002f5\",\"all\\u002f2018\\u002f6\",\"all\\u002f2018\\u002f7\",\"all\\u002f2018\\u002f8\",\"all\\u002f2018\\u002f9\",\"all\\u002f2018\\u002f1\",\"all\\u002f2018\\u002f2\",\"all\\u002f2018\\u002f3\",\"all\\u002f2018\\u002f4\",\"all\\u002f2018\\u002f5\",\"all\\u002f2018\\u002f6\",\"all\\u002f2018\\u002f7\",\"all\\u002f2018\\u002f8\",\"all\\u002f2018\\u002f1\",\"all\\u002f2018\\u002f2\",\"all\\u002f2018\\u002f3\",\"all\\u002f2018\\u002f4\",\"all\\u002f2018\\u002f5\",\"all\\u002f2018\\u002f6\",\"all\\u002f2018\\u002f7\",\"all\\u002f2018\\u002f8\",\"all\\u002f2018\\u002f9\",\"all\\u002f2018\\u002f1\",\"all\\u002f2018\\u002f2\",\"all\\u002f2018\\u002f3\",\"all\\u002f2018\\u002f4\",\"all\\u002f2018\\u002f5\",\"all\\u002f2018\\u002f6\",\"all\\u002f2018\\u002f7\",\"all\\u002f2018\\u002f8\",\"all\\u002f2018\\u002f9\",\"all\\u002f2018\\u002f1\",\"all\\u002f2018\\u002f3\",\"all\\u002f2018\\u002f4\",\"all\\u002f2018\\u002f6\",\"all\\u002f2018\\u002f7\",\"all\\u002f2018\\u002f8\",\"all\\u002f2018\\u002f1\",\"all\\u002f2018\\u002f2\",\"all\\u002f2018\\u002f3\",\"all\\u002f2018\\u002f4\",\"all\\u002f2018\\u002f5\",\"all\\u002f2018\\u002f6\",\"all\\u002f2018\\u002f7\",\"all\\u002f2018\\u002f8\",\"all\\u002f2018\\u002f1\",\"all\\u002f2018\\u002f2\",\"all\\u002f2018\\u002f3\",\"all\\u002f2018\\u002f4\",\"all\\u002f2018\\u002f5\",\"all\\u002f2018\\u002f6\",\"all\\u002f2018\\u002f7\",\"all\\u002f2018\\u002f8\",\"all\\u002f2018\\u002f9\",\"all\\u002f2018\\u002f1\",\"all\\u002f2018\\u002f2\",\"all\\u002f2018\\u002f3\",\"all\\u002f2018\\u002f4\",\"all\\u002f2018\\u002f5\",\"all\\u002f2018\\u002f6\",\"all\\u002f2018\\u002f7\",\"all\\u002f2018\\u002f8\",\"all\\u002f2018\\u002f1\",\"all\\u002f2018\\u002f2\",\"all\\u002f2018\\u002f3\",\"all\\u002f2018\\u002f4\",\"all\\u002f2018\\u002f5\",\"all\\u002f2018\\u002f6\",\"all\\u002f2018\\u002f7\",\"all\\u002f2018\\u002f8\",\"all\\u002f2018\\u002f9\",\"all\\u002f2018\\u002f1\",\"all\\u002f2018\\u002f2\",\"all\\u002f2018\\u002f3\",\"all\\u002f2018\\u002f4\",\"all\\u002f2018\\u002f5\",\"all\\u002f2018\\u002f6\",\"all\\u002f2018\\u002f7\",\"all\\u002f2018\\u002f8\",\"all\\u002f2018\\u002f9\",\"all\\u002f2018\\u002f1\",\"all\\u002f2018\\u002f2\",\"all\\u002f2018\\u002f3\",\"all\\u002f2018\\u002f4\",\"all\\u002f2018\\u002f5\",\"all\\u002f2018\\u002f6\",\"all\\u002f2018\\u002f7\",\"all\\u002f2018\\u002f8\",\"all\\u002f2018\\u002f9\",\"all\\u002f2018\\u002f3\",\"all\\u002f2018\\u002f4\",\"all\\u002f2018\\u002f5\",\"all\\u002f2018\\u002f1\",\"all\\u002f2018\\u002f2\",\"all\\u002f2018\\u002f3\",\"all\\u002f2018\\u002f4\",\"all\\u002f2018\\u002f5\",\"all\\u002f2018\\u002f6\",\"all\\u002f2016\\u002f7\",\"all\\u002f2018\\u002f7\",\"all\\u002f2018\\u002f8\",\"all\\u002f2018\\u002f9\",\"all\\u002f2018\\u002f1\",\"all\\u002f2018\\u002f2\",\"all\\u002f2018\\u002f3\",\"all\\u002f2018\\u002f4\",\"all\\u002f2018\\u002f5\",\"all\\u002f2018\\u002f6\",\"all\\u002f2018\\u002f7\",\"all\\u002f2018\\u002f8\",\"all\\u002f2018\\u002f1\",\"all\\u002f2018\\u002f2\",\"all\\u002f2018\\u002f3\",\"all\\u002f2018\\u002f4\",\"all\\u002f2018\\u002f5\",\"all\\u002f2018\\u002f6\",\"all\\u002f2018\\u002f7\",\"all\\u002f2018\\u002f8\",\"all\\u002f2018\\u002f1\",\"all\\u002f2018\\u002f2\",\"all\\u002f2018\\u002f3\",\"all\\u002f2018\\u002f4\",\"all\\u002f2018\\u002f5\",\"all\\u002f2018\\u002f6\",\"all\\u002f2018\\u002f7\",\"all\\u002f2018\\u002f8\",\"all\\u002f2018\\u002f9\",\"all\\u002f2018\\u002f1\",\"all\\u002f2018\\u002f2\",\"all\\u002f2018\\u002f3\",\"all\\u002f2018\\u002f4\",\"all\\u002f2018\\u002f5\",\"all\\u002f2018\\u002f6\",\"all\\u002f2018\\u002f7\",\"all\\u002f2018\\u002f8\",\"all\\u002f2018\\u002f9\",\"all\\u002f2018\\u002f1\",\"all\\u002f2018\\u002f2\",\"all\\u002f2018\\u002f3\",\"all\\u002f2018\\u002f4\",\"all\\u002f2018\\u002f5\",\"all\\u002f2018\\u002f6\",\"all\\u002f2018\\u002f7\",\"all\\u002f2018\\u002f8\",\"all\\u002f2018\\u002f9\",\"all\\u002f2018\\u002f1\",\"all\\u002f2018\\u002f2\",\"all\\u002f2018\\u002f3\",\"all\\u002f2018\\u002f4\",\"all\\u002f2018\\u002f5\",\"all\\u002f2018\\u002f6\",\"all\\u002f2018\\u002f7\",\"all\\u002f2018\\u002f8\",\"all\\u002f2018\\u002f9\",\"all\\u002f2018\\u002f1\",\"all\\u002f2018\\u002f2\",\"all\\u002f2018\\u002f3\",\"all\\u002f2018\\u002f4\",\"all\\u002f2018\\u002f5\",\"all\\u002f2018\\u002f6\",\"all\\u002f2018\\u002f7\",\"all\\u002f2018\\u002f8\",\"all\\u002f2018\\u002f9\",\"all\\u002f2018\\u002f1\",\"all\\u002f2018\\u002f2\",\"all\\u002f2018\\u002f3\",\"all\\u002f2018\\u002f4\",\"all\\u002f2018\\u002f5\",\"all\\u002f2018\\u002f6\",\"all\\u002f2018\\u002f7\",\"all\\u002f2018\\u002f8\",\"all\\u002f2018\\u002f9\",\"all\\u002f2018\\u002f1\",\"all\\u002f2018\\u002f2\",\"all\\u002f2018\\u002f3\",\"all\\u002f2018\\u002f4\",\"all\\u002f2018\\u002f5\",\"all\\u002f2018\\u002f6\",\"all\\u002f2018\\u002f7\",\"all\\u002f2018\\u002f8\",\"all\\u002f2018\\u002f1\",\"all\\u002f2018\\u002f2\",\"all\\u002f2018\\u002f7\",\"all\\u002f2018\\u002f8\",\"all\\u002f2018\\u002f3\",\"all\\u002f2018\\u002f4\",\"all\\u002f2018\\u002f5\",\"all\\u002f2018\\u002f1\",\"all\\u002f2018\\u002f2\",\"all\\u002f2018\\u002f3\",\"all\\u002f2018\\u002f4\",\"all\\u002f2018\\u002f5\",\"all\\u002f2018\\u002f6\",\"all\\u002f2018\\u002f7\",\"all\\u002f2018\\u002f8\",\"all\\u002f2018\\u002f9\",\"all\\u002f2018\\u002f1\",\"all\\u002f2018\\u002f2\",\"all\\u002f2018\\u002f3\",\"all\\u002f2018\\u002f4\",\"all\\u002f2018\\u002f5\",\"all\\u002f2018\\u002f6\",\"all\\u002f2018\\u002f7\",\"all\\u002f2018\\u002f8\",\"all\\u002f2018\\u002f9\",\"all\\u002f2018\\u002f1\",\"all\\u002f2018\\u002f2\",\"all\\u002f2018\\u002f3\",\"all\\u002f2018\\u002f4\",\"all\\u002f2018\\u002f5\",\"all\\u002f2018\\u002f6\",\"all\\u002f2018\\u002f7\",\"all\\u002f2018\\u002f8\",\"all\\u002f2018\\u002f4\",\"all\\u002f2018\\u002f1\",\"all\\u002f2018\\u002f2\",\"all\\u002f2018\\u002f3\",\"all\\u002f2018\\u002f4\",\"all\\u002f2018\\u002f5\",\"all\\u002f2018\\u002f6\",\"all\\u002f2018\\u002f7\",\"all\\u002f2018\\u002f8\",\"all\\u002f2018\\u002f9\",\"all\\u002f2018\\u002f1\",\"all\\u002f2018\\u002f2\",\"all\\u002f2018\\u002f3\",\"all\\u002f2018\\u002f4\",\"all\\u002f2018\\u002f5\",\"all\\u002f2018\\u002f6\",\"all\\u002f2018\\u002f7\",\"all\\u002f2018\\u002f8\",\"all\\u002f2018\\u002f9\",\"all\\u002f2016\",\"all\\u002f2017\",\"all\\u002f2018\",\"all\\u002f2016\",\"all\\u002f2017\",\"all\\u002f2018\",\"all\\u002f2016\",\"all\\u002f2017\",\"all\\u002f2018\",\"all\\u002f2016\",\"all\\u002f2017\",\"all\\u002f2018\",\"all\\u002f2017\",\"all\\u002f2018\",\"all\\u002f2016\",\"all\\u002f2017\",\"all\\u002f2018\",\"all\\u002f2015\",\"all\\u002f2016\",\"all\\u002f2017\",\"all\\u002f2018\",\"all\\u002f2015\",\"all\\u002f2016\",\"all\\u002f2017\",\"all\\u002f2018\",\"all\\u002f2017\",\"all\\u002f2018\",\"all\\u002f2015\",\"all\\u002f2016\",\"all\\u002f2016\",\"all\\u002f2017\",\"all\\u002f2015\",\"all\\u002f2016\",\"all\\u002f2017\",\"all\",\"all\",\"all\",\"all\",\"\"],\"values\":[1.5207043902735748e-05,1.5207043902735748e-05,6.082817561094299e-05,6.082817561094299e-05,6.082817561094299e-05,6.082817561094299e-05,0.0020681579707720614,0.0015511184780790462,0.004136315941544123,0.0036192764488511076,0.0015511184780790462,0.0025851974634650767,0.0010340789853860307,0.0005170394926930154,0.0005170394926930154,9.124226341641449e-05,9.124226341641449e-05,0.00027372679024924345,9.124226341641449e-05,0.0004257972292766009,0.00021289861463830045,0.0004257972292766009,0.0004257972292766009,0.0004257972292766009,0.0006386958439149014,0.0004257972292766009,0.004318800468376952,0.00539850058547119,0.004318800468376952,0.00539850058547119,0.015115801639319332,0.009717301053848142,0.014036101522225094,0.01619550175641357,0.002159400234188476,0.0017031889171064036,0.004257972292766009,0.0034063778342128073,0.008515944585532018,0.008515944585532018,0.011922322419744825,0.005961161209872412,0.0025547833756596056,0.0008515944585532018,0.0003193479219574507,0.0006386958439149014,0.0003193479219574507,0.0012773916878298028,0.0009580437658723521,0.0006386958439149014,0.0025547833756596056,0.0007755592390395231,0.0002585197463465077,0.0007755592390395231,0.0012925987317325383,0.0005170394926930154,0.0005170394926930154,0.0002585197463465077,1.5207043902735748e-05,4.562113170820724e-05,4.562113170820724e-05,4.562113170820724e-05,0.556942775893794,0.7061238765796317,0.8354141638406911,0.8155233504159127,1.0840493316504205,0.8950866041150262,0.9249228242521936,0.6166152161681291,0.06961784698672425,1.821195577791633,1.6542526498274002,1.4417798324183764,1.7604890585319122,2.0640216548305177,2.2764944722395413,2.124728174090239,1.7604890585319122,0.24282607703888442,0.12272084429507749,0.09817667543606198,0.12272084429507749,0.14726501315409296,0.18817196125245214,0.1554464027737648,0.14726501315409296,0.1022673702458979,0.016362779239343664,1.5207043902735748e-05,20.800802931918064,15.838683678279779,16.99149926245837,20.099089098070227,25.41206526863243,23.657780684012835,21.55263918246932,18.896151097188216,1.9547742514332638,0.83374138901139,0.5698991772989248,0.7493118812634012,0.8865098313538831,1.0553688468498608,1.2242278623458385,1.1292446661293511,0.780972946668897,0.09498319621648747,0.02910628202983622,0.013230128195380102,0.006615064097690051,0.00926108973676607,0.02116820511260816,0.01587615383445612,0.011907115375842091,0.00793807691722806,0.0069344120196475015,0.01849176538572667,0.0069344120196475015,0.011557353366079168,0.03698353077145334,0.07627853221612252,0.08783588558220168,0.09939323894828085,0.0069344120196475015,3.0414087805471495e-05,3.0414087805471495e-05,1.5207043902735748e-05,1.5207043902735748e-05,1.5207043902735748e-05,1.5207043902735748e-05,1.5207043902735748e-05,0.039462278927599265,0.0342006417372527,0.04209309752277255,0.0342006417372527,0.0684012834745054,0.09470946942623824,0.07892455785519853,0.05787800909381226,0.005261637190346569,3.0414087805471495e-05,3.0414087805471495e-05,0.00013686339512462172,0.00013686339512462172,0.00013686339512462172,0.00013686339512462172,0.00013686339512462172,0.00013686339512462172,0.00013686339512462172,0.00013686339512462172,0.00013686339512462172,0.0004257972292766009,0.0004257972292766009,0.0008515944585532018,0.00021289861463830045,0.0008515944585532018,0.00021289861463830045,0.03375963746407336,0.031508994966468466,0.024757067473653797,0.03601027996167825,0.06976991742575162,0.06076734743533205,0.049514134947307595,0.02700770997125869,0.008074940312352683,0.004486077951307046,0.004486077951307046,0.008972155902614092,0.007177724722091273,0.004486077951307046,0.006280509131829864,0.008972155902614092,0.00012165635122188598,0.00012165635122188598,0.00024331270244377196,0.00012165635122188598,0.00012165635122188598,0.00012165635122188598,0.00012165635122188598,0.0029197524293252636,0.0021898143219939476,0.004379628643987895,0.005839504858650527,0.006569442965981843,0.004379628643987895,0.005839504858650527,0.0029197524293252636,0.0015207043902735746,0.0015207043902735746,0.0011405282927051809,0.0007603521951367873,0.0026612326829787555,0.0011405282927051809,0.0007603521951367873,0.018400523122310254,0.011709423805106525,0.02509162243951398,0.018400523122310254,0.020073297951611186,0.03178272175671771,0.030109946927416777,0.028437172098115845,0.26721817545887255,0.23236363083380224,0.2614090846880275,0.2730272662297176,0.2904545385422528,0.37178180933408356,0.3194999923964781,0.19169999543788682,0.011618181541690111,0.23817272160464728,0.3543545370215484,0.21493635852126705,0.23817272160464728,0.25559999391718247,0.313690901625633,0.25559999391718247,0.3253090831673231,0.023236363083380222,0.00036496905366565794,0.00024331270244377196,0.00012165635122188598,0.00024331270244377196,0.0021441931902857403,0.0028589242537143205,0.0035736553171429007,0.005717848507428641,0.0071473106342858014,0.005003117444000061,0.0035736553171429007,0.0035736553171429007,0.0006082817561094299,0.003649690536656579,0.009124226341641447,0.0006082817561094299,0.0018248452683282896,0.003649690536656579,0.0024331270244377194,0.0024331270244377194,0.00015207043902735746,0.00015207043902735746,7.603521951367873e-05,0.00018248452683282897,0.00018248452683282897,9.124226341641449e-05,9.124226341641449e-05,1.5207043902735748e-05,0.0003953831414711294,0.0015815325658845177,0.0023722988488267763,0.0011861494244133882,0.0019769157073556472,0.0003953831414711294,0.0019769157073556472,0.0003953831414711294,6.082817561094299e-05,6.082817561094299e-05,6.082817561094299e-05,6.082817561094299e-05,0.056266062440122264,0.006751927492814672,0.0022506424976048906,0.003375963746407336,0.005626606244012226,0.005626606244012226,0.0022506424976048906,0.0011253212488024453,0.13856658404172814,0.12226463297799542,0.13856658404172814,0.10188719414832952,0.1426420718076613,0.1426420718076613,0.13449109627579497,0.1467175595735945,0.024452926595599084,0.0025091622439513983,0.008363874146504661,0.0025091622439513983,0.004181937073252331,0.0050183244879027965,0.008363874146504661,0.011709423805106525,0.0025091622439513983,0.000836387414650466,0.1447710579540443,0.11581684636323544,0.16958895360330903,0.14063474201250017,0.13649842607095605,0.1282257941878678,0.10340789853860308,0.15718000577867666,0.02895421159080886,0.048267157347283256,0.03567572499581806,0.02728143676150793,0.03987286911297313,0.03567572499581806,0.031478580878662996,0.03987286911297313,0.025182864702930394,0.006295716175732598,0.0020073297951611188,0.0035128271415319576,0.0040146595903222376,0.0020073297951611188,0.0010036648975805594,0.0005018324487902797,0.0020073297951611188,0.001505497346370839,0.007056068370869387,0.012348119649021426,0.006174059824510713,0.0035280341854346934,0.0017640170927173467,0.006174059824510713,0.0035280341854346934,0.009702094009945407,0.0008820085463586734,0.00012165635122188598,6.082817561094299e-05,6.082817561094299e-05,0.0005474535804984869,0.00027372679024924345,0.00013686339512462172,0.00013686339512462172,0.00013686339512462172,1.5207043902735748e-05,0.04882981797168449,0.03854985629343512,0.05396979881080917,0.061679770069496195,0.03597986587387278,0.07195973174774556,0.04111984671299746,0.07966970300643259,0.0025699904195623413,0.1814504478474429,0.1384753417783117,0.18622545963290194,0.16235040070560683,0.19577548320382,0.19100047141836096,0.26740065998570534,0.16712541249106586,0.009550023570918048,0.20705910977964995,0.19355525479402058,0.16204625982755214,0.13503854985629343,0.17555011481318147,0.18005139980839124,0.15754497483234234,0.11253212488024453,0.009002569990419563,0.5411882784105598,0.5761036512112411,0.5935613376115817,0.5673748080110708,0.6983074560136255,0.7506805152146475,0.6633920832129443,0.5673748080110708,0.05237305920102192,0.41027083745190773,0.5309387308201159,0.5068051521464743,0.6757402028619657,0.6837847290865129,0.5631168357183047,0.5389832570446631,0.3217810489818884,0.02413357867364163,0.012880366185617179,0.008196596663574569,0.012880366185617179,0.010538481424595873,0.010538481424595873,0.008196596663574569,0.015222250946638484,0.010538481424595873,0.0011709423805106526,0.002889338341519792,0.0034672060098237508,0.0011557353366079169,0.0023114706732158337,0.002889338341519792,0.0023114706732158337,0.0023114706732158337,0.004622941346431667,0.011435697014857282,0.011435697014857282,0.01858300764914308,0.017153545522285922,0.020012469776000245,0.014294621268571603,0.020012469776000245,0.021441931902857404,1.5207043902735748e-05,0.07192931765994008,0.0915464042944692,0.08827688985538101,0.0948159187335574,0.07519883209902828,0.08827688985538101,0.08827688985538101,0.10135494761173376,0.003269514439088186,1.5207043902735748e-05,0.018187624507671953,0.012591432351465199,0.01119238431241351,0.012591432351465199,0.025182864702930397,0.00979333627336182,0.01958667254672364,0.018187624507671953,0.0013990480390516887,0.0009124226341641448,0.0018248452683282896,0.0022810565854103617,0.0018248452683282896,0.0013686339512462172,0.0018248452683282896,0.0018248452683282896,0.0018248452683282896,1.5207043902735748e-05,0.0001976915707355647,0.0007907662829422589,0.0005930747122066941,0.0003953831414711294,0.0001976915707355647,0.0001976915707355647,0.0001976915707355647,0.00010644930731915023,0.00021289861463830045,0.00010644930731915023,0.00010644930731915023,0.00010644930731915023,0.00010644930731915023,0.13011146763180703,0.1385057558661172,0.2098572058577533,0.10912574704603172,0.1217171793974969,0.15109718821758236,0.20146291762344315,0.08394288234310132,0.012591432351465197,0.08079502425523502,0.12311622743654861,0.11926884532915646,0.1385057558661172,0.11157408111437218,0.13465837375872505,0.1385057558661172,0.11926884532915646,0.007694764214784288,0.005337672409860248,0.0011861494244133884,0.0011861494244133884,0.0047445976976535536,0.006523821834273636,0.0005930747122066942,0.0035584482732401654,0.017792241366200827,0.009489195395307107,0.015419942517374049,0.005930747122066942,0.008303045970893718,0.008303045970893718,0.014233793092960662,0.011861494244133883,0.0011861494244133884,0.005231223102541097,0.003269514439088186,0.0026156115512705486,0.003269514439088186,0.003923417326905823,0.003923417326905823,0.0026156115512705486,0.003269514439088186,0.010219133502638422,0.012773916878298028,0.011496525190468225,0.01788348362961724,0.016606091941787436,0.011496525190468225,0.012773916878298028,0.01405130856612783,6.082817561094299e-05,0.00012165635122188598,6.082817561094299e-05,9.124226341641449e-05,4.562113170820724e-05,0.0014598762146626318,0.0019465016195501757,0.0014598762146626318,0.0004866254048875439,0.0019465016195501757,0.0034063778342128077,0.0034063778342128077,0.0014598762146626318,0.02510682948341672,0.02703812405906416,0.02703812405906416,0.03090071321035904,0.040557186088596237,0.03090071321035904,0.02703812405906416,0.03476330236165392,0.00193129457564744,0.1500479021882936,0.11542146322176432,0.09233717057741146,0.13465837375872505,0.10003193479219574,0.09618455268480361,0.1308109916513329,0.13465837375872505,0.019236910536960722,0.0012773916878298028,0.0012773916878298028,0.0012773916878298028,0.0017031889171064036,0.0025547833756596056,0.0012773916878298028,0.0008515944585532018,0.0012773916878298028,0.0004257972292766009,3.0414087805471495e-05,3.0414087805471495e-05,0.03524992776654146,0.016697334205203848,0.014842074849070089,0.024118371629738893,0.029684149698140178,0.029684149698140178,0.03896044647880898,0.033394668410407696,0.003710518712267522,1.5207043902735748e-05,0.10010797001170943,0.10701196794355144,0.10010797001170943,0.08975197311394638,0.11391596587539349,0.10010797001170943,0.11046396690947247,0.05868398242065725,0.0034519989659210146,1.5207043902735748e-05,0.396903845861403,0.5000988457853678,0.5556653842059642,0.6191699995437887,0.5477273072887361,0.5556653842059642,0.46834653811645555,0.4921607688681397,0.00793807691722806,1.7951611186301493,1.7310482215362155,2.147782052646786,2.420261865296005,2.420261865296005,2.163810276920269,2.3721771924755544,1.7951611186301493,0.048084672820450425,0.05301175504493681,0.05301175504493681,0.04291427789352028,0.050487385757082684,0.050487385757082684,0.06563360148420748,0.05301175504493681,0.050487385757082684,4.562113170820724e-05,4.562113170820724e-05,4.562113170820724e-05,0.005930747122066942,0.007907662829422589,0.007907662829422589,0.007907662829422589,0.009884578536778236,0.0039538314147112945,0.010873036390456059,0.008896120683100413,0.0009884578536778236,1.5207043902735748e-05,0.006174059824510713,0.009702094009945407,0.00793807691722806,0.004410042731793367,0.004410042731793367,0.0035280341854346934,0.009702094009945407,0.00529205127815204,9.124226341641449e-05,9.124226341641449e-05,9.124226341641449e-05,0.00027372679024924345,0.00015207043902735746,7.603521951367873e-05,7.603521951367873e-05,7.603521951367873e-05,0.004197144117155066,0.0027980960781033774,0.003497620097629222,0.00489666813668091,0.003497620097629222,0.005596192156206755,0.006295716175732599,0.0013990480390516887,1.291762344317888,0.9103848902811783,1.181039857662069,1.5255098161468392,1.390182332456394,1.181039857662069,1.181039857662069,1.2056448546966956,0.08611748962119255,0.0042883863805714805,0.0021441931902857403,0.0021441931902857403,0.0035736553171429007,0.0007147310634285801,0.0014294621268571602,0.010006234888000122,0.008576772761142961,0.0007147310634285801,0.0004866254048875439,0.0004866254048875439,0.0009732508097750879,0.0004866254048875439,0.0007299381073313159,0.00024331270244377196,0.0004866254048875439,7.603521951367873e-05,7.603521951367873e-05,0.00015207043902735746,7.603521951367873e-05,1.5207043902735748e-05,7.603521951367873e-05,7.603521951367873e-05,0.00015207043902735746,7.603521951367873e-05,0.0020681579707720614,0.006204473912316185,0.008272631883088246,0.010340789853860307,0.018613421736948552,0.009306710868474276,0.005170394926930153,0.009306710868474276,0.0010340789853860307,25.14019373773932,24.211225839809,23.74674189084384,24.67570978877416,28.68188384859867,24.733770282394804,30.249517176356086,37.507078878936724,2.728843200170319,9.883863805714807,10.306908560045013,11.922170349305798,12.076004805425873,13.806642436776714,14.345063033196977,12.49904955975608,11.229915296765462,1.1922170349305798,0.0025547833756596056,0.0038321750634894083,0.0025547833756596056,0.0025547833756596056,0.0057482625952341125,0.0019160875317447042,0.00447087090740431,0.003193479219574507,0.00012165635122188598,0.00024331270244377196,0.00024331270244377196,0.00024331270244377196,0.00012165635122188598,0.00012165635122188598,0.00012165635122188598,0.00024331270244377196,0.00024331270244377196,0.00012165635122188598,0.00012165635122188598,1.5207043902735748e-05,0.10842622302650588,0.09093812253835977,0.07694764214784289,0.0804452622454721,0.10143098283124743,0.08394288234310132,0.1294119436122812,0.12241670341702277,0.010492860292887665,1.9688863881750027,1.9688863881750027,2.4083699569640658,2.1798385011937533,2.935750239510942,2.6193220699828164,3.0939643242750043,2.8654328685046915,0.2812694840250004,1.5207043902735748e-05,1.5207043902735748e-05,1.5207043902735748e-05,1.5207043902735748e-05,3.0414087805471495e-05,3.0414087805471495e-05,1.5207043902735748e-05,0.008409495278212867,0.00600678234158062,0.00600678234158062,0.00600678234158062,0.014416277619793487,0.021624416429690232,0.01802034702474186,0.014416277619793487,0.0015511184780790462,0.0015511184780790462,0.0010340789853860307,0.0015511184780790462,0.0025851974634650767,0.0036192764488511076,0.0031022369561580923,0.0015511184780790462,0.0010340789853860307,6.634133730744081,5.324031691479493,5.324031691479493,6.968627868428656,6.271765081585791,5.519153271795496,7.2473729831658025,7.191623960218373,0.6132392524217217,3.0414087805471495e-05,3.0414087805471495e-05,1.5207043902735748e-05,6.003102236956158,5.182165178910871,5.592633707933515,5.130856612783042,5.464362292613939,5.3873994434221935,5.977447953892243,4.463845253121246,0.07696284919174562,0.00012165635122188598,6.082817561094299e-05,6.082817561094299e-05,5.050076795571709,3.60005474535805,3.7500570264146353,4.075061968703904,5.100077555923904,6.550099606137564,6.050092002615612,6.7001018871941485,0.22500342158487813,0.058440669718213475,0.09740111619702246,0.12337474718289511,0.19480223239404493,0.3831110570416217,0.5714198816891984,0.6493407746468164,0.6623275901397527,0.03246703873234082,0.2679176994783984,0.25044480603415503,0.29703918855213735,0.3319849754406241,0.3319849754406241,0.22714761477516385,0.23297191258991162,0.28539059292264174,0.005824297814747791,0.3589926854118828,0.3825331893733177,0.32956705546008913,0.43549932328654634,0.18243890570112076,0.20597940966255568,0.17655377971076203,0.20597940966255568,0.029197524293252636,0.07007405830380632,0.06715430587448107,0.04963579129852948,0.05839504858650527,0.10219133502638422,0.07591356316245686,0.10511108745570949,0.0029197524293252636,0.003010994692741678,0.0025091622439513987,0.0020073297951611188,0.0020073297951611188,0.0010036648975805594,0.0010036648975805594,0.0020073297951611188,0.003010994692741678,0.15255706443224504,0.11241046852902264,0.11241046852902264,0.11642512811934488,0.15255706443224504,0.13649842607095608,0.11642512811934488,0.15255706443224504,0.008029319180644475,25.568378472908652,17.3885551787588,24.076461016742957,19.39492693015405,20.835398956796787,22.27587098343953,20.73250809775088,22.018643835824754,1.7491446037804712,0.003375963746407336,0.014629176234431789,0.0011253212488024453,0.004501284995209781,0.015754497483234233,0.02138110372724646,0.01687981873203668,0.004501284995209781,0.0011253212488024453,0.006539028878176372,0.013078057756352743,0.015693669307623292,0.014385863531988018,0.014385863531988018,0.022232698185799663,0.011770251980717468,0.013078057756352743,0.0013078057756352743,0.009367539044085221,0.03044450189327697,0.02810261713225566,0.021076962849191746,0.05386334950349002,0.07494031235268177,0.04683769522042611,0.09133350567983091,0.0046837695220426105,0.6790705454766648,0.5850453930260496,0.8044374154108183,0.867120850377895,1.002934959473228,1.117854590246202,1.002934959473228,1.002934959473228,0.11491963077297403,0.058030079532839604,0.043522559649629707,0.058030079532839604,0.04594047963016469,0.03868671968855974,0.03868671968855974,0.058030079532839604,0.04110463966909472,0.0024179199805349836,1.8343800848553051,1.5364893018446146,1.7873446980641434,2.2106631791845985,2.4615185754041273,2.2890554905032015,2.0225216320199517,1.8814154716464668,0.141106160373485,0.03490016575677854,0.046533554342371386,0.03722684347389711,0.04188019890813425,0.046533554342371386,0.053513587493727095,0.05816694292796424,0.03722684347389711,3.7115527912529083,2.6973494122477533,4.358916650192369,3.40944965708116,3.6899739959549263,4.358916650192369,3.7115527912529083,4.229443878404477,0.4531547012576225,0.21825149409206346,0.1945285056037957,0.18978390790614214,0.13759333323195305,0.1850393102084886,0.1613163217202208,0.19927310330144926,0.17080551711552794,0.023722988488267767,0.03202603445916148,0.02846758618592132,0.03380525859578157,0.024909137912681154,0.026688362049301237,0.017792241366200823,0.019571465502820906,0.02312991377606107,0.0017792241366200825,1.5207043902735748e-05,3.0414087805471495e-05,3.0414087805471495e-05,0.8043917942791101,0.7620553840538938,0.8361441019480224,0.9949056402925835,1.068994358186712,1.0372420505178,1.0901625632993204,0.7197189738286774,0.05292051278152041,1.2241670341702278,1.1139920010949071,1.2241670341702278,1.3098587265621437,1.5179671223710824,1.3221003969038458,1.3343420672455482,0.7834669018689457,0.024483340683404554,0.03412460651773902,0.03813926610806126,0.02810261713225566,0.04014659590322238,0.022080627746772306,0.05219057467418909,0.01806596815645007,0.0321172767225779,0.0025091622439513987,0.0020073297951611188,0.001505497346370839,0.0020073297951611188,0.0020073297951611188,0.0020073297951611188,0.003010994692741678,0.001505497346370839,4.562113170820724e-05,4.562113170820724e-05,4.562113170820724e-05,0.011557353366079168,0.011557353366079168,0.016180294712510836,0.01849176538572667,0.008090147356255418,0.0069344120196475015,0.012713088702687085,0.0023114706732158337,0.004045073678127709,0.004622941346431667,0.002889338341519792,0.0023114706732158337,0.0034672060098237508,0.002889338341519792,0.0005778676683039584,0.0011557353366079169,0.0005474535804984869,0.0005474535804984869,0.00018248452683282897,0.0005474535804984869,0.00018248452683282897,0.00018248452683282897,0.015328700253957633,0.010219133502638422,0.020438267005276844,0.015328700253957633,0.01916087531744704,0.011496525190468225,0.0038321750634894083,0.010219133502638422,0.0012773916878298028,0.0002585197463465077,0.0007755592390395231,0.0007755592390395231,0.0005170394926930154,0.0007755592390395231,0.0007755592390395231,0.0005170394926930154,0.03193479219574507,0.01916087531744704,0.0468376952204261,0.0447087090740431,0.029805806049362064,0.04257972292766009,0.04257972292766009,0.036192764488511074,0.004257972292766009,0.0029805806049362066,0.0029805806049362066,0.0014902903024681033,0.0037257257561702584,0.0029805806049362066,0.00447087090740431,0.007451451512340517,0.010432032117276724,6.082817561094299e-05,6.082817561094299e-05,6.082817561094299e-05,6.082817561094299e-05,1.5207043902735748e-05,3.0414087805471495e-05,3.0414087805471495e-05,0.0726136346355632,0.046472726166760445,0.15394090542739397,0.04066363539591539,0.0522818169376055,0.06389999847929562,0.06099545309387308,0.06099545309387308,0.002904545385422528,3.0414087805471495e-05,3.0414087805471495e-05,1.0324974528201463,0.8562173998996335,1.3724661263097067,1.3346918292553112,1.4857890174728934,1.1835946410377287,1.5109718821758238,1.5613376115816846,0.08814002646025638,5.518712267522317,7.01272829574659,7.89694186347116,7.805471494396205,8.293313462795968,8.293313462795968,7.683511002296264,8.232333216745998,0.39637159932480726,0.0032847214829909216,0.0032847214829909216,0.007390623336729574,0.0057482625952341125,0.0057482625952341125,0.008211803707477304,0.0057482625952341125,0.004927082224486382,0.07887893672349032,0.07887893672349032,0.11268419531927189,0.0901473562554175,0.13522103438312627,0.17278243282288355,0.11644033516324762,0.14273331407107773,3.0414087805471495e-05,3.0414087805471495e-05,0.00997582080019465,0.00997582080019465,0.011222798400218982,0.013716753600267643,0.008728843200170318,0.021198619200413632,0.016210708800316307,0.011222798400218982,0.0001976915707355647,0.0001976915707355647,0.0001976915707355647,0.0001976915707355647,0.0001976915707355647,0.0003953831414711294,0.0001976915707355647,0.0005930747122066941,0.0001976915707355647,0.0001976915707355647,1.5207043902735748e-05,1.5207043902735748e-05,0.00018248452683282897,9.124226341641449e-05,9.124226341641449e-05,0.00018248452683282897,0.00015207043902735746,7.603521951367873e-05,0.00015207043902735746,0.1405130856612783,0.06323088854757523,0.08430785139676698,0.11241046852902264,0.09835915996289482,0.11592329567055461,0.08782067853829895,0.10187198710442677,0.007025654283063915,0.00016727748293009323,0.0005018324487902797,0.00033455496586018646,0.00016727748293009323,0.00016727748293009323,0.00033455496586018646,0.00016727748293009323,0.002098572058577533,0.004197144117155066,0.0027980960781033774,0.002098572058577533,0.004197144117155066,0.005596192156206755,0.008394288234310132,0.0027980960781033774,0.00038017609756839366,0.0015207043902735746,0.0019008804878419684,0.0015207043902735746,0.0007603521951367873,0.0022810565854103617,0.0011405282927051809,0.0011557353366079169,0.0002889338341519792,0.0002889338341519792,0.0008668015024559377,0.0011557353366079169,0.0002889338341519792,0.0002889338341519792,0.0008668015024559377,0.0002889338341519792,0.0579844584011314,0.03553886160069344,0.022445596800437964,0.022445596800437964,0.020575130400401466,0.03179792880062045,0.014963731200291975,0.022445596800437964,0.0018704664000364969,0.0004562113170820724,0.0004562113170820724,0.0006843169756231086,0.0002281056585410362,0.0006843169756231086,0.0004562113170820724,0.0004562113170820724,1.5207043902735748e-05,0.04583403032284554,0.035417205249471555,0.02291701516142277,0.029167110205447162,0.04375066530817074,0.03958393527882115,0.04375066530817074,0.016666920117398377,0.008333460058699189,0.38203135692452744,0.4541127450234949,0.41086391216411444,0.34599066287504376,0.43969646740370144,0.4757371614531851,0.4252801897839079,0.4180720509740112,0.0648732492890707,1.5207043902735748e-05,1.5207043902735748e-05,1.5207043902735748e-05,1.5207043902735748e-05,1.5207043902735748e-05,0.05352879453762983,0.03893003239100351,0.05352879453762983,0.06569442965981842,0.03649690536656579,0.05596192156206754,0.031630651317690356,0.05352879453762983,0.839215924816375,0.8187472437232926,0.8699189464559984,0.9620280113748688,0.839215924816375,1.0746057573868215,0.7675755409905868,0.7061694977113399,0.010234340546541158,0.010705758907525967,0.012652260527076142,0.009732508097750878,0.006812755668425615,0.005839504858650527,0.007786006478200703,0.007786006478200703,0.0009732508097750879,35.46294803753098,34.196414179047736,37.362748825255856,43.34360315698231,48.902279535881014,46.158122842500646,39.54400158153256,36.51839291960036,4.081053544001581,0.21298985690171687,0.1722045651545796,0.1631411669885491,0.1722045651545796,0.11782417615839658,0.19033136148664062,0.15860946790553385,0.15860946790553385,0.004531699083015253,0.0007907662829422589,0.0001976915707355647,0.0001976915707355647,0.0003953831414711294,0.0005930747122066941,0.0003953831414711294,0.09657993582627472,0.07326753752338083,0.07326753752338083,0.08325856536747821,0.1165619915144695,0.09991027844097386,0.0932495932115756,0.0932495932115756,0.15538557459815389,0.11952736507550298,0.16733831110570418,0.1314801015830533,0.11554311957298621,0.1394485925880868,0.09562189206040239,0.11155887407046945,0.007968491005033532,0.009991027844097385,0.009991027844097385,0.017761827278395353,0.006660685229398257,0.008880913639197676,0.012211256253896805,0.009991027844097385,0.005550571024498548,6.667680469593516,6.637372831095363,7.455679070545477,7.516294347541781,9.849982511899512,7.63752490153439,7.24352560105841,6.940449216076886,0.4546145774722852,8.117307136665703,9.127115679982968,13.51589896440031,12.428412840827871,14.17615839656929,14.098480816314117,11.573959458020955,14.71990145835551,1.4370352347207227,0.5043416110342311,0.7244179503946229,0.6602290180811753,0.6510591706078256,0.6602290180811753,0.6052099332410773,0.8069465776547697,0.8619656624948677,0.05501908484009794,4.562113170820724e-05,4.562113170820724e-05,4.562113170820724e-05,0.44793868519898417,0.5119299259416962,0.6159156921486032,0.49593211575601814,0.5759211666844082,0.5199288310345351,1.5207043902735748e-05,0.5999178819629252,0.4239419699204671,0.015997810185678005,0.07664350126978817,0.12773916878298028,0.1058410255630408,0.1605863836128895,0.12043978770966711,0.0875925728797579,0.13138885931963684,0.06569442965981842,0.016606091941787436,0.013047643668547272,0.010675344819720496,0.008303045970893718,0.010675344819720496,0.011861494244133883,0.008303045970893718,0.013047643668547272,0.1751851457595158,0.30109946927416775,0.20255782478444015,0.26825225444425854,0.24635411122431908,0.2846758618592132,0.19708328897945526,0.27372679024924346,0.021898143219939475,1.9034808923493363,0.6504356818078134,0.6982618348819174,0.5930442981188887,0.5643486062744263,0.5452181450447848,0.4782615307410393,0.49739199197068085,0.08608707553338707,14.774677230493165,11.786067306376314,13.217232622150581,11.533508721239679,16.374214936358523,16.66886661901793,14.437932450310985,16.374214936358523,1.3469791207287216,17.189282075457353,14.541203485454462,16.39950425036877,16.074301616508766,18.6759226873888,18.304262534405936,18.908210283003086,19.46570051247738,2.369333475265743,0.006326130263538071,0.006326130263538071,0.0023722988488267763,0.0039538314147112945,0.0039538314147112945,0.0023722988488267763,0.007907662829422589,0.00711689654648033,0.0007907662829422589,0.1351906202953208,0.10815249623625664,0.1158776745388464,0.10042731793366688,0.12360285284143616,0.10428990708496176,0.11974026369014128,0.16222874435438495,0.01158776745388464,0.0057482625952341125,0.0016423607414954608,0.008211803707477304,0.007390623336729574,0.007390623336729574,0.002463541112243191,0.007390623336729574,0.004105901853738652,0.00024331270244377196,0.00024331270244377196,0.00012165635122188598,0.00036496905366565794,6.082817561094299e-05,6.082817561094299e-05,0.00012165635122188598,2.998266396995088,2.226782645721498,2.419653583539896,2.507322191639167,2.717726851077419,2.4021198619200415,2.1566477592420807,2.7001931294575647,0.08766860809927157,0.07147310634285801,0.06861418208914369,0.04288386380571481,0.08004987910400098,0.08004987910400098,0.05431956082057209,0.06861418208914369,0.06861418208914369,0.0028589242537143205,0.0020681579707720614,0.0015511184780790462,0.0010340789853860307,0.0036192764488511076,0.0010340789853860307,0.0031022369561580923,0.0020681579707720614,0.0031022369561580923,1.5207043902735748e-05,0.02007329795161119,0.03010994692741678,0.03613193631290014,0.04014659590322238,0.03613193631290014,0.04215392569838349,0.04014659590322238,0.01806596815645007,0.0020073297951611188,0.0009124226341641448,0.0003041408780547149,0.0003041408780547149,0.0009124226341641448,0.0009124226341641448,0.0009124226341641448,0.0003041408780547149,0.0012165635122188597,0.0003041408780547149,0.00012165635122188598,0.0001976915707355647,218.08605666144558,3.0414087805471495e-05,0.00018248452683282897,192.34328380906035,4.562113170820724e-05,0.0002281056585410362,218.96605787800908,1.5207043902735748e-05,0.00021289861463830045,223.59797138034338,0.00027372679024924345,257.3731352362414,9.124226341641449e-05,0.00036496905366565794,248.94870664091607,9.124226341641449e-05,1.5207043902735748e-05,0.0006082817561094299,238.06574005079153,9.124226341641449e-05,1.5207043902735748e-05,0.00036496905366565794,242.21703493057984,0.0007147310634285801,21.111528459982665,1.5207043902735748e-05,6.082817561094299e-05,7.603521951367873e-05,0.0005474535804984869,4.562113170820724e-05,4.562113170820724e-05,0.0002585197463465077,0.00024331270244377196,0.0005170394926930155,0.0039538314147112945,1860.70951504737,1860.7142292309798],\"type\":\"treemap\"}],                        {\"template\":{\"data\":{\"histogram2dcontour\":[{\"type\":\"histogram2dcontour\",\"colorbar\":{\"outlinewidth\":0,\"ticks\":\"\"},\"colorscale\":[[0.0,\"#0d0887\"],[0.1111111111111111,\"#46039f\"],[0.2222222222222222,\"#7201a8\"],[0.3333333333333333,\"#9c179e\"],[0.4444444444444444,\"#bd3786\"],[0.5555555555555556,\"#d8576b\"],[0.6666666666666666,\"#ed7953\"],[0.7777777777777778,\"#fb9f3a\"],[0.8888888888888888,\"#fdca26\"],[1.0,\"#f0f921\"]]}],\"choropleth\":[{\"type\":\"choropleth\",\"colorbar\":{\"outlinewidth\":0,\"ticks\":\"\"}}],\"histogram2d\":[{\"type\":\"histogram2d\",\"colorbar\":{\"outlinewidth\":0,\"ticks\":\"\"},\"colorscale\":[[0.0,\"#0d0887\"],[0.1111111111111111,\"#46039f\"],[0.2222222222222222,\"#7201a8\"],[0.3333333333333333,\"#9c179e\"],[0.4444444444444444,\"#bd3786\"],[0.5555555555555556,\"#d8576b\"],[0.6666666666666666,\"#ed7953\"],[0.7777777777777778,\"#fb9f3a\"],[0.8888888888888888,\"#fdca26\"],[1.0,\"#f0f921\"]]}],\"heatmap\":[{\"type\":\"heatmap\",\"colorbar\":{\"outlinewidth\":0,\"ticks\":\"\"},\"colorscale\":[[0.0,\"#0d0887\"],[0.1111111111111111,\"#46039f\"],[0.2222222222222222,\"#7201a8\"],[0.3333333333333333,\"#9c179e\"],[0.4444444444444444,\"#bd3786\"],[0.5555555555555556,\"#d8576b\"],[0.6666666666666666,\"#ed7953\"],[0.7777777777777778,\"#fb9f3a\"],[0.8888888888888888,\"#fdca26\"],[1.0,\"#f0f921\"]]}],\"heatmapgl\":[{\"type\":\"heatmapgl\",\"colorbar\":{\"outlinewidth\":0,\"ticks\":\"\"},\"colorscale\":[[0.0,\"#0d0887\"],[0.1111111111111111,\"#46039f\"],[0.2222222222222222,\"#7201a8\"],[0.3333333333333333,\"#9c179e\"],[0.4444444444444444,\"#bd3786\"],[0.5555555555555556,\"#d8576b\"],[0.6666666666666666,\"#ed7953\"],[0.7777777777777778,\"#fb9f3a\"],[0.8888888888888888,\"#fdca26\"],[1.0,\"#f0f921\"]]}],\"contourcarpet\":[{\"type\":\"contourcarpet\",\"colorbar\":{\"outlinewidth\":0,\"ticks\":\"\"}}],\"contour\":[{\"type\":\"contour\",\"colorbar\":{\"outlinewidth\":0,\"ticks\":\"\"},\"colorscale\":[[0.0,\"#0d0887\"],[0.1111111111111111,\"#46039f\"],[0.2222222222222222,\"#7201a8\"],[0.3333333333333333,\"#9c179e\"],[0.4444444444444444,\"#bd3786\"],[0.5555555555555556,\"#d8576b\"],[0.6666666666666666,\"#ed7953\"],[0.7777777777777778,\"#fb9f3a\"],[0.8888888888888888,\"#fdca26\"],[1.0,\"#f0f921\"]]}],\"surface\":[{\"type\":\"surface\",\"colorbar\":{\"outlinewidth\":0,\"ticks\":\"\"},\"colorscale\":[[0.0,\"#0d0887\"],[0.1111111111111111,\"#46039f\"],[0.2222222222222222,\"#7201a8\"],[0.3333333333333333,\"#9c179e\"],[0.4444444444444444,\"#bd3786\"],[0.5555555555555556,\"#d8576b\"],[0.6666666666666666,\"#ed7953\"],[0.7777777777777778,\"#fb9f3a\"],[0.8888888888888888,\"#fdca26\"],[1.0,\"#f0f921\"]]}],\"mesh3d\":[{\"type\":\"mesh3d\",\"colorbar\":{\"outlinewidth\":0,\"ticks\":\"\"}}],\"scatter\":[{\"fillpattern\":{\"fillmode\":\"overlay\",\"size\":10,\"solidity\":0.2},\"type\":\"scatter\"}],\"parcoords\":[{\"type\":\"parcoords\",\"line\":{\"colorbar\":{\"outlinewidth\":0,\"ticks\":\"\"}}}],\"scatterpolargl\":[{\"type\":\"scatterpolargl\",\"marker\":{\"colorbar\":{\"outlinewidth\":0,\"ticks\":\"\"}}}],\"bar\":[{\"error_x\":{\"color\":\"#2a3f5f\"},\"error_y\":{\"color\":\"#2a3f5f\"},\"marker\":{\"line\":{\"color\":\"#E5ECF6\",\"width\":0.5},\"pattern\":{\"fillmode\":\"overlay\",\"size\":10,\"solidity\":0.2}},\"type\":\"bar\"}],\"scattergeo\":[{\"type\":\"scattergeo\",\"marker\":{\"colorbar\":{\"outlinewidth\":0,\"ticks\":\"\"}}}],\"scatterpolar\":[{\"type\":\"scatterpolar\",\"marker\":{\"colorbar\":{\"outlinewidth\":0,\"ticks\":\"\"}}}],\"histogram\":[{\"marker\":{\"pattern\":{\"fillmode\":\"overlay\",\"size\":10,\"solidity\":0.2}},\"type\":\"histogram\"}],\"scattergl\":[{\"type\":\"scattergl\",\"marker\":{\"colorbar\":{\"outlinewidth\":0,\"ticks\":\"\"}}}],\"scatter3d\":[{\"type\":\"scatter3d\",\"line\":{\"colorbar\":{\"outlinewidth\":0,\"ticks\":\"\"}},\"marker\":{\"colorbar\":{\"outlinewidth\":0,\"ticks\":\"\"}}}],\"scattermapbox\":[{\"type\":\"scattermapbox\",\"marker\":{\"colorbar\":{\"outlinewidth\":0,\"ticks\":\"\"}}}],\"scatterternary\":[{\"type\":\"scatterternary\",\"marker\":{\"colorbar\":{\"outlinewidth\":0,\"ticks\":\"\"}}}],\"scattercarpet\":[{\"type\":\"scattercarpet\",\"marker\":{\"colorbar\":{\"outlinewidth\":0,\"ticks\":\"\"}}}],\"carpet\":[{\"aaxis\":{\"endlinecolor\":\"#2a3f5f\",\"gridcolor\":\"white\",\"linecolor\":\"white\",\"minorgridcolor\":\"white\",\"startlinecolor\":\"#2a3f5f\"},\"baxis\":{\"endlinecolor\":\"#2a3f5f\",\"gridcolor\":\"white\",\"linecolor\":\"white\",\"minorgridcolor\":\"white\",\"startlinecolor\":\"#2a3f5f\"},\"type\":\"carpet\"}],\"table\":[{\"cells\":{\"fill\":{\"color\":\"#EBF0F8\"},\"line\":{\"color\":\"white\"}},\"header\":{\"fill\":{\"color\":\"#C8D4E3\"},\"line\":{\"color\":\"white\"}},\"type\":\"table\"}],\"barpolar\":[{\"marker\":{\"line\":{\"color\":\"#E5ECF6\",\"width\":0.5},\"pattern\":{\"fillmode\":\"overlay\",\"size\":10,\"solidity\":0.2}},\"type\":\"barpolar\"}],\"pie\":[{\"automargin\":true,\"type\":\"pie\"}]},\"layout\":{\"autotypenumbers\":\"strict\",\"colorway\":[\"#636efa\",\"#EF553B\",\"#00cc96\",\"#ab63fa\",\"#FFA15A\",\"#19d3f3\",\"#FF6692\",\"#B6E880\",\"#FF97FF\",\"#FECB52\"],\"font\":{\"color\":\"#2a3f5f\"},\"hovermode\":\"closest\",\"hoverlabel\":{\"align\":\"left\"},\"paper_bgcolor\":\"white\",\"plot_bgcolor\":\"#E5ECF6\",\"polar\":{\"bgcolor\":\"#E5ECF6\",\"angularaxis\":{\"gridcolor\":\"white\",\"linecolor\":\"white\",\"ticks\":\"\"},\"radialaxis\":{\"gridcolor\":\"white\",\"linecolor\":\"white\",\"ticks\":\"\"}},\"ternary\":{\"bgcolor\":\"#E5ECF6\",\"aaxis\":{\"gridcolor\":\"white\",\"linecolor\":\"white\",\"ticks\":\"\"},\"baxis\":{\"gridcolor\":\"white\",\"linecolor\":\"white\",\"ticks\":\"\"},\"caxis\":{\"gridcolor\":\"white\",\"linecolor\":\"white\",\"ticks\":\"\"}},\"coloraxis\":{\"colorbar\":{\"outlinewidth\":0,\"ticks\":\"\"}},\"colorscale\":{\"sequential\":[[0.0,\"#0d0887\"],[0.1111111111111111,\"#46039f\"],[0.2222222222222222,\"#7201a8\"],[0.3333333333333333,\"#9c179e\"],[0.4444444444444444,\"#bd3786\"],[0.5555555555555556,\"#d8576b\"],[0.6666666666666666,\"#ed7953\"],[0.7777777777777778,\"#fb9f3a\"],[0.8888888888888888,\"#fdca26\"],[1.0,\"#f0f921\"]],\"sequentialminus\":[[0.0,\"#0d0887\"],[0.1111111111111111,\"#46039f\"],[0.2222222222222222,\"#7201a8\"],[0.3333333333333333,\"#9c179e\"],[0.4444444444444444,\"#bd3786\"],[0.5555555555555556,\"#d8576b\"],[0.6666666666666666,\"#ed7953\"],[0.7777777777777778,\"#fb9f3a\"],[0.8888888888888888,\"#fdca26\"],[1.0,\"#f0f921\"]],\"diverging\":[[0,\"#8e0152\"],[0.1,\"#c51b7d\"],[0.2,\"#de77ae\"],[0.3,\"#f1b6da\"],[0.4,\"#fde0ef\"],[0.5,\"#f7f7f7\"],[0.6,\"#e6f5d0\"],[0.7,\"#b8e186\"],[0.8,\"#7fbc41\"],[0.9,\"#4d9221\"],[1,\"#276419\"]]},\"xaxis\":{\"gridcolor\":\"white\",\"linecolor\":\"white\",\"ticks\":\"\",\"title\":{\"standoff\":15},\"zerolinecolor\":\"white\",\"automargin\":true,\"zerolinewidth\":2},\"yaxis\":{\"gridcolor\":\"white\",\"linecolor\":\"white\",\"ticks\":\"\",\"title\":{\"standoff\":15},\"zerolinecolor\":\"white\",\"automargin\":true,\"zerolinewidth\":2},\"scene\":{\"xaxis\":{\"backgroundcolor\":\"#E5ECF6\",\"gridcolor\":\"white\",\"linecolor\":\"white\",\"showbackground\":true,\"ticks\":\"\",\"zerolinecolor\":\"white\",\"gridwidth\":2},\"yaxis\":{\"backgroundcolor\":\"#E5ECF6\",\"gridcolor\":\"white\",\"linecolor\":\"white\",\"showbackground\":true,\"ticks\":\"\",\"zerolinecolor\":\"white\",\"gridwidth\":2},\"zaxis\":{\"backgroundcolor\":\"#E5ECF6\",\"gridcolor\":\"white\",\"linecolor\":\"white\",\"showbackground\":true,\"ticks\":\"\",\"zerolinecolor\":\"white\",\"gridwidth\":2}},\"shapedefaults\":{\"line\":{\"color\":\"#2a3f5f\"}},\"annotationdefaults\":{\"arrowcolor\":\"#2a3f5f\",\"arrowhead\":0,\"arrowwidth\":1},\"geo\":{\"bgcolor\":\"white\",\"landcolor\":\"#E5ECF6\",\"subunitcolor\":\"white\",\"showland\":true,\"showlakes\":true,\"lakecolor\":\"white\"},\"title\":{\"x\":0.05},\"mapbox\":{\"style\":\"light\"}}},\"legend\":{\"tracegroupgap\":0},\"margin\":{\"t\":60}},                        {\"responsive\": true}                    ).then(function(){\n",
       "                            \n",
       "var gd = document.getElementById('867573cd-946a-4327-9752-6a9bf7d7eac5');\n",
       "var x = new MutationObserver(function (mutations, observer) {{\n",
       "        var display = window.getComputedStyle(gd).display;\n",
       "        if (!display || display === 'none') {{\n",
       "            console.log([gd, 'removed!']);\n",
       "            Plotly.purge(gd);\n",
       "            observer.disconnect();\n",
       "        }}\n",
       "}});\n",
       "\n",
       "// Listen for the removal of the full notebook cells\n",
       "var notebookContainer = gd.closest('#notebook-container');\n",
       "if (notebookContainer) {{\n",
       "    x.observe(notebookContainer, {childList: true});\n",
       "}}\n",
       "\n",
       "// Listen for the clearing of the current output cell\n",
       "var outputEl = gd.closest('.output');\n",
       "if (outputEl) {{\n",
       "    x.observe(outputEl, {childList: true});\n",
       "}}\n",
       "\n",
       "                        })                };                });            </script>        </div>"
      ]
     },
     "metadata": {},
     "output_type": "display_data"
    }
   ],
   "source": [
    "fig = px.treemap(no_outliers, path=[px.Constant(\"all\"), 'year', 'month', 'description'], values='offense_code_ratio', hover_data=['offense_code_ratio'])\n",
    "fig"
   ]
  },
  {
   "cell_type": "code",
   "execution_count": 303,
   "id": "1ab7c2c5-1edd-42d4-badc-9115586a2305",
   "metadata": {},
   "outputs": [
    {
     "data": {
      "text/html": [
       "<div>\n",
       "<style scoped>\n",
       "    .dataframe tbody tr th:only-of-type {\n",
       "        vertical-align: middle;\n",
       "    }\n",
       "\n",
       "    .dataframe tbody tr th {\n",
       "        vertical-align: top;\n",
       "    }\n",
       "\n",
       "    .dataframe thead th {\n",
       "        text-align: right;\n",
       "    }\n",
       "</style>\n",
       "<table border=\"1\" class=\"dataframe\">\n",
       "  <thead>\n",
       "    <tr style=\"text-align: right;\">\n",
       "      <th></th>\n",
       "      <th>offense_code</th>\n",
       "      <th>description</th>\n",
       "      <th>date</th>\n",
       "      <th>year</th>\n",
       "      <th>month</th>\n",
       "      <th>day_of_week</th>\n",
       "      <th>time_period</th>\n",
       "      <th>day</th>\n",
       "      <th>is_weekend</th>\n",
       "      <th>description_length</th>\n",
       "      <th>offense_category</th>\n",
       "      <th>hour</th>\n",
       "      <th>monthly_crime_ratio</th>\n",
       "      <th>day_crime_ratio</th>\n",
       "      <th>offense_code_ratio</th>\n",
       "      <th>hourly_crime_ratio</th>\n",
       "      <th>cumulative_monthly_crime</th>\n",
       "    </tr>\n",
       "  </thead>\n",
       "  <tbody>\n",
       "    <tr>\n",
       "      <th>0</th>\n",
       "      <td>619</td>\n",
       "      <td>LARCENY ALL OTHERS</td>\n",
       "      <td>2018-09-02 13:00:00</td>\n",
       "      <td>2018</td>\n",
       "      <td>9</td>\n",
       "      <td>Sunday</td>\n",
       "      <td>&lt;bound method Series.apply of 0        2018-09...</td>\n",
       "      <td>2</td>\n",
       "      <td>True</td>\n",
       "      <td>18</td>\n",
       "      <td>&lt;bound method Series.apply of 0         619\\n1...</td>\n",
       "      <td>13</td>\n",
       "      <td>0.010219</td>\n",
       "      <td>0.123816</td>\n",
       "      <td>0.017579</td>\n",
       "      <td>0.054700</td>\n",
       "      <td>1</td>\n",
       "    </tr>\n",
       "    <tr>\n",
       "      <th>1</th>\n",
       "      <td>1402</td>\n",
       "      <td>VANDALISM</td>\n",
       "      <td>2018-08-21 00:00:00</td>\n",
       "      <td>2018</td>\n",
       "      <td>8</td>\n",
       "      <td>Tuesday</td>\n",
       "      <td>&lt;bound method Series.apply of 0        2018-09...</td>\n",
       "      <td>21</td>\n",
       "      <td>False</td>\n",
       "      <td>9</td>\n",
       "      <td>&lt;bound method Series.apply of 0         619\\n1...</td>\n",
       "      <td>0</td>\n",
       "      <td>0.126918</td>\n",
       "      <td>0.145379</td>\n",
       "      <td>0.042093</td>\n",
       "      <td>0.046792</td>\n",
       "      <td>1</td>\n",
       "    </tr>\n",
       "    <tr>\n",
       "      <th>2</th>\n",
       "      <td>3410</td>\n",
       "      <td>TOWED MOTOR VEHICLE</td>\n",
       "      <td>2018-09-03 19:27:00</td>\n",
       "      <td>2018</td>\n",
       "      <td>9</td>\n",
       "      <td>Monday</td>\n",
       "      <td>&lt;bound method Series.apply of 0        2018-09...</td>\n",
       "      <td>3</td>\n",
       "      <td>False</td>\n",
       "      <td>19</td>\n",
       "      <td>&lt;bound method Series.apply of 0         619\\n1...</td>\n",
       "      <td>19</td>\n",
       "      <td>0.010219</td>\n",
       "      <td>0.145151</td>\n",
       "      <td>0.038839</td>\n",
       "      <td>0.053498</td>\n",
       "      <td>2</td>\n",
       "    </tr>\n",
       "    <tr>\n",
       "      <th>3</th>\n",
       "      <td>3114</td>\n",
       "      <td>INVESTIGATE PROPERTY</td>\n",
       "      <td>2018-09-03 21:16:00</td>\n",
       "      <td>2018</td>\n",
       "      <td>9</td>\n",
       "      <td>Monday</td>\n",
       "      <td>&lt;bound method Series.apply of 0        2018-09...</td>\n",
       "      <td>3</td>\n",
       "      <td>False</td>\n",
       "      <td>20</td>\n",
       "      <td>&lt;bound method Series.apply of 0         619\\n1...</td>\n",
       "      <td>21</td>\n",
       "      <td>0.010219</td>\n",
       "      <td>0.145151</td>\n",
       "      <td>0.038459</td>\n",
       "      <td>0.044648</td>\n",
       "      <td>3</td>\n",
       "    </tr>\n",
       "    <tr>\n",
       "      <th>4</th>\n",
       "      <td>3114</td>\n",
       "      <td>INVESTIGATE PROPERTY</td>\n",
       "      <td>2018-09-03 21:05:00</td>\n",
       "      <td>2018</td>\n",
       "      <td>9</td>\n",
       "      <td>Monday</td>\n",
       "      <td>&lt;bound method Series.apply of 0        2018-09...</td>\n",
       "      <td>3</td>\n",
       "      <td>False</td>\n",
       "      <td>20</td>\n",
       "      <td>&lt;bound method Series.apply of 0         619\\n1...</td>\n",
       "      <td>21</td>\n",
       "      <td>0.010219</td>\n",
       "      <td>0.145151</td>\n",
       "      <td>0.038459</td>\n",
       "      <td>0.044648</td>\n",
       "      <td>4</td>\n",
       "    </tr>\n",
       "    <tr>\n",
       "      <th>...</th>\n",
       "      <td>...</td>\n",
       "      <td>...</td>\n",
       "      <td>...</td>\n",
       "      <td>...</td>\n",
       "      <td>...</td>\n",
       "      <td>...</td>\n",
       "      <td>...</td>\n",
       "      <td>...</td>\n",
       "      <td>...</td>\n",
       "      <td>...</td>\n",
       "      <td>...</td>\n",
       "      <td>...</td>\n",
       "      <td>...</td>\n",
       "      <td>...</td>\n",
       "      <td>...</td>\n",
       "      <td>...</td>\n",
       "      <td>...</td>\n",
       "    </tr>\n",
       "    <tr>\n",
       "      <th>65754</th>\n",
       "      <td>403</td>\n",
       "      <td>ASSAULT &amp; BATTERY D/W - OTHER</td>\n",
       "      <td>2016-06-14 09:40:00</td>\n",
       "      <td>2016</td>\n",
       "      <td>6</td>\n",
       "      <td>Tuesday</td>\n",
       "      <td>&lt;bound method Series.apply of 0        2018-09...</td>\n",
       "      <td>14</td>\n",
       "      <td>False</td>\n",
       "      <td>29</td>\n",
       "      <td>&lt;bound method Series.apply of 0         619\\n1...</td>\n",
       "      <td>9</td>\n",
       "      <td>0.134445</td>\n",
       "      <td>0.145379</td>\n",
       "      <td>0.000046</td>\n",
       "      <td>0.046108</td>\n",
       "      <td>8840</td>\n",
       "    </tr>\n",
       "    <tr>\n",
       "      <th>65755</th>\n",
       "      <td>629</td>\n",
       "      <td>LARCENY OTHER $50 TO $199</td>\n",
       "      <td>2016-06-05 17:23:00</td>\n",
       "      <td>2016</td>\n",
       "      <td>6</td>\n",
       "      <td>Sunday</td>\n",
       "      <td>&lt;bound method Series.apply of 0        2018-09...</td>\n",
       "      <td>5</td>\n",
       "      <td>True</td>\n",
       "      <td>25</td>\n",
       "      <td>&lt;bound method Series.apply of 0         619\\n1...</td>\n",
       "      <td>17</td>\n",
       "      <td>0.134445</td>\n",
       "      <td>0.123816</td>\n",
       "      <td>0.000030</td>\n",
       "      <td>0.062242</td>\n",
       "      <td>8841</td>\n",
       "    </tr>\n",
       "    <tr>\n",
       "      <th>65756</th>\n",
       "      <td>2910</td>\n",
       "      <td>VAL - OPERATING AFTER REV/SUSP.</td>\n",
       "      <td>2016-07-29 18:20:00</td>\n",
       "      <td>2016</td>\n",
       "      <td>7</td>\n",
       "      <td>Friday</td>\n",
       "      <td>&lt;bound method Series.apply of 0        2018-09...</td>\n",
       "      <td>29</td>\n",
       "      <td>False</td>\n",
       "      <td>31</td>\n",
       "      <td>&lt;bound method Series.apply of 0         619\\n1...</td>\n",
       "      <td>18</td>\n",
       "      <td>0.130005</td>\n",
       "      <td>0.151523</td>\n",
       "      <td>0.000015</td>\n",
       "      <td>0.063368</td>\n",
       "      <td>8549</td>\n",
       "    </tr>\n",
       "    <tr>\n",
       "      <th>65757</th>\n",
       "      <td>1864</td>\n",
       "      <td>DRUGS - POSS CLASS D - INTENT MFR DIST DISP</td>\n",
       "      <td>2018-01-27 14:01:00</td>\n",
       "      <td>2018</td>\n",
       "      <td>1</td>\n",
       "      <td>Saturday</td>\n",
       "      <td>&lt;bound method Series.apply of 0        2018-09...</td>\n",
       "      <td>27</td>\n",
       "      <td>True</td>\n",
       "      <td>43</td>\n",
       "      <td>&lt;bound method Series.apply of 0         619\\n1...</td>\n",
       "      <td>14</td>\n",
       "      <td>0.118432</td>\n",
       "      <td>0.140331</td>\n",
       "      <td>0.000015</td>\n",
       "      <td>0.055567</td>\n",
       "      <td>7787</td>\n",
       "    </tr>\n",
       "    <tr>\n",
       "      <th>65758</th>\n",
       "      <td>3125</td>\n",
       "      <td>WARRANT ARREST</td>\n",
       "      <td>2018-01-27 14:01:00</td>\n",
       "      <td>2018</td>\n",
       "      <td>1</td>\n",
       "      <td>Saturday</td>\n",
       "      <td>&lt;bound method Series.apply of 0        2018-09...</td>\n",
       "      <td>27</td>\n",
       "      <td>True</td>\n",
       "      <td>14</td>\n",
       "      <td>&lt;bound method Series.apply of 0         619\\n1...</td>\n",
       "      <td>14</td>\n",
       "      <td>0.118432</td>\n",
       "      <td>0.140331</td>\n",
       "      <td>0.017534</td>\n",
       "      <td>0.055567</td>\n",
       "      <td>7788</td>\n",
       "    </tr>\n",
       "  </tbody>\n",
       "</table>\n",
       "<p>65759 rows × 17 columns</p>\n",
       "</div>"
      ],
      "text/plain": [
       "       offense_code                                  description  \\\n",
       "0               619                           LARCENY ALL OTHERS   \n",
       "1              1402                                    VANDALISM   \n",
       "2              3410                          TOWED MOTOR VEHICLE   \n",
       "3              3114                         INVESTIGATE PROPERTY   \n",
       "4              3114                         INVESTIGATE PROPERTY   \n",
       "...             ...                                          ...   \n",
       "65754           403                ASSAULT & BATTERY D/W - OTHER   \n",
       "65755           629                    LARCENY OTHER $50 TO $199   \n",
       "65756          2910              VAL - OPERATING AFTER REV/SUSP.   \n",
       "65757          1864  DRUGS - POSS CLASS D - INTENT MFR DIST DISP   \n",
       "65758          3125                               WARRANT ARREST   \n",
       "\n",
       "                     date  year  month day_of_week  \\\n",
       "0     2018-09-02 13:00:00  2018      9      Sunday   \n",
       "1     2018-08-21 00:00:00  2018      8     Tuesday   \n",
       "2     2018-09-03 19:27:00  2018      9      Monday   \n",
       "3     2018-09-03 21:16:00  2018      9      Monday   \n",
       "4     2018-09-03 21:05:00  2018      9      Monday   \n",
       "...                   ...   ...    ...         ...   \n",
       "65754 2016-06-14 09:40:00  2016      6     Tuesday   \n",
       "65755 2016-06-05 17:23:00  2016      6      Sunday   \n",
       "65756 2016-07-29 18:20:00  2016      7      Friday   \n",
       "65757 2018-01-27 14:01:00  2018      1    Saturday   \n",
       "65758 2018-01-27 14:01:00  2018      1    Saturday   \n",
       "\n",
       "                                             time_period  day  is_weekend  \\\n",
       "0      <bound method Series.apply of 0        2018-09...    2        True   \n",
       "1      <bound method Series.apply of 0        2018-09...   21       False   \n",
       "2      <bound method Series.apply of 0        2018-09...    3       False   \n",
       "3      <bound method Series.apply of 0        2018-09...    3       False   \n",
       "4      <bound method Series.apply of 0        2018-09...    3       False   \n",
       "...                                                  ...  ...         ...   \n",
       "65754  <bound method Series.apply of 0        2018-09...   14       False   \n",
       "65755  <bound method Series.apply of 0        2018-09...    5        True   \n",
       "65756  <bound method Series.apply of 0        2018-09...   29       False   \n",
       "65757  <bound method Series.apply of 0        2018-09...   27        True   \n",
       "65758  <bound method Series.apply of 0        2018-09...   27        True   \n",
       "\n",
       "       description_length                                   offense_category  \\\n",
       "0                      18  <bound method Series.apply of 0         619\\n1...   \n",
       "1                       9  <bound method Series.apply of 0         619\\n1...   \n",
       "2                      19  <bound method Series.apply of 0         619\\n1...   \n",
       "3                      20  <bound method Series.apply of 0         619\\n1...   \n",
       "4                      20  <bound method Series.apply of 0         619\\n1...   \n",
       "...                   ...                                                ...   \n",
       "65754                  29  <bound method Series.apply of 0         619\\n1...   \n",
       "65755                  25  <bound method Series.apply of 0         619\\n1...   \n",
       "65756                  31  <bound method Series.apply of 0         619\\n1...   \n",
       "65757                  43  <bound method Series.apply of 0         619\\n1...   \n",
       "65758                  14  <bound method Series.apply of 0         619\\n1...   \n",
       "\n",
       "       hour  monthly_crime_ratio  day_crime_ratio  offense_code_ratio  \\\n",
       "0        13             0.010219         0.123816            0.017579   \n",
       "1         0             0.126918         0.145379            0.042093   \n",
       "2        19             0.010219         0.145151            0.038839   \n",
       "3        21             0.010219         0.145151            0.038459   \n",
       "4        21             0.010219         0.145151            0.038459   \n",
       "...     ...                  ...              ...                 ...   \n",
       "65754     9             0.134445         0.145379            0.000046   \n",
       "65755    17             0.134445         0.123816            0.000030   \n",
       "65756    18             0.130005         0.151523            0.000015   \n",
       "65757    14             0.118432         0.140331            0.000015   \n",
       "65758    14             0.118432         0.140331            0.017534   \n",
       "\n",
       "       hourly_crime_ratio  cumulative_monthly_crime  \n",
       "0                0.054700                         1  \n",
       "1                0.046792                         1  \n",
       "2                0.053498                         2  \n",
       "3                0.044648                         3  \n",
       "4                0.044648                         4  \n",
       "...                   ...                       ...  \n",
       "65754            0.046108                      8840  \n",
       "65755            0.062242                      8841  \n",
       "65756            0.063368                      8549  \n",
       "65757            0.055567                      7787  \n",
       "65758            0.055567                      7788  \n",
       "\n",
       "[65759 rows x 17 columns]"
      ]
     },
     "execution_count": 303,
     "metadata": {},
     "output_type": "execute_result"
    }
   ],
   "source": [
    "df"
   ]
  },
  {
   "cell_type": "code",
   "execution_count": null,
   "id": "b7f13968-123c-43dd-870a-223a64bab00b",
   "metadata": {},
   "outputs": [],
   "source": [
    "#The datasets show crime reports thought the years and what crimes they were\n",
    "#The data cleanings process was mainly getting rid of usless info and irrelevant rows and charts. making things simpler\n",
    "#The analysis process was mainly a quest to narrow down the data to the year and how many offense codes were in that year\n",
    "#The Data sets show thatr there as been a huge jump in crime throught the years especially in 2018"
   ]
  }
 ],
 "metadata": {
  "kernelspec": {
   "display_name": "Python 3 (ipykernel)",
   "language": "python",
   "name": "python3"
  },
  "language_info": {
   "codemirror_mode": {
    "name": "ipython",
    "version": 3
   },
   "file_extension": ".py",
   "mimetype": "text/x-python",
   "name": "python",
   "nbconvert_exporter": "python",
   "pygments_lexer": "ipython3",
   "version": "3.12.4"
  }
 },
 "nbformat": 4,
 "nbformat_minor": 5
}
